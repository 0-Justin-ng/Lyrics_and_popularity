{
 "cells": [
  {
   "cell_type": "code",
   "execution_count": 14,
   "metadata": {},
   "outputs": [],
   "source": [
    "import pandas as pd\n",
    "import numpy as np\n",
    "import re\n",
    "\n",
    "import matplotlib.pyplot as plt\n",
    "\n",
    "import json\n",
    "from pathlib import Path\n",
    "import os"
   ]
  },
  {
   "cell_type": "code",
   "execution_count": 15,
   "metadata": {},
   "outputs": [],
   "source": [
    "cwd = os.getcwd()\n",
    "parent_path = Path(cwd).parent\n",
    "\n",
    "DATA_PATH = parent_path / 'data' / 'genius-expertise'"
   ]
  },
  {
   "cell_type": "code",
   "execution_count": 16,
   "metadata": {},
   "outputs": [],
   "source": [
    "def json_loader(file_path):\n",
    "    with open(file_path) as f:\n",
    "        lines = f.read().splitlines()\n",
    "        \n",
    "    df_inter = pd.DataFrame(lines)\n",
    "    df_inter.columns = ['json_element']\n",
    "    df_inter['json_element'].apply(json.loads)\n",
    "\n",
    "    return pd.json_normalize(df_inter['json_element'].apply(json.loads))"
   ]
  },
  {
   "cell_type": "code",
   "execution_count": 17,
   "metadata": {},
   "outputs": [],
   "source": [
    "lyrics_df = json_loader(DATA_PATH / 'lyrics.jl')"
   ]
  },
  {
   "cell_type": "code",
   "execution_count": 18,
   "metadata": {},
   "outputs": [
    {
     "data": {
      "text/html": [
       "<div>\n",
       "<style scoped>\n",
       "    .dataframe tbody tr th:only-of-type {\n",
       "        vertical-align: middle;\n",
       "    }\n",
       "\n",
       "    .dataframe tbody tr th {\n",
       "        vertical-align: top;\n",
       "    }\n",
       "\n",
       "    .dataframe thead th {\n",
       "        text-align: right;\n",
       "    }\n",
       "</style>\n",
       "<table border=\"1\" class=\"dataframe\">\n",
       "  <thead>\n",
       "    <tr style=\"text-align: right;\">\n",
       "      <th></th>\n",
       "      <th>song</th>\n",
       "      <th>lyrics</th>\n",
       "    </tr>\n",
       "  </thead>\n",
       "  <tbody>\n",
       "    <tr>\n",
       "      <th>0</th>\n",
       "      <td>Kendrick-lamar-swimming-pools-drank-lyrics</td>\n",
       "      <td>\\n\\n[Produced by T-Minus]\\n\\n[Intro]\\nPour up ...</td>\n",
       "    </tr>\n",
       "    <tr>\n",
       "      <th>1</th>\n",
       "      <td>Kendrick-lamar-money-trees-lyrics</td>\n",
       "      <td>\\n\\n[Produced by DJ Dahi]\\n\\n[Verse 1: Kendric...</td>\n",
       "    </tr>\n",
       "    <tr>\n",
       "      <th>2</th>\n",
       "      <td>Kendrick-lamar-xxx-lyrics</td>\n",
       "      <td>\\n\\n[Intro: Bēkon &amp; Kid Capri]\\nAmerica, God b...</td>\n",
       "    </tr>\n",
       "    <tr>\n",
       "      <th>3</th>\n",
       "      <td>A-ap-rocky-fuckin-problems-lyrics</td>\n",
       "      <td>\\n\\n[Chorus: 2 Chainz, Drake &amp; Both (A$AP Rock...</td>\n",
       "    </tr>\n",
       "    <tr>\n",
       "      <th>4</th>\n",
       "      <td>Kendrick-lamar-dna-lyrics</td>\n",
       "      <td>\\n\\n[Verse 1]\\nI got, I got, I got, I got—\\nLo...</td>\n",
       "    </tr>\n",
       "  </tbody>\n",
       "</table>\n",
       "</div>"
      ],
      "text/plain": [
       "                                         song  \\\n",
       "0  Kendrick-lamar-swimming-pools-drank-lyrics   \n",
       "1           Kendrick-lamar-money-trees-lyrics   \n",
       "2                   Kendrick-lamar-xxx-lyrics   \n",
       "3           A-ap-rocky-fuckin-problems-lyrics   \n",
       "4                   Kendrick-lamar-dna-lyrics   \n",
       "\n",
       "                                              lyrics  \n",
       "0  \\n\\n[Produced by T-Minus]\\n\\n[Intro]\\nPour up ...  \n",
       "1  \\n\\n[Produced by DJ Dahi]\\n\\n[Verse 1: Kendric...  \n",
       "2  \\n\\n[Intro: Bēkon & Kid Capri]\\nAmerica, God b...  \n",
       "3  \\n\\n[Chorus: 2 Chainz, Drake & Both (A$AP Rock...  \n",
       "4  \\n\\n[Verse 1]\\nI got, I got, I got, I got—\\nLo...  "
      ]
     },
     "metadata": {},
     "output_type": "display_data"
    },
    {
     "name": "stdout",
     "output_type": "stream",
     "text": [
      "<class 'pandas.core.frame.DataFrame'>\n",
      "RangeIndex: 37993 entries, 0 to 37992\n",
      "Data columns (total 2 columns):\n",
      " #   Column  Non-Null Count  Dtype \n",
      "---  ------  --------------  ----- \n",
      " 0   song    37993 non-null  object\n",
      " 1   lyrics  37993 non-null  object\n",
      "dtypes: object(2)\n",
      "memory usage: 593.8+ KB\n"
     ]
    },
    {
     "data": {
      "text/plain": [
       "None"
      ]
     },
     "metadata": {},
     "output_type": "display_data"
    },
    {
     "data": {
      "text/plain": [
       "(37993, 2)"
      ]
     },
     "metadata": {},
     "output_type": "display_data"
    }
   ],
   "source": [
    "display(lyrics_df.head())\n",
    "display(lyrics_df.info())\n",
    "display(lyrics_df.shape)"
   ]
  },
  {
   "cell_type": "code",
   "execution_count": 19,
   "metadata": {},
   "outputs": [],
   "source": [
    "song_info_df = json_loader(DATA_PATH / 'song_info.json')"
   ]
  },
  {
   "cell_type": "code",
   "execution_count": 20,
   "metadata": {},
   "outputs": [
    {
     "data": {
      "text/html": [
       "<div>\n",
       "<style scoped>\n",
       "    .dataframe tbody tr th:only-of-type {\n",
       "        vertical-align: middle;\n",
       "    }\n",
       "\n",
       "    .dataframe tbody tr th {\n",
       "        vertical-align: top;\n",
       "    }\n",
       "\n",
       "    .dataframe thead th {\n",
       "        text-align: right;\n",
       "    }\n",
       "</style>\n",
       "<table border=\"1\" class=\"dataframe\">\n",
       "  <thead>\n",
       "    <tr style=\"text-align: right;\">\n",
       "      <th></th>\n",
       "      <th>url_name</th>\n",
       "      <th>title</th>\n",
       "      <th>primary_artist</th>\n",
       "      <th>release_date</th>\n",
       "      <th>pyongs</th>\n",
       "      <th>contributors</th>\n",
       "      <th>has_bio</th>\n",
       "      <th>views</th>\n",
       "      <th>tags</th>\n",
       "      <th>annotations</th>\n",
       "    </tr>\n",
       "  </thead>\n",
       "  <tbody>\n",
       "    <tr>\n",
       "      <th>0</th>\n",
       "      <td>Kendrick-lamar-swimming-pools-drank-lyrics</td>\n",
       "      <td>Swimming Pools (Drank)</td>\n",
       "      <td>Kendrick-lamar</td>\n",
       "      <td>July 31, 2012</td>\n",
       "      <td>894.0</td>\n",
       "      <td>403</td>\n",
       "      <td>True</td>\n",
       "      <td>5589280.0</td>\n",
       "      <td>[Trap, Conscious Hip-Hop, Memes, West Coast, R...</td>\n",
       "      <td>NaN</td>\n",
       "    </tr>\n",
       "    <tr>\n",
       "      <th>1</th>\n",
       "      <td>Kendrick-lamar-money-trees-lyrics</td>\n",
       "      <td>Money Trees</td>\n",
       "      <td>Kendrick-lamar</td>\n",
       "      <td>October 22, 2012</td>\n",
       "      <td>880.0</td>\n",
       "      <td>394</td>\n",
       "      <td>True</td>\n",
       "      <td>4592003.0</td>\n",
       "      <td>[Conscious Hip-Hop, West Coast, Rap, Producer]</td>\n",
       "      <td>NaN</td>\n",
       "    </tr>\n",
       "    <tr>\n",
       "      <th>2</th>\n",
       "      <td>Kendrick-lamar-xxx-lyrics</td>\n",
       "      <td>XXX.</td>\n",
       "      <td>Kendrick-lamar</td>\n",
       "      <td>April 14, 2017</td>\n",
       "      <td>188.0</td>\n",
       "      <td>389</td>\n",
       "      <td>True</td>\n",
       "      <td>4651514.0</td>\n",
       "      <td>[Conscious Hip-Hop, Boom Bap, Pop, West Coast,...</td>\n",
       "      <td>NaN</td>\n",
       "    </tr>\n",
       "    <tr>\n",
       "      <th>3</th>\n",
       "      <td>A-ap-rocky-fuckin-problems-lyrics</td>\n",
       "      <td>Fuckin’ Problems</td>\n",
       "      <td>A-ap-rocky</td>\n",
       "      <td>October 24, 2012</td>\n",
       "      <td>706.0</td>\n",
       "      <td>437</td>\n",
       "      <td>True</td>\n",
       "      <td>7378309.0</td>\n",
       "      <td>[Gangsta Rap, Dirty South, Atlanta, Posse Cut,...</td>\n",
       "      <td>NaN</td>\n",
       "    </tr>\n",
       "    <tr>\n",
       "      <th>4</th>\n",
       "      <td>Kendrick-lamar-dna-lyrics</td>\n",
       "      <td>DNA.</td>\n",
       "      <td>Kendrick-lamar</td>\n",
       "      <td>April 14, 2017</td>\n",
       "      <td>555.0</td>\n",
       "      <td>570</td>\n",
       "      <td>True</td>\n",
       "      <td>5113687.0</td>\n",
       "      <td>[Politics, Producer, News, Conscious Hip-Hop, ...</td>\n",
       "      <td>NaN</td>\n",
       "    </tr>\n",
       "  </tbody>\n",
       "</table>\n",
       "</div>"
      ],
      "text/plain": [
       "                                     url_name                   title  \\\n",
       "0  Kendrick-lamar-swimming-pools-drank-lyrics  Swimming Pools (Drank)   \n",
       "1           Kendrick-lamar-money-trees-lyrics             Money Trees   \n",
       "2                   Kendrick-lamar-xxx-lyrics                    XXX.   \n",
       "3           A-ap-rocky-fuckin-problems-lyrics        Fuckin’ Problems   \n",
       "4                   Kendrick-lamar-dna-lyrics                    DNA.   \n",
       "\n",
       "   primary_artist      release_date  pyongs  contributors  has_bio      views  \\\n",
       "0  Kendrick-lamar     July 31, 2012   894.0           403     True  5589280.0   \n",
       "1  Kendrick-lamar  October 22, 2012   880.0           394     True  4592003.0   \n",
       "2  Kendrick-lamar    April 14, 2017   188.0           389     True  4651514.0   \n",
       "3      A-ap-rocky  October 24, 2012   706.0           437     True  7378309.0   \n",
       "4  Kendrick-lamar    April 14, 2017   555.0           570     True  5113687.0   \n",
       "\n",
       "                                                tags  annotations  \n",
       "0  [Trap, Conscious Hip-Hop, Memes, West Coast, R...          NaN  \n",
       "1     [Conscious Hip-Hop, West Coast, Rap, Producer]          NaN  \n",
       "2  [Conscious Hip-Hop, Boom Bap, Pop, West Coast,...          NaN  \n",
       "3  [Gangsta Rap, Dirty South, Atlanta, Posse Cut,...          NaN  \n",
       "4  [Politics, Producer, News, Conscious Hip-Hop, ...          NaN  "
      ]
     },
     "metadata": {},
     "output_type": "display_data"
    },
    {
     "name": "stdout",
     "output_type": "stream",
     "text": [
      "<class 'pandas.core.frame.DataFrame'>\n",
      "RangeIndex: 223257 entries, 0 to 223256\n",
      "Data columns (total 10 columns):\n",
      " #   Column          Non-Null Count   Dtype  \n",
      "---  ------          --------------   -----  \n",
      " 0   url_name        223257 non-null  object \n",
      " 1   title           223257 non-null  object \n",
      " 2   primary_artist  223257 non-null  object \n",
      " 3   release_date    176884 non-null  object \n",
      " 4   pyongs          223256 non-null  float64\n",
      " 5   contributors    223257 non-null  int64  \n",
      " 6   has_bio         223257 non-null  bool   \n",
      " 7   views           72065 non-null   float64\n",
      " 8   tags            223257 non-null  object \n",
      " 9   annotations     0 non-null       float64\n",
      "dtypes: bool(1), float64(3), int64(1), object(5)\n",
      "memory usage: 15.5+ MB\n"
     ]
    },
    {
     "data": {
      "text/plain": [
       "None"
      ]
     },
     "metadata": {},
     "output_type": "display_data"
    },
    {
     "data": {
      "text/plain": [
       "(223257, 10)"
      ]
     },
     "metadata": {},
     "output_type": "display_data"
    }
   ],
   "source": [
    "display(song_info_df.head())\n",
    "display(song_info_df.info())\n",
    "display(song_info_df.shape)"
   ]
  },
  {
   "cell_type": "code",
   "execution_count": 21,
   "metadata": {},
   "outputs": [],
   "source": [
    "song_info_df.rename(\n",
    "    {'url_name': 'song'},\n",
    "    axis=1,\n",
    "    inplace= True\n",
    ")"
   ]
  },
  {
   "cell_type": "code",
   "execution_count": 22,
   "metadata": {},
   "outputs": [],
   "source": [
    "raw_combined_df = pd.merge(\n",
    "    lyrics_df, \n",
    "    song_info_df[['song', 'views']].dropna(axis=0),\n",
    "    on='song',\n",
    "\n",
    ")"
   ]
  },
  {
   "cell_type": "code",
   "execution_count": 23,
   "metadata": {},
   "outputs": [
    {
     "data": {
      "text/html": [
       "<div>\n",
       "<style scoped>\n",
       "    .dataframe tbody tr th:only-of-type {\n",
       "        vertical-align: middle;\n",
       "    }\n",
       "\n",
       "    .dataframe tbody tr th {\n",
       "        vertical-align: top;\n",
       "    }\n",
       "\n",
       "    .dataframe thead th {\n",
       "        text-align: right;\n",
       "    }\n",
       "</style>\n",
       "<table border=\"1\" class=\"dataframe\">\n",
       "  <thead>\n",
       "    <tr style=\"text-align: right;\">\n",
       "      <th></th>\n",
       "      <th>song</th>\n",
       "      <th>lyrics</th>\n",
       "      <th>views</th>\n",
       "    </tr>\n",
       "  </thead>\n",
       "  <tbody>\n",
       "    <tr>\n",
       "      <th>0</th>\n",
       "      <td>Kendrick-lamar-swimming-pools-drank-lyrics</td>\n",
       "      <td>\\n\\n[Produced by T-Minus]\\n\\n[Intro]\\nPour up ...</td>\n",
       "      <td>5589280.0</td>\n",
       "    </tr>\n",
       "    <tr>\n",
       "      <th>1</th>\n",
       "      <td>Kendrick-lamar-money-trees-lyrics</td>\n",
       "      <td>\\n\\n[Produced by DJ Dahi]\\n\\n[Verse 1: Kendric...</td>\n",
       "      <td>4592003.0</td>\n",
       "    </tr>\n",
       "    <tr>\n",
       "      <th>2</th>\n",
       "      <td>Kendrick-lamar-xxx-lyrics</td>\n",
       "      <td>\\n\\n[Intro: Bēkon &amp; Kid Capri]\\nAmerica, God b...</td>\n",
       "      <td>4651514.0</td>\n",
       "    </tr>\n",
       "    <tr>\n",
       "      <th>3</th>\n",
       "      <td>A-ap-rocky-fuckin-problems-lyrics</td>\n",
       "      <td>\\n\\n[Chorus: 2 Chainz, Drake &amp; Both (A$AP Rock...</td>\n",
       "      <td>7378309.0</td>\n",
       "    </tr>\n",
       "    <tr>\n",
       "      <th>4</th>\n",
       "      <td>Kendrick-lamar-dna-lyrics</td>\n",
       "      <td>\\n\\n[Verse 1]\\nI got, I got, I got, I got—\\nLo...</td>\n",
       "      <td>5113687.0</td>\n",
       "    </tr>\n",
       "    <tr>\n",
       "      <th>5</th>\n",
       "      <td>Kendrick-lamar-poetic-justice-lyrics</td>\n",
       "      <td>\\n\\n[Produced by Scoop DeVille &amp; Sounwave]\\n\\n...</td>\n",
       "      <td>4137688.0</td>\n",
       "    </tr>\n",
       "    <tr>\n",
       "      <th>6</th>\n",
       "      <td>Kendrick-lamar-bitch-dont-kill-my-vibe-lyrics</td>\n",
       "      <td>\\n\\n[Produced by Sounwave]\\n\\n[Chorus]\\nI am a...</td>\n",
       "      <td>4455762.0</td>\n",
       "    </tr>\n",
       "    <tr>\n",
       "      <th>7</th>\n",
       "      <td>Kendrick-lamar-king-kunta-lyrics</td>\n",
       "      <td>\\n\\n[Produced by Sounwave; Additional producti...</td>\n",
       "      <td>3976102.0</td>\n",
       "    </tr>\n",
       "    <tr>\n",
       "      <th>8</th>\n",
       "      <td>Kendrick-lamar-element-lyrics</td>\n",
       "      <td>\\n\\n[Intro: Kid Capri &amp; Kendrick Lamar]\\nNew K...</td>\n",
       "      <td>2506800.0</td>\n",
       "    </tr>\n",
       "    <tr>\n",
       "      <th>9</th>\n",
       "      <td>Kendrick-lamar-the-blacker-the-berry-lyrics</td>\n",
       "      <td>\\n\\n[Produced by Boi-1da &amp; Koz]\\n\\n[Intro: Ken...</td>\n",
       "      <td>2557473.0</td>\n",
       "    </tr>\n",
       "  </tbody>\n",
       "</table>\n",
       "</div>"
      ],
      "text/plain": [
       "                                            song  \\\n",
       "0     Kendrick-lamar-swimming-pools-drank-lyrics   \n",
       "1              Kendrick-lamar-money-trees-lyrics   \n",
       "2                      Kendrick-lamar-xxx-lyrics   \n",
       "3              A-ap-rocky-fuckin-problems-lyrics   \n",
       "4                      Kendrick-lamar-dna-lyrics   \n",
       "5           Kendrick-lamar-poetic-justice-lyrics   \n",
       "6  Kendrick-lamar-bitch-dont-kill-my-vibe-lyrics   \n",
       "7               Kendrick-lamar-king-kunta-lyrics   \n",
       "8                  Kendrick-lamar-element-lyrics   \n",
       "9    Kendrick-lamar-the-blacker-the-berry-lyrics   \n",
       "\n",
       "                                              lyrics      views  \n",
       "0  \\n\\n[Produced by T-Minus]\\n\\n[Intro]\\nPour up ...  5589280.0  \n",
       "1  \\n\\n[Produced by DJ Dahi]\\n\\n[Verse 1: Kendric...  4592003.0  \n",
       "2  \\n\\n[Intro: Bēkon & Kid Capri]\\nAmerica, God b...  4651514.0  \n",
       "3  \\n\\n[Chorus: 2 Chainz, Drake & Both (A$AP Rock...  7378309.0  \n",
       "4  \\n\\n[Verse 1]\\nI got, I got, I got, I got—\\nLo...  5113687.0  \n",
       "5  \\n\\n[Produced by Scoop DeVille & Sounwave]\\n\\n...  4137688.0  \n",
       "6  \\n\\n[Produced by Sounwave]\\n\\n[Chorus]\\nI am a...  4455762.0  \n",
       "7  \\n\\n[Produced by Sounwave; Additional producti...  3976102.0  \n",
       "8  \\n\\n[Intro: Kid Capri & Kendrick Lamar]\\nNew K...  2506800.0  \n",
       "9  \\n\\n[Produced by Boi-1da & Koz]\\n\\n[Intro: Ken...  2557473.0  "
      ]
     },
     "metadata": {},
     "output_type": "display_data"
    },
    {
     "data": {
      "text/plain": [
       "(37905, 3)"
      ]
     },
     "metadata": {},
     "output_type": "display_data"
    },
    {
     "name": "stdout",
     "output_type": "stream",
     "text": [
      "<class 'pandas.core.frame.DataFrame'>\n",
      "Int64Index: 37905 entries, 0 to 37904\n",
      "Data columns (total 3 columns):\n",
      " #   Column  Non-Null Count  Dtype  \n",
      "---  ------  --------------  -----  \n",
      " 0   song    37905 non-null  object \n",
      " 1   lyrics  37905 non-null  object \n",
      " 2   views   37905 non-null  float64\n",
      "dtypes: float64(1), object(2)\n",
      "memory usage: 1.2+ MB\n"
     ]
    },
    {
     "data": {
      "text/plain": [
       "None"
      ]
     },
     "metadata": {},
     "output_type": "display_data"
    }
   ],
   "source": [
    "display(raw_combined_df.head(10))\n",
    "display(raw_combined_df.shape)\n",
    "display(raw_combined_df.info())"
   ]
  },
  {
   "attachments": {},
   "cell_type": "markdown",
   "metadata": {},
   "source": [
    "## Cleaning the text data. \n",
    "\n",
    "Ideally we want our lyrics data to be cleaned in the following way:\n",
    "- Have only lyric words.\n",
    "- Lower case\n",
    "- No punctuation\n",
    "- Separate all words with spaces.\n",
    "\n",
    "To clean the lyrics we need to first look at the lyric format. We then want to see how well a premade package called CleanText cleans the lyrics. \n",
    "\n",
    "We will make adjustments to until CleanText provides us with properly formatted lyrics."
   ]
  },
  {
   "attachments": {},
   "cell_type": "markdown",
   "metadata": {},
   "source": [
    "## Example Lyrics\n",
    "\n",
    "The following is an example of an entry from the raw lyrics column."
   ]
  },
  {
   "cell_type": "code",
   "execution_count": 24,
   "metadata": {},
   "outputs": [
    {
     "data": {
      "text/plain": [
       "'\\n\\n[Intro]\\nMove!\\n\\n[Verse 1]\\nCan\\'t stop thinking about if and when I die\\nFor now I see that \"if\" and \"when\" are truly different cries\\nFor \"if\" is purely panic and \"when\" is solemn sorrow\\nAnd one invades today while the other spies tomorrow\\nWe\\'re surrounded and we\\'re hounded\\nThere\\'s no above, or under, or around it\\nFor \"above\" is blind belief and \"under\" is sword to sleeve\\nAnd \"around\" is scientific miracle, let\\'s pick \"above\" and see\\nFor if and when we go above, the question still remains\\nAre we still in love and is it possible we feel the same?\\nAnd that\\'s when goin\\' under starts to take my wonder\\nBut until that time, I\\'ll try to sing this\\n\\n[Chorus]\\nIf I keep moving, they won\\'t know\\nI\\'ll morph to someone else\\nWhat they throw at me\\'s too slow\\nI\\'ll morph to someone else\\nI\\'m just a ghost\\nI\\'ll morph to someone else\\nA defense mechanism mode\\n\\n[Verse 2]\\nHe\\'ll always try to stop me, that Nicolas Bourbaki\\nHe\\'s got no friends close but those who know him most know\\nHe goes by Nico, he told me I\\'m a copy\\nWhen I\\'d hear him mock me, that\\'s almost stopped me\\nWell, we\\'re surrounded and we\\'re hounded\\nThere\\'s no above or a secret door\\nWhat are we here for\\nIf not to run straight through all our tormentors?\\nBut until that time, I\\'ll try to sing this\\n\\n[Chorus]\\nIf I keep moving, they won\\'t know\\nI\\'ll morph to someone else\\nWhat they throw at me\\'s too slow\\nI\\'ll morph to someone else\\nI\\'m just a ghost\\nI\\'ll morph to someone else\\nA defense mechanism mode\\nI\\'ll morph to someone else\\n\\n[Bridge]\\nLights, they blink to me, transmitting things to me\\nOnes and zeroes, ergo this symphony\\nAnybody listening? Ones and zeroes\\nCount to infinity, ones and zeroes\\nI\\'m surrounded and I\\'m hounded\\nThere\\'s no above, or under, or around it\\nFor \"above\" is blind belief and \"under\" is sword to sleeve\\nAnd \"around\" is scientific miracle, let\\'s pick \"above\" and see\\nFor if and when we go above, the question still remains\\nAre we still in love and is it possible we feel the same?\\nAnd that\\'s when goin\\' under starts to take my wonder\\nBut until that time\\nI\\'ll morph to someone else\\nI\\'m just a ghost\\n\\n[Chorus]\\nIf I keep moving, they won\\'t know\\nI\\'ll morph to someone else\\nWhat they throw at me\\'s too slow\\nI\\'ll morph to someone else\\nI\\'m just a ghost\\nI\\'ll morph to someone else\\nA defense mechanism mode\\nIf I keep moving, they won\\'t know\\nI\\'ll morph to someone else\\nA defense mechanism mode\\nI\\'ll morph to someone else\\n\\n[Outro]\\nNot done, not done\\nNot done, Josh Dun\\nI\\'ll morph to someone else\\n\\n'"
      ]
     },
     "execution_count": 24,
     "metadata": {},
     "output_type": "execute_result"
    }
   ],
   "source": [
    "raw_combined_df['lyrics'][10000]"
   ]
  },
  {
   "attachments": {},
   "cell_type": "markdown",
   "metadata": {},
   "source": [
    "We see that this dataset uses `[]` to denote tags for the different parts in a song. Additionally, they use \\n to mark a new line and `\\` to separate apostrophes. We also want to use a lower cased version of the lyrics. "
   ]
  },
  {
   "cell_type": "code",
   "execution_count": 25,
   "metadata": {},
   "outputs": [
    {
     "data": {
      "text/plain": [
       "'  [intro] move!  [verse 1] can\\'t stop thinking about if and when i die for now i see that \"if\" and \"when\" are truly different cries for \"if\" is purely panic and \"when\" is solemn sorrow and one invades today while the other spies tomorrow we\\'re surrounded and we\\'re hounded there\\'s no above, or under, or around it for \"above\" is blind belief and \"under\" is sword to sleeve and \"around\" is scientific miracle, let\\'s pick \"above\" and see for if and when we go above, the question still remains are we still in love and is it possible we feel the same? and that\\'s when goin\\' under starts to take my wonder but until that time, i\\'ll try to sing this  [chorus] if i keep moving, they won\\'t know i\\'ll morph to someone else what they throw at me\\'s too slow i\\'ll morph to someone else i\\'m just a ghost i\\'ll morph to someone else a defense mechanism mode  [verse 2] he\\'ll always try to stop me, that nicolas bourbaki he\\'s got no friends close but those who know him most know he goes by nico, he told me i\\'m a copy when i\\'d hear him mock me, that\\'s almost stopped me well, we\\'re surrounded and we\\'re hounded there\\'s no above or a secret door what are we here for if not to run straight through all our tormentors? but until that time, i\\'ll try to sing this  [chorus] if i keep moving, they won\\'t know i\\'ll morph to someone else what they throw at me\\'s too slow i\\'ll morph to someone else i\\'m just a ghost i\\'ll morph to someone else a defense mechanism mode i\\'ll morph to someone else  [bridge] lights, they blink to me, transmitting things to me ones and zeroes, ergo this symphony anybody listening? ones and zeroes count to infinity, ones and zeroes i\\'m surrounded and i\\'m hounded there\\'s no above, or under, or around it for \"above\" is blind belief and \"under\" is sword to sleeve and \"around\" is scientific miracle, let\\'s pick \"above\" and see for if and when we go above, the question still remains are we still in love and is it possible we feel the same? and that\\'s when goin\\' under starts to take my wonder but until that time i\\'ll morph to someone else i\\'m just a ghost  [chorus] if i keep moving, they won\\'t know i\\'ll morph to someone else what they throw at me\\'s too slow i\\'ll morph to someone else i\\'m just a ghost i\\'ll morph to someone else a defense mechanism mode if i keep moving, they won\\'t know i\\'ll morph to someone else a defense mechanism mode i\\'ll morph to someone else  [outro] not done, not done not done, josh dun i\\'ll morph to someone else  '"
      ]
     },
     "execution_count": 25,
     "metadata": {},
     "output_type": "execute_result"
    }
   ],
   "source": [
    "test_string = raw_combined_df['lyrics'][10000].lower()\n",
    "\n",
    "test_string = test_string.replace('\\n', ' ')\n",
    "test_string"
   ]
  },
  {
   "attachments": {},
   "cell_type": "markdown",
   "metadata": {},
   "source": [
    "Next we will also replace all `\\'` with an empty string to combine all contractions. "
   ]
  },
  {
   "cell_type": "code",
   "execution_count": 26,
   "metadata": {},
   "outputs": [
    {
     "data": {
      "text/plain": [
       "'  [intro] move!  [verse 1] cant stop thinking about if and when i die for now i see that \"if\" and \"when\" are truly different cries for \"if\" is purely panic and \"when\" is solemn sorrow and one invades today while the other spies tomorrow were surrounded and were hounded theres no above, or under, or around it for \"above\" is blind belief and \"under\" is sword to sleeve and \"around\" is scientific miracle, lets pick \"above\" and see for if and when we go above, the question still remains are we still in love and is it possible we feel the same? and thats when goin under starts to take my wonder but until that time, ill try to sing this  [chorus] if i keep moving, they wont know ill morph to someone else what they throw at mes too slow ill morph to someone else im just a ghost ill morph to someone else a defense mechanism mode  [verse 2] hell always try to stop me, that nicolas bourbaki hes got no friends close but those who know him most know he goes by nico, he told me im a copy when id hear him mock me, thats almost stopped me well, were surrounded and were hounded theres no above or a secret door what are we here for if not to run straight through all our tormentors? but until that time, ill try to sing this  [chorus] if i keep moving, they wont know ill morph to someone else what they throw at mes too slow ill morph to someone else im just a ghost ill morph to someone else a defense mechanism mode ill morph to someone else  [bridge] lights, they blink to me, transmitting things to me ones and zeroes, ergo this symphony anybody listening? ones and zeroes count to infinity, ones and zeroes im surrounded and im hounded theres no above, or under, or around it for \"above\" is blind belief and \"under\" is sword to sleeve and \"around\" is scientific miracle, lets pick \"above\" and see for if and when we go above, the question still remains are we still in love and is it possible we feel the same? and thats when goin under starts to take my wonder but until that time ill morph to someone else im just a ghost  [chorus] if i keep moving, they wont know ill morph to someone else what they throw at mes too slow ill morph to someone else im just a ghost ill morph to someone else a defense mechanism mode if i keep moving, they wont know ill morph to someone else a defense mechanism mode ill morph to someone else  [outro] not done, not done not done, josh dun ill morph to someone else  '"
      ]
     },
     "execution_count": 26,
     "metadata": {},
     "output_type": "execute_result"
    }
   ],
   "source": [
    "test_string = test_string.replace(\"\\'\",'')\n",
    "test_string"
   ]
  },
  {
   "attachments": {},
   "cell_type": "markdown",
   "metadata": {},
   "source": [
    "The final step is to remove all the tags that describe the different sections of the song.\n",
    "\n",
    "We will accomplish this with a regex expression and re.sub()."
   ]
  },
  {
   "cell_type": "code",
   "execution_count": 27,
   "metadata": {},
   "outputs": [
    {
     "data": {
      "text/plain": [
       "'   move!   cant stop thinking about if and when i die for now i see that \"if\" and \"when\" are truly different cries for \"if\" is purely panic and \"when\" is solemn sorrow and one invades today while the other spies tomorrow were surrounded and were hounded theres no above, or under, or around it for \"above\" is blind belief and \"under\" is sword to sleeve and \"around\" is scientific miracle, lets pick \"above\" and see for if and when we go above, the question still remains are we still in love and is it possible we feel the same? and thats when goin under starts to take my wonder but until that time, ill try to sing this   if i keep moving, they wont know ill morph to someone else what they throw at mes too slow ill morph to someone else im just a ghost ill morph to someone else a defense mechanism mode   hell always try to stop me, that nicolas bourbaki hes got no friends close but those who know him most know he goes by nico, he told me im a copy when id hear him mock me, thats almost stopped me well, were surrounded and were hounded theres no above or a secret door what are we here for if not to run straight through all our tormentors? but until that time, ill try to sing this   if i keep moving, they wont know ill morph to someone else what they throw at mes too slow ill morph to someone else im just a ghost ill morph to someone else a defense mechanism mode ill morph to someone else   lights, they blink to me, transmitting things to me ones and zeroes, ergo this symphony anybody listening? ones and zeroes count to infinity, ones and zeroes im surrounded and im hounded theres no above, or under, or around it for \"above\" is blind belief and \"under\" is sword to sleeve and \"around\" is scientific miracle, lets pick \"above\" and see for if and when we go above, the question still remains are we still in love and is it possible we feel the same? and thats when goin under starts to take my wonder but until that time ill morph to someone else im just a ghost   if i keep moving, they wont know ill morph to someone else what they throw at mes too slow ill morph to someone else im just a ghost ill morph to someone else a defense mechanism mode if i keep moving, they wont know ill morph to someone else a defense mechanism mode ill morph to someone else   not done, not done not done, josh dun ill morph to someone else  '"
      ]
     },
     "execution_count": 27,
     "metadata": {},
     "output_type": "execute_result"
    }
   ],
   "source": [
    "test_string = re.sub(\n",
    "    # (\\[\\w+\\]) Matches any occurrence of [any word characters] or \n",
    "        # This matches all tags that are not the [Verse #] tag\n",
    "    # (\\[\\w+ \\d+\\]) Matches any occurrence of [any word characters and any digit]\n",
    "        # This is to match the [Verse #] tag\n",
    "    '(\\[\\w+\\])|(\\[\\w+ \\d+\\])',\n",
    "    '',\n",
    "    test_string\n",
    ")\n",
    "test_string"
   ]
  },
  {
   "attachments": {},
   "cell_type": "markdown",
   "metadata": {},
   "source": [
    "The final step is to remove all the punctuation we can once again use a regex and `re.sub()` to accomplish this."
   ]
  },
  {
   "cell_type": "code",
   "execution_count": 28,
   "metadata": {},
   "outputs": [
    {
     "data": {
      "text/plain": [
       "'   move   cant stop thinking about if and when i die for now i see that if and when are truly different cries for if is purely panic and when is solemn sorrow and one invades today while the other spies tomorrow were surrounded and were hounded theres no above or under or around it for above is blind belief and under is sword to sleeve and around is scientific miracle lets pick above and see for if and when we go above the question still remains are we still in love and is it possible we feel the same and thats when goin under starts to take my wonder but until that time ill try to sing this   if i keep moving they wont know ill morph to someone else what they throw at mes too slow ill morph to someone else im just a ghost ill morph to someone else a defense mechanism mode   hell always try to stop me that nicolas bourbaki hes got no friends close but those who know him most know he goes by nico he told me im a copy when id hear him mock me thats almost stopped me well were surrounded and were hounded theres no above or a secret door what are we here for if not to run straight through all our tormentors but until that time ill try to sing this   if i keep moving they wont know ill morph to someone else what they throw at mes too slow ill morph to someone else im just a ghost ill morph to someone else a defense mechanism mode ill morph to someone else   lights they blink to me transmitting things to me ones and zeroes ergo this symphony anybody listening ones and zeroes count to infinity ones and zeroes im surrounded and im hounded theres no above or under or around it for above is blind belief and under is sword to sleeve and around is scientific miracle lets pick above and see for if and when we go above the question still remains are we still in love and is it possible we feel the same and thats when goin under starts to take my wonder but until that time ill morph to someone else im just a ghost   if i keep moving they wont know ill morph to someone else what they throw at mes too slow ill morph to someone else im just a ghost ill morph to someone else a defense mechanism mode if i keep moving they wont know ill morph to someone else a defense mechanism mode ill morph to someone else   not done not done not done josh dun ill morph to someone else  '"
      ]
     },
     "execution_count": 28,
     "metadata": {},
     "output_type": "execute_result"
    }
   ],
   "source": [
    "test_string = re.sub(\n",
    "    \"[!><\\\"\\',/@#$%&?*-+()|]\",\n",
    "    '',\n",
    "    test_string\n",
    ")\n",
    "test_string"
   ]
  },
  {
   "attachments": {},
   "cell_type": "markdown",
   "metadata": {},
   "source": [
    "We see that there is some extra white space between some of the words, which we can remove that with regex as well."
   ]
  },
  {
   "cell_type": "code",
   "execution_count": 29,
   "metadata": {},
   "outputs": [
    {
     "data": {
      "text/plain": [
       "'move cant stop thinking about if and when i die for now i see that if and when are truly different cries for if is purely panic and when is solemn sorrow and one invades today while the other spies tomorrow were surrounded and were hounded theres no above or under or around it for above is blind belief and under is sword to sleeve and around is scientific miracle lets pick above and see for if and when we go above the question still remains are we still in love and is it possible we feel the same and thats when goin under starts to take my wonder but until that time ill try to sing this if i keep moving they wont know ill morph to someone else what they throw at mes too slow ill morph to someone else im just a ghost ill morph to someone else a defense mechanism mode hell always try to stop me that nicolas bourbaki hes got no friends close but those who know him most know he goes by nico he told me im a copy when id hear him mock me thats almost stopped me well were surrounded and were hounded theres no above or a secret door what are we here for if not to run straight through all our tormentors but until that time ill try to sing this if i keep moving they wont know ill morph to someone else what they throw at mes too slow ill morph to someone else im just a ghost ill morph to someone else a defense mechanism mode ill morph to someone else lights they blink to me transmitting things to me ones and zeroes ergo this symphony anybody listening ones and zeroes count to infinity ones and zeroes im surrounded and im hounded theres no above or under or around it for above is blind belief and under is sword to sleeve and around is scientific miracle lets pick above and see for if and when we go above the question still remains are we still in love and is it possible we feel the same and thats when goin under starts to take my wonder but until that time ill morph to someone else im just a ghost if i keep moving they wont know ill morph to someone else what they throw at mes too slow ill morph to someone else im just a ghost ill morph to someone else a defense mechanism mode if i keep moving they wont know ill morph to someone else a defense mechanism mode ill morph to someone else not done not done not done josh dun ill morph to someone else'"
      ]
     },
     "execution_count": 29,
     "metadata": {},
     "output_type": "execute_result"
    }
   ],
   "source": [
    "test_string = re.sub(\n",
    "    '(^[ ]{2,})|([ ]{2})',\n",
    "    '',\n",
    "    test_string\n",
    ")\n",
    "test_string"
   ]
  },
  {
   "attachments": {},
   "cell_type": "markdown",
   "metadata": {},
   "source": [
    "This cleaned lyric seems to be usable for now. We will now put the above steps into a function. "
   ]
  },
  {
   "cell_type": "code",
   "execution_count": 28,
   "metadata": {},
   "outputs": [],
   "source": [
    "def clean_lyrics(lyric):\n",
    "    cleaned_lyric = lyric.lower().replace('\\n', ' ').replace(\"\\'\",'')\n",
    "    \n",
    "    # Deal with tags.\n",
    "    cleaned_lyric = re.sub(\n",
    "        # (\\[\\w+\\]) Matches any occurrence of [any word characters] or \n",
    "            # This matches all tags that are not the [Verse #] tag\n",
    "        # (\\[\\w+ \\d+\\]) Matches any occurrence of [any word characters and any digit]\n",
    "            # This is to match the [Verse #] tag\n",
    "        '(\\[(.*?)\\])',\n",
    "        '',\n",
    "        cleaned_lyric\n",
    "    )\n",
    "\n",
    "    # Remove all punctuation.\n",
    "    cleaned_lyric = re.sub(\n",
    "        \"[;:!><\\\"\\',/@#$%&?–*+()|]\",\n",
    "        '',\n",
    "        cleaned_lyric\n",
    "    )\n",
    "    \n",
    "    # string.punctuation\n",
    "    # Captures other punctuation that can not be replaced with the above regex.\n",
    "    other_punctuation = ['-', '—','...', '”', '“', '.', '…', '’', '^', 'ι', '‘']\n",
    "    for punctuation in other_punctuation:\n",
    "        if punctuation == '—': \n",
    "            # This is to add spaces to large hyphens which denote breaks in the lyrics\n",
    "            # not hyphenated words, so we want to separate these words.\n",
    "            cleaned_lyric = cleaned_lyric.replace(punctuation, ' ')\n",
    "        else:\n",
    "            cleaned_lyric = cleaned_lyric.replace(punctuation, '')\n",
    "  \n",
    "    \n",
    "    # Remove whitespaces greater than one. \n",
    "    cleaned_lyric = re.sub(\n",
    "        ' {2,}', ' ',\n",
    "        cleaned_lyric\n",
    "    )\n",
    "    return cleaned_lyric\n",
    "    \n",
    "\n",
    "    # What can I keep. "
   ]
  },
  {
   "attachments": {},
   "cell_type": "markdown",
   "metadata": {},
   "source": [
    "We will now use this function to clean all the lyrics in the dataset. "
   ]
  },
  {
   "cell_type": "code",
   "execution_count": 29,
   "metadata": {},
   "outputs": [],
   "source": [
    "cleaned_lyrics = [clean_lyrics(lyric) for lyric in raw_combined_df['lyrics']]"
   ]
  },
  {
   "cell_type": "code",
   "execution_count": 30,
   "metadata": {},
   "outputs": [],
   "source": [
    "raw_combined_df['cleaned_lyrics'] = cleaned_lyrics"
   ]
  },
  {
   "cell_type": "code",
   "execution_count": 31,
   "metadata": {},
   "outputs": [
    {
     "data": {
      "text/plain": [
       "' pour up drank head shot drank sit down drank stand up drank pass out drank wake up drank faded drank faded drank now i done grew up round some people livin their life in bottles granddaddy had the golden flask backstroke every day in chicago some people like the way it feels some people wanna kill their sorrows some people wanna fit in with the popular that was my problem i was in a dark room loud tunes lookin to make a vow soon that ima get fucked up fillin up my cup i see the crowd mood changin by the minute and the record on repeat took a sip then another sip then somebody said to me nigga why you babysittin only two or three shots ima show you how to turn it up a notch first you get a swimming pool full of liquor then you dive in it pool full of liquor then you dive in it i wave a few bottles then i watch em all flock all the girls wanna play baywatch i got a swimming pool full of liquor and they dive in it pool full of liquor ima dive in it pour up drank head shot drank sit down drank stand up drank pass out drank wake up drank faded drank faded drank okay now open your mind up and listen me kendrick i am your conscience if you do not hear me then you will be history kendrick i know that youre nauseous right now and im hopin to lead you to victory kendrick if i take another one down ima drown in some poison abusin my limit i think that im feelin the vibe i see the love in her eyes i see the feelin the freedom is granted as soon as the damage of vodka arrived this how you capitalize this is parental advice then apparently im overinfluenced by what you are doin i thought i was doin the most til someone said to me nigga why you babysittin only two or three shots ima show you how to turn it up a notch first you get a swimming pool full of liquor then you dive in it pool full of liquor then you dive in it i wave a few bottles then i watch em all flock all the girls wanna play baywatch i got a swimming pool full of liquor and they dive in it pool full of liquor ima dive in it pour up drank head shot drank sit down drank stand up drank pass out drank wake up drank faded drank faded drank i ride you ride bang one chopper 100 shots bang hop out do you bang two chopper 200 shots bang i ride you ride bang one chopper 100 shots bang hop out do you bang two chopper 200 shots bang nigga why you babysittin only two or three shots ima show you how to turn it up a notch first you get a swimming pool full of liquor then you dive in it pool full of liquor then you dive in it i wave a few bottles then i watch em all flock all the girls wanna play baywatch i got a swimming pool full of liquor and they dive in it pool full of liquor ima dive in it pour up drank head shot drank sit down drank stand up drank pass out drank wake up drank faded drank faded drank aw man where is she takin me where is she takin me all i have in life is my new appetite for failure and i got hunger pain that grow insane tell me do that sound familiar if it do then youre like me makin excuse that your relief is in the bottom of the bottle and the greenest indo leaf as the window open i release everything that corrode inside of me i see you jokin why you laugh dont you feel bad i probably sleep and never ever wake up never ever wake up never ever wake up in god i trust but just when i thought i had enough they stomped the homie out over a bitch kdot you good blood now we can drop ye we can drop you back off that niggas straight man that nigga aint trippin we gon do the same ol shit ima pop a few shots they gon run they gon run opposite ways fall right in s lap and he gon tear they ass up simple as that and i hope that bitch that set him up out there we gon pop that bitch too wait hold up ayy i see somebody aha got them niggas kdot you good l you good yeah blood im good dave you good dave dave say somethin dave these bitchass niggas killed my brother '"
      ]
     },
     "execution_count": 31,
     "metadata": {},
     "output_type": "execute_result"
    }
   ],
   "source": [
    "clean_lyrics(raw_combined_df['lyrics'][0])"
   ]
  },
  {
   "cell_type": "code",
   "execution_count": 33,
   "metadata": {},
   "outputs": [
    {
     "data": {
      "text/plain": [
       "233317"
      ]
     },
     "execution_count": 33,
     "metadata": {},
     "output_type": "execute_result"
    }
   ],
   "source": [
    "all_lyrics = ''.join(cleaned_lyrics)\n",
    "# This makes the vocabulary for all lyrics.\n",
    "vocabulary = list(set(all_lyrics.split(' ')))\n",
    "len(vocabulary)"
   ]
  },
  {
   "cell_type": "code",
   "execution_count": 34,
   "metadata": {},
   "outputs": [
    {
     "data": {
      "text/plain": [
       "['',\n",
       " 'jflirte',\n",
       " 'patacake',\n",
       " 'rowing',\n",
       " 'ko2p',\n",
       " 'dwight',\n",
       " 'yawns',\n",
       " 'sombres',\n",
       " 'exbandit',\n",
       " 'dépotoir']"
      ]
     },
     "execution_count": 34,
     "metadata": {},
     "output_type": "execute_result"
    }
   ],
   "source": [
    "vocabulary[0:10]"
   ]
  },
  {
   "cell_type": "code",
   "execution_count": 35,
   "metadata": {},
   "outputs": [
    {
     "data": {
      "text/plain": [
       "[('the', 667236),\n",
       " ('i', 648020),\n",
       " ('you', 495560),\n",
       " ('a', 400264),\n",
       " ('and', 328595),\n",
       " ('to', 316481),\n",
       " ('my', 303056),\n",
       " ('it', 265124),\n",
       " ('me', 263216),\n",
       " ('in', 236968),\n",
       " ('im', 236661),\n",
       " ('on', 212673),\n",
       " ('that', 200249),\n",
       " ('like', 170882),\n",
       " ('up', 148716),\n",
       " ('with', 139921),\n",
       " ('of', 136956),\n",
       " ('your', 132612),\n",
       " ('we', 128075),\n",
       " ('dont', 120914),\n",
       " ('got', 120126),\n",
       " ('for', 117699),\n",
       " ('all', 115057),\n",
       " ('know', 108039),\n",
       " ('yeah', 105413),\n",
       " ('is', 105248),\n",
       " ('get', 103194),\n",
       " ('this', 102221),\n",
       " ('be', 101256),\n",
       " ('they', 98427),\n",
       " ('but', 96583),\n",
       " ('no', 93168),\n",
       " ('just', 90661),\n",
       " ('so', 89044),\n",
       " ('its', 86495),\n",
       " ('nigga', 84028),\n",
       " ('aint', 81816),\n",
       " ('what', 80949),\n",
       " ('out', 77316),\n",
       " ('when', 74738),\n",
       " ('she', 74365),\n",
       " ('do', 68859),\n",
       " ('now', 66955),\n",
       " ('shit', 64471),\n",
       " ('niggas', 64470),\n",
       " ('bitch', 63849),\n",
       " ('fuck', 63273),\n",
       " ('if', 62326),\n",
       " ('go', 58491),\n",
       " ('was', 57223)]"
      ]
     },
     "execution_count": 35,
     "metadata": {},
     "output_type": "execute_result"
    }
   ],
   "source": [
    "from collections import Counter\n",
    "\n",
    "word_counter = Counter(all_lyrics.split(sep=' '))\n",
    "word_counter.most_common(50)"
   ]
  },
  {
   "cell_type": "code",
   "execution_count": 23,
   "metadata": {},
   "outputs": [],
   "source": [
    "# This is used to check for any words with unique punctuation that was not captured. \n",
    "unique_words = []\n",
    "for word in word_counter:\n",
    "    if word_counter[word] == 1:\n",
    "        unique_words.append(word)"
   ]
  },
  {
   "cell_type": "code",
   "execution_count": 27,
   "metadata": {},
   "outputs": [
    {
     "data": {
      "text/plain": [
       "['overinfluenced',\n",
       " 'readalong',\n",
       " 'putthekidstobed',\n",
       " 'absentness',\n",
       " 'monkeymouth',\n",
       " 'goatmouth',\n",
       " 'mammyfucker',\n",
       " 'maneyass',\n",
       " 'katzkins',\n",
       " 'xhosa',\n",
       " 'house\\u2060',\n",
       " 'ginnies',\n",
       " 'doheny',\n",
       " 'welldevoted',\n",
       " 'tinklin',\n",
       " 'momona',\n",
       " 'howhhow',\n",
       " 'threefourteen',\n",
       " 'earthiest',\n",
       " 'rockpaperscissors',\n",
       " 'baca',\n",
       " 'astonishments',\n",
       " 'pooooppin',\n",
       " 'ooooptions',\n",
       " 'drughead',\n",
       " 'nelsonlike',\n",
       " 'robbens',\n",
       " 'analysing',\n",
       " 'situa',\n",
       " 'muhfu',\n",
       " '30year',\n",
       " 'shuns',\n",
       " 'institutionalizes',\n",
       " 'federalesll',\n",
       " 'doodoodoodoot',\n",
       " 'doodoodoodoodoot',\n",
       " 'plasmascreen',\n",
       " 'whitecollar',\n",
       " 'metaphysically',\n",
       " 'infomercials',\n",
       " 'birdshufflin',\n",
       " 'mistakable',\n",
       " 'deplore',\n",
       " 'valevictorian',\n",
       " 'kendrix',\n",
       " 'letdownsll',\n",
       " 'strongll',\n",
       " 'demetriuss',\n",
       " 'miked',\n",
       " 'burpee',\n",
       " 'wanyá',\n",
       " 'thatssss',\n",
       " '2teez',\n",
       " 'backdooring',\n",
       " 'offbrandass',\n",
       " 'twinnie',\n",
       " 'harvestses',\n",
       " 'mozey',\n",
       " 'wozey',\n",
       " 'pussypoppin',\n",
       " 'bmfing',\n",
       " 'futu',\n",
       " 'negotions',\n",
       " 'wwwwhat',\n",
       " 'twentyplus',\n",
       " 'zhivago',\n",
       " 'inscribe',\n",
       " 'megapixels',\n",
       " 'deedeedee',\n",
       " 'dayah',\n",
       " 'quarterpiece',\n",
       " 'westsidin',\n",
       " 'tvscreened',\n",
       " 'equipments',\n",
       " '1099',\n",
       " 'toppedoff',\n",
       " 'syrupd',\n",
       " 'centerattention',\n",
       " 'lefteye',\n",
       " 'admiralty',\n",
       " 'kindhearted',\n",
       " 'accumulations',\n",
       " 'rattattattattattatted',\n",
       " 'dullies',\n",
       " 'turnll',\n",
       " 'undonei',\n",
       " 'gnomgnomgnomgnom',\n",
       " 'rapdissin',\n",
       " 'wrapsaran',\n",
       " 'bookins',\n",
       " 'disbeliefs',\n",
       " 'tithed',\n",
       " 'impassioned',\n",
       " 'whoaaa',\n",
       " 'outofcontrol',\n",
       " 'tammys',\n",
       " 'beingfinding',\n",
       " 'andmy',\n",
       " 'heeeeyheeeeeey',\n",
       " 'reddest',\n",
       " 'awoowoo',\n",
       " 'jeneral',\n",
       " 'jayrome',\n",
       " 'afdc',\n",
       " 'hardawayalonzo',\n",
       " 'hungray',\n",
       " 'homays',\n",
       " 'hunnidandeight',\n",
       " 'suwooing',\n",
       " 'precedure',\n",
       " 'orthotist',\n",
       " 'backflipper',\n",
       " 'maney',\n",
       " 'antihesitation',\n",
       " 'dped',\n",
       " 'hundredfold',\n",
       " 'aaaand',\n",
       " 'rayshawn',\n",
       " 'enz',\n",
       " 'seaso',\n",
       " 'sanbonan',\n",
       " 'endlini',\n",
       " 'usjava',\n",
       " 'kajama',\n",
       " 'indlalifa',\n",
       " 'igama',\n",
       " 'leynsizwa',\n",
       " 'ngphuma',\n",
       " 'enzansi',\n",
       " 'kwafel',\n",
       " 'ubala',\n",
       " 'insizwa',\n",
       " 'inathirty',\n",
       " 'kthiwa',\n",
       " 'indala',\n",
       " 'laph',\n",
       " 'engphuma',\n",
       " 'mawphuma',\n",
       " 'awfiki',\n",
       " 'ngyamangala',\n",
       " 'ngila',\n",
       " 'bebathi',\n",
       " 'ngyophelel',\n",
       " 'emoyeni',\n",
       " 'ngiynkanyezi',\n",
       " 'njengoba',\n",
       " 'ngiktshela',\n",
       " 'ngempilo',\n",
       " 'ngfuna',\n",
       " 'uthathe',\n",
       " 'nayi',\n",
       " 'imfundiso',\n",
       " 'lalela',\n",
       " 'ithemba',\n",
       " 'alibulali',\n",
       " 'ukube',\n",
       " 'lyabulala',\n",
       " 'ngabe',\n",
       " 'nihamba',\n",
       " 'phezkwami',\n",
       " 'nineball',\n",
       " 'powersteering',\n",
       " 'skyangel',\n",
       " 'attractiongirl',\n",
       " 'sizzlers',\n",
       " 'mimister',\n",
       " 'dishraggin',\n",
       " 'armful',\n",
       " 'pupilsll',\n",
       " 'vacational',\n",
       " '1980force',\n",
       " 'freelancin',\n",
       " 'carefulo',\n",
       " 'lluminate',\n",
       " 'masterminding',\n",
       " 'upbut',\n",
       " 'mámame',\n",
       " 'tota',\n",
       " 'umasthwel',\n",
       " 'umthwalo',\n",
       " 'weynkwezeli',\n",
       " 'sgijima',\n",
       " 'inkalo',\n",
       " 'singamaqhawe',\n",
       " 'singamadoda',\n",
       " 'amakhul',\n",
       " 'sdumis',\n",
       " 'izulu',\n",
       " 'numerologist',\n",
       " 'underhanding',\n",
       " 'turbojets',\n",
       " 'princeturnedpauper',\n",
       " 'handpersian',\n",
       " 'frfresher',\n",
       " 'hopico',\n",
       " 'yeeeea',\n",
       " 'startay',\n",
       " 'sabatoge',\n",
       " '059',\n",
       " 'officed',\n",
       " 'wipps',\n",
       " 'hgc',\n",
       " 'thermometors',\n",
       " 'gigapet',\n",
       " 'irreputable',\n",
       " 'celicas',\n",
       " 'winnnin',\n",
       " 'squezze',\n",
       " 'wowwy',\n",
       " 'tbi',\n",
       " 'chefing',\n",
       " 'bigbooted',\n",
       " 'huckto',\n",
       " 'cackcackcack',\n",
       " '12inch',\n",
       " 'assshot',\n",
       " 'fullblooded',\n",
       " 'pajamis',\n",
       " 'uhmilian',\n",
       " 'businessmind',\n",
       " 'exmans',\n",
       " 'tentone',\n",
       " 'turbocharged',\n",
       " 'fundings',\n",
       " 'applaudables',\n",
       " 'charcuterie',\n",
       " 'kindergarteners',\n",
       " 'photobook',\n",
       " 'theexpression',\n",
       " 'photoshooting',\n",
       " 'evidentpain',\n",
       " 'trigganometry',\n",
       " 'pettiness',\n",
       " 'mindraping',\n",
       " 'victimblaming',\n",
       " 'remainders',\n",
       " 'whooptywhooptywhoop',\n",
       " 'pointguard',\n",
       " 'clearportsay',\n",
       " 'manahattan',\n",
       " 'donters',\n",
       " 'erryuhn',\n",
       " 'regroovin',\n",
       " 'manydo',\n",
       " 'swishthey',\n",
       " 'mightnaturally',\n",
       " 'ifhave',\n",
       " '443',\n",
       " 'curveserving',\n",
       " 'itakeitaketake',\n",
       " 'chanceschanceschances',\n",
       " 'rotc',\n",
       " 'soowoop',\n",
       " 'izuzu',\n",
       " 'distincted',\n",
       " 'ohnoohoh',\n",
       " 'tansition',\n",
       " 'llcemi',\n",
       " 'feedbybabeez',\n",
       " 'alixe',\n",
       " 'ascapthc',\n",
       " 'publishingbmi',\n",
       " 'corpascap',\n",
       " 'feedmybabeez',\n",
       " 'gilkey',\n",
       " 'brissett',\n",
       " 'clifton',\n",
       " 'pyper',\n",
       " '1441bmi',\n",
       " 'dawaun',\n",
       " 'ascapjacks',\n",
       " 'plantlife',\n",
       " 'experiencebmijazlady',\n",
       " 'sullivanascap',\n",
       " 'entertainmentgeffen',\n",
       " 'postelle',\n",
       " 'kitti',\n",
       " 'mormile',\n",
       " 'balogun',\n",
       " 'nieves',\n",
       " 'bozzi',\n",
       " 'monick',\n",
       " 'aftermathinterscope',\n",
       " 'peekatyou',\n",
       " 'aughhh',\n",
       " 'unsocial',\n",
       " 'lifejacket',\n",
       " 'topdawg',\n",
       " 'tgs',\n",
       " 'dilinger',\n",
       " 'impotant',\n",
       " '2eleven',\n",
       " 'admirations',\n",
       " 'dzyne',\n",
       " 'ddave',\n",
       " 'quivalent',\n",
       " 'namedroppin',\n",
       " 'الحمد',\n",
       " 'لله\\u200e',\n",
       " 'unsensitive',\n",
       " 'akcufhum',\n",
       " 'nrub',\n",
       " 'tnow',\n",
       " 'erom',\n",
       " 'htrae',\n",
       " 'deelb',\n",
       " 'elggurts',\n",
       " 'lluf',\n",
       " 'snedrub',\n",
       " 'yrrac',\n",
       " 'traeh',\n",
       " 'prentice',\n",
       " 'falsed',\n",
       " 'bodyslammed',\n",
       " 'chastens',\n",
       " 'statutes',\n",
       " 'serengetis',\n",
       " 'hypocritesque',\n",
       " 'gunclapper',\n",
       " 'stepstep',\n",
       " 'skipskip',\n",
       " 'revengin',\n",
       " 'facebooks',\n",
       " 'iging',\n",
       " 'dogcatchers',\n",
       " 'beatties',\n",
       " 'wigll',\n",
       " 'pillers',\n",
       " 'crimmies',\n",
       " 'underlooked',\n",
       " 'undercooked',\n",
       " 'furcoats',\n",
       " 'hubcity',\n",
       " 'sastisfaction',\n",
       " 'blackmon',\n",
       " 'elopin',\n",
       " 'godspeeeeeeed',\n",
       " 'ysay',\n",
       " 'bullishing',\n",
       " 'caaaaaaaaape',\n",
       " 'kobeandphil',\n",
       " 'nowhammy',\n",
       " 'mackwop',\n",
       " 'sociallyaware',\n",
       " 'homecomin',\n",
       " 'triggerin',\n",
       " 'dissolution',\n",
       " 'cuevo',\n",
       " 'dagos',\n",
       " 'itititit',\n",
       " 'bnotes',\n",
       " 'roodypoos',\n",
       " 'bruddah',\n",
       " 'wwas',\n",
       " '0126',\n",
       " 'minimalistic',\n",
       " '0127',\n",
       " 'negatively',\n",
       " '0210',\n",
       " 'dialogueeffect',\n",
       " '0237',\n",
       " '0330',\n",
       " '0343',\n",
       " '0711',\n",
       " 'symbolistic',\n",
       " '0403',\n",
       " 'lostdistractions',\n",
       " '0410',\n",
       " '0424',\n",
       " '0438',\n",
       " '0439',\n",
       " '0559',\n",
       " '0609',\n",
       " 'tastebloods',\n",
       " 'overcompensates',\n",
       " 'mcr',\n",
       " 'misunderstanded',\n",
       " 'yehigh',\n",
       " 'yeeha',\n",
       " 'cheetas',\n",
       " 'sellsail',\n",
       " 'pinkypromise',\n",
       " 'leftsink',\n",
       " 'garret',\n",
       " 'probablyll',\n",
       " 'thugizzle',\n",
       " 'floatation',\n",
       " 'letletletttin',\n",
       " 'foreheadll',\n",
       " 'assadomy',\n",
       " '\\xa0\\xa0\\xa0\\xa0\\xa0\\xa0seattle',\n",
       " '\\xa0\\xa0\\xa0\\xa0\\xa0\\xa0\\xa0\\xa0\\xa0\\xa0\\xa0\\xa0\\xa0key',\n",
       " '\\xa0\\xa0\\xa0\\xa0\\xa0\\xa0vancouver',\n",
       " '\\xa0\\xa0\\xa0\\xa0\\xa0\\xa0pepsi',\n",
       " '\\xa0\\xa0\\xa0\\xa0\\xa0\\xa0san',\n",
       " '\\xa0\\xa0\\xa0\\xa0\\xa0\\xa0\\xa0\\xa0\\xa0\\xa0sap',\n",
       " '\\xa0\\xa0\\xa0\\xa0\\xa0\\xa0oakland',\n",
       " '\\xa0\\xa0\\xa0\\xa0\\xa0\\xa0\\xa0\\xa0\\xa0\\xa0\\xa0oracle',\n",
       " '\\xa0\\xa0\\xa0\\xa0\\xa0\\xa0las',\n",
       " '\\xa0\\xa0\\xa0\\xa0\\xa0\\xa0\\xa0\\xa0mgm',\n",
       " '\\xa0\\xa0\\xa0\\xa0\\xa0\\xa0los',\n",
       " '\\xa0\\xa0\\xa0\\xa0staples',\n",
       " '2013\\xa0\\xa0\\xa0\\xa0\\xa0\\xa0',\n",
       " '\\xa0\\xa0\\xa0salt',\n",
       " '\\xa0\\xa0energy',\n",
       " '\\xa0\\xa0\\xa0denver',\n",
       " '\\xa0\\xa0\\xa0\\xa0\\xa0\\xa0\\xa0\\xa0\\xa0\\xa0\\xa0\\xa0pepsi',\n",
       " '\\xa0\\xa0\\xa0minneapolis',\n",
       " 'mn\\xa0\\xa0\\xa0\\xa0',\n",
       " '\\xa0\\xa0\\xa0chicago',\n",
       " '\\xa0\\xa0\\xa0\\xa0\\xa0\\xa0\\xa0\\xa0\\xa0\\xa0\\xa0\\xa0united',\n",
       " '\\xa0\\xa0\\xa0detroit',\n",
       " '\\xa0\\xa0\\xa0\\xa0\\xa0\\xa0\\xa0\\xa0\\xa0\\xa0\\xa0\\xa0\\xa0palace',\n",
       " '\\xa0\\xa0\\xa0toronto',\n",
       " '\\xa0\\xa0\\xa0\\xa0\\xa0\\xa0\\xa0air',\n",
       " '\\xa0\\xa0\\xa0montreal',\n",
       " '\\xa0\\xa0\\xa0\\xa0\\xa0\\xa0bell',\n",
       " '\\xa0\\xa0\\xa0philadelphia',\n",
       " 'pa\\xa0\\xa0\\xa0\\xa0wells',\n",
       " '\\xa0\\xa0\\xa0boston',\n",
       " '\\xa0\\xa0\\xa0\\xa0\\xa0\\xa0\\xa0\\xa0\\xa0\\xa0\\xa0td',\n",
       " '\\xa0\\xa0\\xa0brooklyn',\n",
       " 'ny\\xa0\\xa0\\xa0\\xa0\\xa0\\xa0\\xa0\\xa0\\xa0',\n",
       " '\\xa0\\xa0\\xa0washington',\n",
       " 'dc\\xa0\\xa0\\xa0\\xa0',\n",
       " '\\xa0\\xa0\\xa0new',\n",
       " '\\xa0\\xa0\\xa0\\xa0\\xa0\\xa0\\xa0\\xa0madison',\n",
       " '\\xa0\\xa0\\xa0miami',\n",
       " '\\xa0\\xa0\\xa0\\xa0\\xa0\\xa0\\xa0\\xa0\\xa0\\xa0\\xa0\\xa0\\xa0\\xa0american',\n",
       " '\\xa0\\xa0\\xa0tampa',\n",
       " 'fl\\xa0\\xa0\\xa0\\xa0\\xa0\\xa0\\xa0\\xa0\\xa0\\xa0\\xa0\\xa0',\n",
       " '\\xa0\\xa0\\xa0atlanta',\n",
       " '\\xa0\\xa0\\xa0\\xa0\\xa0\\xa0\\xa0\\xa0\\xa0\\xa0\\xa0philips',\n",
       " '\\xa0\\xa0\\xa0dallas',\n",
       " '\\xa0\\xa0\\xa0\\xa0\\xa0\\xa0\\xa0\\xa0\\xa0\\xa0\\xa0\\xa0american',\n",
       " '\\xa0\\xa0\\xa0houston',\n",
       " '\\xa0\\xa0\\xa0\\xa0\\xa0\\xa0\\xa0\\xa0\\xa0toyota',\n",
       " 'godscent',\n",
       " 'complaning',\n",
       " 'jumpshots',\n",
       " 'stinkiest',\n",
       " 'surrenduring',\n",
       " 'sixtyseven',\n",
       " 'soberness',\n",
       " 'outlest',\n",
       " 'food4less',\n",
       " 'voicell',\n",
       " 'jmans',\n",
       " 'lpp',\n",
       " 'vtp',\n",
       " 'limehood',\n",
       " 'nhc',\n",
       " 'pbc',\n",
       " 'tragniew',\n",
       " 'raymonds',\n",
       " 'burgos',\n",
       " 'claimers',\n",
       " 'sexted',\n",
       " 'rigamortus',\n",
       " 'hypocriteesque',\n",
       " 'aunti',\n",
       " 'substancy',\n",
       " 'bitabitabitabitabeat',\n",
       " 'haggling',\n",
       " 'billiards',\n",
       " 'eiffiels',\n",
       " 'prerogatives',\n",
       " 'martinmalcolm',\n",
       " 'tiiight',\n",
       " 'cocococock',\n",
       " 'gratuities',\n",
       " 'eejay',\n",
       " 'pulprit',\n",
       " 'fixating',\n",
       " 'masson',\n",
       " 'pippy',\n",
       " 'godgiftedness',\n",
       " 'refujesus',\n",
       " 'westcoastin',\n",
       " 'armreach',\n",
       " 'twelveinch',\n",
       " 'mindbending',\n",
       " 'pattering',\n",
       " 'oboog',\n",
       " 'fallallallall',\n",
       " 'ménageàtrois',\n",
       " 'abazaba',\n",
       " 'workaart',\n",
       " 'patrolin',\n",
       " 'cozumel',\n",
       " 'pahtna',\n",
       " 'oob',\n",
       " 'bitchbitchbitchbitchbitchbitchbitchbitchbitch',\n",
       " 'bbarney',\n",
       " 'demeanorll',\n",
       " 'whatareyoudoing',\n",
       " 'iiisiah',\n",
       " 'kehas',\n",
       " 'stacie',\n",
       " 'unacquired',\n",
       " 'retread',\n",
       " 'ninehundredandnintyninethousand',\n",
       " 'hgame',\n",
       " 'ferrarri',\n",
       " 'towelless',\n",
       " 'advision',\n",
       " 'priciest',\n",
       " 'waityou',\n",
       " 'ironichmm',\n",
       " 'vanities',\n",
       " 'insomnic',\n",
       " 'grouop',\n",
       " 'debugging',\n",
       " 'sassmouth',\n",
       " 'parodys',\n",
       " 'fajja',\n",
       " 'nipsy',\n",
       " 'iiraq',\n",
       " 'nourishing',\n",
       " 'cuethegfunksynth',\n",
       " 'shivah',\n",
       " 'sevenseater',\n",
       " 'majorlabeldebut',\n",
       " 'citydropped',\n",
       " 'slowrolling',\n",
       " 'tripletime',\n",
       " 'confessionals',\n",
       " 'linguistically',\n",
       " 'lushness',\n",
       " 'twentyblock',\n",
       " 'songgood',\n",
       " 'industryshocking',\n",
       " '241000',\n",
       " 'sixtyfourbar',\n",
       " 'keatons',\n",
       " 'wizened',\n",
       " 'lashout',\n",
       " 'hermitontheedgeofthenitriandesert',\n",
       " 'visionseeing',\n",
       " 'monastic',\n",
       " 'uncalm',\n",
       " 'partyvma',\n",
       " 'mid90s',\n",
       " 'coasteast',\n",
       " 'breathlessly',\n",
       " 'recounted',\n",
       " 'thwarted',\n",
       " 'jenné',\n",
       " 'tottering',\n",
       " 'callandresponse',\n",
       " 'wraithlike',\n",
       " 'fuckfaces',\n",
       " 'chicagoans',\n",
       " 'tolerable',\n",
       " 'iceeee',\n",
       " 'selectors',\n",
       " 'believerer',\n",
       " 'completedly',\n",
       " 'heebee',\n",
       " 'jeebee',\n",
       " 'attendamiento',\n",
       " 'mhn',\n",
       " 'verbically',\n",
       " 'lazerin',\n",
       " 'syntagmatic',\n",
       " 'comptoany',\n",
       " 'threeoneoh',\n",
       " 'urkin',\n",
       " 'jibbing',\n",
       " 'iriss',\n",
       " 'monitorin',\n",
       " 'dowap',\n",
       " 'ouwap',\n",
       " 'rahs',\n",
       " 'blahs',\n",
       " 'rappercypher',\n",
       " 'clinchin',\n",
       " 'reneg',\n",
       " 'sjust',\n",
       " 'ritt',\n",
       " 'momney',\n",
       " 'oldtimer',\n",
       " 'snackers',\n",
       " 'papiermache',\n",
       " 'tupacs',\n",
       " 'barbarious',\n",
       " 'metafour',\n",
       " 'kendricklet',\n",
       " 'blacklipped',\n",
       " 'polopogo',\n",
       " 'chicksll',\n",
       " 'domasito',\n",
       " 'politest',\n",
       " '1xtall',\n",
       " 'f2b3',\n",
       " 'thirtythreethousand',\n",
       " 'acquaint',\n",
       " 'shotdown',\n",
       " 'curtesy',\n",
       " 'gigigive',\n",
       " 'hovin',\n",
       " 'skyship',\n",
       " 'concertll',\n",
       " 'kickeddown',\n",
       " 'caned',\n",
       " 'tolled',\n",
       " 'fiftyhomie',\n",
       " 'wetshirt',\n",
       " 'hashbrowns',\n",
       " 'cajones',\n",
       " 'indash',\n",
       " 'shugs',\n",
       " '9year',\n",
       " 'disobediant',\n",
       " 'wowing',\n",
       " 'womanfriend',\n",
       " 'impuritys',\n",
       " 'tortya',\n",
       " 'permeant',\n",
       " 'handpaint',\n",
       " 'awwhuh',\n",
       " 'carousing',\n",
       " 'lechter',\n",
       " 'squadrine',\n",
       " 'paisa',\n",
       " 'wammys',\n",
       " 'cacodylate',\n",
       " 'worthiness',\n",
       " 'whosevers',\n",
       " 'triton',\n",
       " 'backflipping',\n",
       " 'rastic',\n",
       " 'absoulloutley',\n",
       " 'umkeep',\n",
       " 'papass',\n",
       " 'homestyle',\n",
       " 'maize',\n",
       " 'hippet',\n",
       " 'coneal',\n",
       " 'magll',\n",
       " 'busybody',\n",
       " 'ooos',\n",
       " 'crinching',\n",
       " 'kittys',\n",
       " 'hmmshe',\n",
       " 'skirmishes',\n",
       " 'antagonizin',\n",
       " 'xerces',\n",
       " 'clergies',\n",
       " 'seldomly',\n",
       " 'visionll',\n",
       " 'paraphenelia',\n",
       " 'opposable',\n",
       " 'bitcher',\n",
       " 'kindergartners',\n",
       " 'whamp',\n",
       " 'benzistomejustacar',\n",
       " 'wallacees',\n",
       " 'remaniscing',\n",
       " 'bonnafie',\n",
       " 'copastetic',\n",
       " 'saidno',\n",
       " 'pmiller',\n",
       " 'blands',\n",
       " 'haltertop',\n",
       " 'gamblings',\n",
       " 'bbbucking',\n",
       " 'uncaliforniaish',\n",
       " 'halfdozen',\n",
       " 'comptonborn',\n",
       " 'threebedroom',\n",
       " '1612',\n",
       " '137th',\n",
       " 'executiveproduced',\n",
       " 'carttoting',\n",
       " '1951',\n",
       " 'majoritywhite',\n",
       " 'toyotaa',\n",
       " 'recounts',\n",
       " 'autozone',\n",
       " 'duckworths',\n",
       " 'pettys',\n",
       " 'inge',\n",
       " 'doubleentendres',\n",
       " 'cusser',\n",
       " 'murkier',\n",
       " 'lapds',\n",
       " 'domesticviolence',\n",
       " '120th',\n",
       " '10inch',\n",
       " 'pistolaim',\n",
       " 'subverts',\n",
       " 'trafficks',\n",
       " 'kidit',\n",
       " '16year',\n",
       " 'culturebut',\n",
       " 'streetwhen',\n",
       " 'mehypocrite',\n",
       " 'soundtracking',\n",
       " 'happystyle',\n",
       " 'upstyle',\n",
       " 'berating',\n",
       " 'synesthetically',\n",
       " 'dispora',\n",
       " 'namechecks',\n",
       " 'imagines',\n",
       " 'himblack',\n",
       " 'tiffeth',\n",
       " 'retone',\n",
       " 'trilevel',\n",
       " 'artrave',\n",
       " 'aarrest',\n",
       " 'yorki',\n",
       " 'feenish',\n",
       " 'psssst',\n",
       " 'uckle',\n",
       " 'phoneme',\n",
       " 'fussyass',\n",
       " 'raffing',\n",
       " 'cubbard',\n",
       " 'offn',\n",
       " 'homocides',\n",
       " 'tvguide',\n",
       " 'cracklines',\n",
       " 'fallaway',\n",
       " 'offglass',\n",
       " 'posterizing',\n",
       " 'mashedup',\n",
       " 'citywise',\n",
       " 'oneofive',\n",
       " 'elery',\n",
       " 'cashanova',\n",
       " '76′s',\n",
       " 'herzels',\n",
       " 'wallabys',\n",
       " 'collabin',\n",
       " 'gasolyou',\n",
       " 'twoohpoint',\n",
       " 'lannie',\n",
       " 'vanitys',\n",
       " 'promissory',\n",
       " 'astronautin',\n",
       " 'burroughs',\n",
       " 'shshshshooting',\n",
       " 'lolololook',\n",
       " 'kius',\n",
       " 'kendick',\n",
       " 'lickashot',\n",
       " 'mindpeacelove',\n",
       " 'proietti',\n",
       " 'smeered',\n",
       " 'asthematic',\n",
       " 'lasering',\n",
       " 'compto',\n",
       " 'mibbs',\n",
       " 'beyoung',\n",
       " 'noassatall',\n",
       " 'whackers',\n",
       " 'footaction',\n",
       " 'whoblah',\n",
       " 'defiling',\n",
       " 'neurologist',\n",
       " 'geroge',\n",
       " 'clintion',\n",
       " 'academis',\n",
       " 'poolin',\n",
       " 'proffesionalism',\n",
       " 'insubbordination',\n",
       " 'undelrine',\n",
       " 'prioirity',\n",
       " 'muckas',\n",
       " 'moneymakingmitch',\n",
       " 'coldheart',\n",
       " 'bitches\\u200b',\n",
       " 'wristnothing',\n",
       " 'targetheartless',\n",
       " 'latifa',\n",
       " 'shitters',\n",
       " 'isely',\n",
       " 'excorcist',\n",
       " 'californiaraised',\n",
       " 'californiapaid',\n",
       " 'freelancers',\n",
       " 'gorgeousd',\n",
       " 'jurassics',\n",
       " 'godsll',\n",
       " 'spotetic',\n",
       " 'macoy',\n",
       " 'schh',\n",
       " 'apposed',\n",
       " 'semiauti',\n",
       " 'infertile',\n",
       " 'brashness',\n",
       " 'shellbullet',\n",
       " 'sumping',\n",
       " 'tweeterin',\n",
       " 'colt45',\n",
       " 'airman',\n",
       " 'gymmy',\n",
       " 'bboard',\n",
       " 'eightoeight',\n",
       " 'bbming',\n",
       " 'deeplike',\n",
       " 'miccy',\n",
       " 'bedless',\n",
       " 'marro',\n",
       " 'angelatas',\n",
       " 'cavadas',\n",
       " 'tempurpedicll',\n",
       " 'tattooll',\n",
       " 'knowigotalotta',\n",
       " 'dredgeit',\n",
       " 'lookstandin',\n",
       " 'graying',\n",
       " 'kinkiness',\n",
       " 'bedspring',\n",
       " 's5s',\n",
       " 'lacross',\n",
       " 'thunderquake',\n",
       " 'hally',\n",
       " 'hubbing',\n",
       " 'jayrock',\n",
       " '{topic',\n",
       " 'haleys',\n",
       " 'j3',\n",
       " 'ablock',\n",
       " 'snubbing',\n",
       " '08192014',\n",
       " 'baladacci',\n",
       " 'angelella',\n",
       " '05282013',\n",
       " 'astronote',\n",
       " '08142014',\n",
       " '09212014',\n",
       " 'leimberg',\n",
       " '06302014',\n",
       " '20142016',\n",
       " '09062014',\n",
       " 'insensitivity',\n",
       " 'unhung',\n",
       " 'upcheck',\n",
       " 'babylook',\n",
       " 'boatrock',\n",
       " 'nokias',\n",
       " 'shakeys',\n",
       " 'cheapwood',\n",
       " 'monic',\n",
       " 'damnhardly',\n",
       " 'hurrd',\n",
       " 'soundscanll',\n",
       " 'godlover',\n",
       " 'manbun',\n",
       " 'outpetty',\n",
       " '10yearolds',\n",
       " 'richshamed',\n",
       " 'threefooteleven',\n",
       " 'ballsdeep',\n",
       " 'halfcock',\n",
       " 'skillaholic',\n",
       " 'dippityhippity',\n",
       " 'yapyap',\n",
       " 'yacketyyack',\n",
       " 'disastrously',\n",
       " 'exuberance',\n",
       " 'gaylookin',\n",
       " 'massoccur',\n",
       " 'deepthroatin',\n",
       " 'superstardoms',\n",
       " 'nosedove',\n",
       " 'dadadom',\n",
       " 'dadom',\n",
       " 'nineto',\n",
       " 'monotonys',\n",
       " 'conjurin',\n",
       " 'ponderinll',\n",
       " 'yodelodelayheehoo',\n",
       " 'vanvonderen',\n",
       " 'interventionist',\n",
       " 'conkin',\n",
       " 'relayin',\n",
       " 'pumpedup',\n",
       " 'ooverstayed',\n",
       " 'reair',\n",
       " 'rearending',\n",
       " 'stairlift',\n",
       " 'eeriest',\n",
       " 'smack\\u200b\\u200b',\n",
       " 'tiskit',\n",
       " 'taskit',\n",
       " '36yearold',\n",
       " 'voosh',\n",
       " 'vengefully',\n",
       " 'hackup',\n",
       " 'aaaghh',\n",
       " 'polyps',\n",
       " 'foreshadows',\n",
       " 'resuscitates',\n",
       " 'nightstands',\n",
       " 'semicartermatic',\n",
       " 'topplin',\n",
       " 'fixable',\n",
       " 'grandbabies',\n",
       " 'deterioratin',\n",
       " 'undoubtably',\n",
       " 'clickclackblaow',\n",
       " 'rapey',\n",
       " 'cringeworthy',\n",
       " 'palefaced',\n",
       " 'mediumsized',\n",
       " 'paddock',\n",
       " 'basal',\n",
       " 'ganglias',\n",
       " 'bidets',\n",
       " 'itssnot',\n",
       " 'contentions',\n",
       " 'nominally',\n",
       " 'sixtythousand',\n",
       " 'multiplatinumselling',\n",
       " 'münchausens',\n",
       " 'succubuses',\n",
       " 'kabillion',\n",
       " 'indulgent',\n",
       " 'shadymania',\n",
       " 'downtalkin',\n",
       " 'perfecter',\n",
       " 'whatsherface',\n",
       " 'intertwinin',\n",
       " 'hommo',\n",
       " 'havensll',\n",
       " 'murderize',\n",
       " 'dementedness',\n",
       " 'eaglesll',\n",
       " 'pairll',\n",
       " 'siblin',\n",
       " 'rentfree',\n",
       " 'umpirin',\n",
       " 'overrespected',\n",
       " 'poupons',\n",
       " 'scissorin',\n",
       " 'bernsteins',\n",
       " 'geniusness',\n",
       " 'reinsulate',\n",
       " 'pigsties',\n",
       " 'eyesores',\n",
       " 'sectioneightd',\n",
       " 'oohm',\n",
       " 'paarts',\n",
       " 'lolololo',\n",
       " 'oyeyoyyoy',\n",
       " 'manohman',\n",
       " 'boyboyboys',\n",
       " 'girlsgirlsgirls',\n",
       " 'oinkoinkoink',\n",
       " 'doinkdoinkdoink',\n",
       " 'shitfit',\n",
       " 'trtrtrailer',\n",
       " 'tttown',\n",
       " 'rrround',\n",
       " 'drdrdrown',\n",
       " 'evader',\n",
       " 'crackalator',\n",
       " 'ejaculator',\n",
       " 'antibackstreet',\n",
       " 'boygirl',\n",
       " 'faggy',\n",
       " 'getbizzy',\n",
       " '90some',\n",
       " 'halfbrother',\n",
       " 'spageteven',\n",
       " 'motherfuckersineach',\n",
       " 'feuded',\n",
       " 'politicked',\n",
       " 'hearkening',\n",
       " 'homosex',\n",
       " 'hermaph',\n",
       " 'transavest',\n",
       " 'heterophobic',\n",
       " 'thhbbpp',\n",
       " 'inem',\n",
       " '{whistling}',\n",
       " 'goozer',\n",
       " 'raleys',\n",
       " 'ko\\xa0',\n",
       " 'dispel',\n",
       " 'snowsuit',\n",
       " 'tanface',\n",
       " 'revivals',\n",
       " 'bowout',\n",
       " 'outrhymin',\n",
       " 'foreverandaday',\n",
       " 'whi',\n",
       " 'indoscented',\n",
       " '{kids}',\n",
       " '{columbine}',\n",
       " 'guegueguess',\n",
       " 'gueguegue',\n",
       " 'attaboy',\n",
       " 'backhandin',\n",
       " 'revoltin',\n",
       " 'bulletriddled',\n",
       " ...]"
      ]
     },
     "execution_count": 27,
     "metadata": {},
     "output_type": "execute_result"
    }
   ],
   "source": [
    "unique_words"
   ]
  },
  {
   "cell_type": "code",
   "execution_count": 25,
   "metadata": {},
   "outputs": [
    {
     "data": {
      "text/html": [
       "<div>\n",
       "<style scoped>\n",
       "    .dataframe tbody tr th:only-of-type {\n",
       "        vertical-align: middle;\n",
       "    }\n",
       "\n",
       "    .dataframe tbody tr th {\n",
       "        vertical-align: top;\n",
       "    }\n",
       "\n",
       "    .dataframe thead th {\n",
       "        text-align: right;\n",
       "    }\n",
       "</style>\n",
       "<table border=\"1\" class=\"dataframe\">\n",
       "  <thead>\n",
       "    <tr style=\"text-align: right;\">\n",
       "      <th></th>\n",
       "      <th>song</th>\n",
       "      <th>lyrics</th>\n",
       "      <th>views</th>\n",
       "      <th>cleaned_lyrics</th>\n",
       "    </tr>\n",
       "  </thead>\n",
       "  <tbody>\n",
       "    <tr>\n",
       "      <th>0</th>\n",
       "      <td>Kendrick-lamar-swimming-pools-drank-lyrics</td>\n",
       "      <td>\\n\\n[Produced by T-Minus]\\n\\n[Intro]\\nPour up ...</td>\n",
       "      <td>5589280.0</td>\n",
       "      <td>pour up drank head shot drank sit down dr...</td>\n",
       "    </tr>\n",
       "    <tr>\n",
       "      <th>1</th>\n",
       "      <td>Kendrick-lamar-money-trees-lyrics</td>\n",
       "      <td>\\n\\n[Produced by DJ Dahi]\\n\\n[Verse 1: Kendric...</td>\n",
       "      <td>4592003.0</td>\n",
       "      <td>uh me and my niggas tryna get it ya bish ...</td>\n",
       "    </tr>\n",
       "    <tr>\n",
       "      <th>2</th>\n",
       "      <td>Kendrick-lamar-xxx-lyrics</td>\n",
       "      <td>\\n\\n[Intro: Bēkon &amp; Kid Capri]\\nAmerica, God b...</td>\n",
       "      <td>4651514.0</td>\n",
       "      <td>america god bless you if its good to you am...</td>\n",
       "    </tr>\n",
       "    <tr>\n",
       "      <th>3</th>\n",
       "      <td>A-ap-rocky-fuckin-problems-lyrics</td>\n",
       "      <td>\\n\\n[Chorus: 2 Chainz, Drake &amp; Both (A$AP Rock...</td>\n",
       "      <td>7378309.0</td>\n",
       "      <td>i love bad bitches thats my fuckin problem ...</td>\n",
       "    </tr>\n",
       "    <tr>\n",
       "      <th>4</th>\n",
       "      <td>Kendrick-lamar-dna-lyrics</td>\n",
       "      <td>\\n\\n[Verse 1]\\nI got, I got, I got, I got—\\nLo...</td>\n",
       "      <td>5113687.0</td>\n",
       "      <td>i got i got i got i got  loyalty got royalt...</td>\n",
       "    </tr>\n",
       "    <tr>\n",
       "      <th>...</th>\n",
       "      <td>...</td>\n",
       "      <td>...</td>\n",
       "      <td>...</td>\n",
       "      <td>...</td>\n",
       "    </tr>\n",
       "    <tr>\n",
       "      <th>37900</th>\n",
       "      <td>Pnl-tchiki-tchiki-lyrics</td>\n",
       "      <td>\\n\\n[Intro : N.O.S.]\\nOuais, ouais, ouais, oua...</td>\n",
       "      <td>395097.0</td>\n",
       "      <td>ouais ouais ouais ouais ouais   jsens lodeu...</td>\n",
       "    </tr>\n",
       "    <tr>\n",
       "      <th>37901</th>\n",
       "      <td>Pnl-chang-lyrics</td>\n",
       "      <td>\\n\\n[Couplet 1 : Ademo]\\nChang, chang, chang, ...</td>\n",
       "      <td>281866.0</td>\n",
       "      <td>chang chang chang jmarche sur la muraille a...</td>\n",
       "    </tr>\n",
       "    <tr>\n",
       "      <th>37902</th>\n",
       "      <td>Pnl-simba-lyrics</td>\n",
       "      <td>\\n\\n[Intro: N.O.S]\\nOuais, Ah on va voir\\nOuai...</td>\n",
       "      <td>264939.0</td>\n",
       "      <td>ouais ah on va voir ouais ouais et ça rcomm...</td>\n",
       "    </tr>\n",
       "    <tr>\n",
       "      <th>37903</th>\n",
       "      <td>Pnl-je-thaine-version-orange-lyrics</td>\n",
       "      <td>\\n\\n[Produit par BBP]\\n\\n[Couplet 1 : Ademo]\\n...</td>\n",
       "      <td>270890.0</td>\n",
       "      <td>que dire à part que ça pue dans la street...</td>\n",
       "    </tr>\n",
       "    <tr>\n",
       "      <th>37904</th>\n",
       "      <td>Drake-and-michael-jackson-dont-matter-to-me-ly...</td>\n",
       "      <td>\\n\\n[Verse 1: Drake]\\nAyy, wild things you're ...</td>\n",
       "      <td>861833.0</td>\n",
       "      <td>ayy wild things youre doin at night trips t...</td>\n",
       "    </tr>\n",
       "  </tbody>\n",
       "</table>\n",
       "<p>37905 rows × 4 columns</p>\n",
       "</div>"
      ],
      "text/plain": [
       "                                                    song  \\\n",
       "0             Kendrick-lamar-swimming-pools-drank-lyrics   \n",
       "1                      Kendrick-lamar-money-trees-lyrics   \n",
       "2                              Kendrick-lamar-xxx-lyrics   \n",
       "3                      A-ap-rocky-fuckin-problems-lyrics   \n",
       "4                              Kendrick-lamar-dna-lyrics   \n",
       "...                                                  ...   \n",
       "37900                           Pnl-tchiki-tchiki-lyrics   \n",
       "37901                                   Pnl-chang-lyrics   \n",
       "37902                                   Pnl-simba-lyrics   \n",
       "37903                Pnl-je-thaine-version-orange-lyrics   \n",
       "37904  Drake-and-michael-jackson-dont-matter-to-me-ly...   \n",
       "\n",
       "                                                  lyrics      views  \\\n",
       "0      \\n\\n[Produced by T-Minus]\\n\\n[Intro]\\nPour up ...  5589280.0   \n",
       "1      \\n\\n[Produced by DJ Dahi]\\n\\n[Verse 1: Kendric...  4592003.0   \n",
       "2      \\n\\n[Intro: Bēkon & Kid Capri]\\nAmerica, God b...  4651514.0   \n",
       "3      \\n\\n[Chorus: 2 Chainz, Drake & Both (A$AP Rock...  7378309.0   \n",
       "4      \\n\\n[Verse 1]\\nI got, I got, I got, I got—\\nLo...  5113687.0   \n",
       "...                                                  ...        ...   \n",
       "37900  \\n\\n[Intro : N.O.S.]\\nOuais, ouais, ouais, oua...   395097.0   \n",
       "37901  \\n\\n[Couplet 1 : Ademo]\\nChang, chang, chang, ...   281866.0   \n",
       "37902  \\n\\n[Intro: N.O.S]\\nOuais, Ah on va voir\\nOuai...   264939.0   \n",
       "37903  \\n\\n[Produit par BBP]\\n\\n[Couplet 1 : Ademo]\\n...   270890.0   \n",
       "37904  \\n\\n[Verse 1: Drake]\\nAyy, wild things you're ...   861833.0   \n",
       "\n",
       "                                          cleaned_lyrics  \n",
       "0           pour up drank head shot drank sit down dr...  \n",
       "1           uh me and my niggas tryna get it ya bish ...  \n",
       "2         america god bless you if its good to you am...  \n",
       "3         i love bad bitches thats my fuckin problem ...  \n",
       "4         i got i got i got i got  loyalty got royalt...  \n",
       "...                                                  ...  \n",
       "37900     ouais ouais ouais ouais ouais   jsens lodeu...  \n",
       "37901     chang chang chang jmarche sur la muraille a...  \n",
       "37902     ouais ah on va voir ouais ouais et ça rcomm...  \n",
       "37903       que dire à part que ça pue dans la street...  \n",
       "37904     ayy wild things youre doin at night trips t...  \n",
       "\n",
       "[37905 rows x 4 columns]"
      ]
     },
     "execution_count": 25,
     "metadata": {},
     "output_type": "execute_result"
    }
   ],
   "source": [
    "raw_combined_df"
   ]
  },
  {
   "attachments": {},
   "cell_type": "markdown",
   "metadata": {},
   "source": [
    "# Splitting Data"
   ]
  },
  {
   "cell_type": "code",
   "execution_count": 40,
   "metadata": {},
   "outputs": [],
   "source": [
    "from sklearn.feature_extraction.text import CountVectorizer\n",
    "from sklearn.model_selection import train_test_split\n"
   ]
  },
  {
   "cell_type": "code",
   "execution_count": 41,
   "metadata": {},
   "outputs": [],
   "source": [
    "X = raw_combined_df['cleaned_lyrics']\n",
    "y = raw_combined_df['views']"
   ]
  },
  {
   "cell_type": "code",
   "execution_count": 42,
   "metadata": {},
   "outputs": [],
   "source": [
    "\n",
    "X_train, X_test, y_train, y_test = train_test_split(X, y, test_size=0.30, random_state=42)"
   ]
  },
  {
   "cell_type": "code",
   "execution_count": 43,
   "metadata": {},
   "outputs": [
    {
     "data": {
      "text/plain": [
       "(26533,)"
      ]
     },
     "execution_count": 43,
     "metadata": {},
     "output_type": "execute_result"
    }
   ],
   "source": [
    "X_train.shape"
   ]
  },
  {
   "cell_type": "code",
   "execution_count": 45,
   "metadata": {},
   "outputs": [
    {
     "data": {
      "text/plain": [
       "<26533x186412 sparse matrix of type '<class 'numpy.int64'>'\n",
       "\twith 5261481 stored elements in Compressed Sparse Row format>"
      ]
     },
     "execution_count": 45,
     "metadata": {},
     "output_type": "execute_result"
    }
   ],
   "source": [
    "bagofwords = CountVectorizer()\n",
    "bagofwords.fit(X_train)\n",
    "\n",
    "X_train_transformed = bagofwords.transform(X_train)\n",
    "X_train_transformed"
   ]
  },
  {
   "cell_type": "code",
   "execution_count": 46,
   "metadata": {},
   "outputs": [
    {
     "data": {
      "text/plain": [
       "482.5127258300781"
      ]
     },
     "execution_count": 46,
     "metadata": {},
     "output_type": "execute_result"
    }
   ],
   "source": [
    "# Space X_train_transformed takes up\n",
    "(X_train_transformed.data.nbytes + X_train_transformed.indptr.nbytes + X_train_transformed.indices.nbytes)*8/1024/1024"
   ]
  },
  {
   "attachments": {},
   "cell_type": "markdown",
   "metadata": {},
   "source": [
    "The training data takes up 482.5 MB"
   ]
  },
  {
   "attachments": {},
   "cell_type": "markdown",
   "metadata": {},
   "source": [
    "Next we want to see the distribution of the most 20 commmon words."
   ]
  },
  {
   "cell_type": "code",
   "execution_count": 68,
   "metadata": {},
   "outputs": [
    {
     "data": {
      "image/png": "[encoded data removed]",
      "text/plain": [
       "<Figure size 1500x500 with 1 Axes>"
      ]
     },
     "metadata": {},
     "output_type": "display_data"
    }
   ],
   "source": [
    "counts = np.array(X_train_transformed.sum(axis = 0))\n",
    "words = bagofwords.get_feature_names_out()\n",
    "word_count_df = pd.DataFrame(\n",
    "    {\n",
    "        'counts': counts[0],\n",
    "    },\n",
    "    index=words\n",
    ").sort_values('counts', ascending=False)\n",
    "word_count_df.head(20).plot(kind='bar', figsize=(15,5), legend=False)\n",
    "plt.xticks(rotation=45);"
   ]
  },
  {
   "cell_type": "code",
   "execution_count": 98,
   "metadata": {},
   "outputs": [
    {
     "name": "stdout",
     "output_type": "stream",
     "text": [
      "(26533, 186103) (26533, 186412)\n"
     ]
    }
   ],
   "source": [
    "bagofwords_stop = CountVectorizer(stop_words='english')\n",
    "bagofwords_stop.fit(X_train)\n",
    "\n",
    "X_train_transformed_stop = bagofwords_stop.transform(X_train)\n",
    "X_test_transformed_stop = bagofwords_stop.transform(X_test)\n",
    "\n",
    "print(X_train_transformed_stop.shape, X_train_transformed.shape)"
   ]
  },
  {
   "cell_type": "code",
   "execution_count": null,
   "metadata": {},
   "outputs": [],
   "source": [
    "# Set lower limits for word counts. \n",
    "# Set upper limits for word counts.\n",
    "#  This is in the CountVectorizer. \n",
    "#  Limit vocab size. "
   ]
  },
  {
   "cell_type": "code",
   "execution_count": 69,
   "metadata": {},
   "outputs": [
    {
     "data": {
      "image/png": "[encoded data removed]",
      "text/plain": [
       "<Figure size 1500x500 with 1 Axes>"
      ]
     },
     "metadata": {},
     "output_type": "display_data"
    }
   ],
   "source": [
    "counts = np.array(X_train_transformed_stop.sum(axis = 0))\n",
    "words = bagofwords_stop.get_feature_names_out()\n",
    "word_count_df = pd.DataFrame(\n",
    "    {\n",
    "        'counts': counts[0],\n",
    "    },\n",
    "    index=words\n",
    ").sort_values('counts', ascending=False)\n",
    "word_count_df.head(20).plot(kind='bar', figsize=(15,5), legend=False)\n",
    "plt.xticks(rotation=45);"
   ]
  },
  {
   "attachments": {},
   "cell_type": "markdown",
   "metadata": {},
   "source": [
    "# Making a linear regression model to predict views."
   ]
  },
  {
   "cell_type": "code",
   "execution_count": 71,
   "metadata": {},
   "outputs": [],
   "source": [
    "from sklearn.linear_model import LinearRegression"
   ]
  },
  {
   "cell_type": "code",
   "execution_count": 99,
   "metadata": {},
   "outputs": [
    {
     "data": {
      "text/plain": [
       "LinearRegression()"
      ]
     },
     "execution_count": 99,
     "metadata": {},
     "output_type": "execute_result"
    }
   ],
   "source": [
    "linear_regression = LinearRegression()\n",
    "linear_regression.fit(X_train_transformed_stop, y_train)"
   ]
  },
  {
   "cell_type": "code",
   "execution_count": 100,
   "metadata": {},
   "outputs": [
    {
     "name": "stdout",
     "output_type": "stream",
     "text": [
      "0.9994164381906067\n"
     ]
    }
   ],
   "source": [
    "print(linear_regression.score(X_train_transformed_stop, y_train))"
   ]
  },
  {
   "cell_type": "code",
   "execution_count": 101,
   "metadata": {},
   "outputs": [
    {
     "data": {
      "text/plain": [
       "matrix([[0, 0, 0, ..., 0, 0, 0],\n",
       "        [0, 0, 0, ..., 0, 0, 0],\n",
       "        [0, 0, 0, ..., 0, 0, 0],\n",
       "        ...,\n",
       "        [0, 0, 0, ..., 0, 0, 0],\n",
       "        [0, 0, 0, ..., 0, 0, 0],\n",
       "        [0, 0, 0, ..., 0, 0, 0]])"
      ]
     },
     "execution_count": 101,
     "metadata": {},
     "output_type": "execute_result"
    }
   ],
   "source": [
    "X_test_transformed_stop[0:10].todense()"
   ]
  },
  {
   "cell_type": "code",
   "execution_count": 1,
   "metadata": {},
   "outputs": [
    {
     "ename": "NameError",
     "evalue": "name 'y_test' is not defined",
     "output_type": "error",
     "traceback": [
      "\u001b[0;31m---------------------------------------------------------------------------\u001b[0m",
      "\u001b[0;31mNameError\u001b[0m                                 Traceback (most recent call last)",
      "\u001b[0;32m/tmp/ipykernel_283/2966258366.py\u001b[0m in \u001b[0;36m<module>\u001b[0;34m\u001b[0m\n\u001b[0;32m----> 1\u001b[0;31m \u001b[0my_test\u001b[0m\u001b[0;34m[\u001b[0m\u001b[0;36m0\u001b[0m\u001b[0;34m:\u001b[0m\u001b[0;36m10\u001b[0m\u001b[0;34m]\u001b[0m\u001b[0;34m\u001b[0m\u001b[0;34m\u001b[0m\u001b[0m\n\u001b[0m",
      "\u001b[0;31mNameError\u001b[0m: name 'y_test' is not defined"
     ]
    }
   ],
   "source": [
    "y_test[0:10]"
   ]
  },
  {
   "cell_type": "code",
   "execution_count": 103,
   "metadata": {},
   "outputs": [
    {
     "data": {
      "text/plain": [
       "29801      5151.0\n",
       "1714     124663.0\n",
       "32400     12439.0\n",
       "23144     19119.0\n",
       "28485     12825.0\n",
       "7456      10438.0\n",
       "14160    103452.0\n",
       "12263     71725.0\n",
       "12172     19068.0\n",
       "37417     36022.0\n",
       "Name: views, dtype: float64"
      ]
     },
     "execution_count": 103,
     "metadata": {},
     "output_type": "execute_result"
    }
   ],
   "source": [
    "y_train[0:10]"
   ]
  },
  {
   "cell_type": "code",
   "execution_count": 104,
   "metadata": {},
   "outputs": [
    {
     "name": "stdout",
     "output_type": "stream",
     "text": [
      "-17.452086872204617\n"
     ]
    }
   ],
   "source": [
    "print(linear_regression.score(X_test_transformed_stop, y_test))"
   ]
  },
  {
   "attachments": {},
   "cell_type": "markdown",
   "metadata": {},
   "source": [
    "We can see that the $R^2$ is negative meaning that the linear regression model is not able to handle the sparse dataset, instead we will try to using another linear model with an L1 regulizer.\n",
    "\n",
    "This regulizer should let the linear model better handle our sparse matrix dataset. "
   ]
  },
  {
   "cell_type": "code",
   "execution_count": 88,
   "metadata": {},
   "outputs": [],
   "source": [
    "from sklearn import linear_model"
   ]
  },
  {
   "cell_type": "code",
   "execution_count": 89,
   "metadata": {},
   "outputs": [
    {
     "name": "stderr",
     "output_type": "stream",
     "text": [
      "/home/jng/anaconda3/lib/python3.9/site-packages/sklearn/linear_model/_coordinate_descent.py:609: ConvergenceWarning: Objective did not converge. You might want to increase the number of iterations. Duality gap: 13355251350194.572, tolerance: 441403401186.5639\n",
      "  model = cd_fast.sparse_enet_coordinate_descent(\n"
     ]
    },
    {
     "data": {
      "text/plain": [
       "Lasso(alpha=0.1)"
      ]
     },
     "execution_count": 89,
     "metadata": {},
     "output_type": "execute_result"
    }
   ],
   "source": [
    "clf = linear_model.Lasso(alpha=0.1)\n",
    "clf.fit(X_train_transformed_stop, y_train)"
   ]
  },
  {
   "cell_type": "code",
   "execution_count": 90,
   "metadata": {},
   "outputs": [
    {
     "data": {
      "text/plain": [
       "-12.078526123246078"
      ]
     },
     "execution_count": 90,
     "metadata": {},
     "output_type": "execute_result"
    }
   ],
   "source": [
    "clf.score(X_test_transformed_stop, y_test)"
   ]
  },
  {
   "cell_type": "code",
   "execution_count": null,
   "metadata": {},
   "outputs": [],
   "source": []
  },
  {
   "cell_type": "code",
   "execution_count": null,
   "metadata": {},
   "outputs": [],
   "source": []
  },
  {
   "cell_type": "code",
   "execution_count": 26,
   "metadata": {},
   "outputs": [],
   "source": [
    "# scikitlearn count vectorizer. \n",
    "#   Remove all punctuation with spaces. \n",
    "#   Remove number and digits. \n",
    "#   Add disclaimer for explicit words. \n",
    "#  Fix that for you text cleaner. \n",
    "\n",
    "\n",
    "# TODO \n",
    "    # Reduce the vocabulary size. \n",
    "    # Mindf and maxdf.\n",
    "    # joblib to store data. \n",
    "        # Stores complicated python objects.\n",
    "        # This only saves model.\n",
    "    # parquet \n",
    "    #   Saves your data.\n",
    "    #   Save output of count vectorizer.  "
   ]
  }
 ],
 "metadata": {
  "kernelspec": {
   "display_name": "base",
   "language": "python",
   "name": "python3"
  },
  "language_info": {
   "codemirror_mode": {
    "name": "ipython",
    "version": 3
   },
   "file_extension": ".py",
   "mimetype": "text/x-python",
   "name": "python",
   "nbconvert_exporter": "python",
   "pygments_lexer": "ipython3",
   "version": "3.9.13"
  },
  "orig_nbformat": 4,
  "vscode": {
   "interpreter": {
    "hash": "b7b969017e21ea3fceb440bc3568f42d726fda0cedf260d07c9604e5a4a75144"
   }
  }
 },
 "nbformat": 4,
 "nbformat_minor": 2
}
