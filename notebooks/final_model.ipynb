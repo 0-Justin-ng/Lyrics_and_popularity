{
 "cells": [
  {
   "cell_type": "code",
   "execution_count": 106,
   "metadata": {},
   "outputs": [
    {
     "name": "stdout",
     "output_type": "stream",
     "text": [
      "The autoreload extension is already loaded. To reload it, use:\n",
      "  %reload_ext autoreload\n"
     ]
    }
   ],
   "source": [
    "import numpy as np\n",
    "import pandas as pd \n",
    "import matplotlib.pyplot as plt\n",
    "\n",
    "import joblib\n",
    "import os\n",
    "import sys\n",
    "\n",
    "module_path = os.path.abspath(os.path.join('..'))\n",
    "if module_path not in sys.path:\n",
    "    sys.path.append(module_path)\n",
    "\n",
    "from utilities import utils\n",
    "from sklearn.linear_model import LogisticRegression\n",
    "from sklearn.pipeline import Pipeline\n",
    "from sklearn.feature_extraction.text import CountVectorizer, ENGLISH_STOP_WORDS\n",
    "from sklearn.model_selection import GridSearchCV, train_test_split\n",
    "\n",
    "DATA_PATH = utils.get_datapath('data')\n",
    "MODEL_PATH = utils.get_datapath('model')\n",
    "\n",
    "%load_ext autoreload\n",
    "%autoreload 2"
   ]
  },
  {
   "cell_type": "code",
   "execution_count": 107,
   "metadata": {},
   "outputs": [],
   "source": [
    "df = pd.read_csv(DATA_PATH / 'clean_lyrics_and_spotify.csv')"
   ]
  },
  {
   "cell_type": "code",
   "execution_count": 108,
   "metadata": {},
   "outputs": [
    {
     "data": {
      "text/html": [
       "<div>\n",
       "<style scoped>\n",
       "    .dataframe tbody tr th:only-of-type {\n",
       "        vertical-align: middle;\n",
       "    }\n",
       "\n",
       "    .dataframe tbody tr th {\n",
       "        vertical-align: top;\n",
       "    }\n",
       "\n",
       "    .dataframe thead th {\n",
       "        text-align: right;\n",
       "    }\n",
       "</style>\n",
       "<table border=\"1\" class=\"dataframe\">\n",
       "  <thead>\n",
       "    <tr style=\"text-align: right;\">\n",
       "      <th></th>\n",
       "      <th>Unnamed: 0</th>\n",
       "      <th>song</th>\n",
       "      <th>lyrics</th>\n",
       "      <th>title</th>\n",
       "      <th>primary_artist</th>\n",
       "      <th>views</th>\n",
       "      <th>cleaned_lyrics</th>\n",
       "      <th>language</th>\n",
       "      <th>log_scaled_views</th>\n",
       "      <th>popular</th>\n",
       "      <th>popularity</th>\n",
       "      <th>popularity_std</th>\n",
       "      <th>spotify_popularity</th>\n",
       "      <th>spotify_popularity_three_class</th>\n",
       "    </tr>\n",
       "  </thead>\n",
       "  <tbody>\n",
       "    <tr>\n",
       "      <th>0</th>\n",
       "      <td>0</td>\n",
       "      <td>Kendrick-lamar-swimming-pools-drank-lyrics</td>\n",
       "      <td>\\n\\n[Produced by T-Minus]\\n\\n[Intro]\\nPour up ...</td>\n",
       "      <td>Swimming Pools (Drank)</td>\n",
       "      <td>Kendrick-lamar</td>\n",
       "      <td>5589280.0</td>\n",
       "      <td>pour up drank head shot drank sit down drank ...</td>\n",
       "      <td>en</td>\n",
       "      <td>15.536361</td>\n",
       "      <td>1</td>\n",
       "      <td>2</td>\n",
       "      <td>2</td>\n",
       "      <td>78.0</td>\n",
       "      <td>2</td>\n",
       "    </tr>\n",
       "    <tr>\n",
       "      <th>1</th>\n",
       "      <td>1</td>\n",
       "      <td>Kendrick-lamar-money-trees-lyrics</td>\n",
       "      <td>\\n\\n[Produced by DJ Dahi]\\n\\n[Verse 1: Kendric...</td>\n",
       "      <td>Money Trees</td>\n",
       "      <td>Kendrick-lamar</td>\n",
       "      <td>4592003.0</td>\n",
       "      <td>uh me and my niggas tryna get it ya bish ya b...</td>\n",
       "      <td>en</td>\n",
       "      <td>15.339827</td>\n",
       "      <td>1</td>\n",
       "      <td>2</td>\n",
       "      <td>2</td>\n",
       "      <td>81.0</td>\n",
       "      <td>2</td>\n",
       "    </tr>\n",
       "    <tr>\n",
       "      <th>2</th>\n",
       "      <td>2</td>\n",
       "      <td>Kendrick-lamar-xxx-lyrics</td>\n",
       "      <td>\\n\\n[Intro: Bēkon &amp; Kid Capri]\\nAmerica, God b...</td>\n",
       "      <td>XXX.</td>\n",
       "      <td>Kendrick-lamar</td>\n",
       "      <td>4651514.0</td>\n",
       "      <td>america god bless you if its good to you amer...</td>\n",
       "      <td>en</td>\n",
       "      <td>15.352703</td>\n",
       "      <td>1</td>\n",
       "      <td>2</td>\n",
       "      <td>2</td>\n",
       "      <td>69.0</td>\n",
       "      <td>2</td>\n",
       "    </tr>\n",
       "    <tr>\n",
       "      <th>3</th>\n",
       "      <td>3</td>\n",
       "      <td>A-ap-rocky-fuckin-problems-lyrics</td>\n",
       "      <td>\\n\\n[Chorus: 2 Chainz, Drake &amp; Both (A$AP Rock...</td>\n",
       "      <td>Fuckin’ Problems</td>\n",
       "      <td>A-ap-rocky</td>\n",
       "      <td>7378309.0</td>\n",
       "      <td>i love bad bitches thats my fuckin problem an...</td>\n",
       "      <td>en</td>\n",
       "      <td>15.814055</td>\n",
       "      <td>1</td>\n",
       "      <td>2</td>\n",
       "      <td>2</td>\n",
       "      <td>75.0</td>\n",
       "      <td>2</td>\n",
       "    </tr>\n",
       "    <tr>\n",
       "      <th>4</th>\n",
       "      <td>4</td>\n",
       "      <td>Kendrick-lamar-dna-lyrics</td>\n",
       "      <td>\\n\\n[Verse 1]\\nI got, I got, I got, I got—\\nLo...</td>\n",
       "      <td>DNA.</td>\n",
       "      <td>Kendrick-lamar</td>\n",
       "      <td>5113687.0</td>\n",
       "      <td>i got i got i got i got loyalty got royalty i...</td>\n",
       "      <td>en</td>\n",
       "      <td>15.447431</td>\n",
       "      <td>1</td>\n",
       "      <td>2</td>\n",
       "      <td>2</td>\n",
       "      <td>80.0</td>\n",
       "      <td>2</td>\n",
       "    </tr>\n",
       "  </tbody>\n",
       "</table>\n",
       "</div>"
      ],
      "text/plain": [
       "   Unnamed: 0                                        song  \\\n",
       "0           0  Kendrick-lamar-swimming-pools-drank-lyrics   \n",
       "1           1           Kendrick-lamar-money-trees-lyrics   \n",
       "2           2                   Kendrick-lamar-xxx-lyrics   \n",
       "3           3           A-ap-rocky-fuckin-problems-lyrics   \n",
       "4           4                   Kendrick-lamar-dna-lyrics   \n",
       "\n",
       "                                              lyrics                   title  \\\n",
       "0  \\n\\n[Produced by T-Minus]\\n\\n[Intro]\\nPour up ...  Swimming Pools (Drank)   \n",
       "1  \\n\\n[Produced by DJ Dahi]\\n\\n[Verse 1: Kendric...             Money Trees   \n",
       "2  \\n\\n[Intro: Bēkon & Kid Capri]\\nAmerica, God b...                    XXX.   \n",
       "3  \\n\\n[Chorus: 2 Chainz, Drake & Both (A$AP Rock...        Fuckin’ Problems   \n",
       "4  \\n\\n[Verse 1]\\nI got, I got, I got, I got—\\nLo...                    DNA.   \n",
       "\n",
       "   primary_artist      views  \\\n",
       "0  Kendrick-lamar  5589280.0   \n",
       "1  Kendrick-lamar  4592003.0   \n",
       "2  Kendrick-lamar  4651514.0   \n",
       "3      A-ap-rocky  7378309.0   \n",
       "4  Kendrick-lamar  5113687.0   \n",
       "\n",
       "                                      cleaned_lyrics language  \\\n",
       "0   pour up drank head shot drank sit down drank ...       en   \n",
       "1   uh me and my niggas tryna get it ya bish ya b...       en   \n",
       "2   america god bless you if its good to you amer...       en   \n",
       "3   i love bad bitches thats my fuckin problem an...       en   \n",
       "4   i got i got i got i got loyalty got royalty i...       en   \n",
       "\n",
       "   log_scaled_views  popular  popularity  popularity_std  spotify_popularity  \\\n",
       "0         15.536361        1           2               2                78.0   \n",
       "1         15.339827        1           2               2                81.0   \n",
       "2         15.352703        1           2               2                69.0   \n",
       "3         15.814055        1           2               2                75.0   \n",
       "4         15.447431        1           2               2                80.0   \n",
       "\n",
       "   spotify_popularity_three_class  \n",
       "0                               2  \n",
       "1                               2  \n",
       "2                               2  \n",
       "3                               2  \n",
       "4                               2  "
      ]
     },
     "metadata": {},
     "output_type": "display_data"
    },
    {
     "data": {
      "text/plain": [
       "(35908, 14)"
      ]
     },
     "metadata": {},
     "output_type": "display_data"
    }
   ],
   "source": [
    "display(df.head())\n",
    "display(df.shape)"
   ]
  },
  {
   "cell_type": "code",
   "execution_count": 113,
   "metadata": {},
   "outputs": [],
   "source": [
    "X = df['cleaned_lyrics']\n",
    "y = df['spotify_popularity_three_class']"
   ]
  },
  {
   "cell_type": "code",
   "execution_count": 114,
   "metadata": {},
   "outputs": [],
   "source": [
    "X_train, X_test, y_train, y_test = train_test_split(X, y, test_size=0.2, stratify=y)"
   ]
  },
  {
   "cell_type": "code",
   "execution_count": 115,
   "metadata": {},
   "outputs": [],
   "source": [
    "ngrams_vectorizer = CountVectorizer(max_df=0.9, \n",
    "                         min_df=0.01, \n",
    "                         stop_words=list(ENGLISH_STOP_WORDS), \n",
    "                         ngram_range=(1,3)\n",
    "                         )\n",
    "\n",
    "log_reg = LogisticRegression(penalty='l2', max_iter=500)"
   ]
  },
  {
   "cell_type": "code",
   "execution_count": 116,
   "metadata": {},
   "outputs": [],
   "source": [
    "pipe = Pipeline(steps=\n",
    "                [\n",
    "                    ('ngrams', ngrams_vectorizer),\n",
    "                    ('log_reg', log_reg)\n",
    "                ]\n",
    "            )"
   ]
  },
  {
   "cell_type": "code",
   "execution_count": 72,
   "metadata": {},
   "outputs": [],
   "source": [
    "param_grid = {\n",
    "    'log_reg__C':[0.0001, 0.001, 0.01, 0.1, 1, 10, 100],\n",
    "    'log_reg__solver':['newton-cg']\n",
    "}"
   ]
  },
  {
   "cell_type": "code",
   "execution_count": 73,
   "metadata": {},
   "outputs": [
    {
     "name": "stderr",
     "output_type": "stream",
     "text": [
      "/home/jng/anaconda3/lib/python3.9/site-packages/sklearn/utils/optimize.py:210: ConvergenceWarning: newton-cg failed to converge. Increase the number of iterations.\n",
      "  warnings.warn(\n"
     ]
    },
    {
     "data": {
      "text/html": [
       "<style>#sk-container-id-2 {color: black;background-color: white;}#sk-container-id-2 pre{padding: 0;}#sk-container-id-2 div.sk-toggleable {background-color: white;}#sk-container-id-2 label.sk-toggleable__label {cursor: pointer;display: block;width: 100%;margin-bottom: 0;padding: 0.3em;box-sizing: border-box;text-align: center;}#sk-container-id-2 label.sk-toggleable__label-arrow:before {content: \"▸\";float: left;margin-right: 0.25em;color: #696969;}#sk-container-id-2 label.sk-toggleable__label-arrow:hover:before {color: black;}#sk-container-id-2 div.sk-estimator:hover label.sk-toggleable__label-arrow:before {color: black;}#sk-container-id-2 div.sk-toggleable__content {max-height: 0;max-width: 0;overflow: hidden;text-align: left;background-color: #f0f8ff;}#sk-container-id-2 div.sk-toggleable__content pre {margin: 0.2em;color: black;border-radius: 0.25em;background-color: #f0f8ff;}#sk-container-id-2 input.sk-toggleable__control:checked~div.sk-toggleable__content {max-height: 200px;max-width: 100%;overflow: auto;}#sk-container-id-2 input.sk-toggleable__control:checked~label.sk-toggleable__label-arrow:before {content: \"▾\";}#sk-container-id-2 div.sk-estimator input.sk-toggleable__control:checked~label.sk-toggleable__label {background-color: #d4ebff;}#sk-container-id-2 div.sk-label input.sk-toggleable__control:checked~label.sk-toggleable__label {background-color: #d4ebff;}#sk-container-id-2 input.sk-hidden--visually {border: 0;clip: rect(1px 1px 1px 1px);clip: rect(1px, 1px, 1px, 1px);height: 1px;margin: -1px;overflow: hidden;padding: 0;position: absolute;width: 1px;}#sk-container-id-2 div.sk-estimator {font-family: monospace;background-color: #f0f8ff;border: 1px dotted black;border-radius: 0.25em;box-sizing: border-box;margin-bottom: 0.5em;}#sk-container-id-2 div.sk-estimator:hover {background-color: #d4ebff;}#sk-container-id-2 div.sk-parallel-item::after {content: \"\";width: 100%;border-bottom: 1px solid gray;flex-grow: 1;}#sk-container-id-2 div.sk-label:hover label.sk-toggleable__label {background-color: #d4ebff;}#sk-container-id-2 div.sk-serial::before {content: \"\";position: absolute;border-left: 1px solid gray;box-sizing: border-box;top: 0;bottom: 0;left: 50%;z-index: 0;}#sk-container-id-2 div.sk-serial {display: flex;flex-direction: column;align-items: center;background-color: white;padding-right: 0.2em;padding-left: 0.2em;position: relative;}#sk-container-id-2 div.sk-item {position: relative;z-index: 1;}#sk-container-id-2 div.sk-parallel {display: flex;align-items: stretch;justify-content: center;background-color: white;position: relative;}#sk-container-id-2 div.sk-item::before, #sk-container-id-2 div.sk-parallel-item::before {content: \"\";position: absolute;border-left: 1px solid gray;box-sizing: border-box;top: 0;bottom: 0;left: 50%;z-index: -1;}#sk-container-id-2 div.sk-parallel-item {display: flex;flex-direction: column;z-index: 1;position: relative;background-color: white;}#sk-container-id-2 div.sk-parallel-item:first-child::after {align-self: flex-end;width: 50%;}#sk-container-id-2 div.sk-parallel-item:last-child::after {align-self: flex-start;width: 50%;}#sk-container-id-2 div.sk-parallel-item:only-child::after {width: 0;}#sk-container-id-2 div.sk-dashed-wrapped {border: 1px dashed gray;margin: 0 0.4em 0.5em 0.4em;box-sizing: border-box;padding-bottom: 0.4em;background-color: white;}#sk-container-id-2 div.sk-label label {font-family: monospace;font-weight: bold;display: inline-block;line-height: 1.2em;}#sk-container-id-2 div.sk-label-container {text-align: center;}#sk-container-id-2 div.sk-container {/* jupyter's `normalize.less` sets `[hidden] { display: none; }` but bootstrap.min.css set `[hidden] { display: none !important; }` so we also need the `!important` here to be able to override the default hidden behavior on the sphinx rendered scikit-learn.org. See: https://github.com/scikit-learn/scikit-learn/issues/21755 */display: inline-block !important;position: relative;}#sk-container-id-2 div.sk-text-repr-fallback {display: none;}</style><div id=\"sk-container-id-2\" class=\"sk-top-container\"><div class=\"sk-text-repr-fallback\"><pre>GridSearchCV(cv=5,\n",
       "             estimator=Pipeline(steps=[(&#x27;ngrams&#x27;,\n",
       "                                        CountVectorizer(max_df=0.9, min_df=0.01,\n",
       "                                                        ngram_range=(1, 3),\n",
       "                                                        stop_words=[&#x27;get&#x27;,\n",
       "                                                                    &#x27;with&#x27;,\n",
       "                                                                    &#x27;below&#x27;,\n",
       "                                                                    &#x27;my&#x27;,\n",
       "                                                                    &#x27;formerly&#x27;,\n",
       "                                                                    &#x27;yours&#x27;,\n",
       "                                                                    &#x27;beforehand&#x27;,\n",
       "                                                                    &#x27;though&#x27;,\n",
       "                                                                    &#x27;their&#x27;,\n",
       "                                                                    &#x27;someone&#x27;,\n",
       "                                                                    &#x27;another&#x27;,\n",
       "                                                                    &#x27;seeming&#x27;,\n",
       "                                                                    &#x27;itself&#x27;,\n",
       "                                                                    &#x27;eight&#x27;,\n",
       "                                                                    &#x27;the&#x27;,\n",
       "                                                                    &#x27;hasnt&#x27;,\n",
       "                                                                    &#x27;around&#x27;,\n",
       "                                                                    &#x27;anyway&#x27;,\n",
       "                                                                    &#x27;nothing&#x27;,\n",
       "                                                                    &#x27;show&#x27;,\n",
       "                                                                    &#x27;into&#x27;,\n",
       "                                                                    &#x27;he&#x27;,\n",
       "                                                                    &#x27;could&#x27;,\n",
       "                                                                    &#x27;keep&#x27;,\n",
       "                                                                    &#x27;whence&#x27;,\n",
       "                                                                    &#x27;between&#x27;,\n",
       "                                                                    &#x27;without&#x27;,\n",
       "                                                                    &#x27;i&#x27;, &#x27;not&#x27;,\n",
       "                                                                    &#x27;name&#x27;, ...])),\n",
       "                                       (&#x27;log_reg&#x27;,\n",
       "                                        LogisticRegression(max_iter=500))]),\n",
       "             n_jobs=2,\n",
       "             param_grid={&#x27;log_reg__C&#x27;: [0.001, 0.01, 0.1, 1, 10, 100, 1000],\n",
       "                         &#x27;log_reg__solver&#x27;: [&#x27;newton-cg&#x27;]})</pre><b>In a Jupyter environment, please rerun this cell to show the HTML representation or trust the notebook. <br />On GitHub, the HTML representation is unable to render, please try loading this page with nbviewer.org.</b></div><div class=\"sk-container\" hidden><div class=\"sk-item sk-dashed-wrapped\"><div class=\"sk-label-container\"><div class=\"sk-label sk-toggleable\"><input class=\"sk-toggleable__control sk-hidden--visually\" id=\"sk-estimator-id-5\" type=\"checkbox\" ><label for=\"sk-estimator-id-5\" class=\"sk-toggleable__label sk-toggleable__label-arrow\">GridSearchCV</label><div class=\"sk-toggleable__content\"><pre>GridSearchCV(cv=5,\n",
       "             estimator=Pipeline(steps=[(&#x27;ngrams&#x27;,\n",
       "                                        CountVectorizer(max_df=0.9, min_df=0.01,\n",
       "                                                        ngram_range=(1, 3),\n",
       "                                                        stop_words=[&#x27;get&#x27;,\n",
       "                                                                    &#x27;with&#x27;,\n",
       "                                                                    &#x27;below&#x27;,\n",
       "                                                                    &#x27;my&#x27;,\n",
       "                                                                    &#x27;formerly&#x27;,\n",
       "                                                                    &#x27;yours&#x27;,\n",
       "                                                                    &#x27;beforehand&#x27;,\n",
       "                                                                    &#x27;though&#x27;,\n",
       "                                                                    &#x27;their&#x27;,\n",
       "                                                                    &#x27;someone&#x27;,\n",
       "                                                                    &#x27;another&#x27;,\n",
       "                                                                    &#x27;seeming&#x27;,\n",
       "                                                                    &#x27;itself&#x27;,\n",
       "                                                                    &#x27;eight&#x27;,\n",
       "                                                                    &#x27;the&#x27;,\n",
       "                                                                    &#x27;hasnt&#x27;,\n",
       "                                                                    &#x27;around&#x27;,\n",
       "                                                                    &#x27;anyway&#x27;,\n",
       "                                                                    &#x27;nothing&#x27;,\n",
       "                                                                    &#x27;show&#x27;,\n",
       "                                                                    &#x27;into&#x27;,\n",
       "                                                                    &#x27;he&#x27;,\n",
       "                                                                    &#x27;could&#x27;,\n",
       "                                                                    &#x27;keep&#x27;,\n",
       "                                                                    &#x27;whence&#x27;,\n",
       "                                                                    &#x27;between&#x27;,\n",
       "                                                                    &#x27;without&#x27;,\n",
       "                                                                    &#x27;i&#x27;, &#x27;not&#x27;,\n",
       "                                                                    &#x27;name&#x27;, ...])),\n",
       "                                       (&#x27;log_reg&#x27;,\n",
       "                                        LogisticRegression(max_iter=500))]),\n",
       "             n_jobs=2,\n",
       "             param_grid={&#x27;log_reg__C&#x27;: [0.001, 0.01, 0.1, 1, 10, 100, 1000],\n",
       "                         &#x27;log_reg__solver&#x27;: [&#x27;newton-cg&#x27;]})</pre></div></div></div><div class=\"sk-parallel\"><div class=\"sk-parallel-item\"><div class=\"sk-item\"><div class=\"sk-label-container\"><div class=\"sk-label sk-toggleable\"><input class=\"sk-toggleable__control sk-hidden--visually\" id=\"sk-estimator-id-6\" type=\"checkbox\" ><label for=\"sk-estimator-id-6\" class=\"sk-toggleable__label sk-toggleable__label-arrow\">estimator: Pipeline</label><div class=\"sk-toggleable__content\"><pre>Pipeline(steps=[(&#x27;ngrams&#x27;,\n",
       "                 CountVectorizer(max_df=0.9, min_df=0.01, ngram_range=(1, 3),\n",
       "                                 stop_words=[&#x27;get&#x27;, &#x27;with&#x27;, &#x27;below&#x27;, &#x27;my&#x27;,\n",
       "                                             &#x27;formerly&#x27;, &#x27;yours&#x27;, &#x27;beforehand&#x27;,\n",
       "                                             &#x27;though&#x27;, &#x27;their&#x27;, &#x27;someone&#x27;,\n",
       "                                             &#x27;another&#x27;, &#x27;seeming&#x27;, &#x27;itself&#x27;,\n",
       "                                             &#x27;eight&#x27;, &#x27;the&#x27;, &#x27;hasnt&#x27;, &#x27;around&#x27;,\n",
       "                                             &#x27;anyway&#x27;, &#x27;nothing&#x27;, &#x27;show&#x27;,\n",
       "                                             &#x27;into&#x27;, &#x27;he&#x27;, &#x27;could&#x27;, &#x27;keep&#x27;,\n",
       "                                             &#x27;whence&#x27;, &#x27;between&#x27;, &#x27;without&#x27;,\n",
       "                                             &#x27;i&#x27;, &#x27;not&#x27;, &#x27;name&#x27;, ...])),\n",
       "                (&#x27;log_reg&#x27;, LogisticRegression(max_iter=500))])</pre></div></div></div><div class=\"sk-serial\"><div class=\"sk-item\"><div class=\"sk-serial\"><div class=\"sk-item\"><div class=\"sk-estimator sk-toggleable\"><input class=\"sk-toggleable__control sk-hidden--visually\" id=\"sk-estimator-id-7\" type=\"checkbox\" ><label for=\"sk-estimator-id-7\" class=\"sk-toggleable__label sk-toggleable__label-arrow\">CountVectorizer</label><div class=\"sk-toggleable__content\"><pre>CountVectorizer(max_df=0.9, min_df=0.01, ngram_range=(1, 3),\n",
       "                stop_words=[&#x27;get&#x27;, &#x27;with&#x27;, &#x27;below&#x27;, &#x27;my&#x27;, &#x27;formerly&#x27;, &#x27;yours&#x27;,\n",
       "                            &#x27;beforehand&#x27;, &#x27;though&#x27;, &#x27;their&#x27;, &#x27;someone&#x27;,\n",
       "                            &#x27;another&#x27;, &#x27;seeming&#x27;, &#x27;itself&#x27;, &#x27;eight&#x27;, &#x27;the&#x27;,\n",
       "                            &#x27;hasnt&#x27;, &#x27;around&#x27;, &#x27;anyway&#x27;, &#x27;nothing&#x27;, &#x27;show&#x27;,\n",
       "                            &#x27;into&#x27;, &#x27;he&#x27;, &#x27;could&#x27;, &#x27;keep&#x27;, &#x27;whence&#x27;, &#x27;between&#x27;,\n",
       "                            &#x27;without&#x27;, &#x27;i&#x27;, &#x27;not&#x27;, &#x27;name&#x27;, ...])</pre></div></div></div><div class=\"sk-item\"><div class=\"sk-estimator sk-toggleable\"><input class=\"sk-toggleable__control sk-hidden--visually\" id=\"sk-estimator-id-8\" type=\"checkbox\" ><label for=\"sk-estimator-id-8\" class=\"sk-toggleable__label sk-toggleable__label-arrow\">LogisticRegression</label><div class=\"sk-toggleable__content\"><pre>LogisticRegression(max_iter=500)</pre></div></div></div></div></div></div></div></div></div></div></div></div>"
      ],
      "text/plain": [
       "GridSearchCV(cv=5,\n",
       "             estimator=Pipeline(steps=[('ngrams',\n",
       "                                        CountVectorizer(max_df=0.9, min_df=0.01,\n",
       "                                                        ngram_range=(1, 3),\n",
       "                                                        stop_words=['get',\n",
       "                                                                    'with',\n",
       "                                                                    'below',\n",
       "                                                                    'my',\n",
       "                                                                    'formerly',\n",
       "                                                                    'yours',\n",
       "                                                                    'beforehand',\n",
       "                                                                    'though',\n",
       "                                                                    'their',\n",
       "                                                                    'someone',\n",
       "                                                                    'another',\n",
       "                                                                    'seeming',\n",
       "                                                                    'itself',\n",
       "                                                                    'eight',\n",
       "                                                                    'the',\n",
       "                                                                    'hasnt',\n",
       "                                                                    'around',\n",
       "                                                                    'anyway',\n",
       "                                                                    'nothing',\n",
       "                                                                    'show',\n",
       "                                                                    'into',\n",
       "                                                                    'he',\n",
       "                                                                    'could',\n",
       "                                                                    'keep',\n",
       "                                                                    'whence',\n",
       "                                                                    'between',\n",
       "                                                                    'without',\n",
       "                                                                    'i', 'not',\n",
       "                                                                    'name', ...])),\n",
       "                                       ('log_reg',\n",
       "                                        LogisticRegression(max_iter=500))]),\n",
       "             n_jobs=2,\n",
       "             param_grid={'log_reg__C': [0.001, 0.01, 0.1, 1, 10, 100, 1000],\n",
       "                         'log_reg__solver': ['newton-cg']})"
      ]
     },
     "execution_count": 73,
     "metadata": {},
     "output_type": "execute_result"
    }
   ],
   "source": [
    "search = GridSearchCV(pipe, param_grid, n_jobs=2, cv=5)\n",
    "search.fit(X_train, y_train)"
   ]
  },
  {
   "cell_type": "code",
   "execution_count": 75,
   "metadata": {},
   "outputs": [
    {
     "data": {
      "text/plain": [
       "{'log_reg__C': 0.001, 'log_reg__solver': 'newton-cg'}"
      ]
     },
     "execution_count": 75,
     "metadata": {},
     "output_type": "execute_result"
    }
   ],
   "source": [
    "search.best_params_"
   ]
  },
  {
   "cell_type": "code",
   "execution_count": 76,
   "metadata": {},
   "outputs": [
    {
     "data": {
      "text/plain": [
       "0.4018595041322314"
      ]
     },
     "execution_count": 76,
     "metadata": {},
     "output_type": "execute_result"
    }
   ],
   "source": [
    "search.score(X_test, y_test)"
   ]
  },
  {
   "cell_type": "code",
   "execution_count": 78,
   "metadata": {},
   "outputs": [],
   "source": [
    "with open(MODEL_PATH / 'log_reg_spotify_popularity_pipeline.pkl', 'wb') as file:\n",
    "    joblib.dump(search, file)\n"
   ]
  },
  {
   "cell_type": "code",
   "execution_count": 86,
   "metadata": {},
   "outputs": [],
   "source": [
    "log_reg_coef = search.best_estimator_.named_steps['log_reg'].coef_"
   ]
  },
  {
   "cell_type": "code",
   "execution_count": 87,
   "metadata": {},
   "outputs": [
    {
     "data": {
      "text/plain": [
       "(3, 3121)"
      ]
     },
     "execution_count": 87,
     "metadata": {},
     "output_type": "execute_result"
    }
   ],
   "source": [
    "log_reg_coef.shape"
   ]
  },
  {
   "cell_type": "code",
   "execution_count": null,
   "metadata": {},
   "outputs": [],
   "source": []
  }
 ],
 "metadata": {
  "kernelspec": {
   "display_name": "base",
   "language": "python",
   "name": "python3"
  },
  "language_info": {
   "codemirror_mode": {
    "name": "ipython",
    "version": 3
   },
   "file_extension": ".py",
   "mimetype": "text/x-python",
   "name": "python",
   "nbconvert_exporter": "python",
   "pygments_lexer": "ipython3",
   "version": "3.9.13"
  },
  "orig_nbformat": 4
 },
 "nbformat": 4,
 "nbformat_minor": 2
}
