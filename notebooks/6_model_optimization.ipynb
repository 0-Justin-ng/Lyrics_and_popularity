{
 "cells": [
  {
   "cell_type": "code",
   "execution_count": 1,
   "metadata": {},
   "outputs": [
    {
     "name": "stderr",
     "output_type": "stream",
     "text": [
      "[nltk_data] Downloading package stopwords to /home/jng/nltk_data...\n",
      "[nltk_data]   Package stopwords is already up-to-date!\n"
     ]
    }
   ],
   "source": [
    "import numpy as np\n",
    "import pandas as pd \n",
    "import matplotlib.pyplot as plt\n",
    "\n",
    "import joblib\n",
    "import os\n",
    "import sys\n",
    "\n",
    "module_path = os.path.abspath(os.path.join('..'))\n",
    "if module_path not in sys.path:\n",
    "    sys.path.append(module_path)\n",
    "\n",
    "from utilities import utils\n",
    "from sklearn.linear_model import LogisticRegression\n",
    "from sklearn.pipeline import Pipeline\n",
    "from sklearn.feature_extraction.text import TfidfVectorizer\n",
    "from sklearn.model_selection import GridSearchCV, train_test_split\n",
    "\n",
    "DATA_PATH = utils.get_datapath('data')\n",
    "MODEL_PATH = utils.get_datapath('model')\n",
    "\n",
    "%load_ext autoreload\n",
    "%autoreload 2"
   ]
  },
  {
   "cell_type": "markdown",
   "metadata": {},
   "source": [
    "**Table of contents**<a id='toc0_'></a>    \n",
    "- [Model Optimization](#toc1_)    \n",
    "- [Loading the Dataset](#toc2_)    \n",
    "- [Preparing the Train and Test Set](#toc3_)    \n",
    "- [Modelling With TF-IDF Transformed Lyrics](#toc4_)    \n",
    "  - [Logistic Regression and TF-IDF](#toc4_1_)    \n",
    "  - [Logsitic Regression with NMF Components of the TF-IDF Vectors](#toc4_2_)    \n",
    "  - [Multinomial Naive Bayes Classifier and TF-IDF](#toc4_3_)    \n",
    "  - [Random Forest and TF-IDF](#toc4_4_)    \n",
    "- [Modeling With OpenAI Embeddings](#toc5_)    \n",
    "  - [Setting up the Embeddings](#toc5_1_)    \n",
    "  - [Logistic Regression and Ada Embeddings](#toc5_2_)    \n",
    "  - [Logsitic Regression with PCA Components of the Ada Embeddings](#toc5_3_)    \n",
    "- [Predicting Popularity of Hip Hop Songs](#toc6_)    \n",
    "  - [Subsetting the Dataset for only Hip Hop](#toc6_1_)    \n",
    "  - [Modeling for Hip Hop Popularity](#toc6_2_)    \n",
    "    - [Logistic Regression and TF-IDF](#toc6_2_1_)    \n",
    "    - [Multinomial Naive Bayes and TF-IDF](#toc6_2_2_)    \n",
    "- [Conclusion](#toc7_)    \n",
    "\n",
    "<!-- vscode-jupyter-toc-config\n",
    "\tnumbering=false\n",
    "\tanchor=true\n",
    "\tflat=false\n",
    "\tminLevel=1\n",
    "\tmaxLevel=6\n",
    "\t/vscode-jupyter-toc-config -->\n",
    "<!-- THIS CELL WILL BE REPLACED ON TOC UPDATE. DO NOT WRITE YOUR TEXT IN THIS CELL -->"
   ]
  },
  {
   "cell_type": "markdown",
   "metadata": {},
   "source": [
    "# <a id='toc1_'></a>[Model Optimization](#toc0_)\n",
    "\n",
    "This notebook will outline the steps for creating the various models with TF-IDF and Ada document embeddings. We chose TF-IDF as the desired vectorizer as we believe that certain words may be unique to certain genres of music and this information should be captured by a TF-IDF Vectorizer.\n",
    "\n",
    "Specifically, we will use the following representations of the lyrics as input into the models:\n",
    "- Non-dimensionality Reduced\n",
    "    1. TF-IDF\n",
    "    1. Ada document embeddings from OpenAI\n",
    "- Dimensionality Reduced\n",
    "    1. NMF (10 components) of the TF-IDF vectors.\n",
    "    1. PCA (10 components) of the Ada document embeddings\n",
    "\n",
    "The differences in the dimensionality techniques are due to the nature of the vector representations. The TF-IDF vectors are sparse martices and NMF performs better than PCA on these types of matrices. In contrast, the Ada embeddings are a dense matrix, so PCA can be used. \n",
    "\n",
    "We also decided that we will use the three class target (low, mid and high popularity) to give a more granular prediction of Spotify popularity. \n",
    "\n",
    "For the modelling aspects we will run a 5-fold cross validation for each model.\n",
    "\n",
    "We will be attempting to optimize the following models:\n",
    "- Logistic Regression for interpretability.\n",
    "- Multinomial Naive Bays for interpretability and speed.\n",
    "- Random Forest for performance.\n",
    "\n",
    "The model evaluation will be carried out in `notebooks/7_model_evaluation.ipynb`."
   ]
  },
  {
   "cell_type": "markdown",
   "metadata": {},
   "source": [
    "# <a id='toc2_'></a>[Loading the Dataset](#toc0_)"
   ]
  },
  {
   "cell_type": "code",
   "execution_count": 2,
   "metadata": {},
   "outputs": [],
   "source": [
    "df = pd.read_csv(DATA_PATH / 'clean_lyrics_final.csv')"
   ]
  },
  {
   "cell_type": "code",
   "execution_count": 3,
   "metadata": {},
   "outputs": [
    {
     "data": {
      "text/html": [
       "<div>\n",
       "<style scoped>\n",
       "    .dataframe tbody tr th:only-of-type {\n",
       "        vertical-align: middle;\n",
       "    }\n",
       "\n",
       "    .dataframe tbody tr th {\n",
       "        vertical-align: top;\n",
       "    }\n",
       "\n",
       "    .dataframe thead th {\n",
       "        text-align: right;\n",
       "    }\n",
       "</style>\n",
       "<table border=\"1\" class=\"dataframe\">\n",
       "  <thead>\n",
       "    <tr style=\"text-align: right;\">\n",
       "      <th></th>\n",
       "      <th>song</th>\n",
       "      <th>lyrics</th>\n",
       "      <th>release_year</th>\n",
       "      <th>title</th>\n",
       "      <th>primary_artist</th>\n",
       "      <th>views</th>\n",
       "      <th>cleaned_lyrics</th>\n",
       "      <th>language</th>\n",
       "      <th>log_scaled_views</th>\n",
       "      <th>popular</th>\n",
       "      <th>popularity_three_class</th>\n",
       "      <th>cleaned_lyrics_stem</th>\n",
       "      <th>spotify_popularity</th>\n",
       "      <th>genre</th>\n",
       "      <th>ada_embeddings</th>\n",
       "      <th>spotify_popularity_three_class</th>\n",
       "    </tr>\n",
       "  </thead>\n",
       "  <tbody>\n",
       "    <tr>\n",
       "      <th>0</th>\n",
       "      <td>Kendrick-lamar-swimming-pools-drank-lyrics</td>\n",
       "      <td>\\n\\n[Produced by T-Minus]\\n\\n[Intro]\\nPour up ...</td>\n",
       "      <td>2012</td>\n",
       "      <td>Swimming Pools (Drank)</td>\n",
       "      <td>Kendrick-lamar</td>\n",
       "      <td>5589280.0</td>\n",
       "      <td>pour up drank head shot drank sit down drank ...</td>\n",
       "      <td>en</td>\n",
       "      <td>15.536361</td>\n",
       "      <td>1</td>\n",
       "      <td>2</td>\n",
       "      <td>pour drank head shot drank sit drank stand dr...</td>\n",
       "      <td>78.0</td>\n",
       "      <td>hip hop</td>\n",
       "      <td>[0.011653340421617031, -0.0033766645938158035,...</td>\n",
       "      <td>2</td>\n",
       "    </tr>\n",
       "    <tr>\n",
       "      <th>1</th>\n",
       "      <td>Kendrick-lamar-money-trees-lyrics</td>\n",
       "      <td>\\n\\n[Produced by DJ Dahi]\\n\\n[Verse 1: Kendric...</td>\n",
       "      <td>2012</td>\n",
       "      <td>Money Trees</td>\n",
       "      <td>Kendrick-lamar</td>\n",
       "      <td>4592003.0</td>\n",
       "      <td>uh me and my niggas tryna get it ya bish ya b...</td>\n",
       "      <td>en</td>\n",
       "      <td>15.339827</td>\n",
       "      <td>1</td>\n",
       "      <td>2</td>\n",
       "      <td>uh nigga tryna get ya bish ya bish hit hous l...</td>\n",
       "      <td>81.0</td>\n",
       "      <td>hip hop</td>\n",
       "      <td>[0.0013736916007474065, -0.00975166354328394, ...</td>\n",
       "      <td>2</td>\n",
       "    </tr>\n",
       "    <tr>\n",
       "      <th>2</th>\n",
       "      <td>Kendrick-lamar-xxx-lyrics</td>\n",
       "      <td>\\n\\n[Intro: Bēkon &amp; Kid Capri]\\nAmerica, God b...</td>\n",
       "      <td>2017</td>\n",
       "      <td>XXX.</td>\n",
       "      <td>Kendrick-lamar</td>\n",
       "      <td>4651514.0</td>\n",
       "      <td>america god bless you if its good to you amer...</td>\n",
       "      <td>en</td>\n",
       "      <td>15.352703</td>\n",
       "      <td>1</td>\n",
       "      <td>2</td>\n",
       "      <td>america god bless good america pleas take han...</td>\n",
       "      <td>69.0</td>\n",
       "      <td>hip hop</td>\n",
       "      <td>[-0.014546433463692665, -0.006841110065579414,...</td>\n",
       "      <td>2</td>\n",
       "    </tr>\n",
       "    <tr>\n",
       "      <th>3</th>\n",
       "      <td>A-ap-rocky-fuckin-problems-lyrics</td>\n",
       "      <td>\\n\\n[Chorus: 2 Chainz, Drake &amp; Both (A$AP Rock...</td>\n",
       "      <td>2012</td>\n",
       "      <td>Fuckin’ Problems</td>\n",
       "      <td>A-ap-rocky</td>\n",
       "      <td>7378309.0</td>\n",
       "      <td>i love bad bitches thats my fuckin problem an...</td>\n",
       "      <td>en</td>\n",
       "      <td>15.814055</td>\n",
       "      <td>1</td>\n",
       "      <td>2</td>\n",
       "      <td>love bad bitch that fuckin problem yeah like ...</td>\n",
       "      <td>75.0</td>\n",
       "      <td>hip hop</td>\n",
       "      <td>[-0.018262486904859543, 0.006630411371588707, ...</td>\n",
       "      <td>2</td>\n",
       "    </tr>\n",
       "    <tr>\n",
       "      <th>4</th>\n",
       "      <td>Kendrick-lamar-dna-lyrics</td>\n",
       "      <td>\\n\\n[Verse 1]\\nI got, I got, I got, I got—\\nLo...</td>\n",
       "      <td>2017</td>\n",
       "      <td>DNA.</td>\n",
       "      <td>Kendrick-lamar</td>\n",
       "      <td>5113687.0</td>\n",
       "      <td>i got i got i got i got loyalty got royalty i...</td>\n",
       "      <td>en</td>\n",
       "      <td>15.447431</td>\n",
       "      <td>1</td>\n",
       "      <td>2</td>\n",
       "      <td>got got got got loyalti got royalti insid dna...</td>\n",
       "      <td>80.0</td>\n",
       "      <td>hip hop</td>\n",
       "      <td>[-0.023312833160161972, -0.012944793328642845,...</td>\n",
       "      <td>2</td>\n",
       "    </tr>\n",
       "  </tbody>\n",
       "</table>\n",
       "</div>"
      ],
      "text/plain": [
       "                                         song  \\\n",
       "0  Kendrick-lamar-swimming-pools-drank-lyrics   \n",
       "1           Kendrick-lamar-money-trees-lyrics   \n",
       "2                   Kendrick-lamar-xxx-lyrics   \n",
       "3           A-ap-rocky-fuckin-problems-lyrics   \n",
       "4                   Kendrick-lamar-dna-lyrics   \n",
       "\n",
       "                                              lyrics  release_year  \\\n",
       "0  \\n\\n[Produced by T-Minus]\\n\\n[Intro]\\nPour up ...          2012   \n",
       "1  \\n\\n[Produced by DJ Dahi]\\n\\n[Verse 1: Kendric...          2012   \n",
       "2  \\n\\n[Intro: Bēkon & Kid Capri]\\nAmerica, God b...          2017   \n",
       "3  \\n\\n[Chorus: 2 Chainz, Drake & Both (A$AP Rock...          2012   \n",
       "4  \\n\\n[Verse 1]\\nI got, I got, I got, I got—\\nLo...          2017   \n",
       "\n",
       "                    title  primary_artist      views  \\\n",
       "0  Swimming Pools (Drank)  Kendrick-lamar  5589280.0   \n",
       "1             Money Trees  Kendrick-lamar  4592003.0   \n",
       "2                    XXX.  Kendrick-lamar  4651514.0   \n",
       "3        Fuckin’ Problems      A-ap-rocky  7378309.0   \n",
       "4                    DNA.  Kendrick-lamar  5113687.0   \n",
       "\n",
       "                                      cleaned_lyrics language  \\\n",
       "0   pour up drank head shot drank sit down drank ...       en   \n",
       "1   uh me and my niggas tryna get it ya bish ya b...       en   \n",
       "2   america god bless you if its good to you amer...       en   \n",
       "3   i love bad bitches thats my fuckin problem an...       en   \n",
       "4   i got i got i got i got loyalty got royalty i...       en   \n",
       "\n",
       "   log_scaled_views  popular  popularity_three_class  \\\n",
       "0         15.536361        1                       2   \n",
       "1         15.339827        1                       2   \n",
       "2         15.352703        1                       2   \n",
       "3         15.814055        1                       2   \n",
       "4         15.447431        1                       2   \n",
       "\n",
       "                                 cleaned_lyrics_stem  spotify_popularity  \\\n",
       "0   pour drank head shot drank sit drank stand dr...                78.0   \n",
       "1   uh nigga tryna get ya bish ya bish hit hous l...                81.0   \n",
       "2   america god bless good america pleas take han...                69.0   \n",
       "3   love bad bitch that fuckin problem yeah like ...                75.0   \n",
       "4   got got got got loyalti got royalti insid dna...                80.0   \n",
       "\n",
       "     genre                                     ada_embeddings  \\\n",
       "0  hip hop  [0.011653340421617031, -0.0033766645938158035,...   \n",
       "1  hip hop  [0.0013736916007474065, -0.00975166354328394, ...   \n",
       "2  hip hop  [-0.014546433463692665, -0.006841110065579414,...   \n",
       "3  hip hop  [-0.018262486904859543, 0.006630411371588707, ...   \n",
       "4  hip hop  [-0.023312833160161972, -0.012944793328642845,...   \n",
       "\n",
       "   spotify_popularity_three_class  \n",
       "0                               2  \n",
       "1                               2  \n",
       "2                               2  \n",
       "3                               2  \n",
       "4                               2  "
      ]
     },
     "metadata": {},
     "output_type": "display_data"
    },
    {
     "data": {
      "text/plain": [
       "(28560, 16)"
      ]
     },
     "metadata": {},
     "output_type": "display_data"
    }
   ],
   "source": [
    "display(df.head())\n",
    "display(df.shape)"
   ]
  },
  {
   "cell_type": "markdown",
   "metadata": {},
   "source": [
    "# <a id='toc3_'></a>[Preparing the Train and Test Set](#toc0_)"
   ]
  },
  {
   "cell_type": "code",
   "execution_count": 4,
   "metadata": {},
   "outputs": [],
   "source": [
    "X=df[['cleaned_lyrics_stem', 'ada_embeddings']]\n",
    "y=df['spotify_popularity_three_class']\n",
    "\n",
    "# Create train and test splits and set a random state for reproducibility.\n",
    "X_train, X_test, y_train, y_test = train_test_split(X, y, test_size=0.2, stratify=y, random_state=33)\n",
    "\n",
    "# Dividing up the raws lyrics and the embeddings.\n",
    "X_train_lyrics = X_train['cleaned_lyrics_stem']\n",
    "X_train_embeddings = X_train['ada_embeddings']\n",
    "\n",
    "X_test_lyrics = X_test['cleaned_lyrics_stem']\n",
    "X_test_embeddings = X_test['ada_embeddings']\n"
   ]
  },
  {
   "cell_type": "code",
   "execution_count": 8,
   "metadata": {},
   "outputs": [
    {
     "data": {
      "text/plain": [
       "((22848,), (5712,))"
      ]
     },
     "execution_count": 8,
     "metadata": {},
     "output_type": "execute_result"
    }
   ],
   "source": [
    "X_train_lyrics.shape, X_test_lyrics.shape"
   ]
  },
  {
   "cell_type": "code",
   "execution_count": 9,
   "metadata": {},
   "outputs": [
    {
     "data": {
      "text/plain": [
       "((22848,), (5712,))"
      ]
     },
     "execution_count": 9,
     "metadata": {},
     "output_type": "execute_result"
    }
   ],
   "source": [
    "X_train_embeddings.shape, X_test_embeddings.shape"
   ]
  },
  {
   "attachments": {},
   "cell_type": "markdown",
   "metadata": {},
   "source": [
    "The data has been split correctly and we can now use this split data for modelling."
   ]
  },
  {
   "attachments": {},
   "cell_type": "markdown",
   "metadata": {},
   "source": [
    "---"
   ]
  },
  {
   "cell_type": "markdown",
   "metadata": {},
   "source": [
    "# <a id='toc4_'></a>[Modelling With TF-IDF Transformed Lyrics](#toc0_)"
   ]
  },
  {
   "cell_type": "markdown",
   "metadata": {},
   "source": [
    "## <a id='toc4_1_'></a>[Logistic Regression and TF-IDF](#toc0_)"
   ]
  },
  {
   "attachments": {},
   "cell_type": "markdown",
   "metadata": {},
   "source": [
    "Here we are tuning the parameters for a logistic regression model with L2 regularization using a TF-IDF vectorizer as input. Specifically, we will tune the `C` parameter which is the inverese of the alpha in the regularization term. We will also vary the `solver` used by the model, between `newton-cg` and `saga` as these both work for multi-class problems."
   ]
  },
  {
   "cell_type": "code",
   "execution_count": 10,
   "metadata": {},
   "outputs": [
    {
     "name": "stdout",
     "output_type": "stream",
     "text": [
      "Fitting 5 folds for each of 14 candidates, totalling 70 fits\n",
      "[CV 3/5] END log_reg__C=0.001, log_reg__solver=newton-cg;, score=(train=0.388, test=0.379) total time=   4.0s\n",
      "[CV 5/5] END log_reg__C=0.001, log_reg__solver=newton-cg;, score=(train=0.390, test=0.364) total time=   4.0s\n",
      "[CV 2/5] END log_reg__C=0.0001, log_reg__solver=newton-cg;, score=(train=0.368, test=0.358) total time=   4.1s\n",
      "[CV 1/5] END log_reg__C=0.001, log_reg__solver=newton-cg;, score=(train=0.387, test=0.373) total time=   4.3s\n",
      "[CV 5/5] END log_reg__C=0.0001, log_reg__solver=newton-cg;, score=(train=0.368, test=0.362) total time=   4.6s\n",
      "[CV 1/5] END log_reg__C=0.0001, log_reg__solver=newton-cg;, score=(train=0.369, test=0.361) total time=   4.4s\n",
      "[CV 2/5] END log_reg__C=0.0001, log_reg__solver=saga;, score=(train=0.367, test=0.357) total time=   4.9s\n",
      "[CV 4/5] END log_reg__C=0.0001, log_reg__solver=saga;, score=(train=0.361, test=0.363) total time=   5.2s\n",
      "[CV 2/5] END log_reg__C=0.001, log_reg__solver=saga;, score=(train=0.386, test=0.379) total time=   5.0s\n",
      "[CV 2/5] END log_reg__C=0.001, log_reg__solver=newton-cg;, score=(train=0.387, test=0.380) total time=   4.8s\n",
      "[CV 4/5] END log_reg__C=0.001, log_reg__solver=newton-cg;, score=(train=0.385, test=0.395) total time=   5.0s\n",
      "[CV 3/5] END log_reg__C=0.0001, log_reg__solver=newton-cg;, score=(train=0.367, test=0.362) total time=   5.5s\n",
      "[CV 4/5] END log_reg__C=0.0001, log_reg__solver=newton-cg;, score=(train=0.362, test=0.363) total time=   5.5s\n",
      "[CV 5/5] END log_reg__C=0.0001, log_reg__solver=saga;, score=(train=0.369, test=0.360) total time=   5.5s\n",
      "[CV 1/5] END log_reg__C=0.001, log_reg__solver=saga;, score=(train=0.387, test=0.373) total time=   5.6s\n",
      "[CV 5/5] END log_reg__C=0.001, log_reg__solver=saga;, score=(train=0.390, test=0.364) total time=   5.1s\n",
      "[CV 4/5] END log_reg__C=0.001, log_reg__solver=saga;, score=(train=0.385, test=0.395) total time=   5.4s\n",
      "[CV 3/5] END log_reg__C=0.0001, log_reg__solver=saga;, score=(train=0.366, test=0.362) total time=   6.4s\n",
      "[CV 1/5] END log_reg__C=0.0001, log_reg__solver=saga;, score=(train=0.369, test=0.361) total time=   6.6s\n",
      "[CV 3/5] END log_reg__C=0.001, log_reg__solver=saga;, score=(train=0.387, test=0.379) total time=   6.2s\n",
      "[CV 1/5] END log_reg__C=0.01, log_reg__solver=newton-cg;, score=(train=0.438, test=0.391) total time=   4.2s\n",
      "[CV 2/5] END log_reg__C=0.01, log_reg__solver=newton-cg;, score=(train=0.438, test=0.401) total time=   4.3s\n",
      "[CV 4/5] END log_reg__C=0.01, log_reg__solver=newton-cg;, score=(train=0.442, test=0.411) total time=   4.2s\n",
      "[CV 3/5] END log_reg__C=0.01, log_reg__solver=newton-cg;, score=(train=0.439, test=0.411) total time=   4.5s\n",
      "[CV 5/5] END log_reg__C=0.01, log_reg__solver=newton-cg;, score=(train=0.440, test=0.395) total time=   4.9s\n",
      "[CV 4/5] END log_reg__C=0.01, log_reg__solver=saga;, score=(train=0.442, test=0.411) total time=   4.7s\n",
      "[CV 2/5] END log_reg__C=0.01, log_reg__solver=saga;, score=(train=0.438, test=0.401) total time=   4.7s\n",
      "[CV 5/5] END log_reg__C=0.01, log_reg__solver=saga;, score=(train=0.440, test=0.395) total time=   4.7s\n",
      "[CV 1/5] END log_reg__C=0.01, log_reg__solver=saga;, score=(train=0.438, test=0.391) total time=   5.2s\n",
      "[CV 4/5] END log_reg__C=0.1, log_reg__solver=newton-cg;, score=(train=0.495, test=0.422) total time=   4.8s\n",
      "[CV 3/5] END log_reg__C=0.01, log_reg__solver=saga;, score=(train=0.439, test=0.411) total time=   5.3s\n",
      "[CV 1/5] END log_reg__C=0.1, log_reg__solver=saga;, score=(train=0.492, test=0.404) total time=   4.9s\n",
      "[CV 1/5] END log_reg__C=0.1, log_reg__solver=newton-cg;, score=(train=0.492, test=0.404) total time=   5.4s\n",
      "[CV 2/5] END log_reg__C=0.1, log_reg__solver=newton-cg;, score=(train=0.491, test=0.402) total time=   5.5s\n",
      "[CV 5/5] END log_reg__C=0.1, log_reg__solver=newton-cg;, score=(train=0.495, test=0.403) total time=   5.0s\n",
      "[CV 3/5] END log_reg__C=0.1, log_reg__solver=newton-cg;, score=(train=0.495, test=0.408) total time=   5.4s\n",
      "[CV 2/5] END log_reg__C=0.1, log_reg__solver=saga;, score=(train=0.491, test=0.402) total time=   5.3s\n",
      "[CV 3/5] END log_reg__C=0.1, log_reg__solver=saga;, score=(train=0.495, test=0.408) total time=   5.8s\n",
      "[CV 4/5] END log_reg__C=0.1, log_reg__solver=saga;, score=(train=0.496, test=0.422) total time=   5.9s\n",
      "[CV 5/5] END log_reg__C=0.1, log_reg__solver=saga;, score=(train=0.495, test=0.403) total time=   6.0s\n",
      "[CV 1/5] END log_reg__C=1, log_reg__solver=newton-cg;, score=(train=0.543, test=0.387) total time=   5.0s\n",
      "[CV 2/5] END log_reg__C=1, log_reg__solver=newton-cg;, score=(train=0.543, test=0.388) total time=   5.2s\n",
      "[CV 3/5] END log_reg__C=1, log_reg__solver=newton-cg;, score=(train=0.543, test=0.385) total time=   5.3s\n",
      "[CV 3/5] END log_reg__C=1, log_reg__solver=saga;, score=(train=0.543, test=0.386) total time=   4.9s\n",
      "[CV 2/5] END log_reg__C=1, log_reg__solver=saga;, score=(train=0.543, test=0.388) total time=   5.0s\n",
      "[CV 4/5] END log_reg__C=1, log_reg__solver=newton-cg;, score=(train=0.546, test=0.398) total time=   6.1s\n",
      "[CV 5/5] END log_reg__C=1, log_reg__solver=saga;, score=(train=0.541, test=0.385) total time=   4.9s\n",
      "[CV 1/5] END log_reg__C=1, log_reg__solver=saga;, score=(train=0.543, test=0.387) total time=   5.6s\n",
      "[CV 5/5] END log_reg__C=1, log_reg__solver=newton-cg;, score=(train=0.541, test=0.385) total time=   6.3s\n",
      "[CV 4/5] END log_reg__C=1, log_reg__solver=saga;, score=(train=0.546, test=0.398) total time=   6.2s\n",
      "[CV 3/5] END log_reg__C=10, log_reg__solver=newton-cg;, score=(train=0.557, test=0.365) total time=   6.7s\n",
      "[CV 1/5] END log_reg__C=10, log_reg__solver=newton-cg;, score=(train=0.556, test=0.376) total time=   7.6s\n",
      "[CV 2/5] END log_reg__C=10, log_reg__solver=newton-cg;, score=(train=0.553, test=0.375) total time=   7.3s\n",
      "[CV 2/5] END log_reg__C=10, log_reg__solver=saga;, score=(train=0.553, test=0.375) total time=   6.8s\n",
      "[CV 1/5] END log_reg__C=10, log_reg__solver=saga;, score=(train=0.556, test=0.376) total time=   7.1s\n",
      "[CV 3/5] END log_reg__C=10, log_reg__solver=saga;, score=(train=0.557, test=0.366) total time=   7.0s\n",
      "[CV 4/5] END log_reg__C=10, log_reg__solver=newton-cg;, score=(train=0.561, test=0.379) total time=   8.5s\n",
      "[CV 5/5] END log_reg__C=10, log_reg__solver=newton-cg;, score=(train=0.555, test=0.373) total time=   8.5s\n",
      "[CV 5/5] END log_reg__C=10, log_reg__solver=saga;, score=(train=0.555, test=0.373) total time=   7.0s\n",
      "[CV 4/5] END log_reg__C=10, log_reg__solver=saga;, score=(train=0.561, test=0.379) total time=   7.4s\n",
      "[CV 1/5] END log_reg__C=100, log_reg__solver=newton-cg;, score=(train=0.555, test=0.373) total time=   6.7s\n",
      "[CV 2/5] END log_reg__C=100, log_reg__solver=newton-cg;, score=(train=0.552, test=0.372) total time=   6.8s\n",
      "[CV 3/5] END log_reg__C=100, log_reg__solver=newton-cg;, score=(train=0.556, test=0.366) total time=   6.8s\n",
      "[CV 4/5] END log_reg__C=100, log_reg__solver=newton-cg;, score=(train=0.561, test=0.378) total time=   6.2s\n",
      "[CV 2/5] END log_reg__C=100, log_reg__solver=saga;, score=(train=0.552, test=0.372) total time=   5.4s\n",
      "[CV 5/5] END log_reg__C=100, log_reg__solver=newton-cg;, score=(train=0.556, test=0.369) total time=   6.3s\n",
      "[CV 1/5] END log_reg__C=100, log_reg__solver=saga;, score=(train=0.555, test=0.373) total time=   5.7s\n",
      "[CV 3/5] END log_reg__C=100, log_reg__solver=saga;, score=(train=0.556, test=0.366) total time=   5.6s\n",
      "[CV 4/5] END log_reg__C=100, log_reg__solver=saga;, score=(train=0.561, test=0.377) total time=   5.5s\n",
      "[CV 5/5] END log_reg__C=100, log_reg__solver=saga;, score=(train=0.556, test=0.369) total time=   5.3s\n"
     ]
    },
    {
     "data": {
      "text/plain": [
       "0.42034313725490197"
      ]
     },
     "execution_count": 10,
     "metadata": {},
     "output_type": "execute_result"
    }
   ],
   "source": [
    "\n",
    "\n",
    "vectorizer = TfidfVectorizer(max_df=0.9, \n",
    "                             min_df=0.01\n",
    "                             )\n",
    "\n",
    "log_reg = LogisticRegression(penalty='l2', max_iter=500)\n",
    "\n",
    "\n",
    "pipe = Pipeline(steps=\n",
    "                [\n",
    "                    ('tfidf', vectorizer),\n",
    "                    ('log_reg', log_reg)\n",
    "                ]\n",
    "            )\n",
    "\n",
    "param_grid = {\n",
    "    'log_reg__C':[0.0001, 0.001, 0.01, 0.1, 1, 10, 100],\n",
    "    'log_reg__solver':['newton-cg', 'saga']\n",
    "}\n",
    "\n",
    "search = GridSearchCV(pipe, param_grid, n_jobs=-1, cv=5, verbose=3, return_train_score=True)\n",
    "search.fit(X_train_lyrics, y_train)\n",
    "search.score(X_test_lyrics, y_test)"
   ]
  },
  {
   "cell_type": "code",
   "execution_count": 11,
   "metadata": {},
   "outputs": [],
   "source": [
    "with open(MODEL_PATH / 'log_reg_tfidf.pkl', 'wb') as file:\n",
    "    joblib.dump(search, file)\n"
   ]
  },
  {
   "cell_type": "markdown",
   "metadata": {},
   "source": [
    "## <a id='toc4_2_'></a>[Logsitic Regression with NMF Components of the TF-IDF Vectors](#toc0_)"
   ]
  },
  {
   "cell_type": "code",
   "execution_count": 12,
   "metadata": {},
   "outputs": [],
   "source": [
    "from sklearn.decomposition import NMF"
   ]
  },
  {
   "attachments": {},
   "cell_type": "markdown",
   "metadata": {},
   "source": [
    "Next we will add another step into the pipeline namely the NMF components. We will try using 5, 10, 15, 20 components for the NMF."
   ]
  },
  {
   "cell_type": "code",
   "execution_count": 13,
   "metadata": {},
   "outputs": [
    {
     "name": "stdout",
     "output_type": "stream",
     "text": [
      "Fitting 5 folds for each of 56 candidates, totalling 280 fits\n",
      "[CV 5/5] END log_reg__C=0.0001, log_reg__solver=newton-cg, nmf__n_components=5;, score=(train=0.339, test=0.339) total time=   5.5s\n"
     ]
    },
    {
     "name": "stderr",
     "output_type": "stream",
     "text": [
      "/home/jng/anaconda3/lib/python3.9/site-packages/sklearn/decomposition/_nmf.py:1665: ConvergenceWarning: Maximum number of iterations 200 reached. Increase it to improve convergence.\n",
      "  warnings.warn(\n"
     ]
    },
    {
     "name": "stdout",
     "output_type": "stream",
     "text": [
      "[CV 3/5] END log_reg__C=0.0001, log_reg__solver=newton-cg, nmf__n_components=5;, score=(train=0.339, test=0.339) total time=   5.8s\n",
      "[CV 1/5] END log_reg__C=0.0001, log_reg__solver=newton-cg, nmf__n_components=5;, score=(train=0.339, test=0.339) total time=   5.9s\n",
      "[CV 2/5] END log_reg__C=0.0001, log_reg__solver=newton-cg, nmf__n_components=5;, score=(train=0.339, test=0.339) total time=   6.0s\n",
      "[CV 4/5] END log_reg__C=0.0001, log_reg__solver=newton-cg, nmf__n_components=5;, score=(train=0.339, test=0.339) total time=   6.0s\n"
     ]
    },
    {
     "name": "stderr",
     "output_type": "stream",
     "text": [
      "/home/jng/anaconda3/lib/python3.9/site-packages/sklearn/decomposition/_nmf.py:1665: ConvergenceWarning: Maximum number of iterations 200 reached. Increase it to improve convergence.\n",
      "  warnings.warn(\n",
      "/home/jng/anaconda3/lib/python3.9/site-packages/sklearn/decomposition/_nmf.py:1665: ConvergenceWarning: Maximum number of iterations 200 reached. Increase it to improve convergence.\n",
      "  warnings.warn(\n"
     ]
    },
    {
     "name": "stdout",
     "output_type": "stream",
     "text": [
      "[CV 2/5] END log_reg__C=0.0001, log_reg__solver=newton-cg, nmf__n_components=10;, score=(train=0.339, test=0.339) total time=   7.4s\n"
     ]
    },
    {
     "name": "stderr",
     "output_type": "stream",
     "text": [
      "/home/jng/anaconda3/lib/python3.9/site-packages/sklearn/decomposition/_nmf.py:1665: ConvergenceWarning: Maximum number of iterations 200 reached. Increase it to improve convergence.\n",
      "  warnings.warn(\n"
     ]
    },
    {
     "name": "stdout",
     "output_type": "stream",
     "text": [
      "[CV 4/5] END log_reg__C=0.0001, log_reg__solver=newton-cg, nmf__n_components=10;, score=(train=0.339, test=0.339) total time=   8.7s\n",
      "[CV 1/5] END log_reg__C=0.0001, log_reg__solver=newton-cg, nmf__n_components=15;, score=(train=0.339, test=0.339) total time=   8.7s\n",
      "[CV 3/5] END log_reg__C=0.0001, log_reg__solver=newton-cg, nmf__n_components=10;, score=(train=0.339, test=0.339) total time=   9.2s\n",
      "[CV 5/5] END log_reg__C=0.0001, log_reg__solver=newton-cg, nmf__n_components=15;, score=(train=0.339, test=0.339) total time=   8.8s\n",
      "[CV 5/5] END log_reg__C=0.0001, log_reg__solver=newton-cg, nmf__n_components=20;, score=(train=0.339, test=0.339) total time=   8.7s\n",
      "[CV 5/5] END log_reg__C=0.0001, log_reg__solver=newton-cg, nmf__n_components=10;, score=(train=0.339, test=0.339) total time=   9.9s\n",
      "[CV 4/5] END log_reg__C=0.0001, log_reg__solver=newton-cg, nmf__n_components=15;, score=(train=0.339, test=0.339) total time=   9.8s\n",
      "[CV 1/5] END log_reg__C=0.0001, log_reg__solver=newton-cg, nmf__n_components=10;, score=(train=0.339, test=0.339) total time=  11.2s\n",
      "[CV 2/5] END log_reg__C=0.0001, log_reg__solver=newton-cg, nmf__n_components=15;, score=(train=0.339, test=0.339) total time=  11.4s\n",
      "[CV 3/5] END log_reg__C=0.0001, log_reg__solver=newton-cg, nmf__n_components=15;, score=(train=0.339, test=0.339) total time=  11.2s\n"
     ]
    },
    {
     "name": "stderr",
     "output_type": "stream",
     "text": [
      "/home/jng/anaconda3/lib/python3.9/site-packages/sklearn/decomposition/_nmf.py:1665: ConvergenceWarning: Maximum number of iterations 200 reached. Increase it to improve convergence.\n",
      "  warnings.warn(\n",
      "/home/jng/anaconda3/lib/python3.9/site-packages/sklearn/decomposition/_nmf.py:1665: ConvergenceWarning: Maximum number of iterations 200 reached. Increase it to improve convergence.\n",
      "  warnings.warn(\n"
     ]
    },
    {
     "name": "stdout",
     "output_type": "stream",
     "text": [
      "[CV 3/5] END log_reg__C=0.0001, log_reg__solver=newton-cg, nmf__n_components=20;, score=(train=0.339, test=0.339) total time=  11.5s\n",
      "[CV 1/5] END log_reg__C=0.0001, log_reg__solver=saga, nmf__n_components=5;, score=(train=0.339, test=0.339) total time=   5.4s\n",
      "[CV 3/5] END log_reg__C=0.0001, log_reg__solver=saga, nmf__n_components=5;, score=(train=0.339, test=0.339) total time=   5.9s\n",
      "[CV 2/5] END log_reg__C=0.0001, log_reg__solver=saga, nmf__n_components=5;, score=(train=0.339, test=0.339) total time=   6.1s\n",
      "[CV 4/5] END log_reg__C=0.0001, log_reg__solver=saga, nmf__n_components=5;, score=(train=0.339, test=0.339) total time=   5.8s\n"
     ]
    },
    {
     "name": "stderr",
     "output_type": "stream",
     "text": [
      "/home/jng/anaconda3/lib/python3.9/site-packages/sklearn/decomposition/_nmf.py:1665: ConvergenceWarning: Maximum number of iterations 200 reached. Increase it to improve convergence.\n",
      "  warnings.warn(\n"
     ]
    },
    {
     "name": "stdout",
     "output_type": "stream",
     "text": [
      "[CV 5/5] END log_reg__C=0.0001, log_reg__solver=saga, nmf__n_components=5;, score=(train=0.339, test=0.339) total time=   5.9s\n",
      "[CV 4/5] END log_reg__C=0.0001, log_reg__solver=newton-cg, nmf__n_components=20;, score=(train=0.339, test=0.339) total time=  14.3s\n"
     ]
    },
    {
     "name": "stderr",
     "output_type": "stream",
     "text": [
      "/home/jng/anaconda3/lib/python3.9/site-packages/sklearn/decomposition/_nmf.py:1665: ConvergenceWarning: Maximum number of iterations 200 reached. Increase it to improve convergence.\n",
      "  warnings.warn(\n"
     ]
    },
    {
     "name": "stdout",
     "output_type": "stream",
     "text": [
      "[CV 2/5] END log_reg__C=0.0001, log_reg__solver=newton-cg, nmf__n_components=20;, score=(train=0.339, test=0.339) total time=  15.2s\n",
      "[CV 1/5] END log_reg__C=0.0001, log_reg__solver=newton-cg, nmf__n_components=20;, score=(train=0.339, test=0.339) total time=  15.5s\n"
     ]
    },
    {
     "name": "stderr",
     "output_type": "stream",
     "text": [
      "/home/jng/anaconda3/lib/python3.9/site-packages/sklearn/decomposition/_nmf.py:1665: ConvergenceWarning: Maximum number of iterations 200 reached. Increase it to improve convergence.\n",
      "  warnings.warn(\n",
      "/home/jng/anaconda3/lib/python3.9/site-packages/sklearn/decomposition/_nmf.py:1665: ConvergenceWarning: Maximum number of iterations 200 reached. Increase it to improve convergence.\n",
      "  warnings.warn(\n"
     ]
    },
    {
     "name": "stdout",
     "output_type": "stream",
     "text": [
      "[CV 1/5] END log_reg__C=0.0001, log_reg__solver=saga, nmf__n_components=10;, score=(train=0.339, test=0.339) total time=   8.4s\n",
      "[CV 4/5] END log_reg__C=0.0001, log_reg__solver=saga, nmf__n_components=10;, score=(train=0.339, test=0.339) total time=   8.1s\n",
      "[CV 2/5] END log_reg__C=0.0001, log_reg__solver=saga, nmf__n_components=10;, score=(train=0.339, test=0.339) total time=   8.5s\n",
      "[CV 3/5] END log_reg__C=0.0001, log_reg__solver=saga, nmf__n_components=10;, score=(train=0.339, test=0.339) total time=   8.5s\n",
      "[CV 5/5] END log_reg__C=0.0001, log_reg__solver=saga, nmf__n_components=15;, score=(train=0.339, test=0.339) total time=   6.9s\n"
     ]
    },
    {
     "name": "stderr",
     "output_type": "stream",
     "text": [
      "/home/jng/anaconda3/lib/python3.9/site-packages/sklearn/decomposition/_nmf.py:1665: ConvergenceWarning: Maximum number of iterations 200 reached. Increase it to improve convergence.\n",
      "  warnings.warn(\n"
     ]
    },
    {
     "name": "stdout",
     "output_type": "stream",
     "text": [
      "[CV 5/5] END log_reg__C=0.0001, log_reg__solver=saga, nmf__n_components=10;, score=(train=0.339, test=0.339) total time=   9.4s\n",
      "[CV 1/5] END log_reg__C=0.0001, log_reg__solver=saga, nmf__n_components=15;, score=(train=0.339, test=0.339) total time=   9.9s\n"
     ]
    },
    {
     "name": "stderr",
     "output_type": "stream",
     "text": [
      "/home/jng/anaconda3/lib/python3.9/site-packages/sklearn/decomposition/_nmf.py:1665: ConvergenceWarning: Maximum number of iterations 200 reached. Increase it to improve convergence.\n",
      "  warnings.warn(\n"
     ]
    },
    {
     "name": "stdout",
     "output_type": "stream",
     "text": [
      "[CV 4/5] END log_reg__C=0.0001, log_reg__solver=saga, nmf__n_components=15;, score=(train=0.339, test=0.339) total time=   9.0s\n",
      "[CV 1/5] END log_reg__C=0.001, log_reg__solver=newton-cg, nmf__n_components=5;, score=(train=0.343, test=0.340) total time=   6.4s\n",
      "[CV 2/5] END log_reg__C=0.001, log_reg__solver=newton-cg, nmf__n_components=5;, score=(train=0.342, test=0.340) total time=   6.5s\n",
      "[CV 5/5] END log_reg__C=0.001, log_reg__solver=newton-cg, nmf__n_components=5;, score=(train=0.341, test=0.343) total time=   5.8s\n",
      "[CV 4/5] END log_reg__C=0.001, log_reg__solver=newton-cg, nmf__n_components=5;, score=(train=0.339, test=0.341) total time=   6.2s\n",
      "[CV 2/5] END log_reg__C=0.0001, log_reg__solver=saga, nmf__n_components=15;, score=(train=0.339, test=0.339) total time=  12.4s\n",
      "[CV 3/5] END log_reg__C=0.001, log_reg__solver=newton-cg, nmf__n_components=5;, score=(train=0.341, test=0.342) total time=   6.8s\n",
      "[CV 3/5] END log_reg__C=0.0001, log_reg__solver=saga, nmf__n_components=20;, score=(train=0.339, test=0.339) total time=  10.6s\n",
      "[CV 2/5] END log_reg__C=0.0001, log_reg__solver=saga, nmf__n_components=20;, score=(train=0.339, test=0.339) total time=  11.5s\n",
      "[CV 3/5] END log_reg__C=0.0001, log_reg__solver=saga, nmf__n_components=15;, score=(train=0.339, test=0.339) total time=  13.4s\n"
     ]
    },
    {
     "name": "stderr",
     "output_type": "stream",
     "text": [
      "/home/jng/anaconda3/lib/python3.9/site-packages/sklearn/decomposition/_nmf.py:1665: ConvergenceWarning: Maximum number of iterations 200 reached. Increase it to improve convergence.\n",
      "  warnings.warn(\n",
      "/home/jng/anaconda3/lib/python3.9/site-packages/sklearn/decomposition/_nmf.py:1665: ConvergenceWarning: Maximum number of iterations 200 reached. Increase it to improve convergence.\n",
      "  warnings.warn(\n"
     ]
    },
    {
     "name": "stdout",
     "output_type": "stream",
     "text": [
      "[CV 4/5] END log_reg__C=0.0001, log_reg__solver=saga, nmf__n_components=20;, score=(train=0.339, test=0.339) total time=  10.1s\n",
      "[CV 1/5] END log_reg__C=0.001, log_reg__solver=newton-cg, nmf__n_components=10;, score=(train=0.343, test=0.341) total time=   7.2s\n"
     ]
    },
    {
     "name": "stderr",
     "output_type": "stream",
     "text": [
      "/home/jng/anaconda3/lib/python3.9/site-packages/sklearn/decomposition/_nmf.py:1665: ConvergenceWarning: Maximum number of iterations 200 reached. Increase it to improve convergence.\n",
      "  warnings.warn(\n"
     ]
    },
    {
     "name": "stdout",
     "output_type": "stream",
     "text": [
      "[CV 1/5] END log_reg__C=0.0001, log_reg__solver=saga, nmf__n_components=20;, score=(train=0.339, test=0.339) total time=  14.2s\n"
     ]
    },
    {
     "name": "stderr",
     "output_type": "stream",
     "text": [
      "/home/jng/anaconda3/lib/python3.9/site-packages/scipy/optimize/_linesearch.py:305: LineSearchWarning: The line search algorithm did not converge\n",
      "  warn('The line search algorithm did not converge', LineSearchWarning)\n",
      "/home/jng/anaconda3/lib/python3.9/site-packages/sklearn/utils/optimize.py:203: UserWarning: Line Search failed\n",
      "  warnings.warn(\"Line Search failed\")\n"
     ]
    },
    {
     "name": "stdout",
     "output_type": "stream",
     "text": [
      "[CV 5/5] END log_reg__C=0.0001, log_reg__solver=saga, nmf__n_components=20;, score=(train=0.339, test=0.339) total time=  12.3s\n",
      "[CV 2/5] END log_reg__C=0.001, log_reg__solver=newton-cg, nmf__n_components=10;, score=(train=0.341, test=0.340) total time=   9.0s\n",
      "[CV 4/5] END log_reg__C=0.001, log_reg__solver=newton-cg, nmf__n_components=10;, score=(train=0.339, test=0.340) total time=   8.9s\n",
      "[CV 3/5] END log_reg__C=0.001, log_reg__solver=newton-cg, nmf__n_components=10;, score=(train=0.341, test=0.342) total time=   9.1s\n",
      "[CV 5/5] END log_reg__C=0.001, log_reg__solver=newton-cg, nmf__n_components=10;, score=(train=0.341, test=0.342) total time=   9.1s\n"
     ]
    },
    {
     "name": "stderr",
     "output_type": "stream",
     "text": [
      "/home/jng/anaconda3/lib/python3.9/site-packages/sklearn/decomposition/_nmf.py:1665: ConvergenceWarning: Maximum number of iterations 200 reached. Increase it to improve convergence.\n",
      "  warnings.warn(\n"
     ]
    },
    {
     "name": "stdout",
     "output_type": "stream",
     "text": [
      "[CV 1/5] END log_reg__C=0.001, log_reg__solver=newton-cg, nmf__n_components=15;, score=(train=0.344, test=0.344) total time=   9.3s\n",
      "[CV 4/5] END log_reg__C=0.001, log_reg__solver=newton-cg, nmf__n_components=15;, score=(train=0.340, test=0.342) total time=   8.6s\n",
      "[CV 1/5] END log_reg__C=0.001, log_reg__solver=saga, nmf__n_components=5;, score=(train=0.343, test=0.340) total time=   6.4s\n",
      "[CV 4/5] END log_reg__C=0.001, log_reg__solver=saga, nmf__n_components=5;, score=(train=0.339, test=0.341) total time=   5.8s\n",
      "[CV 2/5] END log_reg__C=0.001, log_reg__solver=newton-cg, nmf__n_components=15;, score=(train=0.343, test=0.340) total time=  11.9s\n",
      "[CV 2/5] END log_reg__C=0.001, log_reg__solver=saga, nmf__n_components=5;, score=(train=0.342, test=0.340) total time=   7.3s\n",
      "[CV 3/5] END log_reg__C=0.001, log_reg__solver=saga, nmf__n_components=5;, score=(train=0.341, test=0.342) total time=   6.6s\n",
      "[CV 1/5] END log_reg__C=0.001, log_reg__solver=newton-cg, nmf__n_components=20;, score=(train=0.342, test=0.340) total time=   9.3s\n",
      "[CV 5/5] END log_reg__C=0.001, log_reg__solver=newton-cg, nmf__n_components=20;, score=(train=0.341, test=0.342) total time=   8.5s\n",
      "[CV 3/5] END log_reg__C=0.001, log_reg__solver=newton-cg, nmf__n_components=15;, score=(train=0.342, test=0.343) total time=  11.7s\n",
      "[CV 5/5] END log_reg__C=0.001, log_reg__solver=newton-cg, nmf__n_components=15;, score=(train=0.341, test=0.342) total time=  10.5s\n",
      "[CV 5/5] END log_reg__C=0.001, log_reg__solver=saga, nmf__n_components=5;, score=(train=0.341, test=0.343) total time=   7.3s\n"
     ]
    },
    {
     "name": "stderr",
     "output_type": "stream",
     "text": [
      "/home/jng/anaconda3/lib/python3.9/site-packages/sklearn/decomposition/_nmf.py:1665: ConvergenceWarning: Maximum number of iterations 200 reached. Increase it to improve convergence.\n",
      "  warnings.warn(\n",
      "/home/jng/anaconda3/lib/python3.9/site-packages/sklearn/decomposition/_nmf.py:1665: ConvergenceWarning: Maximum number of iterations 200 reached. Increase it to improve convergence.\n",
      "  warnings.warn(\n"
     ]
    },
    {
     "name": "stdout",
     "output_type": "stream",
     "text": [
      "[CV 4/5] END log_reg__C=0.001, log_reg__solver=newton-cg, nmf__n_components=20;, score=(train=0.340, test=0.341) total time=  11.6s\n",
      "[CV 3/5] END log_reg__C=0.001, log_reg__solver=newton-cg, nmf__n_components=20;, score=(train=0.343, test=0.343) total time=  12.0s\n",
      "[CV 2/5] END log_reg__C=0.001, log_reg__solver=saga, nmf__n_components=10;, score=(train=0.342, test=0.340) total time=   7.4s\n",
      "[CV 4/5] END log_reg__C=0.001, log_reg__solver=saga, nmf__n_components=10;, score=(train=0.339, test=0.340) total time=   8.7s\n",
      "[CV 5/5] END log_reg__C=0.001, log_reg__solver=saga, nmf__n_components=10;, score=(train=0.340, test=0.341) total time=   7.5s\n",
      "[CV 2/5] END log_reg__C=0.001, log_reg__solver=newton-cg, nmf__n_components=20;, score=(train=0.342, test=0.339) total time=  14.9s\n",
      "[CV 3/5] END log_reg__C=0.001, log_reg__solver=saga, nmf__n_components=10;, score=(train=0.341, test=0.343) total time=   9.2s\n",
      "[CV 1/5] END log_reg__C=0.001, log_reg__solver=saga, nmf__n_components=10;, score=(train=0.342, test=0.340) total time=  11.2s\n",
      "[CV 4/5] END log_reg__C=0.001, log_reg__solver=saga, nmf__n_components=15;, score=(train=0.340, test=0.342) total time=   7.6s\n"
     ]
    },
    {
     "name": "stderr",
     "output_type": "stream",
     "text": [
      "/home/jng/anaconda3/lib/python3.9/site-packages/sklearn/decomposition/_nmf.py:1665: ConvergenceWarning: Maximum number of iterations 200 reached. Increase it to improve convergence.\n",
      "  warnings.warn(\n"
     ]
    },
    {
     "name": "stdout",
     "output_type": "stream",
     "text": [
      "[CV 3/5] END log_reg__C=0.001, log_reg__solver=saga, nmf__n_components=15;, score=(train=0.344, test=0.346) total time=   9.0s\n",
      "[CV 5/5] END log_reg__C=0.001, log_reg__solver=saga, nmf__n_components=15;, score=(train=0.341, test=0.342) total time=   8.8s\n",
      "[CV 1/5] END log_reg__C=0.01, log_reg__solver=newton-cg, nmf__n_components=5;, score=(train=0.374, test=0.367) total time=   6.9s\n",
      "[CV 1/5] END log_reg__C=0.001, log_reg__solver=saga, nmf__n_components=15;, score=(train=0.343, test=0.341) total time=  12.0s\n",
      "[CV 2/5] END log_reg__C=0.01, log_reg__solver=newton-cg, nmf__n_components=5;, score=(train=0.374, test=0.370) total time=   6.6s\n",
      "[CV 3/5] END log_reg__C=0.01, log_reg__solver=newton-cg, nmf__n_components=5;, score=(train=0.373, test=0.374) total time=   6.3s\n",
      "[CV 5/5] END log_reg__C=0.01, log_reg__solver=newton-cg, nmf__n_components=5;, score=(train=0.377, test=0.363) total time=   5.7s\n",
      "[CV 4/5] END log_reg__C=0.001, log_reg__solver=saga, nmf__n_components=20;, score=(train=0.339, test=0.341) total time=   9.8s\n",
      "[CV 4/5] END log_reg__C=0.01, log_reg__solver=newton-cg, nmf__n_components=5;, score=(train=0.368, test=0.388) total time=   6.9s\n",
      "[CV 1/5] END log_reg__C=0.001, log_reg__solver=saga, nmf__n_components=20;, score=(train=0.342, test=0.341) total time=  10.5s\n",
      "[CV 5/5] END log_reg__C=0.001, log_reg__solver=saga, nmf__n_components=20;, score=(train=0.342, test=0.342) total time=  10.5s\n"
     ]
    },
    {
     "name": "stderr",
     "output_type": "stream",
     "text": [
      "/home/jng/anaconda3/lib/python3.9/site-packages/sklearn/decomposition/_nmf.py:1665: ConvergenceWarning: Maximum number of iterations 200 reached. Increase it to improve convergence.\n",
      "  warnings.warn(\n"
     ]
    },
    {
     "name": "stdout",
     "output_type": "stream",
     "text": [
      "[CV 2/5] END log_reg__C=0.001, log_reg__solver=saga, nmf__n_components=15;, score=(train=0.344, test=0.341) total time=  13.0s\n"
     ]
    },
    {
     "name": "stderr",
     "output_type": "stream",
     "text": [
      "/home/jng/anaconda3/lib/python3.9/site-packages/sklearn/decomposition/_nmf.py:1665: ConvergenceWarning: Maximum number of iterations 200 reached. Increase it to improve convergence.\n",
      "  warnings.warn(\n"
     ]
    },
    {
     "name": "stdout",
     "output_type": "stream",
     "text": [
      "[CV 2/5] END log_reg__C=0.01, log_reg__solver=newton-cg, nmf__n_components=10;, score=(train=0.375, test=0.377) total time=   6.9s\n",
      "[CV 3/5] END log_reg__C=0.001, log_reg__solver=saga, nmf__n_components=20;, score=(train=0.343, test=0.342) total time=  12.9s\n",
      "[CV 2/5] END log_reg__C=0.001, log_reg__solver=saga, nmf__n_components=20;, score=(train=0.343, test=0.339) total time=  13.5s\n",
      "[CV 1/5] END log_reg__C=0.01, log_reg__solver=newton-cg, nmf__n_components=10;, score=(train=0.376, test=0.373) total time=   9.1s\n",
      "[CV 3/5] END log_reg__C=0.01, log_reg__solver=newton-cg, nmf__n_components=10;, score=(train=0.379, test=0.383) total time=   9.0s\n",
      "[CV 4/5] END log_reg__C=0.01, log_reg__solver=newton-cg, nmf__n_components=10;, score=(train=0.373, test=0.395) total time=   9.3s\n",
      "[CV 5/5] END log_reg__C=0.01, log_reg__solver=newton-cg, nmf__n_components=10;, score=(train=0.379, test=0.366) total time=   8.5s\n"
     ]
    },
    {
     "name": "stderr",
     "output_type": "stream",
     "text": [
      "/home/jng/anaconda3/lib/python3.9/site-packages/sklearn/decomposition/_nmf.py:1665: ConvergenceWarning: Maximum number of iterations 200 reached. Increase it to improve convergence.\n",
      "  warnings.warn(\n"
     ]
    },
    {
     "name": "stdout",
     "output_type": "stream",
     "text": [
      "[CV 5/5] END log_reg__C=0.01, log_reg__solver=newton-cg, nmf__n_components=15;, score=(train=0.380, test=0.364) total time=   7.7s\n"
     ]
    },
    {
     "name": "stderr",
     "output_type": "stream",
     "text": [
      "/home/jng/anaconda3/lib/python3.9/site-packages/sklearn/decomposition/_nmf.py:1665: ConvergenceWarning: Maximum number of iterations 200 reached. Increase it to improve convergence.\n",
      "  warnings.warn(\n"
     ]
    },
    {
     "name": "stdout",
     "output_type": "stream",
     "text": [
      "[CV 1/5] END log_reg__C=0.01, log_reg__solver=newton-cg, nmf__n_components=15;, score=(train=0.376, test=0.372) total time=  10.0s\n",
      "[CV 4/5] END log_reg__C=0.01, log_reg__solver=newton-cg, nmf__n_components=15;, score=(train=0.372, test=0.395) total time=   8.3s\n",
      "[CV 1/5] END log_reg__C=0.01, log_reg__solver=saga, nmf__n_components=5;, score=(train=0.374, test=0.367) total time=   6.4s\n",
      "[CV 3/5] END log_reg__C=0.01, log_reg__solver=saga, nmf__n_components=5;, score=(train=0.373, test=0.374) total time=   6.2s\n",
      "[CV 2/5] END log_reg__C=0.01, log_reg__solver=saga, nmf__n_components=5;, score=(train=0.374, test=0.370) total time=   6.6s\n",
      "[CV 4/5] END log_reg__C=0.01, log_reg__solver=saga, nmf__n_components=5;, score=(train=0.368, test=0.388) total time=   5.9s\n",
      "[CV 2/5] END log_reg__C=0.01, log_reg__solver=newton-cg, nmf__n_components=15;, score=(train=0.378, test=0.373) total time=  11.8s\n"
     ]
    },
    {
     "name": "stderr",
     "output_type": "stream",
     "text": [
      "/home/jng/anaconda3/lib/python3.9/site-packages/sklearn/decomposition/_nmf.py:1665: ConvergenceWarning: Maximum number of iterations 200 reached. Increase it to improve convergence.\n",
      "  warnings.warn(\n"
     ]
    },
    {
     "name": "stdout",
     "output_type": "stream",
     "text": [
      "[CV 3/5] END log_reg__C=0.01, log_reg__solver=newton-cg, nmf__n_components=20;, score=(train=0.378, test=0.376) total time=  10.4s\n",
      "[CV 4/5] END log_reg__C=0.01, log_reg__solver=newton-cg, nmf__n_components=20;, score=(train=0.372, test=0.393) total time=  10.4s\n",
      "[CV 5/5] END log_reg__C=0.01, log_reg__solver=saga, nmf__n_components=5;, score=(train=0.377, test=0.363) total time=   7.1s\n",
      "[CV 3/5] END log_reg__C=0.01, log_reg__solver=newton-cg, nmf__n_components=15;, score=(train=0.375, test=0.374) total time=  12.4s\n",
      "[CV 5/5] END log_reg__C=0.01, log_reg__solver=newton-cg, nmf__n_components=20;, score=(train=0.380, test=0.364) total time=   9.9s\n"
     ]
    },
    {
     "name": "stderr",
     "output_type": "stream",
     "text": [
      "/home/jng/anaconda3/lib/python3.9/site-packages/sklearn/decomposition/_nmf.py:1665: ConvergenceWarning: Maximum number of iterations 200 reached. Increase it to improve convergence.\n",
      "  warnings.warn(\n"
     ]
    },
    {
     "name": "stdout",
     "output_type": "stream",
     "text": [
      "[CV 1/5] END log_reg__C=0.01, log_reg__solver=newton-cg, nmf__n_components=20;, score=(train=0.379, test=0.372) total time=  12.1s\n",
      "[CV 2/5] END log_reg__C=0.01, log_reg__solver=newton-cg, nmf__n_components=20;, score=(train=0.377, test=0.374) total time=  12.4s\n",
      "[CV 2/5] END log_reg__C=0.01, log_reg__solver=saga, nmf__n_components=10;, score=(train=0.375, test=0.377) total time=   7.3s\n",
      "[CV 1/5] END log_reg__C=0.01, log_reg__solver=saga, nmf__n_components=10;, score=(train=0.376, test=0.373) total time=   9.9s\n",
      "[CV 3/5] END log_reg__C=0.01, log_reg__solver=saga, nmf__n_components=10;, score=(train=0.379, test=0.383) total time=   9.2s\n",
      "[CV 4/5] END log_reg__C=0.01, log_reg__solver=saga, nmf__n_components=10;, score=(train=0.372, test=0.395) total time=   9.3s\n",
      "[CV 5/5] END log_reg__C=0.01, log_reg__solver=saga, nmf__n_components=10;, score=(train=0.379, test=0.366) total time=   9.0s\n",
      "[CV 2/5] END log_reg__C=0.01, log_reg__solver=saga, nmf__n_components=15;, score=(train=0.377, test=0.377) total time=   7.7s\n",
      "[CV 4/5] END log_reg__C=0.01, log_reg__solver=saga, nmf__n_components=15;, score=(train=0.372, test=0.397) total time=   7.5s\n",
      "[CV 1/5] END log_reg__C=0.01, log_reg__solver=saga, nmf__n_components=15;, score=(train=0.377, test=0.370) total time=   8.2s\n",
      "[CV 5/5] END log_reg__C=0.01, log_reg__solver=saga, nmf__n_components=15;, score=(train=0.380, test=0.364) total time=   8.0s\n",
      "[CV 2/5] END log_reg__C=0.1, log_reg__solver=newton-cg, nmf__n_components=5;, score=(train=0.386, test=0.385) total time=   6.1s\n",
      "[CV 3/5] END log_reg__C=0.01, log_reg__solver=saga, nmf__n_components=15;, score=(train=0.377, test=0.375) total time=  10.2s\n",
      "[CV 1/5] END log_reg__C=0.1, log_reg__solver=newton-cg, nmf__n_components=5;, score=(train=0.388, test=0.378) total time=   6.9s\n"
     ]
    },
    {
     "name": "stderr",
     "output_type": "stream",
     "text": [
      "/home/jng/anaconda3/lib/python3.9/site-packages/sklearn/decomposition/_nmf.py:1665: ConvergenceWarning: Maximum number of iterations 200 reached. Increase it to improve convergence.\n",
      "  warnings.warn(\n"
     ]
    },
    {
     "name": "stdout",
     "output_type": "stream",
     "text": [
      "[CV 4/5] END log_reg__C=0.1, log_reg__solver=newton-cg, nmf__n_components=5;, score=(train=0.384, test=0.401) total time=   6.4s\n",
      "[CV 3/5] END log_reg__C=0.1, log_reg__solver=newton-cg, nmf__n_components=5;, score=(train=0.383, test=0.396) total time=   7.1s\n",
      "[CV 5/5] END log_reg__C=0.1, log_reg__solver=newton-cg, nmf__n_components=5;, score=(train=0.390, test=0.369) total time=   6.3s\n",
      "[CV 5/5] END log_reg__C=0.01, log_reg__solver=saga, nmf__n_components=20;, score=(train=0.379, test=0.366) total time=   8.7s\n"
     ]
    },
    {
     "name": "stderr",
     "output_type": "stream",
     "text": [
      "/home/jng/anaconda3/lib/python3.9/site-packages/sklearn/decomposition/_nmf.py:1665: ConvergenceWarning: Maximum number of iterations 200 reached. Increase it to improve convergence.\n",
      "  warnings.warn(\n"
     ]
    },
    {
     "name": "stdout",
     "output_type": "stream",
     "text": [
      "[CV 1/5] END log_reg__C=0.01, log_reg__solver=saga, nmf__n_components=20;, score=(train=0.376, test=0.368) total time=  12.1s\n",
      "[CV 2/5] END log_reg__C=0.01, log_reg__solver=saga, nmf__n_components=20;, score=(train=0.377, test=0.373) total time=  12.5s\n",
      "[CV 1/5] END log_reg__C=0.1, log_reg__solver=newton-cg, nmf__n_components=10;, score=(train=0.395, test=0.380) total time=   9.3s\n",
      "[CV 2/5] END log_reg__C=0.1, log_reg__solver=newton-cg, nmf__n_components=10;, score=(train=0.390, test=0.391) total time=   7.8s\n",
      "[CV 3/5] END log_reg__C=0.1, log_reg__solver=newton-cg, nmf__n_components=10;, score=(train=0.391, test=0.394) total time=   8.0s\n",
      "[CV 4/5] END log_reg__C=0.01, log_reg__solver=saga, nmf__n_components=20;, score=(train=0.373, test=0.395) total time=  13.0s\n",
      "[CV 3/5] END log_reg__C=0.01, log_reg__solver=saga, nmf__n_components=20;, score=(train=0.375, test=0.377) total time=  14.2s\n",
      "[CV 4/5] END log_reg__C=0.1, log_reg__solver=newton-cg, nmf__n_components=10;, score=(train=0.391, test=0.400) total time=   9.2s\n",
      "[CV 5/5] END log_reg__C=0.1, log_reg__solver=newton-cg, nmf__n_components=10;, score=(train=0.395, test=0.370) total time=   9.4s\n"
     ]
    },
    {
     "name": "stderr",
     "output_type": "stream",
     "text": [
      "/home/jng/anaconda3/lib/python3.9/site-packages/sklearn/decomposition/_nmf.py:1665: ConvergenceWarning: Maximum number of iterations 200 reached. Increase it to improve convergence.\n",
      "  warnings.warn(\n"
     ]
    },
    {
     "name": "stdout",
     "output_type": "stream",
     "text": [
      "[CV 1/5] END log_reg__C=0.1, log_reg__solver=newton-cg, nmf__n_components=15;, score=(train=0.395, test=0.384) total time=   9.1s\n",
      "[CV 4/5] END log_reg__C=0.1, log_reg__solver=newton-cg, nmf__n_components=15;, score=(train=0.388, test=0.404) total time=   8.2s\n",
      "[CV 1/5] END log_reg__C=0.1, log_reg__solver=saga, nmf__n_components=5;, score=(train=0.388, test=0.377) total time=   6.0s\n",
      "[CV 5/5] END log_reg__C=0.1, log_reg__solver=newton-cg, nmf__n_components=15;, score=(train=0.394, test=0.377) total time=   8.3s\n",
      "[CV 3/5] END log_reg__C=0.1, log_reg__solver=newton-cg, nmf__n_components=15;, score=(train=0.392, test=0.388) total time=  10.1s\n",
      "[CV 3/5] END log_reg__C=0.1, log_reg__solver=saga, nmf__n_components=5;, score=(train=0.383, test=0.396) total time=   6.0s\n",
      "[CV 4/5] END log_reg__C=0.1, log_reg__solver=saga, nmf__n_components=5;, score=(train=0.384, test=0.401) total time=   5.7s\n",
      "[CV 5/5] END log_reg__C=0.1, log_reg__solver=newton-cg, nmf__n_components=20;, score=(train=0.396, test=0.379) total time=   8.9s\n"
     ]
    },
    {
     "name": "stderr",
     "output_type": "stream",
     "text": [
      "/home/jng/anaconda3/lib/python3.9/site-packages/sklearn/decomposition/_nmf.py:1665: ConvergenceWarning: Maximum number of iterations 200 reached. Increase it to improve convergence.\n",
      "  warnings.warn(\n"
     ]
    },
    {
     "name": "stdout",
     "output_type": "stream",
     "text": [
      "[CV 2/5] END log_reg__C=0.1, log_reg__solver=saga, nmf__n_components=5;, score=(train=0.386, test=0.385) total time=   7.1s\n",
      "[CV 5/5] END log_reg__C=0.1, log_reg__solver=saga, nmf__n_components=5;, score=(train=0.389, test=0.369) total time=   6.2s\n",
      "[CV 2/5] END log_reg__C=0.1, log_reg__solver=newton-cg, nmf__n_components=15;, score=(train=0.391, test=0.389) total time=  12.7s\n"
     ]
    },
    {
     "name": "stderr",
     "output_type": "stream",
     "text": [
      "/home/jng/anaconda3/lib/python3.9/site-packages/sklearn/decomposition/_nmf.py:1665: ConvergenceWarning: Maximum number of iterations 200 reached. Increase it to improve convergence.\n",
      "  warnings.warn(\n",
      "/home/jng/anaconda3/lib/python3.9/site-packages/sklearn/decomposition/_nmf.py:1665: ConvergenceWarning: Maximum number of iterations 200 reached. Increase it to improve convergence.\n",
      "  warnings.warn(\n",
      "/home/jng/anaconda3/lib/python3.9/site-packages/sklearn/decomposition/_nmf.py:1665: ConvergenceWarning: Maximum number of iterations 200 reached. Increase it to improve convergence.\n",
      "  warnings.warn(\n"
     ]
    },
    {
     "name": "stdout",
     "output_type": "stream",
     "text": [
      "[CV 1/5] END log_reg__C=0.1, log_reg__solver=saga, nmf__n_components=10;, score=(train=0.395, test=0.380) total time=   9.2s\n",
      "[CV 4/5] END log_reg__C=0.1, log_reg__solver=newton-cg, nmf__n_components=20;, score=(train=0.391, test=0.406) total time=  13.4s\n",
      "[CV 2/5] END log_reg__C=0.1, log_reg__solver=saga, nmf__n_components=10;, score=(train=0.391, test=0.393) total time=   9.3s\n",
      "[CV 3/5] END log_reg__C=0.1, log_reg__solver=saga, nmf__n_components=10;, score=(train=0.394, test=0.400) total time=   9.3s\n"
     ]
    },
    {
     "name": "stderr",
     "output_type": "stream",
     "text": [
      "/home/jng/anaconda3/lib/python3.9/site-packages/sklearn/decomposition/_nmf.py:1665: ConvergenceWarning: Maximum number of iterations 200 reached. Increase it to improve convergence.\n",
      "  warnings.warn(\n"
     ]
    },
    {
     "name": "stdout",
     "output_type": "stream",
     "text": [
      "[CV 3/5] END log_reg__C=0.1, log_reg__solver=newton-cg, nmf__n_components=20;, score=(train=0.392, test=0.389) total time=  15.6s\n",
      "[CV 4/5] END log_reg__C=0.1, log_reg__solver=saga, nmf__n_components=10;, score=(train=0.392, test=0.400) total time=   9.2s\n",
      "[CV 2/5] END log_reg__C=0.1, log_reg__solver=newton-cg, nmf__n_components=20;, score=(train=0.394, test=0.389) total time=  16.7s\n",
      "[CV 1/5] END log_reg__C=0.1, log_reg__solver=newton-cg, nmf__n_components=20;, score=(train=0.396, test=0.385) total time=  17.4s\n"
     ]
    },
    {
     "name": "stderr",
     "output_type": "stream",
     "text": [
      "/home/jng/anaconda3/lib/python3.9/site-packages/sklearn/decomposition/_nmf.py:1665: ConvergenceWarning: Maximum number of iterations 200 reached. Increase it to improve convergence.\n",
      "  warnings.warn(\n",
      "/home/jng/anaconda3/lib/python3.9/site-packages/sklearn/decomposition/_nmf.py:1665: ConvergenceWarning: Maximum number of iterations 200 reached. Increase it to improve convergence.\n",
      "  warnings.warn(\n"
     ]
    },
    {
     "name": "stdout",
     "output_type": "stream",
     "text": [
      "[CV 1/5] END log_reg__C=0.1, log_reg__solver=saga, nmf__n_components=15;, score=(train=0.396, test=0.383) total time=   9.7s\n",
      "[CV 5/5] END log_reg__C=0.1, log_reg__solver=saga, nmf__n_components=15;, score=(train=0.393, test=0.378) total time=   8.3s\n",
      "[CV 4/5] END log_reg__C=0.1, log_reg__solver=saga, nmf__n_components=15;, score=(train=0.388, test=0.405) total time=   8.7s\n",
      "[CV 1/5] END log_reg__C=1, log_reg__solver=newton-cg, nmf__n_components=5;, score=(train=0.398, test=0.387) total time=   6.6s\n",
      "[CV 5/5] END log_reg__C=0.1, log_reg__solver=saga, nmf__n_components=10;, score=(train=0.390, test=0.374) total time=  11.4s\n",
      "[CV 1/5] END log_reg__C=0.1, log_reg__solver=saga, nmf__n_components=20;, score=(train=0.396, test=0.385) total time=   8.9s\n",
      "[CV 3/5] END log_reg__C=0.1, log_reg__solver=saga, nmf__n_components=15;, score=(train=0.393, test=0.391) total time=  12.3s\n",
      "[CV 2/5] END log_reg__C=1, log_reg__solver=newton-cg, nmf__n_components=5;, score=(train=0.396, test=0.399) total time=   5.9s\n",
      "[CV 2/5] END log_reg__C=0.1, log_reg__solver=saga, nmf__n_components=15;, score=(train=0.394, test=0.394) total time=  13.1s\n"
     ]
    },
    {
     "name": "stderr",
     "output_type": "stream",
     "text": [
      "/home/jng/anaconda3/lib/python3.9/site-packages/sklearn/decomposition/_nmf.py:1665: ConvergenceWarning: Maximum number of iterations 200 reached. Increase it to improve convergence.\n",
      "  warnings.warn(\n"
     ]
    },
    {
     "name": "stdout",
     "output_type": "stream",
     "text": [
      "[CV 4/5] END log_reg__C=1, log_reg__solver=newton-cg, nmf__n_components=5;, score=(train=0.393, test=0.407) total time=   5.6s\n",
      "[CV 5/5] END log_reg__C=1, log_reg__solver=newton-cg, nmf__n_components=5;, score=(train=0.400, test=0.387) total time=   5.9s\n",
      "[CV 4/5] END log_reg__C=0.1, log_reg__solver=saga, nmf__n_components=20;, score=(train=0.391, test=0.401) total time=  10.3s\n"
     ]
    },
    {
     "name": "stderr",
     "output_type": "stream",
     "text": [
      "/home/jng/anaconda3/lib/python3.9/site-packages/sklearn/decomposition/_nmf.py:1665: ConvergenceWarning: Maximum number of iterations 200 reached. Increase it to improve convergence.\n",
      "  warnings.warn(\n"
     ]
    },
    {
     "name": "stdout",
     "output_type": "stream",
     "text": [
      "[CV 5/5] END log_reg__C=0.1, log_reg__solver=saga, nmf__n_components=20;, score=(train=0.396, test=0.382) total time=  10.7s\n",
      "[CV 3/5] END log_reg__C=1, log_reg__solver=newton-cg, nmf__n_components=5;, score=(train=0.396, test=0.400) total time=   6.8s\n"
     ]
    },
    {
     "name": "stderr",
     "output_type": "stream",
     "text": [
      "/home/jng/anaconda3/lib/python3.9/site-packages/sklearn/decomposition/_nmf.py:1665: ConvergenceWarning: Maximum number of iterations 200 reached. Increase it to improve convergence.\n",
      "  warnings.warn(\n"
     ]
    },
    {
     "name": "stdout",
     "output_type": "stream",
     "text": [
      "[CV 2/5] END log_reg__C=0.1, log_reg__solver=saga, nmf__n_components=20;, score=(train=0.393, test=0.391) total time=  14.7s\n"
     ]
    },
    {
     "name": "stderr",
     "output_type": "stream",
     "text": [
      "/home/jng/anaconda3/lib/python3.9/site-packages/sklearn/decomposition/_nmf.py:1665: ConvergenceWarning: Maximum number of iterations 200 reached. Increase it to improve convergence.\n",
      "  warnings.warn(\n"
     ]
    },
    {
     "name": "stdout",
     "output_type": "stream",
     "text": [
      "[CV 2/5] END log_reg__C=1, log_reg__solver=newton-cg, nmf__n_components=10;, score=(train=0.400, test=0.392) total time=   8.0s\n",
      "[CV 3/5] END log_reg__C=0.1, log_reg__solver=saga, nmf__n_components=20;, score=(train=0.395, test=0.394) total time=  15.8s\n",
      "[CV 1/5] END log_reg__C=1, log_reg__solver=newton-cg, nmf__n_components=10;, score=(train=0.402, test=0.392) total time=  11.3s\n",
      "[CV 5/5] END log_reg__C=1, log_reg__solver=newton-cg, nmf__n_components=10;, score=(train=0.401, test=0.386) total time=   9.1s\n",
      "[CV 4/5] END log_reg__C=1, log_reg__solver=newton-cg, nmf__n_components=10;, score=(train=0.397, test=0.413) total time=  10.3s\n"
     ]
    },
    {
     "name": "stderr",
     "output_type": "stream",
     "text": [
      "/home/jng/anaconda3/lib/python3.9/site-packages/sklearn/decomposition/_nmf.py:1665: ConvergenceWarning: Maximum number of iterations 200 reached. Increase it to improve convergence.\n",
      "  warnings.warn(\n"
     ]
    },
    {
     "name": "stdout",
     "output_type": "stream",
     "text": [
      "[CV 3/5] END log_reg__C=1, log_reg__solver=newton-cg, nmf__n_components=10;, score=(train=0.401, test=0.407) total time=  11.7s\n",
      "[CV 5/5] END log_reg__C=1, log_reg__solver=newton-cg, nmf__n_components=15;, score=(train=0.403, test=0.392) total time=   9.3s\n",
      "[CV 1/5] END log_reg__C=1, log_reg__solver=newton-cg, nmf__n_components=15;, score=(train=0.401, test=0.390) total time=  10.8s\n",
      "[CV 1/5] END log_reg__C=1, log_reg__solver=saga, nmf__n_components=5;, score=(train=0.398, test=0.387) total time=   6.7s\n"
     ]
    },
    {
     "name": "stderr",
     "output_type": "stream",
     "text": [
      "/home/jng/anaconda3/lib/python3.9/site-packages/sklearn/decomposition/_nmf.py:1665: ConvergenceWarning: Maximum number of iterations 200 reached. Increase it to improve convergence.\n",
      "  warnings.warn(\n"
     ]
    },
    {
     "name": "stdout",
     "output_type": "stream",
     "text": [
      "[CV 2/5] END log_reg__C=1, log_reg__solver=saga, nmf__n_components=5;, score=(train=0.396, test=0.399) total time=   7.0s\n",
      "[CV 3/5] END log_reg__C=1, log_reg__solver=saga, nmf__n_components=5;, score=(train=0.396, test=0.400) total time=   7.1s\n",
      "[CV 2/5] END log_reg__C=1, log_reg__solver=newton-cg, nmf__n_components=15;, score=(train=0.397, test=0.396) total time=  12.7s\n",
      "[CV 3/5] END log_reg__C=1, log_reg__solver=newton-cg, nmf__n_components=15;, score=(train=0.399, test=0.398) total time=  12.1s\n",
      "[CV 1/5] END log_reg__C=1, log_reg__solver=newton-cg, nmf__n_components=20;, score=(train=0.403, test=0.387) total time=  10.2s\n",
      "[CV 4/5] END log_reg__C=1, log_reg__solver=saga, nmf__n_components=5;, score=(train=0.393, test=0.407) total time=   5.9s\n",
      "[CV 5/5] END log_reg__C=1, log_reg__solver=newton-cg, nmf__n_components=20;, score=(train=0.405, test=0.394) total time=   9.5s\n"
     ]
    },
    {
     "name": "stderr",
     "output_type": "stream",
     "text": [
      "/home/jng/anaconda3/lib/python3.9/site-packages/sklearn/decomposition/_nmf.py:1665: ConvergenceWarning: Maximum number of iterations 200 reached. Increase it to improve convergence.\n",
      "  warnings.warn(\n",
      "/home/jng/anaconda3/lib/python3.9/site-packages/sklearn/decomposition/_nmf.py:1665: ConvergenceWarning: Maximum number of iterations 200 reached. Increase it to improve convergence.\n",
      "  warnings.warn(\n"
     ]
    },
    {
     "name": "stdout",
     "output_type": "stream",
     "text": [
      "[CV 5/5] END log_reg__C=1, log_reg__solver=saga, nmf__n_components=5;, score=(train=0.401, test=0.387) total time=   6.5s\n"
     ]
    },
    {
     "name": "stderr",
     "output_type": "stream",
     "text": [
      "/home/jng/anaconda3/lib/python3.9/site-packages/sklearn/decomposition/_nmf.py:1665: ConvergenceWarning: Maximum number of iterations 200 reached. Increase it to improve convergence.\n",
      "  warnings.warn(\n"
     ]
    },
    {
     "name": "stdout",
     "output_type": "stream",
     "text": [
      "[CV 4/5] END log_reg__C=1, log_reg__solver=newton-cg, nmf__n_components=15;, score=(train=0.401, test=0.411) total time=  14.4s\n",
      "[CV 2/5] END log_reg__C=1, log_reg__solver=newton-cg, nmf__n_components=20;, score=(train=0.403, test=0.398) total time=  14.2s\n",
      "[CV 3/5] END log_reg__C=1, log_reg__solver=newton-cg, nmf__n_components=20;, score=(train=0.403, test=0.398) total time=  14.8s\n",
      "[CV 4/5] END log_reg__C=1, log_reg__solver=newton-cg, nmf__n_components=20;, score=(train=0.401, test=0.408) total time=  14.8s\n"
     ]
    },
    {
     "name": "stderr",
     "output_type": "stream",
     "text": [
      "/home/jng/anaconda3/lib/python3.9/site-packages/sklearn/decomposition/_nmf.py:1665: ConvergenceWarning: Maximum number of iterations 200 reached. Increase it to improve convergence.\n",
      "  warnings.warn(\n",
      "/home/jng/anaconda3/lib/python3.9/site-packages/sklearn/decomposition/_nmf.py:1665: ConvergenceWarning: Maximum number of iterations 200 reached. Increase it to improve convergence.\n",
      "  warnings.warn(\n"
     ]
    },
    {
     "name": "stdout",
     "output_type": "stream",
     "text": [
      "[CV 1/5] END log_reg__C=1, log_reg__solver=saga, nmf__n_components=10;, score=(train=0.401, test=0.392) total time=  10.4s\n",
      "[CV 2/5] END log_reg__C=1, log_reg__solver=saga, nmf__n_components=10;, score=(train=0.400, test=0.392) total time=   9.1s\n",
      "[CV 4/5] END log_reg__C=1, log_reg__solver=saga, nmf__n_components=10;, score=(train=0.397, test=0.413) total time=  10.6s\n"
     ]
    },
    {
     "name": "stderr",
     "output_type": "stream",
     "text": [
      "/home/jng/anaconda3/lib/python3.9/site-packages/sklearn/decomposition/_nmf.py:1665: ConvergenceWarning: Maximum number of iterations 200 reached. Increase it to improve convergence.\n",
      "  warnings.warn(\n"
     ]
    },
    {
     "name": "stdout",
     "output_type": "stream",
     "text": [
      "[CV 5/5] END log_reg__C=1, log_reg__solver=saga, nmf__n_components=15;, score=(train=0.401, test=0.392) total time=   8.2s\n"
     ]
    },
    {
     "name": "stderr",
     "output_type": "stream",
     "text": [
      "/home/jng/anaconda3/lib/python3.9/site-packages/sklearn/decomposition/_nmf.py:1665: ConvergenceWarning: Maximum number of iterations 200 reached. Increase it to improve convergence.\n",
      "  warnings.warn(\n"
     ]
    },
    {
     "name": "stdout",
     "output_type": "stream",
     "text": [
      "[CV 1/5] END log_reg__C=1, log_reg__solver=saga, nmf__n_components=15;, score=(train=0.401, test=0.389) total time=   9.8s\n",
      "[CV 3/5] END log_reg__C=1, log_reg__solver=saga, nmf__n_components=10;, score=(train=0.401, test=0.406) total time=  11.6s\n",
      "[CV 5/5] END log_reg__C=1, log_reg__solver=saga, nmf__n_components=10;, score=(train=0.406, test=0.398) total time=  12.0s\n",
      "[CV 1/5] END log_reg__C=10, log_reg__solver=newton-cg, nmf__n_components=5;, score=(train=0.399, test=0.387) total time=   7.1s\n",
      "[CV 4/5] END log_reg__C=1, log_reg__solver=saga, nmf__n_components=15;, score=(train=0.398, test=0.408) total time=  10.0s\n"
     ]
    },
    {
     "name": "stderr",
     "output_type": "stream",
     "text": [
      "/home/jng/anaconda3/lib/python3.9/site-packages/sklearn/decomposition/_nmf.py:1665: ConvergenceWarning: Maximum number of iterations 200 reached. Increase it to improve convergence.\n",
      "  warnings.warn(\n"
     ]
    },
    {
     "name": "stdout",
     "output_type": "stream",
     "text": [
      "[CV 2/5] END log_reg__C=10, log_reg__solver=newton-cg, nmf__n_components=5;, score=(train=0.397, test=0.400) total time=   7.6s\n"
     ]
    },
    {
     "name": "stderr",
     "output_type": "stream",
     "text": [
      "/home/jng/anaconda3/lib/python3.9/site-packages/sklearn/decomposition/_nmf.py:1665: ConvergenceWarning: Maximum number of iterations 200 reached. Increase it to improve convergence.\n",
      "  warnings.warn(\n"
     ]
    },
    {
     "name": "stdout",
     "output_type": "stream",
     "text": [
      "[CV 4/5] END log_reg__C=10, log_reg__solver=newton-cg, nmf__n_components=5;, score=(train=0.393, test=0.407) total time=   6.2s\n",
      "[CV 5/5] END log_reg__C=1, log_reg__solver=saga, nmf__n_components=20;, score=(train=0.405, test=0.395) total time=  10.4s\n",
      "[CV 2/5] END log_reg__C=1, log_reg__solver=saga, nmf__n_components=15;, score=(train=0.400, test=0.396) total time=  13.5s\n",
      "[CV 5/5] END log_reg__C=10, log_reg__solver=newton-cg, nmf__n_components=5;, score=(train=0.400, test=0.386) total time=   6.1s\n",
      "[CV 3/5] END log_reg__C=1, log_reg__solver=saga, nmf__n_components=15;, score=(train=0.403, test=0.404) total time=  13.7s\n",
      "[CV 3/5] END log_reg__C=10, log_reg__solver=newton-cg, nmf__n_components=5;, score=(train=0.397, test=0.402) total time=   7.1s\n",
      "[CV 2/5] END log_reg__C=1, log_reg__solver=saga, nmf__n_components=20;, score=(train=0.403, test=0.401) total time=  12.8s\n"
     ]
    },
    {
     "name": "stderr",
     "output_type": "stream",
     "text": [
      "/home/jng/anaconda3/lib/python3.9/site-packages/sklearn/decomposition/_nmf.py:1665: ConvergenceWarning: Maximum number of iterations 200 reached. Increase it to improve convergence.\n",
      "  warnings.warn(\n"
     ]
    },
    {
     "name": "stdout",
     "output_type": "stream",
     "text": [
      "[CV 4/5] END log_reg__C=1, log_reg__solver=saga, nmf__n_components=20;, score=(train=0.401, test=0.414) total time=  14.0s\n",
      "[CV 1/5] END log_reg__C=1, log_reg__solver=saga, nmf__n_components=20;, score=(train=0.406, test=0.385) total time=  15.2s\n",
      "[CV 3/5] END log_reg__C=1, log_reg__solver=saga, nmf__n_components=20;, score=(train=0.403, test=0.401) total time=  15.2s\n"
     ]
    },
    {
     "name": "stderr",
     "output_type": "stream",
     "text": [
      "/home/jng/anaconda3/lib/python3.9/site-packages/sklearn/decomposition/_nmf.py:1665: ConvergenceWarning: Maximum number of iterations 200 reached. Increase it to improve convergence.\n",
      "  warnings.warn(\n"
     ]
    },
    {
     "name": "stdout",
     "output_type": "stream",
     "text": [
      "[CV 5/5] END log_reg__C=10, log_reg__solver=newton-cg, nmf__n_components=10;, score=(train=0.400, test=0.389) total time=   7.5s\n",
      "[CV 1/5] END log_reg__C=10, log_reg__solver=newton-cg, nmf__n_components=10;, score=(train=0.400, test=0.393) total time=  10.4s\n",
      "[CV 4/5] END log_reg__C=10, log_reg__solver=newton-cg, nmf__n_components=10;, score=(train=0.396, test=0.414) total time=   8.8s\n",
      "[CV 2/5] END log_reg__C=10, log_reg__solver=newton-cg, nmf__n_components=10;, score=(train=0.400, test=0.395) total time=  10.1s\n",
      "[CV 3/5] END log_reg__C=10, log_reg__solver=newton-cg, nmf__n_components=10;, score=(train=0.400, test=0.407) total time=  11.6s\n",
      "[CV 1/5] END log_reg__C=10, log_reg__solver=saga, nmf__n_components=5;, score=(train=0.399, test=0.386) total time=   6.8s\n",
      "[CV 4/5] END log_reg__C=10, log_reg__solver=newton-cg, nmf__n_components=15;, score=(train=0.399, test=0.410) total time=   9.6s\n"
     ]
    },
    {
     "name": "stderr",
     "output_type": "stream",
     "text": [
      "/home/jng/anaconda3/lib/python3.9/site-packages/sklearn/decomposition/_nmf.py:1665: ConvergenceWarning: Maximum number of iterations 200 reached. Increase it to improve convergence.\n",
      "  warnings.warn(\n"
     ]
    },
    {
     "name": "stdout",
     "output_type": "stream",
     "text": [
      "[CV 2/5] END log_reg__C=10, log_reg__solver=saga, nmf__n_components=5;, score=(train=0.397, test=0.401) total time=   6.8s\n",
      "[CV 1/5] END log_reg__C=10, log_reg__solver=newton-cg, nmf__n_components=15;, score=(train=0.401, test=0.388) total time=  11.9s\n",
      "[CV 3/5] END log_reg__C=10, log_reg__solver=saga, nmf__n_components=5;, score=(train=0.398, test=0.402) total time=   6.5s\n",
      "[CV 4/5] END log_reg__C=10, log_reg__solver=saga, nmf__n_components=5;, score=(train=0.393, test=0.407) total time=   6.1s\n",
      "[CV 5/5] END log_reg__C=10, log_reg__solver=saga, nmf__n_components=5;, score=(train=0.400, test=0.386) total time=   6.2s\n",
      "[CV 3/5] END log_reg__C=10, log_reg__solver=newton-cg, nmf__n_components=15;, score=(train=0.400, test=0.394) total time=  11.6s\n",
      "[CV 5/5] END log_reg__C=10, log_reg__solver=newton-cg, nmf__n_components=20;, score=(train=0.405, test=0.403) total time=   9.5s\n",
      "[CV 5/5] END log_reg__C=10, log_reg__solver=newton-cg, nmf__n_components=15;, score=(train=0.402, test=0.391) total time=  10.5s\n"
     ]
    },
    {
     "name": "stderr",
     "output_type": "stream",
     "text": [
      "/home/jng/anaconda3/lib/python3.9/site-packages/sklearn/decomposition/_nmf.py:1665: ConvergenceWarning: Maximum number of iterations 200 reached. Increase it to improve convergence.\n",
      "  warnings.warn(\n"
     ]
    },
    {
     "name": "stdout",
     "output_type": "stream",
     "text": [
      "[CV 3/5] END log_reg__C=10, log_reg__solver=newton-cg, nmf__n_components=20;, score=(train=0.405, test=0.398) total time=  10.8s\n",
      "[CV 4/5] END log_reg__C=10, log_reg__solver=newton-cg, nmf__n_components=20;, score=(train=0.404, test=0.413) total time=  11.9s\n"
     ]
    },
    {
     "name": "stderr",
     "output_type": "stream",
     "text": [
      "/home/jng/anaconda3/lib/python3.9/site-packages/sklearn/decomposition/_nmf.py:1665: ConvergenceWarning: Maximum number of iterations 200 reached. Increase it to improve convergence.\n",
      "  warnings.warn(\n"
     ]
    },
    {
     "name": "stdout",
     "output_type": "stream",
     "text": [
      "[CV 2/5] END log_reg__C=10, log_reg__solver=newton-cg, nmf__n_components=15;, score=(train=0.400, test=0.400) total time=  14.8s\n",
      "[CV 1/5] END log_reg__C=10, log_reg__solver=newton-cg, nmf__n_components=20;, score=(train=0.406, test=0.389) total time=  13.2s\n"
     ]
    },
    {
     "name": "stderr",
     "output_type": "stream",
     "text": [
      "/home/jng/anaconda3/lib/python3.9/site-packages/sklearn/decomposition/_nmf.py:1665: ConvergenceWarning: Maximum number of iterations 200 reached. Increase it to improve convergence.\n",
      "  warnings.warn(\n"
     ]
    },
    {
     "name": "stdout",
     "output_type": "stream",
     "text": [
      "[CV 2/5] END log_reg__C=10, log_reg__solver=newton-cg, nmf__n_components=20;, score=(train=0.404, test=0.397) total time=  14.7s\n"
     ]
    },
    {
     "name": "stderr",
     "output_type": "stream",
     "text": [
      "/home/jng/anaconda3/lib/python3.9/site-packages/sklearn/decomposition/_nmf.py:1665: ConvergenceWarning: Maximum number of iterations 200 reached. Increase it to improve convergence.\n",
      "  warnings.warn(\n"
     ]
    },
    {
     "name": "stdout",
     "output_type": "stream",
     "text": [
      "[CV 1/5] END log_reg__C=10, log_reg__solver=saga, nmf__n_components=10;, score=(train=0.401, test=0.393) total time=   9.5s\n",
      "[CV 4/5] END log_reg__C=10, log_reg__solver=saga, nmf__n_components=10;, score=(train=0.397, test=0.413) total time=   8.8s\n",
      "[CV 2/5] END log_reg__C=10, log_reg__solver=saga, nmf__n_components=10;, score=(train=0.403, test=0.399) total time=  10.4s\n"
     ]
    },
    {
     "name": "stderr",
     "output_type": "stream",
     "text": [
      "/home/jng/anaconda3/lib/python3.9/site-packages/sklearn/decomposition/_nmf.py:1665: ConvergenceWarning: Maximum number of iterations 200 reached. Increase it to improve convergence.\n",
      "  warnings.warn(\n"
     ]
    },
    {
     "name": "stdout",
     "output_type": "stream",
     "text": [
      "[CV 1/5] END log_reg__C=100, log_reg__solver=newton-cg, nmf__n_components=5;, score=(train=0.399, test=0.386) total time=   6.1s\n",
      "[CV 3/5] END log_reg__C=10, log_reg__solver=saga, nmf__n_components=10;, score=(train=0.400, test=0.408) total time=  12.0s\n",
      "[CV 2/5] END log_reg__C=10, log_reg__solver=saga, nmf__n_components=15;, score=(train=0.400, test=0.396) total time=   9.2s\n",
      "[CV 1/5] END log_reg__C=10, log_reg__solver=saga, nmf__n_components=15;, score=(train=0.401, test=0.388) total time=  10.2s\n",
      "[CV 5/5] END log_reg__C=10, log_reg__solver=saga, nmf__n_components=15;, score=(train=0.401, test=0.396) total time=   9.2s\n",
      "[CV 4/5] END log_reg__C=10, log_reg__solver=saga, nmf__n_components=15;, score=(train=0.399, test=0.410) total time=  10.0s\n",
      "[CV 5/5] END log_reg__C=10, log_reg__solver=saga, nmf__n_components=10;, score=(train=0.404, test=0.399) total time=  11.9s\n",
      "[CV 2/5] END log_reg__C=100, log_reg__solver=newton-cg, nmf__n_components=5;, score=(train=0.397, test=0.401) total time=   7.1s\n",
      "[CV 4/5] END log_reg__C=100, log_reg__solver=newton-cg, nmf__n_components=5;, score=(train=0.393, test=0.406) total time=   6.8s\n",
      "[CV 5/5] END log_reg__C=100, log_reg__solver=newton-cg, nmf__n_components=5;, score=(train=0.400, test=0.387) total time=   6.0s\n",
      "[CV 3/5] END log_reg__C=100, log_reg__solver=newton-cg, nmf__n_components=5;, score=(train=0.398, test=0.402) total time=   7.5s\n",
      "[CV 2/5] END log_reg__C=10, log_reg__solver=saga, nmf__n_components=20;, score=(train=0.403, test=0.397) total time=  10.9s\n",
      "[CV 3/5] END log_reg__C=10, log_reg__solver=saga, nmf__n_components=15;, score=(train=0.403, test=0.401) total time=  13.1s\n"
     ]
    },
    {
     "name": "stderr",
     "output_type": "stream",
     "text": [
      "/home/jng/anaconda3/lib/python3.9/site-packages/sklearn/decomposition/_nmf.py:1665: ConvergenceWarning: Maximum number of iterations 200 reached. Increase it to improve convergence.\n",
      "  warnings.warn(\n",
      "/home/jng/anaconda3/lib/python3.9/site-packages/sklearn/decomposition/_nmf.py:1665: ConvergenceWarning: Maximum number of iterations 200 reached. Increase it to improve convergence.\n",
      "  warnings.warn(\n"
     ]
    },
    {
     "name": "stdout",
     "output_type": "stream",
     "text": [
      "[CV 3/5] END log_reg__C=10, log_reg__solver=saga, nmf__n_components=20;, score=(train=0.404, test=0.398) total time=  12.3s\n",
      "[CV 5/5] END log_reg__C=10, log_reg__solver=saga, nmf__n_components=20;, score=(train=0.404, test=0.400) total time=  11.7s\n",
      "[CV 1/5] END log_reg__C=10, log_reg__solver=saga, nmf__n_components=20;, score=(train=0.403, test=0.387) total time=  13.5s\n"
     ]
    },
    {
     "name": "stderr",
     "output_type": "stream",
     "text": [
      "/home/jng/anaconda3/lib/python3.9/site-packages/sklearn/decomposition/_nmf.py:1665: ConvergenceWarning: Maximum number of iterations 200 reached. Increase it to improve convergence.\n",
      "  warnings.warn(\n"
     ]
    },
    {
     "name": "stdout",
     "output_type": "stream",
     "text": [
      "[CV 2/5] END log_reg__C=100, log_reg__solver=newton-cg, nmf__n_components=10;, score=(train=0.399, test=0.396) total time=   7.2s\n",
      "[CV 1/5] END log_reg__C=100, log_reg__solver=newton-cg, nmf__n_components=10;, score=(train=0.400, test=0.391) total time=   9.3s\n",
      "[CV 4/5] END log_reg__C=10, log_reg__solver=saga, nmf__n_components=20;, score=(train=0.404, test=0.408) total time=  15.8s\n",
      "[CV 3/5] END log_reg__C=100, log_reg__solver=newton-cg, nmf__n_components=10;, score=(train=0.400, test=0.406) total time=   9.8s\n",
      "[CV 4/5] END log_reg__C=100, log_reg__solver=newton-cg, nmf__n_components=10;, score=(train=0.397, test=0.414) total time=   8.7s\n"
     ]
    },
    {
     "name": "stderr",
     "output_type": "stream",
     "text": [
      "/home/jng/anaconda3/lib/python3.9/site-packages/sklearn/decomposition/_nmf.py:1665: ConvergenceWarning: Maximum number of iterations 200 reached. Increase it to improve convergence.\n",
      "  warnings.warn(\n"
     ]
    },
    {
     "name": "stdout",
     "output_type": "stream",
     "text": [
      "[CV 3/5] END log_reg__C=100, log_reg__solver=newton-cg, nmf__n_components=15;, score=(train=0.403, test=0.400) total time=   8.4s\n",
      "[CV 5/5] END log_reg__C=100, log_reg__solver=newton-cg, nmf__n_components=10;, score=(train=0.399, test=0.389) total time=  10.2s\n",
      "[CV 4/5] END log_reg__C=100, log_reg__solver=newton-cg, nmf__n_components=15;, score=(train=0.402, test=0.412) total time=   8.9s\n",
      "[CV 1/5] END log_reg__C=100, log_reg__solver=saga, nmf__n_components=5;, score=(train=0.399, test=0.386) total time=   6.4s\n"
     ]
    },
    {
     "name": "stderr",
     "output_type": "stream",
     "text": [
      "/home/jng/anaconda3/lib/python3.9/site-packages/sklearn/decomposition/_nmf.py:1665: ConvergenceWarning: Maximum number of iterations 200 reached. Increase it to improve convergence.\n",
      "  warnings.warn(\n"
     ]
    },
    {
     "name": "stdout",
     "output_type": "stream",
     "text": [
      "[CV 4/5] END log_reg__C=100, log_reg__solver=saga, nmf__n_components=5;, score=(train=0.393, test=0.406) total time=   6.0s\n",
      "[CV 2/5] END log_reg__C=100, log_reg__solver=saga, nmf__n_components=5;, score=(train=0.397, test=0.401) total time=   6.4s\n",
      "[CV 5/5] END log_reg__C=100, log_reg__solver=newton-cg, nmf__n_components=20;, score=(train=0.405, test=0.403) total time=   9.1s\n",
      "[CV 5/5] END log_reg__C=100, log_reg__solver=saga, nmf__n_components=5;, score=(train=0.400, test=0.387) total time=   6.1s\n",
      "[CV 1/5] END log_reg__C=100, log_reg__solver=newton-cg, nmf__n_components=20;, score=(train=0.403, test=0.387) total time=  10.4s\n",
      "[CV 3/5] END log_reg__C=100, log_reg__solver=saga, nmf__n_components=5;, score=(train=0.398, test=0.402) total time=   7.6s\n",
      "[CV 5/5] END log_reg__C=100, log_reg__solver=newton-cg, nmf__n_components=15;, score=(train=0.401, test=0.395) total time=  10.9s\n",
      "[CV 2/5] END log_reg__C=100, log_reg__solver=newton-cg, nmf__n_components=15;, score=(train=0.399, test=0.394) total time=  12.7s\n"
     ]
    },
    {
     "name": "stderr",
     "output_type": "stream",
     "text": [
      "/home/jng/anaconda3/lib/python3.9/site-packages/sklearn/decomposition/_nmf.py:1665: ConvergenceWarning: Maximum number of iterations 200 reached. Increase it to improve convergence.\n",
      "  warnings.warn(\n"
     ]
    },
    {
     "name": "stdout",
     "output_type": "stream",
     "text": [
      "[CV 3/5] END log_reg__C=100, log_reg__solver=newton-cg, nmf__n_components=20;, score=(train=0.404, test=0.401) total time=  10.7s\n",
      "[CV 4/5] END log_reg__C=100, log_reg__solver=newton-cg, nmf__n_components=20;, score=(train=0.403, test=0.416) total time=  10.8s\n",
      "[CV 2/5] END log_reg__C=100, log_reg__solver=newton-cg, nmf__n_components=20;, score=(train=0.403, test=0.395) total time=  12.0s\n",
      "[CV 1/5] END log_reg__C=100, log_reg__solver=newton-cg, nmf__n_components=15;, score=(train=0.402, test=0.388) total time=  14.2s\n",
      "[CV 2/5] END log_reg__C=100, log_reg__solver=saga, nmf__n_components=10;, score=(train=0.399, test=0.396) total time=   7.0s\n"
     ]
    },
    {
     "name": "stderr",
     "output_type": "stream",
     "text": [
      "/home/jng/anaconda3/lib/python3.9/site-packages/sklearn/decomposition/_nmf.py:1665: ConvergenceWarning: Maximum number of iterations 200 reached. Increase it to improve convergence.\n",
      "  warnings.warn(\n"
     ]
    },
    {
     "name": "stdout",
     "output_type": "stream",
     "text": [
      "[CV 1/5] END log_reg__C=100, log_reg__solver=saga, nmf__n_components=10;, score=(train=0.400, test=0.391) total time=   9.1s\n",
      "[CV 4/5] END log_reg__C=100, log_reg__solver=saga, nmf__n_components=10;, score=(train=0.397, test=0.414) total time=   8.4s\n",
      "[CV 5/5] END log_reg__C=100, log_reg__solver=saga, nmf__n_components=10;, score=(train=0.399, test=0.389) total time=   7.3s\n",
      "[CV 3/5] END log_reg__C=100, log_reg__solver=saga, nmf__n_components=10;, score=(train=0.400, test=0.406) total time=   9.4s\n",
      "[CV 4/5] END log_reg__C=100, log_reg__solver=saga, nmf__n_components=15;, score=(train=0.402, test=0.412) total time=   6.8s\n",
      "[CV 5/5] END log_reg__C=100, log_reg__solver=saga, nmf__n_components=15;, score=(train=0.400, test=0.394) total time=   6.7s\n"
     ]
    },
    {
     "name": "stderr",
     "output_type": "stream",
     "text": [
      "/home/jng/anaconda3/lib/python3.9/site-packages/sklearn/decomposition/_nmf.py:1665: ConvergenceWarning: Maximum number of iterations 200 reached. Increase it to improve convergence.\n",
      "  warnings.warn(\n",
      "/home/jng/anaconda3/lib/python3.9/site-packages/sklearn/decomposition/_nmf.py:1665: ConvergenceWarning: Maximum number of iterations 200 reached. Increase it to improve convergence.\n",
      "  warnings.warn(\n"
     ]
    },
    {
     "name": "stdout",
     "output_type": "stream",
     "text": [
      "[CV 1/5] END log_reg__C=100, log_reg__solver=saga, nmf__n_components=15;, score=(train=0.401, test=0.391) total time=   8.3s\n",
      "[CV 5/5] END log_reg__C=100, log_reg__solver=saga, nmf__n_components=20;, score=(train=0.405, test=0.402) total time=   7.2s\n",
      "[CV 2/5] END log_reg__C=100, log_reg__solver=saga, nmf__n_components=15;, score=(train=0.399, test=0.395) total time=  10.1s\n",
      "[CV 3/5] END log_reg__C=100, log_reg__solver=saga, nmf__n_components=15;, score=(train=0.401, test=0.396) total time=  10.1s\n"
     ]
    },
    {
     "name": "stderr",
     "output_type": "stream",
     "text": [
      "/home/jng/anaconda3/lib/python3.9/site-packages/sklearn/decomposition/_nmf.py:1665: ConvergenceWarning: Maximum number of iterations 200 reached. Increase it to improve convergence.\n",
      "  warnings.warn(\n"
     ]
    },
    {
     "name": "stdout",
     "output_type": "stream",
     "text": [
      "[CV 1/5] END log_reg__C=100, log_reg__solver=saga, nmf__n_components=20;, score=(train=0.407, test=0.388) total time=   9.3s\n",
      "[CV 2/5] END log_reg__C=100, log_reg__solver=saga, nmf__n_components=20;, score=(train=0.402, test=0.396) total time=   9.1s\n",
      "[CV 4/5] END log_reg__C=100, log_reg__solver=saga, nmf__n_components=20;, score=(train=0.401, test=0.409) total time=   9.5s\n",
      "[CV 3/5] END log_reg__C=100, log_reg__solver=saga, nmf__n_components=20;, score=(train=0.405, test=0.406) total time=  10.5s\n"
     ]
    },
    {
     "data": {
      "text/plain": [
       "0.4012605042016807"
      ]
     },
     "execution_count": 13,
     "metadata": {},
     "output_type": "execute_result"
    }
   ],
   "source": [
    "nmf = NMF(n_components=5)\n",
    "\n",
    "vectorizer = TfidfVectorizer(max_df=0.9, \n",
    "                             min_df=0.01\n",
    "                             )\n",
    "\n",
    "log_reg = LogisticRegression(penalty='l2', max_iter=500)\n",
    "\n",
    "pipe = Pipeline(steps=\n",
    "                [   \n",
    "                    ('tfidf', vectorizer),\n",
    "                    ('nmf', nmf),\n",
    "                    ('log_reg', log_reg)\n",
    "                ]\n",
    "            )\n",
    "\n",
    "param_grid = {\n",
    "    'nmf__n_components':[5,10,15,20],\n",
    "    'log_reg__C':[0.0001, 0.001, 0.01, 0.1, 1, 10, 100],\n",
    "    'log_reg__solver':['newton-cg', 'saga']\n",
    "}\n",
    "\n",
    "search = GridSearchCV(pipe, param_grid, n_jobs=-1, cv=5, verbose=3, return_train_score=True)\n",
    "search.fit(X_train_lyrics, y_train)\n",
    "search.score(X_test_lyrics, y_test)"
   ]
  },
  {
   "cell_type": "code",
   "execution_count": 14,
   "metadata": {},
   "outputs": [],
   "source": [
    "with open(MODEL_PATH / 'log_reg_tfidf_nmf.pkl', 'wb') as file:\n",
    "    joblib.dump(search, file)\n"
   ]
  },
  {
   "cell_type": "markdown",
   "metadata": {},
   "source": [
    "## <a id='toc4_3_'></a>[Multinomial Naive Bayes Classifier and TF-IDF](#toc0_)\n",
    "\n",
    "We will also try to fit a Multinomial Naive Bayes classifier, as it has been shown to work well with TF-IDF vectors and bag of word representations. \n",
    "\n",
    "We will try to tune the classifier by deciding if it will learn the prior probabilities of the classes or not. Additionally, we will tune the alpha, which prevents a probability becoming 0. "
   ]
  },
  {
   "cell_type": "code",
   "execution_count": 15,
   "metadata": {},
   "outputs": [],
   "source": [
    "from sklearn.naive_bayes import MultinomialNB"
   ]
  },
  {
   "cell_type": "code",
   "execution_count": 16,
   "metadata": {},
   "outputs": [
    {
     "name": "stdout",
     "output_type": "stream",
     "text": [
      "Fitting 5 folds for each of 98 candidates, totalling 490 fits\n",
      "[CV 2/5] END mnb__alpha=0.2, mnb__fit_prior=True;, score=(train=0.475, test=0.409) total time=   3.0s\n",
      "[CV 4/5] END mnb__alpha=0.2, mnb__fit_prior=True;, score=(train=0.476, test=0.415) total time=   3.1s\n",
      "[CV 1/5] END mnb__alpha=0.2, mnb__fit_prior=False;, score=(train=0.472, test=0.408) total time=   3.3s\n",
      "[CV 2/5] END mnb__alpha=0.2, mnb__fit_prior=False;, score=(train=0.471, test=0.412) total time=   3.3s\n",
      "[CV 3/5] END mnb__alpha=0.2, mnb__fit_prior=False;, score=(train=0.475, test=0.408) total time=   3.4s\n",
      "[CV 4/5] END mnb__alpha=0.2, mnb__fit_prior=False;, score=(train=0.473, test=0.415) total time=   3.4s\n",
      "[CV 1/5] END mnb__alpha=0.4, mnb__fit_prior=True;, score=(train=0.475, test=0.408) total time=   3.5s\n",
      "[CV 1/5] END mnb__alpha=0.2, mnb__fit_prior=True;, score=(train=0.475, test=0.408) total time=   3.4s\n",
      "[CV 2/5] END mnb__alpha=0.4, mnb__fit_prior=False;, score=(train=0.471, test=0.412) total time=   3.5s\n",
      "[CV 5/5] END mnb__alpha=0.2, mnb__fit_prior=False;, score=(train=0.476, test=0.412) total time=   3.7s\n",
      "[CV 2/5] END mnb__alpha=0.4, mnb__fit_prior=True;, score=(train=0.475, test=0.409) total time=   3.6s\n",
      "[CV 3/5] END mnb__alpha=0.2, mnb__fit_prior=True;, score=(train=0.479, test=0.409) total time=   3.8s\n",
      "[CV 5/5] END mnb__alpha=0.2, mnb__fit_prior=True;, score=(train=0.480, test=0.409) total time=   3.9s\n",
      "[CV 3/5] END mnb__alpha=0.4, mnb__fit_prior=True;, score=(train=0.479, test=0.409) total time=   3.7s\n",
      "[CV 4/5] END mnb__alpha=0.4, mnb__fit_prior=False;, score=(train=0.473, test=0.414) total time=   3.6s\n",
      "[CV 1/5] END mnb__alpha=0.4, mnb__fit_prior=False;, score=(train=0.471, test=0.408) total time=   3.7s\n",
      "[CV 3/5] END mnb__alpha=0.4, mnb__fit_prior=False;, score=(train=0.474, test=0.407) total time=   3.7s\n",
      "[CV 4/5] END mnb__alpha=0.4, mnb__fit_prior=True;, score=(train=0.476, test=0.414) total time=   4.3s\n",
      "[CV 5/5] END mnb__alpha=0.4, mnb__fit_prior=True;, score=(train=0.479, test=0.409) total time=   4.6s\n",
      "[CV 5/5] END mnb__alpha=0.4, mnb__fit_prior=False;, score=(train=0.476, test=0.411) total time=   4.6s\n",
      "[CV 2/5] END mnb__alpha=0.6000000000000001, mnb__fit_prior=True;, score=(train=0.474, test=0.408) total time=   3.3s\n",
      "[CV 3/5] END mnb__alpha=0.6000000000000001, mnb__fit_prior=True;, score=(train=0.478, test=0.409) total time=   3.3s\n",
      "[CV 1/5] END mnb__alpha=0.6000000000000001, mnb__fit_prior=True;, score=(train=0.475, test=0.408) total time=   3.7s\n",
      "[CV 5/5] END mnb__alpha=0.6000000000000001, mnb__fit_prior=True;, score=(train=0.479, test=0.410) total time=   3.3s\n",
      "[CV 1/5] END mnb__alpha=0.6000000000000001, mnb__fit_prior=False;, score=(train=0.471, test=0.408) total time=   3.4s\n",
      "[CV 2/5] END mnb__alpha=0.6000000000000001, mnb__fit_prior=False;, score=(train=0.471, test=0.411) total time=   3.3s\n",
      "[CV 4/5] END mnb__alpha=0.6000000000000001, mnb__fit_prior=True;, score=(train=0.476, test=0.415) total time=   3.8s\n",
      "[CV 5/5] END mnb__alpha=0.6000000000000001, mnb__fit_prior=False;, score=(train=0.476, test=0.411) total time=   3.3s\n",
      "[CV 1/5] END mnb__alpha=0.8, mnb__fit_prior=True;, score=(train=0.475, test=0.408) total time=   3.4s\n",
      "[CV 4/5] END mnb__alpha=0.6000000000000001, mnb__fit_prior=False;, score=(train=0.473, test=0.413) total time=   3.6s\n",
      "[CV 3/5] END mnb__alpha=0.6000000000000001, mnb__fit_prior=False;, score=(train=0.474, test=0.407) total time=   3.8s\n",
      "[CV 1/5] END mnb__alpha=0.8, mnb__fit_prior=False;, score=(train=0.470, test=0.407) total time=   3.4s\n",
      "[CV 5/5] END mnb__alpha=0.8, mnb__fit_prior=True;, score=(train=0.478, test=0.411) total time=   3.5s\n",
      "[CV 3/5] END mnb__alpha=0.8, mnb__fit_prior=True;, score=(train=0.478, test=0.409) total time=   3.6s\n",
      "[CV 4/5] END mnb__alpha=0.8, mnb__fit_prior=True;, score=(train=0.475, test=0.416) total time=   3.5s\n",
      "[CV 2/5] END mnb__alpha=0.8, mnb__fit_prior=True;, score=(train=0.474, test=0.408) total time=   3.8s\n",
      "[CV 2/5] END mnb__alpha=0.8, mnb__fit_prior=False;, score=(train=0.471, test=0.411) total time=   3.6s\n",
      "[CV 3/5] END mnb__alpha=0.8, mnb__fit_prior=False;, score=(train=0.474, test=0.407) total time=   3.7s\n",
      "[CV 4/5] END mnb__alpha=0.8, mnb__fit_prior=False;, score=(train=0.472, test=0.413) total time=   3.8s\n",
      "[CV 5/5] END mnb__alpha=0.8, mnb__fit_prior=False;, score=(train=0.476, test=0.411) total time=   3.8s\n",
      "[CV 1/5] END mnb__alpha=1.0, mnb__fit_prior=True;, score=(train=0.475, test=0.408) total time=   3.4s\n",
      "[CV 3/5] END mnb__alpha=1.0, mnb__fit_prior=True;, score=(train=0.478, test=0.410) total time=   3.4s\n",
      "[CV 2/5] END mnb__alpha=1.0, mnb__fit_prior=True;, score=(train=0.474, test=0.408) total time=   3.6s\n",
      "[CV 1/5] END mnb__alpha=1.0, mnb__fit_prior=False;, score=(train=0.470, test=0.406) total time=   3.3s\n",
      "[CV 4/5] END mnb__alpha=1.0, mnb__fit_prior=True;, score=(train=0.475, test=0.417) total time=   3.4s\n",
      "[CV 5/5] END mnb__alpha=1.0, mnb__fit_prior=True;, score=(train=0.478, test=0.411) total time=   3.4s\n",
      "[CV 3/5] END mnb__alpha=1.0, mnb__fit_prior=False;, score=(train=0.473, test=0.406) total time=   3.5s\n",
      "[CV 2/5] END mnb__alpha=1.0, mnb__fit_prior=False;, score=(train=0.471, test=0.411) total time=   3.6s\n",
      "[CV 1/5] END mnb__alpha=1.2, mnb__fit_prior=True;, score=(train=0.475, test=0.408) total time=   3.4s\n",
      "[CV 5/5] END mnb__alpha=1.0, mnb__fit_prior=False;, score=(train=0.474, test=0.411) total time=   3.4s\n",
      "[CV 4/5] END mnb__alpha=1.0, mnb__fit_prior=False;, score=(train=0.472, test=0.414) total time=   3.5s\n",
      "[CV 2/5] END mnb__alpha=1.2, mnb__fit_prior=True;, score=(train=0.474, test=0.409) total time=   3.3s\n",
      "[CV 3/5] END mnb__alpha=1.2, mnb__fit_prior=True;, score=(train=0.478, test=0.411) total time=   3.4s\n",
      "[CV 5/5] END mnb__alpha=1.2, mnb__fit_prior=True;, score=(train=0.478, test=0.411) total time=   3.5s\n",
      "[CV 4/5] END mnb__alpha=1.2, mnb__fit_prior=True;, score=(train=0.475, test=0.417) total time=   3.6s\n",
      "[CV 1/5] END mnb__alpha=1.2, mnb__fit_prior=False;, score=(train=0.470, test=0.405) total time=   3.5s\n",
      "[CV 2/5] END mnb__alpha=1.2, mnb__fit_prior=False;, score=(train=0.470, test=0.410) total time=   3.4s\n",
      "[CV 3/5] END mnb__alpha=1.2, mnb__fit_prior=False;, score=(train=0.473, test=0.407) total time=   3.5s\n",
      "[CV 4/5] END mnb__alpha=1.2, mnb__fit_prior=False;, score=(train=0.473, test=0.416) total time=   3.5s\n",
      "[CV 5/5] END mnb__alpha=1.2, mnb__fit_prior=False;, score=(train=0.475, test=0.411) total time=   3.6s\n",
      "[CV 1/5] END mnb__alpha=1.4000000000000001, mnb__fit_prior=True;, score=(train=0.476, test=0.407) total time=   3.3s\n",
      "[CV 2/5] END mnb__alpha=1.4000000000000001, mnb__fit_prior=True;, score=(train=0.474, test=0.409) total time=   3.3s\n",
      "[CV 4/5] END mnb__alpha=1.4000000000000001, mnb__fit_prior=True;, score=(train=0.475, test=0.417) total time=   3.4s\n",
      "[CV 3/5] END mnb__alpha=1.4000000000000001, mnb__fit_prior=True;, score=(train=0.478, test=0.411) total time=   3.4s\n",
      "[CV 1/5] END mnb__alpha=1.4000000000000001, mnb__fit_prior=False;, score=(train=0.470, test=0.404) total time=   3.4s\n",
      "[CV 5/5] END mnb__alpha=1.4000000000000001, mnb__fit_prior=True;, score=(train=0.477, test=0.411) total time=   3.4s\n",
      "[CV 2/5] END mnb__alpha=1.4000000000000001, mnb__fit_prior=False;, score=(train=0.470, test=0.410) total time=   3.5s\n",
      "[CV 5/5] END mnb__alpha=1.4000000000000001, mnb__fit_prior=False;, score=(train=0.474, test=0.411) total time=   3.4s\n",
      "[CV 3/5] END mnb__alpha=1.4000000000000001, mnb__fit_prior=False;, score=(train=0.473, test=0.407) total time=   3.5s\n",
      "[CV 1/5] END mnb__alpha=1.6, mnb__fit_prior=True;, score=(train=0.475, test=0.407) total time=   3.5s\n",
      "[CV 2/5] END mnb__alpha=1.6, mnb__fit_prior=True;, score=(train=0.473, test=0.409) total time=   3.5s\n",
      "[CV 4/5] END mnb__alpha=1.4000000000000001, mnb__fit_prior=False;, score=(train=0.472, test=0.417) total time=   3.8s\n",
      "[CV 4/5] END mnb__alpha=1.6, mnb__fit_prior=True;, score=(train=0.475, test=0.417) total time=   3.5s\n",
      "[CV 5/5] END mnb__alpha=1.6, mnb__fit_prior=True;, score=(train=0.478, test=0.411) total time=   3.6s\n",
      "[CV 2/5] END mnb__alpha=1.6, mnb__fit_prior=False;, score=(train=0.470, test=0.409) total time=   3.6s\n",
      "[CV 3/5] END mnb__alpha=1.6, mnb__fit_prior=True;, score=(train=0.478, test=0.411) total time=   3.9s\n",
      "[CV 1/5] END mnb__alpha=1.6, mnb__fit_prior=False;, score=(train=0.470, test=0.403) total time=   3.8s\n",
      "[CV 4/5] END mnb__alpha=1.6, mnb__fit_prior=False;, score=(train=0.472, test=0.416) total time=   3.5s\n",
      "[CV 3/5] END mnb__alpha=1.6, mnb__fit_prior=False;, score=(train=0.472, test=0.408) total time=   3.7s\n",
      "[CV 5/5] END mnb__alpha=1.6, mnb__fit_prior=False;, score=(train=0.474, test=0.410) total time=   3.5s\n",
      "[CV 1/5] END mnb__alpha=1.8, mnb__fit_prior=True;, score=(train=0.475, test=0.407) total time=   3.2s\n",
      "[CV 2/5] END mnb__alpha=1.8, mnb__fit_prior=True;, score=(train=0.473, test=0.408) total time=   3.4s\n",
      "[CV 3/5] END mnb__alpha=1.8, mnb__fit_prior=True;, score=(train=0.477, test=0.411) total time=   3.3s\n",
      "[CV 4/5] END mnb__alpha=1.8, mnb__fit_prior=True;, score=(train=0.475, test=0.417) total time=   3.4s\n",
      "[CV 1/5] END mnb__alpha=1.8, mnb__fit_prior=False;, score=(train=0.470, test=0.404) total time=   3.4s\n",
      "[CV 5/5] END mnb__alpha=1.8, mnb__fit_prior=True;, score=(train=0.478, test=0.411) total time=   3.4s\n",
      "[CV 3/5] END mnb__alpha=1.8, mnb__fit_prior=False;, score=(train=0.471, test=0.409) total time=   3.2s\n",
      "[CV 2/5] END mnb__alpha=1.8, mnb__fit_prior=False;, score=(train=0.469, test=0.409) total time=   3.4s\n",
      "[CV 4/5] END mnb__alpha=1.8, mnb__fit_prior=False;, score=(train=0.472, test=0.417) total time=   3.4s\n",
      "[CV 1/5] END mnb__alpha=2.0, mnb__fit_prior=True;, score=(train=0.475, test=0.407) total time=   3.4s\n",
      "[CV 5/5] END mnb__alpha=1.8, mnb__fit_prior=False;, score=(train=0.474, test=0.409) total time=   3.5s\n",
      "[CV 3/5] END mnb__alpha=2.0, mnb__fit_prior=True;, score=(train=0.477, test=0.411) total time=   3.5s\n",
      "[CV 2/5] END mnb__alpha=2.0, mnb__fit_prior=True;, score=(train=0.473, test=0.407) total time=   3.6s\n",
      "[CV 4/5] END mnb__alpha=2.0, mnb__fit_prior=True;, score=(train=0.475, test=0.416) total time=   3.5s\n",
      "[CV 1/5] END mnb__alpha=2.0, mnb__fit_prior=False;, score=(train=0.469, test=0.404) total time=   3.5s\n",
      "[CV 5/5] END mnb__alpha=2.0, mnb__fit_prior=True;, score=(train=0.477, test=0.411) total time=   3.7s\n",
      "[CV 2/5] END mnb__alpha=2.0, mnb__fit_prior=False;, score=(train=0.469, test=0.408) total time=   3.6s\n",
      "[CV 3/5] END mnb__alpha=2.0, mnb__fit_prior=False;, score=(train=0.471, test=0.409) total time=   3.6s\n",
      "[CV 4/5] END mnb__alpha=2.0, mnb__fit_prior=False;, score=(train=0.471, test=0.417) total time=   3.7s\n",
      "[CV 5/5] END mnb__alpha=2.0, mnb__fit_prior=False;, score=(train=0.473, test=0.409) total time=   3.6s\n",
      "[CV 1/5] END mnb__alpha=2.2, mnb__fit_prior=True;, score=(train=0.474, test=0.405) total time=   3.2s\n",
      "[CV 2/5] END mnb__alpha=2.2, mnb__fit_prior=True;, score=(train=0.473, test=0.408) total time=   3.4s\n",
      "[CV 3/5] END mnb__alpha=2.2, mnb__fit_prior=True;, score=(train=0.477, test=0.411) total time=   3.4s\n",
      "[CV 4/5] END mnb__alpha=2.2, mnb__fit_prior=True;, score=(train=0.475, test=0.417) total time=   3.4s\n",
      "[CV 5/5] END mnb__alpha=2.2, mnb__fit_prior=True;, score=(train=0.477, test=0.411) total time=   3.4s\n",
      "[CV 1/5] END mnb__alpha=2.2, mnb__fit_prior=False;, score=(train=0.469, test=0.403) total time=   3.5s\n",
      "[CV 2/5] END mnb__alpha=2.2, mnb__fit_prior=False;, score=(train=0.469, test=0.408) total time=   3.2s\n",
      "[CV 3/5] END mnb__alpha=2.2, mnb__fit_prior=False;, score=(train=0.471, test=0.408) total time=   3.3s\n",
      "[CV 4/5] END mnb__alpha=2.2, mnb__fit_prior=False;, score=(train=0.471, test=0.417) total time=   3.4s\n",
      "[CV 5/5] END mnb__alpha=2.2, mnb__fit_prior=False;, score=(train=0.472, test=0.411) total time=   3.5s\n",
      "[CV 1/5] END mnb__alpha=2.4000000000000004, mnb__fit_prior=True;, score=(train=0.474, test=0.405) total time=   3.4s\n",
      "[CV 2/5] END mnb__alpha=2.4000000000000004, mnb__fit_prior=True;, score=(train=0.473, test=0.407) total time=   3.5s\n",
      "[CV 3/5] END mnb__alpha=2.4000000000000004, mnb__fit_prior=True;, score=(train=0.477, test=0.411) total time=   3.6s\n",
      "[CV 4/5] END mnb__alpha=2.4000000000000004, mnb__fit_prior=True;, score=(train=0.475, test=0.417) total time=   3.5s\n",
      "[CV 5/5] END mnb__alpha=2.4000000000000004, mnb__fit_prior=True;, score=(train=0.477, test=0.410) total time=   3.5s\n",
      "[CV 1/5] END mnb__alpha=2.4000000000000004, mnb__fit_prior=False;, score=(train=0.469, test=0.401) total time=   3.7s\n",
      "[CV 2/5] END mnb__alpha=2.4000000000000004, mnb__fit_prior=False;, score=(train=0.469, test=0.407) total time=   3.7s\n",
      "[CV 3/5] END mnb__alpha=2.4000000000000004, mnb__fit_prior=False;, score=(train=0.470, test=0.408) total time=   3.5s\n",
      "[CV 4/5] END mnb__alpha=2.4000000000000004, mnb__fit_prior=False;, score=(train=0.470, test=0.417) total time=   3.5s\n",
      "[CV 5/5] END mnb__alpha=2.4000000000000004, mnb__fit_prior=False;, score=(train=0.472, test=0.410) total time=   3.6s\n",
      "[CV 1/5] END mnb__alpha=2.6000000000000005, mnb__fit_prior=True;, score=(train=0.474, test=0.405) total time=   3.3s\n",
      "[CV 2/5] END mnb__alpha=2.6000000000000005, mnb__fit_prior=True;, score=(train=0.472, test=0.407) total time=   3.4s\n",
      "[CV 3/5] END mnb__alpha=2.6000000000000005, mnb__fit_prior=True;, score=(train=0.476, test=0.410) total time=   3.3s\n",
      "[CV 5/5] END mnb__alpha=2.6000000000000005, mnb__fit_prior=True;, score=(train=0.477, test=0.410) total time=   3.2s\n",
      "[CV 4/5] END mnb__alpha=2.6000000000000005, mnb__fit_prior=True;, score=(train=0.475, test=0.417) total time=   3.4s\n",
      "[CV 2/5] END mnb__alpha=2.6000000000000005, mnb__fit_prior=False;, score=(train=0.469, test=0.407) total time=   3.3s\n",
      "[CV 1/5] END mnb__alpha=2.6000000000000005, mnb__fit_prior=False;, score=(train=0.468, test=0.401) total time=   3.4s\n",
      "[CV 3/5] END mnb__alpha=2.6000000000000005, mnb__fit_prior=False;, score=(train=0.470, test=0.408) total time=   3.3s\n",
      "[CV 4/5] END mnb__alpha=2.6000000000000005, mnb__fit_prior=False;, score=(train=0.469, test=0.417) total time=   3.4s\n",
      "[CV 5/5] END mnb__alpha=2.6000000000000005, mnb__fit_prior=False;, score=(train=0.472, test=0.410) total time=   3.4s\n",
      "[CV 1/5] END mnb__alpha=2.8000000000000003, mnb__fit_prior=True;, score=(train=0.473, test=0.405) total time=   3.4s\n",
      "[CV 2/5] END mnb__alpha=2.8000000000000003, mnb__fit_prior=True;, score=(train=0.471, test=0.408) total time=   3.4s\n",
      "[CV 4/5] END mnb__alpha=2.8000000000000003, mnb__fit_prior=True;, score=(train=0.475, test=0.417) total time=   3.4s\n",
      "[CV 3/5] END mnb__alpha=2.8000000000000003, mnb__fit_prior=True;, score=(train=0.476, test=0.408) total time=   3.5s\n",
      "[CV 5/5] END mnb__alpha=2.8000000000000003, mnb__fit_prior=True;, score=(train=0.477, test=0.409) total time=   3.5s\n",
      "[CV 2/5] END mnb__alpha=2.8000000000000003, mnb__fit_prior=False;, score=(train=0.468, test=0.407) total time=   3.6s\n",
      "[CV 1/5] END mnb__alpha=2.8000000000000003, mnb__fit_prior=False;, score=(train=0.468, test=0.401) total time=   3.6s\n",
      "[CV 3/5] END mnb__alpha=2.8000000000000003, mnb__fit_prior=False;, score=(train=0.471, test=0.407) total time=   3.8s\n",
      "[CV 4/5] END mnb__alpha=2.8000000000000003, mnb__fit_prior=False;, score=(train=0.469, test=0.418) total time=   3.7s\n",
      "[CV 1/5] END mnb__alpha=3.0000000000000004, mnb__fit_prior=True;, score=(train=0.473, test=0.403) total time=   3.4s\n",
      "[CV 5/5] END mnb__alpha=2.8000000000000003, mnb__fit_prior=False;, score=(train=0.471, test=0.411) total time=   3.6s\n",
      "[CV 2/5] END mnb__alpha=3.0000000000000004, mnb__fit_prior=True;, score=(train=0.471, test=0.408) total time=   3.3s\n",
      "[CV 3/5] END mnb__alpha=3.0000000000000004, mnb__fit_prior=True;, score=(train=0.476, test=0.408) total time=   3.4s\n",
      "[CV 4/5] END mnb__alpha=3.0000000000000004, mnb__fit_prior=True;, score=(train=0.474, test=0.417) total time=   3.4s\n",
      "[CV 5/5] END mnb__alpha=3.0000000000000004, mnb__fit_prior=True;, score=(train=0.477, test=0.411) total time=   3.3s\n",
      "[CV 1/5] END mnb__alpha=3.0000000000000004, mnb__fit_prior=False;, score=(train=0.468, test=0.401) total time=   3.3s\n",
      "[CV 3/5] END mnb__alpha=3.0000000000000004, mnb__fit_prior=False;, score=(train=0.470, test=0.408) total time=   3.4s\n",
      "[CV 2/5] END mnb__alpha=3.0000000000000004, mnb__fit_prior=False;, score=(train=0.468, test=0.407) total time=   3.5s\n",
      "[CV 4/5] END mnb__alpha=3.0000000000000004, mnb__fit_prior=False;, score=(train=0.469, test=0.418) total time=   3.5s\n",
      "[CV 1/5] END mnb__alpha=3.2, mnb__fit_prior=True;, score=(train=0.472, test=0.404) total time=   3.4s\n",
      "[CV 5/5] END mnb__alpha=3.0000000000000004, mnb__fit_prior=False;, score=(train=0.472, test=0.410) total time=   3.4s\n",
      "[CV 2/5] END mnb__alpha=3.2, mnb__fit_prior=True;, score=(train=0.470, test=0.408) total time=   3.4s\n",
      "[CV 3/5] END mnb__alpha=3.2, mnb__fit_prior=True;, score=(train=0.476, test=0.408) total time=   3.4s\n",
      "[CV 5/5] END mnb__alpha=3.2, mnb__fit_prior=True;, score=(train=0.476, test=0.410) total time=   3.3s\n",
      "[CV 4/5] END mnb__alpha=3.2, mnb__fit_prior=True;, score=(train=0.474, test=0.416) total time=   3.6s\n",
      "[CV 2/5] END mnb__alpha=3.2, mnb__fit_prior=False;, score=(train=0.468, test=0.407) total time=   3.4s\n",
      "[CV 1/5] END mnb__alpha=3.2, mnb__fit_prior=False;, score=(train=0.468, test=0.401) total time=   3.6s\n",
      "[CV 3/5] END mnb__alpha=3.2, mnb__fit_prior=False;, score=(train=0.470, test=0.408) total time=   3.4s\n",
      "[CV 5/5] END mnb__alpha=3.2, mnb__fit_prior=False;, score=(train=0.471, test=0.410) total time=   3.3s\n",
      "[CV 4/5] END mnb__alpha=3.2, mnb__fit_prior=False;, score=(train=0.468, test=0.417) total time=   3.6s\n",
      "[CV 1/5] END mnb__alpha=3.4000000000000004, mnb__fit_prior=True;, score=(train=0.472, test=0.405) total time=   3.6s\n",
      "[CV 2/5] END mnb__alpha=3.4000000000000004, mnb__fit_prior=True;, score=(train=0.470, test=0.409) total time=   3.4s\n",
      "[CV 3/5] END mnb__alpha=3.4000000000000004, mnb__fit_prior=True;, score=(train=0.476, test=0.407) total time=   3.4s\n",
      "[CV 4/5] END mnb__alpha=3.4000000000000004, mnb__fit_prior=True;, score=(train=0.474, test=0.416) total time=   3.4s\n",
      "[CV 5/5] END mnb__alpha=3.4000000000000004, mnb__fit_prior=True;, score=(train=0.476, test=0.411) total time=   3.4s\n",
      "[CV 1/5] END mnb__alpha=3.4000000000000004, mnb__fit_prior=False;, score=(train=0.468, test=0.401) total time=   3.3s\n",
      "[CV 2/5] END mnb__alpha=3.4000000000000004, mnb__fit_prior=False;, score=(train=0.467, test=0.408) total time=   3.3s\n",
      "[CV 3/5] END mnb__alpha=3.4000000000000004, mnb__fit_prior=False;, score=(train=0.470, test=0.407) total time=   3.6s\n",
      "[CV 4/5] END mnb__alpha=3.4000000000000004, mnb__fit_prior=False;, score=(train=0.469, test=0.417) total time=   3.4s\n",
      "[CV 5/5] END mnb__alpha=3.4000000000000004, mnb__fit_prior=False;, score=(train=0.471, test=0.411) total time=   3.5s\n",
      "[CV 1/5] END mnb__alpha=3.6000000000000005, mnb__fit_prior=True;, score=(train=0.472, test=0.405) total time=   3.5s\n",
      "[CV 2/5] END mnb__alpha=3.6000000000000005, mnb__fit_prior=True;, score=(train=0.469, test=0.409) total time=   3.5s\n",
      "[CV 3/5] END mnb__alpha=3.6000000000000005, mnb__fit_prior=True;, score=(train=0.475, test=0.408) total time=   3.3s\n",
      "[CV 4/5] END mnb__alpha=3.6000000000000005, mnb__fit_prior=True;, score=(train=0.473, test=0.416) total time=   3.4s\n",
      "[CV 5/5] END mnb__alpha=3.6000000000000005, mnb__fit_prior=True;, score=(train=0.477, test=0.411) total time=   3.5s\n",
      "[CV 1/5] END mnb__alpha=3.6000000000000005, mnb__fit_prior=False;, score=(train=0.468, test=0.401) total time=   3.4s\n",
      "[CV 2/5] END mnb__alpha=3.6000000000000005, mnb__fit_prior=False;, score=(train=0.468, test=0.407) total time=   3.6s\n",
      "[CV 4/5] END mnb__alpha=3.6000000000000005, mnb__fit_prior=False;, score=(train=0.468, test=0.416) total time=   3.3s\n",
      "[CV 3/5] END mnb__alpha=3.6000000000000005, mnb__fit_prior=False;, score=(train=0.470, test=0.406) total time=   3.7s\n",
      "[CV 5/5] END mnb__alpha=3.6000000000000005, mnb__fit_prior=False;, score=(train=0.470, test=0.412) total time=   3.6s\n",
      "[CV 1/5] END mnb__alpha=3.8000000000000003, mnb__fit_prior=True;, score=(train=0.472, test=0.405) total time=   3.5s\n",
      "[CV 2/5] END mnb__alpha=3.8000000000000003, mnb__fit_prior=True;, score=(train=0.470, test=0.409) total time=   3.3s\n",
      "[CV 3/5] END mnb__alpha=3.8000000000000003, mnb__fit_prior=True;, score=(train=0.475, test=0.408) total time=   3.3s\n",
      "[CV 4/5] END mnb__alpha=3.8000000000000003, mnb__fit_prior=True;, score=(train=0.473, test=0.415) total time=   3.4s\n",
      "[CV 5/5] END mnb__alpha=3.8000000000000003, mnb__fit_prior=True;, score=(train=0.477, test=0.411) total time=   3.4s\n",
      "[CV 1/5] END mnb__alpha=3.8000000000000003, mnb__fit_prior=False;, score=(train=0.468, test=0.402) total time=   3.4s\n",
      "[CV 2/5] END mnb__alpha=3.8000000000000003, mnb__fit_prior=False;, score=(train=0.467, test=0.407) total time=   3.3s\n",
      "[CV 3/5] END mnb__alpha=3.8000000000000003, mnb__fit_prior=False;, score=(train=0.470, test=0.406) total time=   3.5s\n",
      "[CV 4/5] END mnb__alpha=3.8000000000000003, mnb__fit_prior=False;, score=(train=0.468, test=0.417) total time=   3.5s\n",
      "[CV 5/5] END mnb__alpha=3.8000000000000003, mnb__fit_prior=False;, score=(train=0.470, test=0.411) total time=   3.4s\n",
      "[CV 1/5] END mnb__alpha=4.0, mnb__fit_prior=True;, score=(train=0.472, test=0.405) total time=   3.5s\n",
      "[CV 2/5] END mnb__alpha=4.0, mnb__fit_prior=True;, score=(train=0.470, test=0.409) total time=   3.5s\n",
      "[CV 3/5] END mnb__alpha=4.0, mnb__fit_prior=True;, score=(train=0.475, test=0.408) total time=   3.5s\n",
      "[CV 4/5] END mnb__alpha=4.0, mnb__fit_prior=True;, score=(train=0.472, test=0.416) total time=   3.4s\n",
      "[CV 5/5] END mnb__alpha=4.0, mnb__fit_prior=True;, score=(train=0.477, test=0.410) total time=   3.5s\n",
      "[CV 1/5] END mnb__alpha=4.0, mnb__fit_prior=False;, score=(train=0.467, test=0.402) total time=   3.5s\n",
      "[CV 3/5] END mnb__alpha=4.0, mnb__fit_prior=False;, score=(train=0.470, test=0.405) total time=   3.3s\n",
      "[CV 2/5] END mnb__alpha=4.0, mnb__fit_prior=False;, score=(train=0.467, test=0.406) total time=   3.5s\n",
      "[CV 1/5] END mnb__alpha=4.2, mnb__fit_prior=True;, score=(train=0.472, test=0.404) total time=   3.2s\n",
      "[CV 4/5] END mnb__alpha=4.0, mnb__fit_prior=False;, score=(train=0.468, test=0.417) total time=   3.7s\n",
      "[CV 5/5] END mnb__alpha=4.0, mnb__fit_prior=False;, score=(train=0.470, test=0.412) total time=   3.6s\n",
      "[CV 3/5] END mnb__alpha=4.2, mnb__fit_prior=True;, score=(train=0.475, test=0.409) total time=   3.2s\n",
      "[CV 2/5] END mnb__alpha=4.2, mnb__fit_prior=True;, score=(train=0.469, test=0.409) total time=   3.6s\n",
      "[CV 4/5] END mnb__alpha=4.2, mnb__fit_prior=True;, score=(train=0.472, test=0.416) total time=   3.4s\n",
      "[CV 5/5] END mnb__alpha=4.2, mnb__fit_prior=True;, score=(train=0.476, test=0.411) total time=   3.4s\n",
      "[CV 2/5] END mnb__alpha=4.2, mnb__fit_prior=False;, score=(train=0.466, test=0.406) total time=   3.3s\n",
      "[CV 1/5] END mnb__alpha=4.2, mnb__fit_prior=False;, score=(train=0.467, test=0.402) total time=   3.4s\n",
      "[CV 3/5] END mnb__alpha=4.2, mnb__fit_prior=False;, score=(train=0.470, test=0.405) total time=   3.4s\n",
      "[CV 4/5] END mnb__alpha=4.2, mnb__fit_prior=False;, score=(train=0.468, test=0.417) total time=   3.5s\n",
      "[CV 5/5] END mnb__alpha=4.2, mnb__fit_prior=False;, score=(train=0.470, test=0.411) total time=   3.3s\n",
      "[CV 1/5] END mnb__alpha=4.4, mnb__fit_prior=True;, score=(train=0.471, test=0.405) total time=   3.5s\n",
      "[CV 2/5] END mnb__alpha=4.4, mnb__fit_prior=True;, score=(train=0.469, test=0.409) total time=   3.5s\n",
      "[CV 3/5] END mnb__alpha=4.4, mnb__fit_prior=True;, score=(train=0.475, test=0.410) total time=   3.4s\n",
      "[CV 4/5] END mnb__alpha=4.4, mnb__fit_prior=True;, score=(train=0.472, test=0.416) total time=   3.5s\n",
      "[CV 5/5] END mnb__alpha=4.4, mnb__fit_prior=True;, score=(train=0.476, test=0.411) total time=   3.5s\n",
      "[CV 1/5] END mnb__alpha=4.4, mnb__fit_prior=False;, score=(train=0.467, test=0.402) total time=   3.5s\n",
      "[CV 2/5] END mnb__alpha=4.4, mnb__fit_prior=False;, score=(train=0.466, test=0.406) total time=   3.4s\n",
      "[CV 3/5] END mnb__alpha=4.4, mnb__fit_prior=False;, score=(train=0.469, test=0.406) total time=   3.5s\n",
      "[CV 4/5] END mnb__alpha=4.4, mnb__fit_prior=False;, score=(train=0.468, test=0.417) total time=   3.2s\n",
      "[CV 2/5] END mnb__alpha=4.6000000000000005, mnb__fit_prior=True;, score=(train=0.469, test=0.409) total time=   3.4s\n",
      "[CV 5/5] END mnb__alpha=4.4, mnb__fit_prior=False;, score=(train=0.470, test=0.412) total time=   3.5s\n",
      "[CV 1/5] END mnb__alpha=4.6000000000000005, mnb__fit_prior=True;, score=(train=0.471, test=0.405) total time=   3.4s\n",
      "[CV 3/5] END mnb__alpha=4.6000000000000005, mnb__fit_prior=True;, score=(train=0.474, test=0.410) total time=   3.3s\n",
      "[CV 5/5] END mnb__alpha=4.6000000000000005, mnb__fit_prior=True;, score=(train=0.476, test=0.411) total time=   3.4s\n",
      "[CV 1/5] END mnb__alpha=4.6000000000000005, mnb__fit_prior=False;, score=(train=0.467, test=0.403) total time=   3.4s\n",
      "[CV 2/5] END mnb__alpha=4.6000000000000005, mnb__fit_prior=False;, score=(train=0.465, test=0.406) total time=   3.3s\n",
      "[CV 4/5] END mnb__alpha=4.6000000000000005, mnb__fit_prior=True;, score=(train=0.472, test=0.417) total time=   3.6s\n",
      "[CV 3/5] END mnb__alpha=4.6000000000000005, mnb__fit_prior=False;, score=(train=0.470, test=0.406) total time=   3.5s\n",
      "[CV 5/5] END mnb__alpha=4.6000000000000005, mnb__fit_prior=False;, score=(train=0.470, test=0.412) total time=   3.4s\n",
      "[CV 4/5] END mnb__alpha=4.6000000000000005, mnb__fit_prior=False;, score=(train=0.467, test=0.418) total time=   3.5s\n",
      "[CV 1/5] END mnb__alpha=4.800000000000001, mnb__fit_prior=True;, score=(train=0.471, test=0.404) total time=   3.4s\n",
      "[CV 2/5] END mnb__alpha=4.800000000000001, mnb__fit_prior=True;, score=(train=0.470, test=0.409) total time=   3.3s\n",
      "[CV 3/5] END mnb__alpha=4.800000000000001, mnb__fit_prior=True;, score=(train=0.474, test=0.410) total time=   3.4s\n",
      "[CV 4/5] END mnb__alpha=4.800000000000001, mnb__fit_prior=True;, score=(train=0.472, test=0.416) total time=   3.5s\n",
      "[CV 1/5] END mnb__alpha=4.800000000000001, mnb__fit_prior=False;, score=(train=0.467, test=0.402) total time=   3.4s\n",
      "[CV 5/5] END mnb__alpha=4.800000000000001, mnb__fit_prior=True;, score=(train=0.476, test=0.411) total time=   3.8s\n",
      "[CV 4/5] END mnb__alpha=4.800000000000001, mnb__fit_prior=False;, score=(train=0.467, test=0.418) total time=   3.4s\n",
      "[CV 2/5] END mnb__alpha=4.800000000000001, mnb__fit_prior=False;, score=(train=0.465, test=0.406) total time=   3.8s\n",
      "[CV 3/5] END mnb__alpha=4.800000000000001, mnb__fit_prior=False;, score=(train=0.470, test=0.407) total time=   3.7s\n",
      "[CV 1/5] END mnb__alpha=5.000000000000001, mnb__fit_prior=True;, score=(train=0.471, test=0.404) total time=   3.3s\n",
      "[CV 3/5] END mnb__alpha=5.000000000000001, mnb__fit_prior=True;, score=(train=0.475, test=0.409) total time=   3.4s\n",
      "[CV 4/5] END mnb__alpha=5.000000000000001, mnb__fit_prior=True;, score=(train=0.472, test=0.416) total time=   3.3s\n",
      "[CV 5/5] END mnb__alpha=4.800000000000001, mnb__fit_prior=False;, score=(train=0.470, test=0.412) total time=   3.8s\n",
      "[CV 5/5] END mnb__alpha=5.000000000000001, mnb__fit_prior=True;, score=(train=0.476, test=0.411) total time=   3.3s\n",
      "[CV 2/5] END mnb__alpha=5.000000000000001, mnb__fit_prior=True;, score=(train=0.470, test=0.410) total time=   3.7s\n",
      "[CV 2/5] END mnb__alpha=5.000000000000001, mnb__fit_prior=False;, score=(train=0.464, test=0.405) total time=   3.3s\n",
      "[CV 1/5] END mnb__alpha=5.000000000000001, mnb__fit_prior=False;, score=(train=0.467, test=0.401) total time=   3.7s\n",
      "[CV 3/5] END mnb__alpha=5.000000000000001, mnb__fit_prior=False;, score=(train=0.469, test=0.406) total time=   3.5s\n",
      "[CV 4/5] END mnb__alpha=5.000000000000001, mnb__fit_prior=False;, score=(train=0.467, test=0.418) total time=   3.4s\n",
      "[CV 5/5] END mnb__alpha=5.000000000000001, mnb__fit_prior=False;, score=(train=0.470, test=0.411) total time=   3.5s\n",
      "[CV 1/5] END mnb__alpha=5.2, mnb__fit_prior=True;, score=(train=0.470, test=0.404) total time=   3.3s\n",
      "[CV 2/5] END mnb__alpha=5.2, mnb__fit_prior=True;, score=(train=0.469, test=0.409) total time=   3.4s\n",
      "[CV 3/5] END mnb__alpha=5.2, mnb__fit_prior=True;, score=(train=0.474, test=0.408) total time=   3.4s\n",
      "[CV 4/5] END mnb__alpha=5.2, mnb__fit_prior=True;, score=(train=0.471, test=0.416) total time=   3.5s\n",
      "[CV 5/5] END mnb__alpha=5.2, mnb__fit_prior=True;, score=(train=0.475, test=0.411) total time=   3.4s\n",
      "[CV 1/5] END mnb__alpha=5.2, mnb__fit_prior=False;, score=(train=0.467, test=0.402) total time=   3.5s\n",
      "[CV 2/5] END mnb__alpha=5.2, mnb__fit_prior=False;, score=(train=0.464, test=0.406) total time=   3.3s\n",
      "[CV 3/5] END mnb__alpha=5.2, mnb__fit_prior=False;, score=(train=0.469, test=0.406) total time=   3.6s\n",
      "[CV 5/5] END mnb__alpha=5.2, mnb__fit_prior=False;, score=(train=0.470, test=0.412) total time=   3.4s\n",
      "[CV 4/5] END mnb__alpha=5.2, mnb__fit_prior=False;, score=(train=0.467, test=0.417) total time=   3.5s\n",
      "[CV 1/5] END mnb__alpha=5.4, mnb__fit_prior=True;, score=(train=0.470, test=0.403) total time=   3.3s\n",
      "[CV 5/5] END mnb__alpha=5.4, mnb__fit_prior=True;, score=(train=0.475, test=0.411) total time=   3.2s\n",
      "[CV 2/5] END mnb__alpha=5.4, mnb__fit_prior=True;, score=(train=0.469, test=0.409) total time=   3.4s\n",
      "[CV 4/5] END mnb__alpha=5.4, mnb__fit_prior=True;, score=(train=0.471, test=0.415) total time=   3.3s\n",
      "[CV 3/5] END mnb__alpha=5.4, mnb__fit_prior=True;, score=(train=0.474, test=0.407) total time=   3.5s\n",
      "[CV 1/5] END mnb__alpha=5.4, mnb__fit_prior=False;, score=(train=0.467, test=0.402) total time=   3.5s\n",
      "[CV 2/5] END mnb__alpha=5.4, mnb__fit_prior=False;, score=(train=0.464, test=0.406) total time=   3.6s\n",
      "[CV 3/5] END mnb__alpha=5.4, mnb__fit_prior=False;, score=(train=0.469, test=0.405) total time=   3.5s\n",
      "[CV 4/5] END mnb__alpha=5.4, mnb__fit_prior=False;, score=(train=0.467, test=0.417) total time=   3.5s\n",
      "[CV 5/5] END mnb__alpha=5.4, mnb__fit_prior=False;, score=(train=0.470, test=0.413) total time=   3.5s\n",
      "[CV 1/5] END mnb__alpha=5.6000000000000005, mnb__fit_prior=True;, score=(train=0.470, test=0.403) total time=   3.5s\n",
      "[CV 2/5] END mnb__alpha=5.6000000000000005, mnb__fit_prior=True;, score=(train=0.469, test=0.410) total time=   3.4s\n",
      "[CV 3/5] END mnb__alpha=5.6000000000000005, mnb__fit_prior=True;, score=(train=0.475, test=0.406) total time=   3.5s\n",
      "[CV 5/5] END mnb__alpha=5.6000000000000005, mnb__fit_prior=True;, score=(train=0.475, test=0.411) total time=   3.4s\n",
      "[CV 4/5] END mnb__alpha=5.6000000000000005, mnb__fit_prior=True;, score=(train=0.470, test=0.415) total time=   3.6s\n",
      "[CV 2/5] END mnb__alpha=5.6000000000000005, mnb__fit_prior=False;, score=(train=0.464, test=0.406) total time=   3.4s\n",
      "[CV 1/5] END mnb__alpha=5.6000000000000005, mnb__fit_prior=False;, score=(train=0.467, test=0.402) total time=   3.7s\n",
      "[CV 4/5] END mnb__alpha=5.6000000000000005, mnb__fit_prior=False;, score=(train=0.466, test=0.418) total time=   3.3s\n",
      "[CV 5/5] END mnb__alpha=5.6000000000000005, mnb__fit_prior=False;, score=(train=0.470, test=0.413) total time=   3.4s\n",
      "[CV 2/5] END mnb__alpha=5.800000000000001, mnb__fit_prior=True;, score=(train=0.469, test=0.411) total time=   3.3s\n",
      "[CV 1/5] END mnb__alpha=5.800000000000001, mnb__fit_prior=True;, score=(train=0.470, test=0.404) total time=   3.4s\n",
      "[CV 3/5] END mnb__alpha=5.800000000000001, mnb__fit_prior=True;, score=(train=0.474, test=0.406) total time=   3.3s\n",
      "[CV 3/5] END mnb__alpha=5.6000000000000005, mnb__fit_prior=False;, score=(train=0.468, test=0.405) total time=   3.7s\n",
      "[CV 4/5] END mnb__alpha=5.800000000000001, mnb__fit_prior=True;, score=(train=0.470, test=0.415) total time=   3.5s\n",
      "[CV 5/5] END mnb__alpha=5.800000000000001, mnb__fit_prior=True;, score=(train=0.474, test=0.411) total time=   3.5s\n",
      "[CV 1/5] END mnb__alpha=5.800000000000001, mnb__fit_prior=False;, score=(train=0.467, test=0.402) total time=   3.5s\n",
      "[CV 2/5] END mnb__alpha=5.800000000000001, mnb__fit_prior=False;, score=(train=0.464, test=0.406) total time=   3.7s\n",
      "[CV 3/5] END mnb__alpha=5.800000000000001, mnb__fit_prior=False;, score=(train=0.468, test=0.405) total time=   3.4s\n",
      "[CV 4/5] END mnb__alpha=5.800000000000001, mnb__fit_prior=False;, score=(train=0.466, test=0.418) total time=   3.5s\n",
      "[CV 5/5] END mnb__alpha=5.800000000000001, mnb__fit_prior=False;, score=(train=0.469, test=0.413) total time=   3.5s\n",
      "[CV 1/5] END mnb__alpha=6.000000000000001, mnb__fit_prior=True;, score=(train=0.469, test=0.403) total time=   3.5s\n",
      "[CV 2/5] END mnb__alpha=6.000000000000001, mnb__fit_prior=True;, score=(train=0.469, test=0.411) total time=   3.5s\n",
      "[CV 3/5] END mnb__alpha=6.000000000000001, mnb__fit_prior=True;, score=(train=0.473, test=0.406) total time=   3.3s\n",
      "[CV 4/5] END mnb__alpha=6.000000000000001, mnb__fit_prior=True;, score=(train=0.471, test=0.414) total time=   3.5s\n",
      "[CV 5/5] END mnb__alpha=6.000000000000001, mnb__fit_prior=True;, score=(train=0.474, test=0.411) total time=   3.5s\n",
      "[CV 1/5] END mnb__alpha=6.000000000000001, mnb__fit_prior=False;, score=(train=0.466, test=0.402) total time=   3.3s\n",
      "[CV 2/5] END mnb__alpha=6.000000000000001, mnb__fit_prior=False;, score=(train=0.464, test=0.406) total time=   3.5s\n",
      "[CV 3/5] END mnb__alpha=6.000000000000001, mnb__fit_prior=False;, score=(train=0.469, test=0.404) total time=   3.3s\n",
      "[CV 4/5] END mnb__alpha=6.000000000000001, mnb__fit_prior=False;, score=(train=0.466, test=0.418) total time=   3.3s\n",
      "[CV 5/5] END mnb__alpha=6.000000000000001, mnb__fit_prior=False;, score=(train=0.468, test=0.413) total time=   3.4s\n",
      "[CV 1/5] END mnb__alpha=6.2, mnb__fit_prior=True;, score=(train=0.469, test=0.403) total time=   3.4s\n",
      "[CV 2/5] END mnb__alpha=6.2, mnb__fit_prior=True;, score=(train=0.468, test=0.411) total time=   3.3s\n",
      "[CV 3/5] END mnb__alpha=6.2, mnb__fit_prior=True;, score=(train=0.473, test=0.407) total time=   3.7s\n",
      "[CV 4/5] END mnb__alpha=6.2, mnb__fit_prior=True;, score=(train=0.471, test=0.414) total time=   3.7s\n",
      "[CV 5/5] END mnb__alpha=6.2, mnb__fit_prior=True;, score=(train=0.474, test=0.411) total time=   3.4s\n",
      "[CV 1/5] END mnb__alpha=6.2, mnb__fit_prior=False;, score=(train=0.466, test=0.402) total time=   3.5s\n",
      "[CV 3/5] END mnb__alpha=6.2, mnb__fit_prior=False;, score=(train=0.468, test=0.405) total time=   3.3s\n",
      "[CV 2/5] END mnb__alpha=6.2, mnb__fit_prior=False;, score=(train=0.463, test=0.406) total time=   3.6s\n",
      "[CV 4/5] END mnb__alpha=6.2, mnb__fit_prior=False;, score=(train=0.466, test=0.418) total time=   3.4s\n",
      "[CV 5/5] END mnb__alpha=6.2, mnb__fit_prior=False;, score=(train=0.468, test=0.413) total time=   3.4s\n",
      "[CV 1/5] END mnb__alpha=6.4, mnb__fit_prior=True;, score=(train=0.469, test=0.403) total time=   3.4s\n",
      "[CV 2/5] END mnb__alpha=6.4, mnb__fit_prior=True;, score=(train=0.468, test=0.410) total time=   3.4s\n",
      "[CV 3/5] END mnb__alpha=6.4, mnb__fit_prior=True;, score=(train=0.473, test=0.406) total time=   3.4s\n",
      "[CV 4/5] END mnb__alpha=6.4, mnb__fit_prior=True;, score=(train=0.471, test=0.414) total time=   3.4s\n",
      "[CV 1/5] END mnb__alpha=6.4, mnb__fit_prior=False;, score=(train=0.466, test=0.403) total time=   3.3s\n",
      "[CV 5/5] END mnb__alpha=6.4, mnb__fit_prior=True;, score=(train=0.474, test=0.411) total time=   3.4s\n",
      "[CV 4/5] END mnb__alpha=6.4, mnb__fit_prior=False;, score=(train=0.466, test=0.417) total time=   3.2s\n",
      "[CV 3/5] END mnb__alpha=6.4, mnb__fit_prior=False;, score=(train=0.468, test=0.405) total time=   3.4s\n",
      "[CV 5/5] END mnb__alpha=6.4, mnb__fit_prior=False;, score=(train=0.467, test=0.413) total time=   3.3s\n",
      "[CV 2/5] END mnb__alpha=6.4, mnb__fit_prior=False;, score=(train=0.463, test=0.406) total time=   3.6s\n",
      "[CV 2/5] END mnb__alpha=6.6000000000000005, mnb__fit_prior=True;, score=(train=0.468, test=0.410) total time=   3.3s\n",
      "[CV 1/5] END mnb__alpha=6.6000000000000005, mnb__fit_prior=True;, score=(train=0.469, test=0.403) total time=   3.3s\n",
      "[CV 3/5] END mnb__alpha=6.6000000000000005, mnb__fit_prior=True;, score=(train=0.473, test=0.406) total time=   3.5s\n",
      "[CV 4/5] END mnb__alpha=6.6000000000000005, mnb__fit_prior=True;, score=(train=0.470, test=0.414) total time=   3.4s\n",
      "[CV 5/5] END mnb__alpha=6.6000000000000005, mnb__fit_prior=True;, score=(train=0.473, test=0.412) total time=   3.5s\n",
      "[CV 1/5] END mnb__alpha=6.6000000000000005, mnb__fit_prior=False;, score=(train=0.465, test=0.403) total time=   3.6s\n",
      "[CV 2/5] END mnb__alpha=6.6000000000000005, mnb__fit_prior=False;, score=(train=0.463, test=0.405) total time=   3.4s\n",
      "[CV 3/5] END mnb__alpha=6.6000000000000005, mnb__fit_prior=False;, score=(train=0.468, test=0.405) total time=   3.5s\n",
      "[CV 4/5] END mnb__alpha=6.6000000000000005, mnb__fit_prior=False;, score=(train=0.466, test=0.418) total time=   3.3s\n",
      "[CV 5/5] END mnb__alpha=6.6000000000000005, mnb__fit_prior=False;, score=(train=0.467, test=0.412) total time=   3.3s\n",
      "[CV 2/5] END mnb__alpha=6.800000000000001, mnb__fit_prior=True;, score=(train=0.468, test=0.410) total time=   3.4s\n",
      "[CV 1/5] END mnb__alpha=6.800000000000001, mnb__fit_prior=True;, score=(train=0.469, test=0.402) total time=   3.5s\n",
      "[CV 3/5] END mnb__alpha=6.800000000000001, mnb__fit_prior=True;, score=(train=0.473, test=0.406) total time=   3.3s\n",
      "[CV 4/5] END mnb__alpha=6.800000000000001, mnb__fit_prior=True;, score=(train=0.470, test=0.414) total time=   3.3s\n",
      "[CV 5/5] END mnb__alpha=6.800000000000001, mnb__fit_prior=True;, score=(train=0.473, test=0.412) total time=   3.3s\n",
      "[CV 1/5] END mnb__alpha=6.800000000000001, mnb__fit_prior=False;, score=(train=0.465, test=0.403) total time=   3.3s\n",
      "[CV 2/5] END mnb__alpha=6.800000000000001, mnb__fit_prior=False;, score=(train=0.462, test=0.406) total time=   3.4s\n",
      "[CV 3/5] END mnb__alpha=6.800000000000001, mnb__fit_prior=False;, score=(train=0.468, test=0.405) total time=   3.3s\n",
      "[CV 5/5] END mnb__alpha=6.800000000000001, mnb__fit_prior=False;, score=(train=0.467, test=0.412) total time=   3.3s\n",
      "[CV 4/5] END mnb__alpha=6.800000000000001, mnb__fit_prior=False;, score=(train=0.467, test=0.418) total time=   3.3s\n",
      "[CV 1/5] END mnb__alpha=7.000000000000001, mnb__fit_prior=True;, score=(train=0.469, test=0.402) total time=   3.3s\n",
      "[CV 2/5] END mnb__alpha=7.000000000000001, mnb__fit_prior=True;, score=(train=0.467, test=0.411) total time=   3.4s\n",
      "[CV 4/5] END mnb__alpha=7.000000000000001, mnb__fit_prior=True;, score=(train=0.470, test=0.413) total time=   3.5s\n",
      "[CV 3/5] END mnb__alpha=7.000000000000001, mnb__fit_prior=True;, score=(train=0.473, test=0.405) total time=   3.6s\n",
      "[CV 5/5] END mnb__alpha=7.000000000000001, mnb__fit_prior=True;, score=(train=0.473, test=0.412) total time=   3.6s\n",
      "[CV 1/5] END mnb__alpha=7.000000000000001, mnb__fit_prior=False;, score=(train=0.465, test=0.402) total time=   3.4s\n",
      "[CV 2/5] END mnb__alpha=7.000000000000001, mnb__fit_prior=False;, score=(train=0.463, test=0.406) total time=   3.5s\n",
      "[CV 3/5] END mnb__alpha=7.000000000000001, mnb__fit_prior=False;, score=(train=0.468, test=0.405) total time=   3.7s\n",
      "[CV 4/5] END mnb__alpha=7.000000000000001, mnb__fit_prior=False;, score=(train=0.466, test=0.418) total time=   3.5s\n",
      "[CV 5/5] END mnb__alpha=7.000000000000001, mnb__fit_prior=False;, score=(train=0.467, test=0.412) total time=   3.6s\n",
      "[CV 1/5] END mnb__alpha=7.2, mnb__fit_prior=True;, score=(train=0.468, test=0.403) total time=   3.5s\n",
      "[CV 2/5] END mnb__alpha=7.2, mnb__fit_prior=True;, score=(train=0.467, test=0.411) total time=   3.5s\n",
      "[CV 3/5] END mnb__alpha=7.2, mnb__fit_prior=True;, score=(train=0.473, test=0.405) total time=   3.5s\n",
      "[CV 4/5] END mnb__alpha=7.2, mnb__fit_prior=True;, score=(train=0.470, test=0.413) total time=   3.4s\n",
      "[CV 5/5] END mnb__alpha=7.2, mnb__fit_prior=True;, score=(train=0.473, test=0.412) total time=   3.3s\n",
      "[CV 1/5] END mnb__alpha=7.2, mnb__fit_prior=False;, score=(train=0.465, test=0.402) total time=   3.5s\n",
      "[CV 2/5] END mnb__alpha=7.2, mnb__fit_prior=False;, score=(train=0.462, test=0.406) total time=   3.4s\n",
      "[CV 3/5] END mnb__alpha=7.2, mnb__fit_prior=False;, score=(train=0.468, test=0.404) total time=   3.4s\n",
      "[CV 4/5] END mnb__alpha=7.2, mnb__fit_prior=False;, score=(train=0.466, test=0.419) total time=   3.3s\n",
      "[CV 1/5] END mnb__alpha=7.4, mnb__fit_prior=True;, score=(train=0.468, test=0.403) total time=   3.2s\n",
      "[CV 5/5] END mnb__alpha=7.2, mnb__fit_prior=False;, score=(train=0.467, test=0.412) total time=   3.4s\n",
      "[CV 2/5] END mnb__alpha=7.4, mnb__fit_prior=True;, score=(train=0.467, test=0.412) total time=   3.6s\n",
      "[CV 3/5] END mnb__alpha=7.4, mnb__fit_prior=True;, score=(train=0.473, test=0.405) total time=   3.6s\n",
      "[CV 4/5] END mnb__alpha=7.4, mnb__fit_prior=True;, score=(train=0.471, test=0.413) total time=   3.6s\n",
      "[CV 5/5] END mnb__alpha=7.4, mnb__fit_prior=True;, score=(train=0.472, test=0.411) total time=   3.6s\n",
      "[CV 1/5] END mnb__alpha=7.4, mnb__fit_prior=False;, score=(train=0.465, test=0.401) total time=   3.7s\n",
      "[CV 2/5] END mnb__alpha=7.4, mnb__fit_prior=False;, score=(train=0.462, test=0.407) total time=   3.4s\n",
      "[CV 3/5] END mnb__alpha=7.4, mnb__fit_prior=False;, score=(train=0.468, test=0.405) total time=   3.3s\n",
      "[CV 5/5] END mnb__alpha=7.4, mnb__fit_prior=False;, score=(train=0.466, test=0.412) total time=   3.4s\n",
      "[CV 4/5] END mnb__alpha=7.4, mnb__fit_prior=False;, score=(train=0.466, test=0.418) total time=   3.5s\n",
      "[CV 1/5] END mnb__alpha=7.6000000000000005, mnb__fit_prior=True;, score=(train=0.468, test=0.403) total time=   3.4s\n",
      "[CV 2/5] END mnb__alpha=7.6000000000000005, mnb__fit_prior=True;, score=(train=0.467, test=0.412) total time=   3.4s\n",
      "[CV 3/5] END mnb__alpha=7.6000000000000005, mnb__fit_prior=True;, score=(train=0.473, test=0.405) total time=   3.5s\n",
      "[CV 4/5] END mnb__alpha=7.6000000000000005, mnb__fit_prior=True;, score=(train=0.470, test=0.413) total time=   3.4s\n",
      "[CV 5/5] END mnb__alpha=7.6000000000000005, mnb__fit_prior=True;, score=(train=0.471, test=0.411) total time=   3.4s\n",
      "[CV 1/5] END mnb__alpha=7.6000000000000005, mnb__fit_prior=False;, score=(train=0.465, test=0.402) total time=   3.4s\n",
      "[CV 2/5] END mnb__alpha=7.6000000000000005, mnb__fit_prior=False;, score=(train=0.462, test=0.406) total time=   3.3s\n",
      "[CV 3/5] END mnb__alpha=7.6000000000000005, mnb__fit_prior=False;, score=(train=0.467, test=0.405) total time=   3.4s\n",
      "[CV 4/5] END mnb__alpha=7.6000000000000005, mnb__fit_prior=False;, score=(train=0.466, test=0.418) total time=   3.3s\n",
      "[CV 5/5] END mnb__alpha=7.6000000000000005, mnb__fit_prior=False;, score=(train=0.466, test=0.412) total time=   3.3s\n",
      "[CV 1/5] END mnb__alpha=7.800000000000001, mnb__fit_prior=True;, score=(train=0.467, test=0.403) total time=   3.3s\n",
      "[CV 2/5] END mnb__alpha=7.800000000000001, mnb__fit_prior=True;, score=(train=0.467, test=0.412) total time=   3.5s\n",
      "[CV 3/5] END mnb__alpha=7.800000000000001, mnb__fit_prior=True;, score=(train=0.473, test=0.406) total time=   3.5s\n",
      "[CV 4/5] END mnb__alpha=7.800000000000001, mnb__fit_prior=True;, score=(train=0.470, test=0.413) total time=   3.5s\n",
      "[CV 1/5] END mnb__alpha=7.800000000000001, mnb__fit_prior=False;, score=(train=0.465, test=0.403) total time=   3.5s\n",
      "[CV 5/5] END mnb__alpha=7.800000000000001, mnb__fit_prior=True;, score=(train=0.471, test=0.410) total time=   3.7s\n",
      "[CV 2/5] END mnb__alpha=7.800000000000001, mnb__fit_prior=False;, score=(train=0.461, test=0.407) total time=   3.4s\n",
      "[CV 3/5] END mnb__alpha=7.800000000000001, mnb__fit_prior=False;, score=(train=0.467, test=0.405) total time=   3.5s\n",
      "[CV 4/5] END mnb__alpha=7.800000000000001, mnb__fit_prior=False;, score=(train=0.465, test=0.418) total time=   3.5s\n",
      "[CV 1/5] END mnb__alpha=8.0, mnb__fit_prior=True;, score=(train=0.467, test=0.404) total time=   3.6s\n",
      "[CV 3/5] END mnb__alpha=8.0, mnb__fit_prior=True;, score=(train=0.473, test=0.406) total time=   3.4s\n",
      "[CV 5/5] END mnb__alpha=7.800000000000001, mnb__fit_prior=False;, score=(train=0.466, test=0.412) total time=   3.8s\n",
      "[CV 2/5] END mnb__alpha=8.0, mnb__fit_prior=True;, score=(train=0.467, test=0.412) total time=   3.5s\n",
      "[CV 5/5] END mnb__alpha=8.0, mnb__fit_prior=True;, score=(train=0.471, test=0.410) total time=   3.3s\n",
      "[CV 4/5] END mnb__alpha=8.0, mnb__fit_prior=True;, score=(train=0.470, test=0.414) total time=   3.4s\n",
      "[CV 1/5] END mnb__alpha=8.0, mnb__fit_prior=False;, score=(train=0.465, test=0.403) total time=   3.4s\n",
      "[CV 2/5] END mnb__alpha=8.0, mnb__fit_prior=False;, score=(train=0.461, test=0.407) total time=   3.3s\n",
      "[CV 5/5] END mnb__alpha=8.0, mnb__fit_prior=False;, score=(train=0.466, test=0.412) total time=   3.2s\n",
      "[CV 3/5] END mnb__alpha=8.0, mnb__fit_prior=False;, score=(train=0.467, test=0.404) total time=   3.4s\n",
      "[CV 4/5] END mnb__alpha=8.0, mnb__fit_prior=False;, score=(train=0.465, test=0.418) total time=   3.4s\n",
      "[CV 1/5] END mnb__alpha=8.2, mnb__fit_prior=True;, score=(train=0.467, test=0.403) total time=   3.3s\n",
      "[CV 2/5] END mnb__alpha=8.2, mnb__fit_prior=True;, score=(train=0.467, test=0.412) total time=   3.5s\n",
      "[CV 3/5] END mnb__alpha=8.2, mnb__fit_prior=True;, score=(train=0.472, test=0.406) total time=   3.4s\n",
      "[CV 4/5] END mnb__alpha=8.2, mnb__fit_prior=True;, score=(train=0.470, test=0.413) total time=   3.4s\n",
      "[CV 1/5] END mnb__alpha=8.2, mnb__fit_prior=False;, score=(train=0.465, test=0.402) total time=   3.3s\n",
      "[CV 5/5] END mnb__alpha=8.2, mnb__fit_prior=True;, score=(train=0.470, test=0.410) total time=   3.3s\n",
      "[CV 2/5] END mnb__alpha=8.2, mnb__fit_prior=False;, score=(train=0.461, test=0.408) total time=   3.5s\n",
      "[CV 3/5] END mnb__alpha=8.2, mnb__fit_prior=False;, score=(train=0.467, test=0.405) total time=   3.5s\n",
      "[CV 4/5] END mnb__alpha=8.2, mnb__fit_prior=False;, score=(train=0.465, test=0.418) total time=   3.4s\n",
      "[CV 5/5] END mnb__alpha=8.2, mnb__fit_prior=False;, score=(train=0.466, test=0.412) total time=   3.4s\n",
      "[CV 1/5] END mnb__alpha=8.4, mnb__fit_prior=True;, score=(train=0.467, test=0.403) total time=   3.5s\n",
      "[CV 5/5] END mnb__alpha=8.4, mnb__fit_prior=True;, score=(train=0.470, test=0.410) total time=   3.2s\n",
      "[CV 3/5] END mnb__alpha=8.4, mnb__fit_prior=True;, score=(train=0.471, test=0.406) total time=   3.4s\n",
      "[CV 2/5] END mnb__alpha=8.4, mnb__fit_prior=True;, score=(train=0.467, test=0.412) total time=   3.5s\n",
      "[CV 4/5] END mnb__alpha=8.4, mnb__fit_prior=True;, score=(train=0.470, test=0.414) total time=   3.3s\n",
      "[CV 1/5] END mnb__alpha=8.4, mnb__fit_prior=False;, score=(train=0.464, test=0.401) total time=   3.4s\n",
      "[CV 2/5] END mnb__alpha=8.4, mnb__fit_prior=False;, score=(train=0.460, test=0.408) total time=   3.3s\n",
      "[CV 3/5] END mnb__alpha=8.4, mnb__fit_prior=False;, score=(train=0.467, test=0.405) total time=   3.3s\n",
      "[CV 4/5] END mnb__alpha=8.4, mnb__fit_prior=False;, score=(train=0.465, test=0.418) total time=   3.3s\n",
      "[CV 5/5] END mnb__alpha=8.4, mnb__fit_prior=False;, score=(train=0.465, test=0.412) total time=   3.5s\n",
      "[CV 1/5] END mnb__alpha=8.6, mnb__fit_prior=True;, score=(train=0.466, test=0.402) total time=   3.6s\n",
      "[CV 2/5] END mnb__alpha=8.6, mnb__fit_prior=True;, score=(train=0.466, test=0.413) total time=   3.3s\n",
      "[CV 5/5] END mnb__alpha=8.6, mnb__fit_prior=True;, score=(train=0.470, test=0.410) total time=   3.4s\n",
      "[CV 3/5] END mnb__alpha=8.6, mnb__fit_prior=True;, score=(train=0.471, test=0.406) total time=   3.7s\n",
      "[CV 1/5] END mnb__alpha=8.6, mnb__fit_prior=False;, score=(train=0.464, test=0.401) total time=   3.5s\n",
      "[CV 4/5] END mnb__alpha=8.6, mnb__fit_prior=True;, score=(train=0.470, test=0.414) total time=   3.7s\n",
      "[CV 2/5] END mnb__alpha=8.6, mnb__fit_prior=False;, score=(train=0.460, test=0.409) total time=   3.6s\n",
      "[CV 3/5] END mnb__alpha=8.6, mnb__fit_prior=False;, score=(train=0.467, test=0.405) total time=   3.4s\n",
      "[CV 5/5] END mnb__alpha=8.6, mnb__fit_prior=False;, score=(train=0.465, test=0.411) total time=   3.3s\n",
      "[CV 4/5] END mnb__alpha=8.6, mnb__fit_prior=False;, score=(train=0.464, test=0.417) total time=   3.5s\n",
      "[CV 2/5] END mnb__alpha=8.799999999999999, mnb__fit_prior=True;, score=(train=0.466, test=0.412) total time=   3.3s\n",
      "[CV 5/5] END mnb__alpha=8.799999999999999, mnb__fit_prior=True;, score=(train=0.470, test=0.409) total time=   3.4s\n",
      "[CV 3/5] END mnb__alpha=8.799999999999999, mnb__fit_prior=True;, score=(train=0.471, test=0.405) total time=   3.5s\n",
      "[CV 4/5] END mnb__alpha=8.799999999999999, mnb__fit_prior=True;, score=(train=0.470, test=0.414) total time=   3.4s\n",
      "[CV 1/5] END mnb__alpha=8.799999999999999, mnb__fit_prior=True;, score=(train=0.466, test=0.402) total time=   3.8s\n",
      "[CV 4/5] END mnb__alpha=8.799999999999999, mnb__fit_prior=False;, score=(train=0.464, test=0.417) total time=   3.3s\n",
      "[CV 3/5] END mnb__alpha=8.799999999999999, mnb__fit_prior=False;, score=(train=0.466, test=0.405) total time=   3.4s\n",
      "[CV 2/5] END mnb__alpha=8.799999999999999, mnb__fit_prior=False;, score=(train=0.459, test=0.408) total time=   3.4s\n",
      "[CV 1/5] END mnb__alpha=8.799999999999999, mnb__fit_prior=False;, score=(train=0.464, test=0.402) total time=   3.5s\n",
      "[CV 5/5] END mnb__alpha=8.799999999999999, mnb__fit_prior=False;, score=(train=0.465, test=0.411) total time=   3.5s\n",
      "[CV 1/5] END mnb__alpha=9.0, mnb__fit_prior=True;, score=(train=0.466, test=0.401) total time=   3.8s\n",
      "[CV 2/5] END mnb__alpha=9.0, mnb__fit_prior=True;, score=(train=0.466, test=0.413) total time=   3.2s\n",
      "[CV 3/5] END mnb__alpha=9.0, mnb__fit_prior=True;, score=(train=0.472, test=0.405) total time=   3.3s\n",
      "[CV 4/5] END mnb__alpha=9.0, mnb__fit_prior=True;, score=(train=0.469, test=0.414) total time=   3.5s\n",
      "[CV 5/5] END mnb__alpha=9.0, mnb__fit_prior=True;, score=(train=0.470, test=0.409) total time=   3.6s\n",
      "[CV 4/5] END mnb__alpha=9.0, mnb__fit_prior=False;, score=(train=0.464, test=0.418) total time=   3.2s\n",
      "[CV 2/5] END mnb__alpha=9.0, mnb__fit_prior=False;, score=(train=0.460, test=0.408) total time=   3.5s\n",
      "[CV 1/5] END mnb__alpha=9.0, mnb__fit_prior=False;, score=(train=0.463, test=0.401) total time=   3.6s\n",
      "[CV 3/5] END mnb__alpha=9.0, mnb__fit_prior=False;, score=(train=0.466, test=0.405) total time=   3.5s\n",
      "[CV 1/5] END mnb__alpha=9.2, mnb__fit_prior=True;, score=(train=0.466, test=0.401) total time=   3.2s\n",
      "[CV 2/5] END mnb__alpha=9.2, mnb__fit_prior=True;, score=(train=0.466, test=0.413) total time=   3.2s\n",
      "[CV 5/5] END mnb__alpha=9.0, mnb__fit_prior=False;, score=(train=0.465, test=0.411) total time=   3.5s\n",
      "[CV 3/5] END mnb__alpha=9.2, mnb__fit_prior=True;, score=(train=0.471, test=0.405) total time=   3.4s\n",
      "[CV 4/5] END mnb__alpha=9.2, mnb__fit_prior=True;, score=(train=0.470, test=0.413) total time=   3.4s\n",
      "[CV 1/5] END mnb__alpha=9.2, mnb__fit_prior=False;, score=(train=0.463, test=0.401) total time=   3.3s\n",
      "[CV 2/5] END mnb__alpha=9.2, mnb__fit_prior=False;, score=(train=0.459, test=0.408) total time=   3.2s\n",
      "[CV 5/5] END mnb__alpha=9.2, mnb__fit_prior=True;, score=(train=0.470, test=0.408) total time=   3.7s\n",
      "[CV 4/5] END mnb__alpha=9.2, mnb__fit_prior=False;, score=(train=0.464, test=0.417) total time=   3.4s\n",
      "[CV 3/5] END mnb__alpha=9.2, mnb__fit_prior=False;, score=(train=0.466, test=0.405) total time=   3.4s\n",
      "[CV 5/5] END mnb__alpha=9.2, mnb__fit_prior=False;, score=(train=0.465, test=0.411) total time=   3.4s\n",
      "[CV 2/5] END mnb__alpha=9.4, mnb__fit_prior=True;, score=(train=0.466, test=0.413) total time=   3.3s\n",
      "[CV 1/5] END mnb__alpha=9.4, mnb__fit_prior=True;, score=(train=0.466, test=0.402) total time=   3.5s\n",
      "[CV 3/5] END mnb__alpha=9.4, mnb__fit_prior=True;, score=(train=0.472, test=0.406) total time=   3.4s\n",
      "[CV 4/5] END mnb__alpha=9.4, mnb__fit_prior=True;, score=(train=0.469, test=0.414) total time=   3.4s\n",
      "[CV 5/5] END mnb__alpha=9.4, mnb__fit_prior=False;, score=(train=0.465, test=0.412) total time=   3.2s\n",
      "[CV 3/5] END mnb__alpha=9.4, mnb__fit_prior=False;, score=(train=0.466, test=0.405) total time=   3.4s\n",
      "[CV 5/5] END mnb__alpha=9.4, mnb__fit_prior=True;, score=(train=0.470, test=0.408) total time=   3.6s\n",
      "[CV 1/5] END mnb__alpha=9.4, mnb__fit_prior=False;, score=(train=0.463, test=0.401) total time=   3.5s\n",
      "[CV 2/5] END mnb__alpha=9.6, mnb__fit_prior=True;, score=(train=0.466, test=0.412) total time=   3.2s\n",
      "[CV 4/5] END mnb__alpha=9.4, mnb__fit_prior=False;, score=(train=0.464, test=0.417) total time=   3.5s\n",
      "[CV 2/5] END mnb__alpha=9.4, mnb__fit_prior=False;, score=(train=0.459, test=0.408) total time=   3.6s\n",
      "[CV 1/5] END mnb__alpha=9.6, mnb__fit_prior=True;, score=(train=0.466, test=0.401) total time=   3.4s\n",
      "[CV 4/5] END mnb__alpha=9.6, mnb__fit_prior=True;, score=(train=0.469, test=0.414) total time=   3.4s\n",
      "[CV 3/5] END mnb__alpha=9.6, mnb__fit_prior=True;, score=(train=0.471, test=0.407) total time=   3.5s\n",
      "[CV 5/5] END mnb__alpha=9.6, mnb__fit_prior=True;, score=(train=0.469, test=0.408) total time=   3.4s\n",
      "[CV 2/5] END mnb__alpha=9.6, mnb__fit_prior=False;, score=(train=0.459, test=0.408) total time=   3.4s\n",
      "[CV 1/5] END mnb__alpha=9.6, mnb__fit_prior=False;, score=(train=0.462, test=0.401) total time=   3.6s\n",
      "[CV 4/5] END mnb__alpha=9.6, mnb__fit_prior=False;, score=(train=0.464, test=0.417) total time=   3.4s\n",
      "[CV 3/5] END mnb__alpha=9.6, mnb__fit_prior=False;, score=(train=0.466, test=0.404) total time=   3.5s\n",
      "[CV 5/5] END mnb__alpha=9.6, mnb__fit_prior=False;, score=(train=0.465, test=0.411) total time=   3.4s\n",
      "[CV 1/5] END mnb__alpha=9.8, mnb__fit_prior=True;, score=(train=0.466, test=0.400) total time=   3.4s\n",
      "[CV 2/5] END mnb__alpha=9.8, mnb__fit_prior=True;, score=(train=0.466, test=0.411) total time=   3.7s\n",
      "[CV 3/5] END mnb__alpha=9.8, mnb__fit_prior=True;, score=(train=0.471, test=0.406) total time=   3.1s\n",
      "[CV 4/5] END mnb__alpha=9.8, mnb__fit_prior=True;, score=(train=0.469, test=0.415) total time=   2.9s\n",
      "[CV 2/5] END mnb__alpha=9.8, mnb__fit_prior=False;, score=(train=0.459, test=0.408) total time=   2.7s\n",
      "[CV 1/5] END mnb__alpha=9.8, mnb__fit_prior=False;, score=(train=0.462, test=0.400) total time=   2.7s\n",
      "[CV 5/5] END mnb__alpha=9.8, mnb__fit_prior=True;, score=(train=0.470, test=0.408) total time=   2.8s\n",
      "[CV 4/5] END mnb__alpha=9.8, mnb__fit_prior=False;, score=(train=0.464, test=0.417) total time=   2.6s\n",
      "[CV 3/5] END mnb__alpha=9.8, mnb__fit_prior=False;, score=(train=0.466, test=0.404) total time=   2.7s\n",
      "[CV 5/5] END mnb__alpha=9.8, mnb__fit_prior=False;, score=(train=0.465, test=0.412) total time=   2.7s\n"
     ]
    },
    {
     "data": {
      "text/plain": [
       "0.41981792717086835"
      ]
     },
     "execution_count": 16,
     "metadata": {},
     "output_type": "execute_result"
    }
   ],
   "source": [
    "vectorizer = TfidfVectorizer(max_df=0.9, \n",
    "                             min_df=0.01\n",
    "                             )\n",
    "\n",
    "mnb = MultinomialNB()\n",
    "\n",
    "\n",
    "pipe = Pipeline(steps=\n",
    "                [\n",
    "                    ('tfidf', vectorizer),\n",
    "                    ('mnb', mnb)\n",
    "                ]\n",
    "            )\n",
    "\n",
    "param_grid = {\n",
    "    'mnb__alpha': np.arange(0.2, 10, 0.2),\n",
    "    'mnb__fit_prior':[True, False]\n",
    "}\n",
    "\n",
    "search = GridSearchCV(pipe, param_grid, n_jobs=-1, cv=5, verbose=3, return_train_score=True)\n",
    "search.fit(X_train_lyrics, y_train)\n",
    "search.score(X_test_lyrics, y_test)"
   ]
  },
  {
   "cell_type": "code",
   "execution_count": 17,
   "metadata": {},
   "outputs": [
    {
     "data": {
      "text/html": [
       "<style>#sk-container-id-1 {color: black;background-color: white;}#sk-container-id-1 pre{padding: 0;}#sk-container-id-1 div.sk-toggleable {background-color: white;}#sk-container-id-1 label.sk-toggleable__label {cursor: pointer;display: block;width: 100%;margin-bottom: 0;padding: 0.3em;box-sizing: border-box;text-align: center;}#sk-container-id-1 label.sk-toggleable__label-arrow:before {content: \"▸\";float: left;margin-right: 0.25em;color: #696969;}#sk-container-id-1 label.sk-toggleable__label-arrow:hover:before {color: black;}#sk-container-id-1 div.sk-estimator:hover label.sk-toggleable__label-arrow:before {color: black;}#sk-container-id-1 div.sk-toggleable__content {max-height: 0;max-width: 0;overflow: hidden;text-align: left;background-color: #f0f8ff;}#sk-container-id-1 div.sk-toggleable__content pre {margin: 0.2em;color: black;border-radius: 0.25em;background-color: #f0f8ff;}#sk-container-id-1 input.sk-toggleable__control:checked~div.sk-toggleable__content {max-height: 200px;max-width: 100%;overflow: auto;}#sk-container-id-1 input.sk-toggleable__control:checked~label.sk-toggleable__label-arrow:before {content: \"▾\";}#sk-container-id-1 div.sk-estimator input.sk-toggleable__control:checked~label.sk-toggleable__label {background-color: #d4ebff;}#sk-container-id-1 div.sk-label input.sk-toggleable__control:checked~label.sk-toggleable__label {background-color: #d4ebff;}#sk-container-id-1 input.sk-hidden--visually {border: 0;clip: rect(1px 1px 1px 1px);clip: rect(1px, 1px, 1px, 1px);height: 1px;margin: -1px;overflow: hidden;padding: 0;position: absolute;width: 1px;}#sk-container-id-1 div.sk-estimator {font-family: monospace;background-color: #f0f8ff;border: 1px dotted black;border-radius: 0.25em;box-sizing: border-box;margin-bottom: 0.5em;}#sk-container-id-1 div.sk-estimator:hover {background-color: #d4ebff;}#sk-container-id-1 div.sk-parallel-item::after {content: \"\";width: 100%;border-bottom: 1px solid gray;flex-grow: 1;}#sk-container-id-1 div.sk-label:hover label.sk-toggleable__label {background-color: #d4ebff;}#sk-container-id-1 div.sk-serial::before {content: \"\";position: absolute;border-left: 1px solid gray;box-sizing: border-box;top: 0;bottom: 0;left: 50%;z-index: 0;}#sk-container-id-1 div.sk-serial {display: flex;flex-direction: column;align-items: center;background-color: white;padding-right: 0.2em;padding-left: 0.2em;position: relative;}#sk-container-id-1 div.sk-item {position: relative;z-index: 1;}#sk-container-id-1 div.sk-parallel {display: flex;align-items: stretch;justify-content: center;background-color: white;position: relative;}#sk-container-id-1 div.sk-item::before, #sk-container-id-1 div.sk-parallel-item::before {content: \"\";position: absolute;border-left: 1px solid gray;box-sizing: border-box;top: 0;bottom: 0;left: 50%;z-index: -1;}#sk-container-id-1 div.sk-parallel-item {display: flex;flex-direction: column;z-index: 1;position: relative;background-color: white;}#sk-container-id-1 div.sk-parallel-item:first-child::after {align-self: flex-end;width: 50%;}#sk-container-id-1 div.sk-parallel-item:last-child::after {align-self: flex-start;width: 50%;}#sk-container-id-1 div.sk-parallel-item:only-child::after {width: 0;}#sk-container-id-1 div.sk-dashed-wrapped {border: 1px dashed gray;margin: 0 0.4em 0.5em 0.4em;box-sizing: border-box;padding-bottom: 0.4em;background-color: white;}#sk-container-id-1 div.sk-label label {font-family: monospace;font-weight: bold;display: inline-block;line-height: 1.2em;}#sk-container-id-1 div.sk-label-container {text-align: center;}#sk-container-id-1 div.sk-container {/* jupyter's `normalize.less` sets `[hidden] { display: none; }` but bootstrap.min.css set `[hidden] { display: none !important; }` so we also need the `!important` here to be able to override the default hidden behavior on the sphinx rendered scikit-learn.org. See: https://github.com/scikit-learn/scikit-learn/issues/21755 */display: inline-block !important;position: relative;}#sk-container-id-1 div.sk-text-repr-fallback {display: none;}</style><div id=\"sk-container-id-1\" class=\"sk-top-container\"><div class=\"sk-text-repr-fallback\"><pre>Pipeline(steps=[(&#x27;tfidf&#x27;, TfidfVectorizer(max_df=0.9, min_df=0.01)),\n",
       "                (&#x27;mnb&#x27;, MultinomialNB(alpha=1.2))])</pre><b>In a Jupyter environment, please rerun this cell to show the HTML representation or trust the notebook. <br />On GitHub, the HTML representation is unable to render, please try loading this page with nbviewer.org.</b></div><div class=\"sk-container\" hidden><div class=\"sk-item sk-dashed-wrapped\"><div class=\"sk-label-container\"><div class=\"sk-label sk-toggleable\"><input class=\"sk-toggleable__control sk-hidden--visually\" id=\"sk-estimator-id-1\" type=\"checkbox\" ><label for=\"sk-estimator-id-1\" class=\"sk-toggleable__label sk-toggleable__label-arrow\">Pipeline</label><div class=\"sk-toggleable__content\"><pre>Pipeline(steps=[(&#x27;tfidf&#x27;, TfidfVectorizer(max_df=0.9, min_df=0.01)),\n",
       "                (&#x27;mnb&#x27;, MultinomialNB(alpha=1.2))])</pre></div></div></div><div class=\"sk-serial\"><div class=\"sk-item\"><div class=\"sk-estimator sk-toggleable\"><input class=\"sk-toggleable__control sk-hidden--visually\" id=\"sk-estimator-id-2\" type=\"checkbox\" ><label for=\"sk-estimator-id-2\" class=\"sk-toggleable__label sk-toggleable__label-arrow\">TfidfVectorizer</label><div class=\"sk-toggleable__content\"><pre>TfidfVectorizer(max_df=0.9, min_df=0.01)</pre></div></div></div><div class=\"sk-item\"><div class=\"sk-estimator sk-toggleable\"><input class=\"sk-toggleable__control sk-hidden--visually\" id=\"sk-estimator-id-3\" type=\"checkbox\" ><label for=\"sk-estimator-id-3\" class=\"sk-toggleable__label sk-toggleable__label-arrow\">MultinomialNB</label><div class=\"sk-toggleable__content\"><pre>MultinomialNB(alpha=1.2)</pre></div></div></div></div></div></div></div>"
      ],
      "text/plain": [
       "Pipeline(steps=[('tfidf', TfidfVectorizer(max_df=0.9, min_df=0.01)),\n",
       "                ('mnb', MultinomialNB(alpha=1.2))])"
      ]
     },
     "execution_count": 17,
     "metadata": {},
     "output_type": "execute_result"
    }
   ],
   "source": [
    "search.best_estimator_"
   ]
  },
  {
   "cell_type": "code",
   "execution_count": 18,
   "metadata": {},
   "outputs": [],
   "source": [
    "with open(MODEL_PATH / 'naive_bayes_tf_idf.pkl', 'wb') as file:\n",
    "    joblib.dump(search, file)"
   ]
  },
  {
   "cell_type": "markdown",
   "metadata": {},
   "source": [
    "## <a id='toc4_4_'></a>[Random Forest and TF-IDF](#toc0_)"
   ]
  },
  {
   "attachments": {},
   "cell_type": "markdown",
   "metadata": {},
   "source": [
    "We will first only run a parameter search for the `max_depth` for each estimator in the random forest first.\n",
    "\n",
    "After we have found an ideal `max_depth` we can look at the other parameters."
   ]
  },
  {
   "cell_type": "code",
   "execution_count": 19,
   "metadata": {},
   "outputs": [],
   "source": [
    "from sklearn.ensemble import RandomForestClassifier"
   ]
  },
  {
   "cell_type": "code",
   "execution_count": 20,
   "metadata": {},
   "outputs": [
    {
     "name": "stdout",
     "output_type": "stream",
     "text": [
      "Fitting 5 folds for each of 16 candidates, totalling 80 fits\n",
      "[CV 5/5] END random_forest__max_depth=10;, score=(train=0.688, test=0.397) total time=  34.9s\n",
      "[CV 3/5] END random_forest__max_depth=10;, score=(train=0.693, test=0.414) total time=  35.5s\n",
      "[CV 1/5] END random_forest__max_depth=10;, score=(train=0.679, test=0.403) total time=  35.4s\n",
      "[CV 1/5] END random_forest__max_depth=11;, score=(train=0.735, test=0.407) total time=  37.0s\n",
      "[CV 2/5] END random_forest__max_depth=10;, score=(train=0.680, test=0.414) total time=  35.9s\n",
      "[CV 4/5] END random_forest__max_depth=11;, score=(train=0.731, test=0.405) total time=  36.6s\n",
      "[CV 4/5] END random_forest__max_depth=10;, score=(train=0.679, test=0.408) total time=  35.4s\n",
      "[CV 2/5] END random_forest__max_depth=11;, score=(train=0.738, test=0.412) total time=  37.3s\n",
      "[CV 3/5] END random_forest__max_depth=11;, score=(train=0.747, test=0.413) total time=  37.6s\n",
      "[CV 5/5] END random_forest__max_depth=11;, score=(train=0.745, test=0.396) total time=  37.9s\n",
      "[CV 2/5] END random_forest__max_depth=12;, score=(train=0.792, test=0.405) total time=  38.8s\n",
      "[CV 1/5] END random_forest__max_depth=12;, score=(train=0.794, test=0.402) total time=  38.6s\n",
      "[CV 3/5] END random_forest__max_depth=12;, score=(train=0.796, test=0.412) total time=  38.9s\n",
      "[CV 4/5] END random_forest__max_depth=12;, score=(train=0.783, test=0.402) total time=  39.4s\n",
      "[CV 5/5] END random_forest__max_depth=12;, score=(train=0.796, test=0.397) total time=  39.7s\n",
      "[CV 4/5] END random_forest__max_depth=13;, score=(train=0.826, test=0.416) total time=  40.0s\n",
      "[CV 2/5] END random_forest__max_depth=13;, score=(train=0.835, test=0.414) total time=  40.1s\n",
      "[CV 1/5] END random_forest__max_depth=13;, score=(train=0.828, test=0.400) total time=  40.3s\n",
      "[CV 3/5] END random_forest__max_depth=13;, score=(train=0.834, test=0.411) total time=  40.4s\n",
      "[CV 5/5] END random_forest__max_depth=13;, score=(train=0.835, test=0.401) total time=  41.1s\n",
      "[CV 3/5] END random_forest__max_depth=14;, score=(train=0.865, test=0.416) total time=  52.2s\n",
      "[CV 5/5] END random_forest__max_depth=15;, score=(train=0.890, test=0.395) total time=  54.5s\n",
      "[CV 2/5] END random_forest__max_depth=14;, score=(train=0.866, test=0.410) total time=  51.4s\n",
      "[CV 1/5] END random_forest__max_depth=14;, score=(train=0.863, test=0.401) total time=  51.8s\n",
      "[CV 4/5] END random_forest__max_depth=15;, score=(train=0.880, test=0.415) total time=  54.8s\n",
      "[CV 4/5] END random_forest__max_depth=14;, score=(train=0.854, test=0.412) total time=  52.7s\n",
      "[CV 1/5] END random_forest__max_depth=15;, score=(train=0.886, test=0.409) total time=  55.0s\n",
      "[CV 5/5] END random_forest__max_depth=14;, score=(train=0.870, test=0.395) total time=  52.8s\n",
      "[CV 2/5] END random_forest__max_depth=15;, score=(train=0.884, test=0.403) total time=  54.6s\n",
      "[CV 3/5] END random_forest__max_depth=15;, score=(train=0.887, test=0.421) total time=  56.9s\n",
      "[CV 1/5] END random_forest__max_depth=16;, score=(train=0.906, test=0.403) total time=  58.1s\n",
      "[CV 4/5] END random_forest__max_depth=16;, score=(train=0.895, test=0.410) total time= 1.0min\n",
      "[CV 2/5] END random_forest__max_depth=16;, score=(train=0.903, test=0.415) total time=  59.5s\n",
      "[CV 3/5] END random_forest__max_depth=16;, score=(train=0.905, test=0.423) total time= 1.0min\n",
      "[CV 5/5] END random_forest__max_depth=16;, score=(train=0.909, test=0.405) total time= 1.0min\n",
      "[CV 1/5] END random_forest__max_depth=17;, score=(train=0.918, test=0.410) total time= 1.0min\n",
      "[CV 3/5] END random_forest__max_depth=17;, score=(train=0.918, test=0.418) total time= 1.1min\n",
      "[CV 2/5] END random_forest__max_depth=17;, score=(train=0.918, test=0.420) total time= 1.1min\n",
      "[CV 4/5] END random_forest__max_depth=17;, score=(train=0.910, test=0.411) total time= 1.1min\n",
      "[CV 5/5] END random_forest__max_depth=17;, score=(train=0.923, test=0.398) total time= 1.1min\n",
      "[CV 2/5] END random_forest__max_depth=18;, score=(train=0.929, test=0.418) total time= 1.1min\n",
      "[CV 1/5] END random_forest__max_depth=18;, score=(train=0.928, test=0.413) total time= 1.1min\n",
      "[CV 3/5] END random_forest__max_depth=18;, score=(train=0.929, test=0.420) total time= 1.2min\n",
      "[CV 5/5] END random_forest__max_depth=18;, score=(train=0.932, test=0.404) total time= 1.2min\n",
      "[CV 4/5] END random_forest__max_depth=18;, score=(train=0.919, test=0.414) total time= 1.1min\n",
      "[CV 1/5] END random_forest__max_depth=19;, score=(train=0.941, test=0.406) total time= 1.2min\n",
      "[CV 2/5] END random_forest__max_depth=19;, score=(train=0.939, test=0.414) total time= 1.2min\n",
      "[CV 4/5] END random_forest__max_depth=19;, score=(train=0.932, test=0.413) total time= 1.2min\n",
      "[CV 3/5] END random_forest__max_depth=19;, score=(train=0.940, test=0.412) total time= 1.2min\n",
      "[CV 5/5] END random_forest__max_depth=19;, score=(train=0.939, test=0.400) total time= 1.3min\n",
      "[CV 1/5] END random_forest__max_depth=20;, score=(train=0.949, test=0.414) total time= 1.4min\n",
      "[CV 2/5] END random_forest__max_depth=20;, score=(train=0.947, test=0.414) total time= 1.3min\n",
      "[CV 3/5] END random_forest__max_depth=20;, score=(train=0.948, test=0.417) total time= 1.4min\n",
      "[CV 4/5] END random_forest__max_depth=20;, score=(train=0.937, test=0.417) total time= 1.4min\n",
      "[CV 5/5] END random_forest__max_depth=20;, score=(train=0.946, test=0.401) total time= 1.5min\n",
      "[CV 1/5] END random_forest__max_depth=21;, score=(train=0.953, test=0.408) total time= 1.5min\n"
     ]
    },
    {
     "name": "stderr",
     "output_type": "stream",
     "text": [
      "/home/jng/anaconda3/lib/python3.9/site-packages/joblib/externals/loky/process_executor.py:700: UserWarning: A worker stopped while some jobs were given to the executor. This can be caused by a too short worker timeout or by a memory leak.\n",
      "  warnings.warn(\n"
     ]
    },
    {
     "name": "stdout",
     "output_type": "stream",
     "text": [
      "[CV 2/5] END random_forest__max_depth=21;, score=(train=0.953, test=0.415) total time= 1.5min\n",
      "[CV 3/5] END random_forest__max_depth=21;, score=(train=0.954, test=0.418) total time= 1.5min\n",
      "[CV 4/5] END random_forest__max_depth=21;, score=(train=0.947, test=0.415) total time= 1.5min\n",
      "[CV 5/5] END random_forest__max_depth=21;, score=(train=0.953, test=0.402) total time= 1.5min\n",
      "[CV 1/5] END random_forest__max_depth=22;, score=(train=0.959, test=0.409) total time= 1.5min\n",
      "[CV 4/5] END random_forest__max_depth=22;, score=(train=0.955, test=0.410) total time= 1.4min\n",
      "[CV 2/5] END random_forest__max_depth=22;, score=(train=0.957, test=0.412) total time= 1.6min\n",
      "[CV 5/5] END random_forest__max_depth=22;, score=(train=0.958, test=0.404) total time= 1.6min\n",
      "[CV 3/5] END random_forest__max_depth=22;, score=(train=0.958, test=0.417) total time= 1.7min\n",
      "[CV 2/5] END random_forest__max_depth=23;, score=(train=0.964, test=0.414) total time= 1.7min\n",
      "[CV 5/5] END random_forest__max_depth=23;, score=(train=0.963, test=0.406) total time= 1.9min\n",
      "[CV 4/5] END random_forest__max_depth=23;, score=(train=0.958, test=0.417) total time= 1.9min\n",
      "[CV 1/5] END random_forest__max_depth=23;, score=(train=0.962, test=0.411) total time= 1.8min\n",
      "[CV 3/5] END random_forest__max_depth=23;, score=(train=0.963, test=0.418) total time= 1.9min\n",
      "[CV 3/5] END random_forest__max_depth=24;, score=(train=0.967, test=0.417) total time= 2.0min\n",
      "[CV 1/5] END random_forest__max_depth=24;, score=(train=0.968, test=0.414) total time= 2.0min\n",
      "[CV 2/5] END random_forest__max_depth=24;, score=(train=0.967, test=0.421) total time= 2.0min\n",
      "[CV 4/5] END random_forest__max_depth=24;, score=(train=0.962, test=0.417) total time= 2.0min\n",
      "[CV 5/5] END random_forest__max_depth=24;, score=(train=0.966, test=0.406) total time= 2.2min\n",
      "[CV 2/5] END random_forest__max_depth=25;, score=(train=0.970, test=0.416) total time= 2.1min\n",
      "[CV 1/5] END random_forest__max_depth=25;, score=(train=0.970, test=0.410) total time= 2.1min\n",
      "[CV 3/5] END random_forest__max_depth=25;, score=(train=0.970, test=0.416) total time= 2.1min\n",
      "[CV 4/5] END random_forest__max_depth=25;, score=(train=0.966, test=0.415) total time= 2.0min\n",
      "[CV 5/5] END random_forest__max_depth=25;, score=(train=0.970, test=0.400) total time= 1.6min\n"
     ]
    },
    {
     "data": {
      "text/plain": [
       "0.4210434173669468"
      ]
     },
     "execution_count": 20,
     "metadata": {},
     "output_type": "execute_result"
    }
   ],
   "source": [
    "vectorizer = TfidfVectorizer(max_df=0.9, \n",
    "                             min_df=0.01\n",
    "                             )\n",
    "\n",
    "random_forest = RandomForestClassifier(n_estimators=500, max_depth=10, n_jobs=-1)\n",
    "\n",
    "pipe = Pipeline(steps=\n",
    "                [\n",
    "                    ('tfidf', vectorizer),\n",
    "                    ('random_forest', random_forest)\n",
    "                ]\n",
    "            )\n",
    "\n",
    "param_grid = {\n",
    "    'random_forest__max_depth':np.arange(10,26),\n",
    "}\n",
    "\n",
    "\n",
    "search = GridSearchCV(pipe, param_grid, n_jobs=-1, cv=5, verbose=3, return_train_score=True)\n",
    "search.fit(X_train_lyrics, y_train)\n",
    "search.score(X_test_lyrics, y_test)"
   ]
  },
  {
   "cell_type": "code",
   "execution_count": 21,
   "metadata": {},
   "outputs": [
    {
     "data": {
      "text/html": [
       "<style>#sk-container-id-2 {color: black;background-color: white;}#sk-container-id-2 pre{padding: 0;}#sk-container-id-2 div.sk-toggleable {background-color: white;}#sk-container-id-2 label.sk-toggleable__label {cursor: pointer;display: block;width: 100%;margin-bottom: 0;padding: 0.3em;box-sizing: border-box;text-align: center;}#sk-container-id-2 label.sk-toggleable__label-arrow:before {content: \"▸\";float: left;margin-right: 0.25em;color: #696969;}#sk-container-id-2 label.sk-toggleable__label-arrow:hover:before {color: black;}#sk-container-id-2 div.sk-estimator:hover label.sk-toggleable__label-arrow:before {color: black;}#sk-container-id-2 div.sk-toggleable__content {max-height: 0;max-width: 0;overflow: hidden;text-align: left;background-color: #f0f8ff;}#sk-container-id-2 div.sk-toggleable__content pre {margin: 0.2em;color: black;border-radius: 0.25em;background-color: #f0f8ff;}#sk-container-id-2 input.sk-toggleable__control:checked~div.sk-toggleable__content {max-height: 200px;max-width: 100%;overflow: auto;}#sk-container-id-2 input.sk-toggleable__control:checked~label.sk-toggleable__label-arrow:before {content: \"▾\";}#sk-container-id-2 div.sk-estimator input.sk-toggleable__control:checked~label.sk-toggleable__label {background-color: #d4ebff;}#sk-container-id-2 div.sk-label input.sk-toggleable__control:checked~label.sk-toggleable__label {background-color: #d4ebff;}#sk-container-id-2 input.sk-hidden--visually {border: 0;clip: rect(1px 1px 1px 1px);clip: rect(1px, 1px, 1px, 1px);height: 1px;margin: -1px;overflow: hidden;padding: 0;position: absolute;width: 1px;}#sk-container-id-2 div.sk-estimator {font-family: monospace;background-color: #f0f8ff;border: 1px dotted black;border-radius: 0.25em;box-sizing: border-box;margin-bottom: 0.5em;}#sk-container-id-2 div.sk-estimator:hover {background-color: #d4ebff;}#sk-container-id-2 div.sk-parallel-item::after {content: \"\";width: 100%;border-bottom: 1px solid gray;flex-grow: 1;}#sk-container-id-2 div.sk-label:hover label.sk-toggleable__label {background-color: #d4ebff;}#sk-container-id-2 div.sk-serial::before {content: \"\";position: absolute;border-left: 1px solid gray;box-sizing: border-box;top: 0;bottom: 0;left: 50%;z-index: 0;}#sk-container-id-2 div.sk-serial {display: flex;flex-direction: column;align-items: center;background-color: white;padding-right: 0.2em;padding-left: 0.2em;position: relative;}#sk-container-id-2 div.sk-item {position: relative;z-index: 1;}#sk-container-id-2 div.sk-parallel {display: flex;align-items: stretch;justify-content: center;background-color: white;position: relative;}#sk-container-id-2 div.sk-item::before, #sk-container-id-2 div.sk-parallel-item::before {content: \"\";position: absolute;border-left: 1px solid gray;box-sizing: border-box;top: 0;bottom: 0;left: 50%;z-index: -1;}#sk-container-id-2 div.sk-parallel-item {display: flex;flex-direction: column;z-index: 1;position: relative;background-color: white;}#sk-container-id-2 div.sk-parallel-item:first-child::after {align-self: flex-end;width: 50%;}#sk-container-id-2 div.sk-parallel-item:last-child::after {align-self: flex-start;width: 50%;}#sk-container-id-2 div.sk-parallel-item:only-child::after {width: 0;}#sk-container-id-2 div.sk-dashed-wrapped {border: 1px dashed gray;margin: 0 0.4em 0.5em 0.4em;box-sizing: border-box;padding-bottom: 0.4em;background-color: white;}#sk-container-id-2 div.sk-label label {font-family: monospace;font-weight: bold;display: inline-block;line-height: 1.2em;}#sk-container-id-2 div.sk-label-container {text-align: center;}#sk-container-id-2 div.sk-container {/* jupyter's `normalize.less` sets `[hidden] { display: none; }` but bootstrap.min.css set `[hidden] { display: none !important; }` so we also need the `!important` here to be able to override the default hidden behavior on the sphinx rendered scikit-learn.org. See: https://github.com/scikit-learn/scikit-learn/issues/21755 */display: inline-block !important;position: relative;}#sk-container-id-2 div.sk-text-repr-fallback {display: none;}</style><div id=\"sk-container-id-2\" class=\"sk-top-container\"><div class=\"sk-text-repr-fallback\"><pre>Pipeline(steps=[(&#x27;tfidf&#x27;, TfidfVectorizer(max_df=0.9, min_df=0.01)),\n",
       "                (&#x27;random_forest&#x27;,\n",
       "                 RandomForestClassifier(max_depth=24, n_estimators=500,\n",
       "                                        n_jobs=-1))])</pre><b>In a Jupyter environment, please rerun this cell to show the HTML representation or trust the notebook. <br />On GitHub, the HTML representation is unable to render, please try loading this page with nbviewer.org.</b></div><div class=\"sk-container\" hidden><div class=\"sk-item sk-dashed-wrapped\"><div class=\"sk-label-container\"><div class=\"sk-label sk-toggleable\"><input class=\"sk-toggleable__control sk-hidden--visually\" id=\"sk-estimator-id-4\" type=\"checkbox\" ><label for=\"sk-estimator-id-4\" class=\"sk-toggleable__label sk-toggleable__label-arrow\">Pipeline</label><div class=\"sk-toggleable__content\"><pre>Pipeline(steps=[(&#x27;tfidf&#x27;, TfidfVectorizer(max_df=0.9, min_df=0.01)),\n",
       "                (&#x27;random_forest&#x27;,\n",
       "                 RandomForestClassifier(max_depth=24, n_estimators=500,\n",
       "                                        n_jobs=-1))])</pre></div></div></div><div class=\"sk-serial\"><div class=\"sk-item\"><div class=\"sk-estimator sk-toggleable\"><input class=\"sk-toggleable__control sk-hidden--visually\" id=\"sk-estimator-id-5\" type=\"checkbox\" ><label for=\"sk-estimator-id-5\" class=\"sk-toggleable__label sk-toggleable__label-arrow\">TfidfVectorizer</label><div class=\"sk-toggleable__content\"><pre>TfidfVectorizer(max_df=0.9, min_df=0.01)</pre></div></div></div><div class=\"sk-item\"><div class=\"sk-estimator sk-toggleable\"><input class=\"sk-toggleable__control sk-hidden--visually\" id=\"sk-estimator-id-6\" type=\"checkbox\" ><label for=\"sk-estimator-id-6\" class=\"sk-toggleable__label sk-toggleable__label-arrow\">RandomForestClassifier</label><div class=\"sk-toggleable__content\"><pre>RandomForestClassifier(max_depth=24, n_estimators=500, n_jobs=-1)</pre></div></div></div></div></div></div></div>"
      ],
      "text/plain": [
       "Pipeline(steps=[('tfidf', TfidfVectorizer(max_df=0.9, min_df=0.01)),\n",
       "                ('random_forest',\n",
       "                 RandomForestClassifier(max_depth=24, n_estimators=500,\n",
       "                                        n_jobs=-1))])"
      ]
     },
     "execution_count": 21,
     "metadata": {},
     "output_type": "execute_result"
    }
   ],
   "source": [
    "search.best_estimator_"
   ]
  },
  {
   "attachments": {},
   "cell_type": "markdown",
   "metadata": {},
   "source": [
    "We can see that at the `max_depth` of 25 we are overfitting the dataset as the training score is much higher than the validation score. We can try increasing the `min_samples_split`, `min_samples_leaf` and `max_features` to prevent overfitting. \n",
    "\n",
    "We will try to use a max_depth of 25 and try to reduce the \n",
    "\n",
    "Specifically we will try the following ranges:\n",
    "- `min_samples_split` in a range from 2 to 20\n",
    "- `min_samples_leaf` in a range from 1 to 10"
   ]
  },
  {
   "cell_type": "code",
   "execution_count": 22,
   "metadata": {},
   "outputs": [
    {
     "name": "stdout",
     "output_type": "stream",
     "text": [
      "Fitting 5 folds for each of 76 candidates, totalling 380 fits\n",
      "[CV 2/5] END random_forest__min_samples_leaf=1, random_forest__min_samples_split=2;, score=(train=0.970, test=0.421) total time= 2.2min\n",
      "[CV 1/5] END random_forest__min_samples_leaf=1, random_forest__min_samples_split=2;, score=(train=0.971, test=0.406) total time= 2.2min\n",
      "[CV 1/5] END random_forest__min_samples_leaf=1, random_forest__min_samples_split=3;, score=(train=0.969, test=0.412) total time= 2.2min\n"
     ]
    },
    {
     "name": "stderr",
     "output_type": "stream",
     "text": [
      "/home/jng/anaconda3/lib/python3.9/site-packages/joblib/externals/loky/process_executor.py:700: UserWarning: A worker stopped while some jobs were given to the executor. This can be caused by a too short worker timeout or by a memory leak.\n",
      "  warnings.warn(\n"
     ]
    },
    {
     "name": "stdout",
     "output_type": "stream",
     "text": [
      "[CV 4/5] END random_forest__min_samples_leaf=1, random_forest__min_samples_split=3;, score=(train=0.965, test=0.419) total time= 2.3min\n",
      "[CV 4/5] END random_forest__min_samples_leaf=1, random_forest__min_samples_split=2;, score=(train=0.967, test=0.415) total time= 2.3min\n",
      "[CV 2/5] END random_forest__min_samples_leaf=1, random_forest__min_samples_split=3;, score=(train=0.968, test=0.412) total time= 2.3min\n",
      "[CV 3/5] END random_forest__min_samples_leaf=1, random_forest__min_samples_split=2;, score=(train=0.971, test=0.424) total time= 2.3min\n",
      "[CV 3/5] END random_forest__min_samples_leaf=1, random_forest__min_samples_split=3;, score=(train=0.968, test=0.422) total time= 2.3min\n",
      "[CV 3/5] END random_forest__min_samples_leaf=1, random_forest__min_samples_split=5;, score=(train=0.966, test=0.423) total time= 2.3min\n",
      "[CV 2/5] END random_forest__min_samples_leaf=1, random_forest__min_samples_split=4;, score=(train=0.967, test=0.418) total time= 2.3min\n",
      "[CV 1/5] END random_forest__min_samples_leaf=1, random_forest__min_samples_split=5;, score=(train=0.967, test=0.403) total time= 2.3min\n",
      "[CV 1/5] END random_forest__min_samples_leaf=1, random_forest__min_samples_split=4;, score=(train=0.967, test=0.408) total time= 2.3min\n",
      "[CV 5/5] END random_forest__min_samples_leaf=1, random_forest__min_samples_split=2;, score=(train=0.970, test=0.402) total time= 2.3min\n",
      "[CV 4/5] END random_forest__min_samples_leaf=1, random_forest__min_samples_split=4;, score=(train=0.963, test=0.414) total time= 2.3min\n",
      "[CV 5/5] END random_forest__min_samples_leaf=1, random_forest__min_samples_split=3;, score=(train=0.968, test=0.402) total time= 2.3min\n",
      "[CV 5/5] END random_forest__min_samples_leaf=1, random_forest__min_samples_split=4;, score=(train=0.967, test=0.402) total time= 2.3min\n",
      "[CV 3/5] END random_forest__min_samples_leaf=1, random_forest__min_samples_split=4;, score=(train=0.970, test=0.422) total time= 2.3min\n",
      "[CV 4/5] END random_forest__min_samples_leaf=1, random_forest__min_samples_split=5;, score=(train=0.963, test=0.407) total time= 2.3min\n",
      "[CV 2/5] END random_forest__min_samples_leaf=1, random_forest__min_samples_split=5;, score=(train=0.966, test=0.424) total time= 2.3min\n",
      "[CV 5/5] END random_forest__min_samples_leaf=1, random_forest__min_samples_split=5;, score=(train=0.965, test=0.407) total time= 2.3min\n",
      "[CV 1/5] END random_forest__min_samples_leaf=1, random_forest__min_samples_split=6;, score=(train=0.965, test=0.414) total time= 2.1min\n",
      "[CV 3/5] END random_forest__min_samples_leaf=1, random_forest__min_samples_split=6;, score=(train=0.965, test=0.418) total time= 2.1min\n",
      "[CV 2/5] END random_forest__min_samples_leaf=1, random_forest__min_samples_split=6;, score=(train=0.966, test=0.419) total time= 2.1min\n",
      "[CV 5/5] END random_forest__min_samples_leaf=1, random_forest__min_samples_split=6;, score=(train=0.964, test=0.397) total time= 2.2min\n",
      "[CV 4/5] END random_forest__min_samples_leaf=1, random_forest__min_samples_split=6;, score=(train=0.961, test=0.420) total time= 2.1min\n",
      "[CV 3/5] END random_forest__min_samples_leaf=1, random_forest__min_samples_split=7;, score=(train=0.965, test=0.421) total time= 2.2min\n",
      "[CV 5/5] END random_forest__min_samples_leaf=1, random_forest__min_samples_split=7;, score=(train=0.963, test=0.404) total time= 2.2min\n",
      "[CV 3/5] END random_forest__min_samples_leaf=1, random_forest__min_samples_split=8;, score=(train=0.963, test=0.416) total time= 2.2min\n",
      "[CV 1/5] END random_forest__min_samples_leaf=1, random_forest__min_samples_split=7;, score=(train=0.963, test=0.409) total time= 2.2min\n",
      "[CV 4/5] END random_forest__min_samples_leaf=1, random_forest__min_samples_split=8;, score=(train=0.956, test=0.413) total time= 2.2min\n",
      "[CV 4/5] END random_forest__min_samples_leaf=1, random_forest__min_samples_split=7;, score=(train=0.961, test=0.409) total time= 2.2min\n",
      "[CV 1/5] END random_forest__min_samples_leaf=1, random_forest__min_samples_split=8;, score=(train=0.964, test=0.409) total time= 2.2min\n",
      "[CV 2/5] END random_forest__min_samples_leaf=1, random_forest__min_samples_split=8;, score=(train=0.963, test=0.416) total time= 2.2min\n",
      "[CV 3/5] END random_forest__min_samples_leaf=1, random_forest__min_samples_split=9;, score=(train=0.961, test=0.418) total time= 2.2min\n",
      "[CV 4/5] END random_forest__min_samples_leaf=1, random_forest__min_samples_split=9;, score=(train=0.957, test=0.418) total time= 2.2min\n",
      "[CV 2/5] END random_forest__min_samples_leaf=1, random_forest__min_samples_split=9;, score=(train=0.960, test=0.418) total time= 2.2min\n",
      "[CV 2/5] END random_forest__min_samples_leaf=1, random_forest__min_samples_split=7;, score=(train=0.964, test=0.418) total time= 2.2min\n",
      "[CV 5/5] END random_forest__min_samples_leaf=1, random_forest__min_samples_split=8;, score=(train=0.963, test=0.413) total time= 2.2min\n",
      "[CV 1/5] END random_forest__min_samples_leaf=1, random_forest__min_samples_split=9;, score=(train=0.960, test=0.412) total time= 2.2min\n",
      "[CV 5/5] END random_forest__min_samples_leaf=1, random_forest__min_samples_split=9;, score=(train=0.960, test=0.401) total time= 2.2min\n",
      "[CV 1/5] END random_forest__min_samples_leaf=1, random_forest__min_samples_split=10;, score=(train=0.960, test=0.414) total time= 1.9min\n",
      "[CV 3/5] END random_forest__min_samples_leaf=1, random_forest__min_samples_split=10;, score=(train=0.959, test=0.418) total time= 1.9min\n",
      "[CV 2/5] END random_forest__min_samples_leaf=1, random_forest__min_samples_split=10;, score=(train=0.960, test=0.408) total time= 2.0min\n",
      "[CV 5/5] END random_forest__min_samples_leaf=1, random_forest__min_samples_split=10;, score=(train=0.959, test=0.403) total time= 2.0min\n",
      "[CV 2/5] END random_forest__min_samples_leaf=1, random_forest__min_samples_split=11;, score=(train=0.959, test=0.422) total time= 2.0min\n",
      "[CV 4/5] END random_forest__min_samples_leaf=1, random_forest__min_samples_split=11;, score=(train=0.956, test=0.417) total time= 2.0min\n",
      "[CV 4/5] END random_forest__min_samples_leaf=1, random_forest__min_samples_split=10;, score=(train=0.956, test=0.420) total time= 2.0min\n",
      "[CV 3/5] END random_forest__min_samples_leaf=1, random_forest__min_samples_split=11;, score=(train=0.960, test=0.423) total time= 2.0min\n",
      "[CV 1/5] END random_forest__min_samples_leaf=1, random_forest__min_samples_split=11;, score=(train=0.959, test=0.412) total time= 2.0min\n",
      "[CV 1/5] END random_forest__min_samples_leaf=1, random_forest__min_samples_split=12;, score=(train=0.958, test=0.415) total time= 2.0min\n",
      "[CV 2/5] END random_forest__min_samples_leaf=1, random_forest__min_samples_split=12;, score=(train=0.958, test=0.414) total time= 2.0min\n",
      "[CV 3/5] END random_forest__min_samples_leaf=1, random_forest__min_samples_split=12;, score=(train=0.958, test=0.418) total time= 2.0min\n",
      "[CV 4/5] END random_forest__min_samples_leaf=1, random_forest__min_samples_split=12;, score=(train=0.953, test=0.420) total time= 2.0min\n",
      "[CV 5/5] END random_forest__min_samples_leaf=1, random_forest__min_samples_split=11;, score=(train=0.959, test=0.408) total time= 2.0min\n",
      "[CV 5/5] END random_forest__min_samples_leaf=1, random_forest__min_samples_split=12;, score=(train=0.958, test=0.407) total time= 2.0min\n",
      "[CV 3/5] END random_forest__min_samples_leaf=1, random_forest__min_samples_split=13;, score=(train=0.957, test=0.425) total time= 2.0min\n",
      "[CV 1/5] END random_forest__min_samples_leaf=1, random_forest__min_samples_split=13;, score=(train=0.957, test=0.398) total time= 2.0min\n",
      "[CV 4/5] END random_forest__min_samples_leaf=1, random_forest__min_samples_split=13;, score=(train=0.951, test=0.418) total time= 2.0min\n",
      "[CV 2/5] END random_forest__min_samples_leaf=1, random_forest__min_samples_split=13;, score=(train=0.957, test=0.416) total time= 2.0min\n",
      "[CV 5/5] END random_forest__min_samples_leaf=1, random_forest__min_samples_split=13;, score=(train=0.956, test=0.403) total time= 2.0min\n",
      "[CV 1/5] END random_forest__min_samples_leaf=1, random_forest__min_samples_split=14;, score=(train=0.955, test=0.409) total time= 1.8min\n",
      "[CV 2/5] END random_forest__min_samples_leaf=1, random_forest__min_samples_split=15;, score=(train=0.954, test=0.419) total time= 1.8min\n",
      "[CV 4/5] END random_forest__min_samples_leaf=1, random_forest__min_samples_split=14;, score=(train=0.948, test=0.409) total time= 1.8min\n",
      "[CV 5/5] END random_forest__min_samples_leaf=1, random_forest__min_samples_split=15;, score=(train=0.954, test=0.404) total time= 1.9min\n",
      "[CV 1/5] END random_forest__min_samples_leaf=1, random_forest__min_samples_split=15;, score=(train=0.954, test=0.409) total time= 1.8min\n",
      "[CV 2/5] END random_forest__min_samples_leaf=1, random_forest__min_samples_split=14;, score=(train=0.955, test=0.419) total time= 1.8min\n",
      "[CV 3/5] END random_forest__min_samples_leaf=1, random_forest__min_samples_split=14;, score=(train=0.955, test=0.415) total time= 1.9min\n",
      "[CV 2/5] END random_forest__min_samples_leaf=1, random_forest__min_samples_split=16;, score=(train=0.953, test=0.422) total time= 1.9min\n",
      "[CV 4/5] END random_forest__min_samples_leaf=1, random_forest__min_samples_split=15;, score=(train=0.950, test=0.412) total time= 1.9min\n",
      "[CV 5/5] END random_forest__min_samples_leaf=1, random_forest__min_samples_split=14;, score=(train=0.956, test=0.408) total time= 1.9min\n",
      "[CV 3/5] END random_forest__min_samples_leaf=1, random_forest__min_samples_split=15;, score=(train=0.955, test=0.417) total time= 1.9min\n",
      "[CV 1/5] END random_forest__min_samples_leaf=1, random_forest__min_samples_split=16;, score=(train=0.953, test=0.407) total time= 1.9min\n",
      "[CV 4/5] END random_forest__min_samples_leaf=1, random_forest__min_samples_split=16;, score=(train=0.948, test=0.414) total time= 1.9min\n",
      "[CV 3/5] END random_forest__min_samples_leaf=1, random_forest__min_samples_split=16;, score=(train=0.953, test=0.422) total time= 1.9min\n",
      "[CV 1/5] END random_forest__min_samples_leaf=1, random_forest__min_samples_split=17;, score=(train=0.951, test=0.406) total time= 1.9min\n",
      "[CV 2/5] END random_forest__min_samples_leaf=1, random_forest__min_samples_split=17;, score=(train=0.953, test=0.420) total time= 1.9min\n",
      "[CV 5/5] END random_forest__min_samples_leaf=1, random_forest__min_samples_split=16;, score=(train=0.953, test=0.409) total time= 1.9min\n",
      "[CV 3/5] END random_forest__min_samples_leaf=1, random_forest__min_samples_split=17;, score=(train=0.951, test=0.421) total time= 1.9min\n",
      "[CV 4/5] END random_forest__min_samples_leaf=1, random_forest__min_samples_split=17;, score=(train=0.947, test=0.418) total time= 1.9min\n",
      "[CV 5/5] END random_forest__min_samples_leaf=1, random_forest__min_samples_split=17;, score=(train=0.950, test=0.408) total time= 1.9min\n",
      "[CV 1/5] END random_forest__min_samples_leaf=1, random_forest__min_samples_split=18;, score=(train=0.951, test=0.412) total time= 1.7min\n",
      "[CV 3/5] END random_forest__min_samples_leaf=1, random_forest__min_samples_split=19;, score=(train=0.948, test=0.420) total time= 1.7min\n",
      "[CV 3/5] END random_forest__min_samples_leaf=1, random_forest__min_samples_split=18;, score=(train=0.950, test=0.418) total time= 1.7min\n",
      "[CV 4/5] END random_forest__min_samples_leaf=1, random_forest__min_samples_split=18;, score=(train=0.945, test=0.418) total time= 1.7min\n",
      "[CV 5/5] END random_forest__min_samples_leaf=1, random_forest__min_samples_split=19;, score=(train=0.948, test=0.407) total time= 1.7min\n",
      "[CV 2/5] END random_forest__min_samples_leaf=1, random_forest__min_samples_split=18;, score=(train=0.951, test=0.411) total time= 1.7min\n",
      "[CV 1/5] END random_forest__min_samples_leaf=1, random_forest__min_samples_split=19;, score=(train=0.949, test=0.409) total time= 1.7min\n",
      "[CV 5/5] END random_forest__min_samples_leaf=1, random_forest__min_samples_split=18;, score=(train=0.950, test=0.408) total time= 1.7min\n",
      "[CV 3/5] END random_forest__min_samples_leaf=1, random_forest__min_samples_split=20;, score=(train=0.948, test=0.423) total time= 1.8min\n",
      "[CV 2/5] END random_forest__min_samples_leaf=1, random_forest__min_samples_split=19;, score=(train=0.949, test=0.420) total time= 1.7min\n",
      "[CV 2/5] END random_forest__min_samples_leaf=1, random_forest__min_samples_split=20;, score=(train=0.946, test=0.415) total time= 1.7min\n",
      "[CV 4/5] END random_forest__min_samples_leaf=1, random_forest__min_samples_split=19;, score=(train=0.944, test=0.418) total time= 1.8min\n",
      "[CV 1/5] END random_forest__min_samples_leaf=1, random_forest__min_samples_split=20;, score=(train=0.947, test=0.405) total time= 1.8min\n",
      "[CV 5/5] END random_forest__min_samples_leaf=1, random_forest__min_samples_split=20;, score=(train=0.947, test=0.400) total time= 1.8min\n",
      "[CV 4/5] END random_forest__min_samples_leaf=1, random_forest__min_samples_split=20;, score=(train=0.943, test=0.411) total time= 1.8min\n",
      "[CV 3/5] END random_forest__min_samples_leaf=2, random_forest__min_samples_split=2;, score=(train=0.960, test=0.425) total time= 1.9min\n",
      "[CV 1/5] END random_forest__min_samples_leaf=2, random_forest__min_samples_split=2;, score=(train=0.959, test=0.406) total time= 1.9min\n",
      "[CV 2/5] END random_forest__min_samples_leaf=2, random_forest__min_samples_split=2;, score=(train=0.959, test=0.407) total time= 1.9min\n",
      "[CV 4/5] END random_forest__min_samples_leaf=2, random_forest__min_samples_split=2;, score=(train=0.953, test=0.418) total time= 1.9min\n",
      "[CV 5/5] END random_forest__min_samples_leaf=2, random_forest__min_samples_split=2;, score=(train=0.958, test=0.403) total time= 2.0min\n",
      "[CV 3/5] END random_forest__min_samples_leaf=2, random_forest__min_samples_split=3;, score=(train=0.957, test=0.424) total time= 1.8min\n",
      "[CV 1/5] END random_forest__min_samples_leaf=2, random_forest__min_samples_split=3;, score=(train=0.960, test=0.411) total time= 1.9min\n",
      "[CV 2/5] END random_forest__min_samples_leaf=2, random_forest__min_samples_split=3;, score=(train=0.959, test=0.411) total time= 1.9min\n",
      "[CV 1/5] END random_forest__min_samples_leaf=2, random_forest__min_samples_split=4;, score=(train=0.958, test=0.409) total time= 1.9min\n",
      "[CV 5/5] END random_forest__min_samples_leaf=2, random_forest__min_samples_split=3;, score=(train=0.958, test=0.407) total time= 1.9min\n",
      "[CV 4/5] END random_forest__min_samples_leaf=2, random_forest__min_samples_split=3;, score=(train=0.955, test=0.421) total time= 1.9min\n",
      "[CV 1/5] END random_forest__min_samples_leaf=2, random_forest__min_samples_split=5;, score=(train=0.959, test=0.406) total time= 2.0min\n",
      "[CV 3/5] END random_forest__min_samples_leaf=2, random_forest__min_samples_split=4;, score=(train=0.958, test=0.418) total time= 2.0min\n",
      "[CV 2/5] END random_forest__min_samples_leaf=2, random_forest__min_samples_split=4;, score=(train=0.959, test=0.404) total time= 2.0min\n",
      "[CV 3/5] END random_forest__min_samples_leaf=2, random_forest__min_samples_split=5;, score=(train=0.958, test=0.414) total time= 2.0min\n",
      "[CV 4/5] END random_forest__min_samples_leaf=2, random_forest__min_samples_split=4;, score=(train=0.954, test=0.413) total time= 2.0min\n",
      "[CV 2/5] END random_forest__min_samples_leaf=2, random_forest__min_samples_split=5;, score=(train=0.958, test=0.415) total time= 2.0min\n",
      "[CV 4/5] END random_forest__min_samples_leaf=2, random_forest__min_samples_split=5;, score=(train=0.954, test=0.415) total time= 2.0min\n",
      "[CV 5/5] END random_forest__min_samples_leaf=2, random_forest__min_samples_split=5;, score=(train=0.958, test=0.403) total time= 2.0min\n",
      "[CV 5/5] END random_forest__min_samples_leaf=2, random_forest__min_samples_split=4;, score=(train=0.959, test=0.401) total time= 2.0min\n",
      "[CV 1/5] END random_forest__min_samples_leaf=2, random_forest__min_samples_split=6;, score=(train=0.957, test=0.410) total time= 2.1min\n",
      "[CV 2/5] END random_forest__min_samples_leaf=2, random_forest__min_samples_split=6;, score=(train=0.955, test=0.415) total time= 2.1min\n",
      "[CV 3/5] END random_forest__min_samples_leaf=2, random_forest__min_samples_split=6;, score=(train=0.957, test=0.425) total time= 2.1min\n",
      "[CV 4/5] END random_forest__min_samples_leaf=2, random_forest__min_samples_split=6;, score=(train=0.951, test=0.415) total time= 2.0min\n",
      "[CV 5/5] END random_forest__min_samples_leaf=2, random_forest__min_samples_split=6;, score=(train=0.957, test=0.401) total time= 2.0min\n",
      "[CV 1/5] END random_forest__min_samples_leaf=2, random_forest__min_samples_split=7;, score=(train=0.955, test=0.407) total time= 1.7min\n",
      "[CV 2/5] END random_forest__min_samples_leaf=2, random_forest__min_samples_split=7;, score=(train=0.955, test=0.411) total time= 1.7min\n",
      "[CV 1/5] END random_forest__min_samples_leaf=2, random_forest__min_samples_split=8;, score=(train=0.953, test=0.402) total time= 1.7min\n",
      "[CV 3/5] END random_forest__min_samples_leaf=2, random_forest__min_samples_split=7;, score=(train=0.955, test=0.424) total time= 1.7min\n",
      "[CV 4/5] END random_forest__min_samples_leaf=2, random_forest__min_samples_split=7;, score=(train=0.952, test=0.419) total time= 1.8min\n",
      "[CV 5/5] END random_forest__min_samples_leaf=2, random_forest__min_samples_split=7;, score=(train=0.956, test=0.402) total time= 1.8min\n",
      "[CV 4/5] END random_forest__min_samples_leaf=2, random_forest__min_samples_split=8;, score=(train=0.950, test=0.417) total time= 1.8min\n",
      "[CV 2/5] END random_forest__min_samples_leaf=2, random_forest__min_samples_split=8;, score=(train=0.955, test=0.410) total time= 1.8min\n",
      "[CV 3/5] END random_forest__min_samples_leaf=2, random_forest__min_samples_split=8;, score=(train=0.956, test=0.423) total time= 1.8min\n",
      "[CV 3/5] END random_forest__min_samples_leaf=2, random_forest__min_samples_split=9;, score=(train=0.953, test=0.421) total time= 1.9min\n",
      "[CV 2/5] END random_forest__min_samples_leaf=2, random_forest__min_samples_split=9;, score=(train=0.954, test=0.412) total time= 1.9min\n",
      "[CV 5/5] END random_forest__min_samples_leaf=2, random_forest__min_samples_split=8;, score=(train=0.955, test=0.407) total time= 1.9min\n",
      "[CV 4/5] END random_forest__min_samples_leaf=2, random_forest__min_samples_split=9;, score=(train=0.948, test=0.409) total time= 1.9min\n",
      "[CV 1/5] END random_forest__min_samples_leaf=2, random_forest__min_samples_split=9;, score=(train=0.955, test=0.413) total time= 1.9min\n",
      "[CV 5/5] END random_forest__min_samples_leaf=2, random_forest__min_samples_split=9;, score=(train=0.955, test=0.409) total time= 1.9min\n",
      "[CV 2/5] END random_forest__min_samples_leaf=2, random_forest__min_samples_split=10;, score=(train=0.952, test=0.408) total time= 1.9min\n",
      "[CV 1/5] END random_forest__min_samples_leaf=2, random_forest__min_samples_split=10;, score=(train=0.952, test=0.403) total time= 1.9min\n",
      "[CV 3/5] END random_forest__min_samples_leaf=2, random_forest__min_samples_split=10;, score=(train=0.952, test=0.421) total time= 1.9min\n",
      "[CV 4/5] END random_forest__min_samples_leaf=2, random_forest__min_samples_split=10;, score=(train=0.948, test=0.415) total time= 1.9min\n",
      "[CV 5/5] END random_forest__min_samples_leaf=2, random_forest__min_samples_split=10;, score=(train=0.952, test=0.403) total time= 1.8min\n",
      "[CV 4/5] END random_forest__min_samples_leaf=2, random_forest__min_samples_split=11;, score=(train=0.947, test=0.417) total time= 1.5min\n",
      "[CV 1/5] END random_forest__min_samples_leaf=2, random_forest__min_samples_split=11;, score=(train=0.951, test=0.400) total time= 1.5min\n",
      "[CV 2/5] END random_forest__min_samples_leaf=2, random_forest__min_samples_split=11;, score=(train=0.951, test=0.414) total time= 1.6min\n",
      "[CV 3/5] END random_forest__min_samples_leaf=2, random_forest__min_samples_split=11;, score=(train=0.951, test=0.422) total time= 1.6min\n",
      "[CV 2/5] END random_forest__min_samples_leaf=2, random_forest__min_samples_split=12;, score=(train=0.951, test=0.414) total time= 1.6min\n",
      "[CV 1/5] END random_forest__min_samples_leaf=2, random_forest__min_samples_split=12;, score=(train=0.948, test=0.407) total time= 1.6min\n",
      "[CV 3/5] END random_forest__min_samples_leaf=2, random_forest__min_samples_split=12;, score=(train=0.951, test=0.421) total time= 1.6min\n",
      "[CV 5/5] END random_forest__min_samples_leaf=2, random_forest__min_samples_split=11;, score=(train=0.952, test=0.403) total time= 1.7min\n",
      "[CV 4/5] END random_forest__min_samples_leaf=2, random_forest__min_samples_split=12;, score=(train=0.946, test=0.418) total time= 1.7min\n",
      "[CV 1/5] END random_forest__min_samples_leaf=2, random_forest__min_samples_split=13;, score=(train=0.950, test=0.411) total time= 1.7min\n",
      "[CV 5/5] END random_forest__min_samples_leaf=2, random_forest__min_samples_split=12;, score=(train=0.949, test=0.399) total time= 1.7min\n",
      "[CV 3/5] END random_forest__min_samples_leaf=2, random_forest__min_samples_split=13;, score=(train=0.949, test=0.425) total time= 1.7min\n",
      "[CV 4/5] END random_forest__min_samples_leaf=2, random_forest__min_samples_split=13;, score=(train=0.944, test=0.411) total time= 1.7min\n",
      "[CV 2/5] END random_forest__min_samples_leaf=2, random_forest__min_samples_split=13;, score=(train=0.950, test=0.419) total time= 1.8min\n",
      "[CV 5/5] END random_forest__min_samples_leaf=2, random_forest__min_samples_split=13;, score=(train=0.950, test=0.405) total time= 1.8min\n",
      "[CV 1/5] END random_forest__min_samples_leaf=2, random_forest__min_samples_split=14;, score=(train=0.948, test=0.407) total time= 1.8min\n",
      "[CV 2/5] END random_forest__min_samples_leaf=2, random_forest__min_samples_split=14;, score=(train=0.947, test=0.419) total time= 1.8min\n",
      "[CV 3/5] END random_forest__min_samples_leaf=2, random_forest__min_samples_split=14;, score=(train=0.947, test=0.416) total time= 1.8min\n",
      "[CV 4/5] END random_forest__min_samples_leaf=2, random_forest__min_samples_split=14;, score=(train=0.944, test=0.414) total time= 1.8min\n",
      "[CV 5/5] END random_forest__min_samples_leaf=2, random_forest__min_samples_split=14;, score=(train=0.948, test=0.406) total time= 1.7min\n",
      "[CV 3/5] END random_forest__min_samples_leaf=2, random_forest__min_samples_split=15;, score=(train=0.946, test=0.414) total time= 1.4min\n",
      "[CV 2/5] END random_forest__min_samples_leaf=2, random_forest__min_samples_split=16;, score=(train=0.945, test=0.414) total time= 1.5min\n",
      "[CV 1/5] END random_forest__min_samples_leaf=2, random_forest__min_samples_split=15;, score=(train=0.946, test=0.412) total time= 1.4min\n",
      "[CV 2/5] END random_forest__min_samples_leaf=2, random_forest__min_samples_split=15;, score=(train=0.948, test=0.415) total time= 1.4min\n",
      "[CV 4/5] END random_forest__min_samples_leaf=2, random_forest__min_samples_split=15;, score=(train=0.942, test=0.412) total time= 1.5min\n",
      "[CV 1/5] END random_forest__min_samples_leaf=2, random_forest__min_samples_split=16;, score=(train=0.946, test=0.405) total time= 1.5min\n",
      "[CV 5/5] END random_forest__min_samples_leaf=2, random_forest__min_samples_split=15;, score=(train=0.947, test=0.400) total time= 1.5min\n",
      "[CV 3/5] END random_forest__min_samples_leaf=2, random_forest__min_samples_split=16;, score=(train=0.945, test=0.419) total time= 1.5min\n",
      "[CV 4/5] END random_forest__min_samples_leaf=2, random_forest__min_samples_split=16;, score=(train=0.940, test=0.419) total time= 1.6min\n",
      "[CV 1/5] END random_forest__min_samples_leaf=2, random_forest__min_samples_split=17;, score=(train=0.942, test=0.410) total time= 1.6min\n",
      "[CV 5/5] END random_forest__min_samples_leaf=2, random_forest__min_samples_split=16;, score=(train=0.945, test=0.410) total time= 1.6min\n",
      "[CV 2/5] END random_forest__min_samples_leaf=2, random_forest__min_samples_split=17;, score=(train=0.945, test=0.419) total time= 1.7min\n",
      "[CV 4/5] END random_forest__min_samples_leaf=2, random_forest__min_samples_split=17;, score=(train=0.939, test=0.416) total time= 1.7min\n",
      "[CV 5/5] END random_forest__min_samples_leaf=2, random_forest__min_samples_split=17;, score=(train=0.944, test=0.403) total time= 1.7min\n",
      "[CV 3/5] END random_forest__min_samples_leaf=2, random_forest__min_samples_split=17;, score=(train=0.944, test=0.417) total time= 1.7min\n",
      "[CV 1/5] END random_forest__min_samples_leaf=2, random_forest__min_samples_split=18;, score=(train=0.941, test=0.412) total time= 1.7min\n",
      "[CV 2/5] END random_forest__min_samples_leaf=2, random_forest__min_samples_split=18;, score=(train=0.945, test=0.418) total time= 1.7min\n",
      "[CV 3/5] END random_forest__min_samples_leaf=2, random_forest__min_samples_split=18;, score=(train=0.942, test=0.425) total time= 1.7min\n",
      "[CV 4/5] END random_forest__min_samples_leaf=2, random_forest__min_samples_split=18;, score=(train=0.939, test=0.419) total time= 1.7min\n",
      "[CV 5/5] END random_forest__min_samples_leaf=2, random_forest__min_samples_split=18;, score=(train=0.943, test=0.399) total time= 1.5min\n",
      "[CV 3/5] END random_forest__min_samples_leaf=2, random_forest__min_samples_split=19;, score=(train=0.940, test=0.421) total time= 1.4min\n",
      "[CV 2/5] END random_forest__min_samples_leaf=2, random_forest__min_samples_split=19;, score=(train=0.942, test=0.421) total time= 1.3min\n",
      "[CV 1/5] END random_forest__min_samples_leaf=2, random_forest__min_samples_split=19;, score=(train=0.941, test=0.412) total time= 1.4min\n",
      "[CV 1/5] END random_forest__min_samples_leaf=2, random_forest__min_samples_split=20;, score=(train=0.940, test=0.407) total time= 1.4min\n",
      "[CV 4/5] END random_forest__min_samples_leaf=2, random_forest__min_samples_split=19;, score=(train=0.935, test=0.413) total time= 1.4min\n",
      "[CV 5/5] END random_forest__min_samples_leaf=2, random_forest__min_samples_split=19;, score=(train=0.941, test=0.409) total time= 1.4min\n",
      "[CV 2/5] END random_forest__min_samples_leaf=2, random_forest__min_samples_split=20;, score=(train=0.938, test=0.418) total time= 1.4min\n",
      "[CV 3/5] END random_forest__min_samples_leaf=2, random_forest__min_samples_split=20;, score=(train=0.941, test=0.420) total time= 1.5min\n",
      "[CV 4/5] END random_forest__min_samples_leaf=2, random_forest__min_samples_split=20;, score=(train=0.935, test=0.416) total time= 1.5min\n",
      "[CV 5/5] END random_forest__min_samples_leaf=2, random_forest__min_samples_split=20;, score=(train=0.941, test=0.398) total time= 1.5min\n",
      "[CV 1/5] END random_forest__min_samples_leaf=5, random_forest__min_samples_split=2;, score=(train=0.930, test=0.409) total time= 1.5min\n",
      "[CV 5/5] END random_forest__min_samples_leaf=5, random_forest__min_samples_split=2;, score=(train=0.933, test=0.404) total time= 1.6min\n",
      "[CV 2/5] END random_forest__min_samples_leaf=5, random_forest__min_samples_split=2;, score=(train=0.931, test=0.419) total time= 1.6min\n",
      "[CV 4/5] END random_forest__min_samples_leaf=5, random_forest__min_samples_split=2;, score=(train=0.926, test=0.416) total time= 1.6min\n",
      "[CV 3/5] END random_forest__min_samples_leaf=5, random_forest__min_samples_split=2;, score=(train=0.930, test=0.417) total time= 1.6min\n",
      "[CV 1/5] END random_forest__min_samples_leaf=5, random_forest__min_samples_split=3;, score=(train=0.930, test=0.416) total time= 1.6min\n",
      "[CV 2/5] END random_forest__min_samples_leaf=5, random_forest__min_samples_split=3;, score=(train=0.931, test=0.415) total time= 1.6min\n",
      "[CV 4/5] END random_forest__min_samples_leaf=5, random_forest__min_samples_split=3;, score=(train=0.924, test=0.412) total time= 1.6min\n",
      "[CV 3/5] END random_forest__min_samples_leaf=5, random_forest__min_samples_split=3;, score=(train=0.931, test=0.426) total time= 1.6min\n",
      "[CV 5/5] END random_forest__min_samples_leaf=5, random_forest__min_samples_split=3;, score=(train=0.933, test=0.406) total time= 1.4min\n",
      "[CV 1/5] END random_forest__min_samples_leaf=5, random_forest__min_samples_split=5;, score=(train=0.931, test=0.407) total time= 1.4min\n",
      "[CV 4/5] END random_forest__min_samples_leaf=5, random_forest__min_samples_split=4;, score=(train=0.925, test=0.418) total time= 1.4min\n",
      "[CV 1/5] END random_forest__min_samples_leaf=5, random_forest__min_samples_split=4;, score=(train=0.929, test=0.407) total time= 1.3min\n",
      "[CV 3/5] END random_forest__min_samples_leaf=5, random_forest__min_samples_split=4;, score=(train=0.928, test=0.415) total time= 1.4min\n",
      "[CV 2/5] END random_forest__min_samples_leaf=5, random_forest__min_samples_split=4;, score=(train=0.930, test=0.413) total time= 1.4min\n",
      "[CV 5/5] END random_forest__min_samples_leaf=5, random_forest__min_samples_split=4;, score=(train=0.931, test=0.398) total time= 1.4min\n",
      "[CV 2/5] END random_forest__min_samples_leaf=5, random_forest__min_samples_split=5;, score=(train=0.932, test=0.413) total time= 1.4min\n",
      "[CV 3/5] END random_forest__min_samples_leaf=5, random_forest__min_samples_split=5;, score=(train=0.932, test=0.419) total time= 1.5min\n",
      "[CV 4/5] END random_forest__min_samples_leaf=5, random_forest__min_samples_split=5;, score=(train=0.925, test=0.415) total time= 1.5min\n",
      "[CV 5/5] END random_forest__min_samples_leaf=5, random_forest__min_samples_split=5;, score=(train=0.931, test=0.406) total time= 1.5min\n",
      "[CV 1/5] END random_forest__min_samples_leaf=5, random_forest__min_samples_split=6;, score=(train=0.931, test=0.409) total time= 1.5min\n",
      "[CV 4/5] END random_forest__min_samples_leaf=5, random_forest__min_samples_split=6;, score=(train=0.924, test=0.417) total time= 1.6min\n",
      "[CV 2/5] END random_forest__min_samples_leaf=5, random_forest__min_samples_split=6;, score=(train=0.932, test=0.413) total time= 1.6min\n",
      "[CV 3/5] END random_forest__min_samples_leaf=5, random_forest__min_samples_split=6;, score=(train=0.929, test=0.420) total time= 1.6min\n",
      "[CV 5/5] END random_forest__min_samples_leaf=5, random_forest__min_samples_split=6;, score=(train=0.932, test=0.408) total time= 1.6min\n",
      "[CV 2/5] END random_forest__min_samples_leaf=5, random_forest__min_samples_split=7;, score=(train=0.930, test=0.411) total time= 1.6min\n",
      "[CV 1/5] END random_forest__min_samples_leaf=5, random_forest__min_samples_split=7;, score=(train=0.930, test=0.414) total time= 1.6min\n",
      "[CV 4/5] END random_forest__min_samples_leaf=5, random_forest__min_samples_split=7;, score=(train=0.924, test=0.413) total time= 1.6min\n",
      "[CV 3/5] END random_forest__min_samples_leaf=5, random_forest__min_samples_split=7;, score=(train=0.931, test=0.426) total time= 1.6min\n",
      "[CV 5/5] END random_forest__min_samples_leaf=5, random_forest__min_samples_split=7;, score=(train=0.932, test=0.406) total time= 1.2min\n",
      "[CV 4/5] END random_forest__min_samples_leaf=5, random_forest__min_samples_split=8;, score=(train=0.925, test=0.413) total time= 1.3min\n",
      "[CV 2/5] END random_forest__min_samples_leaf=5, random_forest__min_samples_split=8;, score=(train=0.931, test=0.415) total time= 1.3min\n",
      "[CV 1/5] END random_forest__min_samples_leaf=5, random_forest__min_samples_split=9;, score=(train=0.929, test=0.407) total time= 1.4min\n",
      "[CV 5/5] END random_forest__min_samples_leaf=5, random_forest__min_samples_split=8;, score=(train=0.932, test=0.403) total time= 1.4min\n",
      "[CV 1/5] END random_forest__min_samples_leaf=5, random_forest__min_samples_split=8;, score=(train=0.931, test=0.411) total time= 1.4min\n",
      "[CV 3/5] END random_forest__min_samples_leaf=5, random_forest__min_samples_split=8;, score=(train=0.931, test=0.416) total time= 1.4min\n",
      "[CV 2/5] END random_forest__min_samples_leaf=5, random_forest__min_samples_split=9;, score=(train=0.931, test=0.416) total time= 1.5min\n",
      "[CV 3/5] END random_forest__min_samples_leaf=5, random_forest__min_samples_split=9;, score=(train=0.931, test=0.421) total time= 1.5min\n",
      "[CV 4/5] END random_forest__min_samples_leaf=5, random_forest__min_samples_split=9;, score=(train=0.926, test=0.409) total time= 1.6min\n",
      "[CV 3/5] END random_forest__min_samples_leaf=5, random_forest__min_samples_split=10;, score=(train=0.932, test=0.422) total time= 1.6min\n",
      "[CV 5/5] END random_forest__min_samples_leaf=5, random_forest__min_samples_split=9;, score=(train=0.932, test=0.406) total time= 1.6min\n",
      "[CV 1/5] END random_forest__min_samples_leaf=5, random_forest__min_samples_split=10;, score=(train=0.931, test=0.414) total time= 1.6min\n",
      "[CV 2/5] END random_forest__min_samples_leaf=5, random_forest__min_samples_split=10;, score=(train=0.931, test=0.416) total time= 1.6min\n",
      "[CV 4/5] END random_forest__min_samples_leaf=5, random_forest__min_samples_split=10;, score=(train=0.926, test=0.418) total time= 1.6min\n",
      "[CV 5/5] END random_forest__min_samples_leaf=5, random_forest__min_samples_split=10;, score=(train=0.930, test=0.403) total time= 1.6min\n",
      "[CV 1/5] END random_forest__min_samples_leaf=5, random_forest__min_samples_split=11;, score=(train=0.930, test=0.416) total time= 1.6min\n",
      "[CV 3/5] END random_forest__min_samples_leaf=5, random_forest__min_samples_split=11;, score=(train=0.931, test=0.427) total time= 1.6min\n",
      "[CV 4/5] END random_forest__min_samples_leaf=5, random_forest__min_samples_split=11;, score=(train=0.926, test=0.414) total time= 1.6min\n",
      "[CV 2/5] END random_forest__min_samples_leaf=5, random_forest__min_samples_split=11;, score=(train=0.930, test=0.411) total time= 1.6min\n",
      "[CV 5/5] END random_forest__min_samples_leaf=5, random_forest__min_samples_split=11;, score=(train=0.931, test=0.411) total time= 1.1min\n",
      "[CV 1/5] END random_forest__min_samples_leaf=5, random_forest__min_samples_split=12;, score=(train=0.929, test=0.404) total time= 1.3min\n",
      "[CV 2/5] END random_forest__min_samples_leaf=5, random_forest__min_samples_split=12;, score=(train=0.929, test=0.418) total time= 1.3min\n",
      "[CV 4/5] END random_forest__min_samples_leaf=5, random_forest__min_samples_split=12;, score=(train=0.923, test=0.411) total time= 1.3min\n",
      "[CV 5/5] END random_forest__min_samples_leaf=5, random_forest__min_samples_split=12;, score=(train=0.930, test=0.399) total time= 1.4min\n",
      "[CV 3/5] END random_forest__min_samples_leaf=5, random_forest__min_samples_split=12;, score=(train=0.927, test=0.414) total time= 1.3min\n",
      "[CV 2/5] END random_forest__min_samples_leaf=5, random_forest__min_samples_split=13;, score=(train=0.929, test=0.413) total time= 1.3min\n",
      "[CV 1/5] END random_forest__min_samples_leaf=5, random_forest__min_samples_split=13;, score=(train=0.928, test=0.412) total time= 1.4min\n",
      "[CV 3/5] END random_forest__min_samples_leaf=5, random_forest__min_samples_split=13;, score=(train=0.927, test=0.421) total time= 1.4min\n",
      "[CV 4/5] END random_forest__min_samples_leaf=5, random_forest__min_samples_split=13;, score=(train=0.922, test=0.421) total time= 1.5min\n",
      "[CV 5/5] END random_forest__min_samples_leaf=5, random_forest__min_samples_split=13;, score=(train=0.930, test=0.402) total time= 1.5min\n",
      "[CV 1/5] END random_forest__min_samples_leaf=5, random_forest__min_samples_split=14;, score=(train=0.925, test=0.414) total time= 1.5min\n",
      "[CV 2/5] END random_forest__min_samples_leaf=5, random_forest__min_samples_split=14;, score=(train=0.927, test=0.415) total time= 1.5min\n",
      "[CV 3/5] END random_forest__min_samples_leaf=5, random_forest__min_samples_split=14;, score=(train=0.927, test=0.419) total time= 1.5min\n",
      "[CV 4/5] END random_forest__min_samples_leaf=5, random_forest__min_samples_split=14;, score=(train=0.922, test=0.418) total time= 1.6min\n",
      "[CV 5/5] END random_forest__min_samples_leaf=5, random_forest__min_samples_split=14;, score=(train=0.928, test=0.409) total time= 1.6min\n",
      "[CV 1/5] END random_forest__min_samples_leaf=5, random_forest__min_samples_split=15;, score=(train=0.926, test=0.405) total time= 1.6min\n",
      "[CV 2/5] END random_forest__min_samples_leaf=5, random_forest__min_samples_split=15;, score=(train=0.926, test=0.418) total time= 1.5min\n",
      "[CV 3/5] END random_forest__min_samples_leaf=5, random_forest__min_samples_split=15;, score=(train=0.927, test=0.419) total time= 1.5min\n",
      "[CV 4/5] END random_forest__min_samples_leaf=5, random_forest__min_samples_split=15;, score=(train=0.921, test=0.420) total time= 1.5min\n",
      "[CV 5/5] END random_forest__min_samples_leaf=5, random_forest__min_samples_split=15;, score=(train=0.928, test=0.402) total time= 1.2min\n",
      "[CV 1/5] END random_forest__min_samples_leaf=5, random_forest__min_samples_split=17;, score=(train=0.923, test=0.407) total time= 1.3min\n",
      "[CV 2/5] END random_forest__min_samples_leaf=5, random_forest__min_samples_split=16;, score=(train=0.924, test=0.415) total time= 1.2min\n",
      "[CV 3/5] END random_forest__min_samples_leaf=5, random_forest__min_samples_split=16;, score=(train=0.923, test=0.415) total time= 1.3min\n",
      "[CV 4/5] END random_forest__min_samples_leaf=5, random_forest__min_samples_split=16;, score=(train=0.918, test=0.412) total time= 1.3min\n",
      "[CV 2/5] END random_forest__min_samples_leaf=5, random_forest__min_samples_split=17;, score=(train=0.920, test=0.413) total time= 1.3min\n",
      "[CV 1/5] END random_forest__min_samples_leaf=5, random_forest__min_samples_split=16;, score=(train=0.924, test=0.416) total time= 1.3min\n",
      "[CV 5/5] END random_forest__min_samples_leaf=5, random_forest__min_samples_split=16;, score=(train=0.924, test=0.400) total time= 1.3min\n",
      "[CV 3/5] END random_forest__min_samples_leaf=5, random_forest__min_samples_split=17;, score=(train=0.922, test=0.424) total time= 1.4min\n",
      "[CV 4/5] END random_forest__min_samples_leaf=5, random_forest__min_samples_split=17;, score=(train=0.918, test=0.414) total time= 1.4min\n",
      "[CV 2/5] END random_forest__min_samples_leaf=5, random_forest__min_samples_split=18;, score=(train=0.923, test=0.418) total time= 1.4min\n",
      "[CV 5/5] END random_forest__min_samples_leaf=5, random_forest__min_samples_split=17;, score=(train=0.924, test=0.404) total time= 1.4min\n",
      "[CV 4/5] END random_forest__min_samples_leaf=5, random_forest__min_samples_split=18;, score=(train=0.918, test=0.415) total time= 1.4min\n",
      "[CV 1/5] END random_forest__min_samples_leaf=5, random_forest__min_samples_split=18;, score=(train=0.923, test=0.414) total time= 1.5min\n",
      "[CV 3/5] END random_forest__min_samples_leaf=5, random_forest__min_samples_split=18;, score=(train=0.922, test=0.418) total time= 1.5min\n",
      "[CV 3/5] END random_forest__min_samples_leaf=5, random_forest__min_samples_split=19;, score=(train=0.919, test=0.420) total time= 1.5min\n",
      "[CV 1/5] END random_forest__min_samples_leaf=5, random_forest__min_samples_split=19;, score=(train=0.920, test=0.414) total time= 1.5min\n",
      "[CV 5/5] END random_forest__min_samples_leaf=5, random_forest__min_samples_split=18;, score=(train=0.923, test=0.406) total time= 1.5min\n",
      "[CV 2/5] END random_forest__min_samples_leaf=5, random_forest__min_samples_split=19;, score=(train=0.920, test=0.415) total time= 1.5min\n",
      "[CV 4/5] END random_forest__min_samples_leaf=5, random_forest__min_samples_split=19;, score=(train=0.917, test=0.410) total time= 1.5min\n",
      "[CV 5/5] END random_forest__min_samples_leaf=5, random_forest__min_samples_split=19;, score=(train=0.922, test=0.409) total time= 1.1min\n",
      "[CV 1/5] END random_forest__min_samples_leaf=10, random_forest__min_samples_split=2;, score=(train=0.857, test=0.414) total time= 1.1min\n",
      "[CV 4/5] END random_forest__min_samples_leaf=5, random_forest__min_samples_split=20;, score=(train=0.915, test=0.416) total time= 1.2min\n",
      "[CV 2/5] END random_forest__min_samples_leaf=5, random_forest__min_samples_split=20;, score=(train=0.920, test=0.418) total time= 1.2min\n",
      "[CV 2/5] END random_forest__min_samples_leaf=10, random_forest__min_samples_split=2;, score=(train=0.864, test=0.419) total time= 1.2min\n",
      "[CV 1/5] END random_forest__min_samples_leaf=5, random_forest__min_samples_split=20;, score=(train=0.919, test=0.410) total time= 1.2min\n",
      "[CV 4/5] END random_forest__min_samples_leaf=10, random_forest__min_samples_split=2;, score=(train=0.857, test=0.416) total time= 1.2min\n",
      "[CV 3/5] END random_forest__min_samples_leaf=5, random_forest__min_samples_split=20;, score=(train=0.916, test=0.419) total time= 1.3min\n",
      "[CV 3/5] END random_forest__min_samples_leaf=10, random_forest__min_samples_split=2;, score=(train=0.858, test=0.419) total time= 1.2min\n",
      "[CV 5/5] END random_forest__min_samples_leaf=5, random_forest__min_samples_split=20;, score=(train=0.920, test=0.401) total time= 1.2min\n",
      "[CV 5/5] END random_forest__min_samples_leaf=10, random_forest__min_samples_split=2;, score=(train=0.858, test=0.403) total time= 1.3min\n",
      "[CV 1/5] END random_forest__min_samples_leaf=10, random_forest__min_samples_split=3;, score=(train=0.861, test=0.407) total time= 1.3min\n",
      "[CV 3/5] END random_forest__min_samples_leaf=10, random_forest__min_samples_split=3;, score=(train=0.863, test=0.408) total time= 1.3min\n",
      "[CV 4/5] END random_forest__min_samples_leaf=10, random_forest__min_samples_split=3;, score=(train=0.856, test=0.421) total time= 1.3min\n",
      "[CV 2/5] END random_forest__min_samples_leaf=10, random_forest__min_samples_split=3;, score=(train=0.858, test=0.412) total time= 1.3min\n",
      "[CV 5/5] END random_forest__min_samples_leaf=10, random_forest__min_samples_split=3;, score=(train=0.863, test=0.403) total time= 1.4min\n",
      "[CV 3/5] END random_forest__min_samples_leaf=10, random_forest__min_samples_split=4;, score=(train=0.863, test=0.415) total time= 1.3min\n",
      "[CV 1/5] END random_forest__min_samples_leaf=10, random_forest__min_samples_split=4;, score=(train=0.857, test=0.409) total time= 1.4min\n",
      "[CV 4/5] END random_forest__min_samples_leaf=10, random_forest__min_samples_split=4;, score=(train=0.855, test=0.421) total time= 1.4min\n",
      "[CV 2/5] END random_forest__min_samples_leaf=10, random_forest__min_samples_split=4;, score=(train=0.861, test=0.415) total time= 1.4min\n",
      "[CV 5/5] END random_forest__min_samples_leaf=10, random_forest__min_samples_split=4;, score=(train=0.861, test=0.398) total time= 1.1min\n",
      "[CV 1/5] END random_forest__min_samples_leaf=10, random_forest__min_samples_split=5;, score=(train=0.859, test=0.413) total time= 1.1min\n",
      "[CV 1/5] END random_forest__min_samples_leaf=10, random_forest__min_samples_split=6;, score=(train=0.856, test=0.406) total time= 1.1min\n",
      "[CV 2/5] END random_forest__min_samples_leaf=10, random_forest__min_samples_split=5;, score=(train=0.860, test=0.419) total time= 1.2min\n",
      "[CV 4/5] END random_forest__min_samples_leaf=10, random_forest__min_samples_split=5;, score=(train=0.856, test=0.419) total time= 1.1min\n",
      "[CV 3/5] END random_forest__min_samples_leaf=10, random_forest__min_samples_split=5;, score=(train=0.862, test=0.422) total time= 1.1min\n",
      "[CV 5/5] END random_forest__min_samples_leaf=10, random_forest__min_samples_split=5;, score=(train=0.860, test=0.401) total time= 1.2min\n",
      "[CV 3/5] END random_forest__min_samples_leaf=10, random_forest__min_samples_split=6;, score=(train=0.863, test=0.424) total time= 1.2min\n",
      "[CV 2/5] END random_forest__min_samples_leaf=10, random_forest__min_samples_split=6;, score=(train=0.863, test=0.416) total time= 1.2min\n",
      "[CV 5/5] END random_forest__min_samples_leaf=10, random_forest__min_samples_split=6;, score=(train=0.860, test=0.405) total time= 1.2min\n",
      "[CV 2/5] END random_forest__min_samples_leaf=10, random_forest__min_samples_split=7;, score=(train=0.858, test=0.416) total time= 1.2min\n",
      "[CV 1/5] END random_forest__min_samples_leaf=10, random_forest__min_samples_split=7;, score=(train=0.857, test=0.410) total time= 1.2min\n",
      "[CV 4/5] END random_forest__min_samples_leaf=10, random_forest__min_samples_split=6;, score=(train=0.855, test=0.420) total time= 1.2min\n",
      "[CV 3/5] END random_forest__min_samples_leaf=10, random_forest__min_samples_split=7;, score=(train=0.862, test=0.421) total time= 1.2min\n",
      "[CV 4/5] END random_forest__min_samples_leaf=10, random_forest__min_samples_split=7;, score=(train=0.856, test=0.415) total time= 1.2min\n",
      "[CV 5/5] END random_forest__min_samples_leaf=10, random_forest__min_samples_split=7;, score=(train=0.862, test=0.404) total time= 1.3min\n",
      "[CV 3/5] END random_forest__min_samples_leaf=10, random_forest__min_samples_split=8;, score=(train=0.859, test=0.416) total time= 1.3min\n",
      "[CV 1/5] END random_forest__min_samples_leaf=10, random_forest__min_samples_split=8;, score=(train=0.854, test=0.410) total time= 1.3min\n",
      "[CV 2/5] END random_forest__min_samples_leaf=10, random_forest__min_samples_split=8;, score=(train=0.860, test=0.414) total time= 1.3min\n",
      "[CV 4/5] END random_forest__min_samples_leaf=10, random_forest__min_samples_split=8;, score=(train=0.855, test=0.422) total time= 1.3min\n",
      "[CV 5/5] END random_forest__min_samples_leaf=10, random_forest__min_samples_split=8;, score=(train=0.859, test=0.397) total time= 1.1min\n",
      "[CV 1/5] END random_forest__min_samples_leaf=10, random_forest__min_samples_split=9;, score=(train=0.861, test=0.406) total time= 1.1min\n",
      "[CV 4/5] END random_forest__min_samples_leaf=10, random_forest__min_samples_split=9;, score=(train=0.856, test=0.420) total time= 1.1min\n",
      "[CV 2/5] END random_forest__min_samples_leaf=10, random_forest__min_samples_split=9;, score=(train=0.861, test=0.414) total time= 1.1min\n",
      "[CV 3/5] END random_forest__min_samples_leaf=10, random_forest__min_samples_split=9;, score=(train=0.862, test=0.418) total time= 1.1min\n",
      "[CV 2/5] END random_forest__min_samples_leaf=10, random_forest__min_samples_split=10;, score=(train=0.858, test=0.416) total time= 1.1min\n",
      "[CV 1/5] END random_forest__min_samples_leaf=10, random_forest__min_samples_split=10;, score=(train=0.857, test=0.412) total time= 1.1min\n",
      "[CV 5/5] END random_forest__min_samples_leaf=10, random_forest__min_samples_split=9;, score=(train=0.860, test=0.407) total time= 1.2min\n",
      "[CV 4/5] END random_forest__min_samples_leaf=10, random_forest__min_samples_split=10;, score=(train=0.857, test=0.416) total time= 1.2min\n",
      "[CV 3/5] END random_forest__min_samples_leaf=10, random_forest__min_samples_split=10;, score=(train=0.860, test=0.419) total time= 1.2min\n",
      "[CV 5/5] END random_forest__min_samples_leaf=10, random_forest__min_samples_split=10;, score=(train=0.860, test=0.406) total time= 1.2min\n",
      "[CV 2/5] END random_forest__min_samples_leaf=10, random_forest__min_samples_split=11;, score=(train=0.858, test=0.417) total time= 1.2min\n",
      "[CV 3/5] END random_forest__min_samples_leaf=10, random_forest__min_samples_split=11;, score=(train=0.857, test=0.418) total time= 1.2min\n",
      "[CV 1/5] END random_forest__min_samples_leaf=10, random_forest__min_samples_split=11;, score=(train=0.856, test=0.407) total time= 1.2min\n",
      "[CV 4/5] END random_forest__min_samples_leaf=10, random_forest__min_samples_split=11;, score=(train=0.854, test=0.422) total time= 1.2min\n",
      "[CV 5/5] END random_forest__min_samples_leaf=10, random_forest__min_samples_split=11;, score=(train=0.860, test=0.404) total time= 1.3min\n",
      "[CV 1/5] END random_forest__min_samples_leaf=10, random_forest__min_samples_split=12;, score=(train=0.859, test=0.410) total time= 1.3min\n",
      "[CV 3/5] END random_forest__min_samples_leaf=10, random_forest__min_samples_split=12;, score=(train=0.859, test=0.417) total time= 1.3min\n",
      "[CV 2/5] END random_forest__min_samples_leaf=10, random_forest__min_samples_split=12;, score=(train=0.861, test=0.419) total time= 1.3min\n",
      "[CV 4/5] END random_forest__min_samples_leaf=10, random_forest__min_samples_split=12;, score=(train=0.857, test=0.419) total time= 1.3min\n",
      "[CV 5/5] END random_forest__min_samples_leaf=10, random_forest__min_samples_split=12;, score=(train=0.862, test=0.401) total time=  58.7s\n",
      "[CV 4/5] END random_forest__min_samples_leaf=10, random_forest__min_samples_split=13;, score=(train=0.860, test=0.416) total time=  59.8s\n",
      "[CV 3/5] END random_forest__min_samples_leaf=10, random_forest__min_samples_split=13;, score=(train=0.859, test=0.417) total time= 1.0min\n",
      "[CV 5/5] END random_forest__min_samples_leaf=10, random_forest__min_samples_split=13;, score=(train=0.862, test=0.402) total time= 1.0min\n",
      "[CV 2/5] END random_forest__min_samples_leaf=10, random_forest__min_samples_split=13;, score=(train=0.862, test=0.413) total time= 1.0min\n",
      "[CV 1/5] END random_forest__min_samples_leaf=10, random_forest__min_samples_split=13;, score=(train=0.861, test=0.410) total time= 1.1min\n",
      "[CV 1/5] END random_forest__min_samples_leaf=10, random_forest__min_samples_split=14;, score=(train=0.861, test=0.412) total time= 1.1min\n",
      "[CV 3/5] END random_forest__min_samples_leaf=10, random_forest__min_samples_split=14;, score=(train=0.860, test=0.425) total time= 1.1min\n",
      "[CV 4/5] END random_forest__min_samples_leaf=10, random_forest__min_samples_split=14;, score=(train=0.857, test=0.417) total time= 1.1min\n",
      "[CV 2/5] END random_forest__min_samples_leaf=10, random_forest__min_samples_split=14;, score=(train=0.860, test=0.415) total time= 1.1min\n",
      "[CV 5/5] END random_forest__min_samples_leaf=10, random_forest__min_samples_split=14;, score=(train=0.864, test=0.407) total time= 1.2min\n",
      "[CV 1/5] END random_forest__min_samples_leaf=10, random_forest__min_samples_split=15;, score=(train=0.856, test=0.409) total time= 1.2min\n",
      "[CV 3/5] END random_forest__min_samples_leaf=10, random_forest__min_samples_split=15;, score=(train=0.861, test=0.423) total time= 1.2min\n",
      "[CV 2/5] END random_forest__min_samples_leaf=10, random_forest__min_samples_split=15;, score=(train=0.858, test=0.416) total time= 1.2min\n",
      "[CV 4/5] END random_forest__min_samples_leaf=10, random_forest__min_samples_split=15;, score=(train=0.854, test=0.410) total time= 1.2min\n",
      "[CV 5/5] END random_forest__min_samples_leaf=10, random_forest__min_samples_split=15;, score=(train=0.858, test=0.398) total time= 1.3min\n",
      "[CV 2/5] END random_forest__min_samples_leaf=10, random_forest__min_samples_split=16;, score=(train=0.860, test=0.413) total time= 1.3min\n",
      "[CV 1/5] END random_forest__min_samples_leaf=10, random_forest__min_samples_split=16;, score=(train=0.859, test=0.415) total time= 1.3min\n",
      "[CV 3/5] END random_forest__min_samples_leaf=10, random_forest__min_samples_split=16;, score=(train=0.861, test=0.417) total time= 1.2min\n",
      "[CV 4/5] END random_forest__min_samples_leaf=10, random_forest__min_samples_split=16;, score=(train=0.857, test=0.413) total time= 1.2min\n",
      "[CV 3/5] END random_forest__min_samples_leaf=10, random_forest__min_samples_split=17;, score=(train=0.861, test=0.416) total time=  58.2s\n",
      "[CV 1/5] END random_forest__min_samples_leaf=10, random_forest__min_samples_split=17;, score=(train=0.858, test=0.409) total time=  58.3s\n",
      "[CV 2/5] END random_forest__min_samples_leaf=10, random_forest__min_samples_split=17;, score=(train=0.862, test=0.408) total time=  58.7s\n",
      "[CV 5/5] END random_forest__min_samples_leaf=10, random_forest__min_samples_split=17;, score=(train=0.863, test=0.405) total time=  58.8s\n",
      "[CV 5/5] END random_forest__min_samples_leaf=10, random_forest__min_samples_split=16;, score=(train=0.860, test=0.400) total time= 1.0min\n",
      "[CV 4/5] END random_forest__min_samples_leaf=10, random_forest__min_samples_split=17;, score=(train=0.855, test=0.413) total time= 1.0min\n",
      "[CV 1/5] END random_forest__min_samples_leaf=10, random_forest__min_samples_split=18;, score=(train=0.859, test=0.408) total time= 1.1min\n",
      "[CV 2/5] END random_forest__min_samples_leaf=10, random_forest__min_samples_split=18;, score=(train=0.862, test=0.410) total time= 1.1min\n",
      "[CV 1/5] END random_forest__min_samples_leaf=10, random_forest__min_samples_split=19;, score=(train=0.859, test=0.408) total time= 1.1min\n",
      "[CV 3/5] END random_forest__min_samples_leaf=10, random_forest__min_samples_split=18;, score=(train=0.859, test=0.417) total time= 1.1min\n",
      "[CV 4/5] END random_forest__min_samples_leaf=10, random_forest__min_samples_split=18;, score=(train=0.853, test=0.416) total time= 1.2min\n",
      "[CV 5/5] END random_forest__min_samples_leaf=10, random_forest__min_samples_split=18;, score=(train=0.861, test=0.402) total time= 1.1min\n",
      "[CV 3/5] END random_forest__min_samples_leaf=10, random_forest__min_samples_split=19;, score=(train=0.859, test=0.417) total time= 1.1min\n",
      "[CV 2/5] END random_forest__min_samples_leaf=10, random_forest__min_samples_split=19;, score=(train=0.861, test=0.420) total time= 1.2min\n",
      "[CV 4/5] END random_forest__min_samples_leaf=10, random_forest__min_samples_split=19;, score=(train=0.854, test=0.414) total time= 1.2min\n",
      "[CV 5/5] END random_forest__min_samples_leaf=10, random_forest__min_samples_split=19;, score=(train=0.859, test=0.406) total time= 1.2min\n",
      "[CV 1/5] END random_forest__min_samples_leaf=10, random_forest__min_samples_split=20;, score=(train=0.859, test=0.410) total time= 1.2min\n",
      "[CV 2/5] END random_forest__min_samples_leaf=10, random_forest__min_samples_split=20;, score=(train=0.860, test=0.413) total time= 1.2min\n",
      "[CV 3/5] END random_forest__min_samples_leaf=10, random_forest__min_samples_split=20;, score=(train=0.860, test=0.413) total time= 1.1min\n",
      "[CV 4/5] END random_forest__min_samples_leaf=10, random_forest__min_samples_split=20;, score=(train=0.852, test=0.419) total time= 1.1min\n",
      "[CV 5/5] END random_forest__min_samples_leaf=10, random_forest__min_samples_split=20;, score=(train=0.861, test=0.401) total time=  14.6s\n"
     ]
    },
    {
     "data": {
      "text/plain": [
       "0.422093837535014"
      ]
     },
     "execution_count": 22,
     "metadata": {},
     "output_type": "execute_result"
    }
   ],
   "source": [
    "vectorizer = TfidfVectorizer(max_df=0.9, \n",
    "                             min_df=0.01\n",
    "                             )\n",
    "\n",
    "random_forest = RandomForestClassifier(n_estimators=500, max_depth=25, n_jobs=-1)\n",
    "\n",
    "pipe = Pipeline(steps=\n",
    "                [\n",
    "                    ('tfidf', vectorizer),\n",
    "                    ('random_forest', random_forest)\n",
    "                ]\n",
    "            )\n",
    "\n",
    "param_grid = {\n",
    "    'random_forest__min_samples_split':np.arange(2, 21, 1),\n",
    "    'random_forest__min_samples_leaf':[1,2,5,10]\n",
    "}\n",
    "\n",
    "\n",
    "search = GridSearchCV(pipe, param_grid, n_jobs=-1, cv=5, verbose=3, return_train_score=True)\n",
    "search.fit(X_train_lyrics, y_train)\n",
    "search.score(X_test_lyrics, y_test)"
   ]
  },
  {
   "cell_type": "code",
   "execution_count": 23,
   "metadata": {},
   "outputs": [
    {
     "data": {
      "text/html": [
       "<style>#sk-container-id-3 {color: black;background-color: white;}#sk-container-id-3 pre{padding: 0;}#sk-container-id-3 div.sk-toggleable {background-color: white;}#sk-container-id-3 label.sk-toggleable__label {cursor: pointer;display: block;width: 100%;margin-bottom: 0;padding: 0.3em;box-sizing: border-box;text-align: center;}#sk-container-id-3 label.sk-toggleable__label-arrow:before {content: \"▸\";float: left;margin-right: 0.25em;color: #696969;}#sk-container-id-3 label.sk-toggleable__label-arrow:hover:before {color: black;}#sk-container-id-3 div.sk-estimator:hover label.sk-toggleable__label-arrow:before {color: black;}#sk-container-id-3 div.sk-toggleable__content {max-height: 0;max-width: 0;overflow: hidden;text-align: left;background-color: #f0f8ff;}#sk-container-id-3 div.sk-toggleable__content pre {margin: 0.2em;color: black;border-radius: 0.25em;background-color: #f0f8ff;}#sk-container-id-3 input.sk-toggleable__control:checked~div.sk-toggleable__content {max-height: 200px;max-width: 100%;overflow: auto;}#sk-container-id-3 input.sk-toggleable__control:checked~label.sk-toggleable__label-arrow:before {content: \"▾\";}#sk-container-id-3 div.sk-estimator input.sk-toggleable__control:checked~label.sk-toggleable__label {background-color: #d4ebff;}#sk-container-id-3 div.sk-label input.sk-toggleable__control:checked~label.sk-toggleable__label {background-color: #d4ebff;}#sk-container-id-3 input.sk-hidden--visually {border: 0;clip: rect(1px 1px 1px 1px);clip: rect(1px, 1px, 1px, 1px);height: 1px;margin: -1px;overflow: hidden;padding: 0;position: absolute;width: 1px;}#sk-container-id-3 div.sk-estimator {font-family: monospace;background-color: #f0f8ff;border: 1px dotted black;border-radius: 0.25em;box-sizing: border-box;margin-bottom: 0.5em;}#sk-container-id-3 div.sk-estimator:hover {background-color: #d4ebff;}#sk-container-id-3 div.sk-parallel-item::after {content: \"\";width: 100%;border-bottom: 1px solid gray;flex-grow: 1;}#sk-container-id-3 div.sk-label:hover label.sk-toggleable__label {background-color: #d4ebff;}#sk-container-id-3 div.sk-serial::before {content: \"\";position: absolute;border-left: 1px solid gray;box-sizing: border-box;top: 0;bottom: 0;left: 50%;z-index: 0;}#sk-container-id-3 div.sk-serial {display: flex;flex-direction: column;align-items: center;background-color: white;padding-right: 0.2em;padding-left: 0.2em;position: relative;}#sk-container-id-3 div.sk-item {position: relative;z-index: 1;}#sk-container-id-3 div.sk-parallel {display: flex;align-items: stretch;justify-content: center;background-color: white;position: relative;}#sk-container-id-3 div.sk-item::before, #sk-container-id-3 div.sk-parallel-item::before {content: \"\";position: absolute;border-left: 1px solid gray;box-sizing: border-box;top: 0;bottom: 0;left: 50%;z-index: -1;}#sk-container-id-3 div.sk-parallel-item {display: flex;flex-direction: column;z-index: 1;position: relative;background-color: white;}#sk-container-id-3 div.sk-parallel-item:first-child::after {align-self: flex-end;width: 50%;}#sk-container-id-3 div.sk-parallel-item:last-child::after {align-self: flex-start;width: 50%;}#sk-container-id-3 div.sk-parallel-item:only-child::after {width: 0;}#sk-container-id-3 div.sk-dashed-wrapped {border: 1px dashed gray;margin: 0 0.4em 0.5em 0.4em;box-sizing: border-box;padding-bottom: 0.4em;background-color: white;}#sk-container-id-3 div.sk-label label {font-family: monospace;font-weight: bold;display: inline-block;line-height: 1.2em;}#sk-container-id-3 div.sk-label-container {text-align: center;}#sk-container-id-3 div.sk-container {/* jupyter's `normalize.less` sets `[hidden] { display: none; }` but bootstrap.min.css set `[hidden] { display: none !important; }` so we also need the `!important` here to be able to override the default hidden behavior on the sphinx rendered scikit-learn.org. See: https://github.com/scikit-learn/scikit-learn/issues/21755 */display: inline-block !important;position: relative;}#sk-container-id-3 div.sk-text-repr-fallback {display: none;}</style><div id=\"sk-container-id-3\" class=\"sk-top-container\"><div class=\"sk-text-repr-fallback\"><pre>Pipeline(steps=[(&#x27;tfidf&#x27;, TfidfVectorizer(max_df=0.9, min_df=0.01)),\n",
       "                (&#x27;random_forest&#x27;,\n",
       "                 RandomForestClassifier(max_depth=25, min_samples_split=11,\n",
       "                                        n_estimators=500, n_jobs=-1))])</pre><b>In a Jupyter environment, please rerun this cell to show the HTML representation or trust the notebook. <br />On GitHub, the HTML representation is unable to render, please try loading this page with nbviewer.org.</b></div><div class=\"sk-container\" hidden><div class=\"sk-item sk-dashed-wrapped\"><div class=\"sk-label-container\"><div class=\"sk-label sk-toggleable\"><input class=\"sk-toggleable__control sk-hidden--visually\" id=\"sk-estimator-id-7\" type=\"checkbox\" ><label for=\"sk-estimator-id-7\" class=\"sk-toggleable__label sk-toggleable__label-arrow\">Pipeline</label><div class=\"sk-toggleable__content\"><pre>Pipeline(steps=[(&#x27;tfidf&#x27;, TfidfVectorizer(max_df=0.9, min_df=0.01)),\n",
       "                (&#x27;random_forest&#x27;,\n",
       "                 RandomForestClassifier(max_depth=25, min_samples_split=11,\n",
       "                                        n_estimators=500, n_jobs=-1))])</pre></div></div></div><div class=\"sk-serial\"><div class=\"sk-item\"><div class=\"sk-estimator sk-toggleable\"><input class=\"sk-toggleable__control sk-hidden--visually\" id=\"sk-estimator-id-8\" type=\"checkbox\" ><label for=\"sk-estimator-id-8\" class=\"sk-toggleable__label sk-toggleable__label-arrow\">TfidfVectorizer</label><div class=\"sk-toggleable__content\"><pre>TfidfVectorizer(max_df=0.9, min_df=0.01)</pre></div></div></div><div class=\"sk-item\"><div class=\"sk-estimator sk-toggleable\"><input class=\"sk-toggleable__control sk-hidden--visually\" id=\"sk-estimator-id-9\" type=\"checkbox\" ><label for=\"sk-estimator-id-9\" class=\"sk-toggleable__label sk-toggleable__label-arrow\">RandomForestClassifier</label><div class=\"sk-toggleable__content\"><pre>RandomForestClassifier(max_depth=25, min_samples_split=11, n_estimators=500,\n",
       "                       n_jobs=-1)</pre></div></div></div></div></div></div></div>"
      ],
      "text/plain": [
       "Pipeline(steps=[('tfidf', TfidfVectorizer(max_df=0.9, min_df=0.01)),\n",
       "                ('random_forest',\n",
       "                 RandomForestClassifier(max_depth=25, min_samples_split=11,\n",
       "                                        n_estimators=500, n_jobs=-1))])"
      ]
     },
     "execution_count": 23,
     "metadata": {},
     "output_type": "execute_result"
    }
   ],
   "source": [
    "search.best_estimator_"
   ]
  },
  {
   "attachments": {},
   "cell_type": "markdown",
   "metadata": {},
   "source": [
    "We may have reduced the overfitting to a smaller degree, but the accuracy of the model has remained the same. "
   ]
  },
  {
   "cell_type": "code",
   "execution_count": 24,
   "metadata": {},
   "outputs": [],
   "source": [
    "with open(MODEL_PATH / 'random_forest_tf_idf_v1.pkl', 'wb') as file:\n",
    "    joblib.dump(search, file)"
   ]
  },
  {
   "attachments": {},
   "cell_type": "markdown",
   "metadata": {},
   "source": [
    "---"
   ]
  },
  {
   "cell_type": "markdown",
   "metadata": {},
   "source": [
    "# <a id='toc5_'></a>[Modeling With OpenAI Embeddings](#toc0_)"
   ]
  },
  {
   "cell_type": "markdown",
   "metadata": {},
   "source": [
    "## <a id='toc5_1_'></a>[Setting up the Embeddings](#toc0_)\n",
    "\n",
    "To first work with the Ada embeddings we need to first convert the embeddings from a string into an array. This is carried out using the custom `utils.get_ada_embeddings()`. See the `utilities` module for more information on this process."
   ]
  },
  {
   "cell_type": "code",
   "execution_count": 5,
   "metadata": {},
   "outputs": [],
   "source": [
    "# Get the array of the ada embeddings. \n",
    "X_train_embeddings = utils.get_ada_embeddings(X_train_embeddings)\n",
    "X_test_embeddings = utils.get_ada_embeddings(X_test_embeddings)"
   ]
  },
  {
   "cell_type": "code",
   "execution_count": 6,
   "metadata": {},
   "outputs": [
    {
     "data": {
      "text/plain": [
       "((22848, 1536), (5712, 1536))"
      ]
     },
     "execution_count": 6,
     "metadata": {},
     "output_type": "execute_result"
    }
   ],
   "source": [
    "X_train_embeddings.shape, X_test_embeddings.shape"
   ]
  },
  {
   "cell_type": "markdown",
   "metadata": {},
   "source": [
    "## <a id='toc5_2_'></a>[Logistic Regression and Ada Embeddings](#toc0_)"
   ]
  },
  {
   "cell_type": "code",
   "execution_count": 27,
   "metadata": {},
   "outputs": [
    {
     "name": "stdout",
     "output_type": "stream",
     "text": [
      "Fitting 5 folds for each of 14 candidates, totalling 70 fits\n",
      "[CV 3/5] END log_reg__C=0.0001, log_reg__solver=newton-cg;, score=(train=0.352, test=0.347) total time=   9.2s\n",
      "[CV 2/5] END log_reg__C=0.0001, log_reg__solver=newton-cg;, score=(train=0.349, test=0.346) total time=   9.4s\n",
      "[CV 5/5] END log_reg__C=0.0001, log_reg__solver=newton-cg;, score=(train=0.352, test=0.350) total time=   9.4s\n",
      "[CV 4/5] END log_reg__C=0.0001, log_reg__solver=newton-cg;, score=(train=0.343, test=0.345) total time=   9.6s\n",
      "[CV 1/5] END log_reg__C=0.0001, log_reg__solver=newton-cg;, score=(train=0.353, test=0.349) total time=   9.8s\n",
      "[CV 1/5] END log_reg__C=0.001, log_reg__solver=newton-cg;, score=(train=0.380, test=0.375) total time=  10.1s\n",
      "[CV 4/5] END log_reg__C=0.001, log_reg__solver=newton-cg;, score=(train=0.378, test=0.387) total time=  10.3s\n",
      "[CV 2/5] END log_reg__C=0.001, log_reg__solver=newton-cg;, score=(train=0.378, test=0.383) total time=  10.6s\n",
      "[CV 5/5] END log_reg__C=0.001, log_reg__solver=newton-cg;, score=(train=0.384, test=0.362) total time=  10.8s\n",
      "[CV 3/5] END log_reg__C=0.001, log_reg__solver=newton-cg;, score=(train=0.378, test=0.383) total time=  10.9s\n",
      "[CV 1/5] END log_reg__C=0.01, log_reg__solver=newton-cg;, score=(train=0.411, test=0.403) total time=   4.2s\n",
      "[CV 4/5] END log_reg__C=0.01, log_reg__solver=newton-cg;, score=(train=0.412, test=0.413) total time=   4.7s\n",
      "[CV 2/5] END log_reg__C=0.01, log_reg__solver=newton-cg;, score=(train=0.414, test=0.408) total time=   5.2s\n",
      "[CV 3/5] END log_reg__C=0.01, log_reg__solver=newton-cg;, score=(train=0.412, test=0.411) total time=   5.1s\n",
      "[CV 5/5] END log_reg__C=0.01, log_reg__solver=newton-cg;, score=(train=0.416, test=0.397) total time=   6.0s\n",
      "[CV 1/5] END log_reg__C=0.0001, log_reg__solver=saga;, score=(train=0.353, test=0.349) total time=  17.2s\n",
      "[CV 4/5] END log_reg__C=0.0001, log_reg__solver=saga;, score=(train=0.343, test=0.345) total time=  17.1s\n",
      "[CV 2/5] END log_reg__C=0.0001, log_reg__solver=saga;, score=(train=0.350, test=0.346) total time=  18.0s\n",
      "[CV 3/5] END log_reg__C=0.0001, log_reg__solver=saga;, score=(train=0.352, test=0.348) total time=  18.2s\n",
      "[CV 5/5] END log_reg__C=0.0001, log_reg__solver=saga;, score=(train=0.352, test=0.350) total time=  18.2s\n",
      "[CV 5/5] END log_reg__C=0.001, log_reg__solver=saga;, score=(train=0.384, test=0.362) total time=  19.0s\n",
      "[CV 3/5] END log_reg__C=0.001, log_reg__solver=saga;, score=(train=0.378, test=0.383) total time=  19.4s\n",
      "[CV 1/5] END log_reg__C=0.001, log_reg__solver=saga;, score=(train=0.380, test=0.375) total time=  19.7s\n",
      "[CV 4/5] END log_reg__C=0.001, log_reg__solver=saga;, score=(train=0.378, test=0.387) total time=  19.9s\n",
      "[CV 2/5] END log_reg__C=0.001, log_reg__solver=saga;, score=(train=0.378, test=0.383) total time=  20.3s\n",
      "[CV 1/5] END log_reg__C=0.1, log_reg__solver=newton-cg;, score=(train=0.434, test=0.419) total time=   9.3s\n",
      "[CV 2/5] END log_reg__C=0.1, log_reg__solver=newton-cg;, score=(train=0.436, test=0.425) total time=   8.6s\n",
      "[CV 3/5] END log_reg__C=0.1, log_reg__solver=newton-cg;, score=(train=0.437, test=0.418) total time=   8.6s\n",
      "[CV 2/5] END log_reg__C=0.01, log_reg__solver=saga;, score=(train=0.414, test=0.408) total time=  13.9s\n",
      "[CV 5/5] END log_reg__C=0.1, log_reg__solver=newton-cg;, score=(train=0.436, test=0.406) total time=   8.3s\n",
      "[CV 4/5] END log_reg__C=0.1, log_reg__solver=newton-cg;, score=(train=0.436, test=0.425) total time=  10.0s\n",
      "[CV 3/5] END log_reg__C=0.01, log_reg__solver=saga;, score=(train=0.412, test=0.411) total time=  14.3s\n",
      "[CV 1/5] END log_reg__C=0.01, log_reg__solver=saga;, score=(train=0.411, test=0.403) total time=  15.3s\n",
      "[CV 5/5] END log_reg__C=0.01, log_reg__solver=saga;, score=(train=0.416, test=0.397) total time=  15.0s\n",
      "[CV 4/5] END log_reg__C=0.01, log_reg__solver=saga;, score=(train=0.412, test=0.413) total time=  16.4s\n",
      "[CV 3/5] END log_reg__C=0.1, log_reg__solver=saga;, score=(train=0.437, test=0.418) total time=  13.4s\n",
      "[CV 4/5] END log_reg__C=0.1, log_reg__solver=saga;, score=(train=0.436, test=0.425) total time=  13.4s\n",
      "[CV 2/5] END log_reg__C=0.1, log_reg__solver=saga;, score=(train=0.436, test=0.425) total time=  14.6s\n",
      "[CV 5/5] END log_reg__C=0.1, log_reg__solver=saga;, score=(train=0.436, test=0.406) total time=  13.9s\n",
      "[CV 1/5] END log_reg__C=0.1, log_reg__solver=saga;, score=(train=0.434, test=0.419) total time=  15.1s\n",
      "[CV 2/5] END log_reg__C=1, log_reg__solver=saga;, score=(train=0.474, test=0.424) total time=  13.3s\n",
      "[CV 1/5] END log_reg__C=1, log_reg__solver=saga;, score=(train=0.475, test=0.421) total time=  14.0s\n",
      "[CV 3/5] END log_reg__C=1, log_reg__solver=saga;, score=(train=0.474, test=0.412) total time=  13.4s\n",
      "[CV 2/5] END log_reg__C=1, log_reg__solver=newton-cg;, score=(train=0.474, test=0.424) total time=  18.1s\n",
      "[CV 4/5] END log_reg__C=1, log_reg__solver=newton-cg;, score=(train=0.473, test=0.412) total time=  17.8s\n",
      "[CV 4/5] END log_reg__C=1, log_reg__solver=saga;, score=(train=0.473, test=0.412) total time=  13.8s\n",
      "[CV 5/5] END log_reg__C=1, log_reg__solver=saga;, score=(train=0.475, test=0.422) total time=  14.0s\n",
      "[CV 1/5] END log_reg__C=1, log_reg__solver=newton-cg;, score=(train=0.475, test=0.421) total time=  19.7s\n",
      "[CV 3/5] END log_reg__C=1, log_reg__solver=newton-cg;, score=(train=0.474, test=0.413) total time=  19.4s\n",
      "[CV 5/5] END log_reg__C=1, log_reg__solver=newton-cg;, score=(train=0.475, test=0.422) total time=  22.5s\n",
      "[CV 3/5] END log_reg__C=10, log_reg__solver=newton-cg;, score=(train=0.511, test=0.388) total time=  30.4s\n",
      "[CV 1/5] END log_reg__C=10, log_reg__solver=newton-cg;, score=(train=0.512, test=0.409) total time=  30.8s\n",
      "[CV 5/5] END log_reg__C=10, log_reg__solver=newton-cg;, score=(train=0.510, test=0.398) total time=  28.6s\n",
      "[CV 4/5] END log_reg__C=10, log_reg__solver=newton-cg;, score=(train=0.509, test=0.408) total time=  31.9s\n",
      "[CV 2/5] END log_reg__C=10, log_reg__solver=newton-cg;, score=(train=0.510, test=0.405) total time=  34.0s\n",
      "[CV 3/5] END log_reg__C=10, log_reg__solver=saga;, score=(train=0.511, test=0.388) total time=  31.5s\n",
      "[CV 1/5] END log_reg__C=10, log_reg__solver=saga;, score=(train=0.512, test=0.409) total time=  32.9s\n",
      "[CV 2/5] END log_reg__C=10, log_reg__solver=saga;, score=(train=0.510, test=0.405) total time=  33.8s\n",
      "[CV 4/5] END log_reg__C=10, log_reg__solver=saga;, score=(train=0.509, test=0.408) total time=  33.3s\n",
      "[CV 5/5] END log_reg__C=10, log_reg__solver=saga;, score=(train=0.510, test=0.398) total time=  34.7s\n",
      "[CV 5/5] END log_reg__C=100, log_reg__solver=newton-cg;, score=(train=0.528, test=0.391) total time=  38.1s\n",
      "[CV 3/5] END log_reg__C=100, log_reg__solver=newton-cg;, score=(train=0.532, test=0.393) total time=  40.3s\n",
      "[CV 2/5] END log_reg__C=100, log_reg__solver=newton-cg;, score=(train=0.528, test=0.404) total time=  41.3s\n",
      "[CV 1/5] END log_reg__C=100, log_reg__solver=newton-cg;, score=(train=0.532, test=0.397) total time=  42.4s\n",
      "[CV 4/5] END log_reg__C=100, log_reg__solver=newton-cg;, score=(train=0.528, test=0.401) total time=  42.3s\n",
      "[CV 3/5] END log_reg__C=100, log_reg__solver=saga;, score=(train=0.532, test=0.393) total time= 1.4min\n",
      "[CV 2/5] END log_reg__C=100, log_reg__solver=saga;, score=(train=0.528, test=0.404) total time= 1.5min\n",
      "[CV 4/5] END log_reg__C=100, log_reg__solver=saga;, score=(train=0.528, test=0.401) total time= 1.5min\n",
      "[CV 1/5] END log_reg__C=100, log_reg__solver=saga;, score=(train=0.532, test=0.397) total time= 1.5min\n",
      "[CV 5/5] END log_reg__C=100, log_reg__solver=saga;, score=(train=0.528, test=0.391) total time= 1.4min\n"
     ]
    },
    {
     "data": {
      "text/plain": [
       "0.42016806722689076"
      ]
     },
     "execution_count": 27,
     "metadata": {},
     "output_type": "execute_result"
    }
   ],
   "source": [
    "vectorizer = TfidfVectorizer(max_df=0.9, \n",
    "                             min_df=0.01\n",
    "                             )\n",
    "\n",
    "log_reg = LogisticRegression(penalty='l2', max_iter=500)\n",
    "\n",
    "\n",
    "pipe = Pipeline(steps=\n",
    "                [\n",
    "                    ('log_reg', log_reg)\n",
    "                ]\n",
    "            )\n",
    "\n",
    "param_grid = {\n",
    "    'log_reg__C':[0.0001, 0.001, 0.01, 0.1, 1, 10, 100],\n",
    "    'log_reg__solver':['newton-cg', 'saga']\n",
    "}\n",
    "\n",
    "search = GridSearchCV(pipe, param_grid, n_jobs=-1, cv=5, verbose=3, return_train_score=True)\n",
    "search.fit(X_train_embeddings, y_train)\n",
    "search.score(X_test_embeddings, y_test)"
   ]
  },
  {
   "cell_type": "code",
   "execution_count": 28,
   "metadata": {},
   "outputs": [
    {
     "data": {
      "text/html": [
       "<style>#sk-container-id-4 {color: black;background-color: white;}#sk-container-id-4 pre{padding: 0;}#sk-container-id-4 div.sk-toggleable {background-color: white;}#sk-container-id-4 label.sk-toggleable__label {cursor: pointer;display: block;width: 100%;margin-bottom: 0;padding: 0.3em;box-sizing: border-box;text-align: center;}#sk-container-id-4 label.sk-toggleable__label-arrow:before {content: \"▸\";float: left;margin-right: 0.25em;color: #696969;}#sk-container-id-4 label.sk-toggleable__label-arrow:hover:before {color: black;}#sk-container-id-4 div.sk-estimator:hover label.sk-toggleable__label-arrow:before {color: black;}#sk-container-id-4 div.sk-toggleable__content {max-height: 0;max-width: 0;overflow: hidden;text-align: left;background-color: #f0f8ff;}#sk-container-id-4 div.sk-toggleable__content pre {margin: 0.2em;color: black;border-radius: 0.25em;background-color: #f0f8ff;}#sk-container-id-4 input.sk-toggleable__control:checked~div.sk-toggleable__content {max-height: 200px;max-width: 100%;overflow: auto;}#sk-container-id-4 input.sk-toggleable__control:checked~label.sk-toggleable__label-arrow:before {content: \"▾\";}#sk-container-id-4 div.sk-estimator input.sk-toggleable__control:checked~label.sk-toggleable__label {background-color: #d4ebff;}#sk-container-id-4 div.sk-label input.sk-toggleable__control:checked~label.sk-toggleable__label {background-color: #d4ebff;}#sk-container-id-4 input.sk-hidden--visually {border: 0;clip: rect(1px 1px 1px 1px);clip: rect(1px, 1px, 1px, 1px);height: 1px;margin: -1px;overflow: hidden;padding: 0;position: absolute;width: 1px;}#sk-container-id-4 div.sk-estimator {font-family: monospace;background-color: #f0f8ff;border: 1px dotted black;border-radius: 0.25em;box-sizing: border-box;margin-bottom: 0.5em;}#sk-container-id-4 div.sk-estimator:hover {background-color: #d4ebff;}#sk-container-id-4 div.sk-parallel-item::after {content: \"\";width: 100%;border-bottom: 1px solid gray;flex-grow: 1;}#sk-container-id-4 div.sk-label:hover label.sk-toggleable__label {background-color: #d4ebff;}#sk-container-id-4 div.sk-serial::before {content: \"\";position: absolute;border-left: 1px solid gray;box-sizing: border-box;top: 0;bottom: 0;left: 50%;z-index: 0;}#sk-container-id-4 div.sk-serial {display: flex;flex-direction: column;align-items: center;background-color: white;padding-right: 0.2em;padding-left: 0.2em;position: relative;}#sk-container-id-4 div.sk-item {position: relative;z-index: 1;}#sk-container-id-4 div.sk-parallel {display: flex;align-items: stretch;justify-content: center;background-color: white;position: relative;}#sk-container-id-4 div.sk-item::before, #sk-container-id-4 div.sk-parallel-item::before {content: \"\";position: absolute;border-left: 1px solid gray;box-sizing: border-box;top: 0;bottom: 0;left: 50%;z-index: -1;}#sk-container-id-4 div.sk-parallel-item {display: flex;flex-direction: column;z-index: 1;position: relative;background-color: white;}#sk-container-id-4 div.sk-parallel-item:first-child::after {align-self: flex-end;width: 50%;}#sk-container-id-4 div.sk-parallel-item:last-child::after {align-self: flex-start;width: 50%;}#sk-container-id-4 div.sk-parallel-item:only-child::after {width: 0;}#sk-container-id-4 div.sk-dashed-wrapped {border: 1px dashed gray;margin: 0 0.4em 0.5em 0.4em;box-sizing: border-box;padding-bottom: 0.4em;background-color: white;}#sk-container-id-4 div.sk-label label {font-family: monospace;font-weight: bold;display: inline-block;line-height: 1.2em;}#sk-container-id-4 div.sk-label-container {text-align: center;}#sk-container-id-4 div.sk-container {/* jupyter's `normalize.less` sets `[hidden] { display: none; }` but bootstrap.min.css set `[hidden] { display: none !important; }` so we also need the `!important` here to be able to override the default hidden behavior on the sphinx rendered scikit-learn.org. See: https://github.com/scikit-learn/scikit-learn/issues/21755 */display: inline-block !important;position: relative;}#sk-container-id-4 div.sk-text-repr-fallback {display: none;}</style><div id=\"sk-container-id-4\" class=\"sk-top-container\"><div class=\"sk-text-repr-fallback\"><pre>Pipeline(steps=[(&#x27;log_reg&#x27;,\n",
       "                 LogisticRegression(C=0.1, max_iter=500, solver=&#x27;newton-cg&#x27;))])</pre><b>In a Jupyter environment, please rerun this cell to show the HTML representation or trust the notebook. <br />On GitHub, the HTML representation is unable to render, please try loading this page with nbviewer.org.</b></div><div class=\"sk-container\" hidden><div class=\"sk-item sk-dashed-wrapped\"><div class=\"sk-label-container\"><div class=\"sk-label sk-toggleable\"><input class=\"sk-toggleable__control sk-hidden--visually\" id=\"sk-estimator-id-10\" type=\"checkbox\" ><label for=\"sk-estimator-id-10\" class=\"sk-toggleable__label sk-toggleable__label-arrow\">Pipeline</label><div class=\"sk-toggleable__content\"><pre>Pipeline(steps=[(&#x27;log_reg&#x27;,\n",
       "                 LogisticRegression(C=0.1, max_iter=500, solver=&#x27;newton-cg&#x27;))])</pre></div></div></div><div class=\"sk-serial\"><div class=\"sk-item\"><div class=\"sk-estimator sk-toggleable\"><input class=\"sk-toggleable__control sk-hidden--visually\" id=\"sk-estimator-id-11\" type=\"checkbox\" ><label for=\"sk-estimator-id-11\" class=\"sk-toggleable__label sk-toggleable__label-arrow\">LogisticRegression</label><div class=\"sk-toggleable__content\"><pre>LogisticRegression(C=0.1, max_iter=500, solver=&#x27;newton-cg&#x27;)</pre></div></div></div></div></div></div></div>"
      ],
      "text/plain": [
       "Pipeline(steps=[('log_reg',\n",
       "                 LogisticRegression(C=0.1, max_iter=500, solver='newton-cg'))])"
      ]
     },
     "execution_count": 28,
     "metadata": {},
     "output_type": "execute_result"
    }
   ],
   "source": [
    "search.best_estimator_"
   ]
  },
  {
   "cell_type": "code",
   "execution_count": 29,
   "metadata": {},
   "outputs": [],
   "source": [
    "with open(MODEL_PATH / 'log_reg_ada_pca.pkl', 'wb') as file:\n",
    "    joblib.dump(search, file)"
   ]
  },
  {
   "cell_type": "markdown",
   "metadata": {},
   "source": [
    "## <a id='toc5_3_'></a>[Logsitic Regression with PCA Components of the Ada Embeddings](#toc0_)"
   ]
  },
  {
   "attachments": {},
   "cell_type": "markdown",
   "metadata": {},
   "source": [
    "We will now try to dimensionality reduce the Ada embeddings with PCA and see if this improves our logistic regression model. We will also try to vary the number of components to see if this has any affect on model performance. From the above parameter search, we can see that a `C` of 0.0001 seems to impact the model negatively, so we will remove it from the parameter search. "
   ]
  },
  {
   "cell_type": "code",
   "execution_count": 7,
   "metadata": {},
   "outputs": [],
   "source": [
    "from sklearn.decomposition import PCA"
   ]
  },
  {
   "cell_type": "code",
   "execution_count": 8,
   "metadata": {},
   "outputs": [
    {
     "name": "stdout",
     "output_type": "stream",
     "text": [
      "Fitting 5 folds for each of 36 candidates, totalling 180 fits\n",
      "[CV 1/5] END log_reg__C=0.001, log_reg__solver=newton-cg, pca__n_components=10;, score=(train=0.378, test=0.372) total time=   4.0s\n",
      "[CV 1/5] END log_reg__C=0.001, log_reg__solver=saga, pca__n_components=10;, score=(train=0.378, test=0.372) total time=   4.4s\n",
      "[CV 3/5] END log_reg__C=0.001, log_reg__solver=saga, pca__n_components=10;, score=(train=0.376, test=0.382) total time=   4.4s\n",
      "[CV 4/5] END log_reg__C=0.001, log_reg__solver=saga, pca__n_components=10;, score=(train=0.376, test=0.387) total time=   4.6s\n",
      "[CV 2/5] END log_reg__C=0.001, log_reg__solver=newton-cg, pca__n_components=10;, score=(train=0.377, test=0.384) total time=   4.5s\n",
      "[CV 2/5] END log_reg__C=0.001, log_reg__solver=saga, pca__n_components=10;, score=(train=0.377, test=0.384) total time=   4.7s\n",
      "[CV 3/5] END log_reg__C=0.001, log_reg__solver=saga, pca__n_components=15;, score=(train=0.376, test=0.383) total time=   4.9s\n",
      "[CV 1/5] END log_reg__C=0.001, log_reg__solver=saga, pca__n_components=15;, score=(train=0.378, test=0.373) total time=   4.8s\n",
      "[CV 4/5] END log_reg__C=0.001, log_reg__solver=saga, pca__n_components=15;, score=(train=0.376, test=0.388) total time=   5.1s\n",
      "[CV 1/5] END log_reg__C=0.001, log_reg__solver=saga, pca__n_components=20;, score=(train=0.378, test=0.373) total time=   5.1s\n",
      "[CV 4/5] END log_reg__C=0.001, log_reg__solver=newton-cg, pca__n_components=10;, score=(train=0.376, test=0.386) total time=   4.5s\n",
      "[CV 5/5] END log_reg__C=0.001, log_reg__solver=saga, pca__n_components=10;, score=(train=0.382, test=0.359) total time=   5.2s\n",
      "[CV 5/5] END log_reg__C=0.001, log_reg__solver=newton-cg, pca__n_components=10;, score=(train=0.382, test=0.359) total time=   4.6s\n",
      "[CV 3/5] END log_reg__C=0.001, log_reg__solver=newton-cg, pca__n_components=10;, score=(train=0.376, test=0.383) total time=   5.1s\n",
      "[CV 2/5] END log_reg__C=0.001, log_reg__solver=saga, pca__n_components=15;, score=(train=0.377, test=0.381) total time=   6.5s\n",
      "[CV 4/5] END log_reg__C=0.001, log_reg__solver=saga, pca__n_components=20;, score=(train=0.377, test=0.387) total time=   6.2s\n",
      "[CV 2/5] END log_reg__C=0.001, log_reg__solver=saga, pca__n_components=20;, score=(train=0.376, test=0.382) total time=   6.6s\n",
      "[CV 3/5] END log_reg__C=0.001, log_reg__solver=saga, pca__n_components=20;, score=(train=0.376, test=0.383) total time=   6.7s\n",
      "[CV 5/5] END log_reg__C=0.001, log_reg__solver=saga, pca__n_components=15;, score=(train=0.382, test=0.360) total time=   6.7s\n",
      "[CV 5/5] END log_reg__C=0.001, log_reg__solver=saga, pca__n_components=20;, score=(train=0.383, test=0.360) total time=   7.1s\n",
      "[CV 1/5] END log_reg__C=0.001, log_reg__solver=newton-cg, pca__n_components=15;, score=(train=0.378, test=0.374) total time=   4.1s\n",
      "[CV 2/5] END log_reg__C=0.001, log_reg__solver=newton-cg, pca__n_components=15;, score=(train=0.377, test=0.382) total time=   4.0s\n",
      "[CV 3/5] END log_reg__C=0.001, log_reg__solver=newton-cg, pca__n_components=15;, score=(train=0.377, test=0.383) total time=   4.0s\n"
     ]
    },
    {
     "name": "stderr",
     "output_type": "stream",
     "text": [
      "/home/jng/anaconda3/lib/python3.9/site-packages/scipy/optimize/_linesearch.py:415: LineSearchWarning: Rounding errors prevent the line search from converging\n",
      "  warn(msg, LineSearchWarning)\n",
      "/home/jng/anaconda3/lib/python3.9/site-packages/scipy/optimize/_linesearch.py:305: LineSearchWarning: The line search algorithm did not converge\n",
      "  warn('The line search algorithm did not converge', LineSearchWarning)\n",
      "/home/jng/anaconda3/lib/python3.9/site-packages/sklearn/utils/optimize.py:203: UserWarning: Line Search failed\n",
      "  warnings.warn(\"Line Search failed\")\n"
     ]
    },
    {
     "name": "stdout",
     "output_type": "stream",
     "text": [
      "[CV 4/5] END log_reg__C=0.001, log_reg__solver=newton-cg, pca__n_components=20;, score=(train=0.376, test=0.387) total time=   4.3s\n",
      "[CV 3/5] END log_reg__C=0.001, log_reg__solver=newton-cg, pca__n_components=20;, score=(train=0.376, test=0.383) total time=   4.5s\n",
      "[CV 1/5] END log_reg__C=0.001, log_reg__solver=newton-cg, pca__n_components=20;, score=(train=0.378, test=0.373) total time=   4.6s\n",
      "[CV 4/5] END log_reg__C=0.01, log_reg__solver=saga, pca__n_components=10;, score=(train=0.404, test=0.414) total time=   4.6s\n",
      "[CV 5/5] END log_reg__C=0.001, log_reg__solver=newton-cg, pca__n_components=15;, score=(train=0.382, test=0.360) total time=   5.8s\n",
      "[CV 2/5] END log_reg__C=0.01, log_reg__solver=saga, pca__n_components=10;, score=(train=0.405, test=0.404) total time=   5.4s\n",
      "[CV 3/5] END log_reg__C=0.01, log_reg__solver=saga, pca__n_components=10;, score=(train=0.404, test=0.404) total time=   5.2s\n",
      "[CV 4/5] END log_reg__C=0.001, log_reg__solver=newton-cg, pca__n_components=15;, score=(train=0.376, test=0.387) total time=   6.1s\n",
      "[CV 2/5] END log_reg__C=0.001, log_reg__solver=newton-cg, pca__n_components=20;, score=(train=0.376, test=0.382) total time=   6.5s\n",
      "[CV 5/5] END log_reg__C=0.001, log_reg__solver=newton-cg, pca__n_components=20;, score=(train=0.383, test=0.360) total time=   6.3s\n",
      "[CV 1/5] END log_reg__C=0.01, log_reg__solver=saga, pca__n_components=10;, score=(train=0.403, test=0.400) total time=   6.4s\n",
      "[CV 5/5] END log_reg__C=0.01, log_reg__solver=saga, pca__n_components=15;, score=(train=0.409, test=0.394) total time=   4.8s\n",
      "[CV 5/5] END log_reg__C=0.01, log_reg__solver=saga, pca__n_components=10;, score=(train=0.408, test=0.392) total time=   5.5s\n",
      "[CV 2/5] END log_reg__C=0.01, log_reg__solver=saga, pca__n_components=20;, score=(train=0.409, test=0.404) total time=   4.5s\n",
      "[CV 1/5] END log_reg__C=0.01, log_reg__solver=saga, pca__n_components=15;, score=(train=0.405, test=0.402) total time=   6.3s\n",
      "[CV 2/5] END log_reg__C=0.01, log_reg__solver=saga, pca__n_components=15;, score=(train=0.407, test=0.403) total time=   6.4s\n",
      "[CV 3/5] END log_reg__C=0.01, log_reg__solver=saga, pca__n_components=15;, score=(train=0.407, test=0.406) total time=   7.1s\n",
      "[CV 5/5] END log_reg__C=0.01, log_reg__solver=saga, pca__n_components=20;, score=(train=0.411, test=0.395) total time=   4.3s\n",
      "[CV 4/5] END log_reg__C=0.01, log_reg__solver=saga, pca__n_components=20;, score=(train=0.404, test=0.416) total time=   4.5s\n",
      "[CV 2/5] END log_reg__C=0.01, log_reg__solver=newton-cg, pca__n_components=10;, score=(train=0.405, test=0.405) total time=   3.7s\n",
      "[CV 4/5] END log_reg__C=0.01, log_reg__solver=saga, pca__n_components=15;, score=(train=0.404, test=0.415) total time=   7.4s\n",
      "[CV 5/5] END log_reg__C=0.01, log_reg__solver=newton-cg, pca__n_components=10;, score=(train=0.408, test=0.392) total time=   3.7s\n",
      "[CV 4/5] END log_reg__C=0.01, log_reg__solver=newton-cg, pca__n_components=10;, score=(train=0.404, test=0.414) total time=   3.7s\n",
      "[CV 1/5] END log_reg__C=0.01, log_reg__solver=newton-cg, pca__n_components=10;, score=(train=0.404, test=0.400) total time=   5.5s\n",
      "[CV 1/5] END log_reg__C=0.01, log_reg__solver=saga, pca__n_components=20;, score=(train=0.405, test=0.403) total time=   7.0s\n",
      "[CV 3/5] END log_reg__C=0.01, log_reg__solver=saga, pca__n_components=20;, score=(train=0.407, test=0.407) total time=   7.3s\n",
      "[CV 3/5] END log_reg__C=0.01, log_reg__solver=newton-cg, pca__n_components=10;, score=(train=0.404, test=0.404) total time=   5.3s\n",
      "[CV 5/5] END log_reg__C=0.01, log_reg__solver=newton-cg, pca__n_components=15;, score=(train=0.409, test=0.394) total time=   4.2s\n",
      "[CV 1/5] END log_reg__C=0.01, log_reg__solver=newton-cg, pca__n_components=15;, score=(train=0.405, test=0.403) total time=   5.8s\n",
      "[CV 2/5] END log_reg__C=0.01, log_reg__solver=newton-cg, pca__n_components=15;, score=(train=0.407, test=0.403) total time=   5.2s\n",
      "[CV 2/5] END log_reg__C=0.01, log_reg__solver=newton-cg, pca__n_components=20;, score=(train=0.409, test=0.404) total time=   4.2s\n",
      "[CV 3/5] END log_reg__C=0.01, log_reg__solver=newton-cg, pca__n_components=15;, score=(train=0.406, test=0.406) total time=   5.7s\n",
      "[CV 4/5] END log_reg__C=0.01, log_reg__solver=newton-cg, pca__n_components=15;, score=(train=0.404, test=0.414) total time=   5.8s\n",
      "[CV 1/5] END log_reg__C=0.1, log_reg__solver=saga, pca__n_components=10;, score=(train=0.411, test=0.411) total time=   3.9s\n",
      "[CV 2/5] END log_reg__C=0.1, log_reg__solver=saga, pca__n_components=10;, score=(train=0.412, test=0.413) total time=   4.0s\n",
      "[CV 1/5] END log_reg__C=0.01, log_reg__solver=newton-cg, pca__n_components=20;, score=(train=0.405, test=0.403) total time=   5.7s\n",
      "[CV 3/5] END log_reg__C=0.1, log_reg__solver=saga, pca__n_components=10;, score=(train=0.410, test=0.413) total time=   4.1s\n",
      "[CV 5/5] END log_reg__C=0.1, log_reg__solver=saga, pca__n_components=10;, score=(train=0.417, test=0.395) total time=   4.1s\n",
      "[CV 3/5] END log_reg__C=0.01, log_reg__solver=newton-cg, pca__n_components=20;, score=(train=0.407, test=0.407) total time=   5.7s\n",
      "[CV 4/5] END log_reg__C=0.1, log_reg__solver=saga, pca__n_components=10;, score=(train=0.411, test=0.416) total time=   4.7s\n",
      "[CV 4/5] END log_reg__C=0.01, log_reg__solver=newton-cg, pca__n_components=20;, score=(train=0.404, test=0.414) total time=   5.9s\n",
      "[CV 1/5] END log_reg__C=0.1, log_reg__solver=saga, pca__n_components=15;, score=(train=0.413, test=0.409) total time=   4.6s\n",
      "[CV 5/5] END log_reg__C=0.01, log_reg__solver=newton-cg, pca__n_components=20;, score=(train=0.411, test=0.395) total time=   5.8s\n",
      "[CV 2/5] END log_reg__C=0.1, log_reg__solver=saga, pca__n_components=15;, score=(train=0.415, test=0.414) total time=   5.4s\n",
      "[CV 1/5] END log_reg__C=0.1, log_reg__solver=saga, pca__n_components=20;, score=(train=0.414, test=0.412) total time=   4.7s\n",
      "[CV 3/5] END log_reg__C=0.1, log_reg__solver=saga, pca__n_components=15;, score=(train=0.414, test=0.415) total time=   5.9s\n",
      "[CV 4/5] END log_reg__C=0.1, log_reg__solver=saga, pca__n_components=15;, score=(train=0.414, test=0.416) total time=   5.5s\n",
      "[CV 2/5] END log_reg__C=0.1, log_reg__solver=newton-cg, pca__n_components=10;, score=(train=0.412, test=0.413) total time=   3.7s\n",
      "[CV 5/5] END log_reg__C=0.1, log_reg__solver=saga, pca__n_components=15;, score=(train=0.417, test=0.401) total time=   5.7s\n",
      "[CV 3/5] END log_reg__C=0.1, log_reg__solver=newton-cg, pca__n_components=10;, score=(train=0.409, test=0.410) total time=   3.7s\n",
      "[CV 4/5] END log_reg__C=0.1, log_reg__solver=saga, pca__n_components=20;, score=(train=0.416, test=0.420) total time=   4.6s\n",
      "[CV 5/5] END log_reg__C=0.1, log_reg__solver=newton-cg, pca__n_components=10;, score=(train=0.416, test=0.394) total time=   3.7s\n",
      "[CV 1/5] END log_reg__C=0.1, log_reg__solver=newton-cg, pca__n_components=15;, score=(train=0.413, test=0.411) total time=   4.0s\n",
      "[CV 3/5] END log_reg__C=0.1, log_reg__solver=saga, pca__n_components=20;, score=(train=0.416, test=0.418) total time=   6.1s\n",
      "[CV 4/5] END log_reg__C=0.1, log_reg__solver=newton-cg, pca__n_components=10;, score=(train=0.411, test=0.416) total time=   5.0s\n",
      "[CV 2/5] END log_reg__C=0.1, log_reg__solver=saga, pca__n_components=20;, score=(train=0.419, test=0.415) total time=   6.7s\n",
      "[CV 1/5] END log_reg__C=0.1, log_reg__solver=newton-cg, pca__n_components=10;, score=(train=0.411, test=0.411) total time=   5.4s\n",
      "[CV 5/5] END log_reg__C=0.1, log_reg__solver=newton-cg, pca__n_components=15;, score=(train=0.416, test=0.401) total time=   4.1s\n",
      "[CV 5/5] END log_reg__C=0.1, log_reg__solver=saga, pca__n_components=20;, score=(train=0.418, test=0.404) total time=   6.1s\n",
      "[CV 2/5] END log_reg__C=0.1, log_reg__solver=newton-cg, pca__n_components=15;, score=(train=0.416, test=0.413) total time=   5.4s\n",
      "[CV 3/5] END log_reg__C=0.1, log_reg__solver=newton-cg, pca__n_components=15;, score=(train=0.413, test=0.416) total time=   5.5s\n",
      "[CV 4/5] END log_reg__C=0.1, log_reg__solver=newton-cg, pca__n_components=15;, score=(train=0.415, test=0.420) total time=   5.5s\n",
      "[CV 1/5] END log_reg__C=0.1, log_reg__solver=newton-cg, pca__n_components=20;, score=(train=0.415, test=0.412) total time=   5.3s\n",
      "[CV 1/5] END log_reg__C=1, log_reg__solver=saga, pca__n_components=10;, score=(train=0.414, test=0.409) total time=   4.0s\n",
      "[CV 3/5] END log_reg__C=0.1, log_reg__solver=newton-cg, pca__n_components=20;, score=(train=0.416, test=0.418) total time=   4.9s\n",
      "[CV 3/5] END log_reg__C=1, log_reg__solver=saga, pca__n_components=10;, score=(train=0.414, test=0.412) total time=   4.1s\n",
      "[CV 4/5] END log_reg__C=1, log_reg__solver=saga, pca__n_components=10;, score=(train=0.412, test=0.423) total time=   4.1s\n",
      "[CV 5/5] END log_reg__C=1, log_reg__solver=saga, pca__n_components=10;, score=(train=0.418, test=0.401) total time=   4.1s\n",
      "[CV 2/5] END log_reg__C=0.1, log_reg__solver=newton-cg, pca__n_components=20;, score=(train=0.418, test=0.416) total time=   5.7s\n",
      "[CV 2/5] END log_reg__C=1, log_reg__solver=saga, pca__n_components=10;, score=(train=0.416, test=0.414) total time=   4.8s\n",
      "[CV 4/5] END log_reg__C=0.1, log_reg__solver=newton-cg, pca__n_components=20;, score=(train=0.416, test=0.420) total time=   5.3s\n",
      "[CV 5/5] END log_reg__C=0.1, log_reg__solver=newton-cg, pca__n_components=20;, score=(train=0.418, test=0.404) total time=   5.5s\n",
      "[CV 1/5] END log_reg__C=1, log_reg__solver=saga, pca__n_components=15;, score=(train=0.415, test=0.414) total time=   4.6s\n",
      "[CV 1/5] END log_reg__C=1, log_reg__solver=saga, pca__n_components=20;, score=(train=0.417, test=0.416) total time=   4.8s\n",
      "[CV 2/5] END log_reg__C=1, log_reg__solver=saga, pca__n_components=15;, score=(train=0.419, test=0.415) total time=   5.4s\n",
      "[CV 3/5] END log_reg__C=1, log_reg__solver=saga, pca__n_components=15;, score=(train=0.417, test=0.414) total time=   5.4s\n",
      "[CV 4/5] END log_reg__C=1, log_reg__solver=saga, pca__n_components=15;, score=(train=0.416, test=0.420) total time=   5.3s\n",
      "[CV 5/5] END log_reg__C=1, log_reg__solver=saga, pca__n_components=15;, score=(train=0.418, test=0.407) total time=   5.5s\n",
      "[CV 2/5] END log_reg__C=1, log_reg__solver=saga, pca__n_components=20;, score=(train=0.420, test=0.417) total time=   5.6s\n",
      "[CV 1/5] END log_reg__C=1, log_reg__solver=newton-cg, pca__n_components=10;, score=(train=0.414, test=0.409) total time=   4.1s\n",
      "[CV 2/5] END log_reg__C=1, log_reg__solver=newton-cg, pca__n_components=10;, score=(train=0.416, test=0.414) total time=   3.9s\n",
      "[CV 4/5] END log_reg__C=1, log_reg__solver=newton-cg, pca__n_components=10;, score=(train=0.412, test=0.423) total time=   3.9s\n",
      "[CV 3/5] END log_reg__C=1, log_reg__solver=saga, pca__n_components=20;, score=(train=0.416, test=0.419) total time=   5.6s\n",
      "[CV 5/5] END log_reg__C=1, log_reg__solver=newton-cg, pca__n_components=10;, score=(train=0.417, test=0.403) total time=   3.9s\n",
      "[CV 3/5] END log_reg__C=1, log_reg__solver=newton-cg, pca__n_components=10;, score=(train=0.414, test=0.412) total time=   4.3s\n",
      "[CV 5/5] END log_reg__C=1, log_reg__solver=saga, pca__n_components=20;, score=(train=0.421, test=0.407) total time=   5.7s\n",
      "[CV 4/5] END log_reg__C=1, log_reg__solver=saga, pca__n_components=20;, score=(train=0.419, test=0.417) total time=   5.7s\n",
      "[CV 1/5] END log_reg__C=1, log_reg__solver=newton-cg, pca__n_components=15;, score=(train=0.415, test=0.412) total time=   4.3s\n",
      "[CV 3/5] END log_reg__C=1, log_reg__solver=newton-cg, pca__n_components=15;, score=(train=0.416, test=0.416) total time=   5.2s\n",
      "[CV 1/5] END log_reg__C=1, log_reg__solver=newton-cg, pca__n_components=20;, score=(train=0.416, test=0.417) total time=   4.5s\n",
      "[CV 4/5] END log_reg__C=1, log_reg__solver=newton-cg, pca__n_components=15;, score=(train=0.416, test=0.420) total time=   5.2s\n",
      "[CV 2/5] END log_reg__C=1, log_reg__solver=newton-cg, pca__n_components=15;, score=(train=0.420, test=0.414) total time=   5.6s\n",
      "[CV 5/5] END log_reg__C=1, log_reg__solver=newton-cg, pca__n_components=15;, score=(train=0.418, test=0.406) total time=   5.3s\n",
      "[CV 2/5] END log_reg__C=1, log_reg__solver=newton-cg, pca__n_components=20;, score=(train=0.420, test=0.418) total time=   4.7s\n",
      "[CV 3/5] END log_reg__C=10, log_reg__solver=saga, pca__n_components=10;, score=(train=0.414, test=0.411) total time=   4.0s\n",
      "[CV 4/5] END log_reg__C=10, log_reg__solver=saga, pca__n_components=10;, score=(train=0.412, test=0.422) total time=   4.0s\n",
      "[CV 3/5] END log_reg__C=1, log_reg__solver=newton-cg, pca__n_components=20;, score=(train=0.415, test=0.419) total time=   5.4s\n",
      "[CV 4/5] END log_reg__C=1, log_reg__solver=newton-cg, pca__n_components=20;, score=(train=0.420, test=0.419) total time=   5.3s\n",
      "[CV 1/5] END log_reg__C=10, log_reg__solver=saga, pca__n_components=10;, score=(train=0.415, test=0.409) total time=   4.9s\n",
      "[CV 5/5] END log_reg__C=10, log_reg__solver=saga, pca__n_components=10;, score=(train=0.417, test=0.405) total time=   4.1s\n",
      "[CV 5/5] END log_reg__C=1, log_reg__solver=newton-cg, pca__n_components=20;, score=(train=0.420, test=0.411) total time=   5.4s\n",
      "[CV 2/5] END log_reg__C=10, log_reg__solver=saga, pca__n_components=10;, score=(train=0.416, test=0.413) total time=   4.8s\n",
      "[CV 2/5] END log_reg__C=10, log_reg__solver=saga, pca__n_components=15;, score=(train=0.421, test=0.415) total time=   4.4s\n",
      "[CV 1/5] END log_reg__C=10, log_reg__solver=saga, pca__n_components=20;, score=(train=0.417, test=0.415) total time=   4.9s\n",
      "[CV 4/5] END log_reg__C=10, log_reg__solver=saga, pca__n_components=15;, score=(train=0.415, test=0.420) total time=   5.4s\n",
      "[CV 3/5] END log_reg__C=10, log_reg__solver=saga, pca__n_components=15;, score=(train=0.416, test=0.414) total time=   5.6s\n",
      "[CV 1/5] END log_reg__C=10, log_reg__solver=saga, pca__n_components=15;, score=(train=0.415, test=0.415) total time=   5.9s\n",
      "[CV 5/5] END log_reg__C=10, log_reg__solver=saga, pca__n_components=15;, score=(train=0.419, test=0.407) total time=   5.9s\n",
      "[CV 2/5] END log_reg__C=10, log_reg__solver=newton-cg, pca__n_components=10;, score=(train=0.416, test=0.412) total time=   3.7s\n",
      "[CV 3/5] END log_reg__C=10, log_reg__solver=saga, pca__n_components=20;, score=(train=0.416, test=0.422) total time=   4.7s\n",
      "[CV 1/5] END log_reg__C=10, log_reg__solver=newton-cg, pca__n_components=10;, score=(train=0.414, test=0.409) total time=   4.4s\n",
      "[CV 3/5] END log_reg__C=10, log_reg__solver=newton-cg, pca__n_components=10;, score=(train=0.414, test=0.410) total time=   3.8s\n",
      "[CV 2/5] END log_reg__C=10, log_reg__solver=saga, pca__n_components=20;, score=(train=0.421, test=0.415) total time=   5.6s\n",
      "[CV 4/5] END log_reg__C=10, log_reg__solver=saga, pca__n_components=20;, score=(train=0.420, test=0.421) total time=   5.6s\n",
      "[CV 4/5] END log_reg__C=10, log_reg__solver=newton-cg, pca__n_components=10;, score=(train=0.412, test=0.423) total time=   3.9s\n",
      "[CV 5/5] END log_reg__C=10, log_reg__solver=saga, pca__n_components=20;, score=(train=0.420, test=0.408) total time=   6.0s\n",
      "[CV 5/5] END log_reg__C=10, log_reg__solver=newton-cg, pca__n_components=10;, score=(train=0.417, test=0.405) total time=   4.3s\n",
      "[CV 3/5] END log_reg__C=10, log_reg__solver=newton-cg, pca__n_components=15;, score=(train=0.415, test=0.416) total time=   4.2s\n",
      "[CV 1/5] END log_reg__C=10, log_reg__solver=newton-cg, pca__n_components=15;, score=(train=0.415, test=0.414) total time=   4.9s\n",
      "[CV 2/5] END log_reg__C=10, log_reg__solver=newton-cg, pca__n_components=15;, score=(train=0.422, test=0.416) total time=   4.9s\n",
      "[CV 4/5] END log_reg__C=10, log_reg__solver=newton-cg, pca__n_components=15;, score=(train=0.416, test=0.418) total time=   4.8s\n",
      "[CV 1/5] END log_reg__C=10, log_reg__solver=newton-cg, pca__n_components=20;, score=(train=0.418, test=0.413) total time=   4.6s\n",
      "[CV 5/5] END log_reg__C=10, log_reg__solver=newton-cg, pca__n_components=15;, score=(train=0.419, test=0.408) total time=   5.5s\n",
      "[CV 2/5] END log_reg__C=10, log_reg__solver=newton-cg, pca__n_components=20;, score=(train=0.421, test=0.415) total time=   4.7s\n",
      "[CV 2/5] END log_reg__C=100, log_reg__solver=saga, pca__n_components=10;, score=(train=0.416, test=0.412) total time=   4.1s\n",
      "[CV 3/5] END log_reg__C=100, log_reg__solver=saga, pca__n_components=10;, score=(train=0.414, test=0.410) total time=   4.2s\n",
      "[CV 3/5] END log_reg__C=10, log_reg__solver=newton-cg, pca__n_components=20;, score=(train=0.417, test=0.422) total time=   5.1s\n",
      "[CV 1/5] END log_reg__C=100, log_reg__solver=saga, pca__n_components=10;, score=(train=0.413, test=0.409) total time=   4.8s\n",
      "[CV 4/5] END log_reg__C=10, log_reg__solver=newton-cg, pca__n_components=20;, score=(train=0.420, test=0.419) total time=   5.4s\n",
      "[CV 5/5] END log_reg__C=100, log_reg__solver=saga, pca__n_components=10;, score=(train=0.417, test=0.404) total time=   4.0s\n",
      "[CV 5/5] END log_reg__C=10, log_reg__solver=newton-cg, pca__n_components=20;, score=(train=0.421, test=0.410) total time=   5.7s\n",
      "[CV 4/5] END log_reg__C=100, log_reg__solver=saga, pca__n_components=10;, score=(train=0.412, test=0.423) total time=   4.8s\n",
      "[CV 3/5] END log_reg__C=100, log_reg__solver=saga, pca__n_components=15;, score=(train=0.417, test=0.414) total time=   4.7s\n",
      "[CV 1/5] END log_reg__C=100, log_reg__solver=saga, pca__n_components=15;, score=(train=0.415, test=0.414) total time=   5.6s\n",
      "[CV 2/5] END log_reg__C=100, log_reg__solver=saga, pca__n_components=15;, score=(train=0.421, test=0.414) total time=   5.5s\n",
      "[CV 1/5] END log_reg__C=100, log_reg__solver=saga, pca__n_components=20;, score=(train=0.417, test=0.414) total time=   4.7s\n",
      "[CV 5/5] END log_reg__C=100, log_reg__solver=saga, pca__n_components=15;, score=(train=0.418, test=0.406) total time=   5.0s\n",
      "[CV 4/5] END log_reg__C=100, log_reg__solver=saga, pca__n_components=15;, score=(train=0.415, test=0.420) total time=   5.7s\n",
      "[CV 5/5] END log_reg__C=100, log_reg__solver=saga, pca__n_components=20;, score=(train=0.421, test=0.410) total time=   4.8s\n",
      "[CV 1/5] END log_reg__C=100, log_reg__solver=newton-cg, pca__n_components=10;, score=(train=0.415, test=0.408) total time=   4.2s\n",
      "[CV 2/5] END log_reg__C=100, log_reg__solver=newton-cg, pca__n_components=10;, score=(train=0.416, test=0.413) total time=   4.4s\n",
      "[CV 2/5] END log_reg__C=100, log_reg__solver=saga, pca__n_components=20;, score=(train=0.421, test=0.415) total time=   5.8s\n",
      "[CV 3/5] END log_reg__C=100, log_reg__solver=newton-cg, pca__n_components=10;, score=(train=0.414, test=0.410) total time=   3.7s\n",
      "[CV 4/5] END log_reg__C=100, log_reg__solver=newton-cg, pca__n_components=10;, score=(train=0.412, test=0.423) total time=   3.6s\n",
      "[CV 4/5] END log_reg__C=100, log_reg__solver=saga, pca__n_components=20;, score=(train=0.419, test=0.418) total time=   6.0s\n",
      "[CV 3/5] END log_reg__C=100, log_reg__solver=saga, pca__n_components=20;, score=(train=0.416, test=0.420) total time=   6.1s\n",
      "[CV 5/5] END log_reg__C=100, log_reg__solver=newton-cg, pca__n_components=10;, score=(train=0.417, test=0.404) total time=   4.3s\n",
      "[CV 3/5] END log_reg__C=100, log_reg__solver=newton-cg, pca__n_components=15;, score=(train=0.416, test=0.415) total time=   3.8s\n",
      "[CV 1/5] END log_reg__C=100, log_reg__solver=newton-cg, pca__n_components=15;, score=(train=0.414, test=0.415) total time=   4.3s\n",
      "[CV 2/5] END log_reg__C=100, log_reg__solver=newton-cg, pca__n_components=15;, score=(train=0.421, test=0.415) total time=   4.3s\n",
      "[CV 4/5] END log_reg__C=100, log_reg__solver=newton-cg, pca__n_components=15;, score=(train=0.415, test=0.423) total time=   4.1s\n",
      "[CV 5/5] END log_reg__C=100, log_reg__solver=newton-cg, pca__n_components=15;, score=(train=0.419, test=0.406) total time=   3.9s\n",
      "[CV 1/5] END log_reg__C=100, log_reg__solver=newton-cg, pca__n_components=20;, score=(train=0.416, test=0.414) total time=   3.6s\n",
      "[CV 4/5] END log_reg__C=100, log_reg__solver=newton-cg, pca__n_components=20;, score=(train=0.419, test=0.420) total time=   2.8s\n",
      "[CV 5/5] END log_reg__C=100, log_reg__solver=newton-cg, pca__n_components=20;, score=(train=0.421, test=0.409) total time=   2.8s\n",
      "[CV 3/5] END log_reg__C=100, log_reg__solver=newton-cg, pca__n_components=20;, score=(train=0.416, test=0.420) total time=   3.0s\n",
      "[CV 2/5] END log_reg__C=100, log_reg__solver=newton-cg, pca__n_components=20;, score=(train=0.421, test=0.415) total time=   3.0s\n"
     ]
    },
    {
     "data": {
      "text/plain": [
       "0.42384453781512604"
      ]
     },
     "execution_count": 8,
     "metadata": {},
     "output_type": "execute_result"
    }
   ],
   "source": [
    "\n",
    "log_reg = LogisticRegression(penalty='l2', max_iter=500)\n",
    "pca = PCA(n_components=10)\n",
    "\n",
    "pipe = Pipeline(steps=\n",
    "                [\n",
    "                    ('pca', pca),\n",
    "                    ('log_reg', log_reg)\n",
    "                ]\n",
    "            )\n",
    "param_grid = {\n",
    "    'pca__n_components':[10, 15, 20],\n",
    "    'log_reg__C':[0.001, 0.01, 0.1, 1, 10, 100],\n",
    "    'log_reg__solver':['saga', 'newton-cg']\n",
    "}\n",
    "search = GridSearchCV(pipe, param_grid, n_jobs=-1, cv=5, verbose=3, return_train_score=True)\n",
    "search.fit(X_train_embeddings, y_train)\n",
    "search.score(X_test_embeddings, y_test)"
   ]
  },
  {
   "cell_type": "code",
   "execution_count": 9,
   "metadata": {},
   "outputs": [
    {
     "data": {
      "text/html": [
       "<style>#sk-container-id-1 {color: black;background-color: white;}#sk-container-id-1 pre{padding: 0;}#sk-container-id-1 div.sk-toggleable {background-color: white;}#sk-container-id-1 label.sk-toggleable__label {cursor: pointer;display: block;width: 100%;margin-bottom: 0;padding: 0.3em;box-sizing: border-box;text-align: center;}#sk-container-id-1 label.sk-toggleable__label-arrow:before {content: \"▸\";float: left;margin-right: 0.25em;color: #696969;}#sk-container-id-1 label.sk-toggleable__label-arrow:hover:before {color: black;}#sk-container-id-1 div.sk-estimator:hover label.sk-toggleable__label-arrow:before {color: black;}#sk-container-id-1 div.sk-toggleable__content {max-height: 0;max-width: 0;overflow: hidden;text-align: left;background-color: #f0f8ff;}#sk-container-id-1 div.sk-toggleable__content pre {margin: 0.2em;color: black;border-radius: 0.25em;background-color: #f0f8ff;}#sk-container-id-1 input.sk-toggleable__control:checked~div.sk-toggleable__content {max-height: 200px;max-width: 100%;overflow: auto;}#sk-container-id-1 input.sk-toggleable__control:checked~label.sk-toggleable__label-arrow:before {content: \"▾\";}#sk-container-id-1 div.sk-estimator input.sk-toggleable__control:checked~label.sk-toggleable__label {background-color: #d4ebff;}#sk-container-id-1 div.sk-label input.sk-toggleable__control:checked~label.sk-toggleable__label {background-color: #d4ebff;}#sk-container-id-1 input.sk-hidden--visually {border: 0;clip: rect(1px 1px 1px 1px);clip: rect(1px, 1px, 1px, 1px);height: 1px;margin: -1px;overflow: hidden;padding: 0;position: absolute;width: 1px;}#sk-container-id-1 div.sk-estimator {font-family: monospace;background-color: #f0f8ff;border: 1px dotted black;border-radius: 0.25em;box-sizing: border-box;margin-bottom: 0.5em;}#sk-container-id-1 div.sk-estimator:hover {background-color: #d4ebff;}#sk-container-id-1 div.sk-parallel-item::after {content: \"\";width: 100%;border-bottom: 1px solid gray;flex-grow: 1;}#sk-container-id-1 div.sk-label:hover label.sk-toggleable__label {background-color: #d4ebff;}#sk-container-id-1 div.sk-serial::before {content: \"\";position: absolute;border-left: 1px solid gray;box-sizing: border-box;top: 0;bottom: 0;left: 50%;z-index: 0;}#sk-container-id-1 div.sk-serial {display: flex;flex-direction: column;align-items: center;background-color: white;padding-right: 0.2em;padding-left: 0.2em;position: relative;}#sk-container-id-1 div.sk-item {position: relative;z-index: 1;}#sk-container-id-1 div.sk-parallel {display: flex;align-items: stretch;justify-content: center;background-color: white;position: relative;}#sk-container-id-1 div.sk-item::before, #sk-container-id-1 div.sk-parallel-item::before {content: \"\";position: absolute;border-left: 1px solid gray;box-sizing: border-box;top: 0;bottom: 0;left: 50%;z-index: -1;}#sk-container-id-1 div.sk-parallel-item {display: flex;flex-direction: column;z-index: 1;position: relative;background-color: white;}#sk-container-id-1 div.sk-parallel-item:first-child::after {align-self: flex-end;width: 50%;}#sk-container-id-1 div.sk-parallel-item:last-child::after {align-self: flex-start;width: 50%;}#sk-container-id-1 div.sk-parallel-item:only-child::after {width: 0;}#sk-container-id-1 div.sk-dashed-wrapped {border: 1px dashed gray;margin: 0 0.4em 0.5em 0.4em;box-sizing: border-box;padding-bottom: 0.4em;background-color: white;}#sk-container-id-1 div.sk-label label {font-family: monospace;font-weight: bold;display: inline-block;line-height: 1.2em;}#sk-container-id-1 div.sk-label-container {text-align: center;}#sk-container-id-1 div.sk-container {/* jupyter's `normalize.less` sets `[hidden] { display: none; }` but bootstrap.min.css set `[hidden] { display: none !important; }` so we also need the `!important` here to be able to override the default hidden behavior on the sphinx rendered scikit-learn.org. See: https://github.com/scikit-learn/scikit-learn/issues/21755 */display: inline-block !important;position: relative;}#sk-container-id-1 div.sk-text-repr-fallback {display: none;}</style><div id=\"sk-container-id-1\" class=\"sk-top-container\"><div class=\"sk-text-repr-fallback\"><pre>Pipeline(steps=[(&#x27;pca&#x27;, PCA(n_components=20)),\n",
       "                (&#x27;log_reg&#x27;,\n",
       "                 LogisticRegression(C=1, max_iter=500, solver=&#x27;newton-cg&#x27;))])</pre><b>In a Jupyter environment, please rerun this cell to show the HTML representation or trust the notebook. <br />On GitHub, the HTML representation is unable to render, please try loading this page with nbviewer.org.</b></div><div class=\"sk-container\" hidden><div class=\"sk-item sk-dashed-wrapped\"><div class=\"sk-label-container\"><div class=\"sk-label sk-toggleable\"><input class=\"sk-toggleable__control sk-hidden--visually\" id=\"sk-estimator-id-1\" type=\"checkbox\" ><label for=\"sk-estimator-id-1\" class=\"sk-toggleable__label sk-toggleable__label-arrow\">Pipeline</label><div class=\"sk-toggleable__content\"><pre>Pipeline(steps=[(&#x27;pca&#x27;, PCA(n_components=20)),\n",
       "                (&#x27;log_reg&#x27;,\n",
       "                 LogisticRegression(C=1, max_iter=500, solver=&#x27;newton-cg&#x27;))])</pre></div></div></div><div class=\"sk-serial\"><div class=\"sk-item\"><div class=\"sk-estimator sk-toggleable\"><input class=\"sk-toggleable__control sk-hidden--visually\" id=\"sk-estimator-id-2\" type=\"checkbox\" ><label for=\"sk-estimator-id-2\" class=\"sk-toggleable__label sk-toggleable__label-arrow\">PCA</label><div class=\"sk-toggleable__content\"><pre>PCA(n_components=20)</pre></div></div></div><div class=\"sk-item\"><div class=\"sk-estimator sk-toggleable\"><input class=\"sk-toggleable__control sk-hidden--visually\" id=\"sk-estimator-id-3\" type=\"checkbox\" ><label for=\"sk-estimator-id-3\" class=\"sk-toggleable__label sk-toggleable__label-arrow\">LogisticRegression</label><div class=\"sk-toggleable__content\"><pre>LogisticRegression(C=1, max_iter=500, solver=&#x27;newton-cg&#x27;)</pre></div></div></div></div></div></div></div>"
      ],
      "text/plain": [
       "Pipeline(steps=[('pca', PCA(n_components=20)),\n",
       "                ('log_reg',\n",
       "                 LogisticRegression(C=1, max_iter=500, solver='newton-cg'))])"
      ]
     },
     "execution_count": 9,
     "metadata": {},
     "output_type": "execute_result"
    }
   ],
   "source": [
    "search.best_estimator_"
   ]
  },
  {
   "cell_type": "code",
   "execution_count": 10,
   "metadata": {},
   "outputs": [],
   "source": [
    "with open(MODEL_PATH / 'log_reg_ada_pca.pkl', 'wb') as file:\n",
    "    joblib.dump(search, file)"
   ]
  },
  {
   "cell_type": "markdown",
   "metadata": {},
   "source": [
    "# <a id='toc6_'></a>[Predicting Popularity of Hip Hop Songs](#toc0_)\n",
    "\n",
    "With such a large portion of our dataset belonging to hip hop, we wanted to see if by eliminating the other genres we could better predict hip hop popularity. This reduction in genres will hopefully reduce the noise in the dataset.  "
   ]
  },
  {
   "cell_type": "markdown",
   "metadata": {},
   "source": [
    "## <a id='toc6_1_'></a>[Subsetting the Dataset for only Hip Hop](#toc0_)"
   ]
  },
  {
   "cell_type": "code",
   "execution_count": 3,
   "metadata": {},
   "outputs": [],
   "source": [
    "hip_hop_df = df[\n",
    "    df['genre'] == 'hip hop'\n",
    "]"
   ]
  },
  {
   "cell_type": "code",
   "execution_count": 4,
   "metadata": {},
   "outputs": [
    {
     "data": {
      "text/plain": [
       "(11785, 16)"
      ]
     },
     "execution_count": 4,
     "metadata": {},
     "output_type": "execute_result"
    }
   ],
   "source": [
    "hip_hop_df.shape"
   ]
  },
  {
   "cell_type": "code",
   "execution_count": 5,
   "metadata": {},
   "outputs": [
    {
     "data": {
      "text/plain": [
       "0    0.376750\n",
       "1    0.329741\n",
       "2    0.293509\n",
       "Name: spotify_popularity_three_class, dtype: float64"
      ]
     },
     "execution_count": 5,
     "metadata": {},
     "output_type": "execute_result"
    }
   ],
   "source": [
    "hip_hop_df['spotify_popularity_three_class'].value_counts(normalize=True)"
   ]
  },
  {
   "attachments": {},
   "cell_type": "markdown",
   "metadata": {},
   "source": [
    "We can see that we have reduced the dataset down to approximately 12 000 songs. "
   ]
  },
  {
   "cell_type": "code",
   "execution_count": 11,
   "metadata": {},
   "outputs": [],
   "source": [
    "X=hip_hop_df[['cleaned_lyrics_stem']]\n",
    "y=hip_hop_df['spotify_popularity_three_class']\n",
    "\n",
    "# Create train and test splits and set a random state for reproducibility.\n",
    "X_train, X_test, y_train, y_test = train_test_split(X, y, test_size=0.2, stratify=y, random_state=33)\n",
    "\n",
    "# Dividing up the raws lyrics and the embeddings.\n",
    "X_train_lyrics = X_train['cleaned_lyrics_stem']\n",
    "X_test_lyrics = X_test['cleaned_lyrics_stem']\n"
   ]
  },
  {
   "cell_type": "markdown",
   "metadata": {},
   "source": [
    "## <a id='toc6_2_'></a>[Modeling for Hip Hop Popularity](#toc0_)"
   ]
  },
  {
   "cell_type": "markdown",
   "metadata": {},
   "source": [
    "### <a id='toc6_2_1_'></a>[Logistic Regression and TF-IDF](#toc0_)"
   ]
  },
  {
   "cell_type": "code",
   "execution_count": 12,
   "metadata": {},
   "outputs": [
    {
     "name": "stdout",
     "output_type": "stream",
     "text": [
      "Fitting 5 folds for each of 14 candidates, totalling 70 fits\n",
      "[CV 2/5] END log_reg__C=0.0001, log_reg__solver=newton-cg;, score=(train=0.377, test=0.377) total time=   1.8s\n",
      "[CV 4/5] END log_reg__C=0.0001, log_reg__solver=newton-cg;, score=(train=0.377, test=0.377) total time=   1.9s\n",
      "[CV 1/5] END log_reg__C=0.0001, log_reg__solver=newton-cg;, score=(train=0.377, test=0.376) total time=   2.0s\n",
      "[CV 3/5] END log_reg__C=0.0001, log_reg__solver=newton-cg;, score=(train=0.377, test=0.377) total time=   2.0s\n",
      "[CV 1/5] END log_reg__C=0.001, log_reg__solver=newton-cg;, score=(train=0.377, test=0.376) total time=   2.0s\n",
      "[CV 2/5] END log_reg__C=0.001, log_reg__solver=newton-cg;, score=(train=0.377, test=0.377) total time=   2.0s\n",
      "[CV 4/5] END log_reg__C=0.001, log_reg__solver=newton-cg;, score=(train=0.377, test=0.377) total time=   2.0s\n",
      "[CV 5/5] END log_reg__C=0.0001, log_reg__solver=newton-cg;, score=(train=0.377, test=0.377) total time=   2.2s\n",
      "[CV 5/5] END log_reg__C=0.001, log_reg__solver=newton-cg;, score=(train=0.377, test=0.377) total time=   2.1s\n",
      "[CV 3/5] END log_reg__C=0.001, log_reg__solver=newton-cg;, score=(train=0.377, test=0.377) total time=   2.2s\n",
      "[CV 2/5] END log_reg__C=0.0001, log_reg__solver=saga;, score=(train=0.377, test=0.377) total time=   2.4s\n",
      "[CV 3/5] END log_reg__C=0.0001, log_reg__solver=saga;, score=(train=0.377, test=0.377) total time=   2.6s\n",
      "[CV 4/5] END log_reg__C=0.001, log_reg__solver=saga;, score=(train=0.377, test=0.377) total time=   2.5s\n",
      "[CV 4/5] END log_reg__C=0.0001, log_reg__solver=saga;, score=(train=0.377, test=0.377) total time=   2.8s\n",
      "[CV 1/5] END log_reg__C=0.0001, log_reg__solver=saga;, score=(train=0.377, test=0.376) total time=   2.9s\n",
      "[CV 1/5] END log_reg__C=0.001, log_reg__solver=saga;, score=(train=0.377, test=0.376) total time=   2.6s\n",
      "[CV 5/5] END log_reg__C=0.0001, log_reg__solver=saga;, score=(train=0.377, test=0.377) total time=   2.9s\n",
      "[CV 5/5] END log_reg__C=0.001, log_reg__solver=saga;, score=(train=0.377, test=0.377) total time=   2.6s\n",
      "[CV 2/5] END log_reg__C=0.001, log_reg__solver=saga;, score=(train=0.377, test=0.377) total time=   2.9s\n",
      "[CV 3/5] END log_reg__C=0.001, log_reg__solver=saga;, score=(train=0.377, test=0.377) total time=   3.1s\n",
      "[CV 1/5] END log_reg__C=0.01, log_reg__solver=newton-cg;, score=(train=0.387, test=0.381) total time=   2.0s\n",
      "[CV 2/5] END log_reg__C=0.01, log_reg__solver=newton-cg;, score=(train=0.385, test=0.388) total time=   2.0s\n",
      "[CV 5/5] END log_reg__C=0.01, log_reg__solver=newton-cg;, score=(train=0.387, test=0.382) total time=   2.0s\n",
      "[CV 4/5] END log_reg__C=0.01, log_reg__solver=newton-cg;, score=(train=0.387, test=0.381) total time=   2.4s\n",
      "[CV 1/5] END log_reg__C=0.01, log_reg__solver=saga;, score=(train=0.387, test=0.381) total time=   2.3s\n",
      "[CV 4/5] END log_reg__C=0.01, log_reg__solver=saga;, score=(train=0.387, test=0.381) total time=   2.3s\n",
      "[CV 3/5] END log_reg__C=0.01, log_reg__solver=newton-cg;, score=(train=0.385, test=0.386) total time=   2.5s\n",
      "[CV 2/5] END log_reg__C=0.01, log_reg__solver=saga;, score=(train=0.385, test=0.388) total time=   2.3s\n",
      "[CV 3/5] END log_reg__C=0.1, log_reg__solver=newton-cg;, score=(train=0.508, test=0.426) total time=   2.2s\n",
      "[CV 1/5] END log_reg__C=0.1, log_reg__solver=newton-cg;, score=(train=0.520, test=0.415) total time=   2.5s\n",
      "[CV 5/5] END log_reg__C=0.01, log_reg__solver=saga;, score=(train=0.386, test=0.382) total time=   2.7s\n",
      "[CV 3/5] END log_reg__C=0.01, log_reg__solver=saga;, score=(train=0.385, test=0.386) total time=   3.0s\n",
      "[CV 2/5] END log_reg__C=0.1, log_reg__solver=newton-cg;, score=(train=0.512, test=0.425) total time=   2.6s\n",
      "[CV 4/5] END log_reg__C=0.1, log_reg__solver=newton-cg;, score=(train=0.515, test=0.421) total time=   2.7s\n",
      "[CV 1/5] END log_reg__C=0.1, log_reg__solver=saga;, score=(train=0.521, test=0.415) total time=   2.7s\n",
      "[CV 5/5] END log_reg__C=0.1, log_reg__solver=newton-cg;, score=(train=0.518, test=0.415) total time=   2.7s\n",
      "[CV 3/5] END log_reg__C=0.1, log_reg__solver=saga;, score=(train=0.508, test=0.426) total time=   2.7s\n",
      "[CV 2/5] END log_reg__C=0.1, log_reg__solver=saga;, score=(train=0.511, test=0.425) total time=   3.1s\n",
      "[CV 4/5] END log_reg__C=0.1, log_reg__solver=saga;, score=(train=0.515, test=0.421) total time=   3.0s\n",
      "[CV 5/5] END log_reg__C=0.1, log_reg__solver=saga;, score=(train=0.518, test=0.415) total time=   2.8s\n",
      "[CV 1/5] END log_reg__C=1, log_reg__solver=newton-cg;, score=(train=0.655, test=0.397) total time=   2.6s\n",
      "[CV 2/5] END log_reg__C=1, log_reg__solver=newton-cg;, score=(train=0.652, test=0.406) total time=   2.6s\n",
      "[CV 3/5] END log_reg__C=1, log_reg__solver=newton-cg;, score=(train=0.647, test=0.411) total time=   2.5s\n",
      "[CV 4/5] END log_reg__C=1, log_reg__solver=newton-cg;, score=(train=0.655, test=0.395) total time=   2.5s\n",
      "[CV 5/5] END log_reg__C=1, log_reg__solver=newton-cg;, score=(train=0.649, test=0.398) total time=   2.5s\n",
      "[CV 3/5] END log_reg__C=1, log_reg__solver=saga;, score=(train=0.647, test=0.411) total time=   2.5s\n",
      "[CV 1/5] END log_reg__C=1, log_reg__solver=saga;, score=(train=0.656, test=0.398) total time=   2.7s\n",
      "[CV 4/5] END log_reg__C=1, log_reg__solver=saga;, score=(train=0.655, test=0.396) total time=   2.5s\n",
      "[CV 2/5] END log_reg__C=1, log_reg__solver=saga;, score=(train=0.651, test=0.406) total time=   2.8s\n",
      "[CV 5/5] END log_reg__C=1, log_reg__solver=saga;, score=(train=0.649, test=0.399) total time=   2.8s\n",
      "[CV 1/5] END log_reg__C=10, log_reg__solver=newton-cg;, score=(train=0.736, test=0.378) total time=   3.6s\n",
      "[CV 4/5] END log_reg__C=10, log_reg__solver=newton-cg;, score=(train=0.744, test=0.373) total time=   3.6s\n",
      "[CV 2/5] END log_reg__C=10, log_reg__solver=newton-cg;, score=(train=0.735, test=0.384) total time=   4.0s\n",
      "[CV 5/5] END log_reg__C=10, log_reg__solver=newton-cg;, score=(train=0.734, test=0.390) total time=   3.5s\n",
      "[CV 2/5] END log_reg__C=10, log_reg__solver=saga;, score=(train=0.735, test=0.384) total time=   3.8s\n",
      "[CV 3/5] END log_reg__C=10, log_reg__solver=newton-cg;, score=(train=0.725, test=0.392) total time=   4.3s\n",
      "[CV 1/5] END log_reg__C=10, log_reg__solver=saga;, score=(train=0.735, test=0.378) total time=   4.0s\n",
      "[CV 3/5] END log_reg__C=10, log_reg__solver=saga;, score=(train=0.725, test=0.391) total time=   3.8s\n",
      "[CV 4/5] END log_reg__C=10, log_reg__solver=saga;, score=(train=0.744, test=0.373) total time=   4.2s\n",
      "[CV 5/5] END log_reg__C=10, log_reg__solver=saga;, score=(train=0.734, test=0.389) total time=   4.0s\n",
      "[CV 1/5] END log_reg__C=100, log_reg__solver=newton-cg;, score=(train=0.779, test=0.370) total time=   4.2s\n",
      "[CV 2/5] END log_reg__C=100, log_reg__solver=newton-cg;, score=(train=0.771, test=0.370) total time=   4.2s\n",
      "[CV 3/5] END log_reg__C=100, log_reg__solver=newton-cg;, score=(train=0.763, test=0.376) total time=   4.0s\n",
      "[CV 5/5] END log_reg__C=100, log_reg__solver=newton-cg;, score=(train=0.774, test=0.365) total time=   4.0s\n",
      "[CV 4/5] END log_reg__C=100, log_reg__solver=newton-cg;, score=(train=0.779, test=0.359) total time=   4.2s\n",
      "[CV 3/5] END log_reg__C=100, log_reg__solver=saga;, score=(train=0.763, test=0.376) total time=   5.6s\n",
      "[CV 1/5] END log_reg__C=100, log_reg__solver=saga;, score=(train=0.778, test=0.370) total time=   6.3s\n",
      "[CV 5/5] END log_reg__C=100, log_reg__solver=saga;, score=(train=0.774, test=0.365) total time=   5.5s\n",
      "[CV 4/5] END log_reg__C=100, log_reg__solver=saga;, score=(train=0.779, test=0.359) total time=   6.0s\n",
      "[CV 2/5] END log_reg__C=100, log_reg__solver=saga;, score=(train=0.771, test=0.370) total time=   6.2s\n"
     ]
    },
    {
     "data": {
      "text/plain": [
       "0.42002545608824776"
      ]
     },
     "execution_count": 12,
     "metadata": {},
     "output_type": "execute_result"
    }
   ],
   "source": [
    "\n",
    "vectorizer = TfidfVectorizer(max_df=0.9, \n",
    "                             min_df=0.01\n",
    "                             )\n",
    "\n",
    "log_reg = LogisticRegression(penalty='l2', max_iter=500)\n",
    "\n",
    "\n",
    "pipe = Pipeline(steps=\n",
    "                [\n",
    "                    ('tfidf', vectorizer),\n",
    "                    ('log_reg', log_reg)\n",
    "                ]\n",
    "            )\n",
    "\n",
    "param_grid = {\n",
    "    'log_reg__C':[0.0001, 0.001, 0.01, 0.1, 1, 10, 100],\n",
    "    'log_reg__solver':['newton-cg', 'saga']\n",
    "}\n",
    "\n",
    "search = GridSearchCV(pipe, param_grid, n_jobs=-1, cv=5, verbose=3, return_train_score=True)\n",
    "search.fit(X_train_lyrics, y_train)\n",
    "search.score(X_test_lyrics, y_test)"
   ]
  },
  {
   "cell_type": "code",
   "execution_count": 13,
   "metadata": {},
   "outputs": [],
   "source": [
    "with open(MODEL_PATH / 'log_reg_tfidf_hip_hop.pkl', 'wb') as file:\n",
    "    joblib.dump(search, file)"
   ]
  },
  {
   "cell_type": "markdown",
   "metadata": {},
   "source": [
    "### <a id='toc6_2_2_'></a>[Multinomial Naive Bayes and TF-IDF](#toc0_)"
   ]
  },
  {
   "cell_type": "code",
   "execution_count": 16,
   "metadata": {},
   "outputs": [
    {
     "name": "stdout",
     "output_type": "stream",
     "text": [
      "Fitting 5 folds for each of 98 candidates, totalling 490 fits\n",
      "[CV 1/5] END mnb__alpha=0.2, mnb__fit_prior=True;, score=(train=0.566, test=0.409) total time=   1.6s\n",
      "[CV 5/5] END mnb__alpha=0.2, mnb__fit_prior=True;, score=(train=0.569, test=0.416) total time=   1.6s\n",
      "[CV 2/5] END mnb__alpha=0.2, mnb__fit_prior=True;, score=(train=0.560, test=0.433) total time=   1.7s\n",
      "[CV 3/5] END mnb__alpha=0.2, mnb__fit_prior=True;, score=(train=0.554, test=0.433) total time=   1.7s\n",
      "[CV 3/5] END mnb__alpha=0.2, mnb__fit_prior=False;, score=(train=0.575, test=0.426) total time=   1.7s\n",
      "[CV 1/5] END mnb__alpha=0.4, mnb__fit_prior=True;, score=(train=0.564, test=0.408) total time=   1.7s\n",
      "[CV 4/5] END mnb__alpha=0.2, mnb__fit_prior=True;, score=(train=0.569, test=0.425) total time=   1.8s\n",
      "[CV 2/5] END mnb__alpha=0.4, mnb__fit_prior=True;, score=(train=0.558, test=0.436) total time=   1.8s\n",
      "[CV 3/5] END mnb__alpha=0.4, mnb__fit_prior=True;, score=(train=0.554, test=0.433) total time=   1.8s\n",
      "[CV 4/5] END mnb__alpha=0.4, mnb__fit_prior=True;, score=(train=0.566, test=0.425) total time=   1.8s\n",
      "[CV 1/5] END mnb__alpha=0.2, mnb__fit_prior=False;, score=(train=0.584, test=0.409) total time=   1.9s\n",
      "[CV 5/5] END mnb__alpha=0.2, mnb__fit_prior=False;, score=(train=0.583, test=0.392) total time=   2.0s\n",
      "[CV 2/5] END mnb__alpha=0.2, mnb__fit_prior=False;, score=(train=0.581, test=0.406) total time=   2.1s\n",
      "[CV 4/5] END mnb__alpha=0.2, mnb__fit_prior=False;, score=(train=0.583, test=0.402) total time=   2.0s\n",
      "[CV 2/5] END mnb__alpha=0.4, mnb__fit_prior=False;, score=(train=0.578, test=0.403) total time=   1.9s\n",
      "[CV 1/5] END mnb__alpha=0.4, mnb__fit_prior=False;, score=(train=0.582, test=0.411) total time=   2.1s\n",
      "[CV 3/5] END mnb__alpha=0.4, mnb__fit_prior=False;, score=(train=0.573, test=0.425) total time=   2.0s\n",
      "[CV 4/5] END mnb__alpha=0.4, mnb__fit_prior=False;, score=(train=0.585, test=0.398) total time=   2.0s\n",
      "[CV 5/5] END mnb__alpha=0.4, mnb__fit_prior=True;, score=(train=0.569, test=0.415) total time=   2.1s\n",
      "[CV 5/5] END mnb__alpha=0.4, mnb__fit_prior=False;, score=(train=0.583, test=0.392) total time=   2.0s\n",
      "[CV 2/5] END mnb__alpha=0.6000000000000001, mnb__fit_prior=True;, score=(train=0.559, test=0.437) total time=   1.8s\n",
      "[CV 1/5] END mnb__alpha=0.6000000000000001, mnb__fit_prior=True;, score=(train=0.563, test=0.407) total time=   1.9s\n",
      "[CV 5/5] END mnb__alpha=0.6000000000000001, mnb__fit_prior=True;, score=(train=0.568, test=0.417) total time=   1.8s\n",
      "[CV 3/5] END mnb__alpha=0.6000000000000001, mnb__fit_prior=True;, score=(train=0.553, test=0.434) total time=   2.0s\n",
      "[CV 1/5] END mnb__alpha=0.6000000000000001, mnb__fit_prior=False;, score=(train=0.582, test=0.410) total time=   1.8s\n",
      "[CV 3/5] END mnb__alpha=0.6000000000000001, mnb__fit_prior=False;, score=(train=0.574, test=0.423) total time=   1.7s\n",
      "[CV 4/5] END mnb__alpha=0.6000000000000001, mnb__fit_prior=False;, score=(train=0.585, test=0.397) total time=   1.8s\n",
      "[CV 5/5] END mnb__alpha=0.6000000000000001, mnb__fit_prior=False;, score=(train=0.581, test=0.394) total time=   1.8s\n",
      "[CV 2/5] END mnb__alpha=0.6000000000000001, mnb__fit_prior=False;, score=(train=0.578, test=0.406) total time=   2.0s\n",
      "[CV 4/5] END mnb__alpha=0.6000000000000001, mnb__fit_prior=True;, score=(train=0.564, test=0.426) total time=   2.3s\n",
      "[CV 1/5] END mnb__alpha=0.8, mnb__fit_prior=True;, score=(train=0.560, test=0.403) total time=   2.1s\n",
      "[CV 5/5] END mnb__alpha=0.8, mnb__fit_prior=True;, score=(train=0.567, test=0.418) total time=   2.0s\n",
      "[CV 2/5] END mnb__alpha=0.8, mnb__fit_prior=True;, score=(train=0.556, test=0.437) total time=   2.1s\n",
      "[CV 1/5] END mnb__alpha=0.8, mnb__fit_prior=False;, score=(train=0.581, test=0.410) total time=   1.9s\n",
      "[CV 2/5] END mnb__alpha=0.8, mnb__fit_prior=False;, score=(train=0.578, test=0.406) total time=   1.9s\n",
      "[CV 3/5] END mnb__alpha=0.8, mnb__fit_prior=False;, score=(train=0.573, test=0.425) total time=   1.9s\n",
      "[CV 3/5] END mnb__alpha=0.8, mnb__fit_prior=True;, score=(train=0.549, test=0.434) total time=   2.1s\n",
      "[CV 4/5] END mnb__alpha=0.8, mnb__fit_prior=True;, score=(train=0.563, test=0.427) total time=   2.1s\n",
      "[CV 5/5] END mnb__alpha=0.8, mnb__fit_prior=False;, score=(train=0.582, test=0.392) total time=   1.9s\n",
      "[CV 4/5] END mnb__alpha=0.8, mnb__fit_prior=False;, score=(train=0.586, test=0.400) total time=   2.0s\n",
      "[CV 1/5] END mnb__alpha=1.0, mnb__fit_prior=True;, score=(train=0.558, test=0.403) total time=   1.7s\n",
      "[CV 2/5] END mnb__alpha=1.0, mnb__fit_prior=True;, score=(train=0.553, test=0.438) total time=   1.7s\n",
      "[CV 3/5] END mnb__alpha=1.0, mnb__fit_prior=True;, score=(train=0.545, test=0.428) total time=   1.7s\n",
      "[CV 5/5] END mnb__alpha=1.0, mnb__fit_prior=True;, score=(train=0.564, test=0.419) total time=   1.7s\n",
      "[CV 1/5] END mnb__alpha=1.0, mnb__fit_prior=False;, score=(train=0.582, test=0.406) total time=   1.7s\n",
      "[CV 2/5] END mnb__alpha=1.0, mnb__fit_prior=False;, score=(train=0.576, test=0.404) total time=   1.7s\n",
      "[CV 4/5] END mnb__alpha=1.0, mnb__fit_prior=True;, score=(train=0.558, test=0.429) total time=   1.9s\n",
      "[CV 3/5] END mnb__alpha=1.0, mnb__fit_prior=False;, score=(train=0.574, test=0.424) total time=   1.7s\n",
      "[CV 4/5] END mnb__alpha=1.0, mnb__fit_prior=False;, score=(train=0.585, test=0.399) total time=   1.8s\n",
      "[CV 5/5] END mnb__alpha=1.0, mnb__fit_prior=False;, score=(train=0.583, test=0.390) total time=   2.0s\n",
      "[CV 1/5] END mnb__alpha=1.2, mnb__fit_prior=True;, score=(train=0.554, test=0.408) total time=   2.0s\n",
      "[CV 3/5] END mnb__alpha=1.2, mnb__fit_prior=True;, score=(train=0.543, test=0.426) total time=   1.9s\n",
      "[CV 1/5] END mnb__alpha=1.2, mnb__fit_prior=False;, score=(train=0.583, test=0.406) total time=   1.9s\n",
      "[CV 5/5] END mnb__alpha=1.2, mnb__fit_prior=True;, score=(train=0.560, test=0.420) total time=   1.9s\n",
      "[CV 2/5] END mnb__alpha=1.2, mnb__fit_prior=True;, score=(train=0.552, test=0.435) total time=   2.1s\n",
      "[CV 4/5] END mnb__alpha=1.2, mnb__fit_prior=False;, score=(train=0.585, test=0.397) total time=   1.9s\n",
      "[CV 4/5] END mnb__alpha=1.2, mnb__fit_prior=True;, score=(train=0.556, test=0.425) total time=   2.1s\n",
      "[CV 5/5] END mnb__alpha=1.2, mnb__fit_prior=False;, score=(train=0.582, test=0.392) total time=   1.9s\n",
      "[CV 2/5] END mnb__alpha=1.2, mnb__fit_prior=False;, score=(train=0.577, test=0.404) total time=   2.0s\n",
      "[CV 3/5] END mnb__alpha=1.2, mnb__fit_prior=False;, score=(train=0.575, test=0.424) total time=   2.0s\n",
      "[CV 2/5] END mnb__alpha=1.4000000000000001, mnb__fit_prior=True;, score=(train=0.549, test=0.436) total time=   1.7s\n",
      "[CV 1/5] END mnb__alpha=1.4000000000000001, mnb__fit_prior=True;, score=(train=0.551, test=0.408) total time=   1.8s\n",
      "[CV 3/5] END mnb__alpha=1.4000000000000001, mnb__fit_prior=True;, score=(train=0.541, test=0.425) total time=   1.7s\n",
      "[CV 4/5] END mnb__alpha=1.4000000000000001, mnb__fit_prior=True;, score=(train=0.552, test=0.426) total time=   1.7s\n",
      "[CV 1/5] END mnb__alpha=1.4000000000000001, mnb__fit_prior=False;, score=(train=0.582, test=0.405) total time=   1.7s\n",
      "[CV 5/5] END mnb__alpha=1.4000000000000001, mnb__fit_prior=True;, score=(train=0.556, test=0.421) total time=   1.8s\n",
      "[CV 3/5] END mnb__alpha=1.4000000000000001, mnb__fit_prior=False;, score=(train=0.573, test=0.426) total time=   1.8s\n",
      "[CV 2/5] END mnb__alpha=1.4000000000000001, mnb__fit_prior=False;, score=(train=0.577, test=0.406) total time=   1.9s\n",
      "[CV 4/5] END mnb__alpha=1.4000000000000001, mnb__fit_prior=False;, score=(train=0.586, test=0.402) total time=   1.9s\n",
      "[CV 5/5] END mnb__alpha=1.4000000000000001, mnb__fit_prior=False;, score=(train=0.583, test=0.392) total time=   1.9s\n",
      "[CV 1/5] END mnb__alpha=1.6, mnb__fit_prior=True;, score=(train=0.547, test=0.409) total time=   1.9s\n",
      "[CV 3/5] END mnb__alpha=1.6, mnb__fit_prior=True;, score=(train=0.538, test=0.427) total time=   1.8s\n",
      "[CV 2/5] END mnb__alpha=1.6, mnb__fit_prior=True;, score=(train=0.545, test=0.438) total time=   1.8s\n",
      "[CV 4/5] END mnb__alpha=1.6, mnb__fit_prior=True;, score=(train=0.549, test=0.427) total time=   1.9s\n",
      "[CV 5/5] END mnb__alpha=1.6, mnb__fit_prior=True;, score=(train=0.552, test=0.420) total time=   1.9s\n",
      "[CV 5/5] END mnb__alpha=1.6, mnb__fit_prior=False;, score=(train=0.582, test=0.390) total time=   1.8s\n",
      "[CV 2/5] END mnb__alpha=1.6, mnb__fit_prior=False;, score=(train=0.576, test=0.407) total time=   1.9s\n",
      "[CV 1/5] END mnb__alpha=1.6, mnb__fit_prior=False;, score=(train=0.581, test=0.404) total time=   1.9s\n",
      "[CV 4/5] END mnb__alpha=1.6, mnb__fit_prior=False;, score=(train=0.585, test=0.401) total time=   2.0s\n",
      "[CV 3/5] END mnb__alpha=1.6, mnb__fit_prior=False;, score=(train=0.572, test=0.427) total time=   2.1s\n",
      "[CV 2/5] END mnb__alpha=1.8, mnb__fit_prior=True;, score=(train=0.541, test=0.436) total time=   1.7s\n",
      "[CV 1/5] END mnb__alpha=1.8, mnb__fit_prior=True;, score=(train=0.546, test=0.411) total time=   1.7s\n",
      "[CV 3/5] END mnb__alpha=1.8, mnb__fit_prior=True;, score=(train=0.535, test=0.425) total time=   1.8s\n",
      "[CV 4/5] END mnb__alpha=1.8, mnb__fit_prior=True;, score=(train=0.546, test=0.424) total time=   1.8s\n",
      "[CV 5/5] END mnb__alpha=1.8, mnb__fit_prior=True;, score=(train=0.548, test=0.422) total time=   1.7s\n",
      "[CV 1/5] END mnb__alpha=1.8, mnb__fit_prior=False;, score=(train=0.580, test=0.407) total time=   1.6s\n",
      "[CV 2/5] END mnb__alpha=1.8, mnb__fit_prior=False;, score=(train=0.575, test=0.407) total time=   1.7s\n",
      "[CV 3/5] END mnb__alpha=1.8, mnb__fit_prior=False;, score=(train=0.571, test=0.427) total time=   2.0s\n",
      "[CV 4/5] END mnb__alpha=1.8, mnb__fit_prior=False;, score=(train=0.587, test=0.402) total time=   1.8s\n",
      "[CV 5/5] END mnb__alpha=1.8, mnb__fit_prior=False;, score=(train=0.582, test=0.393) total time=   2.0s\n",
      "[CV 1/5] END mnb__alpha=2.0, mnb__fit_prior=True;, score=(train=0.543, test=0.410) total time=   1.9s\n",
      "[CV 2/5] END mnb__alpha=2.0, mnb__fit_prior=True;, score=(train=0.536, test=0.437) total time=   1.8s\n",
      "[CV 3/5] END mnb__alpha=2.0, mnb__fit_prior=True;, score=(train=0.530, test=0.424) total time=   1.8s\n",
      "[CV 4/5] END mnb__alpha=2.0, mnb__fit_prior=True;, score=(train=0.541, test=0.423) total time=   1.9s\n",
      "[CV 5/5] END mnb__alpha=2.0, mnb__fit_prior=True;, score=(train=0.546, test=0.423) total time=   1.9s\n",
      "[CV 2/5] END mnb__alpha=2.0, mnb__fit_prior=False;, score=(train=0.579, test=0.411) total time=   1.9s\n",
      "[CV 2/5] END mnb__alpha=2.2, mnb__fit_prior=True;, score=(train=0.531, test=0.435) total time=   1.7s\n",
      "[CV 1/5] END mnb__alpha=2.0, mnb__fit_prior=False;, score=(train=0.580, test=0.406) total time=   2.0s\n",
      "[CV 4/5] END mnb__alpha=2.2, mnb__fit_prior=True;, score=(train=0.536, test=0.423) total time=   1.7s\n",
      "[CV 3/5] END mnb__alpha=2.2, mnb__fit_prior=True;, score=(train=0.527, test=0.425) total time=   1.7s\n",
      "[CV 1/5] END mnb__alpha=2.2, mnb__fit_prior=False;, score=(train=0.580, test=0.406) total time=   1.7s\n",
      "[CV 4/5] END mnb__alpha=2.0, mnb__fit_prior=False;, score=(train=0.587, test=0.403) total time=   1.9s\n",
      "[CV 5/5] END mnb__alpha=2.2, mnb__fit_prior=True;, score=(train=0.542, test=0.424) total time=   1.7s\n",
      "[CV 3/5] END mnb__alpha=2.0, mnb__fit_prior=False;, score=(train=0.572, test=0.427) total time=   2.1s\n",
      "[CV 5/5] END mnb__alpha=2.0, mnb__fit_prior=False;, score=(train=0.581, test=0.394) total time=   2.1s\n",
      "[CV 2/5] END mnb__alpha=2.2, mnb__fit_prior=False;, score=(train=0.579, test=0.413) total time=   1.7s\n",
      "[CV 1/5] END mnb__alpha=2.2, mnb__fit_prior=True;, score=(train=0.540, test=0.411) total time=   2.2s\n",
      "[CV 3/5] END mnb__alpha=2.2, mnb__fit_prior=False;, score=(train=0.573, test=0.427) total time=   1.8s\n",
      "[CV 4/5] END mnb__alpha=2.2, mnb__fit_prior=False;, score=(train=0.585, test=0.405) total time=   2.0s\n",
      "[CV 2/5] END mnb__alpha=2.4000000000000004, mnb__fit_prior=True;, score=(train=0.527, test=0.435) total time=   1.9s\n",
      "[CV 1/5] END mnb__alpha=2.4000000000000004, mnb__fit_prior=True;, score=(train=0.537, test=0.410) total time=   2.0s\n",
      "[CV 3/5] END mnb__alpha=2.4000000000000004, mnb__fit_prior=True;, score=(train=0.522, test=0.422) total time=   2.0s\n",
      "[CV 5/5] END mnb__alpha=2.2, mnb__fit_prior=False;, score=(train=0.580, test=0.397) total time=   2.4s\n",
      "[CV 2/5] END mnb__alpha=2.4000000000000004, mnb__fit_prior=False;, score=(train=0.577, test=0.413) total time=   1.7s\n",
      "[CV 4/5] END mnb__alpha=2.4000000000000004, mnb__fit_prior=True;, score=(train=0.532, test=0.421) total time=   2.0s\n",
      "[CV 5/5] END mnb__alpha=2.4000000000000004, mnb__fit_prior=True;, score=(train=0.540, test=0.426) total time=   2.0s\n",
      "[CV 1/5] END mnb__alpha=2.4000000000000004, mnb__fit_prior=False;, score=(train=0.578, test=0.406) total time=   2.0s\n",
      "[CV 3/5] END mnb__alpha=2.4000000000000004, mnb__fit_prior=False;, score=(train=0.571, test=0.429) total time=   1.8s\n",
      "[CV 5/5] END mnb__alpha=2.4000000000000004, mnb__fit_prior=False;, score=(train=0.579, test=0.401) total time=   1.7s\n",
      "[CV 4/5] END mnb__alpha=2.4000000000000004, mnb__fit_prior=False;, score=(train=0.583, test=0.405) total time=   1.7s\n",
      "[CV 2/5] END mnb__alpha=2.6000000000000005, mnb__fit_prior=True;, score=(train=0.523, test=0.432) total time=   1.8s\n",
      "[CV 5/5] END mnb__alpha=2.6000000000000005, mnb__fit_prior=True;, score=(train=0.535, test=0.423) total time=   1.7s\n",
      "[CV 4/5] END mnb__alpha=2.6000000000000005, mnb__fit_prior=True;, score=(train=0.528, test=0.419) total time=   1.8s\n",
      "[CV 1/5] END mnb__alpha=2.6000000000000005, mnb__fit_prior=True;, score=(train=0.535, test=0.411) total time=   2.1s\n",
      "[CV 3/5] END mnb__alpha=2.6000000000000005, mnb__fit_prior=True;, score=(train=0.518, test=0.421) total time=   2.0s\n",
      "[CV 1/5] END mnb__alpha=2.6000000000000005, mnb__fit_prior=False;, score=(train=0.578, test=0.403) total time=   2.1s\n",
      "[CV 3/5] END mnb__alpha=2.6000000000000005, mnb__fit_prior=False;, score=(train=0.572, test=0.432) total time=   1.7s\n",
      "[CV 2/5] END mnb__alpha=2.6000000000000005, mnb__fit_prior=False;, score=(train=0.577, test=0.414) total time=   2.0s\n",
      "[CV 4/5] END mnb__alpha=2.6000000000000005, mnb__fit_prior=False;, score=(train=0.583, test=0.404) total time=   1.9s\n",
      "[CV 4/5] END mnb__alpha=2.8000000000000003, mnb__fit_prior=True;, score=(train=0.523, test=0.421) total time=   1.7s\n",
      "[CV 5/5] END mnb__alpha=2.6000000000000005, mnb__fit_prior=False;, score=(train=0.579, test=0.399) total time=   1.8s\n",
      "[CV 1/5] END mnb__alpha=2.8000000000000003, mnb__fit_prior=True;, score=(train=0.529, test=0.412) total time=   1.9s\n",
      "[CV 2/5] END mnb__alpha=2.8000000000000003, mnb__fit_prior=True;, score=(train=0.521, test=0.431) total time=   1.8s\n",
      "[CV 3/5] END mnb__alpha=2.8000000000000003, mnb__fit_prior=True;, score=(train=0.515, test=0.419) total time=   1.8s\n",
      "[CV 3/5] END mnb__alpha=2.8000000000000003, mnb__fit_prior=False;, score=(train=0.570, test=0.434) total time=   1.6s\n",
      "[CV 4/5] END mnb__alpha=2.8000000000000003, mnb__fit_prior=False;, score=(train=0.584, test=0.406) total time=   1.6s\n",
      "[CV 5/5] END mnb__alpha=2.8000000000000003, mnb__fit_prior=True;, score=(train=0.530, test=0.421) total time=   1.9s\n",
      "[CV 5/5] END mnb__alpha=2.8000000000000003, mnb__fit_prior=False;, score=(train=0.578, test=0.404) total time=   1.6s\n",
      "[CV 1/5] END mnb__alpha=2.8000000000000003, mnb__fit_prior=False;, score=(train=0.577, test=0.401) total time=   1.8s\n",
      "[CV 2/5] END mnb__alpha=2.8000000000000003, mnb__fit_prior=False;, score=(train=0.577, test=0.414) total time=   1.8s\n",
      "[CV 1/5] END mnb__alpha=3.0000000000000004, mnb__fit_prior=True;, score=(train=0.524, test=0.410) total time=   1.6s\n",
      "[CV 2/5] END mnb__alpha=3.0000000000000004, mnb__fit_prior=True;, score=(train=0.516, test=0.431) total time=   1.7s\n",
      "[CV 2/5] END mnb__alpha=3.0000000000000004, mnb__fit_prior=False;, score=(train=0.576, test=0.419) total time=   1.6s\n",
      "[CV 3/5] END mnb__alpha=3.0000000000000004, mnb__fit_prior=True;, score=(train=0.512, test=0.417) total time=   1.9s\n",
      "[CV 5/5] END mnb__alpha=3.0000000000000004, mnb__fit_prior=True;, score=(train=0.528, test=0.418) total time=   1.9s\n",
      "[CV 4/5] END mnb__alpha=3.0000000000000004, mnb__fit_prior=True;, score=(train=0.520, test=0.418) total time=   2.0s\n",
      "[CV 1/5] END mnb__alpha=3.0000000000000004, mnb__fit_prior=False;, score=(train=0.576, test=0.401) total time=   1.9s\n",
      "[CV 3/5] END mnb__alpha=3.0000000000000004, mnb__fit_prior=False;, score=(train=0.569, test=0.433) total time=   1.9s\n",
      "[CV 4/5] END mnb__alpha=3.0000000000000004, mnb__fit_prior=False;, score=(train=0.584, test=0.407) total time=   1.8s\n",
      "[CV 1/5] END mnb__alpha=3.2, mnb__fit_prior=True;, score=(train=0.519, test=0.407) total time=   1.7s\n",
      "[CV 5/5] END mnb__alpha=3.0000000000000004, mnb__fit_prior=False;, score=(train=0.577, test=0.408) total time=   1.8s\n",
      "[CV 5/5] END mnb__alpha=3.2, mnb__fit_prior=True;, score=(train=0.525, test=0.416) total time=   1.7s\n",
      "[CV 4/5] END mnb__alpha=3.2, mnb__fit_prior=True;, score=(train=0.515, test=0.415) total time=   1.7s\n",
      "[CV 1/5] END mnb__alpha=3.2, mnb__fit_prior=False;, score=(train=0.576, test=0.399) total time=   1.7s\n",
      "[CV 2/5] END mnb__alpha=3.2, mnb__fit_prior=True;, score=(train=0.512, test=0.425) total time=   1.8s\n",
      "[CV 3/5] END mnb__alpha=3.2, mnb__fit_prior=True;, score=(train=0.508, test=0.415) total time=   1.8s\n",
      "[CV 1/5] END mnb__alpha=3.4000000000000004, mnb__fit_prior=True;, score=(train=0.514, test=0.408) total time=   1.7s\n",
      "[CV 2/5] END mnb__alpha=3.2, mnb__fit_prior=False;, score=(train=0.574, test=0.420) total time=   1.8s\n",
      "[CV 2/5] END mnb__alpha=3.4000000000000004, mnb__fit_prior=True;, score=(train=0.508, test=0.424) total time=   1.7s\n",
      "[CV 4/5] END mnb__alpha=3.2, mnb__fit_prior=False;, score=(train=0.583, test=0.405) total time=   1.9s\n",
      "[CV 5/5] END mnb__alpha=3.2, mnb__fit_prior=False;, score=(train=0.577, test=0.410) total time=   1.9s\n",
      "[CV 3/5] END mnb__alpha=3.2, mnb__fit_prior=False;, score=(train=0.566, test=0.432) total time=   2.1s\n",
      "[CV 4/5] END mnb__alpha=3.4000000000000004, mnb__fit_prior=True;, score=(train=0.513, test=0.416) total time=   1.7s\n",
      "[CV 5/5] END mnb__alpha=3.4000000000000004, mnb__fit_prior=True;, score=(train=0.522, test=0.418) total time=   2.4s\n",
      "[CV 3/5] END mnb__alpha=3.4000000000000004, mnb__fit_prior=True;, score=(train=0.504, test=0.415) total time=   2.4s\n",
      "[CV 1/5] END mnb__alpha=3.4000000000000004, mnb__fit_prior=False;, score=(train=0.574, test=0.405) total time=   2.4s\n",
      "[CV 2/5] END mnb__alpha=3.4000000000000004, mnb__fit_prior=False;, score=(train=0.573, test=0.423) total time=   2.3s\n",
      "[CV 3/5] END mnb__alpha=3.4000000000000004, mnb__fit_prior=False;, score=(train=0.566, test=0.434) total time=   2.3s\n",
      "[CV 4/5] END mnb__alpha=3.4000000000000004, mnb__fit_prior=False;, score=(train=0.580, test=0.408) total time=   2.0s\n",
      "[CV 5/5] END mnb__alpha=3.4000000000000004, mnb__fit_prior=False;, score=(train=0.577, test=0.407) total time=   1.7s\n",
      "[CV 2/5] END mnb__alpha=3.6000000000000005, mnb__fit_prior=True;, score=(train=0.505, test=0.421) total time=   1.7s\n",
      "[CV 3/5] END mnb__alpha=3.6000000000000005, mnb__fit_prior=True;, score=(train=0.500, test=0.413) total time=   1.8s\n",
      "[CV 4/5] END mnb__alpha=3.6000000000000005, mnb__fit_prior=True;, score=(train=0.508, test=0.411) total time=   1.8s\n",
      "[CV 2/5] END mnb__alpha=3.6000000000000005, mnb__fit_prior=False;, score=(train=0.573, test=0.426) total time=   1.7s\n",
      "[CV 1/5] END mnb__alpha=3.6000000000000005, mnb__fit_prior=True;, score=(train=0.510, test=0.406) total time=   2.0s\n",
      "[CV 4/5] END mnb__alpha=3.6000000000000005, mnb__fit_prior=False;, score=(train=0.581, test=0.411) total time=   1.7s\n",
      "[CV 5/5] END mnb__alpha=3.6000000000000005, mnb__fit_prior=True;, score=(train=0.517, test=0.419) total time=   1.9s\n",
      "[CV 1/5] END mnb__alpha=3.6000000000000005, mnb__fit_prior=False;, score=(train=0.573, test=0.408) total time=   2.0s\n",
      "[CV 3/5] END mnb__alpha=3.6000000000000005, mnb__fit_prior=False;, score=(train=0.566, test=0.436) total time=   1.9s\n",
      "[CV 5/5] END mnb__alpha=3.6000000000000005, mnb__fit_prior=False;, score=(train=0.578, test=0.404) total time=   1.9s\n",
      "[CV 1/5] END mnb__alpha=3.8000000000000003, mnb__fit_prior=True;, score=(train=0.506, test=0.405) total time=   2.0s\n",
      "[CV 3/5] END mnb__alpha=3.8000000000000003, mnb__fit_prior=True;, score=(train=0.496, test=0.410) total time=   1.8s\n",
      "[CV 2/5] END mnb__alpha=3.8000000000000003, mnb__fit_prior=True;, score=(train=0.500, test=0.418) total time=   2.0s\n",
      "[CV 4/5] END mnb__alpha=3.8000000000000003, mnb__fit_prior=True;, score=(train=0.504, test=0.411) total time=   1.9s\n",
      "[CV 5/5] END mnb__alpha=3.8000000000000003, mnb__fit_prior=True;, score=(train=0.513, test=0.419) total time=   2.0s\n",
      "[CV 1/5] END mnb__alpha=3.8000000000000003, mnb__fit_prior=False;, score=(train=0.573, test=0.410) total time=   2.0s\n",
      "[CV 4/5] END mnb__alpha=3.8000000000000003, mnb__fit_prior=False;, score=(train=0.581, test=0.406) total time=   1.7s\n",
      "[CV 2/5] END mnb__alpha=3.8000000000000003, mnb__fit_prior=False;, score=(train=0.573, test=0.427) total time=   2.0s\n",
      "[CV 1/5] END mnb__alpha=4.0, mnb__fit_prior=True;, score=(train=0.501, test=0.405) total time=   1.7s\n",
      "[CV 5/5] END mnb__alpha=3.8000000000000003, mnb__fit_prior=False;, score=(train=0.577, test=0.405) total time=   1.9s\n",
      "[CV 2/5] END mnb__alpha=4.0, mnb__fit_prior=True;, score=(train=0.497, test=0.416) total time=   1.7s\n",
      "[CV 3/5] END mnb__alpha=3.8000000000000003, mnb__fit_prior=False;, score=(train=0.564, test=0.437) total time=   2.1s\n",
      "[CV 3/5] END mnb__alpha=4.0, mnb__fit_prior=True;, score=(train=0.492, test=0.408) total time=   1.7s\n",
      "[CV 4/5] END mnb__alpha=4.0, mnb__fit_prior=True;, score=(train=0.501, test=0.411) total time=   1.7s\n",
      "[CV 5/5] END mnb__alpha=4.0, mnb__fit_prior=True;, score=(train=0.508, test=0.418) total time=   1.8s\n",
      "[CV 1/5] END mnb__alpha=4.0, mnb__fit_prior=False;, score=(train=0.573, test=0.406) total time=   1.7s\n",
      "[CV 3/5] END mnb__alpha=4.0, mnb__fit_prior=False;, score=(train=0.562, test=0.435) total time=   1.9s\n",
      "[CV 2/5] END mnb__alpha=4.0, mnb__fit_prior=False;, score=(train=0.572, test=0.428) total time=   1.9s\n",
      "[CV 4/5] END mnb__alpha=4.0, mnb__fit_prior=False;, score=(train=0.578, test=0.406) total time=   1.8s\n",
      "[CV 5/5] END mnb__alpha=4.0, mnb__fit_prior=False;, score=(train=0.577, test=0.405) total time=   1.8s\n",
      "[CV 2/5] END mnb__alpha=4.2, mnb__fit_prior=True;, score=(train=0.493, test=0.414) total time=   1.7s\n",
      "[CV 1/5] END mnb__alpha=4.2, mnb__fit_prior=True;, score=(train=0.495, test=0.406) total time=   1.8s\n",
      "[CV 3/5] END mnb__alpha=4.2, mnb__fit_prior=True;, score=(train=0.487, test=0.406) total time=   1.8s\n",
      "[CV 2/5] END mnb__alpha=4.2, mnb__fit_prior=False;, score=(train=0.568, test=0.426) total time=   1.7s\n",
      "[CV 4/5] END mnb__alpha=4.2, mnb__fit_prior=True;, score=(train=0.495, test=0.411) total time=   1.9s\n",
      "[CV 1/5] END mnb__alpha=4.2, mnb__fit_prior=False;, score=(train=0.571, test=0.406) total time=   2.0s\n",
      "[CV 1/5] END mnb__alpha=4.4, mnb__fit_prior=True;, score=(train=0.491, test=0.405) total time=   1.8s\n",
      "[CV 5/5] END mnb__alpha=4.2, mnb__fit_prior=False;, score=(train=0.576, test=0.407) total time=   1.8s\n",
      "[CV 5/5] END mnb__alpha=4.2, mnb__fit_prior=True;, score=(train=0.503, test=0.421) total time=   2.0s\n",
      "[CV 3/5] END mnb__alpha=4.4, mnb__fit_prior=True;, score=(train=0.482, test=0.406) total time=   1.8s\n",
      "[CV 3/5] END mnb__alpha=4.2, mnb__fit_prior=False;, score=(train=0.559, test=0.433) total time=   2.0s\n",
      "[CV 4/5] END mnb__alpha=4.2, mnb__fit_prior=False;, score=(train=0.576, test=0.405) total time=   1.9s\n",
      "[CV 4/5] END mnb__alpha=4.4, mnb__fit_prior=True;, score=(train=0.491, test=0.408) total time=   1.7s\n",
      "[CV 2/5] END mnb__alpha=4.4, mnb__fit_prior=True;, score=(train=0.489, test=0.412) total time=   2.0s\n",
      "[CV 1/5] END mnb__alpha=4.4, mnb__fit_prior=False;, score=(train=0.570, test=0.406) total time=   1.8s\n",
      "[CV 5/5] END mnb__alpha=4.4, mnb__fit_prior=True;, score=(train=0.499, test=0.422) total time=   1.9s\n",
      "[CV 2/5] END mnb__alpha=4.4, mnb__fit_prior=False;, score=(train=0.568, test=0.430) total time=   1.9s\n",
      "[CV 5/5] END mnb__alpha=4.4, mnb__fit_prior=False;, score=(train=0.575, test=0.408) total time=   1.7s\n",
      "[CV 3/5] END mnb__alpha=4.4, mnb__fit_prior=False;, score=(train=0.559, test=0.431) total time=   1.9s\n",
      "[CV 4/5] END mnb__alpha=4.4, mnb__fit_prior=False;, score=(train=0.574, test=0.407) total time=   1.8s\n",
      "[CV 2/5] END mnb__alpha=4.6000000000000005, mnb__fit_prior=True;, score=(train=0.486, test=0.408) total time=   1.8s\n",
      "[CV 1/5] END mnb__alpha=4.6000000000000005, mnb__fit_prior=True;, score=(train=0.486, test=0.405) total time=   1.9s\n",
      "[CV 3/5] END mnb__alpha=4.6000000000000005, mnb__fit_prior=True;, score=(train=0.480, test=0.402) total time=   2.0s\n",
      "[CV 4/5] END mnb__alpha=4.6000000000000005, mnb__fit_prior=True;, score=(train=0.486, test=0.407) total time=   1.7s\n",
      "[CV 2/5] END mnb__alpha=4.6000000000000005, mnb__fit_prior=False;, score=(train=0.567, test=0.431) total time=   1.7s\n",
      "[CV 5/5] END mnb__alpha=4.6000000000000005, mnb__fit_prior=False;, score=(train=0.575, test=0.404) total time=   1.6s\n",
      "[CV 3/5] END mnb__alpha=4.6000000000000005, mnb__fit_prior=False;, score=(train=0.558, test=0.432) total time=   1.7s\n",
      "[CV 5/5] END mnb__alpha=4.6000000000000005, mnb__fit_prior=True;, score=(train=0.495, test=0.419) total time=   1.9s\n",
      "[CV 3/5] END mnb__alpha=4.800000000000001, mnb__fit_prior=True;, score=(train=0.475, test=0.401) total time=   1.7s\n",
      "[CV 1/5] END mnb__alpha=4.6000000000000005, mnb__fit_prior=False;, score=(train=0.570, test=0.405) total time=   1.9s\n",
      "[CV 4/5] END mnb__alpha=4.800000000000001, mnb__fit_prior=True;, score=(train=0.483, test=0.405) total time=   1.7s\n",
      "[CV 2/5] END mnb__alpha=4.800000000000001, mnb__fit_prior=True;, score=(train=0.483, test=0.404) total time=   1.8s\n",
      "[CV 1/5] END mnb__alpha=4.800000000000001, mnb__fit_prior=True;, score=(train=0.483, test=0.406) total time=   1.8s\n",
      "[CV 4/5] END mnb__alpha=4.6000000000000005, mnb__fit_prior=False;, score=(train=0.571, test=0.411) total time=   1.9s\n",
      "[CV 5/5] END mnb__alpha=4.800000000000001, mnb__fit_prior=True;, score=(train=0.490, test=0.417) total time=   1.9s\n",
      "[CV 1/5] END mnb__alpha=4.800000000000001, mnb__fit_prior=False;, score=(train=0.567, test=0.404) total time=   1.8s\n",
      "[CV 3/5] END mnb__alpha=4.800000000000001, mnb__fit_prior=False;, score=(train=0.557, test=0.431) total time=   1.6s\n",
      "[CV 2/5] END mnb__alpha=4.800000000000001, mnb__fit_prior=False;, score=(train=0.567, test=0.434) total time=   1.7s\n",
      "[CV 5/5] END mnb__alpha=4.800000000000001, mnb__fit_prior=False;, score=(train=0.574, test=0.406) total time=   1.8s\n",
      "[CV 4/5] END mnb__alpha=4.800000000000001, mnb__fit_prior=False;, score=(train=0.569, test=0.410) total time=   1.8s\n",
      "[CV 1/5] END mnb__alpha=5.000000000000001, mnb__fit_prior=True;, score=(train=0.479, test=0.406) total time=   1.8s\n",
      "[CV 2/5] END mnb__alpha=5.000000000000001, mnb__fit_prior=True;, score=(train=0.479, test=0.405) total time=   1.8s\n",
      "[CV 3/5] END mnb__alpha=5.000000000000001, mnb__fit_prior=True;, score=(train=0.471, test=0.400) total time=   1.7s\n",
      "[CV 4/5] END mnb__alpha=5.000000000000001, mnb__fit_prior=True;, score=(train=0.477, test=0.406) total time=   1.7s\n",
      "[CV 5/5] END mnb__alpha=5.000000000000001, mnb__fit_prior=True;, score=(train=0.486, test=0.416) total time=   1.8s\n",
      "[CV 1/5] END mnb__alpha=5.000000000000001, mnb__fit_prior=False;, score=(train=0.565, test=0.403) total time=   1.7s\n",
      "[CV 2/5] END mnb__alpha=5.000000000000001, mnb__fit_prior=False;, score=(train=0.564, test=0.436) total time=   1.7s\n",
      "[CV 4/5] END mnb__alpha=5.000000000000001, mnb__fit_prior=False;, score=(train=0.567, test=0.411) total time=   1.7s\n",
      "[CV 3/5] END mnb__alpha=5.000000000000001, mnb__fit_prior=False;, score=(train=0.557, test=0.432) total time=   1.9s\n",
      "[CV 4/5] END mnb__alpha=5.2, mnb__fit_prior=True;, score=(train=0.473, test=0.406) total time=   1.7s\n",
      "[CV 2/5] END mnb__alpha=5.2, mnb__fit_prior=True;, score=(train=0.473, test=0.406) total time=   1.8s\n",
      "[CV 5/5] END mnb__alpha=5.000000000000001, mnb__fit_prior=False;, score=(train=0.574, test=0.408) total time=   1.9s\n",
      "[CV 1/5] END mnb__alpha=5.2, mnb__fit_prior=True;, score=(train=0.475, test=0.405) total time=   1.9s\n",
      "[CV 3/5] END mnb__alpha=5.2, mnb__fit_prior=True;, score=(train=0.466, test=0.398) total time=   1.9s\n",
      "[CV 2/5] END mnb__alpha=5.2, mnb__fit_prior=False;, score=(train=0.560, test=0.435) total time=   1.7s\n",
      "[CV 1/5] END mnb__alpha=5.2, mnb__fit_prior=False;, score=(train=0.564, test=0.407) total time=   1.8s\n",
      "[CV 5/5] END mnb__alpha=5.2, mnb__fit_prior=True;, score=(train=0.481, test=0.416) total time=   2.0s\n",
      "[CV 3/5] END mnb__alpha=5.2, mnb__fit_prior=False;, score=(train=0.556, test=0.432) total time=   1.8s\n",
      "[CV 5/5] END mnb__alpha=5.2, mnb__fit_prior=False;, score=(train=0.571, test=0.408) total time=   1.7s\n",
      "[CV 4/5] END mnb__alpha=5.2, mnb__fit_prior=False;, score=(train=0.566, test=0.411) total time=   1.8s\n",
      "[CV 1/5] END mnb__alpha=5.4, mnb__fit_prior=True;, score=(train=0.472, test=0.403) total time=   1.8s\n",
      "[CV 2/5] END mnb__alpha=5.4, mnb__fit_prior=True;, score=(train=0.471, test=0.406) total time=   1.8s\n",
      "[CV 3/5] END mnb__alpha=5.4, mnb__fit_prior=True;, score=(train=0.462, test=0.396) total time=   1.8s\n",
      "[CV 4/5] END mnb__alpha=5.4, mnb__fit_prior=True;, score=(train=0.471, test=0.404) total time=   1.7s\n",
      "[CV 1/5] END mnb__alpha=5.4, mnb__fit_prior=False;, score=(train=0.562, test=0.409) total time=   1.6s\n",
      "[CV 5/5] END mnb__alpha=5.4, mnb__fit_prior=True;, score=(train=0.477, test=0.416) total time=   1.7s\n",
      "[CV 2/5] END mnb__alpha=5.4, mnb__fit_prior=False;, score=(train=0.558, test=0.436) total time=   1.7s\n",
      "[CV 3/5] END mnb__alpha=5.4, mnb__fit_prior=False;, score=(train=0.553, test=0.431) total time=   1.7s\n",
      "[CV 5/5] END mnb__alpha=5.4, mnb__fit_prior=False;, score=(train=0.570, test=0.413) total time=   1.6s\n",
      "[CV 2/5] END mnb__alpha=5.6000000000000005, mnb__fit_prior=True;, score=(train=0.466, test=0.407) total time=   1.8s\n",
      "[CV 5/5] END mnb__alpha=5.6000000000000005, mnb__fit_prior=True;, score=(train=0.474, test=0.415) total time=   1.7s\n",
      "[CV 4/5] END mnb__alpha=5.4, mnb__fit_prior=False;, score=(train=0.565, test=0.410) total time=   1.9s\n",
      "[CV 4/5] END mnb__alpha=5.6000000000000005, mnb__fit_prior=True;, score=(train=0.468, test=0.403) total time=   1.8s\n",
      "[CV 1/5] END mnb__alpha=5.6000000000000005, mnb__fit_prior=True;, score=(train=0.468, test=0.401) total time=   1.9s\n",
      "[CV 3/5] END mnb__alpha=5.6000000000000005, mnb__fit_prior=True;, score=(train=0.460, test=0.395) total time=   1.9s\n",
      "[CV 1/5] END mnb__alpha=5.6000000000000005, mnb__fit_prior=False;, score=(train=0.559, test=0.409) total time=   1.7s\n",
      "[CV 3/5] END mnb__alpha=5.6000000000000005, mnb__fit_prior=False;, score=(train=0.551, test=0.433) total time=   1.8s\n",
      "[CV 2/5] END mnb__alpha=5.6000000000000005, mnb__fit_prior=False;, score=(train=0.556, test=0.438) total time=   1.9s\n",
      "[CV 5/5] END mnb__alpha=5.6000000000000005, mnb__fit_prior=False;, score=(train=0.568, test=0.411) total time=   1.7s\n",
      "[CV 4/5] END mnb__alpha=5.6000000000000005, mnb__fit_prior=False;, score=(train=0.564, test=0.410) total time=   1.8s\n",
      "[CV 1/5] END mnb__alpha=5.800000000000001, mnb__fit_prior=True;, score=(train=0.465, test=0.401) total time=   1.8s\n",
      "[CV 2/5] END mnb__alpha=5.800000000000001, mnb__fit_prior=True;, score=(train=0.463, test=0.406) total time=   1.8s\n",
      "[CV 4/5] END mnb__alpha=5.800000000000001, mnb__fit_prior=True;, score=(train=0.466, test=0.404) total time=   1.6s\n",
      "[CV 3/5] END mnb__alpha=5.800000000000001, mnb__fit_prior=True;, score=(train=0.457, test=0.396) total time=   1.8s\n",
      "[CV 5/5] END mnb__alpha=5.800000000000001, mnb__fit_prior=True;, score=(train=0.471, test=0.412) total time=   1.6s\n",
      "[CV 1/5] END mnb__alpha=5.800000000000001, mnb__fit_prior=False;, score=(train=0.559, test=0.408) total time=   1.7s\n",
      "[CV 2/5] END mnb__alpha=5.800000000000001, mnb__fit_prior=False;, score=(train=0.555, test=0.438) total time=   1.7s\n",
      "[CV 3/5] END mnb__alpha=5.800000000000001, mnb__fit_prior=False;, score=(train=0.549, test=0.430) total time=   1.7s\n",
      "[CV 4/5] END mnb__alpha=5.800000000000001, mnb__fit_prior=False;, score=(train=0.562, test=0.409) total time=   1.7s\n",
      "[CV 1/5] END mnb__alpha=6.000000000000001, mnb__fit_prior=True;, score=(train=0.461, test=0.401) total time=   1.7s\n",
      "[CV 5/5] END mnb__alpha=5.800000000000001, mnb__fit_prior=False;, score=(train=0.566, test=0.409) total time=   1.7s\n",
      "[CV 5/5] END mnb__alpha=6.000000000000001, mnb__fit_prior=True;, score=(train=0.468, test=0.411) total time=   1.8s\n",
      "[CV 2/5] END mnb__alpha=6.000000000000001, mnb__fit_prior=True;, score=(train=0.458, test=0.403) total time=   2.0s\n",
      "[CV 1/5] END mnb__alpha=6.000000000000001, mnb__fit_prior=False;, score=(train=0.557, test=0.408) total time=   1.9s\n",
      "[CV 3/5] END mnb__alpha=6.000000000000001, mnb__fit_prior=True;, score=(train=0.454, test=0.395) total time=   2.0s\n",
      "[CV 4/5] END mnb__alpha=6.000000000000001, mnb__fit_prior=True;, score=(train=0.463, test=0.401) total time=   2.1s\n",
      "[CV 2/5] END mnb__alpha=6.000000000000001, mnb__fit_prior=False;, score=(train=0.554, test=0.436) total time=   1.8s\n",
      "[CV 4/5] END mnb__alpha=6.000000000000001, mnb__fit_prior=False;, score=(train=0.561, test=0.407) total time=   1.8s\n",
      "[CV 1/5] END mnb__alpha=6.2, mnb__fit_prior=True;, score=(train=0.457, test=0.400) total time=   1.8s\n",
      "[CV 2/5] END mnb__alpha=6.2, mnb__fit_prior=True;, score=(train=0.455, test=0.403) total time=   1.8s\n",
      "[CV 3/5] END mnb__alpha=6.000000000000001, mnb__fit_prior=False;, score=(train=0.547, test=0.428) total time=   2.1s\n",
      "[CV 5/5] END mnb__alpha=6.000000000000001, mnb__fit_prior=False;, score=(train=0.564, test=0.410) total time=   2.1s\n",
      "[CV 3/5] END mnb__alpha=6.2, mnb__fit_prior=True;, score=(train=0.452, test=0.396) total time=   1.7s\n",
      "[CV 5/5] END mnb__alpha=6.2, mnb__fit_prior=True;, score=(train=0.465, test=0.406) total time=   1.7s\n",
      "[CV 1/5] END mnb__alpha=6.2, mnb__fit_prior=False;, score=(train=0.554, test=0.408) total time=   1.7s\n",
      "[CV 2/5] END mnb__alpha=6.2, mnb__fit_prior=False;, score=(train=0.551, test=0.433) total time=   1.7s\n",
      "[CV 4/5] END mnb__alpha=6.2, mnb__fit_prior=True;, score=(train=0.461, test=0.401) total time=   2.0s\n",
      "[CV 3/5] END mnb__alpha=6.2, mnb__fit_prior=False;, score=(train=0.544, test=0.429) total time=   1.7s\n",
      "[CV 4/5] END mnb__alpha=6.2, mnb__fit_prior=False;, score=(train=0.559, test=0.410) total time=   1.7s\n",
      "[CV 5/5] END mnb__alpha=6.2, mnb__fit_prior=False;, score=(train=0.562, test=0.413) total time=   1.7s\n",
      "[CV 1/5] END mnb__alpha=6.4, mnb__fit_prior=True;, score=(train=0.455, test=0.400) total time=   1.8s\n",
      "[CV 3/5] END mnb__alpha=6.4, mnb__fit_prior=True;, score=(train=0.449, test=0.397) total time=   1.8s\n",
      "[CV 2/5] END mnb__alpha=6.4, mnb__fit_prior=True;, score=(train=0.452, test=0.402) total time=   1.8s\n",
      "[CV 4/5] END mnb__alpha=6.4, mnb__fit_prior=True;, score=(train=0.458, test=0.402) total time=   1.9s\n",
      "[CV 5/5] END mnb__alpha=6.4, mnb__fit_prior=True;, score=(train=0.461, test=0.404) total time=   1.9s\n",
      "[CV 1/5] END mnb__alpha=6.4, mnb__fit_prior=False;, score=(train=0.552, test=0.408) total time=   1.8s\n",
      "[CV 2/5] END mnb__alpha=6.4, mnb__fit_prior=False;, score=(train=0.550, test=0.429) total time=   1.8s\n",
      "[CV 3/5] END mnb__alpha=6.4, mnb__fit_prior=False;, score=(train=0.542, test=0.427) total time=   1.8s\n",
      "[CV 4/5] END mnb__alpha=6.4, mnb__fit_prior=False;, score=(train=0.558, test=0.410) total time=   1.8s\n",
      "[CV 5/5] END mnb__alpha=6.4, mnb__fit_prior=False;, score=(train=0.561, test=0.415) total time=   1.8s\n",
      "[CV 3/5] END mnb__alpha=6.6000000000000005, mnb__fit_prior=True;, score=(train=0.447, test=0.397) total time=   1.6s\n",
      "[CV 1/5] END mnb__alpha=6.6000000000000005, mnb__fit_prior=True;, score=(train=0.452, test=0.400) total time=   1.9s\n",
      "[CV 4/5] END mnb__alpha=6.6000000000000005, mnb__fit_prior=True;, score=(train=0.456, test=0.401) total time=   1.6s\n",
      "[CV 2/5] END mnb__alpha=6.6000000000000005, mnb__fit_prior=True;, score=(train=0.448, test=0.403) total time=   2.0s\n",
      "[CV 5/5] END mnb__alpha=6.6000000000000005, mnb__fit_prior=True;, score=(train=0.458, test=0.406) total time=   1.6s\n",
      "[CV 1/5] END mnb__alpha=6.6000000000000005, mnb__fit_prior=False;, score=(train=0.551, test=0.408) total time=   1.7s\n",
      "[CV 3/5] END mnb__alpha=6.6000000000000005, mnb__fit_prior=False;, score=(train=0.541, test=0.427) total time=   1.6s\n",
      "[CV 2/5] END mnb__alpha=6.6000000000000005, mnb__fit_prior=False;, score=(train=0.549, test=0.427) total time=   1.8s\n",
      "[CV 4/5] END mnb__alpha=6.6000000000000005, mnb__fit_prior=False;, score=(train=0.558, test=0.412) total time=   1.7s\n",
      "[CV 5/5] END mnb__alpha=6.6000000000000005, mnb__fit_prior=False;, score=(train=0.559, test=0.418) total time=   1.6s\n",
      "[CV 1/5] END mnb__alpha=6.800000000000001, mnb__fit_prior=True;, score=(train=0.450, test=0.401) total time=   1.8s\n",
      "[CV 3/5] END mnb__alpha=6.800000000000001, mnb__fit_prior=True;, score=(train=0.444, test=0.398) total time=   1.8s\n",
      "[CV 2/5] END mnb__alpha=6.800000000000001, mnb__fit_prior=True;, score=(train=0.444, test=0.403) total time=   1.9s\n",
      "[CV 1/5] END mnb__alpha=6.800000000000001, mnb__fit_prior=False;, score=(train=0.551, test=0.406) total time=   1.7s\n",
      "[CV 4/5] END mnb__alpha=6.800000000000001, mnb__fit_prior=True;, score=(train=0.451, test=0.401) total time=   1.8s\n",
      "[CV 5/5] END mnb__alpha=6.800000000000001, mnb__fit_prior=True;, score=(train=0.456, test=0.407) total time=   1.8s\n",
      "[CV 2/5] END mnb__alpha=6.800000000000001, mnb__fit_prior=False;, score=(train=0.547, test=0.430) total time=   1.8s\n",
      "[CV 3/5] END mnb__alpha=6.800000000000001, mnb__fit_prior=False;, score=(train=0.538, test=0.425) total time=   1.7s\n",
      "[CV 4/5] END mnb__alpha=6.800000000000001, mnb__fit_prior=False;, score=(train=0.557, test=0.413) total time=   1.8s\n",
      "[CV 1/5] END mnb__alpha=7.000000000000001, mnb__fit_prior=True;, score=(train=0.447, test=0.400) total time=   1.7s\n",
      "[CV 5/5] END mnb__alpha=6.800000000000001, mnb__fit_prior=False;, score=(train=0.557, test=0.419) total time=   1.8s\n",
      "[CV 3/5] END mnb__alpha=7.000000000000001, mnb__fit_prior=True;, score=(train=0.442, test=0.396) total time=   1.7s\n",
      "[CV 5/5] END mnb__alpha=7.000000000000001, mnb__fit_prior=True;, score=(train=0.452, test=0.406) total time=   1.7s\n",
      "[CV 2/5] END mnb__alpha=7.000000000000001, mnb__fit_prior=True;, score=(train=0.442, test=0.401) total time=   2.0s\n",
      "[CV 4/5] END mnb__alpha=7.000000000000001, mnb__fit_prior=True;, score=(train=0.448, test=0.402) total time=   1.9s\n",
      "[CV 1/5] END mnb__alpha=7.000000000000001, mnb__fit_prior=False;, score=(train=0.549, test=0.408) total time=   1.6s\n",
      "[CV 2/5] END mnb__alpha=7.000000000000001, mnb__fit_prior=False;, score=(train=0.545, test=0.433) total time=   1.6s\n",
      "[CV 4/5] END mnb__alpha=7.000000000000001, mnb__fit_prior=False;, score=(train=0.554, test=0.414) total time=   1.7s\n",
      "[CV 3/5] END mnb__alpha=7.000000000000001, mnb__fit_prior=False;, score=(train=0.538, test=0.424) total time=   1.8s\n",
      "[CV 5/5] END mnb__alpha=7.000000000000001, mnb__fit_prior=False;, score=(train=0.554, test=0.425) total time=   1.6s\n",
      "[CV 1/5] END mnb__alpha=7.2, mnb__fit_prior=True;, score=(train=0.444, test=0.395) total time=   1.8s\n",
      "[CV 3/5] END mnb__alpha=7.2, mnb__fit_prior=True;, score=(train=0.439, test=0.396) total time=   1.8s\n",
      "[CV 2/5] END mnb__alpha=7.2, mnb__fit_prior=True;, score=(train=0.439, test=0.400) total time=   2.0s\n",
      "[CV 4/5] END mnb__alpha=7.2, mnb__fit_prior=True;, score=(train=0.444, test=0.398) total time=   1.8s\n",
      "[CV 5/5] END mnb__alpha=7.2, mnb__fit_prior=True;, score=(train=0.450, test=0.405) total time=   1.8s\n",
      "[CV 3/5] END mnb__alpha=7.2, mnb__fit_prior=False;, score=(train=0.537, test=0.423) total time=   1.8s\n",
      "[CV 2/5] END mnb__alpha=7.2, mnb__fit_prior=False;, score=(train=0.544, test=0.435) total time=   1.9s\n",
      "[CV 5/5] END mnb__alpha=7.2, mnb__fit_prior=False;, score=(train=0.552, test=0.430) total time=   1.7s\n",
      "[CV 1/5] END mnb__alpha=7.2, mnb__fit_prior=False;, score=(train=0.546, test=0.410) total time=   2.0s\n",
      "[CV 2/5] END mnb__alpha=7.4, mnb__fit_prior=True;, score=(train=0.438, test=0.399) total time=   1.6s\n",
      "[CV 4/5] END mnb__alpha=7.2, mnb__fit_prior=False;, score=(train=0.553, test=0.417) total time=   1.8s\n",
      "[CV 1/5] END mnb__alpha=7.4, mnb__fit_prior=True;, score=(train=0.440, test=0.393) total time=   1.8s\n",
      "[CV 3/5] END mnb__alpha=7.4, mnb__fit_prior=True;, score=(train=0.436, test=0.394) total time=   1.7s\n",
      "[CV 1/5] END mnb__alpha=7.4, mnb__fit_prior=False;, score=(train=0.544, test=0.411) total time=   1.7s\n",
      "[CV 2/5] END mnb__alpha=7.4, mnb__fit_prior=False;, score=(train=0.542, test=0.430) total time=   1.6s\n",
      "[CV 3/5] END mnb__alpha=7.4, mnb__fit_prior=False;, score=(train=0.536, test=0.423) total time=   1.6s\n",
      "[CV 4/5] END mnb__alpha=7.4, mnb__fit_prior=True;, score=(train=0.442, test=0.396) total time=   1.9s\n",
      "[CV 5/5] END mnb__alpha=7.4, mnb__fit_prior=True;, score=(train=0.448, test=0.405) total time=   1.9s\n",
      "[CV 5/5] END mnb__alpha=7.4, mnb__fit_prior=False;, score=(train=0.551, test=0.430) total time=   1.7s\n",
      "[CV 4/5] END mnb__alpha=7.4, mnb__fit_prior=False;, score=(train=0.550, test=0.418) total time=   2.0s\n",
      "[CV 1/5] END mnb__alpha=7.6000000000000005, mnb__fit_prior=True;, score=(train=0.437, test=0.393) total time=   1.8s\n",
      "[CV 2/5] END mnb__alpha=7.6000000000000005, mnb__fit_prior=True;, score=(train=0.435, test=0.399) total time=   1.9s\n",
      "[CV 3/5] END mnb__alpha=7.6000000000000005, mnb__fit_prior=True;, score=(train=0.435, test=0.392) total time=   1.8s\n",
      "[CV 2/5] END mnb__alpha=7.6000000000000005, mnb__fit_prior=False;, score=(train=0.541, test=0.429) total time=   1.7s\n",
      "[CV 5/5] END mnb__alpha=7.6000000000000005, mnb__fit_prior=True;, score=(train=0.447, test=0.405) total time=   1.9s\n",
      "[CV 5/5] END mnb__alpha=7.6000000000000005, mnb__fit_prior=False;, score=(train=0.550, test=0.428) total time=   1.8s\n",
      "[CV 4/5] END mnb__alpha=7.6000000000000005, mnb__fit_prior=True;, score=(train=0.440, test=0.395) total time=   2.0s\n",
      "[CV 3/5] END mnb__alpha=7.6000000000000005, mnb__fit_prior=False;, score=(train=0.533, test=0.425) total time=   1.9s\n",
      "[CV 1/5] END mnb__alpha=7.6000000000000005, mnb__fit_prior=False;, score=(train=0.542, test=0.408) total time=   1.9s\n",
      "[CV 1/5] END mnb__alpha=7.800000000000001, mnb__fit_prior=True;, score=(train=0.435, test=0.394) total time=   1.8s\n",
      "[CV 4/5] END mnb__alpha=7.6000000000000005, mnb__fit_prior=False;, score=(train=0.549, test=0.420) total time=   1.9s\n",
      "[CV 2/5] END mnb__alpha=7.800000000000001, mnb__fit_prior=True;, score=(train=0.432, test=0.399) total time=   1.8s\n",
      "[CV 3/5] END mnb__alpha=7.800000000000001, mnb__fit_prior=True;, score=(train=0.433, test=0.391) total time=   1.8s\n",
      "[CV 4/5] END mnb__alpha=7.800000000000001, mnb__fit_prior=True;, score=(train=0.438, test=0.395) total time=   1.7s\n",
      "[CV 5/5] END mnb__alpha=7.800000000000001, mnb__fit_prior=True;, score=(train=0.445, test=0.404) total time=   1.7s\n",
      "[CV 3/5] END mnb__alpha=7.800000000000001, mnb__fit_prior=False;, score=(train=0.531, test=0.422) total time=   1.7s\n",
      "[CV 4/5] END mnb__alpha=7.800000000000001, mnb__fit_prior=False;, score=(train=0.547, test=0.423) total time=   1.7s\n",
      "[CV 1/5] END mnb__alpha=7.800000000000001, mnb__fit_prior=False;, score=(train=0.540, test=0.408) total time=   1.9s\n",
      "[CV 2/5] END mnb__alpha=7.800000000000001, mnb__fit_prior=False;, score=(train=0.538, test=0.431) total time=   2.0s\n",
      "[CV 5/5] END mnb__alpha=7.800000000000001, mnb__fit_prior=False;, score=(train=0.548, test=0.430) total time=   1.8s\n",
      "[CV 1/5] END mnb__alpha=8.0, mnb__fit_prior=True;, score=(train=0.433, test=0.394) total time=   1.9s\n",
      "[CV 4/5] END mnb__alpha=8.0, mnb__fit_prior=True;, score=(train=0.436, test=0.394) total time=   1.8s\n",
      "[CV 5/5] END mnb__alpha=8.0, mnb__fit_prior=True;, score=(train=0.443, test=0.403) total time=   1.7s\n",
      "[CV 3/5] END mnb__alpha=8.0, mnb__fit_prior=True;, score=(train=0.431, test=0.390) total time=   1.9s\n",
      "[CV 2/5] END mnb__alpha=8.0, mnb__fit_prior=True;, score=(train=0.430, test=0.398) total time=   2.0s\n",
      "[CV 2/5] END mnb__alpha=8.2, mnb__fit_prior=True;, score=(train=0.429, test=0.397) total time=   1.7s\n",
      "[CV 1/5] END mnb__alpha=8.0, mnb__fit_prior=False;, score=(train=0.540, test=0.409) total time=   1.9s\n",
      "[CV 4/5] END mnb__alpha=8.0, mnb__fit_prior=False;, score=(train=0.543, test=0.424) total time=   2.0s\n",
      "[CV 4/5] END mnb__alpha=8.2, mnb__fit_prior=True;, score=(train=0.433, test=0.393) total time=   1.8s\n",
      "[CV 5/5] END mnb__alpha=8.2, mnb__fit_prior=True;, score=(train=0.440, test=0.402) total time=   1.7s\n",
      "[CV 2/5] END mnb__alpha=8.0, mnb__fit_prior=False;, score=(train=0.536, test=0.431) total time=   2.0s\n",
      "[CV 1/5] END mnb__alpha=8.2, mnb__fit_prior=True;, score=(train=0.431, test=0.395) total time=   1.9s\n",
      "[CV 3/5] END mnb__alpha=8.2, mnb__fit_prior=True;, score=(train=0.430, test=0.390) total time=   1.8s\n",
      "[CV 3/5] END mnb__alpha=8.0, mnb__fit_prior=False;, score=(train=0.529, test=0.425) total time=   2.1s\n",
      "[CV 5/5] END mnb__alpha=8.0, mnb__fit_prior=False;, score=(train=0.547, test=0.432) total time=   2.0s\n",
      "[CV 1/5] END mnb__alpha=8.2, mnb__fit_prior=False;, score=(train=0.538, test=0.413) total time=   1.7s\n",
      "[CV 2/5] END mnb__alpha=8.2, mnb__fit_prior=False;, score=(train=0.534, test=0.430) total time=   1.7s\n",
      "[CV 3/5] END mnb__alpha=8.2, mnb__fit_prior=False;, score=(train=0.526, test=0.424) total time=   1.9s\n",
      "[CV 4/5] END mnb__alpha=8.2, mnb__fit_prior=False;, score=(train=0.541, test=0.426) total time=   2.0s\n",
      "[CV 5/5] END mnb__alpha=8.2, mnb__fit_prior=False;, score=(train=0.545, test=0.430) total time=   2.0s\n",
      "[CV 1/5] END mnb__alpha=8.4, mnb__fit_prior=True;, score=(train=0.430, test=0.398) total time=   1.9s\n",
      "[CV 2/5] END mnb__alpha=8.4, mnb__fit_prior=True;, score=(train=0.426, test=0.397) total time=   1.7s\n",
      "[CV 3/5] END mnb__alpha=8.4, mnb__fit_prior=True;, score=(train=0.428, test=0.389) total time=   1.7s\n",
      "[CV 5/5] END mnb__alpha=8.4, mnb__fit_prior=True;, score=(train=0.439, test=0.400) total time=   1.8s\n",
      "[CV 1/5] END mnb__alpha=8.4, mnb__fit_prior=False;, score=(train=0.537, test=0.413) total time=   1.7s\n",
      "[CV 4/5] END mnb__alpha=8.4, mnb__fit_prior=True;, score=(train=0.432, test=0.392) total time=   1.9s\n",
      "[CV 2/5] END mnb__alpha=8.4, mnb__fit_prior=False;, score=(train=0.533, test=0.432) total time=   1.8s[CV 4/5] END mnb__alpha=8.4, mnb__fit_prior=False;, score=(train=0.539, test=0.427) total time=   1.7s\n",
      "\n",
      "[CV 1/5] END mnb__alpha=8.6, mnb__fit_prior=True;, score=(train=0.428, test=0.397) total time=   1.7s\n",
      "[CV 3/5] END mnb__alpha=8.4, mnb__fit_prior=False;, score=(train=0.525, test=0.422) total time=   1.8s\n",
      "[CV 5/5] END mnb__alpha=8.4, mnb__fit_prior=False;, score=(train=0.544, test=0.430) total time=   1.8s\n",
      "[CV 2/5] END mnb__alpha=8.6, mnb__fit_prior=True;, score=(train=0.425, test=0.396) total time=   1.8s\n",
      "[CV 1/5] END mnb__alpha=8.6, mnb__fit_prior=False;, score=(train=0.536, test=0.410) total time=   1.6s\n",
      "[CV 5/5] END mnb__alpha=8.6, mnb__fit_prior=True;, score=(train=0.436, test=0.399) total time=   1.8s\n",
      "[CV 3/5] END mnb__alpha=8.6, mnb__fit_prior=True;, score=(train=0.427, test=0.389) total time=   2.0s\n",
      "[CV 2/5] END mnb__alpha=8.6, mnb__fit_prior=False;, score=(train=0.531, test=0.427) total time=   1.7s\n",
      "[CV 4/5] END mnb__alpha=8.6, mnb__fit_prior=True;, score=(train=0.429, test=0.392) total time=   2.0s\n",
      "[CV 3/5] END mnb__alpha=8.6, mnb__fit_prior=False;, score=(train=0.523, test=0.422) total time=   2.0s\n",
      "[CV 4/5] END mnb__alpha=8.6, mnb__fit_prior=False;, score=(train=0.537, test=0.426) total time=   1.9s\n",
      "[CV 1/5] END mnb__alpha=8.799999999999999, mnb__fit_prior=True;, score=(train=0.426, test=0.398) total time=   1.7s\n",
      "[CV 5/5] END mnb__alpha=8.6, mnb__fit_prior=False;, score=(train=0.541, test=0.428) total time=   1.9s\n",
      "[CV 2/5] END mnb__alpha=8.799999999999999, mnb__fit_prior=True;, score=(train=0.424, test=0.394) total time=   1.6s\n",
      "[CV 3/5] END mnb__alpha=8.799999999999999, mnb__fit_prior=True;, score=(train=0.425, test=0.389) total time=   1.7s\n",
      "[CV 4/5] END mnb__alpha=8.799999999999999, mnb__fit_prior=True;, score=(train=0.428, test=0.392) total time=   1.7s\n",
      "[CV 2/5] END mnb__alpha=8.799999999999999, mnb__fit_prior=False;, score=(train=0.529, test=0.427) total time=   1.6s\n",
      "[CV 3/5] END mnb__alpha=8.799999999999999, mnb__fit_prior=False;, score=(train=0.523, test=0.420) total time=   1.7s\n",
      "[CV 5/5] END mnb__alpha=8.799999999999999, mnb__fit_prior=True;, score=(train=0.434, test=0.398) total time=   1.8s\n",
      "[CV 1/5] END mnb__alpha=8.799999999999999, mnb__fit_prior=False;, score=(train=0.533, test=0.412) total time=   1.8s\n",
      "[CV 4/5] END mnb__alpha=8.799999999999999, mnb__fit_prior=False;, score=(train=0.535, test=0.427) total time=   1.8s\n",
      "[CV 5/5] END mnb__alpha=8.799999999999999, mnb__fit_prior=False;, score=(train=0.539, test=0.428) total time=   1.8s\n",
      "[CV 4/5] END mnb__alpha=9.0, mnb__fit_prior=True;, score=(train=0.426, test=0.390) total time=   1.6s\n",
      "[CV 2/5] END mnb__alpha=9.0, mnb__fit_prior=True;, score=(train=0.423, test=0.393) total time=   1.8s\n",
      "[CV 1/5] END mnb__alpha=9.0, mnb__fit_prior=True;, score=(train=0.424, test=0.398) total time=   1.8s\n",
      "[CV 3/5] END mnb__alpha=9.0, mnb__fit_prior=True;, score=(train=0.423, test=0.389) total time=   1.8s\n",
      "[CV 2/5] END mnb__alpha=9.0, mnb__fit_prior=False;, score=(train=0.527, test=0.426) total time=   1.7s\n",
      "[CV 5/5] END mnb__alpha=9.0, mnb__fit_prior=True;, score=(train=0.432, test=0.397) total time=   1.9s\n",
      "[CV 1/5] END mnb__alpha=9.0, mnb__fit_prior=False;, score=(train=0.531, test=0.411) total time=   1.8s\n",
      "[CV 4/5] END mnb__alpha=9.0, mnb__fit_prior=False;, score=(train=0.534, test=0.427) total time=   1.8s\n",
      "[CV 3/5] END mnb__alpha=9.0, mnb__fit_prior=False;, score=(train=0.521, test=0.421) total time=   1.9s\n",
      "[CV 5/5] END mnb__alpha=9.0, mnb__fit_prior=False;, score=(train=0.537, test=0.425) total time=   1.8s\n",
      "[CV 1/5] END mnb__alpha=9.2, mnb__fit_prior=True;, score=(train=0.422, test=0.398) total time=   1.8s\n",
      "[CV 2/5] END mnb__alpha=9.2, mnb__fit_prior=True;, score=(train=0.422, test=0.392) total time=   1.7s\n",
      "[CV 3/5] END mnb__alpha=9.2, mnb__fit_prior=True;, score=(train=0.422, test=0.389) total time=   1.7s\n",
      "[CV 4/5] END mnb__alpha=9.2, mnb__fit_prior=True;, score=(train=0.424, test=0.389) total time=   1.7s\n",
      "[CV 5/5] END mnb__alpha=9.2, mnb__fit_prior=True;, score=(train=0.430, test=0.394) total time=   1.7s\n",
      "[CV 2/5] END mnb__alpha=9.2, mnb__fit_prior=False;, score=(train=0.526, test=0.426) total time=   1.7s\n",
      "[CV 1/5] END mnb__alpha=9.2, mnb__fit_prior=False;, score=(train=0.529, test=0.409) total time=   1.8s\n",
      "[CV 3/5] END mnb__alpha=9.2, mnb__fit_prior=False;, score=(train=0.518, test=0.421) total time=   1.8s\n",
      "[CV 1/5] END mnb__alpha=9.4, mnb__fit_prior=True;, score=(train=0.420, test=0.397) total time=   1.7s\n",
      "[CV 5/5] END mnb__alpha=9.2, mnb__fit_prior=False;, score=(train=0.536, test=0.427) total time=   1.8s\n",
      "[CV 3/5] END mnb__alpha=9.4, mnb__fit_prior=True;, score=(train=0.421, test=0.389) total time=   1.7s\n",
      "[CV 5/5] END mnb__alpha=9.4, mnb__fit_prior=True;, score=(train=0.428, test=0.395) total time=   1.7s\n",
      "[CV 2/5] END mnb__alpha=9.4, mnb__fit_prior=True;, score=(train=0.420, test=0.391) total time=   1.8s\n",
      "[CV 4/5] END mnb__alpha=9.2, mnb__fit_prior=False;, score=(train=0.530, test=0.423) total time=   1.9s\n",
      "[CV 4/5] END mnb__alpha=9.4, mnb__fit_prior=True;, score=(train=0.423, test=0.390) total time=   1.8s\n",
      "[CV 2/5] END mnb__alpha=9.4, mnb__fit_prior=False;, score=(train=0.524, test=0.425) total time=   1.9s\n",
      "[CV 1/5] END mnb__alpha=9.4, mnb__fit_prior=False;, score=(train=0.527, test=0.408) total time=   1.9s\n",
      "[CV 3/5] END mnb__alpha=9.4, mnb__fit_prior=False;, score=(train=0.516, test=0.422) total time=   2.0s\n",
      "[CV 2/5] END mnb__alpha=9.6, mnb__fit_prior=True;, score=(train=0.418, test=0.392) total time=   1.7s\n",
      "[CV 1/5] END mnb__alpha=9.6, mnb__fit_prior=True;, score=(train=0.420, test=0.398) total time=   1.8s\n",
      "[CV 4/5] END mnb__alpha=9.4, mnb__fit_prior=False;, score=(train=0.528, test=0.423) total time=   2.1s\n",
      "[CV 5/5] END mnb__alpha=9.4, mnb__fit_prior=False;, score=(train=0.534, test=0.427) total time=   1.9s\n",
      "[CV 3/5] END mnb__alpha=9.6, mnb__fit_prior=True;, score=(train=0.420, test=0.389) total time=   1.8s\n",
      "[CV 4/5] END mnb__alpha=9.6, mnb__fit_prior=True;, score=(train=0.422, test=0.390) total time=   1.7s\n",
      "[CV 5/5] END mnb__alpha=9.6, mnb__fit_prior=True;, score=(train=0.426, test=0.395) total time=   1.8s\n",
      "[CV 1/5] END mnb__alpha=9.6, mnb__fit_prior=False;, score=(train=0.527, test=0.409) total time=   1.8s\n",
      "[CV 3/5] END mnb__alpha=9.6, mnb__fit_prior=False;, score=(train=0.514, test=0.422) total time=   1.8s\n",
      "[CV 2/5] END mnb__alpha=9.6, mnb__fit_prior=False;, score=(train=0.524, test=0.423) total time=   1.9s\n",
      "[CV 1/5] END mnb__alpha=9.8, mnb__fit_prior=True;, score=(train=0.418, test=0.398) total time=   1.6s\n",
      "[CV 4/5] END mnb__alpha=9.6, mnb__fit_prior=False;, score=(train=0.527, test=0.421) total time=   1.8s\n",
      "[CV 5/5] END mnb__alpha=9.6, mnb__fit_prior=False;, score=(train=0.533, test=0.428) total time=   1.9s\n",
      "[CV 2/5] END mnb__alpha=9.8, mnb__fit_prior=True;, score=(train=0.416, test=0.391) total time=   1.8s\n",
      "[CV 4/5] END mnb__alpha=9.8, mnb__fit_prior=True;, score=(train=0.420, test=0.389) total time=   1.8s\n",
      "[CV 5/5] END mnb__alpha=9.8, mnb__fit_prior=True;, score=(train=0.424, test=0.394) total time=   1.8s\n",
      "[CV 3/5] END mnb__alpha=9.8, mnb__fit_prior=True;, score=(train=0.419, test=0.388) total time=   1.9s\n",
      "[CV 1/5] END mnb__alpha=9.8, mnb__fit_prior=False;, score=(train=0.525, test=0.407) total time=   1.8s\n",
      "[CV 2/5] END mnb__alpha=9.8, mnb__fit_prior=False;, score=(train=0.521, test=0.420) total time=   1.8s\n",
      "[CV 3/5] END mnb__alpha=9.8, mnb__fit_prior=False;, score=(train=0.511, test=0.423) total time=   1.4s\n",
      "[CV 4/5] END mnb__alpha=9.8, mnb__fit_prior=False;, score=(train=0.526, test=0.421) total time=   1.4s\n",
      "[CV 5/5] END mnb__alpha=9.8, mnb__fit_prior=False;, score=(train=0.530, test=0.427) total time=   1.4s\n"
     ]
    },
    {
     "data": {
      "text/plain": [
       "0.42469240560033944"
      ]
     },
     "execution_count": 16,
     "metadata": {},
     "output_type": "execute_result"
    }
   ],
   "source": [
    "vectorizer = TfidfVectorizer(max_df=0.9, \n",
    "                             min_df=0.01\n",
    "                             )\n",
    "\n",
    "mnb = MultinomialNB()\n",
    "\n",
    "\n",
    "pipe = Pipeline(steps=\n",
    "                [\n",
    "                    ('tfidf', vectorizer),\n",
    "                    ('mnb', mnb)\n",
    "                ]\n",
    "            )\n",
    "\n",
    "param_grid = {\n",
    "    'mnb__alpha': np.arange(0.2, 10, 0.2),\n",
    "    'mnb__fit_prior':[True, False]\n",
    "}\n",
    "\n",
    "search = GridSearchCV(pipe, param_grid, n_jobs=-1, cv=5, verbose=3, return_train_score=True)\n",
    "search.fit(X_train_lyrics, y_train)\n",
    "search.score(X_test_lyrics, y_test)"
   ]
  },
  {
   "cell_type": "code",
   "execution_count": 17,
   "metadata": {},
   "outputs": [],
   "source": [
    "with open(MODEL_PATH / 'mnb_tfidf_hip_hop.pkl', 'wb') as file:\n",
    "    joblib.dump(search, file)"
   ]
  },
  {
   "cell_type": "markdown",
   "metadata": {},
   "source": [
    "# <a id='toc7_'></a>[Conclusion](#toc0_)\n",
    "\n",
    "Here we have tuned a few models with the finalized dataset and will evaluate the models further in the next notebook `7_model_evaluation`."
   ]
  }
 ],
 "metadata": {
  "kernelspec": {
   "display_name": "base",
   "language": "python",
   "name": "python3"
  },
  "language_info": {
   "codemirror_mode": {
    "name": "ipython",
    "version": 3
   },
   "file_extension": ".py",
   "mimetype": "text/x-python",
   "name": "python",
   "nbconvert_exporter": "python",
   "pygments_lexer": "ipython3",
   "version": "3.9.13"
  },
  "orig_nbformat": 4
 },
 "nbformat": 4,
 "nbformat_minor": 2
}
