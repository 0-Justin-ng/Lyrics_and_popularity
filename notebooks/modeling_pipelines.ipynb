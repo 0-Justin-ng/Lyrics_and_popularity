{
 "cells": [
  {
   "cell_type": "code",
   "execution_count": 2,
   "metadata": {},
   "outputs": [],
   "source": [
    "import numpy as np\n",
    "import pandas as pd \n",
    "import matplotlib.pyplot as plt\n",
    "\n",
    "import joblib\n",
    "import os\n",
    "import sys\n",
    "\n",
    "module_path = os.path.abspath(os.path.join('..'))\n",
    "if module_path not in sys.path:\n",
    "    sys.path.append(module_path)\n",
    "\n",
    "from utilities import utils\n",
    "from sklearn.linear_model import LogisticRegression\n",
    "from sklearn.pipeline import Pipeline\n",
    "from sklearn.feature_extraction.text import CountVectorizer, ENGLISH_STOP_WORDS\n",
    "from sklearn.model_selection import GridSearchCV, train_test_split\n",
    "\n",
    "DATA_PATH = utils.get_datapath('data')\n",
    "MODEL_PATH = utils.get_datapath('model')\n",
    "\n",
    "%load_ext autoreload\n",
    "%autoreload 2"
   ]
  },
  {
   "cell_type": "code",
   "execution_count": 4,
   "metadata": {},
   "outputs": [],
   "source": [
    "df = pd.read_csv(DATA_PATH / 'clean_lyrics_spotify_genres_ada.csv')"
   ]
  },
  {
   "cell_type": "code",
   "execution_count": 5,
   "metadata": {},
   "outputs": [
    {
     "data": {
      "text/html": [
       "<div>\n",
       "<style scoped>\n",
       "    .dataframe tbody tr th:only-of-type {\n",
       "        vertical-align: middle;\n",
       "    }\n",
       "\n",
       "    .dataframe tbody tr th {\n",
       "        vertical-align: top;\n",
       "    }\n",
       "\n",
       "    .dataframe thead th {\n",
       "        text-align: right;\n",
       "    }\n",
       "</style>\n",
       "<table border=\"1\" class=\"dataframe\">\n",
       "  <thead>\n",
       "    <tr style=\"text-align: right;\">\n",
       "      <th></th>\n",
       "      <th>Unnamed: 0.2</th>\n",
       "      <th>Unnamed: 0.1</th>\n",
       "      <th>Unnamed: 0</th>\n",
       "      <th>song</th>\n",
       "      <th>lyrics</th>\n",
       "      <th>title</th>\n",
       "      <th>primary_artist</th>\n",
       "      <th>views</th>\n",
       "      <th>cleaned_lyrics</th>\n",
       "      <th>language</th>\n",
       "      <th>log_scaled_views</th>\n",
       "      <th>popular</th>\n",
       "      <th>popularity</th>\n",
       "      <th>popularity_std</th>\n",
       "      <th>spotify_popularity</th>\n",
       "      <th>spotify_popularity_three_class</th>\n",
       "      <th>n_tokens</th>\n",
       "      <th>ada_embeddings</th>\n",
       "      <th>genre</th>\n",
       "      <th>spotify_popularity_two_class</th>\n",
       "    </tr>\n",
       "  </thead>\n",
       "  <tbody>\n",
       "    <tr>\n",
       "      <th>0</th>\n",
       "      <td>0</td>\n",
       "      <td>0</td>\n",
       "      <td>0</td>\n",
       "      <td>Kendrick-lamar-swimming-pools-drank-lyrics</td>\n",
       "      <td>\\n\\n[Produced by T-Minus]\\n\\n[Intro]\\nPour up ...</td>\n",
       "      <td>Swimming Pools (Drank)</td>\n",
       "      <td>Kendrick-lamar</td>\n",
       "      <td>5589280.0</td>\n",
       "      <td>pour up drank head shot drank sit down drank ...</td>\n",
       "      <td>en</td>\n",
       "      <td>15.536361</td>\n",
       "      <td>1</td>\n",
       "      <td>2</td>\n",
       "      <td>2</td>\n",
       "      <td>78.0</td>\n",
       "      <td>2</td>\n",
       "      <td>881</td>\n",
       "      <td>[0.011653340421617031, -0.0033766645938158035,...</td>\n",
       "      <td>hip hop</td>\n",
       "      <td>1</td>\n",
       "    </tr>\n",
       "    <tr>\n",
       "      <th>1</th>\n",
       "      <td>1</td>\n",
       "      <td>1</td>\n",
       "      <td>1</td>\n",
       "      <td>Kendrick-lamar-money-trees-lyrics</td>\n",
       "      <td>\\n\\n[Produced by DJ Dahi]\\n\\n[Verse 1: Kendric...</td>\n",
       "      <td>Money Trees</td>\n",
       "      <td>Kendrick-lamar</td>\n",
       "      <td>4592003.0</td>\n",
       "      <td>uh me and my niggas tryna get it ya bish ya b...</td>\n",
       "      <td>en</td>\n",
       "      <td>15.339827</td>\n",
       "      <td>1</td>\n",
       "      <td>2</td>\n",
       "      <td>2</td>\n",
       "      <td>81.0</td>\n",
       "      <td>2</td>\n",
       "      <td>1215</td>\n",
       "      <td>[0.0013736916007474065, -0.00975166354328394, ...</td>\n",
       "      <td>hip hop</td>\n",
       "      <td>1</td>\n",
       "    </tr>\n",
       "    <tr>\n",
       "      <th>2</th>\n",
       "      <td>2</td>\n",
       "      <td>2</td>\n",
       "      <td>2</td>\n",
       "      <td>Kendrick-lamar-xxx-lyrics</td>\n",
       "      <td>\\n\\n[Intro: Bēkon &amp; Kid Capri]\\nAmerica, God b...</td>\n",
       "      <td>XXX.</td>\n",
       "      <td>Kendrick-lamar</td>\n",
       "      <td>4651514.0</td>\n",
       "      <td>america god bless you if its good to you amer...</td>\n",
       "      <td>en</td>\n",
       "      <td>15.352703</td>\n",
       "      <td>1</td>\n",
       "      <td>2</td>\n",
       "      <td>2</td>\n",
       "      <td>69.0</td>\n",
       "      <td>2</td>\n",
       "      <td>686</td>\n",
       "      <td>[-0.014546433463692665, -0.006841110065579414,...</td>\n",
       "      <td>hip hop</td>\n",
       "      <td>1</td>\n",
       "    </tr>\n",
       "    <tr>\n",
       "      <th>3</th>\n",
       "      <td>3</td>\n",
       "      <td>3</td>\n",
       "      <td>3</td>\n",
       "      <td>A-ap-rocky-fuckin-problems-lyrics</td>\n",
       "      <td>\\n\\n[Chorus: 2 Chainz, Drake &amp; Both (A$AP Rock...</td>\n",
       "      <td>Fuckin’ Problems</td>\n",
       "      <td>A-ap-rocky</td>\n",
       "      <td>7378309.0</td>\n",
       "      <td>i love bad bitches thats my fuckin problem an...</td>\n",
       "      <td>en</td>\n",
       "      <td>15.814055</td>\n",
       "      <td>1</td>\n",
       "      <td>2</td>\n",
       "      <td>2</td>\n",
       "      <td>75.0</td>\n",
       "      <td>2</td>\n",
       "      <td>894</td>\n",
       "      <td>[-0.018262486904859543, 0.006630411371588707, ...</td>\n",
       "      <td>hip hop</td>\n",
       "      <td>1</td>\n",
       "    </tr>\n",
       "    <tr>\n",
       "      <th>4</th>\n",
       "      <td>4</td>\n",
       "      <td>4</td>\n",
       "      <td>4</td>\n",
       "      <td>Kendrick-lamar-dna-lyrics</td>\n",
       "      <td>\\n\\n[Verse 1]\\nI got, I got, I got, I got—\\nLo...</td>\n",
       "      <td>DNA.</td>\n",
       "      <td>Kendrick-lamar</td>\n",
       "      <td>5113687.0</td>\n",
       "      <td>i got i got i got i got loyalty got royalty i...</td>\n",
       "      <td>en</td>\n",
       "      <td>15.447431</td>\n",
       "      <td>1</td>\n",
       "      <td>2</td>\n",
       "      <td>2</td>\n",
       "      <td>80.0</td>\n",
       "      <td>2</td>\n",
       "      <td>759</td>\n",
       "      <td>[-0.023312833160161972, -0.012944793328642845,...</td>\n",
       "      <td>hip hop</td>\n",
       "      <td>1</td>\n",
       "    </tr>\n",
       "  </tbody>\n",
       "</table>\n",
       "</div>"
      ],
      "text/plain": [
       "   Unnamed: 0.2  Unnamed: 0.1  Unnamed: 0  \\\n",
       "0             0             0           0   \n",
       "1             1             1           1   \n",
       "2             2             2           2   \n",
       "3             3             3           3   \n",
       "4             4             4           4   \n",
       "\n",
       "                                         song  \\\n",
       "0  Kendrick-lamar-swimming-pools-drank-lyrics   \n",
       "1           Kendrick-lamar-money-trees-lyrics   \n",
       "2                   Kendrick-lamar-xxx-lyrics   \n",
       "3           A-ap-rocky-fuckin-problems-lyrics   \n",
       "4                   Kendrick-lamar-dna-lyrics   \n",
       "\n",
       "                                              lyrics                   title  \\\n",
       "0  \\n\\n[Produced by T-Minus]\\n\\n[Intro]\\nPour up ...  Swimming Pools (Drank)   \n",
       "1  \\n\\n[Produced by DJ Dahi]\\n\\n[Verse 1: Kendric...             Money Trees   \n",
       "2  \\n\\n[Intro: Bēkon & Kid Capri]\\nAmerica, God b...                    XXX.   \n",
       "3  \\n\\n[Chorus: 2 Chainz, Drake & Both (A$AP Rock...        Fuckin’ Problems   \n",
       "4  \\n\\n[Verse 1]\\nI got, I got, I got, I got—\\nLo...                    DNA.   \n",
       "\n",
       "   primary_artist      views  \\\n",
       "0  Kendrick-lamar  5589280.0   \n",
       "1  Kendrick-lamar  4592003.0   \n",
       "2  Kendrick-lamar  4651514.0   \n",
       "3      A-ap-rocky  7378309.0   \n",
       "4  Kendrick-lamar  5113687.0   \n",
       "\n",
       "                                      cleaned_lyrics language  \\\n",
       "0   pour up drank head shot drank sit down drank ...       en   \n",
       "1   uh me and my niggas tryna get it ya bish ya b...       en   \n",
       "2   america god bless you if its good to you amer...       en   \n",
       "3   i love bad bitches thats my fuckin problem an...       en   \n",
       "4   i got i got i got i got loyalty got royalty i...       en   \n",
       "\n",
       "   log_scaled_views  popular  popularity  popularity_std  spotify_popularity  \\\n",
       "0         15.536361        1           2               2                78.0   \n",
       "1         15.339827        1           2               2                81.0   \n",
       "2         15.352703        1           2               2                69.0   \n",
       "3         15.814055        1           2               2                75.0   \n",
       "4         15.447431        1           2               2                80.0   \n",
       "\n",
       "   spotify_popularity_three_class  n_tokens  \\\n",
       "0                               2       881   \n",
       "1                               2      1215   \n",
       "2                               2       686   \n",
       "3                               2       894   \n",
       "4                               2       759   \n",
       "\n",
       "                                      ada_embeddings    genre  \\\n",
       "0  [0.011653340421617031, -0.0033766645938158035,...  hip hop   \n",
       "1  [0.0013736916007474065, -0.00975166354328394, ...  hip hop   \n",
       "2  [-0.014546433463692665, -0.006841110065579414,...  hip hop   \n",
       "3  [-0.018262486904859543, 0.006630411371588707, ...  hip hop   \n",
       "4  [-0.023312833160161972, -0.012944793328642845,...  hip hop   \n",
       "\n",
       "   spotify_popularity_two_class  \n",
       "0                             1  \n",
       "1                             1  \n",
       "2                             1  \n",
       "3                             1  \n",
       "4                             1  "
      ]
     },
     "metadata": {},
     "output_type": "display_data"
    },
    {
     "data": {
      "text/plain": [
       "(35901, 20)"
      ]
     },
     "metadata": {},
     "output_type": "display_data"
    }
   ],
   "source": [
    "display(df.head())\n",
    "display(df.shape)"
   ]
  },
  {
   "cell_type": "code",
   "execution_count": 82,
   "metadata": {},
   "outputs": [
    {
     "name": "stdout",
     "output_type": "stream",
     "text": [
      "Fitting 5 folds for each of 7 candidates, totalling 35 fits\n",
      "[CV 1/5] END log_reg__C=0.0001, log_reg__solver=saga;, score=0.419 total time=  19.1s\n",
      "[CV 2/5] END log_reg__C=0.0001, log_reg__solver=saga;, score=0.409 total time=  19.1s\n",
      "[CV 4/5] END log_reg__C=0.0001, log_reg__solver=saga;, score=0.405 total time=  16.4s\n",
      "[CV 3/5] END log_reg__C=0.0001, log_reg__solver=saga;, score=0.415 total time=  18.5s\n",
      "[CV 5/5] END log_reg__C=0.0001, log_reg__solver=saga;, score=0.420 total time=  18.7s\n"
     ]
    },
    {
     "name": "stderr",
     "output_type": "stream",
     "text": [
      "/home/jng/anaconda3/lib/python3.9/site-packages/sklearn/linear_model/_sag.py:350: ConvergenceWarning: The max_iter was reached which means the coef_ did not converge\n",
      "  warnings.warn(\n"
     ]
    },
    {
     "name": "stdout",
     "output_type": "stream",
     "text": [
      "[CV 1/5] END log_reg__C=0.001, log_reg__solver=saga;, score=0.412 total time=  31.1s\n"
     ]
    },
    {
     "name": "stderr",
     "output_type": "stream",
     "text": [
      "/home/jng/anaconda3/lib/python3.9/site-packages/sklearn/linear_model/_sag.py:350: ConvergenceWarning: The max_iter was reached which means the coef_ did not converge\n",
      "  warnings.warn(\n"
     ]
    },
    {
     "name": "stdout",
     "output_type": "stream",
     "text": [
      "[CV 2/5] END log_reg__C=0.001, log_reg__solver=saga;, score=0.396 total time=  30.2s\n"
     ]
    },
    {
     "name": "stderr",
     "output_type": "stream",
     "text": [
      "/home/jng/anaconda3/lib/python3.9/site-packages/sklearn/linear_model/_sag.py:350: ConvergenceWarning: The max_iter was reached which means the coef_ did not converge\n",
      "  warnings.warn(\n"
     ]
    },
    {
     "name": "stdout",
     "output_type": "stream",
     "text": [
      "[CV 3/5] END log_reg__C=0.001, log_reg__solver=saga;, score=0.413 total time=  30.9s\n",
      "[CV 4/5] END log_reg__C=0.001, log_reg__solver=saga;, score=0.393 total time=  26.6s\n"
     ]
    },
    {
     "name": "stderr",
     "output_type": "stream",
     "text": [
      "/home/jng/anaconda3/lib/python3.9/site-packages/sklearn/linear_model/_sag.py:350: ConvergenceWarning: The max_iter was reached which means the coef_ did not converge\n",
      "  warnings.warn(\n"
     ]
    },
    {
     "name": "stdout",
     "output_type": "stream",
     "text": [
      "[CV 5/5] END log_reg__C=0.001, log_reg__solver=saga;, score=0.412 total time=  30.2s\n"
     ]
    },
    {
     "name": "stderr",
     "output_type": "stream",
     "text": [
      "/home/jng/anaconda3/lib/python3.9/site-packages/sklearn/linear_model/_sag.py:350: ConvergenceWarning: The max_iter was reached which means the coef_ did not converge\n",
      "  warnings.warn(\n"
     ]
    },
    {
     "name": "stdout",
     "output_type": "stream",
     "text": [
      "[CV 1/5] END log_reg__C=0.01, log_reg__solver=saga;, score=0.405 total time=  30.2s\n"
     ]
    },
    {
     "name": "stderr",
     "output_type": "stream",
     "text": [
      "/home/jng/anaconda3/lib/python3.9/site-packages/sklearn/linear_model/_sag.py:350: ConvergenceWarning: The max_iter was reached which means the coef_ did not converge\n",
      "  warnings.warn(\n"
     ]
    },
    {
     "name": "stdout",
     "output_type": "stream",
     "text": [
      "[CV 2/5] END log_reg__C=0.01, log_reg__solver=saga;, score=0.389 total time=  30.4s\n"
     ]
    },
    {
     "name": "stderr",
     "output_type": "stream",
     "text": [
      "/home/jng/anaconda3/lib/python3.9/site-packages/sklearn/linear_model/_sag.py:350: ConvergenceWarning: The max_iter was reached which means the coef_ did not converge\n",
      "  warnings.warn(\n"
     ]
    },
    {
     "name": "stdout",
     "output_type": "stream",
     "text": [
      "[CV 3/5] END log_reg__C=0.01, log_reg__solver=saga;, score=0.404 total time=  31.0s\n"
     ]
    },
    {
     "name": "stderr",
     "output_type": "stream",
     "text": [
      "/home/jng/anaconda3/lib/python3.9/site-packages/sklearn/linear_model/_sag.py:350: ConvergenceWarning: The max_iter was reached which means the coef_ did not converge\n",
      "  warnings.warn(\n"
     ]
    },
    {
     "name": "stdout",
     "output_type": "stream",
     "text": [
      "[CV 4/5] END log_reg__C=0.01, log_reg__solver=saga;, score=0.386 total time=  31.1s\n"
     ]
    },
    {
     "name": "stderr",
     "output_type": "stream",
     "text": [
      "/home/jng/anaconda3/lib/python3.9/site-packages/sklearn/linear_model/_sag.py:350: ConvergenceWarning: The max_iter was reached which means the coef_ did not converge\n",
      "  warnings.warn(\n"
     ]
    },
    {
     "name": "stdout",
     "output_type": "stream",
     "text": [
      "[CV 5/5] END log_reg__C=0.01, log_reg__solver=saga;, score=0.408 total time=  31.3s\n"
     ]
    },
    {
     "name": "stderr",
     "output_type": "stream",
     "text": [
      "/home/jng/anaconda3/lib/python3.9/site-packages/sklearn/linear_model/_sag.py:350: ConvergenceWarning: The max_iter was reached which means the coef_ did not converge\n",
      "  warnings.warn(\n"
     ]
    },
    {
     "name": "stdout",
     "output_type": "stream",
     "text": [
      "[CV 1/5] END log_reg__C=0.1, log_reg__solver=saga;, score=0.405 total time=  30.6s\n"
     ]
    },
    {
     "name": "stderr",
     "output_type": "stream",
     "text": [
      "/home/jng/anaconda3/lib/python3.9/site-packages/sklearn/linear_model/_sag.py:350: ConvergenceWarning: The max_iter was reached which means the coef_ did not converge\n",
      "  warnings.warn(\n"
     ]
    },
    {
     "name": "stdout",
     "output_type": "stream",
     "text": [
      "[CV 2/5] END log_reg__C=0.1, log_reg__solver=saga;, score=0.388 total time=  30.8s\n"
     ]
    },
    {
     "name": "stderr",
     "output_type": "stream",
     "text": [
      "/home/jng/anaconda3/lib/python3.9/site-packages/sklearn/linear_model/_sag.py:350: ConvergenceWarning: The max_iter was reached which means the coef_ did not converge\n",
      "  warnings.warn(\n"
     ]
    },
    {
     "name": "stdout",
     "output_type": "stream",
     "text": [
      "[CV 3/5] END log_reg__C=0.1, log_reg__solver=saga;, score=0.403 total time=  30.4s\n"
     ]
    },
    {
     "name": "stderr",
     "output_type": "stream",
     "text": [
      "/home/jng/anaconda3/lib/python3.9/site-packages/sklearn/linear_model/_sag.py:350: ConvergenceWarning: The max_iter was reached which means the coef_ did not converge\n",
      "  warnings.warn(\n"
     ]
    },
    {
     "name": "stdout",
     "output_type": "stream",
     "text": [
      "[CV 4/5] END log_reg__C=0.1, log_reg__solver=saga;, score=0.383 total time=  30.6s\n"
     ]
    },
    {
     "name": "stderr",
     "output_type": "stream",
     "text": [
      "/home/jng/anaconda3/lib/python3.9/site-packages/sklearn/linear_model/_sag.py:350: ConvergenceWarning: The max_iter was reached which means the coef_ did not converge\n",
      "  warnings.warn(\n"
     ]
    },
    {
     "name": "stdout",
     "output_type": "stream",
     "text": [
      "[CV 5/5] END log_reg__C=0.1, log_reg__solver=saga;, score=0.407 total time=  30.5s\n"
     ]
    },
    {
     "name": "stderr",
     "output_type": "stream",
     "text": [
      "/home/jng/anaconda3/lib/python3.9/site-packages/sklearn/linear_model/_sag.py:350: ConvergenceWarning: The max_iter was reached which means the coef_ did not converge\n",
      "  warnings.warn(\n"
     ]
    },
    {
     "name": "stdout",
     "output_type": "stream",
     "text": [
      "[CV 1/5] END log_reg__C=1, log_reg__solver=saga;, score=0.406 total time=  30.6s\n"
     ]
    },
    {
     "name": "stderr",
     "output_type": "stream",
     "text": [
      "/home/jng/anaconda3/lib/python3.9/site-packages/sklearn/linear_model/_sag.py:350: ConvergenceWarning: The max_iter was reached which means the coef_ did not converge\n",
      "  warnings.warn(\n"
     ]
    },
    {
     "name": "stdout",
     "output_type": "stream",
     "text": [
      "[CV 2/5] END log_reg__C=1, log_reg__solver=saga;, score=0.389 total time=  30.6s\n"
     ]
    },
    {
     "name": "stderr",
     "output_type": "stream",
     "text": [
      "/home/jng/anaconda3/lib/python3.9/site-packages/sklearn/linear_model/_sag.py:350: ConvergenceWarning: The max_iter was reached which means the coef_ did not converge\n",
      "  warnings.warn(\n"
     ]
    },
    {
     "name": "stdout",
     "output_type": "stream",
     "text": [
      "[CV 3/5] END log_reg__C=1, log_reg__solver=saga;, score=0.402 total time=  31.0s\n"
     ]
    },
    {
     "name": "stderr",
     "output_type": "stream",
     "text": [
      "/home/jng/anaconda3/lib/python3.9/site-packages/sklearn/linear_model/_sag.py:350: ConvergenceWarning: The max_iter was reached which means the coef_ did not converge\n",
      "  warnings.warn(\n"
     ]
    },
    {
     "name": "stdout",
     "output_type": "stream",
     "text": [
      "[CV 4/5] END log_reg__C=1, log_reg__solver=saga;, score=0.383 total time=  30.8s\n"
     ]
    },
    {
     "name": "stderr",
     "output_type": "stream",
     "text": [
      "/home/jng/anaconda3/lib/python3.9/site-packages/sklearn/linear_model/_sag.py:350: ConvergenceWarning: The max_iter was reached which means the coef_ did not converge\n",
      "  warnings.warn(\n"
     ]
    },
    {
     "name": "stdout",
     "output_type": "stream",
     "text": [
      "[CV 5/5] END log_reg__C=1, log_reg__solver=saga;, score=0.407 total time=  31.3s\n"
     ]
    },
    {
     "name": "stderr",
     "output_type": "stream",
     "text": [
      "/home/jng/anaconda3/lib/python3.9/site-packages/sklearn/linear_model/_sag.py:350: ConvergenceWarning: The max_iter was reached which means the coef_ did not converge\n",
      "  warnings.warn(\n"
     ]
    },
    {
     "name": "stdout",
     "output_type": "stream",
     "text": [
      "[CV 1/5] END log_reg__C=10, log_reg__solver=saga;, score=0.406 total time=  31.1s\n"
     ]
    },
    {
     "name": "stderr",
     "output_type": "stream",
     "text": [
      "/home/jng/anaconda3/lib/python3.9/site-packages/sklearn/linear_model/_sag.py:350: ConvergenceWarning: The max_iter was reached which means the coef_ did not converge\n",
      "  warnings.warn(\n"
     ]
    },
    {
     "name": "stdout",
     "output_type": "stream",
     "text": [
      "[CV 2/5] END log_reg__C=10, log_reg__solver=saga;, score=0.389 total time=  30.1s\n"
     ]
    },
    {
     "name": "stderr",
     "output_type": "stream",
     "text": [
      "/home/jng/anaconda3/lib/python3.9/site-packages/sklearn/linear_model/_sag.py:350: ConvergenceWarning: The max_iter was reached which means the coef_ did not converge\n",
      "  warnings.warn(\n"
     ]
    },
    {
     "name": "stdout",
     "output_type": "stream",
     "text": [
      "[CV 3/5] END log_reg__C=10, log_reg__solver=saga;, score=0.403 total time=  30.1s\n"
     ]
    },
    {
     "name": "stderr",
     "output_type": "stream",
     "text": [
      "/home/jng/anaconda3/lib/python3.9/site-packages/sklearn/linear_model/_sag.py:350: ConvergenceWarning: The max_iter was reached which means the coef_ did not converge\n",
      "  warnings.warn(\n"
     ]
    },
    {
     "name": "stdout",
     "output_type": "stream",
     "text": [
      "[CV 4/5] END log_reg__C=10, log_reg__solver=saga;, score=0.383 total time=  29.5s\n"
     ]
    },
    {
     "name": "stderr",
     "output_type": "stream",
     "text": [
      "/home/jng/anaconda3/lib/python3.9/site-packages/sklearn/linear_model/_sag.py:350: ConvergenceWarning: The max_iter was reached which means the coef_ did not converge\n",
      "  warnings.warn(\n"
     ]
    },
    {
     "name": "stdout",
     "output_type": "stream",
     "text": [
      "[CV 5/5] END log_reg__C=10, log_reg__solver=saga;, score=0.407 total time=  29.7s\n"
     ]
    },
    {
     "name": "stderr",
     "output_type": "stream",
     "text": [
      "/home/jng/anaconda3/lib/python3.9/site-packages/sklearn/linear_model/_sag.py:350: ConvergenceWarning: The max_iter was reached which means the coef_ did not converge\n",
      "  warnings.warn(\n"
     ]
    },
    {
     "name": "stdout",
     "output_type": "stream",
     "text": [
      "[CV 1/5] END log_reg__C=100, log_reg__solver=saga;, score=0.406 total time=  29.7s\n"
     ]
    },
    {
     "name": "stderr",
     "output_type": "stream",
     "text": [
      "/home/jng/anaconda3/lib/python3.9/site-packages/sklearn/linear_model/_sag.py:350: ConvergenceWarning: The max_iter was reached which means the coef_ did not converge\n",
      "  warnings.warn(\n"
     ]
    },
    {
     "name": "stdout",
     "output_type": "stream",
     "text": [
      "[CV 2/5] END log_reg__C=100, log_reg__solver=saga;, score=0.388 total time=  29.9s\n"
     ]
    },
    {
     "name": "stderr",
     "output_type": "stream",
     "text": [
      "/home/jng/anaconda3/lib/python3.9/site-packages/sklearn/linear_model/_sag.py:350: ConvergenceWarning: The max_iter was reached which means the coef_ did not converge\n",
      "  warnings.warn(\n"
     ]
    },
    {
     "name": "stdout",
     "output_type": "stream",
     "text": [
      "[CV 3/5] END log_reg__C=100, log_reg__solver=saga;, score=0.402 total time=  29.6s\n"
     ]
    },
    {
     "name": "stderr",
     "output_type": "stream",
     "text": [
      "/home/jng/anaconda3/lib/python3.9/site-packages/sklearn/linear_model/_sag.py:350: ConvergenceWarning: The max_iter was reached which means the coef_ did not converge\n",
      "  warnings.warn(\n"
     ]
    },
    {
     "name": "stdout",
     "output_type": "stream",
     "text": [
      "[CV 4/5] END log_reg__C=100, log_reg__solver=saga;, score=0.383 total time=  29.5s\n"
     ]
    },
    {
     "name": "stderr",
     "output_type": "stream",
     "text": [
      "/home/jng/anaconda3/lib/python3.9/site-packages/sklearn/linear_model/_sag.py:350: ConvergenceWarning: The max_iter was reached which means the coef_ did not converge\n",
      "  warnings.warn(\n"
     ]
    },
    {
     "name": "stdout",
     "output_type": "stream",
     "text": [
      "[CV 5/5] END log_reg__C=100, log_reg__solver=saga;, score=0.407 total time=  30.3s\n"
     ]
    },
    {
     "data": {
      "text/plain": [
       "0.42041498398551735"
      ]
     },
     "execution_count": 82,
     "metadata": {},
     "output_type": "execute_result"
    }
   ],
   "source": [
    "X = df['cleaned_lyrics']\n",
    "y = df['spotify_popularity_three_class']\n",
    "X_train, X_test, y_train, y_test = train_test_split(X, y, test_size=0.2, stratify=y, random_state=33)\n",
    "ngrams_vectorizer = CountVectorizer(max_df=0.9, \n",
    "                         min_df=0.01, \n",
    "                         stop_words=list(ENGLISH_STOP_WORDS), \n",
    "                         ngram_range=(1,3)\n",
    "                         )\n",
    "\n",
    "log_reg = LogisticRegression(penalty='l2', max_iter=500)\n",
    "pipe = Pipeline(steps=\n",
    "                [\n",
    "                    ('ngrams', ngrams_vectorizer),\n",
    "                    ('log_reg', log_reg)\n",
    "                ]\n",
    "            )\n",
    "param_grid = {\n",
    "    'log_reg__C':[0.0001, 0.001, 0.01, 0.1, 1, 10, 100],\n",
    "    'log_reg__solver':['saga']\n",
    "}\n",
    "search = GridSearchCV(pipe, param_grid, n_jobs=2, cv=5, verbose=3)\n",
    "search.fit(X_train, y_train)\n",
    "search.score(X_test, y_test)"
   ]
  },
  {
   "cell_type": "code",
   "execution_count": 84,
   "metadata": {},
   "outputs": [],
   "source": [
    "with open(MODEL_PATH / 'log_reg_spotify_popularity_pipeline.pkl', 'wb') as file:\n",
    "    joblib.dump(search, file)\n"
   ]
  },
  {
   "cell_type": "code",
   "execution_count": 86,
   "metadata": {},
   "outputs": [],
   "source": [
    "log_reg_coef = search.best_estimator_.named_steps['log_reg'].coef_"
   ]
  },
  {
   "attachments": {},
   "cell_type": "markdown",
   "metadata": {},
   "source": [
    "# Random Forest"
   ]
  },
  {
   "cell_type": "code",
   "execution_count": 12,
   "metadata": {},
   "outputs": [],
   "source": [
    "from sklearn.ensemble import RandomForestClassifier"
   ]
  },
  {
   "cell_type": "code",
   "execution_count": 14,
   "metadata": {},
   "outputs": [
    {
     "name": "stdout",
     "output_type": "stream",
     "text": [
      "Fitting 5 folds for each of 6 candidates, totalling 30 fits\n",
      "[CV] END .........................random_forest__max_depth=5; total time=  18.1s\n",
      "[CV] END .........................random_forest__max_depth=5; total time=  15.4s\n",
      "[CV] END .........................random_forest__max_depth=5; total time=  15.5s\n",
      "[CV] END .........................random_forest__max_depth=5; total time=  15.4s\n",
      "[CV] END .........................random_forest__max_depth=5; total time=  15.4s\n",
      "[CV] END .........................random_forest__max_depth=6; total time=  15.8s\n",
      "[CV] END .........................random_forest__max_depth=6; total time=  15.8s\n",
      "[CV] END .........................random_forest__max_depth=6; total time=  15.5s\n",
      "[CV] END .........................random_forest__max_depth=6; total time=  15.5s\n",
      "[CV] END .........................random_forest__max_depth=6; total time=  16.3s\n",
      "[CV] END .........................random_forest__max_depth=7; total time=  15.9s\n",
      "[CV] END .........................random_forest__max_depth=7; total time=  15.4s\n",
      "[CV] END .........................random_forest__max_depth=7; total time=  15.6s\n",
      "[CV] END .........................random_forest__max_depth=7; total time=  15.6s\n",
      "[CV] END .........................random_forest__max_depth=7; total time=  16.0s\n",
      "[CV] END .........................random_forest__max_depth=8; total time=  16.0s\n",
      "[CV] END .........................random_forest__max_depth=8; total time=  16.0s\n",
      "[CV] END .........................random_forest__max_depth=8; total time=  16.0s\n",
      "[CV] END .........................random_forest__max_depth=8; total time=  15.9s\n",
      "[CV] END .........................random_forest__max_depth=8; total time=  15.7s\n",
      "[CV] END .........................random_forest__max_depth=9; total time=  16.1s\n",
      "[CV] END .........................random_forest__max_depth=9; total time=  16.5s\n",
      "[CV] END .........................random_forest__max_depth=9; total time=  16.2s\n",
      "[CV] END .........................random_forest__max_depth=9; total time=  16.8s\n",
      "[CV] END .........................random_forest__max_depth=9; total time=  16.3s\n",
      "[CV] END ........................random_forest__max_depth=10; total time=  16.3s\n",
      "[CV] END ........................random_forest__max_depth=10; total time=  16.4s\n",
      "[CV] END ........................random_forest__max_depth=10; total time=  16.5s\n",
      "[CV] END ........................random_forest__max_depth=10; total time=  16.2s\n",
      "[CV] END ........................random_forest__max_depth=10; total time=  16.6s\n"
     ]
    },
    {
     "data": {
      "text/plain": [
       "0.40350877192982454"
      ]
     },
     "execution_count": 14,
     "metadata": {},
     "output_type": "execute_result"
    }
   ],
   "source": [
    "X = df['cleaned_lyrics']\n",
    "y = df['spotify_popularity_three_class']\n",
    "\n",
    "X_train, X_test, y_train, y_test = train_test_split(X, y, test_size=0.2, stratify=y, random_state=33)\n",
    "\n",
    "ngrams_vectorizer = CountVectorizer(max_df=0.9, \n",
    "                         min_df=0.01, \n",
    "                         stop_words=list(ENGLISH_STOP_WORDS), \n",
    "                         ngram_range=(1,3)\n",
    "                         )\n",
    "\n",
    "random_forest = RandomForestClassifier(n_estimators=500, max_depth=10, n_jobs=-1)\n",
    "\n",
    "pipe = Pipeline(steps=\n",
    "                [\n",
    "                    ('ngrams', ngrams_vectorizer),\n",
    "                    ('random_forest', random_forest)\n",
    "                ]\n",
    "            )\n",
    "\n",
    "param_grid = {\n",
    "    'random_forest__max_depth':np.arange(5,11),\n",
    "}\n",
    "\n",
    "search = GridSearchCV(pipe, param_grid, cv=5, verbose=2)\n",
    "search.fit(X_train, y_train)\n",
    "search.score(X_test, y_test)"
   ]
  },
  {
   "cell_type": "code",
   "execution_count": 15,
   "metadata": {},
   "outputs": [],
   "source": [
    "with open(MODEL_PATH / 'random_forest_spotify_popularity_pipeline.pkl', 'wb') as file:\n",
    "    joblib.dump(search, file)"
   ]
  },
  {
   "attachments": {},
   "cell_type": "markdown",
   "metadata": {},
   "source": [
    "# Classification With OpenAI Ada Embeddings"
   ]
  },
  {
   "cell_type": "code",
   "execution_count": 3,
   "metadata": {},
   "outputs": [
    {
     "ename": "NameError",
     "evalue": "name 'df' is not defined",
     "output_type": "error",
     "traceback": [
      "\u001b[0;31m---------------------------------------------------------------------------\u001b[0m",
      "\u001b[0;31mNameError\u001b[0m                                 Traceback (most recent call last)",
      "\u001b[0;32m/tmp/ipykernel_6321/274427013.py\u001b[0m in \u001b[0;36m<module>\u001b[0;34m\u001b[0m\n\u001b[1;32m      1\u001b[0m \u001b[0;31m# Get the array of the ada embeddings.\u001b[0m\u001b[0;34m\u001b[0m\u001b[0;34m\u001b[0m\u001b[0m\n\u001b[0;32m----> 2\u001b[0;31m \u001b[0mada_embedding_array\u001b[0m \u001b[0;34m=\u001b[0m \u001b[0mutils\u001b[0m\u001b[0;34m.\u001b[0m\u001b[0mget_ada_embeddings\u001b[0m\u001b[0;34m(\u001b[0m\u001b[0mdf\u001b[0m\u001b[0;34m,\u001b[0m \u001b[0;34m'ada_embeddings'\u001b[0m\u001b[0;34m)\u001b[0m\u001b[0;34m\u001b[0m\u001b[0;34m\u001b[0m\u001b[0m\n\u001b[0m",
      "\u001b[0;31mNameError\u001b[0m: name 'df' is not defined"
     ]
    }
   ],
   "source": [
    "# Get the array of the ada embeddings. \n",
    "ada_embedding_array = utils.get_ada_embeddings(df, 'ada_embeddings')"
   ]
  },
  {
   "cell_type": "code",
   "execution_count": 49,
   "metadata": {},
   "outputs": [
    {
     "data": {
      "text/plain": [
       "(35901, 1536)"
      ]
     },
     "execution_count": 49,
     "metadata": {},
     "output_type": "execute_result"
    }
   ],
   "source": [
    "ada_embedding_array.shape"
   ]
  },
  {
   "cell_type": "code",
   "execution_count": 38,
   "metadata": {},
   "outputs": [],
   "source": [
    "X = ada_embedding_array\n",
    "y = df['spotify_popularity_three_class']\n",
    "\n",
    "X_train, X_test, y_train, y_test = train_test_split(X, y, test_size=0.2, stratify=y, random_state=33)"
   ]
  },
  {
   "cell_type": "code",
   "execution_count": 42,
   "metadata": {},
   "outputs": [
    {
     "name": "stdout",
     "output_type": "stream",
     "text": [
      "Fitting 5 folds for each of 14 candidates, totalling 70 fits\n",
      "[CV 2/5] END log_reg__C=0.0001, log_reg__solver=saga;, score=0.362 total time=   8.7s\n",
      "[CV 1/5] END log_reg__C=0.0001, log_reg__solver=saga;, score=0.366 total time=   9.2s\n",
      "[CV 3/5] END log_reg__C=0.0001, log_reg__solver=saga;, score=0.360 total time=   9.6s\n",
      "[CV 4/5] END log_reg__C=0.0001, log_reg__solver=saga;, score=0.365 total time=  10.2s\n",
      "[CV 1/5] END log_reg__C=0.0001, log_reg__solver=newton-cg;, score=0.366 total time=   0.9s\n",
      "[CV 2/5] END log_reg__C=0.0001, log_reg__solver=newton-cg;, score=0.362 total time=   0.9s\n",
      "[CV 3/5] END log_reg__C=0.0001, log_reg__solver=newton-cg;, score=0.360 total time=   0.9s\n",
      "[CV 4/5] END log_reg__C=0.0001, log_reg__solver=newton-cg;, score=0.365 total time=   0.9s\n",
      "[CV 5/5] END log_reg__C=0.0001, log_reg__solver=newton-cg;, score=0.364 total time=   0.9s\n",
      "[CV 5/5] END log_reg__C=0.0001, log_reg__solver=saga;, score=0.364 total time=  10.2s\n",
      "[CV 1/5] END log_reg__C=0.001, log_reg__solver=saga;, score=0.406 total time=  10.2s\n",
      "[CV 2/5] END log_reg__C=0.001, log_reg__solver=saga;, score=0.399 total time=   9.9s\n",
      "[CV 3/5] END log_reg__C=0.001, log_reg__solver=saga;, score=0.416 total time=   9.1s\n",
      "[CV 4/5] END log_reg__C=0.001, log_reg__solver=saga;, score=0.405 total time=  10.9s\n",
      "[CV 1/5] END log_reg__C=0.001, log_reg__solver=newton-cg;, score=0.406 total time=   1.1s\n",
      "[CV 2/5] END log_reg__C=0.001, log_reg__solver=newton-cg;, score=0.399 total time=   1.1s\n",
      "[CV 3/5] END log_reg__C=0.001, log_reg__solver=newton-cg;, score=0.416 total time=   1.1s\n",
      "[CV 4/5] END log_reg__C=0.001, log_reg__solver=newton-cg;, score=0.405 total time=   1.0s\n",
      "[CV 5/5] END log_reg__C=0.001, log_reg__solver=newton-cg;, score=0.408 total time=   0.9s\n",
      "[CV 5/5] END log_reg__C=0.001, log_reg__solver=saga;, score=0.408 total time=  12.3s\n",
      "[CV 1/5] END log_reg__C=0.01, log_reg__solver=saga;, score=0.408 total time=   9.8s\n",
      "[CV 2/5] END log_reg__C=0.01, log_reg__solver=saga;, score=0.408 total time=  10.0s\n",
      "[CV 3/5] END log_reg__C=0.01, log_reg__solver=saga;, score=0.422 total time=   9.2s\n",
      "[CV 4/5] END log_reg__C=0.01, log_reg__solver=saga;, score=0.412 total time=   9.1s\n",
      "[CV 1/5] END log_reg__C=0.01, log_reg__solver=newton-cg;, score=0.408 total time=   1.1s\n",
      "[CV 2/5] END log_reg__C=0.01, log_reg__solver=newton-cg;, score=0.408 total time=   1.2s\n",
      "[CV 3/5] END log_reg__C=0.01, log_reg__solver=newton-cg;, score=0.422 total time=   1.3s\n",
      "[CV 4/5] END log_reg__C=0.01, log_reg__solver=newton-cg;, score=0.412 total time=   1.2s\n",
      "[CV 5/5] END log_reg__C=0.01, log_reg__solver=newton-cg;, score=0.411 total time=   1.2s\n",
      "[CV 5/5] END log_reg__C=0.01, log_reg__solver=saga;, score=0.411 total time=  10.6s\n",
      "[CV 1/5] END log_reg__C=0.1, log_reg__solver=saga;, score=0.419 total time=   9.7s\n",
      "[CV 2/5] END log_reg__C=0.1, log_reg__solver=saga;, score=0.420 total time=   9.5s\n",
      "[CV 3/5] END log_reg__C=0.1, log_reg__solver=saga;, score=0.432 total time=   9.6s\n",
      "[CV 4/5] END log_reg__C=0.1, log_reg__solver=saga;, score=0.425 total time=   9.3s\n",
      "[CV 1/5] END log_reg__C=0.1, log_reg__solver=newton-cg;, score=0.419 total time=   1.9s\n",
      "[CV 2/5] END log_reg__C=0.1, log_reg__solver=newton-cg;, score=0.420 total time=   2.0s\n",
      "[CV 3/5] END log_reg__C=0.1, log_reg__solver=newton-cg;, score=0.432 total time=   1.5s\n",
      "[CV 4/5] END log_reg__C=0.1, log_reg__solver=newton-cg;, score=0.425 total time=   1.9s\n",
      "[CV 5/5] END log_reg__C=0.1, log_reg__solver=saga;, score=0.416 total time=  11.6s\n",
      "[CV 5/5] END log_reg__C=0.1, log_reg__solver=newton-cg;, score=0.416 total time=   1.7s\n",
      "[CV 2/5] END log_reg__C=1, log_reg__solver=saga;, score=0.427 total time=   9.3s\n",
      "[CV 1/5] END log_reg__C=1, log_reg__solver=saga;, score=0.420 total time=  10.2s\n",
      "[CV 3/5] END log_reg__C=1, log_reg__solver=saga;, score=0.431 total time=   9.4s\n",
      "[CV 4/5] END log_reg__C=1, log_reg__solver=saga;, score=0.419 total time=  10.0s\n",
      "[CV 1/5] END log_reg__C=1, log_reg__solver=newton-cg;, score=0.420 total time=   3.1s\n",
      "[CV 2/5] END log_reg__C=1, log_reg__solver=newton-cg;, score=0.427 total time=   2.6s\n",
      "[CV 3/5] END log_reg__C=1, log_reg__solver=newton-cg;, score=0.431 total time=   3.0s\n",
      "[CV 5/5] END log_reg__C=1, log_reg__solver=saga;, score=0.428 total time=  12.4s\n",
      "[CV 4/5] END log_reg__C=1, log_reg__solver=newton-cg;, score=0.419 total time=   3.2s\n",
      "[CV 5/5] END log_reg__C=1, log_reg__solver=newton-cg;, score=0.428 total time=   3.0s\n",
      "[CV 1/5] END log_reg__C=10, log_reg__solver=saga;, score=0.412 total time=  23.3s\n",
      "[CV 2/5] END log_reg__C=10, log_reg__solver=saga;, score=0.414 total time=  23.0s\n",
      "[CV 3/5] END log_reg__C=10, log_reg__solver=saga;, score=0.416 total time=  20.7s\n",
      "[CV 4/5] END log_reg__C=10, log_reg__solver=saga;, score=0.408 total time=  21.2s\n",
      "[CV 1/5] END log_reg__C=10, log_reg__solver=newton-cg;, score=0.413 total time=   4.9s\n",
      "[CV 2/5] END log_reg__C=10, log_reg__solver=newton-cg;, score=0.414 total time=   5.4s\n",
      "[CV 3/5] END log_reg__C=10, log_reg__solver=newton-cg;, score=0.416 total time=   5.0s\n",
      "[CV 4/5] END log_reg__C=10, log_reg__solver=newton-cg;, score=0.408 total time=   4.9s\n",
      "[CV 5/5] END log_reg__C=10, log_reg__solver=newton-cg;, score=0.411 total time=   4.9s\n",
      "[CV 5/5] END log_reg__C=10, log_reg__solver=saga;, score=0.411 total time=  27.9s\n",
      "[CV 2/5] END log_reg__C=100, log_reg__solver=saga;, score=0.407 total time= 1.5min\n",
      "[CV 1/5] END log_reg__C=100, log_reg__solver=saga;, score=0.398 total time= 1.5min\n",
      "[CV 4/5] END log_reg__C=100, log_reg__solver=saga;, score=0.400 total time= 1.4min\n",
      "[CV 3/5] END log_reg__C=100, log_reg__solver=saga;, score=0.407 total time= 1.7min\n",
      "[CV 1/5] END log_reg__C=100, log_reg__solver=newton-cg;, score=0.398 total time=   8.9s\n",
      "[CV 2/5] END log_reg__C=100, log_reg__solver=newton-cg;, score=0.407 total time=   8.3s\n",
      "[CV 3/5] END log_reg__C=100, log_reg__solver=newton-cg;, score=0.407 total time=   9.1s\n",
      "[CV 4/5] END log_reg__C=100, log_reg__solver=newton-cg;, score=0.399 total time=   8.9s\n",
      "[CV 5/5] END log_reg__C=100, log_reg__solver=newton-cg;, score=0.404 total time=   9.5s\n",
      "[CV 5/5] END log_reg__C=100, log_reg__solver=saga;, score=0.404 total time= 1.7min\n"
     ]
    },
    {
     "data": {
      "text/plain": [
       "0.43629021027712017"
      ]
     },
     "execution_count": 42,
     "metadata": {},
     "output_type": "execute_result"
    }
   ],
   "source": [
    "\n",
    "log_reg = LogisticRegression(penalty='l2', max_iter=500)\n",
    "pipe = Pipeline(steps=\n",
    "                [\n",
    "                    ('log_reg', log_reg)\n",
    "                ]\n",
    "            )\n",
    "param_grid = {\n",
    "    'log_reg__C':[0.0001, 0.001, 0.01, 0.1, 1, 10, 100],\n",
    "    'log_reg__solver':['saga','newton-cg']\n",
    "}\n",
    "search = GridSearchCV(pipe, param_grid, n_jobs=2, cv=5, verbose=3)\n",
    "search.fit(X_train, y_train)\n",
    "search.score(X_test, y_test)"
   ]
  },
  {
   "cell_type": "code",
   "execution_count": 43,
   "metadata": {},
   "outputs": [
    {
     "data": {
      "text/html": [
       "<style>#sk-container-id-1 {color: black;background-color: white;}#sk-container-id-1 pre{padding: 0;}#sk-container-id-1 div.sk-toggleable {background-color: white;}#sk-container-id-1 label.sk-toggleable__label {cursor: pointer;display: block;width: 100%;margin-bottom: 0;padding: 0.3em;box-sizing: border-box;text-align: center;}#sk-container-id-1 label.sk-toggleable__label-arrow:before {content: \"▸\";float: left;margin-right: 0.25em;color: #696969;}#sk-container-id-1 label.sk-toggleable__label-arrow:hover:before {color: black;}#sk-container-id-1 div.sk-estimator:hover label.sk-toggleable__label-arrow:before {color: black;}#sk-container-id-1 div.sk-toggleable__content {max-height: 0;max-width: 0;overflow: hidden;text-align: left;background-color: #f0f8ff;}#sk-container-id-1 div.sk-toggleable__content pre {margin: 0.2em;color: black;border-radius: 0.25em;background-color: #f0f8ff;}#sk-container-id-1 input.sk-toggleable__control:checked~div.sk-toggleable__content {max-height: 200px;max-width: 100%;overflow: auto;}#sk-container-id-1 input.sk-toggleable__control:checked~label.sk-toggleable__label-arrow:before {content: \"▾\";}#sk-container-id-1 div.sk-estimator input.sk-toggleable__control:checked~label.sk-toggleable__label {background-color: #d4ebff;}#sk-container-id-1 div.sk-label input.sk-toggleable__control:checked~label.sk-toggleable__label {background-color: #d4ebff;}#sk-container-id-1 input.sk-hidden--visually {border: 0;clip: rect(1px 1px 1px 1px);clip: rect(1px, 1px, 1px, 1px);height: 1px;margin: -1px;overflow: hidden;padding: 0;position: absolute;width: 1px;}#sk-container-id-1 div.sk-estimator {font-family: monospace;background-color: #f0f8ff;border: 1px dotted black;border-radius: 0.25em;box-sizing: border-box;margin-bottom: 0.5em;}#sk-container-id-1 div.sk-estimator:hover {background-color: #d4ebff;}#sk-container-id-1 div.sk-parallel-item::after {content: \"\";width: 100%;border-bottom: 1px solid gray;flex-grow: 1;}#sk-container-id-1 div.sk-label:hover label.sk-toggleable__label {background-color: #d4ebff;}#sk-container-id-1 div.sk-serial::before {content: \"\";position: absolute;border-left: 1px solid gray;box-sizing: border-box;top: 0;bottom: 0;left: 50%;z-index: 0;}#sk-container-id-1 div.sk-serial {display: flex;flex-direction: column;align-items: center;background-color: white;padding-right: 0.2em;padding-left: 0.2em;position: relative;}#sk-container-id-1 div.sk-item {position: relative;z-index: 1;}#sk-container-id-1 div.sk-parallel {display: flex;align-items: stretch;justify-content: center;background-color: white;position: relative;}#sk-container-id-1 div.sk-item::before, #sk-container-id-1 div.sk-parallel-item::before {content: \"\";position: absolute;border-left: 1px solid gray;box-sizing: border-box;top: 0;bottom: 0;left: 50%;z-index: -1;}#sk-container-id-1 div.sk-parallel-item {display: flex;flex-direction: column;z-index: 1;position: relative;background-color: white;}#sk-container-id-1 div.sk-parallel-item:first-child::after {align-self: flex-end;width: 50%;}#sk-container-id-1 div.sk-parallel-item:last-child::after {align-self: flex-start;width: 50%;}#sk-container-id-1 div.sk-parallel-item:only-child::after {width: 0;}#sk-container-id-1 div.sk-dashed-wrapped {border: 1px dashed gray;margin: 0 0.4em 0.5em 0.4em;box-sizing: border-box;padding-bottom: 0.4em;background-color: white;}#sk-container-id-1 div.sk-label label {font-family: monospace;font-weight: bold;display: inline-block;line-height: 1.2em;}#sk-container-id-1 div.sk-label-container {text-align: center;}#sk-container-id-1 div.sk-container {/* jupyter's `normalize.less` sets `[hidden] { display: none; }` but bootstrap.min.css set `[hidden] { display: none !important; }` so we also need the `!important` here to be able to override the default hidden behavior on the sphinx rendered scikit-learn.org. See: https://github.com/scikit-learn/scikit-learn/issues/21755 */display: inline-block !important;position: relative;}#sk-container-id-1 div.sk-text-repr-fallback {display: none;}</style><div id=\"sk-container-id-1\" class=\"sk-top-container\"><div class=\"sk-text-repr-fallback\"><pre>Pipeline(steps=[(&#x27;log_reg&#x27;,\n",
       "                 LogisticRegression(C=1, max_iter=500, solver=&#x27;saga&#x27;))])</pre><b>In a Jupyter environment, please rerun this cell to show the HTML representation or trust the notebook. <br />On GitHub, the HTML representation is unable to render, please try loading this page with nbviewer.org.</b></div><div class=\"sk-container\" hidden><div class=\"sk-item sk-dashed-wrapped\"><div class=\"sk-label-container\"><div class=\"sk-label sk-toggleable\"><input class=\"sk-toggleable__control sk-hidden--visually\" id=\"sk-estimator-id-1\" type=\"checkbox\" ><label for=\"sk-estimator-id-1\" class=\"sk-toggleable__label sk-toggleable__label-arrow\">Pipeline</label><div class=\"sk-toggleable__content\"><pre>Pipeline(steps=[(&#x27;log_reg&#x27;,\n",
       "                 LogisticRegression(C=1, max_iter=500, solver=&#x27;saga&#x27;))])</pre></div></div></div><div class=\"sk-serial\"><div class=\"sk-item\"><div class=\"sk-estimator sk-toggleable\"><input class=\"sk-toggleable__control sk-hidden--visually\" id=\"sk-estimator-id-2\" type=\"checkbox\" ><label for=\"sk-estimator-id-2\" class=\"sk-toggleable__label sk-toggleable__label-arrow\">LogisticRegression</label><div class=\"sk-toggleable__content\"><pre>LogisticRegression(C=1, max_iter=500, solver=&#x27;saga&#x27;)</pre></div></div></div></div></div></div></div>"
      ],
      "text/plain": [
       "Pipeline(steps=[('log_reg',\n",
       "                 LogisticRegression(C=1, max_iter=500, solver='saga'))])"
      ]
     },
     "execution_count": 43,
     "metadata": {},
     "output_type": "execute_result"
    }
   ],
   "source": [
    "search.best_estimator_"
   ]
  },
  {
   "cell_type": "code",
   "execution_count": 50,
   "metadata": {},
   "outputs": [],
   "source": [
    "with open(MODEL_PATH / 'log_reg_ada_spotify_three_class_pipeline.pkl', 'wb') as file:\n",
    "    joblib.dump(search, file)"
   ]
  },
  {
   "attachments": {},
   "cell_type": "markdown",
   "metadata": {},
   "source": [
    "## Ada Embeddings and TruncatedSVD"
   ]
  },
  {
   "cell_type": "code",
   "execution_count": 56,
   "metadata": {},
   "outputs": [],
   "source": [
    "from sklearn.decomposition import TruncatedSVD"
   ]
  },
  {
   "cell_type": "code",
   "execution_count": 57,
   "metadata": {},
   "outputs": [
    {
     "name": "stdout",
     "output_type": "stream",
     "text": [
      "Fitting 5 folds for each of 28 candidates, totalling 140 fits\n",
      "[CV 2/5] END log_reg__C=0.0001, log_reg__solver=saga, svd__n_components=10;, score=0.360 total time=   2.0s\n",
      "[CV 1/5] END log_reg__C=0.0001, log_reg__solver=saga, svd__n_components=10;, score=0.365 total time=   2.0s\n",
      "[CV 4/5] END log_reg__C=0.0001, log_reg__solver=saga, svd__n_components=10;, score=0.364 total time=   0.7s\n",
      "[CV 3/5] END log_reg__C=0.0001, log_reg__solver=saga, svd__n_components=10;, score=0.358 total time=   0.8s\n",
      "[CV 5/5] END log_reg__C=0.0001, log_reg__solver=saga, svd__n_components=10;, score=0.364 total time=   0.7s\n",
      "[CV 1/5] END log_reg__C=0.0001, log_reg__solver=saga, svd__n_components=20;, score=0.365 total time=   0.9s\n",
      "[CV 2/5] END log_reg__C=0.0001, log_reg__solver=saga, svd__n_components=20;, score=0.361 total time=   0.8s\n",
      "[CV 3/5] END log_reg__C=0.0001, log_reg__solver=saga, svd__n_components=20;, score=0.359 total time=   0.7s\n",
      "[CV 4/5] END log_reg__C=0.0001, log_reg__solver=saga, svd__n_components=20;, score=0.365 total time=   0.9s\n",
      "[CV 5/5] END log_reg__C=0.0001, log_reg__solver=saga, svd__n_components=20;, score=0.364 total time=   0.8s\n",
      "[CV 1/5] END log_reg__C=0.0001, log_reg__solver=newton-cg, svd__n_components=10;, score=0.365 total time=   0.6s\n",
      "[CV 2/5] END log_reg__C=0.0001, log_reg__solver=newton-cg, svd__n_components=10;, score=0.360 total time=   0.5s\n",
      "[CV 3/5] END log_reg__C=0.0001, log_reg__solver=newton-cg, svd__n_components=10;, score=0.358 total time=   0.6s\n",
      "[CV 4/5] END log_reg__C=0.0001, log_reg__solver=newton-cg, svd__n_components=10;, score=0.364 total time=   0.6s\n",
      "[CV 5/5] END log_reg__C=0.0001, log_reg__solver=newton-cg, svd__n_components=10;, score=0.364 total time=   0.7s\n",
      "[CV 1/5] END log_reg__C=0.0001, log_reg__solver=newton-cg, svd__n_components=20;, score=0.365 total time=   0.7s\n",
      "[CV 2/5] END log_reg__C=0.0001, log_reg__solver=newton-cg, svd__n_components=20;, score=0.361 total time=   0.7s\n",
      "[CV 3/5] END log_reg__C=0.0001, log_reg__solver=newton-cg, svd__n_components=20;, score=0.359 total time=   0.6s\n",
      "[CV 4/5] END log_reg__C=0.0001, log_reg__solver=newton-cg, svd__n_components=20;, score=0.364 total time=   0.7s\n",
      "[CV 5/5] END log_reg__C=0.0001, log_reg__solver=newton-cg, svd__n_components=20;, score=0.364 total time=   0.7s\n",
      "[CV 1/5] END log_reg__C=0.001, log_reg__solver=saga, svd__n_components=10;, score=0.404 total time=   0.7s\n",
      "[CV 2/5] END log_reg__C=0.001, log_reg__solver=saga, svd__n_components=10;, score=0.398 total time=   0.8s\n",
      "[CV 3/5] END log_reg__C=0.001, log_reg__solver=saga, svd__n_components=10;, score=0.414 total time=   0.7s\n",
      "[CV 4/5] END log_reg__C=0.001, log_reg__solver=saga, svd__n_components=10;, score=0.405 total time=   0.8s\n",
      "[CV 5/5] END log_reg__C=0.001, log_reg__solver=saga, svd__n_components=10;, score=0.407 total time=   0.7s\n",
      "[CV 1/5] END log_reg__C=0.001, log_reg__solver=saga, svd__n_components=20;, score=0.406 total time=   1.0s\n",
      "[CV 2/5] END log_reg__C=0.001, log_reg__solver=saga, svd__n_components=20;, score=0.398 total time=   0.9s\n",
      "[CV 3/5] END log_reg__C=0.001, log_reg__solver=saga, svd__n_components=20;, score=0.415 total time=   0.8s\n",
      "[CV 4/5] END log_reg__C=0.001, log_reg__solver=saga, svd__n_components=20;, score=0.405 total time=   0.7s\n",
      "[CV 5/5] END log_reg__C=0.001, log_reg__solver=saga, svd__n_components=20;, score=0.408 total time=   0.7s\n",
      "[CV 1/5] END log_reg__C=0.001, log_reg__solver=newton-cg, svd__n_components=10;, score=0.404 total time=   0.5s\n",
      "[CV 2/5] END log_reg__C=0.001, log_reg__solver=newton-cg, svd__n_components=10;, score=0.398 total time=   0.6s\n",
      "[CV 3/5] END log_reg__C=0.001, log_reg__solver=newton-cg, svd__n_components=10;, score=0.414 total time=   0.6s\n",
      "[CV 4/5] END log_reg__C=0.001, log_reg__solver=newton-cg, svd__n_components=10;, score=0.405 total time=   0.6s\n",
      "[CV 5/5] END log_reg__C=0.001, log_reg__solver=newton-cg, svd__n_components=10;, score=0.407 total time=   0.6s\n",
      "[CV 1/5] END log_reg__C=0.001, log_reg__solver=newton-cg, svd__n_components=20;, score=0.407 total time=   0.7s\n",
      "[CV 2/5] END log_reg__C=0.001, log_reg__solver=newton-cg, svd__n_components=20;, score=0.398 total time=   0.6s\n",
      "[CV 3/5] END log_reg__C=0.001, log_reg__solver=newton-cg, svd__n_components=20;, score=0.414 total time=   0.8s\n",
      "[CV 4/5] END log_reg__C=0.001, log_reg__solver=newton-cg, svd__n_components=20;, score=0.405 total time=   0.8s\n",
      "[CV 5/5] END log_reg__C=0.001, log_reg__solver=newton-cg, svd__n_components=20;, score=0.408 total time=   0.7s\n",
      "[CV 1/5] END log_reg__C=0.01, log_reg__solver=saga, svd__n_components=10;, score=0.407 total time=   0.7s\n",
      "[CV 2/5] END log_reg__C=0.01, log_reg__solver=saga, svd__n_components=10;, score=0.404 total time=   0.7s\n",
      "[CV 3/5] END log_reg__C=0.01, log_reg__solver=saga, svd__n_components=10;, score=0.419 total time=   0.7s\n",
      "[CV 4/5] END log_reg__C=0.01, log_reg__solver=saga, svd__n_components=10;, score=0.408 total time=   0.7s\n",
      "[CV 5/5] END log_reg__C=0.01, log_reg__solver=saga, svd__n_components=10;, score=0.405 total time=   0.7s\n",
      "[CV 1/5] END log_reg__C=0.01, log_reg__solver=saga, svd__n_components=20;, score=0.408 total time=   0.8s\n",
      "[CV 2/5] END log_reg__C=0.01, log_reg__solver=saga, svd__n_components=20;, score=0.407 total time=   0.8s\n",
      "[CV 3/5] END log_reg__C=0.01, log_reg__solver=saga, svd__n_components=20;, score=0.421 total time=   0.8s\n",
      "[CV 4/5] END log_reg__C=0.01, log_reg__solver=saga, svd__n_components=20;, score=0.410 total time=   0.8s\n",
      "[CV 1/5] END log_reg__C=0.01, log_reg__solver=newton-cg, svd__n_components=10;, score=0.407 total time=   0.6s\n",
      "[CV 5/5] END log_reg__C=0.01, log_reg__solver=saga, svd__n_components=20;, score=0.408 total time=   0.8s\n",
      "[CV 2/5] END log_reg__C=0.01, log_reg__solver=newton-cg, svd__n_components=10;, score=0.404 total time=   0.6s\n",
      "[CV 3/5] END log_reg__C=0.01, log_reg__solver=newton-cg, svd__n_components=10;, score=0.419 total time=   0.7s\n",
      "[CV 4/5] END log_reg__C=0.01, log_reg__solver=newton-cg, svd__n_components=10;, score=0.408 total time=   0.6s\n",
      "[CV 5/5] END log_reg__C=0.01, log_reg__solver=newton-cg, svd__n_components=10;, score=0.406 total time=   0.6s\n",
      "[CV 1/5] END log_reg__C=0.01, log_reg__solver=newton-cg, svd__n_components=20;, score=0.409 total time=   0.7s\n",
      "[CV 2/5] END log_reg__C=0.01, log_reg__solver=newton-cg, svd__n_components=20;, score=0.408 total time=   0.8s\n",
      "[CV 3/5] END log_reg__C=0.01, log_reg__solver=newton-cg, svd__n_components=20;, score=0.421 total time=   0.8s\n",
      "[CV 4/5] END log_reg__C=0.01, log_reg__solver=newton-cg, svd__n_components=20;, score=0.409 total time=   1.0s\n",
      "[CV 5/5] END log_reg__C=0.01, log_reg__solver=newton-cg, svd__n_components=20;, score=0.405 total time=   0.9s\n",
      "[CV 1/5] END log_reg__C=0.1, log_reg__solver=saga, svd__n_components=10;, score=0.411 total time=   0.8s\n",
      "[CV 2/5] END log_reg__C=0.1, log_reg__solver=saga, svd__n_components=10;, score=0.413 total time=   0.6s\n",
      "[CV 3/5] END log_reg__C=0.1, log_reg__solver=saga, svd__n_components=10;, score=0.418 total time=   0.6s\n",
      "[CV 4/5] END log_reg__C=0.1, log_reg__solver=saga, svd__n_components=10;, score=0.415 total time=   0.6s\n",
      "[CV 5/5] END log_reg__C=0.1, log_reg__solver=saga, svd__n_components=10;, score=0.410 total time=   0.6s\n",
      "[CV 1/5] END log_reg__C=0.1, log_reg__solver=saga, svd__n_components=20;, score=0.413 total time=   0.8s\n",
      "[CV 2/5] END log_reg__C=0.1, log_reg__solver=saga, svd__n_components=20;, score=0.421 total time=   0.8s\n",
      "[CV 3/5] END log_reg__C=0.1, log_reg__solver=saga, svd__n_components=20;, score=0.426 total time=   0.8s\n",
      "[CV 4/5] END log_reg__C=0.1, log_reg__solver=saga, svd__n_components=20;, score=0.421 total time=   0.7s\n",
      "[CV 5/5] END log_reg__C=0.1, log_reg__solver=saga, svd__n_components=20;, score=0.410 total time=   0.7s\n",
      "[CV 1/5] END log_reg__C=0.1, log_reg__solver=newton-cg, svd__n_components=10;, score=0.411 total time=   0.5s\n",
      "[CV 2/5] END log_reg__C=0.1, log_reg__solver=newton-cg, svd__n_components=10;, score=0.414 total time=   0.8s\n",
      "[CV 3/5] END log_reg__C=0.1, log_reg__solver=newton-cg, svd__n_components=10;, score=0.417 total time=   0.7s\n",
      "[CV 4/5] END log_reg__C=0.1, log_reg__solver=newton-cg, svd__n_components=10;, score=0.414 total time=   0.7s\n",
      "[CV 5/5] END log_reg__C=0.1, log_reg__solver=newton-cg, svd__n_components=10;, score=0.409 total time=   0.7s\n",
      "[CV 1/5] END log_reg__C=0.1, log_reg__solver=newton-cg, svd__n_components=20;, score=0.413 total time=   0.7s\n",
      "[CV 2/5] END log_reg__C=0.1, log_reg__solver=newton-cg, svd__n_components=20;, score=0.419 total time=   0.7s\n",
      "[CV 4/5] END log_reg__C=0.1, log_reg__solver=newton-cg, svd__n_components=20;, score=0.421 total time=   0.7s\n",
      "[CV 3/5] END log_reg__C=0.1, log_reg__solver=newton-cg, svd__n_components=20;, score=0.427 total time=   0.9s\n",
      "[CV 5/5] END log_reg__C=0.1, log_reg__solver=newton-cg, svd__n_components=20;, score=0.410 total time=   0.7s\n",
      "[CV 1/5] END log_reg__C=1, log_reg__solver=saga, svd__n_components=10;, score=0.412 total time=   0.7s\n",
      "[CV 2/5] END log_reg__C=1, log_reg__solver=saga, svd__n_components=10;, score=0.416 total time=   0.6s\n",
      "[CV 3/5] END log_reg__C=1, log_reg__solver=saga, svd__n_components=10;, score=0.422 total time=   0.7s\n",
      "[CV 4/5] END log_reg__C=1, log_reg__solver=saga, svd__n_components=10;, score=0.416 total time=   0.7s\n",
      "[CV 5/5] END log_reg__C=1, log_reg__solver=saga, svd__n_components=10;, score=0.413 total time=   0.6s\n",
      "[CV 1/5] END log_reg__C=1, log_reg__solver=saga, svd__n_components=20;, score=0.415 total time=   0.7s\n",
      "[CV 2/5] END log_reg__C=1, log_reg__solver=saga, svd__n_components=20;, score=0.420 total time=   0.8s\n",
      "[CV 3/5] END log_reg__C=1, log_reg__solver=saga, svd__n_components=20;, score=0.427 total time=   0.8s\n",
      "[CV 4/5] END log_reg__C=1, log_reg__solver=saga, svd__n_components=20;, score=0.422 total time=   0.9s\n",
      "[CV 5/5] END log_reg__C=1, log_reg__solver=saga, svd__n_components=20;, score=0.410 total time=   0.8s[CV 1/5] END log_reg__C=1, log_reg__solver=newton-cg, svd__n_components=10;, score=0.413 total time=   0.6s\n",
      "\n",
      "[CV 2/5] END log_reg__C=1, log_reg__solver=newton-cg, svd__n_components=10;, score=0.417 total time=   0.7s\n",
      "[CV 3/5] END log_reg__C=1, log_reg__solver=newton-cg, svd__n_components=10;, score=0.422 total time=   0.8s\n",
      "[CV 4/5] END log_reg__C=1, log_reg__solver=newton-cg, svd__n_components=10;, score=0.417 total time=   0.8s\n",
      "[CV 5/5] END log_reg__C=1, log_reg__solver=newton-cg, svd__n_components=10;, score=0.414 total time=   0.7s\n",
      "[CV 1/5] END log_reg__C=1, log_reg__solver=newton-cg, svd__n_components=20;, score=0.412 total time=   0.8s\n",
      "[CV 2/5] END log_reg__C=1, log_reg__solver=newton-cg, svd__n_components=20;, score=0.419 total time=   0.9s\n",
      "[CV 3/5] END log_reg__C=1, log_reg__solver=newton-cg, svd__n_components=20;, score=0.429 total time=   0.7s\n",
      "[CV 4/5] END log_reg__C=1, log_reg__solver=newton-cg, svd__n_components=20;, score=0.421 total time=   0.8s\n",
      "[CV 5/5] END log_reg__C=1, log_reg__solver=newton-cg, svd__n_components=20;, score=0.409 total time=   0.8s\n",
      "[CV 1/5] END log_reg__C=10, log_reg__solver=saga, svd__n_components=10;, score=0.416 total time=   0.7s\n",
      "[CV 2/5] END log_reg__C=10, log_reg__solver=saga, svd__n_components=10;, score=0.416 total time=   0.6s\n",
      "[CV 3/5] END log_reg__C=10, log_reg__solver=saga, svd__n_components=10;, score=0.420 total time=   0.6s\n",
      "[CV 4/5] END log_reg__C=10, log_reg__solver=saga, svd__n_components=10;, score=0.418 total time=   0.6s\n",
      "[CV 5/5] END log_reg__C=10, log_reg__solver=saga, svd__n_components=10;, score=0.414 total time=   0.6s\n",
      "[CV 1/5] END log_reg__C=10, log_reg__solver=saga, svd__n_components=20;, score=0.417 total time=   0.8s\n",
      "[CV 2/5] END log_reg__C=10, log_reg__solver=saga, svd__n_components=20;, score=0.420 total time=   0.8s\n",
      "[CV 3/5] END log_reg__C=10, log_reg__solver=saga, svd__n_components=20;, score=0.428 total time=   0.8s\n",
      "[CV 4/5] END log_reg__C=10, log_reg__solver=saga, svd__n_components=20;, score=0.425 total time=   0.8s\n",
      "[CV 1/5] END log_reg__C=10, log_reg__solver=newton-cg, svd__n_components=10;, score=0.416 total time=   0.7s\n",
      "[CV 5/5] END log_reg__C=10, log_reg__solver=saga, svd__n_components=20;, score=0.412 total time=   0.8s\n",
      "[CV 3/5] END log_reg__C=10, log_reg__solver=newton-cg, svd__n_components=10;, score=0.421 total time=   0.8s\n",
      "[CV 2/5] END log_reg__C=10, log_reg__solver=newton-cg, svd__n_components=10;, score=0.415 total time=   0.9s\n",
      "[CV 4/5] END log_reg__C=10, log_reg__solver=newton-cg, svd__n_components=10;, score=0.415 total time=   0.8s\n",
      "[CV 5/5] END log_reg__C=10, log_reg__solver=newton-cg, svd__n_components=10;, score=0.414 total time=   0.8s\n",
      "[CV 1/5] END log_reg__C=10, log_reg__solver=newton-cg, svd__n_components=20;, score=0.415 total time=   0.8s\n",
      "[CV 2/5] END log_reg__C=10, log_reg__solver=newton-cg, svd__n_components=20;, score=0.419 total time=   0.9s\n",
      "[CV 3/5] END log_reg__C=10, log_reg__solver=newton-cg, svd__n_components=20;, score=0.427 total time=   0.8s\n",
      "[CV 4/5] END log_reg__C=10, log_reg__solver=newton-cg, svd__n_components=20;, score=0.424 total time=   0.9s\n",
      "[CV 5/5] END log_reg__C=10, log_reg__solver=newton-cg, svd__n_components=20;, score=0.411 total time=   0.8s\n",
      "[CV 1/5] END log_reg__C=100, log_reg__solver=saga, svd__n_components=10;, score=0.415 total time=   0.7s\n",
      "[CV 2/5] END log_reg__C=100, log_reg__solver=saga, svd__n_components=10;, score=0.415 total time=   0.7s\n",
      "[CV 3/5] END log_reg__C=100, log_reg__solver=saga, svd__n_components=10;, score=0.420 total time=   0.7s\n",
      "[CV 4/5] END log_reg__C=100, log_reg__solver=saga, svd__n_components=10;, score=0.416 total time=   0.6s\n",
      "[CV 5/5] END log_reg__C=100, log_reg__solver=saga, svd__n_components=10;, score=0.413 total time=   0.6s\n",
      "[CV 1/5] END log_reg__C=100, log_reg__solver=saga, svd__n_components=20;, score=0.413 total time=   0.9s\n",
      "[CV 2/5] END log_reg__C=100, log_reg__solver=saga, svd__n_components=20;, score=0.419 total time=   0.8s\n",
      "[CV 3/5] END log_reg__C=100, log_reg__solver=saga, svd__n_components=20;, score=0.428 total time=   0.9s\n",
      "[CV 4/5] END log_reg__C=100, log_reg__solver=saga, svd__n_components=20;, score=0.425 total time=   0.9s\n",
      "[CV 1/5] END log_reg__C=100, log_reg__solver=newton-cg, svd__n_components=10;, score=0.415 total time=   0.7s\n",
      "[CV 5/5] END log_reg__C=100, log_reg__solver=saga, svd__n_components=20;, score=0.417 total time=   0.8s\n",
      "[CV 2/5] END log_reg__C=100, log_reg__solver=newton-cg, svd__n_components=10;, score=0.415 total time=   0.8s\n",
      "[CV 3/5] END log_reg__C=100, log_reg__solver=newton-cg, svd__n_components=10;, score=0.421 total time=   0.8s\n",
      "[CV 4/5] END log_reg__C=100, log_reg__solver=newton-cg, svd__n_components=10;, score=0.415 total time=   0.7s\n",
      "[CV 5/5] END log_reg__C=100, log_reg__solver=newton-cg, svd__n_components=10;, score=0.415 total time=   0.7s\n",
      "[CV 1/5] END log_reg__C=100, log_reg__solver=newton-cg, svd__n_components=20;, score=0.417 total time=   0.8s\n",
      "[CV 2/5] END log_reg__C=100, log_reg__solver=newton-cg, svd__n_components=20;, score=0.419 total time=   0.9s\n",
      "[CV 3/5] END log_reg__C=100, log_reg__solver=newton-cg, svd__n_components=20;, score=0.430 total time=   1.1s\n",
      "[CV 4/5] END log_reg__C=100, log_reg__solver=newton-cg, svd__n_components=20;, score=0.426 total time=   1.0s\n",
      "[CV 5/5] END log_reg__C=100, log_reg__solver=newton-cg, svd__n_components=20;, score=0.413 total time=   0.6s\n"
     ]
    },
    {
     "data": {
      "text/plain": [
       "0.42849185350229774"
      ]
     },
     "execution_count": 57,
     "metadata": {},
     "output_type": "execute_result"
    }
   ],
   "source": [
    "\n",
    "log_reg = LogisticRegression(penalty='l2', max_iter=500)\n",
    "svd = TruncatedSVD(n_components=10)\n",
    "\n",
    "pipe = Pipeline(steps=\n",
    "                [\n",
    "                    ('svd', svd),\n",
    "                    ('log_reg', log_reg)\n",
    "                ]\n",
    "            )\n",
    "param_grid = {\n",
    "    'svd__n_components':[10, 20],\n",
    "    'log_reg__C':[0.0001, 0.001, 0.01, 0.1, 1, 10, 100],\n",
    "    'log_reg__solver':['saga', 'newton-cg']\n",
    "}\n",
    "search = GridSearchCV(pipe, param_grid, n_jobs=2, cv=5, verbose=3)\n",
    "search.fit(X_train, y_train)\n",
    "search.score(X_test, y_test)"
   ]
  },
  {
   "attachments": {},
   "cell_type": "markdown",
   "metadata": {},
   "source": [
    "# Observations on hip hop songs."
   ]
  },
  {
   "cell_type": "code",
   "execution_count": 74,
   "metadata": {},
   "outputs": [
    {
     "data": {
      "text/plain": [
       "(14476, 20)"
      ]
     },
     "execution_count": 74,
     "metadata": {},
     "output_type": "execute_result"
    }
   ],
   "source": [
    "hip_hop_df = df[\n",
    "    df['genre'] == 'hip hop'\n",
    "]\n",
    "\n",
    "hip_hop_df.shape"
   ]
  },
  {
   "cell_type": "code",
   "execution_count": 75,
   "metadata": {},
   "outputs": [
    {
     "data": {
      "text/plain": [
       "(14476, 1536)"
      ]
     },
     "execution_count": 75,
     "metadata": {},
     "output_type": "execute_result"
    }
   ],
   "source": [
    "hip_hop_ada_embeddings = utils.get_ada_embeddings(hip_hop_df, 'ada_embeddings')\n",
    "hip_hop_ada_embeddings.shape"
   ]
  },
  {
   "cell_type": "code",
   "execution_count": 76,
   "metadata": {},
   "outputs": [],
   "source": [
    "X = hip_hop_ada_embeddings\n",
    "y = hip_hop_df['spotify_popularity_three_class']\n",
    "\n",
    "X_train, X_test, y_train, y_test = train_test_split(X, y, test_size=0.2, stratify=y, random_state=33)"
   ]
  },
  {
   "cell_type": "code",
   "execution_count": 77,
   "metadata": {},
   "outputs": [
    {
     "data": {
      "text/plain": [
       "0    0.376002\n",
       "1    0.325504\n",
       "2    0.298494\n",
       "Name: spotify_popularity_three_class, dtype: float64"
      ]
     },
     "execution_count": 77,
     "metadata": {},
     "output_type": "execute_result"
    }
   ],
   "source": [
    "y.value_counts(normalize=True)"
   ]
  },
  {
   "cell_type": "code",
   "execution_count": 78,
   "metadata": {},
   "outputs": [
    {
     "name": "stdout",
     "output_type": "stream",
     "text": [
      "Fitting 5 folds for each of 14 candidates, totalling 70 fits\n",
      "[CV 1/5] END log_reg__C=0.0001, log_reg__solver=saga;, score=0.376 total time=   3.8s\n",
      "[CV 2/5] END log_reg__C=0.0001, log_reg__solver=saga;, score=0.376 total time=   3.7s\n",
      "[CV 4/5] END log_reg__C=0.0001, log_reg__solver=saga;, score=0.376 total time=   3.6s\n",
      "[CV 3/5] END log_reg__C=0.0001, log_reg__solver=saga;, score=0.376 total time=   4.1s\n",
      "[CV 1/5] END log_reg__C=0.0001, log_reg__solver=newton-cg;, score=0.376 total time=   0.4s\n",
      "[CV 2/5] END log_reg__C=0.0001, log_reg__solver=newton-cg;, score=0.376 total time=   0.3s\n",
      "[CV 3/5] END log_reg__C=0.0001, log_reg__solver=newton-cg;, score=0.376 total time=   0.3s\n",
      "[CV 4/5] END log_reg__C=0.0001, log_reg__solver=newton-cg;, score=0.376 total time=   0.4s\n",
      "[CV 5/5] END log_reg__C=0.0001, log_reg__solver=newton-cg;, score=0.376 total time=   0.3s\n",
      "[CV 5/5] END log_reg__C=0.0001, log_reg__solver=saga;, score=0.376 total time=   4.0s\n",
      "[CV 1/5] END log_reg__C=0.001, log_reg__solver=saga;, score=0.376 total time=   4.1s\n",
      "[CV 2/5] END log_reg__C=0.001, log_reg__solver=saga;, score=0.376 total time=   4.1s\n",
      "[CV 3/5] END log_reg__C=0.001, log_reg__solver=saga;, score=0.376 total time=   4.4s\n",
      "[CV 4/5] END log_reg__C=0.001, log_reg__solver=saga;, score=0.376 total time=   4.1s\n",
      "[CV 1/5] END log_reg__C=0.001, log_reg__solver=newton-cg;, score=0.376 total time=   0.5s\n",
      "[CV 2/5] END log_reg__C=0.001, log_reg__solver=newton-cg;, score=0.376 total time=   0.4s\n",
      "[CV 3/5] END log_reg__C=0.001, log_reg__solver=newton-cg;, score=0.376 total time=   0.5s\n",
      "[CV 4/5] END log_reg__C=0.001, log_reg__solver=newton-cg;, score=0.376 total time=   0.5s\n",
      "[CV 5/5] END log_reg__C=0.001, log_reg__solver=newton-cg;, score=0.376 total time=   0.5s\n",
      "[CV 5/5] END log_reg__C=0.001, log_reg__solver=saga;, score=0.376 total time=   5.2s\n",
      "[CV 1/5] END log_reg__C=0.01, log_reg__solver=saga;, score=0.376 total time=   4.1s\n",
      "[CV 2/5] END log_reg__C=0.01, log_reg__solver=saga;, score=0.376 total time=   4.2s\n",
      "[CV 3/5] END log_reg__C=0.01, log_reg__solver=saga;, score=0.376 total time=   3.9s\n",
      "[CV 4/5] END log_reg__C=0.01, log_reg__solver=saga;, score=0.377 total time=   4.2s\n",
      "[CV 1/5] END log_reg__C=0.01, log_reg__solver=newton-cg;, score=0.376 total time=   0.5s\n",
      "[CV 2/5] END log_reg__C=0.01, log_reg__solver=newton-cg;, score=0.376 total time=   0.5s\n",
      "[CV 3/5] END log_reg__C=0.01, log_reg__solver=newton-cg;, score=0.376 total time=   0.5s\n",
      "[CV 4/5] END log_reg__C=0.01, log_reg__solver=newton-cg;, score=0.377 total time=   0.5s\n",
      "[CV 5/5] END log_reg__C=0.01, log_reg__solver=newton-cg;, score=0.376 total time=   0.5s\n",
      "[CV 5/5] END log_reg__C=0.01, log_reg__solver=saga;, score=0.376 total time=   4.7s\n",
      "[CV 1/5] END log_reg__C=0.1, log_reg__solver=saga;, score=0.420 total time=   3.9s\n",
      "[CV 2/5] END log_reg__C=0.1, log_reg__solver=saga;, score=0.434 total time=   4.0s\n",
      "[CV 3/5] END log_reg__C=0.1, log_reg__solver=saga;, score=0.416 total time=   4.0s\n",
      "[CV 4/5] END log_reg__C=0.1, log_reg__solver=saga;, score=0.413 total time=   4.0s\n",
      "[CV 1/5] END log_reg__C=0.1, log_reg__solver=newton-cg;, score=0.420 total time=   0.6s\n",
      "[CV 2/5] END log_reg__C=0.1, log_reg__solver=newton-cg;, score=0.434 total time=   0.7s\n",
      "[CV 3/5] END log_reg__C=0.1, log_reg__solver=newton-cg;, score=0.416 total time=   0.7s\n",
      "[CV 4/5] END log_reg__C=0.1, log_reg__solver=newton-cg;, score=0.413 total time=   0.6s\n",
      "[CV 5/5] END log_reg__C=0.1, log_reg__solver=newton-cg;, score=0.415 total time=   0.7s\n",
      "[CV 5/5] END log_reg__C=0.1, log_reg__solver=saga;, score=0.415 total time=   4.7s\n",
      "[CV 1/5] END log_reg__C=1, log_reg__solver=saga;, score=0.437 total time=   3.9s\n",
      "[CV 2/5] END log_reg__C=1, log_reg__solver=saga;, score=0.435 total time=   3.7s\n",
      "[CV 3/5] END log_reg__C=1, log_reg__solver=saga;, score=0.423 total time=   3.8s\n",
      "[CV 4/5] END log_reg__C=1, log_reg__solver=saga;, score=0.418 total time=   4.0s\n",
      "[CV 1/5] END log_reg__C=1, log_reg__solver=newton-cg;, score=0.437 total time=   0.9s\n",
      "[CV 2/5] END log_reg__C=1, log_reg__solver=newton-cg;, score=0.435 total time=   0.9s\n",
      "[CV 3/5] END log_reg__C=1, log_reg__solver=newton-cg;, score=0.423 total time=   1.0s\n",
      "[CV 4/5] END log_reg__C=1, log_reg__solver=newton-cg;, score=0.418 total time=   0.9s\n",
      "[CV 5/5] END log_reg__C=1, log_reg__solver=saga;, score=0.420 total time=   4.8s\n",
      "[CV 5/5] END log_reg__C=1, log_reg__solver=newton-cg;, score=0.420 total time=   0.9s\n",
      "[CV 2/5] END log_reg__C=10, log_reg__solver=saga;, score=0.407 total time=   9.1s\n",
      "[CV 1/5] END log_reg__C=10, log_reg__solver=saga;, score=0.423 total time=  10.2s\n",
      "[CV 3/5] END log_reg__C=10, log_reg__solver=saga;, score=0.404 total time=   8.9s\n",
      "[CV 4/5] END log_reg__C=10, log_reg__solver=saga;, score=0.410 total time=   8.7s\n",
      "[CV 1/5] END log_reg__C=10, log_reg__solver=newton-cg;, score=0.423 total time=   1.5s\n",
      "[CV 2/5] END log_reg__C=10, log_reg__solver=newton-cg;, score=0.407 total time=   1.5s\n",
      "[CV 3/5] END log_reg__C=10, log_reg__solver=newton-cg;, score=0.404 total time=   1.5s\n",
      "[CV 4/5] END log_reg__C=10, log_reg__solver=newton-cg;, score=0.410 total time=   1.3s\n",
      "[CV 5/5] END log_reg__C=10, log_reg__solver=newton-cg;, score=0.415 total time=   1.6s\n",
      "[CV 5/5] END log_reg__C=10, log_reg__solver=saga;, score=0.414 total time=  10.4s\n",
      "[CV 1/5] END log_reg__C=100, log_reg__solver=saga;, score=0.401 total time=  42.5s\n",
      "[CV 2/5] END log_reg__C=100, log_reg__solver=saga;, score=0.379 total time=  42.7s\n",
      "[CV 3/5] END log_reg__C=100, log_reg__solver=saga;, score=0.398 total time=  43.0s\n",
      "[CV 4/5] END log_reg__C=100, log_reg__solver=saga;, score=0.390 total time=  43.8s\n",
      "[CV 1/5] END log_reg__C=100, log_reg__solver=newton-cg;, score=0.401 total time=   2.8s\n",
      "[CV 2/5] END log_reg__C=100, log_reg__solver=newton-cg;, score=0.379 total time=   2.8s\n",
      "[CV 3/5] END log_reg__C=100, log_reg__solver=newton-cg;, score=0.398 total time=   2.7s\n",
      "[CV 4/5] END log_reg__C=100, log_reg__solver=newton-cg;, score=0.390 total time=   2.8s\n",
      "[CV 5/5] END log_reg__C=100, log_reg__solver=newton-cg;, score=0.396 total time=   2.6s\n",
      "[CV 5/5] END log_reg__C=100, log_reg__solver=saga;, score=0.396 total time=  50.4s\n"
     ]
    },
    {
     "data": {
      "text/plain": [
       "0.41263812154696133"
      ]
     },
     "execution_count": 78,
     "metadata": {},
     "output_type": "execute_result"
    }
   ],
   "source": [
    "\n",
    "log_reg = LogisticRegression(penalty='l2', max_iter=500)\n",
    "pipe = Pipeline(steps=\n",
    "                [\n",
    "                    ('log_reg', log_reg)\n",
    "                ]\n",
    "            )\n",
    "param_grid = {\n",
    "    'log_reg__C':[0.0001, 0.001, 0.01, 0.1, 1, 10, 100],\n",
    "    'log_reg__solver':['saga','newton-cg']\n",
    "}\n",
    "search = GridSearchCV(pipe, param_grid, n_jobs=2, cv=5, verbose=3)\n",
    "search.fit(X_train, y_train)\n",
    "search.score(X_test, y_test)"
   ]
  },
  {
   "attachments": {},
   "cell_type": "markdown",
   "metadata": {},
   "source": [
    "# Observations on Pop Songs"
   ]
  },
  {
   "cell_type": "code",
   "execution_count": 67,
   "metadata": {},
   "outputs": [
    {
     "data": {
      "text/plain": [
       "(6385, 20)"
      ]
     },
     "execution_count": 67,
     "metadata": {},
     "output_type": "execute_result"
    }
   ],
   "source": [
    "pop_df = df[\n",
    "    df['genre'] == 'pop'\n",
    "]\n",
    "\n",
    "pop_df.shape"
   ]
  },
  {
   "cell_type": "code",
   "execution_count": 68,
   "metadata": {},
   "outputs": [
    {
     "data": {
      "text/plain": [
       "(6385, 1536)"
      ]
     },
     "execution_count": 68,
     "metadata": {},
     "output_type": "execute_result"
    }
   ],
   "source": [
    "pop_ada_embeddings = utils.get_ada_embeddings(pop_df, 'ada_embeddings')\n",
    "pop_ada_embeddings.shape"
   ]
  },
  {
   "cell_type": "code",
   "execution_count": 69,
   "metadata": {},
   "outputs": [],
   "source": [
    "X = pop_ada_embeddings\n",
    "y = pop_df['spotify_popularity_three_class']\n",
    "\n",
    "X_train, X_test, y_train, y_test = train_test_split(X, y, test_size=0.2, stratify=y, random_state=33)"
   ]
  },
  {
   "cell_type": "code",
   "execution_count": 70,
   "metadata": {},
   "outputs": [
    {
     "data": {
      "text/plain": [
       "2    0.421926\n",
       "1    0.311825\n",
       "0    0.266249\n",
       "Name: spotify_popularity_three_class, dtype: float64"
      ]
     },
     "execution_count": 70,
     "metadata": {},
     "output_type": "execute_result"
    }
   ],
   "source": [
    "y.value_counts(normalize=True)"
   ]
  },
  {
   "cell_type": "code",
   "execution_count": 71,
   "metadata": {},
   "outputs": [
    {
     "name": "stdout",
     "output_type": "stream",
     "text": [
      "Fitting 5 folds for each of 14 candidates, totalling 70 fits\n",
      "[CV 2/5] END log_reg__C=0.0001, log_reg__solver=saga;, score=0.422 total time=   1.4s[CV 1/5] END log_reg__C=0.0001, log_reg__solver=saga;, score=0.422 total time=   1.4s\n",
      "\n",
      "[CV 4/5] END log_reg__C=0.0001, log_reg__solver=saga;, score=0.422 total time=   1.5s\n",
      "[CV 3/5] END log_reg__C=0.0001, log_reg__solver=saga;, score=0.422 total time=   1.5s\n",
      "[CV 1/5] END log_reg__C=0.0001, log_reg__solver=newton-cg;, score=0.422 total time=   0.2s\n",
      "[CV 2/5] END log_reg__C=0.0001, log_reg__solver=newton-cg;, score=0.422 total time=   0.2s\n",
      "[CV 3/5] END log_reg__C=0.0001, log_reg__solver=newton-cg;, score=0.422 total time=   0.1s\n",
      "[CV 4/5] END log_reg__C=0.0001, log_reg__solver=newton-cg;, score=0.422 total time=   0.2s\n",
      "[CV 5/5] END log_reg__C=0.0001, log_reg__solver=newton-cg;, score=0.422 total time=   0.1s\n",
      "[CV 5/5] END log_reg__C=0.0001, log_reg__solver=saga;, score=0.422 total time=   1.6s\n",
      "[CV 1/5] END log_reg__C=0.001, log_reg__solver=saga;, score=0.422 total time=   1.9s\n",
      "[CV 2/5] END log_reg__C=0.001, log_reg__solver=saga;, score=0.422 total time=   1.8s\n",
      "[CV 3/5] END log_reg__C=0.001, log_reg__solver=saga;, score=0.422 total time=   2.0s\n",
      "[CV 4/5] END log_reg__C=0.001, log_reg__solver=saga;, score=0.422 total time=   1.7s\n",
      "[CV 1/5] END log_reg__C=0.001, log_reg__solver=newton-cg;, score=0.422 total time=   0.2s\n",
      "[CV 2/5] END log_reg__C=0.001, log_reg__solver=newton-cg;, score=0.422 total time=   0.2s\n",
      "[CV 3/5] END log_reg__C=0.001, log_reg__solver=newton-cg;, score=0.422 total time=   0.2s\n",
      "[CV 4/5] END log_reg__C=0.001, log_reg__solver=newton-cg;, score=0.422 total time=   0.2s\n",
      "[CV 5/5] END log_reg__C=0.001, log_reg__solver=newton-cg;, score=0.422 total time=   0.2s\n",
      "[CV 5/5] END log_reg__C=0.001, log_reg__solver=saga;, score=0.422 total time=   1.9s\n",
      "[CV 1/5] END log_reg__C=0.01, log_reg__solver=saga;, score=0.422 total time=   2.0s\n",
      "[CV 2/5] END log_reg__C=0.01, log_reg__solver=saga;, score=0.422 total time=   1.8s\n",
      "[CV 3/5] END log_reg__C=0.01, log_reg__solver=saga;, score=0.422 total time=   1.7s\n",
      "[CV 4/5] END log_reg__C=0.01, log_reg__solver=saga;, score=0.422 total time=   1.9s\n",
      "[CV 1/5] END log_reg__C=0.01, log_reg__solver=newton-cg;, score=0.422 total time=   0.2s\n",
      "[CV 2/5] END log_reg__C=0.01, log_reg__solver=newton-cg;, score=0.422 total time=   0.2s\n",
      "[CV 3/5] END log_reg__C=0.01, log_reg__solver=newton-cg;, score=0.422 total time=   0.2s\n",
      "[CV 4/5] END log_reg__C=0.01, log_reg__solver=newton-cg;, score=0.422 total time=   0.2s\n",
      "[CV 5/5] END log_reg__C=0.01, log_reg__solver=newton-cg;, score=0.422 total time=   0.2s\n",
      "[CV 5/5] END log_reg__C=0.01, log_reg__solver=saga;, score=0.422 total time=   2.0s\n",
      "[CV 1/5] END log_reg__C=0.1, log_reg__solver=saga;, score=0.443 total time=   1.7s\n",
      "[CV 2/5] END log_reg__C=0.1, log_reg__solver=saga;, score=0.418 total time=   1.8s\n",
      "[CV 3/5] END log_reg__C=0.1, log_reg__solver=saga;, score=0.437 total time=   1.8s\n",
      "[CV 4/5] END log_reg__C=0.1, log_reg__solver=saga;, score=0.461 total time=   1.9s\n",
      "[CV 1/5] END log_reg__C=0.1, log_reg__solver=newton-cg;, score=0.443 total time=   0.2s\n",
      "[CV 2/5] END log_reg__C=0.1, log_reg__solver=newton-cg;, score=0.418 total time=   0.3s\n",
      "[CV 3/5] END log_reg__C=0.1, log_reg__solver=newton-cg;, score=0.437 total time=   0.2s\n",
      "[CV 4/5] END log_reg__C=0.1, log_reg__solver=newton-cg;, score=0.461 total time=   0.2s\n",
      "[CV 5/5] END log_reg__C=0.1, log_reg__solver=newton-cg;, score=0.441 total time=   0.2s\n",
      "[CV 5/5] END log_reg__C=0.1, log_reg__solver=saga;, score=0.441 total time=   2.0s\n",
      "[CV 1/5] END log_reg__C=1, log_reg__solver=saga;, score=0.449 total time=   1.7s\n",
      "[CV 2/5] END log_reg__C=1, log_reg__solver=saga;, score=0.427 total time=   1.8s\n",
      "[CV 3/5] END log_reg__C=1, log_reg__solver=saga;, score=0.429 total time=   1.8s\n",
      "[CV 4/5] END log_reg__C=1, log_reg__solver=saga;, score=0.463 total time=   1.7s\n",
      "[CV 1/5] END log_reg__C=1, log_reg__solver=newton-cg;, score=0.449 total time=   0.3s\n",
      "[CV 2/5] END log_reg__C=1, log_reg__solver=newton-cg;, score=0.427 total time=   0.3s\n",
      "[CV 3/5] END log_reg__C=1, log_reg__solver=newton-cg;, score=0.429 total time=   0.3s\n",
      "[CV 4/5] END log_reg__C=1, log_reg__solver=newton-cg;, score=0.463 total time=   0.3s\n",
      "[CV 5/5] END log_reg__C=1, log_reg__solver=newton-cg;, score=0.450 total time=   0.3s\n",
      "[CV 5/5] END log_reg__C=1, log_reg__solver=saga;, score=0.450 total time=   2.1s\n",
      "[CV 1/5] END log_reg__C=10, log_reg__solver=saga;, score=0.434 total time=   5.1s\n",
      "[CV 2/5] END log_reg__C=10, log_reg__solver=saga;, score=0.422 total time=   4.9s\n",
      "[CV 3/5] END log_reg__C=10, log_reg__solver=saga;, score=0.417 total time=   5.2s\n",
      "[CV 4/5] END log_reg__C=10, log_reg__solver=saga;, score=0.427 total time=   5.6s\n",
      "[CV 1/5] END log_reg__C=10, log_reg__solver=newton-cg;, score=0.434 total time=   0.5s\n",
      "[CV 2/5] END log_reg__C=10, log_reg__solver=newton-cg;, score=0.422 total time=   0.5s\n",
      "[CV 3/5] END log_reg__C=10, log_reg__solver=newton-cg;, score=0.417 total time=   0.6s\n",
      "[CV 4/5] END log_reg__C=10, log_reg__solver=newton-cg;, score=0.427 total time=   0.5s\n",
      "[CV 5/5] END log_reg__C=10, log_reg__solver=newton-cg;, score=0.426 total time=   0.5s\n",
      "[CV 5/5] END log_reg__C=10, log_reg__solver=saga;, score=0.426 total time=   5.7s\n",
      "[CV 1/5] END log_reg__C=100, log_reg__solver=saga;, score=0.419 total time=  21.1s\n",
      "[CV 2/5] END log_reg__C=100, log_reg__solver=saga;, score=0.388 total time=  21.5s\n",
      "[CV 3/5] END log_reg__C=100, log_reg__solver=saga;, score=0.392 total time=  20.7s\n",
      "[CV 4/5] END log_reg__C=100, log_reg__solver=saga;, score=0.399 total time=  21.8s\n",
      "[CV 1/5] END log_reg__C=100, log_reg__solver=newton-cg;, score=0.418 total time=   0.9s\n",
      "[CV 2/5] END log_reg__C=100, log_reg__solver=newton-cg;, score=0.388 total time=   1.0s\n",
      "[CV 3/5] END log_reg__C=100, log_reg__solver=newton-cg;, score=0.392 total time=   1.1s\n",
      "[CV 4/5] END log_reg__C=100, log_reg__solver=newton-cg;, score=0.397 total time=   1.0s\n",
      "[CV 5/5] END log_reg__C=100, log_reg__solver=newton-cg;, score=0.409 total time=   0.9s\n",
      "[CV 5/5] END log_reg__C=100, log_reg__solver=saga;, score=0.409 total time=  21.6s\n"
     ]
    },
    {
     "data": {
      "text/plain": [
       "0.4635865309318716"
      ]
     },
     "execution_count": 71,
     "metadata": {},
     "output_type": "execute_result"
    }
   ],
   "source": [
    "\n",
    "log_reg = LogisticRegression(penalty='l2', max_iter=500)\n",
    "pipe = Pipeline(steps=\n",
    "                [\n",
    "                    ('log_reg', log_reg)\n",
    "                ]\n",
    "            )\n",
    "param_grid = {\n",
    "    'log_reg__C':[0.0001, 0.001, 0.01, 0.1, 1, 10, 100],\n",
    "    'log_reg__solver':['saga','newton-cg']\n",
    "}\n",
    "search = GridSearchCV(pipe, param_grid, n_jobs=2, cv=5, verbose=3)\n",
    "search.fit(X_train, y_train)\n",
    "search.score(X_test, y_test)"
   ]
  },
  {
   "cell_type": "code",
   "execution_count": 72,
   "metadata": {},
   "outputs": [],
   "source": [
    "with open(MODEL_PATH / 'log_reg_ada_spotify_three_class_pop_pipeline.pkl', 'wb') as file:\n",
    "    joblib.dump(search, file)"
   ]
  },
  {
   "attachments": {},
   "cell_type": "markdown",
   "metadata": {},
   "source": [
    "---"
   ]
  },
  {
   "attachments": {},
   "cell_type": "markdown",
   "metadata": {},
   "source": [
    "# Modeling Two Class Popularity"
   ]
  },
  {
   "attachments": {},
   "cell_type": "markdown",
   "metadata": {},
   "source": [
    "## Logistic Regression + N grams = 1, 2 and 3"
   ]
  },
  {
   "cell_type": "code",
   "execution_count": 6,
   "metadata": {},
   "outputs": [
    {
     "name": "stdout",
     "output_type": "stream",
     "text": [
      "Fitting 5 folds for each of 7 candidates, totalling 35 fits\n",
      "[CV 1/5] END log_reg__C=0.0001, log_reg__solver=saga;, score=0.582 total time=  19.8s\n",
      "[CV 2/5] END log_reg__C=0.0001, log_reg__solver=saga;, score=0.580 total time=  20.4s\n",
      "[CV 4/5] END log_reg__C=0.0001, log_reg__solver=saga;, score=0.583 total time=  17.8s\n",
      "[CV 3/5] END log_reg__C=0.0001, log_reg__solver=saga;, score=0.582 total time=  19.2s\n",
      "[CV 5/5] END log_reg__C=0.0001, log_reg__solver=saga;, score=0.585 total time=  18.0s\n"
     ]
    },
    {
     "name": "stderr",
     "output_type": "stream",
     "text": [
      "/home/jng/anaconda3/lib/python3.9/site-packages/sklearn/linear_model/_sag.py:350: ConvergenceWarning: The max_iter was reached which means the coef_ did not converge\n",
      "  warnings.warn(\n"
     ]
    },
    {
     "name": "stdout",
     "output_type": "stream",
     "text": [
      "[CV 1/5] END log_reg__C=0.001, log_reg__solver=saga;, score=0.571 total time=  25.4s\n"
     ]
    },
    {
     "name": "stderr",
     "output_type": "stream",
     "text": [
      "/home/jng/anaconda3/lib/python3.9/site-packages/sklearn/linear_model/_sag.py:350: ConvergenceWarning: The max_iter was reached which means the coef_ did not converge\n",
      "  warnings.warn(\n"
     ]
    },
    {
     "name": "stdout",
     "output_type": "stream",
     "text": [
      "[CV 2/5] END log_reg__C=0.001, log_reg__solver=saga;, score=0.577 total time=  25.9s\n"
     ]
    },
    {
     "name": "stderr",
     "output_type": "stream",
     "text": [
      "/home/jng/anaconda3/lib/python3.9/site-packages/sklearn/linear_model/_sag.py:350: ConvergenceWarning: The max_iter was reached which means the coef_ did not converge\n",
      "  warnings.warn(\n"
     ]
    },
    {
     "name": "stdout",
     "output_type": "stream",
     "text": [
      "[CV 3/5] END log_reg__C=0.001, log_reg__solver=saga;, score=0.580 total time=  26.3s\n",
      "[CV 4/5] END log_reg__C=0.001, log_reg__solver=saga;, score=0.569 total time=  23.4s\n"
     ]
    },
    {
     "name": "stderr",
     "output_type": "stream",
     "text": [
      "/home/jng/anaconda3/lib/python3.9/site-packages/sklearn/linear_model/_sag.py:350: ConvergenceWarning: The max_iter was reached which means the coef_ did not converge\n",
      "  warnings.warn(\n"
     ]
    },
    {
     "name": "stdout",
     "output_type": "stream",
     "text": [
      "[CV 5/5] END log_reg__C=0.001, log_reg__solver=saga;, score=0.574 total time=  26.3s\n"
     ]
    },
    {
     "name": "stderr",
     "output_type": "stream",
     "text": [
      "/home/jng/anaconda3/lib/python3.9/site-packages/sklearn/linear_model/_sag.py:350: ConvergenceWarning: The max_iter was reached which means the coef_ did not converge\n",
      "  warnings.warn(\n"
     ]
    },
    {
     "name": "stdout",
     "output_type": "stream",
     "text": [
      "[CV 1/5] END log_reg__C=0.01, log_reg__solver=saga;, score=0.565 total time=  26.3s\n"
     ]
    },
    {
     "name": "stderr",
     "output_type": "stream",
     "text": [
      "/home/jng/anaconda3/lib/python3.9/site-packages/sklearn/linear_model/_sag.py:350: ConvergenceWarning: The max_iter was reached which means the coef_ did not converge\n",
      "  warnings.warn(\n"
     ]
    },
    {
     "name": "stdout",
     "output_type": "stream",
     "text": [
      "[CV 2/5] END log_reg__C=0.01, log_reg__solver=saga;, score=0.571 total time=  27.0s\n"
     ]
    },
    {
     "name": "stderr",
     "output_type": "stream",
     "text": [
      "/home/jng/anaconda3/lib/python3.9/site-packages/sklearn/linear_model/_sag.py:350: ConvergenceWarning: The max_iter was reached which means the coef_ did not converge\n",
      "  warnings.warn(\n"
     ]
    },
    {
     "name": "stdout",
     "output_type": "stream",
     "text": [
      "[CV 3/5] END log_reg__C=0.01, log_reg__solver=saga;, score=0.576 total time=  27.1s\n"
     ]
    },
    {
     "name": "stderr",
     "output_type": "stream",
     "text": [
      "/home/jng/anaconda3/lib/python3.9/site-packages/sklearn/linear_model/_sag.py:350: ConvergenceWarning: The max_iter was reached which means the coef_ did not converge\n",
      "  warnings.warn(\n"
     ]
    },
    {
     "name": "stdout",
     "output_type": "stream",
     "text": [
      "[CV 4/5] END log_reg__C=0.01, log_reg__solver=saga;, score=0.554 total time=  26.0s\n"
     ]
    },
    {
     "name": "stderr",
     "output_type": "stream",
     "text": [
      "/home/jng/anaconda3/lib/python3.9/site-packages/sklearn/linear_model/_sag.py:350: ConvergenceWarning: The max_iter was reached which means the coef_ did not converge\n",
      "  warnings.warn(\n"
     ]
    },
    {
     "name": "stdout",
     "output_type": "stream",
     "text": [
      "[CV 5/5] END log_reg__C=0.01, log_reg__solver=saga;, score=0.566 total time=  26.0s\n"
     ]
    },
    {
     "name": "stderr",
     "output_type": "stream",
     "text": [
      "/home/jng/anaconda3/lib/python3.9/site-packages/sklearn/linear_model/_sag.py:350: ConvergenceWarning: The max_iter was reached which means the coef_ did not converge\n",
      "  warnings.warn(\n"
     ]
    },
    {
     "name": "stdout",
     "output_type": "stream",
     "text": [
      "[CV 1/5] END log_reg__C=0.1, log_reg__solver=saga;, score=0.565 total time=  26.0s\n"
     ]
    },
    {
     "name": "stderr",
     "output_type": "stream",
     "text": [
      "/home/jng/anaconda3/lib/python3.9/site-packages/sklearn/linear_model/_sag.py:350: ConvergenceWarning: The max_iter was reached which means the coef_ did not converge\n",
      "  warnings.warn(\n"
     ]
    },
    {
     "name": "stdout",
     "output_type": "stream",
     "text": [
      "[CV 2/5] END log_reg__C=0.1, log_reg__solver=saga;, score=0.568 total time=  26.0s\n"
     ]
    },
    {
     "name": "stderr",
     "output_type": "stream",
     "text": [
      "/home/jng/anaconda3/lib/python3.9/site-packages/sklearn/linear_model/_sag.py:350: ConvergenceWarning: The max_iter was reached which means the coef_ did not converge\n",
      "  warnings.warn(\n"
     ]
    },
    {
     "name": "stdout",
     "output_type": "stream",
     "text": [
      "[CV 3/5] END log_reg__C=0.1, log_reg__solver=saga;, score=0.578 total time=  26.2s\n"
     ]
    },
    {
     "name": "stderr",
     "output_type": "stream",
     "text": [
      "/home/jng/anaconda3/lib/python3.9/site-packages/sklearn/linear_model/_sag.py:350: ConvergenceWarning: The max_iter was reached which means the coef_ did not converge\n",
      "  warnings.warn(\n"
     ]
    },
    {
     "name": "stdout",
     "output_type": "stream",
     "text": [
      "[CV 4/5] END log_reg__C=0.1, log_reg__solver=saga;, score=0.551 total time=  26.9s\n"
     ]
    },
    {
     "name": "stderr",
     "output_type": "stream",
     "text": [
      "/home/jng/anaconda3/lib/python3.9/site-packages/sklearn/linear_model/_sag.py:350: ConvergenceWarning: The max_iter was reached which means the coef_ did not converge\n",
      "  warnings.warn(\n"
     ]
    },
    {
     "name": "stdout",
     "output_type": "stream",
     "text": [
      "[CV 5/5] END log_reg__C=0.1, log_reg__solver=saga;, score=0.565 total time=  26.9s\n"
     ]
    },
    {
     "name": "stderr",
     "output_type": "stream",
     "text": [
      "/home/jng/anaconda3/lib/python3.9/site-packages/sklearn/linear_model/_sag.py:350: ConvergenceWarning: The max_iter was reached which means the coef_ did not converge\n",
      "  warnings.warn(\n"
     ]
    },
    {
     "name": "stdout",
     "output_type": "stream",
     "text": [
      "[CV 1/5] END log_reg__C=1, log_reg__solver=saga;, score=0.565 total time=  26.5s\n"
     ]
    },
    {
     "name": "stderr",
     "output_type": "stream",
     "text": [
      "/home/jng/anaconda3/lib/python3.9/site-packages/sklearn/linear_model/_sag.py:350: ConvergenceWarning: The max_iter was reached which means the coef_ did not converge\n",
      "  warnings.warn(\n"
     ]
    },
    {
     "name": "stdout",
     "output_type": "stream",
     "text": [
      "[CV 2/5] END log_reg__C=1, log_reg__solver=saga;, score=0.568 total time=  26.3s\n"
     ]
    },
    {
     "name": "stderr",
     "output_type": "stream",
     "text": [
      "/home/jng/anaconda3/lib/python3.9/site-packages/sklearn/linear_model/_sag.py:350: ConvergenceWarning: The max_iter was reached which means the coef_ did not converge\n",
      "  warnings.warn(\n"
     ]
    },
    {
     "name": "stdout",
     "output_type": "stream",
     "text": [
      "[CV 3/5] END log_reg__C=1, log_reg__solver=saga;, score=0.578 total time=  26.6s\n"
     ]
    },
    {
     "name": "stderr",
     "output_type": "stream",
     "text": [
      "/home/jng/anaconda3/lib/python3.9/site-packages/sklearn/linear_model/_sag.py:350: ConvergenceWarning: The max_iter was reached which means the coef_ did not converge\n",
      "  warnings.warn(\n"
     ]
    },
    {
     "name": "stdout",
     "output_type": "stream",
     "text": [
      "[CV 4/5] END log_reg__C=1, log_reg__solver=saga;, score=0.551 total time=  26.9s\n"
     ]
    },
    {
     "name": "stderr",
     "output_type": "stream",
     "text": [
      "/home/jng/anaconda3/lib/python3.9/site-packages/sklearn/linear_model/_sag.py:350: ConvergenceWarning: The max_iter was reached which means the coef_ did not converge\n",
      "  warnings.warn(\n"
     ]
    },
    {
     "name": "stdout",
     "output_type": "stream",
     "text": [
      "[CV 5/5] END log_reg__C=1, log_reg__solver=saga;, score=0.564 total time=  26.7s\n"
     ]
    },
    {
     "name": "stderr",
     "output_type": "stream",
     "text": [
      "/home/jng/anaconda3/lib/python3.9/site-packages/sklearn/linear_model/_sag.py:350: ConvergenceWarning: The max_iter was reached which means the coef_ did not converge\n",
      "  warnings.warn(\n"
     ]
    },
    {
     "name": "stdout",
     "output_type": "stream",
     "text": [
      "[CV 1/5] END log_reg__C=10, log_reg__solver=saga;, score=0.565 total time=  26.7s\n"
     ]
    },
    {
     "name": "stderr",
     "output_type": "stream",
     "text": [
      "/home/jng/anaconda3/lib/python3.9/site-packages/sklearn/linear_model/_sag.py:350: ConvergenceWarning: The max_iter was reached which means the coef_ did not converge\n",
      "  warnings.warn(\n"
     ]
    },
    {
     "name": "stdout",
     "output_type": "stream",
     "text": [
      "[CV 2/5] END log_reg__C=10, log_reg__solver=saga;, score=0.568 total time=  26.7s\n"
     ]
    },
    {
     "name": "stderr",
     "output_type": "stream",
     "text": [
      "/home/jng/anaconda3/lib/python3.9/site-packages/sklearn/linear_model/_sag.py:350: ConvergenceWarning: The max_iter was reached which means the coef_ did not converge\n",
      "  warnings.warn(\n"
     ]
    },
    {
     "name": "stdout",
     "output_type": "stream",
     "text": [
      "[CV 3/5] END log_reg__C=10, log_reg__solver=saga;, score=0.578 total time=  26.7s\n"
     ]
    },
    {
     "name": "stderr",
     "output_type": "stream",
     "text": [
      "/home/jng/anaconda3/lib/python3.9/site-packages/sklearn/linear_model/_sag.py:350: ConvergenceWarning: The max_iter was reached which means the coef_ did not converge\n",
      "  warnings.warn(\n"
     ]
    },
    {
     "name": "stdout",
     "output_type": "stream",
     "text": [
      "[CV 4/5] END log_reg__C=10, log_reg__solver=saga;, score=0.551 total time=  27.1s\n"
     ]
    },
    {
     "name": "stderr",
     "output_type": "stream",
     "text": [
      "/home/jng/anaconda3/lib/python3.9/site-packages/sklearn/linear_model/_sag.py:350: ConvergenceWarning: The max_iter was reached which means the coef_ did not converge\n",
      "  warnings.warn(\n"
     ]
    },
    {
     "name": "stdout",
     "output_type": "stream",
     "text": [
      "[CV 5/5] END log_reg__C=10, log_reg__solver=saga;, score=0.564 total time=  26.4s\n"
     ]
    },
    {
     "name": "stderr",
     "output_type": "stream",
     "text": [
      "/home/jng/anaconda3/lib/python3.9/site-packages/sklearn/linear_model/_sag.py:350: ConvergenceWarning: The max_iter was reached which means the coef_ did not converge\n",
      "  warnings.warn(\n"
     ]
    },
    {
     "name": "stdout",
     "output_type": "stream",
     "text": [
      "[CV 1/5] END log_reg__C=100, log_reg__solver=saga;, score=0.565 total time=  26.2s\n"
     ]
    },
    {
     "name": "stderr",
     "output_type": "stream",
     "text": [
      "/home/jng/anaconda3/lib/python3.9/site-packages/sklearn/linear_model/_sag.py:350: ConvergenceWarning: The max_iter was reached which means the coef_ did not converge\n",
      "  warnings.warn(\n"
     ]
    },
    {
     "name": "stdout",
     "output_type": "stream",
     "text": [
      "[CV 2/5] END log_reg__C=100, log_reg__solver=saga;, score=0.568 total time=  25.7s\n"
     ]
    },
    {
     "name": "stderr",
     "output_type": "stream",
     "text": [
      "/home/jng/anaconda3/lib/python3.9/site-packages/sklearn/linear_model/_sag.py:350: ConvergenceWarning: The max_iter was reached which means the coef_ did not converge\n",
      "  warnings.warn(\n"
     ]
    },
    {
     "name": "stdout",
     "output_type": "stream",
     "text": [
      "[CV 3/5] END log_reg__C=100, log_reg__solver=saga;, score=0.578 total time=  25.8s\n"
     ]
    },
    {
     "name": "stderr",
     "output_type": "stream",
     "text": [
      "/home/jng/anaconda3/lib/python3.9/site-packages/sklearn/linear_model/_sag.py:350: ConvergenceWarning: The max_iter was reached which means the coef_ did not converge\n",
      "  warnings.warn(\n"
     ]
    },
    {
     "name": "stdout",
     "output_type": "stream",
     "text": [
      "[CV 4/5] END log_reg__C=100, log_reg__solver=saga;, score=0.551 total time=  25.5s\n"
     ]
    },
    {
     "name": "stderr",
     "output_type": "stream",
     "text": [
      "/home/jng/anaconda3/lib/python3.9/site-packages/sklearn/linear_model/_sag.py:350: ConvergenceWarning: The max_iter was reached which means the coef_ did not converge\n",
      "  warnings.warn(\n"
     ]
    },
    {
     "name": "stdout",
     "output_type": "stream",
     "text": [
      "[CV 5/5] END log_reg__C=100, log_reg__solver=saga;, score=0.565 total time=  24.9s\n"
     ]
    },
    {
     "data": {
      "text/plain": [
       "0.5949032168221696"
      ]
     },
     "execution_count": 6,
     "metadata": {},
     "output_type": "execute_result"
    }
   ],
   "source": [
    "X = df['cleaned_lyrics']\n",
    "y = df['spotify_popularity_two_class']\n",
    "X_train, X_test, y_train, y_test = train_test_split(X, y, test_size=0.2, stratify=y, random_state=33)\n",
    "ngrams_vectorizer = CountVectorizer(max_df=0.9, \n",
    "                         min_df=0.01, \n",
    "                         stop_words=list(ENGLISH_STOP_WORDS), \n",
    "                         ngram_range=(1,3)\n",
    "                         )\n",
    "\n",
    "log_reg = LogisticRegression(penalty='l2', max_iter=500)\n",
    "pipe = Pipeline(steps=\n",
    "                [\n",
    "                    ('ngrams', ngrams_vectorizer),\n",
    "                    ('log_reg', log_reg)\n",
    "                ]\n",
    "            )\n",
    "param_grid = {\n",
    "    'log_reg__C':[0.0001, 0.001, 0.01, 0.1, 1, 10, 100],\n",
    "    'log_reg__solver':['saga']\n",
    "}\n",
    "search = GridSearchCV(pipe, param_grid, n_jobs=2, cv=5, verbose=3)\n",
    "search.fit(X_train, y_train)\n",
    "search.score(X_test, y_test)"
   ]
  },
  {
   "cell_type": "code",
   "execution_count": 7,
   "metadata": {},
   "outputs": [],
   "source": [
    "with open(MODEL_PATH / 'log_reg_ngrams_spotify_two_class_pipeline.pkl', 'wb') as file:\n",
    "    joblib.dump(search, file)"
   ]
  },
  {
   "attachments": {},
   "cell_type": "markdown",
   "metadata": {},
   "source": [
    "## Exploring Word Importance in Predicting Popularity"
   ]
  },
  {
   "cell_type": "code",
   "execution_count": 14,
   "metadata": {},
   "outputs": [],
   "source": [
    "words = search.best_estimator_.named_steps['ngrams'].get_feature_names_out()"
   ]
  },
  {
   "cell_type": "code",
   "execution_count": 19,
   "metadata": {},
   "outputs": [
    {
     "data": {
      "text/plain": [
       "(2746,)"
      ]
     },
     "execution_count": 19,
     "metadata": {},
     "output_type": "execute_result"
    }
   ],
   "source": [
    "words.shape"
   ]
  },
  {
   "cell_type": "code",
   "execution_count": 15,
   "metadata": {},
   "outputs": [],
   "source": [
    "coefficients = search.best_estimator_.named_steps['log_reg'].coef_"
   ]
  },
  {
   "cell_type": "code",
   "execution_count": 22,
   "metadata": {},
   "outputs": [],
   "source": [
    "interpret_df = pd.DataFrame(\n",
    "    {\n",
    "        'word': words,\n",
    "        # Need to reshape the coefficients to one dimensional.\n",
    "        'coefficients':coefficients.reshape(-1)\n",
    "    }\n",
    ")"
   ]
  },
  {
   "attachments": {},
   "cell_type": "markdown",
   "metadata": {},
   "source": [
    "### Top Words For Predicting a Popular Song"
   ]
  },
  {
   "cell_type": "code",
   "execution_count": 28,
   "metadata": {},
   "outputs": [
    {
     "data": {
      "text/html": [
       "<div>\n",
       "<style scoped>\n",
       "    .dataframe tbody tr th:only-of-type {\n",
       "        vertical-align: middle;\n",
       "    }\n",
       "\n",
       "    .dataframe tbody tr th {\n",
       "        vertical-align: top;\n",
       "    }\n",
       "\n",
       "    .dataframe thead th {\n",
       "        text-align: right;\n",
       "    }\n",
       "</style>\n",
       "<table border=\"1\" class=\"dataframe\">\n",
       "  <thead>\n",
       "    <tr style=\"text-align: right;\">\n",
       "      <th></th>\n",
       "      <th>word</th>\n",
       "      <th>coefficients</th>\n",
       "    </tr>\n",
       "  </thead>\n",
       "  <tbody>\n",
       "    <tr>\n",
       "      <th>96</th>\n",
       "      <td>away</td>\n",
       "      <td>0.022411</td>\n",
       "    </tr>\n",
       "    <tr>\n",
       "      <th>1946</th>\n",
       "      <td>remember</td>\n",
       "      <td>0.021972</td>\n",
       "    </tr>\n",
       "    <tr>\n",
       "      <th>750</th>\n",
       "      <td>feel</td>\n",
       "      <td>0.018455</td>\n",
       "    </tr>\n",
       "    <tr>\n",
       "      <th>2642</th>\n",
       "      <td>wish</td>\n",
       "      <td>0.018445</td>\n",
       "    </tr>\n",
       "    <tr>\n",
       "      <th>1715</th>\n",
       "      <td>ooh</td>\n",
       "      <td>0.015571</td>\n",
       "    </tr>\n",
       "    <tr>\n",
       "      <th>2735</th>\n",
       "      <td>youre</td>\n",
       "      <td>0.015424</td>\n",
       "    </tr>\n",
       "    <tr>\n",
       "      <th>2590</th>\n",
       "      <td>water</td>\n",
       "      <td>0.015026</td>\n",
       "    </tr>\n",
       "    <tr>\n",
       "      <th>730</th>\n",
       "      <td>falling</td>\n",
       "      <td>0.013532</td>\n",
       "    </tr>\n",
       "    <tr>\n",
       "      <th>1185</th>\n",
       "      <td>ive</td>\n",
       "      <td>0.013471</td>\n",
       "    </tr>\n",
       "    <tr>\n",
       "      <th>758</th>\n",
       "      <td>feels</td>\n",
       "      <td>0.013439</td>\n",
       "    </tr>\n",
       "    <tr>\n",
       "      <th>1386</th>\n",
       "      <td>like like</td>\n",
       "      <td>0.013350</td>\n",
       "    </tr>\n",
       "    <tr>\n",
       "      <th>838</th>\n",
       "      <td>friends</td>\n",
       "      <td>0.013234</td>\n",
       "    </tr>\n",
       "    <tr>\n",
       "      <th>8</th>\n",
       "      <td>21</td>\n",
       "      <td>0.013040</td>\n",
       "    </tr>\n",
       "    <tr>\n",
       "      <th>565</th>\n",
       "      <td>die</td>\n",
       "      <td>0.012918</td>\n",
       "    </tr>\n",
       "    <tr>\n",
       "      <th>1425</th>\n",
       "      <td>lonely</td>\n",
       "      <td>0.012525</td>\n",
       "    </tr>\n",
       "    <tr>\n",
       "      <th>1053</th>\n",
       "      <td>hold</td>\n",
       "      <td>0.012413</td>\n",
       "    </tr>\n",
       "    <tr>\n",
       "      <th>1322</th>\n",
       "      <td>late</td>\n",
       "      <td>0.012192</td>\n",
       "    </tr>\n",
       "    <tr>\n",
       "      <th>961</th>\n",
       "      <td>ground</td>\n",
       "      <td>0.011769</td>\n",
       "    </tr>\n",
       "    <tr>\n",
       "      <th>2651</th>\n",
       "      <td>wonder</td>\n",
       "      <td>0.011720</td>\n",
       "    </tr>\n",
       "    <tr>\n",
       "      <th>716</th>\n",
       "      <td>eyes</td>\n",
       "      <td>0.011616</td>\n",
       "    </tr>\n",
       "    <tr>\n",
       "      <th>239</th>\n",
       "      <td>boom</td>\n",
       "      <td>0.011604</td>\n",
       "    </tr>\n",
       "    <tr>\n",
       "      <th>1258</th>\n",
       "      <td>kiss</td>\n",
       "      <td>0.011524</td>\n",
       "    </tr>\n",
       "    <tr>\n",
       "      <th>2461</th>\n",
       "      <td>tonight</td>\n",
       "      <td>0.011458</td>\n",
       "    </tr>\n",
       "    <tr>\n",
       "      <th>104</th>\n",
       "      <td>baby</td>\n",
       "      <td>0.011413</td>\n",
       "    </tr>\n",
       "    <tr>\n",
       "      <th>527</th>\n",
       "      <td>dark</td>\n",
       "      <td>0.011074</td>\n",
       "    </tr>\n",
       "    <tr>\n",
       "      <th>622</th>\n",
       "      <td>dont think</td>\n",
       "      <td>0.010864</td>\n",
       "    </tr>\n",
       "    <tr>\n",
       "      <th>100</th>\n",
       "      <td>ayy</td>\n",
       "      <td>0.010669</td>\n",
       "    </tr>\n",
       "    <tr>\n",
       "      <th>1679</th>\n",
       "      <td>night</td>\n",
       "      <td>0.010466</td>\n",
       "    </tr>\n",
       "    <tr>\n",
       "      <th>1698</th>\n",
       "      <td>oh</td>\n",
       "      <td>0.010335</td>\n",
       "    </tr>\n",
       "    <tr>\n",
       "      <th>1373</th>\n",
       "      <td>lights</td>\n",
       "      <td>0.010291</td>\n",
       "    </tr>\n",
       "  </tbody>\n",
       "</table>\n",
       "</div>"
      ],
      "text/plain": [
       "            word  coefficients\n",
       "96          away      0.022411\n",
       "1946    remember      0.021972\n",
       "750         feel      0.018455\n",
       "2642        wish      0.018445\n",
       "1715         ooh      0.015571\n",
       "2735       youre      0.015424\n",
       "2590       water      0.015026\n",
       "730      falling      0.013532\n",
       "1185         ive      0.013471\n",
       "758        feels      0.013439\n",
       "1386   like like      0.013350\n",
       "838      friends      0.013234\n",
       "8             21      0.013040\n",
       "565          die      0.012918\n",
       "1425      lonely      0.012525\n",
       "1053        hold      0.012413\n",
       "1322        late      0.012192\n",
       "961       ground      0.011769\n",
       "2651      wonder      0.011720\n",
       "716         eyes      0.011616\n",
       "239         boom      0.011604\n",
       "1258        kiss      0.011524\n",
       "2461     tonight      0.011458\n",
       "104         baby      0.011413\n",
       "527         dark      0.011074\n",
       "622   dont think      0.010864\n",
       "100          ayy      0.010669\n",
       "1679       night      0.010466\n",
       "1698          oh      0.010335\n",
       "1373      lights      0.010291"
      ]
     },
     "execution_count": 28,
     "metadata": {},
     "output_type": "execute_result"
    }
   ],
   "source": [
    "interpret_df.sort_values(by='coefficients', ascending=False).head(30)"
   ]
  },
  {
   "attachments": {},
   "cell_type": "markdown",
   "metadata": {},
   "source": [
    "### Worst Words for Predicting a Popular Song"
   ]
  },
  {
   "cell_type": "code",
   "execution_count": 29,
   "metadata": {},
   "outputs": [
    {
     "data": {
      "text/html": [
       "<div>\n",
       "<style scoped>\n",
       "    .dataframe tbody tr th:only-of-type {\n",
       "        vertical-align: middle;\n",
       "    }\n",
       "\n",
       "    .dataframe tbody tr th {\n",
       "        vertical-align: top;\n",
       "    }\n",
       "\n",
       "    .dataframe thead th {\n",
       "        text-align: right;\n",
       "    }\n",
       "</style>\n",
       "<table border=\"1\" class=\"dataframe\">\n",
       "  <thead>\n",
       "    <tr style=\"text-align: right;\">\n",
       "      <th></th>\n",
       "      <th>word</th>\n",
       "      <th>coefficients</th>\n",
       "    </tr>\n",
       "  </thead>\n",
       "  <tbody>\n",
       "    <tr>\n",
       "      <th>2369</th>\n",
       "      <td>talking</td>\n",
       "      <td>-0.010689</td>\n",
       "    </tr>\n",
       "    <tr>\n",
       "      <th>2618</th>\n",
       "      <td>whats</td>\n",
       "      <td>-0.010720</td>\n",
       "    </tr>\n",
       "    <tr>\n",
       "      <th>2658</th>\n",
       "      <td>word</td>\n",
       "      <td>-0.010759</td>\n",
       "    </tr>\n",
       "    <tr>\n",
       "      <th>631</th>\n",
       "      <td>dope</td>\n",
       "      <td>-0.010823</td>\n",
       "    </tr>\n",
       "    <tr>\n",
       "      <th>706</th>\n",
       "      <td>everyday</td>\n",
       "      <td>-0.010891</td>\n",
       "    </tr>\n",
       "    <tr>\n",
       "      <th>2313</th>\n",
       "      <td>streets</td>\n",
       "      <td>-0.010906</td>\n",
       "    </tr>\n",
       "    <tr>\n",
       "      <th>630</th>\n",
       "      <td>doors</td>\n",
       "      <td>-0.010987</td>\n",
       "    </tr>\n",
       "    <tr>\n",
       "      <th>2327</th>\n",
       "      <td>style</td>\n",
       "      <td>-0.011016</td>\n",
       "    </tr>\n",
       "    <tr>\n",
       "      <th>200</th>\n",
       "      <td>bitches</td>\n",
       "      <td>-0.011055</td>\n",
       "    </tr>\n",
       "    <tr>\n",
       "      <th>1740</th>\n",
       "      <td>paper</td>\n",
       "      <td>-0.011063</td>\n",
       "    </tr>\n",
       "    <tr>\n",
       "      <th>253</th>\n",
       "      <td>box</td>\n",
       "      <td>-0.011190</td>\n",
       "    </tr>\n",
       "    <tr>\n",
       "      <th>587</th>\n",
       "      <td>doin</td>\n",
       "      <td>-0.011324</td>\n",
       "    </tr>\n",
       "    <tr>\n",
       "      <th>801</th>\n",
       "      <td>flow</td>\n",
       "      <td>-0.011551</td>\n",
       "    </tr>\n",
       "    <tr>\n",
       "      <th>2236</th>\n",
       "      <td>soul</td>\n",
       "      <td>-0.011682</td>\n",
       "    </tr>\n",
       "    <tr>\n",
       "      <th>1256</th>\n",
       "      <td>king</td>\n",
       "      <td>-0.011843</td>\n",
       "    </tr>\n",
       "    <tr>\n",
       "      <th>1244</th>\n",
       "      <td>kid</td>\n",
       "      <td>-0.011892</td>\n",
       "    </tr>\n",
       "    <tr>\n",
       "      <th>804</th>\n",
       "      <td>fly</td>\n",
       "      <td>-0.011956</td>\n",
       "    </tr>\n",
       "    <tr>\n",
       "      <th>1948</th>\n",
       "      <td>remix</td>\n",
       "      <td>-0.012229</td>\n",
       "    </tr>\n",
       "    <tr>\n",
       "      <th>232</th>\n",
       "      <td>body</td>\n",
       "      <td>-0.012263</td>\n",
       "    </tr>\n",
       "    <tr>\n",
       "      <th>2644</th>\n",
       "      <td>wit</td>\n",
       "      <td>-0.012307</td>\n",
       "    </tr>\n",
       "    <tr>\n",
       "      <th>1902</th>\n",
       "      <td>rap</td>\n",
       "      <td>-0.012371</td>\n",
       "    </tr>\n",
       "    <tr>\n",
       "      <th>203</th>\n",
       "      <td>black</td>\n",
       "      <td>-0.012431</td>\n",
       "    </tr>\n",
       "    <tr>\n",
       "      <th>259</th>\n",
       "      <td>brain</td>\n",
       "      <td>-0.013589</td>\n",
       "    </tr>\n",
       "    <tr>\n",
       "      <th>2502</th>\n",
       "      <td>trying</td>\n",
       "      <td>-0.013697</td>\n",
       "    </tr>\n",
       "    <tr>\n",
       "      <th>2082</th>\n",
       "      <td>set</td>\n",
       "      <td>-0.014022</td>\n",
       "    </tr>\n",
       "    <tr>\n",
       "      <th>1170</th>\n",
       "      <td>imma</td>\n",
       "      <td>-0.017515</td>\n",
       "    </tr>\n",
       "    <tr>\n",
       "      <th>2686</th>\n",
       "      <td>ya</td>\n",
       "      <td>-0.017715</td>\n",
       "    </tr>\n",
       "    <tr>\n",
       "      <th>2689</th>\n",
       "      <td>yall</td>\n",
       "      <td>-0.019592</td>\n",
       "    </tr>\n",
       "    <tr>\n",
       "      <th>2723</th>\n",
       "      <td>yo</td>\n",
       "      <td>-0.019623</td>\n",
       "    </tr>\n",
       "    <tr>\n",
       "      <th>1799</th>\n",
       "      <td>play</td>\n",
       "      <td>-0.022733</td>\n",
       "    </tr>\n",
       "  </tbody>\n",
       "</table>\n",
       "</div>"
      ],
      "text/plain": [
       "          word  coefficients\n",
       "2369   talking     -0.010689\n",
       "2618     whats     -0.010720\n",
       "2658      word     -0.010759\n",
       "631       dope     -0.010823\n",
       "706   everyday     -0.010891\n",
       "2313   streets     -0.010906\n",
       "630      doors     -0.010987\n",
       "2327     style     -0.011016\n",
       "200    bitches     -0.011055\n",
       "1740     paper     -0.011063\n",
       "253        box     -0.011190\n",
       "587       doin     -0.011324\n",
       "801       flow     -0.011551\n",
       "2236      soul     -0.011682\n",
       "1256      king     -0.011843\n",
       "1244       kid     -0.011892\n",
       "804        fly     -0.011956\n",
       "1948     remix     -0.012229\n",
       "232       body     -0.012263\n",
       "2644       wit     -0.012307\n",
       "1902       rap     -0.012371\n",
       "203      black     -0.012431\n",
       "259      brain     -0.013589\n",
       "2502    trying     -0.013697\n",
       "2082       set     -0.014022\n",
       "1170      imma     -0.017515\n",
       "2686        ya     -0.017715\n",
       "2689      yall     -0.019592\n",
       "2723        yo     -0.019623\n",
       "1799      play     -0.022733"
      ]
     },
     "execution_count": 29,
     "metadata": {},
     "output_type": "execute_result"
    }
   ],
   "source": [
    "interpret_df.sort_values(by='coefficients', ascending=False).tail(30)"
   ]
  },
  {
   "attachments": {},
   "cell_type": "markdown",
   "metadata": {},
   "source": [
    "# Logisitic Regression N-grams = 1, 2 and 3 and NMF"
   ]
  },
  {
   "cell_type": "code",
   "execution_count": 35,
   "metadata": {},
   "outputs": [],
   "source": [
    "from sklearn.decomposition import NMF"
   ]
  },
  {
   "cell_type": "code",
   "execution_count": 37,
   "metadata": {},
   "outputs": [
    {
     "name": "stdout",
     "output_type": "stream",
     "text": [
      "Fitting 5 folds for each of 7 candidates, totalling 35 fits\n",
      "[CV 1/5] END log_reg__C=0.0001, log_reg__solver=saga;, score=0.516 total time=  43.7s\n",
      "[CV 2/5] END log_reg__C=0.0001, log_reg__solver=saga;, score=0.516 total time=  43.7s\n",
      "[CV 3/5] END log_reg__C=0.0001, log_reg__solver=saga;, score=0.516 total time=  19.2s\n",
      "[CV 4/5] END log_reg__C=0.0001, log_reg__solver=saga;, score=0.515 total time=  19.3s\n",
      "[CV 5/5] END log_reg__C=0.0001, log_reg__solver=saga;, score=0.516 total time=  18.7s\n",
      "[CV 1/5] END log_reg__C=0.001, log_reg__solver=saga;, score=0.523 total time=  18.7s\n",
      "[CV 2/5] END log_reg__C=0.001, log_reg__solver=saga;, score=0.525 total time=  18.0s\n",
      "[CV 3/5] END log_reg__C=0.001, log_reg__solver=saga;, score=0.524 total time=  18.2s\n",
      "[CV 4/5] END log_reg__C=0.001, log_reg__solver=saga;, score=0.522 total time=  17.2s\n",
      "[CV 5/5] END log_reg__C=0.001, log_reg__solver=saga;, score=0.520 total time=  17.2s\n",
      "[CV 1/5] END log_reg__C=0.01, log_reg__solver=saga;, score=0.555 total time=  17.0s\n",
      "[CV 2/5] END log_reg__C=0.01, log_reg__solver=saga;, score=0.567 total time=  17.2s\n",
      "[CV 3/5] END log_reg__C=0.01, log_reg__solver=saga;, score=0.561 total time=  17.3s\n",
      "[CV 4/5] END log_reg__C=0.01, log_reg__solver=saga;, score=0.556 total time=  17.0s\n",
      "[CV 5/5] END log_reg__C=0.01, log_reg__solver=saga;, score=0.560 total time=  17.1s\n",
      "[CV 1/5] END log_reg__C=0.1, log_reg__solver=saga;, score=0.562 total time=  16.9s\n",
      "[CV 3/5] END log_reg__C=0.1, log_reg__solver=saga;, score=0.564 total time=  17.9s\n",
      "[CV 2/5] END log_reg__C=0.1, log_reg__solver=saga;, score=0.568 total time=  18.0s\n",
      "[CV 5/5] END log_reg__C=0.1, log_reg__solver=saga;, score=0.565 total time=  17.3s\n",
      "[CV 4/5] END log_reg__C=0.1, log_reg__solver=saga;, score=0.562 total time=  17.6s\n",
      "[CV 1/5] END log_reg__C=1, log_reg__solver=saga;, score=0.563 total time=  18.2s\n",
      "[CV 2/5] END log_reg__C=1, log_reg__solver=saga;, score=0.568 total time=  18.2s\n",
      "[CV 3/5] END log_reg__C=1, log_reg__solver=saga;, score=0.565 total time=  17.2s\n",
      "[CV 4/5] END log_reg__C=1, log_reg__solver=saga;, score=0.562 total time=  17.4s\n",
      "[CV 5/5] END log_reg__C=1, log_reg__solver=saga;, score=0.567 total time=  17.2s\n",
      "[CV 1/5] END log_reg__C=10, log_reg__solver=saga;, score=0.563 total time=  17.4s\n",
      "[CV 2/5] END log_reg__C=10, log_reg__solver=saga;, score=0.568 total time=  17.6s\n",
      "[CV 3/5] END log_reg__C=10, log_reg__solver=saga;, score=0.565 total time=  17.5s\n",
      "[CV 4/5] END log_reg__C=10, log_reg__solver=saga;, score=0.562 total time=  17.4s\n",
      "[CV 5/5] END log_reg__C=10, log_reg__solver=saga;, score=0.567 total time=  17.4s\n",
      "[CV 1/5] END log_reg__C=100, log_reg__solver=saga;, score=0.563 total time=  17.0s\n",
      "[CV 2/5] END log_reg__C=100, log_reg__solver=saga;, score=0.568 total time=  17.1s\n",
      "[CV 3/5] END log_reg__C=100, log_reg__solver=saga;, score=0.565 total time=  17.4s\n",
      "[CV 4/5] END log_reg__C=100, log_reg__solver=saga;, score=0.562 total time=  17.6s\n",
      "[CV 5/5] END log_reg__C=100, log_reg__solver=saga;, score=0.567 total time=  16.2s\n"
     ]
    },
    {
     "data": {
      "text/plain": [
       "0.5663556607714803"
      ]
     },
     "execution_count": 37,
     "metadata": {},
     "output_type": "execute_result"
    }
   ],
   "source": [
    "X = df['cleaned_lyrics']\n",
    "y = df['spotify_popularity_two_class']\n",
    "X_train, X_test, y_train, y_test = train_test_split(X, y, test_size=0.2, stratify=y, random_state=33)\n",
    "\n",
    "ngrams_vectorizer = CountVectorizer(max_df=0.9, \n",
    "                         min_df=0.01, \n",
    "                         stop_words=list(ENGLISH_STOP_WORDS), \n",
    "                         ngram_range=(1,3)\n",
    "                         )\n",
    "\n",
    "nmf = NMF(n_components=10)\n",
    "log_reg = LogisticRegression(penalty='l2', max_iter=500)\n",
    "\n",
    "pipe = Pipeline(steps=\n",
    "                [\n",
    "                    ('ngrams', ngrams_vectorizer),\n",
    "                    ('nmf', nmf),\n",
    "                    ('log_reg', log_reg)\n",
    "                ]\n",
    "            )\n",
    "param_grid = {\n",
    "    'log_reg__C':[0.0001, 0.001, 0.01, 0.1, 1, 10, 100],\n",
    "    'log_reg__solver':['saga']\n",
    "}\n",
    "search = GridSearchCV(pipe, param_grid, n_jobs=2, cv=5, verbose=3)\n",
    "search.fit(X_train, y_train)\n",
    "search.score(X_test, y_test)"
   ]
  },
  {
   "attachments": {},
   "cell_type": "markdown",
   "metadata": {},
   "source": [
    "## Ada Embeddings and Two Class"
   ]
  },
  {
   "cell_type": "code",
   "execution_count": 30,
   "metadata": {},
   "outputs": [],
   "source": [
    "# Get the array of the ada embeddings. \n",
    "ada_embedding_array = utils.get_ada_embeddings(df, 'ada_embeddings')"
   ]
  },
  {
   "cell_type": "code",
   "execution_count": 31,
   "metadata": {},
   "outputs": [
    {
     "data": {
      "text/plain": [
       "(35901, 1536)"
      ]
     },
     "execution_count": 31,
     "metadata": {},
     "output_type": "execute_result"
    }
   ],
   "source": [
    "ada_embedding_array.shape"
   ]
  },
  {
   "cell_type": "code",
   "execution_count": 32,
   "metadata": {},
   "outputs": [],
   "source": [
    "X = ada_embedding_array\n",
    "y = df['spotify_popularity_two_class']\n",
    "\n",
    "X_train, X_test, y_train, y_test = train_test_split(X, y, test_size=0.2, stratify=y, random_state=33)"
   ]
  },
  {
   "cell_type": "code",
   "execution_count": 33,
   "metadata": {},
   "outputs": [
    {
     "name": "stdout",
     "output_type": "stream",
     "text": [
      "Fitting 5 folds for each of 14 candidates, totalling 70 fits\n",
      "[CV 2/5] END log_reg__C=0.0001, log_reg__solver=saga;, score=0.516 total time=   4.1s\n",
      "[CV 1/5] END log_reg__C=0.0001, log_reg__solver=saga;, score=0.516 total time=   4.4s\n",
      "[CV 3/5] END log_reg__C=0.0001, log_reg__solver=saga;, score=0.516 total time=   3.9s\n",
      "[CV 4/5] END log_reg__C=0.0001, log_reg__solver=saga;, score=0.516 total time=   4.1s\n",
      "[CV 1/5] END log_reg__C=0.0001, log_reg__solver=newton-cg;, score=0.516 total time=   1.2s\n",
      "[CV 2/5] END log_reg__C=0.0001, log_reg__solver=newton-cg;, score=0.516 total time=   1.1s\n",
      "[CV 3/5] END log_reg__C=0.0001, log_reg__solver=newton-cg;, score=0.516 total time=   1.1s\n",
      "[CV 5/5] END log_reg__C=0.0001, log_reg__solver=saga;, score=0.516 total time=   5.1s\n",
      "[CV 4/5] END log_reg__C=0.0001, log_reg__solver=newton-cg;, score=0.516 total time=   1.2s\n",
      "[CV 5/5] END log_reg__C=0.0001, log_reg__solver=newton-cg;, score=0.516 total time=   1.2s\n",
      "[CV 1/5] END log_reg__C=0.001, log_reg__solver=saga;, score=0.516 total time=   5.0s\n",
      "[CV 2/5] END log_reg__C=0.001, log_reg__solver=saga;, score=0.516 total time=   4.7s\n",
      "[CV 3/5] END log_reg__C=0.001, log_reg__solver=saga;, score=0.517 total time=   4.8s\n",
      "[CV 4/5] END log_reg__C=0.001, log_reg__solver=saga;, score=0.516 total time=   4.5s\n",
      "[CV 1/5] END log_reg__C=0.001, log_reg__solver=newton-cg;, score=0.516 total time=   1.7s\n",
      "[CV 2/5] END log_reg__C=0.001, log_reg__solver=newton-cg;, score=0.516 total time=   1.4s\n",
      "[CV 3/5] END log_reg__C=0.001, log_reg__solver=newton-cg;, score=0.517 total time=   1.4s\n",
      "[CV 4/5] END log_reg__C=0.001, log_reg__solver=newton-cg;, score=0.516 total time=   1.3s\n",
      "[CV 5/5] END log_reg__C=0.001, log_reg__solver=saga;, score=0.516 total time=   6.5s\n",
      "[CV 5/5] END log_reg__C=0.001, log_reg__solver=newton-cg;, score=0.516 total time=   1.4s\n",
      "[CV 1/5] END log_reg__C=0.01, log_reg__solver=saga;, score=0.584 total time=   4.7s\n",
      "[CV 2/5] END log_reg__C=0.01, log_reg__solver=saga;, score=0.589 total time=   4.1s\n",
      "[CV 3/5] END log_reg__C=0.01, log_reg__solver=saga;, score=0.579 total time=   4.1s\n",
      "[CV 4/5] END log_reg__C=0.01, log_reg__solver=saga;, score=0.584 total time=   4.4s\n",
      "[CV 1/5] END log_reg__C=0.01, log_reg__solver=newton-cg;, score=0.584 total time=   1.5s\n",
      "[CV 2/5] END log_reg__C=0.01, log_reg__solver=newton-cg;, score=0.589 total time=   1.3s\n",
      "[CV 3/5] END log_reg__C=0.01, log_reg__solver=newton-cg;, score=0.579 total time=   1.4s\n",
      "[CV 5/5] END log_reg__C=0.01, log_reg__solver=saga;, score=0.589 total time=   5.5s\n",
      "[CV 4/5] END log_reg__C=0.01, log_reg__solver=newton-cg;, score=0.584 total time=   2.1s\n",
      "[CV 5/5] END log_reg__C=0.01, log_reg__solver=newton-cg;, score=0.589 total time=   2.1s\n",
      "[CV 1/5] END log_reg__C=0.1, log_reg__solver=saga;, score=0.588 total time=   4.7s\n",
      "[CV 2/5] END log_reg__C=0.1, log_reg__solver=saga;, score=0.590 total time=   4.3s\n",
      "[CV 3/5] END log_reg__C=0.1, log_reg__solver=saga;, score=0.591 total time=   4.2s\n",
      "[CV 4/5] END log_reg__C=0.1, log_reg__solver=saga;, score=0.591 total time=   4.4s\n",
      "[CV 1/5] END log_reg__C=0.1, log_reg__solver=newton-cg;, score=0.588 total time=   2.3s\n",
      "[CV 2/5] END log_reg__C=0.1, log_reg__solver=newton-cg;, score=0.590 total time=   2.2s\n",
      "[CV 5/5] END log_reg__C=0.1, log_reg__solver=saga;, score=0.595 total time=   6.2s\n",
      "[CV 3/5] END log_reg__C=0.1, log_reg__solver=newton-cg;, score=0.591 total time=   2.7s\n",
      "[CV 4/5] END log_reg__C=0.1, log_reg__solver=newton-cg;, score=0.591 total time=   3.7s\n",
      "[CV 5/5] END log_reg__C=0.1, log_reg__solver=newton-cg;, score=0.595 total time=   3.1s\n",
      "[CV 1/5] END log_reg__C=1, log_reg__solver=saga;, score=0.592 total time=   4.5s\n",
      "[CV 2/5] END log_reg__C=1, log_reg__solver=saga;, score=0.593 total time=   4.1s\n",
      "[CV 3/5] END log_reg__C=1, log_reg__solver=saga;, score=0.592 total time=   4.2s\n",
      "[CV 4/5] END log_reg__C=1, log_reg__solver=saga;, score=0.594 total time=   4.2s\n",
      "[CV 1/5] END log_reg__C=1, log_reg__solver=newton-cg;, score=0.592 total time=   3.0s\n",
      "[CV 2/5] END log_reg__C=1, log_reg__solver=newton-cg;, score=0.593 total time=   2.7s\n",
      "[CV 5/5] END log_reg__C=1, log_reg__solver=saga;, score=0.598 total time=   6.1s\n",
      "[CV 4/5] END log_reg__C=1, log_reg__solver=newton-cg;, score=0.594 total time=   4.4s\n",
      "[CV 3/5] END log_reg__C=1, log_reg__solver=newton-cg;, score=0.592 total time=   4.7s\n",
      "[CV 5/5] END log_reg__C=1, log_reg__solver=newton-cg;, score=0.598 total time=   2.5s\n",
      "[CV 1/5] END log_reg__C=10, log_reg__solver=saga;, score=0.590 total time=  11.9s\n",
      "[CV 2/5] END log_reg__C=10, log_reg__solver=saga;, score=0.587 total time=  12.0s\n",
      "[CV 3/5] END log_reg__C=10, log_reg__solver=saga;, score=0.584 total time=  10.4s\n",
      "[CV 4/5] END log_reg__C=10, log_reg__solver=saga;, score=0.587 total time=  10.8s\n",
      "[CV 1/5] END log_reg__C=10, log_reg__solver=newton-cg;, score=0.590 total time=   4.3s\n",
      "[CV 2/5] END log_reg__C=10, log_reg__solver=newton-cg;, score=0.587 total time=   3.9s\n",
      "[CV 3/5] END log_reg__C=10, log_reg__solver=newton-cg;, score=0.584 total time=   4.1s\n",
      "[CV 5/5] END log_reg__C=10, log_reg__solver=saga;, score=0.589 total time=  15.3s\n",
      "[CV 5/5] END log_reg__C=10, log_reg__solver=newton-cg;, score=0.589 total time=   6.7s\n",
      "[CV 4/5] END log_reg__C=10, log_reg__solver=newton-cg;, score=0.587 total time=   7.1s\n",
      "[CV 2/5] END log_reg__C=100, log_reg__solver=saga;, score=0.583 total time=  46.5s\n",
      "[CV 1/5] END log_reg__C=100, log_reg__solver=saga;, score=0.583 total time=  48.8s\n",
      "[CV 4/5] END log_reg__C=100, log_reg__solver=saga;, score=0.581 total time=  44.9s\n",
      "[CV 3/5] END log_reg__C=100, log_reg__solver=saga;, score=0.579 total time=  48.3s\n",
      "[CV 1/5] END log_reg__C=100, log_reg__solver=newton-cg;, score=0.583 total time=   6.4s\n",
      "[CV 2/5] END log_reg__C=100, log_reg__solver=newton-cg;, score=0.583 total time=   5.8s\n",
      "[CV 3/5] END log_reg__C=100, log_reg__solver=newton-cg;, score=0.579 total time=   5.8s\n",
      "[CV 4/5] END log_reg__C=100, log_reg__solver=newton-cg;, score=0.581 total time=   5.9s\n",
      "[CV 5/5] END log_reg__C=100, log_reg__solver=newton-cg;, score=0.588 total time=   6.1s\n",
      "[CV 5/5] END log_reg__C=100, log_reg__solver=saga;, score=0.588 total time=  58.3s\n"
     ]
    },
    {
     "data": {
      "text/plain": [
       "0.5937891658543378"
      ]
     },
     "execution_count": 33,
     "metadata": {},
     "output_type": "execute_result"
    }
   ],
   "source": [
    "\n",
    "log_reg = LogisticRegression(penalty='l2', max_iter=500)\n",
    "pipe = Pipeline(steps=\n",
    "                [\n",
    "                    ('log_reg', log_reg)\n",
    "                ]\n",
    "            )\n",
    "param_grid = {\n",
    "    'log_reg__C':[0.0001, 0.001, 0.01, 0.1, 1, 10, 100],\n",
    "    'log_reg__solver':['saga','newton-cg']\n",
    "}\n",
    "search = GridSearchCV(pipe, param_grid, n_jobs=2, cv=5, verbose=3)\n",
    "search.fit(X_train, y_train)\n",
    "search.score(X_test, y_test)"
   ]
  },
  {
   "cell_type": "code",
   "execution_count": null,
   "metadata": {},
   "outputs": [],
   "source": []
  }
 ],
 "metadata": {
  "kernelspec": {
   "display_name": "base",
   "language": "python",
   "name": "python3"
  },
  "language_info": {
   "codemirror_mode": {
    "name": "ipython",
    "version": 3
   },
   "file_extension": ".py",
   "mimetype": "text/x-python",
   "name": "python",
   "nbconvert_exporter": "python",
   "pygments_lexer": "ipython3",
   "version": "3.9.13"
  },
  "orig_nbformat": 4
 },
 "nbformat": 4,
 "nbformat_minor": 2
}
