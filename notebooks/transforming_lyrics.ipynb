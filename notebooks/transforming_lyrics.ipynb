{
 "cells": [
  {
   "cell_type": "code",
   "execution_count": 1,
   "metadata": {},
   "outputs": [],
   "source": [
    "import pandas as pd\n",
    "import numpy as np \n",
    "import matplotlib.pyplot as plt \n",
    "\n",
    "from sklearn.feature_extraction.text import CountVectorizer\n",
    "from sklearn.feature_extraction.text import TfidfVectorizer\n",
    "from sklearn.model_selection import train_test_split\n",
    "%load_ext autoreload\n",
    "%autoreload 2"
   ]
  },
  {
   "cell_type": "code",
   "execution_count": 2,
   "metadata": {},
   "outputs": [],
   "source": [
    "import os\n",
    "import sys\n",
    "\n",
    "# Appends the entire brainstation_capstone project folder to the path.\n",
    "# This allows us to make a relative import of our scripts in brainstation_capstone/scripts\n",
    "module_path = os.path.abspath(os.path.join('..'))\n",
    "if module_path not in sys.path:\n",
    "    sys.path.append(module_path)\n",
    "\n",
    "from scripts import utils\n",
    "from scripts.vectorizer_pipeline import VectorizerPipeline"
   ]
  },
  {
   "cell_type": "code",
   "execution_count": 3,
   "metadata": {},
   "outputs": [],
   "source": [
    "DATA_PATH = utils.get_datapath('data')"
   ]
  },
  {
   "attachments": {},
   "cell_type": "markdown",
   "metadata": {},
   "source": [
    "# **Transforming Lyrics** "
   ]
  },
  {
   "cell_type": "code",
   "execution_count": 4,
   "metadata": {},
   "outputs": [],
   "source": [
    "df = pd.read_csv(DATA_PATH / 'clean_lyrics.csv')"
   ]
  },
  {
   "cell_type": "code",
   "execution_count": 5,
   "metadata": {},
   "outputs": [
    {
     "data": {
      "text/html": [
       "<div>\n",
       "<style scoped>\n",
       "    .dataframe tbody tr th:only-of-type {\n",
       "        vertical-align: middle;\n",
       "    }\n",
       "\n",
       "    .dataframe tbody tr th {\n",
       "        vertical-align: top;\n",
       "    }\n",
       "\n",
       "    .dataframe thead th {\n",
       "        text-align: right;\n",
       "    }\n",
       "</style>\n",
       "<table border=\"1\" class=\"dataframe\">\n",
       "  <thead>\n",
       "    <tr style=\"text-align: right;\">\n",
       "      <th></th>\n",
       "      <th>Unnamed: 0</th>\n",
       "      <th>song</th>\n",
       "      <th>lyrics</th>\n",
       "      <th>views</th>\n",
       "      <th>cleaned_lyrics</th>\n",
       "      <th>log_scaled_views</th>\n",
       "      <th>popular</th>\n",
       "      <th>popularity_rating</th>\n",
       "    </tr>\n",
       "  </thead>\n",
       "  <tbody>\n",
       "    <tr>\n",
       "      <th>0</th>\n",
       "      <td>0</td>\n",
       "      <td>Kendrick-lamar-swimming-pools-drank-lyrics</td>\n",
       "      <td>\\n\\n[Produced by T-Minus]\\n\\n[Intro]\\nPour up ...</td>\n",
       "      <td>5589280.0</td>\n",
       "      <td>pour up drank head shot drank sit down drank ...</td>\n",
       "      <td>15.536361</td>\n",
       "      <td>1</td>\n",
       "      <td>2</td>\n",
       "    </tr>\n",
       "    <tr>\n",
       "      <th>1</th>\n",
       "      <td>1</td>\n",
       "      <td>Kendrick-lamar-money-trees-lyrics</td>\n",
       "      <td>\\n\\n[Produced by DJ Dahi]\\n\\n[Verse 1: Kendric...</td>\n",
       "      <td>4592003.0</td>\n",
       "      <td>uh me and my niggas tryna get it ya bish ya b...</td>\n",
       "      <td>15.339827</td>\n",
       "      <td>1</td>\n",
       "      <td>2</td>\n",
       "    </tr>\n",
       "    <tr>\n",
       "      <th>2</th>\n",
       "      <td>2</td>\n",
       "      <td>Kendrick-lamar-xxx-lyrics</td>\n",
       "      <td>\\n\\n[Intro: Bēkon &amp; Kid Capri]\\nAmerica, God b...</td>\n",
       "      <td>4651514.0</td>\n",
       "      <td>america god bless you if its good to you amer...</td>\n",
       "      <td>15.352703</td>\n",
       "      <td>1</td>\n",
       "      <td>2</td>\n",
       "    </tr>\n",
       "    <tr>\n",
       "      <th>3</th>\n",
       "      <td>3</td>\n",
       "      <td>A-ap-rocky-fuckin-problems-lyrics</td>\n",
       "      <td>\\n\\n[Chorus: 2 Chainz, Drake &amp; Both (A$AP Rock...</td>\n",
       "      <td>7378309.0</td>\n",
       "      <td>i love bad bitches thats my fuckin problem an...</td>\n",
       "      <td>15.814055</td>\n",
       "      <td>1</td>\n",
       "      <td>2</td>\n",
       "    </tr>\n",
       "    <tr>\n",
       "      <th>4</th>\n",
       "      <td>4</td>\n",
       "      <td>Kendrick-lamar-dna-lyrics</td>\n",
       "      <td>\\n\\n[Verse 1]\\nI got, I got, I got, I got—\\nLo...</td>\n",
       "      <td>5113687.0</td>\n",
       "      <td>i got i got i got i got loyalty got royalty i...</td>\n",
       "      <td>15.447431</td>\n",
       "      <td>1</td>\n",
       "      <td>2</td>\n",
       "    </tr>\n",
       "  </tbody>\n",
       "</table>\n",
       "</div>"
      ],
      "text/plain": [
       "   Unnamed: 0                                        song  \\\n",
       "0           0  Kendrick-lamar-swimming-pools-drank-lyrics   \n",
       "1           1           Kendrick-lamar-money-trees-lyrics   \n",
       "2           2                   Kendrick-lamar-xxx-lyrics   \n",
       "3           3           A-ap-rocky-fuckin-problems-lyrics   \n",
       "4           4                   Kendrick-lamar-dna-lyrics   \n",
       "\n",
       "                                              lyrics      views  \\\n",
       "0  \\n\\n[Produced by T-Minus]\\n\\n[Intro]\\nPour up ...  5589280.0   \n",
       "1  \\n\\n[Produced by DJ Dahi]\\n\\n[Verse 1: Kendric...  4592003.0   \n",
       "2  \\n\\n[Intro: Bēkon & Kid Capri]\\nAmerica, God b...  4651514.0   \n",
       "3  \\n\\n[Chorus: 2 Chainz, Drake & Both (A$AP Rock...  7378309.0   \n",
       "4  \\n\\n[Verse 1]\\nI got, I got, I got, I got—\\nLo...  5113687.0   \n",
       "\n",
       "                                      cleaned_lyrics  log_scaled_views  \\\n",
       "0   pour up drank head shot drank sit down drank ...         15.536361   \n",
       "1   uh me and my niggas tryna get it ya bish ya b...         15.339827   \n",
       "2   america god bless you if its good to you amer...         15.352703   \n",
       "3   i love bad bitches thats my fuckin problem an...         15.814055   \n",
       "4   i got i got i got i got loyalty got royalty i...         15.447431   \n",
       "\n",
       "   popular  popularity_rating  \n",
       "0        1                  2  \n",
       "1        1                  2  \n",
       "2        1                  2  \n",
       "3        1                  2  \n",
       "4        1                  2  "
      ]
     },
     "metadata": {},
     "output_type": "display_data"
    },
    {
     "data": {
      "text/plain": [
       "(37905, 8)"
      ]
     },
     "execution_count": 5,
     "metadata": {},
     "output_type": "execute_result"
    }
   ],
   "source": [
    "display(df.head())\n",
    "df.shape"
   ]
  },
  {
   "cell_type": "code",
   "execution_count": 8,
   "metadata": {},
   "outputs": [],
   "source": [
    "from sklearn.feature_extraction import text \n",
    "\n",
    "stop_words = list(text.ENGLISH_STOP_WORDS.union(['im']))"
   ]
  },
  {
   "attachments": {},
   "cell_type": "markdown",
   "metadata": {},
   "source": [
    "# Transforming Lyrics for Regression"
   ]
  },
  {
   "cell_type": "code",
   "execution_count": 6,
   "metadata": {},
   "outputs": [
    {
     "data": {
      "text/plain": [
       "(37905,)"
      ]
     },
     "execution_count": 6,
     "metadata": {},
     "output_type": "execute_result"
    }
   ],
   "source": [
    "\n",
    "y_regression = df.log_scaled_views\n",
    "\n",
    "y_regression.shape"
   ]
  },
  {
   "cell_type": "code",
   "execution_count": 8,
   "metadata": {},
   "outputs": [
    {
     "name": "stdout",
     "output_type": "stream",
     "text": [
      "Train shape: (30324, 2223)             \n",
      "Test shape: (7581, 2223)\n",
      "Vectorizer dumped at /home/jng/projects/brainstation_capstone/vectorizer_data/bag_of_words_regression/bag_of_words_regression.pkl\n",
      "Transformed train test split dumped at /home/jng/projects/brainstation_capstone/vectorizer_data/bag_of_words_regression/data.pkl as a dictionary.\n",
      "Train shape: (30324, 2230)             \n",
      "Test shape: (7581, 2230)\n",
      "Vectorizer dumped at /home/jng/projects/brainstation_capstone/vectorizer_data/tf_idf_regression/tf_idf_regression.pkl\n",
      "Transformed train test split dumped at /home/jng/projects/brainstation_capstone/vectorizer_data/tf_idf_regression/data.pkl as a dictionary.\n",
      "Train shape: (30324, 408)             \n",
      "Test shape: (7581, 408)\n",
      "Vectorizer dumped at /home/jng/projects/brainstation_capstone/vectorizer_data/2_grams_regression/2_grams_regression.pkl\n",
      "Transformed train test split dumped at /home/jng/projects/brainstation_capstone/vectorizer_data/2_grams_regression/data.pkl as a dictionary.\n",
      "Train shape: (30324, 719)             \n",
      "Test shape: (7581, 719)\n",
      "Vectorizer dumped at /home/jng/projects/brainstation_capstone/vectorizer_data/3_grams_regression/3_grams_regression.pkl\n",
      "Transformed train test split dumped at /home/jng/projects/brainstation_capstone/vectorizer_data/3_grams_regression/data.pkl as a dictionary.\n"
     ]
    }
   ],
   "source": [
    "for vectorizer_name in [\n",
    "    'bag_of_words_regression', 'tf_idf_regression', '2_grams_regression', '3_grams_regression'\n",
    "    ]:\n",
    "    X = df.cleaned_lyrics\n",
    "    \n",
    "    if vectorizer_name == 'bag_of_words_regression':\n",
    "        vectorizer = CountVectorizer(max_df=0.9, min_df=0.01, stop_words=stop_words)\n",
    "    elif vectorizer_name == 'tf_idf_regression':\n",
    "        vectorizer = TfidfVectorizer(max_df=0.9, min_df=0.01, stop_words=stop_words)\n",
    "    elif vectorizer_name == '2_grams_regression':\n",
    "        vectorizer = CountVectorizer(max_df=0.9, min_df=0.01, stop_words=stop_words, ngram_range=(2,2))\n",
    "    elif vectorizer_name == '3_grams_regression':\n",
    "        vectorizer = CountVectorizer(max_df=0.9, min_df=0.001, stop_words=stop_words, ngram_range=(3,3))\n",
    "    \n",
    "    VectorizerPipeline(\n",
    "        vectorizer_name, vectorizer, X, y_regression\n",
    "    ).run_vectorizer_pipeline()"
   ]
  },
  {
   "attachments": {},
   "cell_type": "markdown",
   "metadata": {},
   "source": [
    "# Transforming Lyrics for Classification"
   ]
  },
  {
   "cell_type": "code",
   "execution_count": 6,
   "metadata": {},
   "outputs": [
    {
     "data": {
      "text/plain": [
       "((37905,), (37905,))"
      ]
     },
     "execution_count": 6,
     "metadata": {},
     "output_type": "execute_result"
    }
   ],
   "source": [
    "y_popular = df.popular\n",
    "y_popularity = df.popularity_rating\n",
    "\n",
    "y_popular.shape, y_popularity.shape"
   ]
  },
  {
   "cell_type": "code",
   "execution_count": 10,
   "metadata": {},
   "outputs": [
    {
     "name": "stdout",
     "output_type": "stream",
     "text": [
      "Train shape: (30324, 2211)             \n",
      "Test shape: (7581, 2211)\n",
      "Vectorizer dumped at /home/jng/projects/brainstation_capstone/vectorizer_data/bag_of_words_two_class/bag_of_words_two_class.pkl\n",
      "Transformed train test split dumped at /home/jng/projects/brainstation_capstone/vectorizer_data/bag_of_words_two_class/data.pkl as a dictionary.\n",
      "Train shape: (30324, 2212)             \n",
      "Test shape: (7581, 2212)\n",
      "Vectorizer dumped at /home/jng/projects/brainstation_capstone/vectorizer_data/tf_idf_two_class/tf_idf_two_class.pkl\n",
      "Transformed train test split dumped at /home/jng/projects/brainstation_capstone/vectorizer_data/tf_idf_two_class/data.pkl as a dictionary.\n",
      "Train shape: (30324, 2211)             \n",
      "Test shape: (7581, 2211)\n",
      "Vectorizer dumped at /home/jng/projects/brainstation_capstone/vectorizer_data/2_grams_two_class/2_grams_two_class.pkl\n",
      "Transformed train test split dumped at /home/jng/projects/brainstation_capstone/vectorizer_data/2_grams_two_class/data.pkl as a dictionary.\n",
      "Train shape: (30324, 2219)             \n",
      "Test shape: (7581, 2219)\n",
      "Vectorizer dumped at /home/jng/projects/brainstation_capstone/vectorizer_data/3_grams_two_class/3_grams_two_class.pkl\n",
      "Transformed train test split dumped at /home/jng/projects/brainstation_capstone/vectorizer_data/3_grams_two_class/data.pkl as a dictionary.\n"
     ]
    }
   ],
   "source": [
    "for vectorizer_name in [\n",
    "    'bag_of_words_two_class', 'tf_idf_two_class', '2_grams_two_class', '3_grams_two_class'\n",
    "    ]:\n",
    "    X = df.cleaned_lyrics\n",
    "    \n",
    "    if vectorizer_name == 'bag_of_words_two_class':\n",
    "        vectorizer = CountVectorizer(max_df=0.9, min_df=0.01, stop_words=stop_words)\n",
    "    elif vectorizer_name == 'tf_idf_two_class':\n",
    "        vectorizer = TfidfVectorizer(max_df=0.9, min_df=0.01, stop_words=stop_words)\n",
    "    elif vectorizer_name == '2_grams_two_class':\n",
    "        vectorizer = CountVectorizer(max_df=0.9, min_df=0.01, stop_words=stop_words, ngram_range=(2,2))\n",
    "    elif vectorizer_name == '3_grams_two_class':\n",
    "        vectorizer = CountVectorizer(max_df=0.9, min_df=0.001, stop_words=stop_words, ngram_range=(3,3))\n",
    "    \n",
    "    VectorizerPipeline(\n",
    "        vectorizer_name, vectorizer, X, y_popular\n",
    "    ).run_vectorizer_pipeline()"
   ]
  },
  {
   "cell_type": "code",
   "execution_count": 11,
   "metadata": {},
   "outputs": [
    {
     "name": "stdout",
     "output_type": "stream",
     "text": [
      "Train shape: (30324, 2216)             \n",
      "Test shape: (7581, 2216)\n",
      "Vectorizer dumped at /home/jng/projects/brainstation_capstone/vectorizer_data/bag_of_words_three_class/bag_of_words_three_class.pkl\n",
      "Transformed train test split dumped at /home/jng/projects/brainstation_capstone/vectorizer_data/bag_of_words_three_class/data.pkl as a dictionary.\n",
      "Train shape: (30324, 2219)             \n",
      "Test shape: (7581, 2219)\n",
      "Vectorizer dumped at /home/jng/projects/brainstation_capstone/vectorizer_data/tf_idf_three_class/tf_idf_three_class.pkl\n",
      "Transformed train test split dumped at /home/jng/projects/brainstation_capstone/vectorizer_data/tf_idf_three_class/data.pkl as a dictionary.\n",
      "Train shape: (30324, 2225)             \n",
      "Test shape: (7581, 2225)\n",
      "Vectorizer dumped at /home/jng/projects/brainstation_capstone/vectorizer_data/2_grams_three_class/2_grams_three_class.pkl\n",
      "Transformed train test split dumped at /home/jng/projects/brainstation_capstone/vectorizer_data/2_grams_three_class/data.pkl as a dictionary.\n",
      "Train shape: (30324, 2216)             \n",
      "Test shape: (7581, 2216)\n",
      "Vectorizer dumped at /home/jng/projects/brainstation_capstone/vectorizer_data/3_grams_three_class/3_grams_three_class.pkl\n",
      "Transformed train test split dumped at /home/jng/projects/brainstation_capstone/vectorizer_data/3_grams_three_class/data.pkl as a dictionary.\n"
     ]
    }
   ],
   "source": [
    "for vectorizer_name in [\n",
    "    'bag_of_words_three_class', 'tf_idf_three_class', '2_grams_three_class', '3_grams_three_class'\n",
    "    ]:\n",
    "    X = df.cleaned_lyrics\n",
    "    \n",
    "    if vectorizer_name == 'bag_of_words_three_class':\n",
    "        vectorizer = CountVectorizer(max_df=0.9, min_df=0.01, stop_words=stop_words)\n",
    "    elif vectorizer_name == 'tf_idf_three_class':\n",
    "        vectorizer = TfidfVectorizer(max_df=0.9, min_df=0.01, stop_words=stop_words)\n",
    "    elif vectorizer_name == '2_grams_three_class':\n",
    "        vectorizer = CountVectorizer(max_df=0.9, min_df=0.01, stop_words=stop_words, ngram_range=(2,2))\n",
    "    elif vectorizer_name == '3_grams_three_class':\n",
    "        vectorizer = CountVectorizer(max_df=0.9, min_df=0.001, stop_words=stop_words, ngram_range=(3,3))\n",
    "    \n",
    "    VectorizerPipeline(\n",
    "        vectorizer_name, vectorizer, X, y_popularity\n",
    "    ).run_vectorizer_pipeline()"
   ]
  },
  {
   "cell_type": "code",
   "execution_count": null,
   "metadata": {},
   "outputs": [],
   "source": []
  }
 ],
 "metadata": {
  "kernelspec": {
   "display_name": "base",
   "language": "python",
   "name": "python3"
  },
  "language_info": {
   "codemirror_mode": {
    "name": "ipython",
    "version": 3
   },
   "file_extension": ".py",
   "mimetype": "text/x-python",
   "name": "python",
   "nbconvert_exporter": "python",
   "pygments_lexer": "ipython3",
   "version": "3.9.13"
  },
  "orig_nbformat": 4,
  "vscode": {
   "interpreter": {
    "hash": "b7b969017e21ea3fceb440bc3568f42d726fda0cedf260d07c9604e5a4a75144"
   }
  }
 },
 "nbformat": 4,
 "nbformat_minor": 2
}
