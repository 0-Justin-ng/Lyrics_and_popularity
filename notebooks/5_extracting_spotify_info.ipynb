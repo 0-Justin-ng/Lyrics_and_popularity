{
 "cells": [
  {
   "cell_type": "code",
   "execution_count": 42,
   "metadata": {},
   "outputs": [],
   "source": [
    "import os\n",
    "import sys\n",
    "import joblib\n",
    "\n",
    "import spotipy\n",
    "from spotipy.oauth2 import SpotifyClientCredentials\n",
    "import pandas as pd \n",
    "import numpy as np \n",
    "\n",
    "module_path = os.path.abspath(os.path.join('..'))\n",
    "if module_path not in sys.path:\n",
    "    sys.path.append(module_path)\n",
    "\n",
    "from utilities import utils\n",
    "DATA_PATH = utils.get_datapath('data')\n",
    "SPOTIFY_DATA = utils.get_datapath('spotify_scrape')\n"
   ]
  },
  {
   "cell_type": "markdown",
   "metadata": {},
   "source": [
    "**Table of contents**<a id='toc0_'></a>    \n",
    "- [**5. Extracting Data From Spotify**](#toc1_)    \n",
    "- [Querying the API for Popularity](#toc2_)    \n",
    "- [Distribution of Spotify Popularity](#toc3_)    \n",
    "- [Extracting Genre](#toc4_)    \n",
    "- [Dealing With Genres](#toc5_)    \n",
    "  - [Mapping Tracks to Genre](#toc5_1_)    \n",
    "- [Combining the Scraped Data, Ada Embeddings and Original Dataset](#toc6_)    \n",
    "  - [Dealing With Duplicated Titles](#toc6_1_)    \n",
    "- [Splitting the Popularity Into Multi-Class](#toc7_)    \n",
    "- [Conclusion](#toc8_)    \n",
    "\n",
    "<!-- vscode-jupyter-toc-config\n",
    "\tnumbering=false\n",
    "\tanchor=true\n",
    "\tflat=false\n",
    "\tminLevel=1\n",
    "\tmaxLevel=6\n",
    "\t/vscode-jupyter-toc-config -->\n",
    "<!-- THIS CELL WILL BE REPLACED ON TOC UPDATE. DO NOT WRITE YOUR TEXT IN THIS CELL -->"
   ]
  },
  {
   "cell_type": "markdown",
   "metadata": {},
   "source": [
    "# <a id='toc1_'></a>[**5. Extracting Data From Spotify**](#toc0_)\n",
    "\n",
    "The preliminary modeling demonstrated that we could not go beyond approximately 10% accuracy increase over the baseline when using the Genius.com page views. We decided to look at another proxy of popularity. Specifically, we wanted to scrape the Spotify popularity for each track, as well as the genre. \n",
    "\n",
    "The Spotify popularity is a number that ranges from 0 (unpopular) to 100 (popular). This value is influenced by many factors, but the major factors are the total plays and how recently the song has been played. We believed that this may be a better proxy for evaluating a songs popularity. The genre information could also provide further data to evaluate the relationships between lyrics and popularity. Namely, we wanted to see if lyrics could predict popularity better depending on the genre. "
   ]
  },
  {
   "attachments": {},
   "cell_type": "markdown",
   "metadata": {},
   "source": [
    "The first step to extract the data from Spotify was to initialize our connection with the API. "
   ]
  },
  {
   "cell_type": "code",
   "execution_count": 40,
   "metadata": {},
   "outputs": [],
   "source": [
    "# Stores the API keys used to access info from spotify. \n",
    "# Save your keys in API-key.txt with client_id and client_secret on their own lines.\n",
    "with open(DATA_PATH/ 'spotify-API-key-2.txt') as f:\n",
    "    API_keys = {\n",
    "        key_type: key_value.replace('\\n', '')\n",
    "        for key_type, key_value in zip(['client_id', 'client_secret'], f.readlines())\n",
    "    }\n",
    "    \n",
    "       "
   ]
  },
  {
   "cell_type": "code",
   "execution_count": 41,
   "metadata": {},
   "outputs": [],
   "source": [
    "sp = spotipy.Spotify(auth_manager=SpotifyClientCredentials(client_id=API_keys['client_id'],\n",
    "                                                           client_secret=API_keys['client_secret']))"
   ]
  },
  {
   "cell_type": "markdown",
   "metadata": {},
   "source": [
    "# <a id='toc2_'></a>[Querying the API for Popularity](#toc0_)\n",
    "\n",
    "Now that we have initialized the connection we can query each track by its track name and get its popularity. "
   ]
  },
  {
   "cell_type": "code",
   "execution_count": 42,
   "metadata": {},
   "outputs": [],
   "source": [
    "def get_spotify_popularity(track_name):\n",
    "    '''\n",
    "        This function extracts the spotify popularity for each track in the dataset. \n",
    "        This index is affected by:\n",
    "            - Total Streams of a Song\n",
    "            - How recently a song has been played.\n",
    "            - The frequency that a track has been played.\n",
    "        The index ranges from a score of 0 (not relevant at all) to 100 (Most popular tracks).\n",
    "    '''\n",
    "    # This returns a dictionary for a search request through the spotify API\n",
    "    track = sp.search(q=track_name, type='track', limit=1)\n",
    "    # Access Spotify's popularity.\n",
    "    popularity = track['tracks']['items'][0]['popularity']\n",
    "    \n",
    "    return popularity"
   ]
  },
  {
   "cell_type": "code",
   "execution_count": 69,
   "metadata": {},
   "outputs": [],
   "source": [
    "df = pd.read_csv(DATA_PATH / 'clean_lyrics_english.csv')"
   ]
  },
  {
   "cell_type": "code",
   "execution_count": 71,
   "metadata": {},
   "outputs": [
    {
     "data": {
      "text/html": [
       "<div>\n",
       "<style scoped>\n",
       "    .dataframe tbody tr th:only-of-type {\n",
       "        vertical-align: middle;\n",
       "    }\n",
       "\n",
       "    .dataframe tbody tr th {\n",
       "        vertical-align: top;\n",
       "    }\n",
       "\n",
       "    .dataframe thead th {\n",
       "        text-align: right;\n",
       "    }\n",
       "</style>\n",
       "<table border=\"1\" class=\"dataframe\">\n",
       "  <thead>\n",
       "    <tr style=\"text-align: right;\">\n",
       "      <th></th>\n",
       "      <th>Unnamed: 0</th>\n",
       "      <th>song</th>\n",
       "      <th>lyrics</th>\n",
       "      <th>title</th>\n",
       "      <th>primary_artist</th>\n",
       "      <th>views</th>\n",
       "      <th>cleaned_lyrics</th>\n",
       "      <th>language</th>\n",
       "      <th>log_scaled_views</th>\n",
       "      <th>popular</th>\n",
       "      <th>popularity</th>\n",
       "      <th>popularity_std</th>\n",
       "    </tr>\n",
       "  </thead>\n",
       "  <tbody>\n",
       "    <tr>\n",
       "      <th>0</th>\n",
       "      <td>0</td>\n",
       "      <td>Kendrick-lamar-swimming-pools-drank-lyrics</td>\n",
       "      <td>\\n\\n[Produced by T-Minus]\\n\\n[Intro]\\nPour up ...</td>\n",
       "      <td>Swimming Pools (Drank)</td>\n",
       "      <td>Kendrick-lamar</td>\n",
       "      <td>5589280.0</td>\n",
       "      <td>pour up drank head shot drank sit down drank ...</td>\n",
       "      <td>en</td>\n",
       "      <td>15.536361</td>\n",
       "      <td>1</td>\n",
       "      <td>2</td>\n",
       "      <td>2</td>\n",
       "    </tr>\n",
       "    <tr>\n",
       "      <th>1</th>\n",
       "      <td>1</td>\n",
       "      <td>Kendrick-lamar-money-trees-lyrics</td>\n",
       "      <td>\\n\\n[Produced by DJ Dahi]\\n\\n[Verse 1: Kendric...</td>\n",
       "      <td>Money Trees</td>\n",
       "      <td>Kendrick-lamar</td>\n",
       "      <td>4592003.0</td>\n",
       "      <td>uh me and my niggas tryna get it ya bish ya b...</td>\n",
       "      <td>en</td>\n",
       "      <td>15.339827</td>\n",
       "      <td>1</td>\n",
       "      <td>2</td>\n",
       "      <td>2</td>\n",
       "    </tr>\n",
       "    <tr>\n",
       "      <th>2</th>\n",
       "      <td>2</td>\n",
       "      <td>Kendrick-lamar-xxx-lyrics</td>\n",
       "      <td>\\n\\n[Intro: Bēkon &amp; Kid Capri]\\nAmerica, God b...</td>\n",
       "      <td>XXX.</td>\n",
       "      <td>Kendrick-lamar</td>\n",
       "      <td>4651514.0</td>\n",
       "      <td>america god bless you if its good to you amer...</td>\n",
       "      <td>en</td>\n",
       "      <td>15.352703</td>\n",
       "      <td>1</td>\n",
       "      <td>2</td>\n",
       "      <td>2</td>\n",
       "    </tr>\n",
       "    <tr>\n",
       "      <th>3</th>\n",
       "      <td>3</td>\n",
       "      <td>A-ap-rocky-fuckin-problems-lyrics</td>\n",
       "      <td>\\n\\n[Chorus: 2 Chainz, Drake &amp; Both (A$AP Rock...</td>\n",
       "      <td>Fuckin’ Problems</td>\n",
       "      <td>A-ap-rocky</td>\n",
       "      <td>7378309.0</td>\n",
       "      <td>i love bad bitches thats my fuckin problem an...</td>\n",
       "      <td>en</td>\n",
       "      <td>15.814055</td>\n",
       "      <td>1</td>\n",
       "      <td>2</td>\n",
       "      <td>2</td>\n",
       "    </tr>\n",
       "    <tr>\n",
       "      <th>4</th>\n",
       "      <td>4</td>\n",
       "      <td>Kendrick-lamar-dna-lyrics</td>\n",
       "      <td>\\n\\n[Verse 1]\\nI got, I got, I got, I got—\\nLo...</td>\n",
       "      <td>DNA.</td>\n",
       "      <td>Kendrick-lamar</td>\n",
       "      <td>5113687.0</td>\n",
       "      <td>i got i got i got i got loyalty got royalty i...</td>\n",
       "      <td>en</td>\n",
       "      <td>15.447431</td>\n",
       "      <td>1</td>\n",
       "      <td>2</td>\n",
       "      <td>2</td>\n",
       "    </tr>\n",
       "  </tbody>\n",
       "</table>\n",
       "</div>"
      ],
      "text/plain": [
       "   Unnamed: 0                                        song  \\\n",
       "0           0  Kendrick-lamar-swimming-pools-drank-lyrics   \n",
       "1           1           Kendrick-lamar-money-trees-lyrics   \n",
       "2           2                   Kendrick-lamar-xxx-lyrics   \n",
       "3           3           A-ap-rocky-fuckin-problems-lyrics   \n",
       "4           4                   Kendrick-lamar-dna-lyrics   \n",
       "\n",
       "                                              lyrics                   title  \\\n",
       "0  \\n\\n[Produced by T-Minus]\\n\\n[Intro]\\nPour up ...  Swimming Pools (Drank)   \n",
       "1  \\n\\n[Produced by DJ Dahi]\\n\\n[Verse 1: Kendric...             Money Trees   \n",
       "2  \\n\\n[Intro: Bēkon & Kid Capri]\\nAmerica, God b...                    XXX.   \n",
       "3  \\n\\n[Chorus: 2 Chainz, Drake & Both (A$AP Rock...        Fuckin’ Problems   \n",
       "4  \\n\\n[Verse 1]\\nI got, I got, I got, I got—\\nLo...                    DNA.   \n",
       "\n",
       "   primary_artist      views  \\\n",
       "0  Kendrick-lamar  5589280.0   \n",
       "1  Kendrick-lamar  4592003.0   \n",
       "2  Kendrick-lamar  4651514.0   \n",
       "3      A-ap-rocky  7378309.0   \n",
       "4  Kendrick-lamar  5113687.0   \n",
       "\n",
       "                                      cleaned_lyrics language  \\\n",
       "0   pour up drank head shot drank sit down drank ...       en   \n",
       "1   uh me and my niggas tryna get it ya bish ya b...       en   \n",
       "2   america god bless you if its good to you amer...       en   \n",
       "3   i love bad bitches thats my fuckin problem an...       en   \n",
       "4   i got i got i got i got loyalty got royalty i...       en   \n",
       "\n",
       "   log_scaled_views  popular  popularity  popularity_std  \n",
       "0         15.536361        1           2               2  \n",
       "1         15.339827        1           2               2  \n",
       "2         15.352703        1           2               2  \n",
       "3         15.814055        1           2               2  \n",
       "4         15.447431        1           2               2  "
      ]
     },
     "execution_count": 71,
     "metadata": {},
     "output_type": "execute_result"
    }
   ],
   "source": [
    "df.head()"
   ]
  },
  {
   "cell_type": "code",
   "execution_count": 45,
   "metadata": {},
   "outputs": [],
   "source": [
    "from tqdm import tqdm\n",
    "import time\n",
    "spotify_popularity = []"
   ]
  },
  {
   "attachments": {},
   "cell_type": "markdown",
   "metadata": {},
   "source": [
    "Here the API stopped taking requests at multiple intervals, so we had to restart the loop at the song where the API requests were limited. \n",
    "\n",
    "We found that adding a 200 ms pause between requests provided enough slowdown to stay below the Spotify API rate limit. "
   ]
  },
  {
   "cell_type": "code",
   "execution_count": 46,
   "metadata": {},
   "outputs": [
    {
     "name": "stderr",
     "output_type": "stream",
     "text": [
      "  9%|▉         | 1968/21408 [11:02<1:52:16,  2.89it/s]"
     ]
    },
    {
     "name": "stdout",
     "output_type": "stream",
     "text": [
      "list index out of range\n"
     ]
    },
    {
     "name": "stderr",
     "output_type": "stream",
     "text": [
      " 11%|█▏        | 2456/21408 [13:47<1:49:59,  2.87it/s]"
     ]
    },
    {
     "name": "stdout",
     "output_type": "stream",
     "text": [
      "list index out of range\n"
     ]
    },
    {
     "name": "stderr",
     "output_type": "stream",
     "text": [
      " 12%|█▏        | 2575/21408 [14:26<1:58:36,  2.65it/s]"
     ]
    },
    {
     "name": "stdout",
     "output_type": "stream",
     "text": [
      "list index out of range\n"
     ]
    },
    {
     "name": "stderr",
     "output_type": "stream",
     "text": [
      " 18%|█▊        | 3833/21408 [21:24<1:41:24,  2.89it/s]"
     ]
    },
    {
     "name": "stdout",
     "output_type": "stream",
     "text": [
      "list index out of range\n"
     ]
    },
    {
     "name": "stderr",
     "output_type": "stream",
     "text": [
      " 20%|█▉        | 4278/21408 [23:54<1:28:36,  3.22it/s]"
     ]
    },
    {
     "name": "stdout",
     "output_type": "stream",
     "text": [
      "list index out of range\n"
     ]
    },
    {
     "name": "stderr",
     "output_type": "stream",
     "text": [
      " 36%|███▌      | 7626/21408 [42:41<1:18:40,  2.92it/s]"
     ]
    },
    {
     "name": "stdout",
     "output_type": "stream",
     "text": [
      "list index out of range\n"
     ]
    },
    {
     "name": "stderr",
     "output_type": "stream",
     "text": [
      " 39%|███▉      | 8345/21408 [46:41<1:18:15,  2.78it/s]"
     ]
    },
    {
     "name": "stdout",
     "output_type": "stream",
     "text": [
      "list index out of range\n"
     ]
    },
    {
     "name": "stderr",
     "output_type": "stream",
     "text": [
      " 45%|████▍     | 9611/21408 [53:55<1:17:39,  2.53it/s]"
     ]
    },
    {
     "name": "stdout",
     "output_type": "stream",
     "text": [
      "list index out of range\n"
     ]
    },
    {
     "name": "stderr",
     "output_type": "stream",
     "text": [
      " 45%|████▍     | 9613/21408 [53:56<1:19:27,  2.47it/s]"
     ]
    },
    {
     "name": "stdout",
     "output_type": "stream",
     "text": [
      "list index out of range\n"
     ]
    },
    {
     "name": "stderr",
     "output_type": "stream",
     "text": [
      " 48%|████▊     | 10351/21408 [58:00<1:02:12,  2.96it/s]"
     ]
    },
    {
     "name": "stdout",
     "output_type": "stream",
     "text": [
      "list index out of range\n"
     ]
    },
    {
     "name": "stderr",
     "output_type": "stream",
     "text": [
      " 48%|████▊     | 10362/21408 [58:03<55:50,  3.30it/s]  "
     ]
    },
    {
     "name": "stdout",
     "output_type": "stream",
     "text": [
      "('Connection aborted.', ConnectionResetError(104, 'Connection reset by peer'))\n"
     ]
    },
    {
     "name": "stderr",
     "output_type": "stream",
     "text": [
      " 55%|█████▌    | 11859/21408 [1:06:25<56:29,  2.82it/s]  "
     ]
    },
    {
     "name": "stdout",
     "output_type": "stream",
     "text": [
      "list index out of range\n"
     ]
    },
    {
     "name": "stderr",
     "output_type": "stream",
     "text": [
      " 61%|██████    | 13060/21408 [1:13:04<49:17,  2.82it/s]  "
     ]
    },
    {
     "name": "stdout",
     "output_type": "stream",
     "text": [
      "list index out of range\n"
     ]
    },
    {
     "name": "stderr",
     "output_type": "stream",
     "text": [
      " 73%|███████▎  | 15562/21408 [1:26:52<31:29,  3.09it/s]  "
     ]
    },
    {
     "name": "stdout",
     "output_type": "stream",
     "text": [
      "list index out of range\n"
     ]
    },
    {
     "name": "stderr",
     "output_type": "stream",
     "text": [
      " 93%|█████████▎| 19919/21408 [1:50:52<07:37,  3.25it/s]"
     ]
    },
    {
     "name": "stdout",
     "output_type": "stream",
     "text": [
      "'NoneType' object is not subscriptable\n"
     ]
    },
    {
     "name": "stderr",
     "output_type": "stream",
     "text": [
      " 97%|█████████▋| 20671/21408 [1:55:05<04:44,  2.59it/s]"
     ]
    },
    {
     "name": "stdout",
     "output_type": "stream",
     "text": [
      "list index out of range\n"
     ]
    },
    {
     "name": "stderr",
     "output_type": "stream",
     "text": [
      " 98%|█████████▊| 21035/21408 [1:57:04<01:57,  3.16it/s]"
     ]
    },
    {
     "name": "stdout",
     "output_type": "stream",
     "text": [
      "('Connection aborted.', ConnectionResetError(104, 'Connection reset by peer'))\n"
     ]
    },
    {
     "name": "stderr",
     "output_type": "stream",
     "text": [
      " 99%|█████████▉| 21283/21408 [1:58:25<00:50,  2.48it/s]"
     ]
    },
    {
     "name": "stdout",
     "output_type": "stream",
     "text": [
      "list index out of range\n"
     ]
    },
    {
     "name": "stderr",
     "output_type": "stream",
     "text": [
      "100%|█████████▉| 21377/21408 [1:58:56<00:10,  3.05it/s]"
     ]
    },
    {
     "name": "stdout",
     "output_type": "stream",
     "text": [
      "list index out of range\n"
     ]
    },
    {
     "name": "stderr",
     "output_type": "stream",
     "text": [
      "100%|██████████| 21408/21408 [1:59:07<00:00,  3.00it/s]\n"
     ]
    }
   ],
   "source": [
    "\n",
    "for track in tqdm(df['title'][14530:]):\n",
    "    # This is to stay under the API request rate limit. \n",
    "    for i in range(50):\n",
    "        try:\n",
    "            time.sleep(0.200)\n",
    "            spotify_popularity.append(get_spotify_popularity(track))\n",
    "            break\n",
    "        except IndexError as i:\n",
    "            print(i)\n",
    "            spotify_popularity.append(np.nan)\n",
    "            break\n",
    "        except Exception as e:\n",
    "            print(e)\n",
    "            continue\n",
    "        \n",
    "    \n"
   ]
  },
  {
   "cell_type": "code",
   "execution_count": 47,
   "metadata": {},
   "outputs": [
    {
     "data": {
      "text/plain": [
       "21408"
      ]
     },
     "execution_count": 47,
     "metadata": {},
     "output_type": "execute_result"
    }
   ],
   "source": [
    "len(spotify_popularity)"
   ]
  },
  {
   "attachments": {},
   "cell_type": "markdown",
   "metadata": {},
   "source": [
    "The spotify popularity scrape had to be broken up into two parts as the rate limit in the API created an error that interrupted the scrape. So the scrape was dump once before rerunning the scrape above. If there were no errors in you do not need to run the following cells."
   ]
  },
  {
   "cell_type": "code",
   "execution_count": null,
   "metadata": {},
   "outputs": [],
   "source": [
    "\n",
    "with open(SPOTIFY_DATA/ 'spotify_popularity_2.pkl', 'wb') as file:\n",
    "    joblib.dump(spotify_popularity, file)\n",
    "    "
   ]
  },
  {
   "cell_type": "code",
   "execution_count": 43,
   "metadata": {},
   "outputs": [],
   "source": [
    "with open(SPOTIFY_DATA/ 'spotify_popularity.pkl', 'rb') as file:\n",
    "    spotify_popularity_first_batch = joblib.load(file)"
   ]
  },
  {
   "cell_type": "code",
   "execution_count": 45,
   "metadata": {},
   "outputs": [],
   "source": [
    "with open(SPOTIFY_DATA/ 'spotify_popularity_2.pkl', 'rb') as file:\n",
    "    spotify_popularity_second_batch = joblib.load(file)"
   ]
  },
  {
   "cell_type": "code",
   "execution_count": 47,
   "metadata": {},
   "outputs": [],
   "source": [
    "total_spotify_popularity = spotify_popularity_first_batch + spotify_popularity_second_batch"
   ]
  },
  {
   "cell_type": "code",
   "execution_count": 48,
   "metadata": {},
   "outputs": [
    {
     "data": {
      "text/plain": [
       "35938"
      ]
     },
     "execution_count": 48,
     "metadata": {},
     "output_type": "execute_result"
    }
   ],
   "source": [
    "len(total_spotify_popularity)"
   ]
  },
  {
   "cell_type": "code",
   "execution_count": 72,
   "metadata": {},
   "outputs": [],
   "source": [
    "df['spotify_popularity'] = total_spotify_popularity"
   ]
  },
  {
   "cell_type": "code",
   "execution_count": 73,
   "metadata": {},
   "outputs": [],
   "source": [
    "spotify_df = df.dropna(axis = 0).reset_index(drop=True)"
   ]
  },
  {
   "cell_type": "code",
   "execution_count": 74,
   "metadata": {},
   "outputs": [
    {
     "data": {
      "text/plain": [
       "(35908,)"
      ]
     },
     "execution_count": 74,
     "metadata": {},
     "output_type": "execute_result"
    }
   ],
   "source": [
    "spotify_df['spotify_popularity'].shape"
   ]
  },
  {
   "cell_type": "markdown",
   "metadata": {},
   "source": [
    "# <a id='toc3_'></a>[Distribution of Spotify Popularity](#toc0_)"
   ]
  },
  {
   "attachments": {},
   "cell_type": "markdown",
   "metadata": {},
   "source": [
    "After extracting all the Spotify popularity values we decided to look at the distributions of the Spotify popularity. As we can see from the plot below the Spotify popularity looks to be normally distributed, unlike the Genius.com views. "
   ]
  },
  {
   "cell_type": "code",
   "execution_count": 75,
   "metadata": {},
   "outputs": [
    {
     "data": {
      "text/plain": [
       "<AxesSubplot:ylabel='Frequency'>"
      ]
     },
     "execution_count": 75,
     "metadata": {},
     "output_type": "execute_result"
    },
    {
     "data": {
      "image/png": "[encoded data removed]",
      "text/plain": [
       "<Figure size 640x480 with 1 Axes>"
      ]
     },
     "metadata": {},
     "output_type": "display_data"
    }
   ],
   "source": [
    "spotify_df['spotify_popularity'].plot(kind='hist')"
   ]
  },
  {
   "cell_type": "code",
   "execution_count": null,
   "metadata": {},
   "outputs": [],
   "source": [
    "spotify_df.to_csv(DATA_PATH / 'clean_lyrics_spotify_popularity.csv', index=False)"
   ]
  },
  {
   "cell_type": "markdown",
   "metadata": {},
   "source": [
    "# <a id='toc4_'></a>[Extracting Genre](#toc0_)\n",
    "\n",
    "The Spotify API stores only genre for the artists and not the individual tracks themselves. The best we can do is to take the artists in the dataset and map the genres for each of the artists and use that as the genre for each track."
   ]
  },
  {
   "cell_type": "code",
   "execution_count": 93,
   "metadata": {},
   "outputs": [],
   "source": [
    "# Get unique artists in the dataset this limits the amount of API necessary.\n",
    "unique_artists = spotify_df['primary_artist'].unique()\n"
   ]
  },
  {
   "cell_type": "code",
   "execution_count": 95,
   "metadata": {},
   "outputs": [],
   "source": [
    "def get_artist_genre(artist_name):\n",
    "    artist = sp.search(q=artist_name, type='artist', limit=1)\n",
    "    genre = artist['artists']['items'][0]['genres']\n",
    "    return genre"
   ]
  },
  {
   "cell_type": "code",
   "execution_count": 100,
   "metadata": {},
   "outputs": [],
   "source": [
    "# Spotify only provides genre that an artist is related to not individual tracks\n",
    "# Will create a mapping of artist name to genres and use this to label the genre of every track.\n",
    "artist_genre_mapping = {}\n"
   ]
  },
  {
   "attachments": {},
   "cell_type": "markdown",
   "metadata": {},
   "source": [
    "This loop deals with the extraction of genres for each artist and stores it in a dictionary. The keys for this dictionary are the artists and the values are the genre lists, as Spotify returns multiple genres per artist. "
   ]
  },
  {
   "cell_type": "code",
   "execution_count": 101,
   "metadata": {},
   "outputs": [
    {
     "name": "stderr",
     "output_type": "stream",
     "text": [
      "  2%|▏         | 68/3136 [00:18<15:37,  3.27it/s]"
     ]
    },
    {
     "name": "stdout",
     "output_type": "stream",
     "text": [
      "list index out of range\n"
     ]
    },
    {
     "name": "stderr",
     "output_type": "stream",
     "text": [
      " 39%|███▉      | 1223/3136 [06:11<11:19,  2.82it/s]"
     ]
    },
    {
     "name": "stdout",
     "output_type": "stream",
     "text": [
      "list index out of range\n"
     ]
    },
    {
     "name": "stderr",
     "output_type": "stream",
     "text": [
      " 41%|████      | 1272/3136 [06:26<09:41,  3.21it/s]"
     ]
    },
    {
     "name": "stdout",
     "output_type": "stream",
     "text": [
      "list index out of range\n"
     ]
    },
    {
     "name": "stderr",
     "output_type": "stream",
     "text": [
      " 41%|████      | 1280/3136 [06:29<09:18,  3.32it/s]"
     ]
    },
    {
     "name": "stdout",
     "output_type": "stream",
     "text": [
      "list index out of range\n"
     ]
    },
    {
     "name": "stderr",
     "output_type": "stream",
     "text": [
      " 63%|██████▎   | 1987/3136 [10:06<05:39,  3.39it/s]"
     ]
    },
    {
     "name": "stdout",
     "output_type": "stream",
     "text": [
      "list index out of range\n"
     ]
    },
    {
     "name": "stderr",
     "output_type": "stream",
     "text": [
      " 69%|██████▉   | 2167/3136 [11:02<04:58,  3.24it/s]"
     ]
    },
    {
     "name": "stdout",
     "output_type": "stream",
     "text": [
      "('Connection aborted.', ConnectionResetError(104, 'Connection reset by peer'))\n"
     ]
    },
    {
     "name": "stderr",
     "output_type": "stream",
     "text": [
      " 83%|████████▎ | 2609/3136 [13:18<02:41,  3.26it/s]"
     ]
    },
    {
     "name": "stdout",
     "output_type": "stream",
     "text": [
      "list index out of range\n"
     ]
    },
    {
     "name": "stderr",
     "output_type": "stream",
     "text": [
      "100%|██████████| 3136/3136 [16:00<00:00,  3.26it/s]\n"
     ]
    }
   ],
   "source": [
    "\n",
    "for artist in tqdm(unique_artists):\n",
    "    for i in range(50):\n",
    "        try:\n",
    "            time.sleep(0.2)\n",
    "            if artist not in artist_genre_mapping:\n",
    "                artist_genre_mapping[artist] = get_artist_genre(artist)\n",
    "            break\n",
    "        except IndexError as i:\n",
    "            print(i)\n",
    "            artist_genre_mapping[artist] = [(np.nan)]\n",
    "            break\n",
    "        except Exception as e:\n",
    "            print(e)\n",
    "            continue\n",
    "\n"
   ]
  },
  {
   "cell_type": "code",
   "execution_count": 105,
   "metadata": {},
   "outputs": [
    {
     "name": "stdout",
     "output_type": "stream",
     "text": [
      "The-weeknd-and-kendrick-lamar\n",
      "Billie-eilish-and-justin-bieber\n",
      "Ed-sheeran-and-beyonce\n",
      "Ed-sheeran-chris-stapleton-and-bruno-mars\n",
      "Drake-kanye-west-lil-wayne-and-eminem\n",
      "Sex-love-and-vices\n"
     ]
    }
   ],
   "source": [
    "for artist in artist_genre_mapping:\n",
    "    if np.nan in artist_genre_mapping[artist]:\n",
    "        print(artist)"
   ]
  },
  {
   "attachments": {},
   "cell_type": "markdown",
   "metadata": {},
   "source": [
    "Some of these mappings had no genre from the API and since there were a minimial number we entered the genres by hand. "
   ]
  },
  {
   "cell_type": "code",
   "execution_count": 108,
   "metadata": {},
   "outputs": [],
   "source": [
    "artist_genre_mapping['The-weeknd-and-kendrick-lamar'] = ['hip hop']"
   ]
  },
  {
   "cell_type": "code",
   "execution_count": 111,
   "metadata": {},
   "outputs": [],
   "source": [
    "artist_genre_mapping['Billie-eilish-and-justin-bieber'] = ['pop']"
   ]
  },
  {
   "cell_type": "code",
   "execution_count": 112,
   "metadata": {},
   "outputs": [],
   "source": [
    "artist_genre_mapping['Ed-sheeran-and-beyonce'] = ['pop']"
   ]
  },
  {
   "cell_type": "code",
   "execution_count": 113,
   "metadata": {},
   "outputs": [],
   "source": [
    "artist_genre_mapping['Ed-sheeran-chris-stapleton-and-bruno-mars'] = ['rock']"
   ]
  },
  {
   "cell_type": "code",
   "execution_count": 114,
   "metadata": {},
   "outputs": [],
   "source": [
    "artist_genre_mapping['Drake-kanye-west-lil-wayne-and-eminem'] = ['rap']"
   ]
  },
  {
   "cell_type": "code",
   "execution_count": 116,
   "metadata": {},
   "outputs": [],
   "source": [
    "artist_genre_mapping['Sex-love-and-vices'] = ['hip hop']"
   ]
  },
  {
   "attachments": {},
   "cell_type": "markdown",
   "metadata": {},
   "source": [
    "After getting the artist to genre mapping we dumped this file for use later."
   ]
  },
  {
   "cell_type": "code",
   "execution_count": 117,
   "metadata": {},
   "outputs": [],
   "source": [
    "with open(DATA_PATH/ 'artist_genre_mapping.pkl', 'wb') as file:\n",
    "    joblib.dump(artist_genre_mapping, file)"
   ]
  },
  {
   "cell_type": "markdown",
   "metadata": {},
   "source": [
    "# <a id='toc5_'></a>[Dealing With Genres](#toc0_)"
   ]
  },
  {
   "attachments": {},
   "cell_type": "markdown",
   "metadata": {},
   "source": [
    "To deal with the multiple genres for each artist we decided to take the most common main archetype of genre and assign only one of those genres to the artist. There are many disadvantages to this method, but the main advantage is the speed. "
   ]
  },
  {
   "attachments": {},
   "cell_type": "markdown",
   "metadata": {},
   "source": [
    "To perform this reduction in genres, we need to first make a counter of every genre split into its component parts. \n",
    "\n",
    "For example `underground rap` would be split into `underground` and `rap`. We hoped that this would elucidate the most common main genres. "
   ]
  },
  {
   "cell_type": "code",
   "execution_count": 11,
   "metadata": {},
   "outputs": [],
   "source": [
    "from collections import Counter\n"
   ]
  },
  {
   "cell_type": "code",
   "execution_count": 12,
   "metadata": {},
   "outputs": [],
   "source": [
    "with open(SPOTIFY_DATA / 'artist_genre_mapping.pkl', 'rb') as file:\n",
    "    artist_genre_mapping = joblib.load(file)"
   ]
  },
  {
   "cell_type": "code",
   "execution_count": 13,
   "metadata": {},
   "outputs": [],
   "source": [
    "all_genres = []\n",
    "\n",
    "for detailed_genres in artist_genre_mapping.values():\n",
    "    all_genres = all_genres + detailed_genres\n",
    "    "
   ]
  },
  {
   "cell_type": "code",
   "execution_count": 14,
   "metadata": {},
   "outputs": [],
   "source": [
    "# Split each individual detailed genres into \n",
    "# separate wordsand see what are the most common overall genres are\n",
    "\n",
    "all_detailed_genres = []\n",
    "\n",
    "for genre in all_genres:\n",
    "    all_detailed_genres = all_detailed_genres + genre.split(' ')"
   ]
  },
  {
   "cell_type": "code",
   "execution_count": 15,
   "metadata": {},
   "outputs": [],
   "source": [
    "# Count the split genres. \n",
    "genre_counter = Counter(all_detailed_genres)"
   ]
  },
  {
   "cell_type": "code",
   "execution_count": 16,
   "metadata": {},
   "outputs": [
    {
     "data": {
      "text/plain": [
       "['hip hop', 'rap', 'pop', 'trap', 'dance', 'r&b', 'southern', 'rock']"
      ]
     },
     "execution_count": 16,
     "metadata": {},
     "output_type": "execute_result"
    }
   ],
   "source": [
    "#Get the top archetypes of genres. \n",
    "top_genres = [\n",
    "    'hip hop' if top_genre[0] in ['hip', 'hop'] else top_genre[0]\n",
    "    for top_genre in genre_counter.most_common()[:9]\n",
    "]\n",
    "\n",
    "# Remove the duplicate of hip hop.\n",
    "top_genres.pop(0)\n",
    "top_genres"
   ]
  },
  {
   "attachments": {},
   "cell_type": "markdown",
   "metadata": {},
   "source": [
    "We can see from the above that the most common main genres were `hip hop`, `rap`, `pop`, `trap`, `dance`, `r&b`, `southern` and `rock`. "
   ]
  },
  {
   "cell_type": "markdown",
   "metadata": {},
   "source": [
    "## <a id='toc5_1_'></a>[Mapping Tracks to Genre](#toc0_)"
   ]
  },
  {
   "attachments": {},
   "cell_type": "markdown",
   "metadata": {},
   "source": [
    "Now that we have the 8 most common main genres we mapped the main genre to the artist. If the artist has none of the main genres, we decided to just set the value to `other` for simplicity sake. "
   ]
  },
  {
   "cell_type": "code",
   "execution_count": 17,
   "metadata": {},
   "outputs": [],
   "source": [
    "# Generate a mapping with the artist and single genre. \n",
    "for artist in artist_genre_mapping:\n",
    "    artist_genre = artist_genre_mapping[artist]\n",
    "    \n",
    "    # If there is no genre from the spotify API. \n",
    "    if not artist_genre:\n",
    "        artist_genre_mapping[artist] = 'other'\n",
    "\n",
    "    for subgenre in artist_genre:\n",
    "        if ('hip hop' or 'rap') in subgenre:\n",
    "            artist_genre_mapping[artist] = 'hip hop'\n",
    "            break\n",
    "        elif 'pop' in subgenre:\n",
    "            artist_genre_mapping[artist] = 'pop'\n",
    "            break\n",
    "        elif 'trap' in subgenre:\n",
    "            artist_genre_mapping[artist] = 'trap'\n",
    "            break\n",
    "        elif 'dance' in subgenre:\n",
    "            artist_genre_mapping[artist] = 'dance'\n",
    "            break\n",
    "        elif 'r&b' in subgenre:\n",
    "            artist_genre_mapping[artist] = 'r&b'\n",
    "            break\n",
    "        elif 'southern' in subgenre:\n",
    "            artist_genre_mapping[artist] = 'southern'\n",
    "            break\n",
    "        elif 'rock' in subgenre:\n",
    "            artist_genre_mapping[artist] = 'rock'\n",
    "            break\n",
    "        else:\n",
    "            artist_genre_mapping[artist] = 'other'\n",
    "            break\n",
    "\n",
    "\n",
    "    "
   ]
  },
  {
   "attachments": {},
   "cell_type": "markdown",
   "metadata": {},
   "source": [
    "Now that we have a one to one mapping between the artist and one genre we can map the genres to each individual track."
   ]
  },
  {
   "cell_type": "code",
   "execution_count": 18,
   "metadata": {},
   "outputs": [],
   "source": [
    "# This function maps the genre to the track based on the artist.\n",
    "def map_genre(artist, artist_single_genre_mapping):\n",
    "    genre = artist_single_genre_mapping[artist]\n",
    "    return genre"
   ]
  },
  {
   "cell_type": "code",
   "execution_count": 21,
   "metadata": {},
   "outputs": [],
   "source": [
    "DATA_PATH = utils.get_datapath('data')\n",
    "df = pd.read_csv(DATA_PATH / 'clean_lyrics_and_spotify.csv')"
   ]
  },
  {
   "cell_type": "code",
   "execution_count": 22,
   "metadata": {},
   "outputs": [],
   "source": [
    "from tqdm import tqdm\n",
    "tqdm.pandas()"
   ]
  },
  {
   "cell_type": "code",
   "execution_count": 23,
   "metadata": {},
   "outputs": [
    {
     "name": "stderr",
     "output_type": "stream",
     "text": [
      "100%|██████████| 35908/35908 [00:00<00:00, 1922996.27it/s]\n"
     ]
    }
   ],
   "source": [
    "df['genre'] = df['primary_artist'].progress_apply(lambda x: map_genre(x, artist_genre_mapping))"
   ]
  },
  {
   "cell_type": "code",
   "execution_count": 24,
   "metadata": {},
   "outputs": [
    {
     "data": {
      "text/plain": [
       "0.0"
      ]
     },
     "execution_count": 24,
     "metadata": {},
     "output_type": "execute_result"
    }
   ],
   "source": [
    "df['genre'].isna().mean()"
   ]
  },
  {
   "cell_type": "code",
   "execution_count": 25,
   "metadata": {},
   "outputs": [
    {
     "data": {
      "text/plain": [
       "(35908, 15)"
      ]
     },
     "execution_count": 25,
     "metadata": {},
     "output_type": "execute_result"
    }
   ],
   "source": [
    "df.shape"
   ]
  },
  {
   "cell_type": "code",
   "execution_count": 26,
   "metadata": {},
   "outputs": [
    {
     "data": {
      "text/plain": [
       "Index(['Unnamed: 0', 'song', 'lyrics', 'title', 'primary_artist', 'views',\n",
       "       'cleaned_lyrics', 'language', 'log_scaled_views', 'popular',\n",
       "       'popularity', 'popularity_std', 'spotify_popularity',\n",
       "       'spotify_popularity_three_class', 'genre'],\n",
       "      dtype='object')"
      ]
     },
     "execution_count": 26,
     "metadata": {},
     "output_type": "execute_result"
    }
   ],
   "source": [
    "df.columns"
   ]
  },
  {
   "cell_type": "code",
   "execution_count": 27,
   "metadata": {},
   "outputs": [],
   "source": [
    "df.to_csv(DATA_PATH / 'clean_lyrics_and_spotify.csv', index=False)"
   ]
  },
  {
   "attachments": {},
   "cell_type": "markdown",
   "metadata": {},
   "source": [
    "We have successfully mapped the genres in an effective way to the tracks. "
   ]
  },
  {
   "cell_type": "markdown",
   "metadata": {},
   "source": [
    "# <a id='toc6_'></a>[Combining the Scraped Data, Ada Embeddings and Original Dataset](#toc0_)\n",
    "\n",
    "We will now combine the original dataset with the Spotify data and the Ada embeddings. "
   ]
  },
  {
   "cell_type": "code",
   "execution_count": 57,
   "metadata": {},
   "outputs": [],
   "source": [
    "original = pd.read_csv(DATA_PATH/'clean_lyrics_english_stem.csv')"
   ]
  },
  {
   "cell_type": "code",
   "execution_count": 30,
   "metadata": {},
   "outputs": [],
   "source": [
    "spotify = pd.read_csv(DATA_PATH / 'clean_lyrics_and_spotify.csv')"
   ]
  },
  {
   "cell_type": "code",
   "execution_count": 58,
   "metadata": {},
   "outputs": [],
   "source": [
    "ada = pd.read_csv(DATA_PATH / 'clean_lyrics_ada.csv')"
   ]
  },
  {
   "cell_type": "code",
   "execution_count": 38,
   "metadata": {},
   "outputs": [
    {
     "data": {
      "text/plain": [
       "Index(['Unnamed: 0', 'song', 'lyrics', 'title', 'primary_artist', 'views',\n",
       "       'cleaned_lyrics', 'language', 'log_scaled_views', 'popular',\n",
       "       'popularity', 'popularity_std', 'spotify_popularity',\n",
       "       'spotify_popularity_three_class', 'genre'],\n",
       "      dtype='object')"
      ]
     },
     "execution_count": 38,
     "metadata": {},
     "output_type": "execute_result"
    }
   ],
   "source": [
    "spotify.columns"
   ]
  },
  {
   "cell_type": "markdown",
   "metadata": {},
   "source": [
    "## <a id='toc6_1_'></a>[Dealing With Duplicated Titles](#toc0_)"
   ]
  },
  {
   "attachments": {},
   "cell_type": "markdown",
   "metadata": {},
   "source": [
    "One oversight that we didn't take into account were the amount of duplicate song titles by different artists. These songs would have the same lyrics, but the popularity may be different depending on which artist covered the song. With this in mind, we decided to just take the first occurence of a song in the dataset for simplicity sake. "
   ]
  },
  {
   "cell_type": "code",
   "execution_count": 59,
   "metadata": {},
   "outputs": [],
   "source": [
    "# Choose the columns that we want to add to the original dataset.\n",
    "reduced_spotify = spotify[['title', 'spotify_popularity', 'genre']]\n",
    "reduced_ada = ada[['title', 'ada_embeddings']]"
   ]
  },
  {
   "cell_type": "code",
   "execution_count": 72,
   "metadata": {},
   "outputs": [
    {
     "name": "stdout",
     "output_type": "stream",
     "text": [
      "30222\n",
      "28585\n",
      "30216\n"
     ]
    }
   ],
   "source": [
    "# Find the unique titles in each dataset.\n",
    "spotify_titles = set(reduced_spotify['title'])\n",
    "original_titles = set(original['title'])\n",
    "ada_titles = set(reduced_ada['title'])\n",
    "print(len(spotify_titles))\n",
    "print(len(original_titles))\n",
    "print(len(ada_titles))"
   ]
  },
  {
   "attachments": {},
   "cell_type": "markdown",
   "metadata": {},
   "source": [
    "Here we can see that there are more unique titles in the Ada embeddings dataset. This is due to the fact that the dataset was embedded by using all lyrics regardless if it was missing release year, but the original dataset included only lyrics with release years. "
   ]
  },
  {
   "attachments": {},
   "cell_type": "markdown",
   "metadata": {},
   "source": [
    "We now need to create a mask to remove the duplicated titles for both the genres dataframe and the original dataframe."
   ]
  },
  {
   "cell_type": "code",
   "execution_count": 73,
   "metadata": {},
   "outputs": [],
   "source": [
    "# Create a mask that keeps the first occurence of a title.\n",
    "unique_titles_spotify_reduced_mask = ~reduced_spotify.duplicated(subset='title', keep='first')\n",
    "# Subset the dataset using the map to only show unique titles.\n",
    "unique_titles_spotify_reduced_df = reduced_spotify[unique_titles_spotify_reduced_mask]"
   ]
  },
  {
   "cell_type": "code",
   "execution_count": 74,
   "metadata": {},
   "outputs": [],
   "source": [
    "# Perform the same masking and subset process to the ada embeddings.\n",
    "unique_titles_ada_mask = ~reduced_ada.duplicated(subset='title', keep='first')\n",
    "unique_titles_ada_df = reduced_ada[unique_titles_ada_mask]"
   ]
  },
  {
   "cell_type": "code",
   "execution_count": 75,
   "metadata": {},
   "outputs": [],
   "source": [
    "common_spotify_ada_titles = ada_titles.intersection(spotify_titles)"
   ]
  },
  {
   "cell_type": "code",
   "execution_count": 76,
   "metadata": {},
   "outputs": [],
   "source": [
    "# Subset the spotify data to match the ada data. \n",
    "unique_titles_spotify_reduced_df = unique_titles_spotify_reduced_df[\n",
    "    unique_titles_spotify_reduced_df['title'].isin(common_spotify_ada_titles)\n",
    "]"
   ]
  },
  {
   "attachments": {},
   "cell_type": "markdown",
   "metadata": {},
   "source": [
    "Now the spotify and ada datasets are the same size and contain unique song titles. We can now merge them."
   ]
  },
  {
   "cell_type": "code",
   "execution_count": 79,
   "metadata": {},
   "outputs": [],
   "source": [
    "combined_spotify_ada_df = pd.merge(\n",
    "    unique_titles_spotify_reduced_df,\n",
    "    unique_titles_ada_df,\n",
    "    on='title',\n",
    ")"
   ]
  },
  {
   "cell_type": "code",
   "execution_count": 84,
   "metadata": {},
   "outputs": [
    {
     "data": {
      "text/plain": [
       "Index(['title', 'spotify_popularity', 'genre', 'ada_embeddings'], dtype='object')"
      ]
     },
     "metadata": {},
     "output_type": "display_data"
    },
    {
     "data": {
      "text/plain": [
       "(30216, 4)"
      ]
     },
     "metadata": {},
     "output_type": "display_data"
    }
   ],
   "source": [
    "display(combined_spotify_ada_df.columns)\n",
    "display(combined_spotify_ada_df.shape)"
   ]
  },
  {
   "attachments": {},
   "cell_type": "markdown",
   "metadata": {},
   "source": [
    "We have successfully merged both the Ada embeddings and Spotify data."
   ]
  },
  {
   "attachments": {},
   "cell_type": "markdown",
   "metadata": {},
   "source": [
    "We will now make a mask of the original dataset to subset the unique titles for the original data."
   ]
  },
  {
   "cell_type": "code",
   "execution_count": 83,
   "metadata": {},
   "outputs": [],
   "source": [
    "# Perform the same masking and subset process to the original dataframe.\n",
    "unique_titles_original_mask = ~original.duplicated(subset='title', keep='first')\n",
    "unique_titles_original_df = original[unique_titles_original_mask]"
   ]
  },
  {
   "cell_type": "code",
   "execution_count": 85,
   "metadata": {},
   "outputs": [],
   "source": [
    "common_titles = common_spotify_ada_titles.intersection(original_titles)"
   ]
  },
  {
   "cell_type": "code",
   "execution_count": 86,
   "metadata": {},
   "outputs": [
    {
     "data": {
      "text/plain": [
       "28560"
      ]
     },
     "execution_count": 86,
     "metadata": {},
     "output_type": "execute_result"
    }
   ],
   "source": [
    "len(common_titles)"
   ]
  },
  {
   "attachments": {},
   "cell_type": "markdown",
   "metadata": {},
   "source": [
    "We can now subset the Ada + Spotify dataframe with unique titles that are common in the original dataframe."
   ]
  },
  {
   "cell_type": "code",
   "execution_count": 87,
   "metadata": {},
   "outputs": [],
   "source": [
    "# Subsetting the reduced dataframe to the titles that are similar to the original dataframe.\n",
    "combined_spotify_ada_df = combined_spotify_ada_df[\n",
    "    combined_spotify_ada_df['title'].isin(common_titles)\n",
    "]"
   ]
  },
  {
   "cell_type": "code",
   "execution_count": 88,
   "metadata": {},
   "outputs": [
    {
     "data": {
      "text/plain": [
       "(28560, 4)"
      ]
     },
     "execution_count": 88,
     "metadata": {},
     "output_type": "execute_result"
    }
   ],
   "source": [
    "# Check the dimensions to make sure the subset was performed correctly.\n",
    "combined_spotify_ada_df.shape"
   ]
  },
  {
   "attachments": {},
   "cell_type": "markdown",
   "metadata": {},
   "source": [
    "Now we can merge the two dataframes."
   ]
  },
  {
   "cell_type": "code",
   "execution_count": 89,
   "metadata": {},
   "outputs": [],
   "source": [
    "final_df = pd.merge(\n",
    "    unique_titles_original_df,\n",
    "    combined_spotify_ada_df,\n",
    "    on='title',\n",
    ")"
   ]
  },
  {
   "cell_type": "code",
   "execution_count": 90,
   "metadata": {},
   "outputs": [
    {
     "name": "stdout",
     "output_type": "stream",
     "text": [
      "<class 'pandas.core.frame.DataFrame'>\n",
      "Int64Index: 28560 entries, 0 to 28559\n",
      "Data columns (total 15 columns):\n",
      " #   Column                  Non-Null Count  Dtype  \n",
      "---  ------                  --------------  -----  \n",
      " 0   song                    28560 non-null  object \n",
      " 1   lyrics                  28560 non-null  object \n",
      " 2   release_year            28560 non-null  int64  \n",
      " 3   title                   28560 non-null  object \n",
      " 4   primary_artist          28560 non-null  object \n",
      " 5   views                   28560 non-null  float64\n",
      " 6   cleaned_lyrics          28560 non-null  object \n",
      " 7   language                28560 non-null  object \n",
      " 8   log_scaled_views        28560 non-null  float64\n",
      " 9   popular                 28560 non-null  int64  \n",
      " 10  popularity_three_class  28560 non-null  int64  \n",
      " 11  cleaned_lyrics_stem     28560 non-null  object \n",
      " 12  spotify_popularity      28560 non-null  float64\n",
      " 13  genre                   28560 non-null  object \n",
      " 14  ada_embeddings          28560 non-null  object \n",
      "dtypes: float64(3), int64(3), object(9)\n",
      "memory usage: 3.5+ MB\n"
     ]
    }
   ],
   "source": [
    "final_df.info()"
   ]
  },
  {
   "cell_type": "code",
   "execution_count": 91,
   "metadata": {},
   "outputs": [],
   "source": [
    "final_df.shape\n",
    "final_df.to_csv(DATA_PATH / 'clean_lyrics_final.csv', index=False)"
   ]
  },
  {
   "cell_type": "markdown",
   "metadata": {},
   "source": [
    "# <a id='toc7_'></a>[Splitting the Popularity Into Multi-Class](#toc0_)\n",
    "\n",
    "We will now divide the Spotify popularity into thirds (low, medium and high popularity)."
   ]
  },
  {
   "cell_type": "code",
   "execution_count": 92,
   "metadata": {},
   "outputs": [],
   "source": [
    "df = pd.read_csv(DATA_PATH / 'clean_lyrics_final.csv')"
   ]
  },
  {
   "cell_type": "code",
   "execution_count": 96,
   "metadata": {},
   "outputs": [],
   "source": [
    "# Perform split popularity into thirds.\n",
    "df['spotify_popularity_three_class'] = pd.cut(\n",
    "    df['spotify_popularity'], \n",
    "    bins = [\n",
    "        0,\n",
    "        df['spotify_popularity'].quantile(q=0.33), \n",
    "        df['spotify_popularity'].quantile(q=0.66),\n",
    "        df['spotify_popularity'].max()\n",
    "    ],\n",
    "    labels=[0,1,2],\n",
    "    include_lowest=True\n",
    "    )"
   ]
  },
  {
   "cell_type": "code",
   "execution_count": 99,
   "metadata": {},
   "outputs": [
    {
     "data": {
      "text/plain": [
       "1    0.338901\n",
       "0    0.337920\n",
       "2    0.323179\n",
       "Name: spotify_popularity_three_class, dtype: float64"
      ]
     },
     "execution_count": 99,
     "metadata": {},
     "output_type": "execute_result"
    }
   ],
   "source": [
    "df['spotify_popularity_three_class'].value_counts(normalize=True)"
   ]
  },
  {
   "attachments": {},
   "cell_type": "markdown",
   "metadata": {},
   "source": [
    "We have successfully rencoded Spotify popularity into 3 balanced classes for modeling. "
   ]
  },
  {
   "cell_type": "code",
   "execution_count": 100,
   "metadata": {},
   "outputs": [
    {
     "ename": "",
     "evalue": "",
     "output_type": "error",
     "traceback": [
      "\u001b[1;31mThe Kernel crashed while executing code in the the current cell or a previous cell. Please review the code in the cell(s) to identify a possible cause of the failure. Click <a href='https://aka.ms/vscodeJupyterKernelCrash'>here</a> for more info. View Jupyter <a href='command:jupyter.viewOutput'>log</a> for further details."
     ]
    }
   ],
   "source": [
    "df.to_csv(DATA_PATH / 'clean_lyrics_final.csv', index=False)"
   ]
  },
  {
   "cell_type": "markdown",
   "metadata": {},
   "source": [
    "# <a id='toc8_'></a>[Conclusion](#toc0_)\n",
    "After our preliminary modeling (`notebooks/3_prelim_modelling.ipynb`), we found that we could not push model performance with the current dataset. From the above we have successfully extracted and combined Spotify data onto our current dataset along with the ada embeddings. \n",
    "\n",
    "We can now move onto to refining our models with this finalized dataset. "
   ]
  }
 ],
 "metadata": {
  "kernelspec": {
   "display_name": "base",
   "language": "python",
   "name": "python3"
  },
  "language_info": {
   "codemirror_mode": {
    "name": "ipython",
    "version": 3
   },
   "file_extension": ".py",
   "mimetype": "text/x-python",
   "name": "python",
   "nbconvert_exporter": "python",
   "pygments_lexer": "ipython3",
   "version": "3.9.13"
  },
  "orig_nbformat": 4
 },
 "nbformat": 4,
 "nbformat_minor": 2
}
