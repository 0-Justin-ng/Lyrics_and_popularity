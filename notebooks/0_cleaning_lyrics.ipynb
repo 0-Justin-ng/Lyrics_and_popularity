{
 "cells": [
  {
   "cell_type": "code",
   "execution_count": 1,
   "metadata": {},
   "outputs": [],
   "source": [
    "import pandas as pd\n",
    "import numpy as np\n",
    "import re\n",
    "\n",
    "import matplotlib.pyplot as plt\n",
    "\n",
    "import json\n",
    "from pathlib import Path\n",
    "from tqdm import tqdm\n",
    "%load_ext autoreload\n",
    "%autoreload 2"
   ]
  },
  {
   "cell_type": "code",
   "execution_count": 2,
   "metadata": {},
   "outputs": [],
   "source": [
    "import os\n",
    "import sys\n",
    "\n",
    "# Appends the entire project folder to the path.\n",
    "# This allows us to make a relative import of our scripts in brainstation_capstone/scripts\n",
    "module_path = os.path.abspath(os.path.join('..'))\n",
    "if module_path not in sys.path:\n",
    "    sys.path.append(module_path)"
   ]
  },
  {
   "cell_type": "code",
   "execution_count": 3,
   "metadata": {},
   "outputs": [],
   "source": [
    "from utilities import utils"
   ]
  },
  {
   "attachments": {},
   "cell_type": "markdown",
   "metadata": {},
   "source": [
    "# **0. Setting Up the Dataset and Cleaning Lyrics**\n",
    "Author: Justin Ng"
   ]
  },
  {
   "attachments": {},
   "cell_type": "markdown",
   "metadata": {},
   "source": [
    "This notebook contains all the steps for converting lyrics into various representations. The specific steps will include the following:\n",
    "\n",
    "- Loading the data from the original dataset. \n",
    "    - One table for lyrics.\n",
    "    - One table that includes song info. \n",
    "    - Both are stored in a json format. \n",
    "- Rudimentary cleaning of the lyrics. \n",
    "- Detecting and selecting for english songs. \n",
    "- Exploring Genius page views. "
   ]
  },
  {
   "attachments": {},
   "cell_type": "markdown",
   "metadata": {},
   "source": [
    "## Loading the Data"
   ]
  },
  {
   "attachments": {},
   "cell_type": "markdown",
   "metadata": {},
   "source": [
    "The first step is to load the original dataset from the following:\n",
    "\n",
    "Expertise and Dynamics within Crowdsourced Musical Knowledge Curation: A Case Study of the Genius Platform.\n",
    "<br>Derek Lim and Austin R. Benson.\n",
    "<br>Proceedings of International Conference on Web and Social Media (ICWSM), 2021. \n",
    "\n",
    "Dataset found [here.](https://www.cs.cornell.edu/~arb/data/genius-expertise/)\n",
    "\n",
    "The original dataset comes in two parts. `lyrics.jl` provides the lyric data and `song_info.json` provides further song info, such as primary artist. \n",
    "\n",
    "You can go into the `utils` module in `utilities` to get the details on how these files were parsed. "
   ]
  },
  {
   "cell_type": "code",
   "execution_count": 4,
   "metadata": {},
   "outputs": [],
   "source": [
    "# Set relative path for the raw data\n",
    "DATA_PATH = utils.get_datapath('data')"
   ]
  },
  {
   "cell_type": "code",
   "execution_count": 5,
   "metadata": {},
   "outputs": [],
   "source": [
    "# Load the lyrics.\n",
    "lyrics_df = utils.json_loader(DATA_PATH / 'genius-expertise' / 'lyrics.jl')"
   ]
  },
  {
   "cell_type": "code",
   "execution_count": 6,
   "metadata": {},
   "outputs": [
    {
     "name": "stdout",
     "output_type": "stream",
     "text": [
      "<class 'pandas.core.frame.DataFrame'>\n",
      "RangeIndex: 37993 entries, 0 to 37992\n",
      "Data columns (total 2 columns):\n",
      " #   Column  Non-Null Count  Dtype \n",
      "---  ------  --------------  ----- \n",
      " 0   song    37993 non-null  object\n",
      " 1   lyrics  37993 non-null  object\n",
      "dtypes: object(2)\n",
      "memory usage: 593.8+ KB\n"
     ]
    },
    {
     "data": {
      "text/plain": [
       "None"
      ]
     },
     "metadata": {},
     "output_type": "display_data"
    },
    {
     "data": {
      "text/plain": [
       "(37993, 2)"
      ]
     },
     "metadata": {},
     "output_type": "display_data"
    }
   ],
   "source": [
    "display(lyrics_df.info())\n",
    "display(lyrics_df.shape)"
   ]
  },
  {
   "attachments": {},
   "cell_type": "markdown",
   "metadata": {},
   "source": [
    "We can see that the dataset has 37993 lyrics. \n",
    "\n",
    "We will also load the song info. "
   ]
  },
  {
   "cell_type": "code",
   "execution_count": 7,
   "metadata": {},
   "outputs": [],
   "source": [
    "# Load the song info.\n",
    "song_info_df = utils.json_loader(DATA_PATH / 'genius-expertise'/ 'song_info.json')"
   ]
  },
  {
   "cell_type": "code",
   "execution_count": 8,
   "metadata": {},
   "outputs": [
    {
     "name": "stdout",
     "output_type": "stream",
     "text": [
      "<class 'pandas.core.frame.DataFrame'>\n",
      "RangeIndex: 223257 entries, 0 to 223256\n",
      "Data columns (total 10 columns):\n",
      " #   Column          Non-Null Count   Dtype  \n",
      "---  ------          --------------   -----  \n",
      " 0   url_name        223257 non-null  object \n",
      " 1   title           223257 non-null  object \n",
      " 2   primary_artist  223257 non-null  object \n",
      " 3   release_date    176884 non-null  object \n",
      " 4   pyongs          223256 non-null  float64\n",
      " 5   contributors    223257 non-null  int64  \n",
      " 6   has_bio         223257 non-null  bool   \n",
      " 7   views           72065 non-null   float64\n",
      " 8   tags            223257 non-null  object \n",
      " 9   annotations     0 non-null       float64\n",
      "dtypes: bool(1), float64(3), int64(1), object(5)\n",
      "memory usage: 15.5+ MB\n"
     ]
    },
    {
     "data": {
      "text/plain": [
       "None"
      ]
     },
     "metadata": {},
     "output_type": "display_data"
    },
    {
     "data": {
      "text/plain": [
       "(223257, 10)"
      ]
     },
     "metadata": {},
     "output_type": "display_data"
    }
   ],
   "source": [
    "display(song_info_df.info())\n",
    "display(song_info_df.shape)"
   ]
  },
  {
   "cell_type": "code",
   "execution_count": 9,
   "metadata": {},
   "outputs": [
    {
     "data": {
      "text/html": [
       "<div>\n",
       "<style scoped>\n",
       "    .dataframe tbody tr th:only-of-type {\n",
       "        vertical-align: middle;\n",
       "    }\n",
       "\n",
       "    .dataframe tbody tr th {\n",
       "        vertical-align: top;\n",
       "    }\n",
       "\n",
       "    .dataframe thead th {\n",
       "        text-align: right;\n",
       "    }\n",
       "</style>\n",
       "<table border=\"1\" class=\"dataframe\">\n",
       "  <thead>\n",
       "    <tr style=\"text-align: right;\">\n",
       "      <th></th>\n",
       "      <th>url_name</th>\n",
       "      <th>title</th>\n",
       "      <th>primary_artist</th>\n",
       "      <th>release_date</th>\n",
       "      <th>pyongs</th>\n",
       "      <th>contributors</th>\n",
       "      <th>has_bio</th>\n",
       "      <th>views</th>\n",
       "      <th>tags</th>\n",
       "      <th>annotations</th>\n",
       "    </tr>\n",
       "  </thead>\n",
       "  <tbody>\n",
       "    <tr>\n",
       "      <th>0</th>\n",
       "      <td>Kendrick-lamar-swimming-pools-drank-lyrics</td>\n",
       "      <td>Swimming Pools (Drank)</td>\n",
       "      <td>Kendrick-lamar</td>\n",
       "      <td>July 31, 2012</td>\n",
       "      <td>894.0</td>\n",
       "      <td>403</td>\n",
       "      <td>True</td>\n",
       "      <td>5589280.0</td>\n",
       "      <td>[Trap, Conscious Hip-Hop, Memes, West Coast, R...</td>\n",
       "      <td>NaN</td>\n",
       "    </tr>\n",
       "    <tr>\n",
       "      <th>1</th>\n",
       "      <td>Kendrick-lamar-money-trees-lyrics</td>\n",
       "      <td>Money Trees</td>\n",
       "      <td>Kendrick-lamar</td>\n",
       "      <td>October 22, 2012</td>\n",
       "      <td>880.0</td>\n",
       "      <td>394</td>\n",
       "      <td>True</td>\n",
       "      <td>4592003.0</td>\n",
       "      <td>[Conscious Hip-Hop, West Coast, Rap, Producer]</td>\n",
       "      <td>NaN</td>\n",
       "    </tr>\n",
       "    <tr>\n",
       "      <th>2</th>\n",
       "      <td>Kendrick-lamar-xxx-lyrics</td>\n",
       "      <td>XXX.</td>\n",
       "      <td>Kendrick-lamar</td>\n",
       "      <td>April 14, 2017</td>\n",
       "      <td>188.0</td>\n",
       "      <td>389</td>\n",
       "      <td>True</td>\n",
       "      <td>4651514.0</td>\n",
       "      <td>[Conscious Hip-Hop, Boom Bap, Pop, West Coast,...</td>\n",
       "      <td>NaN</td>\n",
       "    </tr>\n",
       "    <tr>\n",
       "      <th>3</th>\n",
       "      <td>A-ap-rocky-fuckin-problems-lyrics</td>\n",
       "      <td>Fuckin’ Problems</td>\n",
       "      <td>A-ap-rocky</td>\n",
       "      <td>October 24, 2012</td>\n",
       "      <td>706.0</td>\n",
       "      <td>437</td>\n",
       "      <td>True</td>\n",
       "      <td>7378309.0</td>\n",
       "      <td>[Gangsta Rap, Dirty South, Atlanta, Posse Cut,...</td>\n",
       "      <td>NaN</td>\n",
       "    </tr>\n",
       "    <tr>\n",
       "      <th>4</th>\n",
       "      <td>Kendrick-lamar-dna-lyrics</td>\n",
       "      <td>DNA.</td>\n",
       "      <td>Kendrick-lamar</td>\n",
       "      <td>April 14, 2017</td>\n",
       "      <td>555.0</td>\n",
       "      <td>570</td>\n",
       "      <td>True</td>\n",
       "      <td>5113687.0</td>\n",
       "      <td>[Politics, Producer, News, Conscious Hip-Hop, ...</td>\n",
       "      <td>NaN</td>\n",
       "    </tr>\n",
       "  </tbody>\n",
       "</table>\n",
       "</div>"
      ],
      "text/plain": [
       "                                     url_name                   title  \\\n",
       "0  Kendrick-lamar-swimming-pools-drank-lyrics  Swimming Pools (Drank)   \n",
       "1           Kendrick-lamar-money-trees-lyrics             Money Trees   \n",
       "2                   Kendrick-lamar-xxx-lyrics                    XXX.   \n",
       "3           A-ap-rocky-fuckin-problems-lyrics        Fuckin’ Problems   \n",
       "4                   Kendrick-lamar-dna-lyrics                    DNA.   \n",
       "\n",
       "   primary_artist      release_date  pyongs  contributors  has_bio      views  \\\n",
       "0  Kendrick-lamar     July 31, 2012   894.0           403     True  5589280.0   \n",
       "1  Kendrick-lamar  October 22, 2012   880.0           394     True  4592003.0   \n",
       "2  Kendrick-lamar    April 14, 2017   188.0           389     True  4651514.0   \n",
       "3      A-ap-rocky  October 24, 2012   706.0           437     True  7378309.0   \n",
       "4  Kendrick-lamar    April 14, 2017   555.0           570     True  5113687.0   \n",
       "\n",
       "                                                tags  annotations  \n",
       "0  [Trap, Conscious Hip-Hop, Memes, West Coast, R...          NaN  \n",
       "1     [Conscious Hip-Hop, West Coast, Rap, Producer]          NaN  \n",
       "2  [Conscious Hip-Hop, Boom Bap, Pop, West Coast,...          NaN  \n",
       "3  [Gangsta Rap, Dirty South, Atlanta, Posse Cut,...          NaN  \n",
       "4  [Politics, Producer, News, Conscious Hip-Hop, ...          NaN  "
      ]
     },
     "execution_count": 9,
     "metadata": {},
     "output_type": "execute_result"
    }
   ],
   "source": [
    "song_info_df.head()"
   ]
  },
  {
   "attachments": {},
   "cell_type": "markdown",
   "metadata": {},
   "source": [
    "We can see that there is info on the various songs in the dataset. We are primarily interested in the `title`, `primary_artist`, `release_date` and `views`. \n",
    "\n",
    "From the above sample of the dataset we can see that the `release_date` is a string and we are going to only extract the year from the release_date. "
   ]
  },
  {
   "cell_type": "code",
   "execution_count": 10,
   "metadata": {},
   "outputs": [
    {
     "data": {
      "text/plain": [
       "url_name          0.000000\n",
       "title             0.000000\n",
       "primary_artist    0.000000\n",
       "release_date      0.207711\n",
       "pyongs            0.000004\n",
       "contributors      0.000000\n",
       "has_bio           0.000000\n",
       "views             0.677211\n",
       "tags              0.000000\n",
       "annotations       1.000000\n",
       "dtype: float64"
      ]
     },
     "execution_count": 10,
     "metadata": {},
     "output_type": "execute_result"
    }
   ],
   "source": [
    "song_info_df.isna().mean()"
   ]
  },
  {
   "attachments": {},
   "cell_type": "markdown",
   "metadata": {},
   "source": [
    "We can see that we can drop the `annotations` as all the values are missing. This will make it easier to work with the dataset later on. Additionally, there are a lot of missing `views`, but we will only need the views for the 37 000 songs that we have lyrics for. "
   ]
  },
  {
   "cell_type": "code",
   "execution_count": 11,
   "metadata": {},
   "outputs": [],
   "source": [
    "song_info_df = song_info_df[\n",
    "    song_info_df.columns.difference(['annotations'])\n",
    "    ].dropna(axis=0)"
   ]
  },
  {
   "attachments": {},
   "cell_type": "markdown",
   "metadata": {},
   "source": [
    "# Analysis of Release Dates"
   ]
  },
  {
   "cell_type": "code",
   "execution_count": 12,
   "metadata": {},
   "outputs": [],
   "source": [
    "def date_converter(date):\n",
    "    '''\n",
    "        This function is used to convert a release_date into just the year. \n",
    "    '''\n",
    " \n",
    "    try:\n",
    "        split_date = date.replace(',', '').split()\n",
    "        if len(split_date) > 1:\n",
    "            year = (int(split_date[2]))\n",
    "        # If there is only the year. \n",
    "        elif len(split_date) == 1:\n",
    "            year = (int(split_date[0]))\n",
    "    except:\n",
    "        year=(np.nan)\n",
    "\n",
    "    return year"
   ]
  },
  {
   "cell_type": "code",
   "execution_count": 13,
   "metadata": {},
   "outputs": [],
   "source": [
    "song_info_df['release_year'] = song_info_df.release_date.apply(date_converter)"
   ]
  },
  {
   "cell_type": "code",
   "execution_count": 14,
   "metadata": {},
   "outputs": [
    {
     "data": {
      "text/html": [
       "<div>\n",
       "<style scoped>\n",
       "    .dataframe tbody tr th:only-of-type {\n",
       "        vertical-align: middle;\n",
       "    }\n",
       "\n",
       "    .dataframe tbody tr th {\n",
       "        vertical-align: top;\n",
       "    }\n",
       "\n",
       "    .dataframe thead th {\n",
       "        text-align: right;\n",
       "    }\n",
       "</style>\n",
       "<table border=\"1\" class=\"dataframe\">\n",
       "  <thead>\n",
       "    <tr style=\"text-align: right;\">\n",
       "      <th></th>\n",
       "      <th>contributors</th>\n",
       "      <th>has_bio</th>\n",
       "      <th>primary_artist</th>\n",
       "      <th>pyongs</th>\n",
       "      <th>release_date</th>\n",
       "      <th>tags</th>\n",
       "      <th>title</th>\n",
       "      <th>url_name</th>\n",
       "      <th>views</th>\n",
       "      <th>release_year</th>\n",
       "    </tr>\n",
       "  </thead>\n",
       "  <tbody>\n",
       "    <tr>\n",
       "      <th>0</th>\n",
       "      <td>403</td>\n",
       "      <td>True</td>\n",
       "      <td>Kendrick-lamar</td>\n",
       "      <td>894.0</td>\n",
       "      <td>July 31, 2012</td>\n",
       "      <td>[Trap, Conscious Hip-Hop, Memes, West Coast, R...</td>\n",
       "      <td>Swimming Pools (Drank)</td>\n",
       "      <td>Kendrick-lamar-swimming-pools-drank-lyrics</td>\n",
       "      <td>5589280.0</td>\n",
       "      <td>2012.0</td>\n",
       "    </tr>\n",
       "    <tr>\n",
       "      <th>1</th>\n",
       "      <td>394</td>\n",
       "      <td>True</td>\n",
       "      <td>Kendrick-lamar</td>\n",
       "      <td>880.0</td>\n",
       "      <td>October 22, 2012</td>\n",
       "      <td>[Conscious Hip-Hop, West Coast, Rap, Producer]</td>\n",
       "      <td>Money Trees</td>\n",
       "      <td>Kendrick-lamar-money-trees-lyrics</td>\n",
       "      <td>4592003.0</td>\n",
       "      <td>2012.0</td>\n",
       "    </tr>\n",
       "    <tr>\n",
       "      <th>2</th>\n",
       "      <td>389</td>\n",
       "      <td>True</td>\n",
       "      <td>Kendrick-lamar</td>\n",
       "      <td>188.0</td>\n",
       "      <td>April 14, 2017</td>\n",
       "      <td>[Conscious Hip-Hop, Boom Bap, Pop, West Coast,...</td>\n",
       "      <td>XXX.</td>\n",
       "      <td>Kendrick-lamar-xxx-lyrics</td>\n",
       "      <td>4651514.0</td>\n",
       "      <td>2017.0</td>\n",
       "    </tr>\n",
       "    <tr>\n",
       "      <th>3</th>\n",
       "      <td>437</td>\n",
       "      <td>True</td>\n",
       "      <td>A-ap-rocky</td>\n",
       "      <td>706.0</td>\n",
       "      <td>October 24, 2012</td>\n",
       "      <td>[Gangsta Rap, Dirty South, Atlanta, Posse Cut,...</td>\n",
       "      <td>Fuckin’ Problems</td>\n",
       "      <td>A-ap-rocky-fuckin-problems-lyrics</td>\n",
       "      <td>7378309.0</td>\n",
       "      <td>2012.0</td>\n",
       "    </tr>\n",
       "    <tr>\n",
       "      <th>4</th>\n",
       "      <td>570</td>\n",
       "      <td>True</td>\n",
       "      <td>Kendrick-lamar</td>\n",
       "      <td>555.0</td>\n",
       "      <td>April 14, 2017</td>\n",
       "      <td>[Politics, Producer, News, Conscious Hip-Hop, ...</td>\n",
       "      <td>DNA.</td>\n",
       "      <td>Kendrick-lamar-dna-lyrics</td>\n",
       "      <td>5113687.0</td>\n",
       "      <td>2017.0</td>\n",
       "    </tr>\n",
       "  </tbody>\n",
       "</table>\n",
       "</div>"
      ],
      "text/plain": [
       "   contributors  has_bio  primary_artist  pyongs      release_date  \\\n",
       "0           403     True  Kendrick-lamar   894.0     July 31, 2012   \n",
       "1           394     True  Kendrick-lamar   880.0  October 22, 2012   \n",
       "2           389     True  Kendrick-lamar   188.0    April 14, 2017   \n",
       "3           437     True      A-ap-rocky   706.0  October 24, 2012   \n",
       "4           570     True  Kendrick-lamar   555.0    April 14, 2017   \n",
       "\n",
       "                                                tags                   title  \\\n",
       "0  [Trap, Conscious Hip-Hop, Memes, West Coast, R...  Swimming Pools (Drank)   \n",
       "1     [Conscious Hip-Hop, West Coast, Rap, Producer]             Money Trees   \n",
       "2  [Conscious Hip-Hop, Boom Bap, Pop, West Coast,...                    XXX.   \n",
       "3  [Gangsta Rap, Dirty South, Atlanta, Posse Cut,...        Fuckin’ Problems   \n",
       "4  [Politics, Producer, News, Conscious Hip-Hop, ...                    DNA.   \n",
       "\n",
       "                                     url_name      views  release_year  \n",
       "0  Kendrick-lamar-swimming-pools-drank-lyrics  5589280.0        2012.0  \n",
       "1           Kendrick-lamar-money-trees-lyrics  4592003.0        2012.0  \n",
       "2                   Kendrick-lamar-xxx-lyrics  4651514.0        2017.0  \n",
       "3           A-ap-rocky-fuckin-problems-lyrics  7378309.0        2012.0  \n",
       "4                   Kendrick-lamar-dna-lyrics  5113687.0        2017.0  "
      ]
     },
     "execution_count": 14,
     "metadata": {},
     "output_type": "execute_result"
    }
   ],
   "source": [
    "song_info_df.head()"
   ]
  },
  {
   "attachments": {},
   "cell_type": "markdown",
   "metadata": {},
   "source": [
    "Now that we have successfully converted the release date into years, we will take a closer look at the release dates for the dataset. "
   ]
  },
  {
   "cell_type": "code",
   "execution_count": 15,
   "metadata": {},
   "outputs": [],
   "source": [
    "# Check to remove all nans for now, so that we can find the min and max of the release dates.\n",
    "release_year_for_analysis = song_info_df.release_year[~np.isnan(song_info_df.release_year)]"
   ]
  },
  {
   "cell_type": "code",
   "execution_count": 16,
   "metadata": {},
   "outputs": [
    {
     "data": {
      "text/plain": [
       "971.0"
      ]
     },
     "execution_count": 16,
     "metadata": {},
     "output_type": "execute_result"
    }
   ],
   "source": [
    "release_year_for_analysis.min()"
   ]
  },
  {
   "attachments": {},
   "cell_type": "markdown",
   "metadata": {},
   "source": [
    "This is a strange year for the dataset. We will take a closer look at the release years. First we will try to output all the songs with a release year of `971`. "
   ]
  },
  {
   "cell_type": "code",
   "execution_count": 17,
   "metadata": {},
   "outputs": [
    {
     "name": "stdout",
     "output_type": "stream",
     "text": [
      "Never Can Say Goodbye\n",
      "Got to Be There\n",
      "Echoes\n",
      "Fearless\n",
      "One of These Days\n",
      "A Pillow of Winds\n",
      "San Tropez\n",
      "Seamus\n",
      "Life on Mars?\n",
      "Oh! You Pretty Things\n",
      "Quicksand\n",
      "Queen Bitch\n",
      "The Bewlay Brothers\n",
      "Andy Warhol\n",
      "Kooks\n",
      "Song for Bob Dylan\n",
      "Fill Your Heart\n",
      "Stairway to Heaven\n",
      "Black Dog\n",
      "Going to California\n",
      "When the Levee Breaks\n",
      "The Battle of Evermore\n",
      "Rock and Roll\n",
      "Misty Mountain Hop\n",
      "Four Sticks\n",
      "I Shall Be Released\n",
      "You Ain’t Goin’ Nowhere\n",
      "Tomorrow Is a Long Time\n",
      "Too Many People\n",
      "Uncle Albert/Admiral Halsey\n",
      "Another Day\n",
      "Monkberry Moon Delight\n",
      "Dear Friend\n",
      "Ram On\n",
      "Dear Boy\n",
      "Wild Horses\n",
      "Brown Sugar\n",
      "Dead Flowers\n",
      "Can’t You Hear Me Knocking\n",
      "Bitch\n",
      "Sway\n",
      "Moonlight Mile\n",
      "I Got the Blues\n",
      "Riders on the Storm\n",
      "L.A. Woman\n",
      "Love Her Madly\n",
      "The WASP (Texas Radio and the Big Beat)\n",
      "Been Down So Long\n",
      "Hyacinth House\n",
      "The Changeling\n",
      "Cars Hiss by My Window\n",
      "L’America\n",
      "Crawling King Snake\n",
      "Iron Man\n",
      "Sweet Leaf\n",
      "Children of the Grave\n",
      "Solitude\n",
      "Into the Void\n",
      "After Forever\n",
      "Lord of this World\n",
      "Day After Day\n",
      "It Don’t Come Easy\n",
      "The Mothering Blackness\n",
      "They Went Home\n"
     ]
    }
   ],
   "source": [
    "for _, row in song_info_df.iterrows():\n",
    "    if '971' in row['release_date']:\n",
    "        print(row['title'])"
   ]
  },
  {
   "attachments": {},
   "cell_type": "markdown",
   "metadata": {},
   "source": [
    "Seems like theres an error in the year value for songs released in 1971. We will make a new data_converter function and fix these values. "
   ]
  },
  {
   "cell_type": "code",
   "execution_count": 18,
   "metadata": {},
   "outputs": [],
   "source": [
    "def date_converter_updated(date):\n",
    "    \n",
    "    split_date = date.replace(',', '').split()\n",
    "    if len(split_date) > 1:\n",
    "        if '971' in split_date[-1]:\n",
    "            year = (1971)\n",
    "        else:\n",
    "            year = (int(split_date[-1]))\n",
    "    # If there is only the year. \n",
    "    elif len(split_date) == 1:\n",
    "        if '971' in split_date[0]:\n",
    "            year = (1971)\n",
    "        else:\n",
    "            year = (int(split_date[0]))\n",
    "\n",
    "    return year\n",
    "        \n",
    "    \n"
   ]
  },
  {
   "cell_type": "code",
   "execution_count": 19,
   "metadata": {},
   "outputs": [],
   "source": [
    "song_info_df['release_year'] = song_info_df.release_date.apply(date_converter_updated)"
   ]
  },
  {
   "cell_type": "code",
   "execution_count": 20,
   "metadata": {},
   "outputs": [
    {
     "data": {
      "text/plain": [
       "(1595, 2020)"
      ]
     },
     "execution_count": 20,
     "metadata": {},
     "output_type": "execute_result"
    }
   ],
   "source": [
    "song_info_df.release_year.min(), song_info_df.release_year.max()"
   ]
  },
  {
   "cell_type": "code",
   "execution_count": 21,
   "metadata": {},
   "outputs": [
    {
     "name": "stdout",
     "output_type": "stream",
     "text": [
      "Romeo and Juliet Act 2 Scene 4\n"
     ]
    }
   ],
   "source": [
    "for _, row in song_info_df.iterrows():\n",
    "    if '1595' in row['release_date']:\n",
    "        print(row['title'])"
   ]
  },
  {
   "attachments": {},
   "cell_type": "markdown",
   "metadata": {},
   "source": [
    "We see that we also have an excerpt of Romeo and Juliet in the dataset. "
   ]
  },
  {
   "attachments": {},
   "cell_type": "markdown",
   "metadata": {},
   "source": [
    "# Combining Both Lyrics and Song Info"
   ]
  },
  {
   "cell_type": "code",
   "execution_count": 22,
   "metadata": {},
   "outputs": [],
   "source": [
    "# Rename song column to merge on.\n",
    "song_info_df.rename(\n",
    "    {'url_name': 'song'},\n",
    "    axis=1,\n",
    "    inplace= True\n",
    ")\n",
    "\n",
    "# Merge the song views with the lyrics. \n",
    "raw_combined_df = pd.merge(\n",
    "    lyrics_df, \n",
    "    song_info_df[['song', 'release_year', 'title', 'primary_artist', 'views']].dropna(axis=0),\n",
    "    on='song',\n",
    "\n",
    ")"
   ]
  },
  {
   "cell_type": "code",
   "execution_count": 23,
   "metadata": {},
   "outputs": [
    {
     "data": {
      "text/html": [
       "<div>\n",
       "<style scoped>\n",
       "    .dataframe tbody tr th:only-of-type {\n",
       "        vertical-align: middle;\n",
       "    }\n",
       "\n",
       "    .dataframe tbody tr th {\n",
       "        vertical-align: top;\n",
       "    }\n",
       "\n",
       "    .dataframe thead th {\n",
       "        text-align: right;\n",
       "    }\n",
       "</style>\n",
       "<table border=\"1\" class=\"dataframe\">\n",
       "  <thead>\n",
       "    <tr style=\"text-align: right;\">\n",
       "      <th></th>\n",
       "      <th>song</th>\n",
       "      <th>lyrics</th>\n",
       "      <th>release_year</th>\n",
       "      <th>title</th>\n",
       "      <th>primary_artist</th>\n",
       "      <th>views</th>\n",
       "    </tr>\n",
       "  </thead>\n",
       "  <tbody>\n",
       "    <tr>\n",
       "      <th>0</th>\n",
       "      <td>Kendrick-lamar-swimming-pools-drank-lyrics</td>\n",
       "      <td>\\n\\n[Produced by T-Minus]\\n\\n[Intro]\\nPour up ...</td>\n",
       "      <td>2012</td>\n",
       "      <td>Swimming Pools (Drank)</td>\n",
       "      <td>Kendrick-lamar</td>\n",
       "      <td>5589280.0</td>\n",
       "    </tr>\n",
       "    <tr>\n",
       "      <th>1</th>\n",
       "      <td>Kendrick-lamar-money-trees-lyrics</td>\n",
       "      <td>\\n\\n[Produced by DJ Dahi]\\n\\n[Verse 1: Kendric...</td>\n",
       "      <td>2012</td>\n",
       "      <td>Money Trees</td>\n",
       "      <td>Kendrick-lamar</td>\n",
       "      <td>4592003.0</td>\n",
       "    </tr>\n",
       "    <tr>\n",
       "      <th>2</th>\n",
       "      <td>Kendrick-lamar-xxx-lyrics</td>\n",
       "      <td>\\n\\n[Intro: Bēkon &amp; Kid Capri]\\nAmerica, God b...</td>\n",
       "      <td>2017</td>\n",
       "      <td>XXX.</td>\n",
       "      <td>Kendrick-lamar</td>\n",
       "      <td>4651514.0</td>\n",
       "    </tr>\n",
       "    <tr>\n",
       "      <th>3</th>\n",
       "      <td>A-ap-rocky-fuckin-problems-lyrics</td>\n",
       "      <td>\\n\\n[Chorus: 2 Chainz, Drake &amp; Both (A$AP Rock...</td>\n",
       "      <td>2012</td>\n",
       "      <td>Fuckin’ Problems</td>\n",
       "      <td>A-ap-rocky</td>\n",
       "      <td>7378309.0</td>\n",
       "    </tr>\n",
       "    <tr>\n",
       "      <th>4</th>\n",
       "      <td>Kendrick-lamar-dna-lyrics</td>\n",
       "      <td>\\n\\n[Verse 1]\\nI got, I got, I got, I got—\\nLo...</td>\n",
       "      <td>2017</td>\n",
       "      <td>DNA.</td>\n",
       "      <td>Kendrick-lamar</td>\n",
       "      <td>5113687.0</td>\n",
       "    </tr>\n",
       "    <tr>\n",
       "      <th>5</th>\n",
       "      <td>Kendrick-lamar-poetic-justice-lyrics</td>\n",
       "      <td>\\n\\n[Produced by Scoop DeVille &amp; Sounwave]\\n\\n...</td>\n",
       "      <td>2012</td>\n",
       "      <td>Poetic Justice</td>\n",
       "      <td>Kendrick-lamar</td>\n",
       "      <td>4137688.0</td>\n",
       "    </tr>\n",
       "    <tr>\n",
       "      <th>6</th>\n",
       "      <td>Kendrick-lamar-bitch-dont-kill-my-vibe-lyrics</td>\n",
       "      <td>\\n\\n[Produced by Sounwave]\\n\\n[Chorus]\\nI am a...</td>\n",
       "      <td>2012</td>\n",
       "      <td>Bitch, Don’t Kill My Vibe</td>\n",
       "      <td>Kendrick-lamar</td>\n",
       "      <td>4455762.0</td>\n",
       "    </tr>\n",
       "    <tr>\n",
       "      <th>7</th>\n",
       "      <td>Kendrick-lamar-king-kunta-lyrics</td>\n",
       "      <td>\\n\\n[Produced by Sounwave; Additional producti...</td>\n",
       "      <td>2015</td>\n",
       "      <td>King Kunta</td>\n",
       "      <td>Kendrick-lamar</td>\n",
       "      <td>3976102.0</td>\n",
       "    </tr>\n",
       "    <tr>\n",
       "      <th>8</th>\n",
       "      <td>Kendrick-lamar-element-lyrics</td>\n",
       "      <td>\\n\\n[Intro: Kid Capri &amp; Kendrick Lamar]\\nNew K...</td>\n",
       "      <td>2017</td>\n",
       "      <td>ELEMENT.</td>\n",
       "      <td>Kendrick-lamar</td>\n",
       "      <td>2506800.0</td>\n",
       "    </tr>\n",
       "    <tr>\n",
       "      <th>9</th>\n",
       "      <td>Kendrick-lamar-the-blacker-the-berry-lyrics</td>\n",
       "      <td>\\n\\n[Produced by Boi-1da &amp; Koz]\\n\\n[Intro: Ken...</td>\n",
       "      <td>2015</td>\n",
       "      <td>The Blacker the Berry</td>\n",
       "      <td>Kendrick-lamar</td>\n",
       "      <td>2557473.0</td>\n",
       "    </tr>\n",
       "  </tbody>\n",
       "</table>\n",
       "</div>"
      ],
      "text/plain": [
       "                                            song  \\\n",
       "0     Kendrick-lamar-swimming-pools-drank-lyrics   \n",
       "1              Kendrick-lamar-money-trees-lyrics   \n",
       "2                      Kendrick-lamar-xxx-lyrics   \n",
       "3              A-ap-rocky-fuckin-problems-lyrics   \n",
       "4                      Kendrick-lamar-dna-lyrics   \n",
       "5           Kendrick-lamar-poetic-justice-lyrics   \n",
       "6  Kendrick-lamar-bitch-dont-kill-my-vibe-lyrics   \n",
       "7               Kendrick-lamar-king-kunta-lyrics   \n",
       "8                  Kendrick-lamar-element-lyrics   \n",
       "9    Kendrick-lamar-the-blacker-the-berry-lyrics   \n",
       "\n",
       "                                              lyrics  release_year  \\\n",
       "0  \\n\\n[Produced by T-Minus]\\n\\n[Intro]\\nPour up ...          2012   \n",
       "1  \\n\\n[Produced by DJ Dahi]\\n\\n[Verse 1: Kendric...          2012   \n",
       "2  \\n\\n[Intro: Bēkon & Kid Capri]\\nAmerica, God b...          2017   \n",
       "3  \\n\\n[Chorus: 2 Chainz, Drake & Both (A$AP Rock...          2012   \n",
       "4  \\n\\n[Verse 1]\\nI got, I got, I got, I got—\\nLo...          2017   \n",
       "5  \\n\\n[Produced by Scoop DeVille & Sounwave]\\n\\n...          2012   \n",
       "6  \\n\\n[Produced by Sounwave]\\n\\n[Chorus]\\nI am a...          2012   \n",
       "7  \\n\\n[Produced by Sounwave; Additional producti...          2015   \n",
       "8  \\n\\n[Intro: Kid Capri & Kendrick Lamar]\\nNew K...          2017   \n",
       "9  \\n\\n[Produced by Boi-1da & Koz]\\n\\n[Intro: Ken...          2015   \n",
       "\n",
       "                       title  primary_artist      views  \n",
       "0     Swimming Pools (Drank)  Kendrick-lamar  5589280.0  \n",
       "1                Money Trees  Kendrick-lamar  4592003.0  \n",
       "2                       XXX.  Kendrick-lamar  4651514.0  \n",
       "3           Fuckin’ Problems      A-ap-rocky  7378309.0  \n",
       "4                       DNA.  Kendrick-lamar  5113687.0  \n",
       "5             Poetic Justice  Kendrick-lamar  4137688.0  \n",
       "6  Bitch, Don’t Kill My Vibe  Kendrick-lamar  4455762.0  \n",
       "7                 King Kunta  Kendrick-lamar  3976102.0  \n",
       "8                   ELEMENT.  Kendrick-lamar  2506800.0  \n",
       "9      The Blacker the Berry  Kendrick-lamar  2557473.0  "
      ]
     },
     "metadata": {},
     "output_type": "display_data"
    },
    {
     "data": {
      "text/plain": [
       "(35782, 6)"
      ]
     },
     "metadata": {},
     "output_type": "display_data"
    },
    {
     "name": "stdout",
     "output_type": "stream",
     "text": [
      "<class 'pandas.core.frame.DataFrame'>\n",
      "Int64Index: 35782 entries, 0 to 35781\n",
      "Data columns (total 6 columns):\n",
      " #   Column          Non-Null Count  Dtype  \n",
      "---  ------          --------------  -----  \n",
      " 0   song            35782 non-null  object \n",
      " 1   lyrics          35782 non-null  object \n",
      " 2   release_year    35782 non-null  int64  \n",
      " 3   title           35782 non-null  object \n",
      " 4   primary_artist  35782 non-null  object \n",
      " 5   views           35782 non-null  float64\n",
      "dtypes: float64(1), int64(1), object(4)\n",
      "memory usage: 1.9+ MB\n"
     ]
    },
    {
     "data": {
      "text/plain": [
       "None"
      ]
     },
     "metadata": {},
     "output_type": "display_data"
    }
   ],
   "source": [
    "# Raw uncleaned df.\n",
    "display(raw_combined_df.head(10))\n",
    "display(raw_combined_df.shape)\n",
    "display(raw_combined_df.info())"
   ]
  },
  {
   "cell_type": "code",
   "execution_count": 24,
   "metadata": {},
   "outputs": [
    {
     "data": {
      "text/plain": [
       "0.0"
      ]
     },
     "execution_count": 24,
     "metadata": {},
     "output_type": "execute_result"
    }
   ],
   "source": [
    "# Check for any duplicated songs\n",
    "raw_combined_df.duplicated().mean()"
   ]
  },
  {
   "cell_type": "code",
   "execution_count": 25,
   "metadata": {},
   "outputs": [
    {
     "data": {
      "text/plain": [
       "(1962, 2020)"
      ]
     },
     "execution_count": 25,
     "metadata": {},
     "output_type": "execute_result"
    }
   ],
   "source": [
    "raw_combined_df.release_year.min(), raw_combined_df.release_year.max()"
   ]
  },
  {
   "attachments": {},
   "cell_type": "markdown",
   "metadata": {},
   "source": [
    "We have successfully combined the lyrics data with the song info data. Additionally, we checked that there are no duplicated songs. The release year range has also reduced considerably to 1962 to 2020. "
   ]
  },
  {
   "attachments": {},
   "cell_type": "markdown",
   "metadata": {},
   "source": [
    "## Cleaning the Lyrics"
   ]
  },
  {
   "attachments": {},
   "cell_type": "markdown",
   "metadata": {},
   "source": [
    "This next step will deal with cleaning the punctuation and removing excess information from the lyrics. "
   ]
  },
  {
   "cell_type": "code",
   "execution_count": 26,
   "metadata": {},
   "outputs": [
    {
     "data": {
      "text/plain": [
       "\"\\n\\n[Produced by T-Minus]\\n\\n[Intro]\\nPour up (Drank), head shot (Drank)\\nSit down (Drank), stand up (Drank)\\nPass out (Drank), wake up (Drank)\\nFaded (Drank), faded (Drank)\\n\\n[Verse 1]\\nNow I done grew up 'round some people livin' their life in bottles\\nGranddaddy had the golden flask\\nBackstroke every day in Chicago\\nSome people like the way it feels\\nSome people wanna kill their sorrows\\nSome people wanna fit in with the popular, that was my problem\\nI was in a dark room, loud tunes\\nLookin' to make a vow soon\\nThat I'ma get fucked up, fillin' up my cup I see the crowd mood\\nChangin' by the minute and the record on repeat\\nTook a sip, then another sip, then somebody said to me\\n\\n[Chorus]\\nNigga, why you babysittin' only two or three shots?\\nI'ma show you how to turn it up a notch\\nFirst you get a swimming pool full of liquor, then you dive in it\\nPool full of liquor, then you dive in it\\nI wave a few bottles, then I watch 'em all flock\\nAll the girls wanna play Baywatch\\nI got a swimming pool full of liquor and they dive in it\\nPool full of liquor, I'ma dive in it\\n\\n[Refrain]\\nPour up (Drank), head shot (Drank)\\nSit down (Drank), stand up (Drank)\\nPass out (Drank), wake up (Drank)\\nFaded (Drank), faded (Drank)\\n\\n[Verse 2]\\nOkay, now open your mind up and listen me, Kendrick\\nI am your conscience, if you do not hear me\\nThen you will be history, Kendrick\\nI know that you're nauseous right now\\nAnd I'm hopin' to lead you to victory, Kendrick\\nIf I take another one down\\nI'ma drown in some poison, abusin' my limit\\nI think that I'm feelin' the vibe, I see the love in her eyes\\nI see the feelin', the freedom is granted\\nAs soon as the damage of vodka arrived\\nThis how you capitalize, this is parental advice\\nThen apparently, I'm over-influenced by what you are doin'\\nI thought I was doin' the most 'til someone said to me\\n\\n[Chorus]\\nNigga, why you babysittin' only two or three shots?\\nI'ma show you how to turn it up a notch\\nFirst you get a swimming pool full of liquor, then you dive in it\\nPool full of liquor, then you dive in it\\nI wave a few bottles, then I watch 'em all flock\\nAll the girls wanna play Baywatch\\nI got a swimming pool full of liquor and they dive in it\\nPool full of liquor, I'ma dive in it\\n\\n[Refrain]\\nPour up (Drank), head shot (Drank)\\nSit down (Drank), stand up (Drank)\\nPass out (Drank), wake up (Drank)\\nFaded (Drank), faded (Drank)\\n\\n[Bridge]\\nI ride, you ride, bang\\nOne chopper, 100 shots, bang\\nHop out, do you bang?\\nTwo chopper, 200 shots, bang\\nI ride, you ride, bang\\nOne chopper, 100 shots, bang\\nHop out, do you bang?\\nTwo chopper, 200 shots, bang\\n\\n[Chorus]\\nNigga, why you babysittin' only two or three shots?\\nI'ma show you how to turn it up a notch\\nFirst you get a swimming pool full of liquor, then you dive in it\\nPool full of liquor, then you dive in it\\nI wave a few bottles, then I watch 'em all flock\\nAll the girls wanna play Baywatch\\nI got a swimming pool full of liquor and they dive in it\\nPool full of liquor, I'ma dive in it\\n\\n[Refrain]\\nPour up (Drank), head shot (Drank)\\nSit down (Drank), stand up (Drank)\\nPass out (Drank), wake up (Drank)\\nFaded (Drank), faded (Drank)\\n\\n[Interlude: Sherane]\\nAw man… where is she takin' me?\\nWhere is she takin' me?\\n\\n[Verse 3]\\nAll I have in life is my new appetite for failure\\nAnd I got hunger pain that grow insane\\nTell me, do that sound familiar?\\nIf it do, then you're like me\\nMakin' excuse that your relief\\nIs in the bottom of the bottle and the greenest indo leaf\\nAs the window open I release\\nEverything that corrode inside of me\\nI see you jokin', why you laugh?\\nDon't you feel bad? I probably sleep\\nAnd never ever wake up, never ever wake up, never ever wake up\\nIn God I trust, but just when I thought I had enough\\n\\n[Outro]\\nThey stomped the homie out over a bitch?\\nK-dot, you good, blood?\\nNow we can drop, ye we can drop you back off\\nThat nigga's straight, man, that nigga ain't trippin'\\nWe gon' do the same ol' shit\\nI'ma pop a few shots, they gon' run, they gon' run opposite ways\\nFall right in ****'s lap\\nAnd he gon' tear they ass up, simple as that\\nAnd I hope that bitch that set him up out there\\nWe gon' pop that bitch too\\nWait hold up, ayy, I see somebody\\n[Car door opens and gunshots are fired]\\nAha! Got them niggas, K-Dot, you good?\\nL****, you good?\\nYeah, blood, I'm good – Dave, you good?\\nDave? Dave, say somethin' – Dave?\\nThese bitch-ass niggas killed my brother!\\n\\n\""
      ]
     },
     "metadata": {},
     "output_type": "display_data"
    }
   ],
   "source": [
    "display(raw_combined_df.lyrics[0])"
   ]
  },
  {
   "attachments": {},
   "cell_type": "markdown",
   "metadata": {},
   "source": [
    "We can see that the raw lyrics contain multiple issues that could impede vectorization, namely:\n",
    "- Punctuation\n",
    "- `\\n` delimiters \n",
    "- Tags for different parts of the lyrics. \n",
    "\n",
    "We will aim to eliminate all these issues. More detail can be found in the `utils` module. "
   ]
  },
  {
   "cell_type": "code",
   "execution_count": 27,
   "metadata": {},
   "outputs": [],
   "source": [
    "raw_combined_df['cleaned_lyrics'] = raw_combined_df['lyrics'].apply(utils.clean_lyrics)"
   ]
  },
  {
   "cell_type": "code",
   "execution_count": 28,
   "metadata": {},
   "outputs": [
    {
     "data": {
      "text/html": [
       "<div>\n",
       "<style scoped>\n",
       "    .dataframe tbody tr th:only-of-type {\n",
       "        vertical-align: middle;\n",
       "    }\n",
       "\n",
       "    .dataframe tbody tr th {\n",
       "        vertical-align: top;\n",
       "    }\n",
       "\n",
       "    .dataframe thead th {\n",
       "        text-align: right;\n",
       "    }\n",
       "</style>\n",
       "<table border=\"1\" class=\"dataframe\">\n",
       "  <thead>\n",
       "    <tr style=\"text-align: right;\">\n",
       "      <th></th>\n",
       "      <th>song</th>\n",
       "      <th>lyrics</th>\n",
       "      <th>release_year</th>\n",
       "      <th>title</th>\n",
       "      <th>primary_artist</th>\n",
       "      <th>views</th>\n",
       "      <th>cleaned_lyrics</th>\n",
       "    </tr>\n",
       "  </thead>\n",
       "  <tbody>\n",
       "    <tr>\n",
       "      <th>0</th>\n",
       "      <td>Kendrick-lamar-swimming-pools-drank-lyrics</td>\n",
       "      <td>\\n\\n[Produced by T-Minus]\\n\\n[Intro]\\nPour up ...</td>\n",
       "      <td>2012</td>\n",
       "      <td>Swimming Pools (Drank)</td>\n",
       "      <td>Kendrick-lamar</td>\n",
       "      <td>5589280.0</td>\n",
       "      <td>pour up drank head shot drank sit down drank ...</td>\n",
       "    </tr>\n",
       "    <tr>\n",
       "      <th>1</th>\n",
       "      <td>Kendrick-lamar-money-trees-lyrics</td>\n",
       "      <td>\\n\\n[Produced by DJ Dahi]\\n\\n[Verse 1: Kendric...</td>\n",
       "      <td>2012</td>\n",
       "      <td>Money Trees</td>\n",
       "      <td>Kendrick-lamar</td>\n",
       "      <td>4592003.0</td>\n",
       "      <td>uh me and my niggas tryna get it ya bish ya b...</td>\n",
       "    </tr>\n",
       "    <tr>\n",
       "      <th>2</th>\n",
       "      <td>Kendrick-lamar-xxx-lyrics</td>\n",
       "      <td>\\n\\n[Intro: Bēkon &amp; Kid Capri]\\nAmerica, God b...</td>\n",
       "      <td>2017</td>\n",
       "      <td>XXX.</td>\n",
       "      <td>Kendrick-lamar</td>\n",
       "      <td>4651514.0</td>\n",
       "      <td>america god bless you if its good to you amer...</td>\n",
       "    </tr>\n",
       "    <tr>\n",
       "      <th>3</th>\n",
       "      <td>A-ap-rocky-fuckin-problems-lyrics</td>\n",
       "      <td>\\n\\n[Chorus: 2 Chainz, Drake &amp; Both (A$AP Rock...</td>\n",
       "      <td>2012</td>\n",
       "      <td>Fuckin’ Problems</td>\n",
       "      <td>A-ap-rocky</td>\n",
       "      <td>7378309.0</td>\n",
       "      <td>i love bad bitches thats my fuckin problem an...</td>\n",
       "    </tr>\n",
       "    <tr>\n",
       "      <th>4</th>\n",
       "      <td>Kendrick-lamar-dna-lyrics</td>\n",
       "      <td>\\n\\n[Verse 1]\\nI got, I got, I got, I got—\\nLo...</td>\n",
       "      <td>2017</td>\n",
       "      <td>DNA.</td>\n",
       "      <td>Kendrick-lamar</td>\n",
       "      <td>5113687.0</td>\n",
       "      <td>i got i got i got i got loyalty got royalty i...</td>\n",
       "    </tr>\n",
       "  </tbody>\n",
       "</table>\n",
       "</div>"
      ],
      "text/plain": [
       "                                         song  \\\n",
       "0  Kendrick-lamar-swimming-pools-drank-lyrics   \n",
       "1           Kendrick-lamar-money-trees-lyrics   \n",
       "2                   Kendrick-lamar-xxx-lyrics   \n",
       "3           A-ap-rocky-fuckin-problems-lyrics   \n",
       "4                   Kendrick-lamar-dna-lyrics   \n",
       "\n",
       "                                              lyrics  release_year  \\\n",
       "0  \\n\\n[Produced by T-Minus]\\n\\n[Intro]\\nPour up ...          2012   \n",
       "1  \\n\\n[Produced by DJ Dahi]\\n\\n[Verse 1: Kendric...          2012   \n",
       "2  \\n\\n[Intro: Bēkon & Kid Capri]\\nAmerica, God b...          2017   \n",
       "3  \\n\\n[Chorus: 2 Chainz, Drake & Both (A$AP Rock...          2012   \n",
       "4  \\n\\n[Verse 1]\\nI got, I got, I got, I got—\\nLo...          2017   \n",
       "\n",
       "                    title  primary_artist      views  \\\n",
       "0  Swimming Pools (Drank)  Kendrick-lamar  5589280.0   \n",
       "1             Money Trees  Kendrick-lamar  4592003.0   \n",
       "2                    XXX.  Kendrick-lamar  4651514.0   \n",
       "3        Fuckin’ Problems      A-ap-rocky  7378309.0   \n",
       "4                    DNA.  Kendrick-lamar  5113687.0   \n",
       "\n",
       "                                      cleaned_lyrics  \n",
       "0   pour up drank head shot drank sit down drank ...  \n",
       "1   uh me and my niggas tryna get it ya bish ya b...  \n",
       "2   america god bless you if its good to you amer...  \n",
       "3   i love bad bitches thats my fuckin problem an...  \n",
       "4   i got i got i got i got loyalty got royalty i...  "
      ]
     },
     "metadata": {},
     "output_type": "display_data"
    },
    {
     "data": {
      "text/plain": [
       "(35782, 7)"
      ]
     },
     "execution_count": 28,
     "metadata": {},
     "output_type": "execute_result"
    }
   ],
   "source": [
    "display(raw_combined_df.head()),\n",
    "raw_combined_df.shape"
   ]
  },
  {
   "attachments": {},
   "cell_type": "markdown",
   "metadata": {},
   "source": [
    "We see that we have successfuuly converted the raw lyrics into `cleaned_lyrics`."
   ]
  },
  {
   "attachments": {},
   "cell_type": "markdown",
   "metadata": {},
   "source": [
    "# Detecting Language"
   ]
  },
  {
   "attachments": {},
   "cell_type": "markdown",
   "metadata": {},
   "source": [
    "Our next step is to find only english songs to reduce the noise in the dataset introduced by songs that are not in english. We will use a pretrained Fasttext model trained for language detection. This is model performs faster than the Spacy language detection model. \n",
    "The Fasttext Language detection model found [here](https://dl.fbaipublicfiles.com/fasttext/supervised-models/lid.176.bin)"
   ]
  },
  {
   "cell_type": "code",
   "execution_count": 29,
   "metadata": {},
   "outputs": [],
   "source": [
    "\n",
    "import fasttext\n",
    "\n",
    "language = []\n",
    "path_to_pretrained_model = utils.get_datapath('data') / 'language_detect' / 'lid.176.bin'\n"
   ]
  },
  {
   "cell_type": "code",
   "execution_count": 30,
   "metadata": {},
   "outputs": [
    {
     "name": "stderr",
     "output_type": "stream",
     "text": [
      "Warning : `load_model` does not return WordVectorModel or SupervisedModel any more, but a `FastText` object which is very similar.\n"
     ]
    }
   ],
   "source": [
    "# Model for language detection.\n",
    "fmodel = fasttext.load_model(str(path_to_pretrained_model))\n"
   ]
  },
  {
   "cell_type": "code",
   "execution_count": 31,
   "metadata": {},
   "outputs": [
    {
     "name": "stderr",
     "output_type": "stream",
     "text": [
      "100%|██████████| 35782/35782 [00:04<00:00, 8535.81it/s]\n"
     ]
    }
   ],
   "source": [
    "language = []\n",
    "\n",
    "for lyric in tqdm(raw_combined_df['cleaned_lyrics']):\n",
    "    # fasttext model.predict returns a tuple of the language label and a score. \n",
    "    # The language label is another tuple, where the 0 index is the actual language label itself.\n",
    "    # This label is in the format '__label__en'. So need to index the last two characters to get the actual language. \n",
    "    \n",
    "    language.append(fmodel.predict(lyric)[0][0][-2:])\n",
    "    \n"
   ]
  },
  {
   "cell_type": "code",
   "execution_count": 32,
   "metadata": {},
   "outputs": [
    {
     "data": {
      "text/plain": [
       "26"
      ]
     },
     "execution_count": 32,
     "metadata": {},
     "output_type": "execute_result"
    }
   ],
   "source": [
    "# Number of unique languages\n",
    "len(np.unique(np.array(language)))"
   ]
  },
  {
   "cell_type": "code",
   "execution_count": 33,
   "metadata": {},
   "outputs": [],
   "source": [
    "# Assign language to the dataset.\n",
    "raw_combined_df['language'] = language"
   ]
  },
  {
   "cell_type": "code",
   "execution_count": 34,
   "metadata": {},
   "outputs": [],
   "source": [
    "english_songs_df = raw_combined_df[\n",
    "    raw_combined_df['language'] == 'en'\n",
    "]"
   ]
  },
  {
   "cell_type": "code",
   "execution_count": 35,
   "metadata": {},
   "outputs": [
    {
     "data": {
      "text/html": [
       "<div>\n",
       "<style scoped>\n",
       "    .dataframe tbody tr th:only-of-type {\n",
       "        vertical-align: middle;\n",
       "    }\n",
       "\n",
       "    .dataframe tbody tr th {\n",
       "        vertical-align: top;\n",
       "    }\n",
       "\n",
       "    .dataframe thead th {\n",
       "        text-align: right;\n",
       "    }\n",
       "</style>\n",
       "<table border=\"1\" class=\"dataframe\">\n",
       "  <thead>\n",
       "    <tr style=\"text-align: right;\">\n",
       "      <th></th>\n",
       "      <th>song</th>\n",
       "      <th>lyrics</th>\n",
       "      <th>release_year</th>\n",
       "      <th>title</th>\n",
       "      <th>primary_artist</th>\n",
       "      <th>views</th>\n",
       "      <th>cleaned_lyrics</th>\n",
       "      <th>language</th>\n",
       "    </tr>\n",
       "  </thead>\n",
       "  <tbody>\n",
       "    <tr>\n",
       "      <th>0</th>\n",
       "      <td>Kendrick-lamar-swimming-pools-drank-lyrics</td>\n",
       "      <td>\\n\\n[Produced by T-Minus]\\n\\n[Intro]\\nPour up ...</td>\n",
       "      <td>2012</td>\n",
       "      <td>Swimming Pools (Drank)</td>\n",
       "      <td>Kendrick-lamar</td>\n",
       "      <td>5589280.0</td>\n",
       "      <td>pour up drank head shot drank sit down drank ...</td>\n",
       "      <td>en</td>\n",
       "    </tr>\n",
       "    <tr>\n",
       "      <th>1</th>\n",
       "      <td>Kendrick-lamar-money-trees-lyrics</td>\n",
       "      <td>\\n\\n[Produced by DJ Dahi]\\n\\n[Verse 1: Kendric...</td>\n",
       "      <td>2012</td>\n",
       "      <td>Money Trees</td>\n",
       "      <td>Kendrick-lamar</td>\n",
       "      <td>4592003.0</td>\n",
       "      <td>uh me and my niggas tryna get it ya bish ya b...</td>\n",
       "      <td>en</td>\n",
       "    </tr>\n",
       "    <tr>\n",
       "      <th>2</th>\n",
       "      <td>Kendrick-lamar-xxx-lyrics</td>\n",
       "      <td>\\n\\n[Intro: Bēkon &amp; Kid Capri]\\nAmerica, God b...</td>\n",
       "      <td>2017</td>\n",
       "      <td>XXX.</td>\n",
       "      <td>Kendrick-lamar</td>\n",
       "      <td>4651514.0</td>\n",
       "      <td>america god bless you if its good to you amer...</td>\n",
       "      <td>en</td>\n",
       "    </tr>\n",
       "    <tr>\n",
       "      <th>3</th>\n",
       "      <td>A-ap-rocky-fuckin-problems-lyrics</td>\n",
       "      <td>\\n\\n[Chorus: 2 Chainz, Drake &amp; Both (A$AP Rock...</td>\n",
       "      <td>2012</td>\n",
       "      <td>Fuckin’ Problems</td>\n",
       "      <td>A-ap-rocky</td>\n",
       "      <td>7378309.0</td>\n",
       "      <td>i love bad bitches thats my fuckin problem an...</td>\n",
       "      <td>en</td>\n",
       "    </tr>\n",
       "    <tr>\n",
       "      <th>4</th>\n",
       "      <td>Kendrick-lamar-dna-lyrics</td>\n",
       "      <td>\\n\\n[Verse 1]\\nI got, I got, I got, I got—\\nLo...</td>\n",
       "      <td>2017</td>\n",
       "      <td>DNA.</td>\n",
       "      <td>Kendrick-lamar</td>\n",
       "      <td>5113687.0</td>\n",
       "      <td>i got i got i got i got loyalty got royalty i...</td>\n",
       "      <td>en</td>\n",
       "    </tr>\n",
       "  </tbody>\n",
       "</table>\n",
       "</div>"
      ],
      "text/plain": [
       "                                         song  \\\n",
       "0  Kendrick-lamar-swimming-pools-drank-lyrics   \n",
       "1           Kendrick-lamar-money-trees-lyrics   \n",
       "2                   Kendrick-lamar-xxx-lyrics   \n",
       "3           A-ap-rocky-fuckin-problems-lyrics   \n",
       "4                   Kendrick-lamar-dna-lyrics   \n",
       "\n",
       "                                              lyrics  release_year  \\\n",
       "0  \\n\\n[Produced by T-Minus]\\n\\n[Intro]\\nPour up ...          2012   \n",
       "1  \\n\\n[Produced by DJ Dahi]\\n\\n[Verse 1: Kendric...          2012   \n",
       "2  \\n\\n[Intro: Bēkon & Kid Capri]\\nAmerica, God b...          2017   \n",
       "3  \\n\\n[Chorus: 2 Chainz, Drake & Both (A$AP Rock...          2012   \n",
       "4  \\n\\n[Verse 1]\\nI got, I got, I got, I got—\\nLo...          2017   \n",
       "\n",
       "                    title  primary_artist      views  \\\n",
       "0  Swimming Pools (Drank)  Kendrick-lamar  5589280.0   \n",
       "1             Money Trees  Kendrick-lamar  4592003.0   \n",
       "2                    XXX.  Kendrick-lamar  4651514.0   \n",
       "3        Fuckin’ Problems      A-ap-rocky  7378309.0   \n",
       "4                    DNA.  Kendrick-lamar  5113687.0   \n",
       "\n",
       "                                      cleaned_lyrics language  \n",
       "0   pour up drank head shot drank sit down drank ...       en  \n",
       "1   uh me and my niggas tryna get it ya bish ya b...       en  \n",
       "2   america god bless you if its good to you amer...       en  \n",
       "3   i love bad bitches thats my fuckin problem an...       en  \n",
       "4   i got i got i got i got loyalty got royalty i...       en  "
      ]
     },
     "metadata": {},
     "output_type": "display_data"
    },
    {
     "data": {
      "text/plain": [
       "(33842, 8)"
      ]
     },
     "metadata": {},
     "output_type": "display_data"
    }
   ],
   "source": [
    "display(english_songs_df.head())\n",
    "display(english_songs_df.shape)"
   ]
  },
  {
   "attachments": {},
   "cell_type": "markdown",
   "metadata": {},
   "source": [
    "# Exploring Views and Splitting Views"
   ]
  },
  {
   "attachments": {},
   "cell_type": "markdown",
   "metadata": {},
   "source": [
    "We will now take a look at the target, the page `views` on Genius.com. "
   ]
  },
  {
   "cell_type": "code",
   "execution_count": 36,
   "metadata": {},
   "outputs": [
    {
     "data": {
      "image/png": "[encoded data removed]",
      "text/plain": [
       "<Figure size 640x480 with 1 Axes>"
      ]
     },
     "metadata": {},
     "output_type": "display_data"
    }
   ],
   "source": [
    "plt.hist(raw_combined_df['views'], bins=100);"
   ]
  },
  {
   "attachments": {},
   "cell_type": "markdown",
   "metadata": {},
   "source": [
    "We can see that there is a large right skew to the dataset. We can try to mitigate this by log-transforming the views."
   ]
  },
  {
   "cell_type": "code",
   "execution_count": 37,
   "metadata": {},
   "outputs": [
    {
     "data": {
      "image/png": "[encoded data removed]",
      "text/plain": [
       "<Figure size 640x480 with 1 Axes>"
      ]
     },
     "metadata": {},
     "output_type": "display_data"
    }
   ],
   "source": [
    "plt.figure()\n",
    "plt.hist(np.log(raw_combined_df['views']), bins=100)\n",
    "plt.title('Distribution of ln(views)'.title())\n",
    "plt.show()"
   ]
  },
  {
   "cell_type": "code",
   "execution_count": 38,
   "metadata": {},
   "outputs": [
    {
     "name": "stderr",
     "output_type": "stream",
     "text": [
      "/tmp/ipykernel_1141/1080093808.py:1: SettingWithCopyWarning: \n",
      "A value is trying to be set on a copy of a slice from a DataFrame.\n",
      "Try using .loc[row_indexer,col_indexer] = value instead\n",
      "\n",
      "See the caveats in the documentation: https://pandas.pydata.org/pandas-docs/stable/user_guide/indexing.html#returning-a-view-versus-a-copy\n",
      "  english_songs_df['log_scaled_views'] = np.log(raw_combined_df['views'])\n"
     ]
    },
    {
     "data": {
      "text/html": [
       "<div>\n",
       "<style scoped>\n",
       "    .dataframe tbody tr th:only-of-type {\n",
       "        vertical-align: middle;\n",
       "    }\n",
       "\n",
       "    .dataframe tbody tr th {\n",
       "        vertical-align: top;\n",
       "    }\n",
       "\n",
       "    .dataframe thead th {\n",
       "        text-align: right;\n",
       "    }\n",
       "</style>\n",
       "<table border=\"1\" class=\"dataframe\">\n",
       "  <thead>\n",
       "    <tr style=\"text-align: right;\">\n",
       "      <th></th>\n",
       "      <th>song</th>\n",
       "      <th>lyrics</th>\n",
       "      <th>release_year</th>\n",
       "      <th>title</th>\n",
       "      <th>primary_artist</th>\n",
       "      <th>views</th>\n",
       "      <th>cleaned_lyrics</th>\n",
       "      <th>language</th>\n",
       "      <th>log_scaled_views</th>\n",
       "    </tr>\n",
       "  </thead>\n",
       "  <tbody>\n",
       "    <tr>\n",
       "      <th>0</th>\n",
       "      <td>Kendrick-lamar-swimming-pools-drank-lyrics</td>\n",
       "      <td>\\n\\n[Produced by T-Minus]\\n\\n[Intro]\\nPour up ...</td>\n",
       "      <td>2012</td>\n",
       "      <td>Swimming Pools (Drank)</td>\n",
       "      <td>Kendrick-lamar</td>\n",
       "      <td>5589280.0</td>\n",
       "      <td>pour up drank head shot drank sit down drank ...</td>\n",
       "      <td>en</td>\n",
       "      <td>15.536361</td>\n",
       "    </tr>\n",
       "    <tr>\n",
       "      <th>1</th>\n",
       "      <td>Kendrick-lamar-money-trees-lyrics</td>\n",
       "      <td>\\n\\n[Produced by DJ Dahi]\\n\\n[Verse 1: Kendric...</td>\n",
       "      <td>2012</td>\n",
       "      <td>Money Trees</td>\n",
       "      <td>Kendrick-lamar</td>\n",
       "      <td>4592003.0</td>\n",
       "      <td>uh me and my niggas tryna get it ya bish ya b...</td>\n",
       "      <td>en</td>\n",
       "      <td>15.339827</td>\n",
       "    </tr>\n",
       "    <tr>\n",
       "      <th>2</th>\n",
       "      <td>Kendrick-lamar-xxx-lyrics</td>\n",
       "      <td>\\n\\n[Intro: Bēkon &amp; Kid Capri]\\nAmerica, God b...</td>\n",
       "      <td>2017</td>\n",
       "      <td>XXX.</td>\n",
       "      <td>Kendrick-lamar</td>\n",
       "      <td>4651514.0</td>\n",
       "      <td>america god bless you if its good to you amer...</td>\n",
       "      <td>en</td>\n",
       "      <td>15.352703</td>\n",
       "    </tr>\n",
       "    <tr>\n",
       "      <th>3</th>\n",
       "      <td>A-ap-rocky-fuckin-problems-lyrics</td>\n",
       "      <td>\\n\\n[Chorus: 2 Chainz, Drake &amp; Both (A$AP Rock...</td>\n",
       "      <td>2012</td>\n",
       "      <td>Fuckin’ Problems</td>\n",
       "      <td>A-ap-rocky</td>\n",
       "      <td>7378309.0</td>\n",
       "      <td>i love bad bitches thats my fuckin problem an...</td>\n",
       "      <td>en</td>\n",
       "      <td>15.814055</td>\n",
       "    </tr>\n",
       "    <tr>\n",
       "      <th>4</th>\n",
       "      <td>Kendrick-lamar-dna-lyrics</td>\n",
       "      <td>\\n\\n[Verse 1]\\nI got, I got, I got, I got—\\nLo...</td>\n",
       "      <td>2017</td>\n",
       "      <td>DNA.</td>\n",
       "      <td>Kendrick-lamar</td>\n",
       "      <td>5113687.0</td>\n",
       "      <td>i got i got i got i got loyalty got royalty i...</td>\n",
       "      <td>en</td>\n",
       "      <td>15.447431</td>\n",
       "    </tr>\n",
       "  </tbody>\n",
       "</table>\n",
       "</div>"
      ],
      "text/plain": [
       "                                         song  \\\n",
       "0  Kendrick-lamar-swimming-pools-drank-lyrics   \n",
       "1           Kendrick-lamar-money-trees-lyrics   \n",
       "2                   Kendrick-lamar-xxx-lyrics   \n",
       "3           A-ap-rocky-fuckin-problems-lyrics   \n",
       "4                   Kendrick-lamar-dna-lyrics   \n",
       "\n",
       "                                              lyrics  release_year  \\\n",
       "0  \\n\\n[Produced by T-Minus]\\n\\n[Intro]\\nPour up ...          2012   \n",
       "1  \\n\\n[Produced by DJ Dahi]\\n\\n[Verse 1: Kendric...          2012   \n",
       "2  \\n\\n[Intro: Bēkon & Kid Capri]\\nAmerica, God b...          2017   \n",
       "3  \\n\\n[Chorus: 2 Chainz, Drake & Both (A$AP Rock...          2012   \n",
       "4  \\n\\n[Verse 1]\\nI got, I got, I got, I got—\\nLo...          2017   \n",
       "\n",
       "                    title  primary_artist      views  \\\n",
       "0  Swimming Pools (Drank)  Kendrick-lamar  5589280.0   \n",
       "1             Money Trees  Kendrick-lamar  4592003.0   \n",
       "2                    XXX.  Kendrick-lamar  4651514.0   \n",
       "3        Fuckin’ Problems      A-ap-rocky  7378309.0   \n",
       "4                    DNA.  Kendrick-lamar  5113687.0   \n",
       "\n",
       "                                      cleaned_lyrics language  \\\n",
       "0   pour up drank head shot drank sit down drank ...       en   \n",
       "1   uh me and my niggas tryna get it ya bish ya b...       en   \n",
       "2   america god bless you if its good to you amer...       en   \n",
       "3   i love bad bitches thats my fuckin problem an...       en   \n",
       "4   i got i got i got i got loyalty got royalty i...       en   \n",
       "\n",
       "   log_scaled_views  \n",
       "0         15.536361  \n",
       "1         15.339827  \n",
       "2         15.352703  \n",
       "3         15.814055  \n",
       "4         15.447431  "
      ]
     },
     "execution_count": 38,
     "metadata": {},
     "output_type": "execute_result"
    }
   ],
   "source": [
    "english_songs_df['log_scaled_views'] = np.log(raw_combined_df['views'])\n",
    "english_songs_df.head()"
   ]
  },
  {
   "attachments": {},
   "cell_type": "markdown",
   "metadata": {},
   "source": [
    "Next we also binarize the log-transformed `views` to also allow for classification."
   ]
  },
  {
   "cell_type": "code",
   "execution_count": 39,
   "metadata": {},
   "outputs": [
    {
     "name": "stderr",
     "output_type": "stream",
     "text": [
      "/tmp/ipykernel_1141/1843756530.py:1: SettingWithCopyWarning: \n",
      "A value is trying to be set on a copy of a slice from a DataFrame.\n",
      "Try using .loc[row_indexer,col_indexer] = value instead\n",
      "\n",
      "See the caveats in the documentation: https://pandas.pydata.org/pandas-docs/stable/user_guide/indexing.html#returning-a-view-versus-a-copy\n",
      "  english_songs_df['popular'] = pd.cut(\n"
     ]
    }
   ],
   "source": [
    "english_songs_df['popular'] = pd.cut(\n",
    "    english_songs_df['log_scaled_views'], \n",
    "    bins = [0,english_songs_df['log_scaled_views'].median(), english_songs_df['log_scaled_views'].max()], \n",
    "    labels = [0,1]\n",
    "    )"
   ]
  },
  {
   "cell_type": "code",
   "execution_count": 40,
   "metadata": {},
   "outputs": [
    {
     "data": {
      "text/plain": [
       "0    16921\n",
       "1    16921\n",
       "Name: popular, dtype: int64"
      ]
     },
     "execution_count": 40,
     "metadata": {},
     "output_type": "execute_result"
    }
   ],
   "source": [
    "english_songs_df['popular'].value_counts()"
   ]
  },
  {
   "attachments": {},
   "cell_type": "markdown",
   "metadata": {},
   "source": [
    "Additionally, we turn this project into a multi-class problem by dividing the log-transformed views into thirds."
   ]
  },
  {
   "cell_type": "code",
   "execution_count": 41,
   "metadata": {},
   "outputs": [
    {
     "name": "stderr",
     "output_type": "stream",
     "text": [
      "/tmp/ipykernel_1141/3694795417.py:1: SettingWithCopyWarning: \n",
      "A value is trying to be set on a copy of a slice from a DataFrame.\n",
      "Try using .loc[row_indexer,col_indexer] = value instead\n",
      "\n",
      "See the caveats in the documentation: https://pandas.pydata.org/pandas-docs/stable/user_guide/indexing.html#returning-a-view-versus-a-copy\n",
      "  english_songs_df['popularity_three_class'] = pd.cut(\n"
     ]
    }
   ],
   "source": [
    "english_songs_df['popularity_three_class'] = pd.cut(\n",
    "    english_songs_df['log_scaled_views'], \n",
    "    bins = [\n",
    "        0,\n",
    "        english_songs_df['log_scaled_views'].quantile(q=0.33), \n",
    "        english_songs_df['log_scaled_views'].quantile(q=0.66),\n",
    "        english_songs_df['log_scaled_views'].max()\n",
    "    ],\n",
    "    labels=[0,1,2]\n",
    "    )"
   ]
  },
  {
   "cell_type": "code",
   "execution_count": 42,
   "metadata": {},
   "outputs": [
    {
     "data": {
      "text/plain": [
       "2    11506\n",
       "0    11168\n",
       "1    11168\n",
       "Name: popularity_three_class, dtype: int64"
      ]
     },
     "execution_count": 42,
     "metadata": {},
     "output_type": "execute_result"
    }
   ],
   "source": [
    "english_songs_df['popularity_three_class'].value_counts()"
   ]
  },
  {
   "cell_type": "code",
   "execution_count": 43,
   "metadata": {},
   "outputs": [
    {
     "data": {
      "text/html": [
       "<div>\n",
       "<style scoped>\n",
       "    .dataframe tbody tr th:only-of-type {\n",
       "        vertical-align: middle;\n",
       "    }\n",
       "\n",
       "    .dataframe tbody tr th {\n",
       "        vertical-align: top;\n",
       "    }\n",
       "\n",
       "    .dataframe thead th {\n",
       "        text-align: right;\n",
       "    }\n",
       "</style>\n",
       "<table border=\"1\" class=\"dataframe\">\n",
       "  <thead>\n",
       "    <tr style=\"text-align: right;\">\n",
       "      <th></th>\n",
       "      <th>song</th>\n",
       "      <th>lyrics</th>\n",
       "      <th>release_year</th>\n",
       "      <th>title</th>\n",
       "      <th>primary_artist</th>\n",
       "      <th>views</th>\n",
       "      <th>cleaned_lyrics</th>\n",
       "      <th>language</th>\n",
       "      <th>log_scaled_views</th>\n",
       "      <th>popular</th>\n",
       "      <th>popularity_three_class</th>\n",
       "    </tr>\n",
       "  </thead>\n",
       "  <tbody>\n",
       "    <tr>\n",
       "      <th>0</th>\n",
       "      <td>Kendrick-lamar-swimming-pools-drank-lyrics</td>\n",
       "      <td>\\n\\n[Produced by T-Minus]\\n\\n[Intro]\\nPour up ...</td>\n",
       "      <td>2012</td>\n",
       "      <td>Swimming Pools (Drank)</td>\n",
       "      <td>Kendrick-lamar</td>\n",
       "      <td>5589280.0</td>\n",
       "      <td>pour up drank head shot drank sit down drank ...</td>\n",
       "      <td>en</td>\n",
       "      <td>15.536361</td>\n",
       "      <td>1</td>\n",
       "      <td>2</td>\n",
       "    </tr>\n",
       "    <tr>\n",
       "      <th>1</th>\n",
       "      <td>Kendrick-lamar-money-trees-lyrics</td>\n",
       "      <td>\\n\\n[Produced by DJ Dahi]\\n\\n[Verse 1: Kendric...</td>\n",
       "      <td>2012</td>\n",
       "      <td>Money Trees</td>\n",
       "      <td>Kendrick-lamar</td>\n",
       "      <td>4592003.0</td>\n",
       "      <td>uh me and my niggas tryna get it ya bish ya b...</td>\n",
       "      <td>en</td>\n",
       "      <td>15.339827</td>\n",
       "      <td>1</td>\n",
       "      <td>2</td>\n",
       "    </tr>\n",
       "    <tr>\n",
       "      <th>2</th>\n",
       "      <td>Kendrick-lamar-xxx-lyrics</td>\n",
       "      <td>\\n\\n[Intro: Bēkon &amp; Kid Capri]\\nAmerica, God b...</td>\n",
       "      <td>2017</td>\n",
       "      <td>XXX.</td>\n",
       "      <td>Kendrick-lamar</td>\n",
       "      <td>4651514.0</td>\n",
       "      <td>america god bless you if its good to you amer...</td>\n",
       "      <td>en</td>\n",
       "      <td>15.352703</td>\n",
       "      <td>1</td>\n",
       "      <td>2</td>\n",
       "    </tr>\n",
       "    <tr>\n",
       "      <th>3</th>\n",
       "      <td>A-ap-rocky-fuckin-problems-lyrics</td>\n",
       "      <td>\\n\\n[Chorus: 2 Chainz, Drake &amp; Both (A$AP Rock...</td>\n",
       "      <td>2012</td>\n",
       "      <td>Fuckin’ Problems</td>\n",
       "      <td>A-ap-rocky</td>\n",
       "      <td>7378309.0</td>\n",
       "      <td>i love bad bitches thats my fuckin problem an...</td>\n",
       "      <td>en</td>\n",
       "      <td>15.814055</td>\n",
       "      <td>1</td>\n",
       "      <td>2</td>\n",
       "    </tr>\n",
       "    <tr>\n",
       "      <th>4</th>\n",
       "      <td>Kendrick-lamar-dna-lyrics</td>\n",
       "      <td>\\n\\n[Verse 1]\\nI got, I got, I got, I got—\\nLo...</td>\n",
       "      <td>2017</td>\n",
       "      <td>DNA.</td>\n",
       "      <td>Kendrick-lamar</td>\n",
       "      <td>5113687.0</td>\n",
       "      <td>i got i got i got i got loyalty got royalty i...</td>\n",
       "      <td>en</td>\n",
       "      <td>15.447431</td>\n",
       "      <td>1</td>\n",
       "      <td>2</td>\n",
       "    </tr>\n",
       "  </tbody>\n",
       "</table>\n",
       "</div>"
      ],
      "text/plain": [
       "                                         song  \\\n",
       "0  Kendrick-lamar-swimming-pools-drank-lyrics   \n",
       "1           Kendrick-lamar-money-trees-lyrics   \n",
       "2                   Kendrick-lamar-xxx-lyrics   \n",
       "3           A-ap-rocky-fuckin-problems-lyrics   \n",
       "4                   Kendrick-lamar-dna-lyrics   \n",
       "\n",
       "                                              lyrics  release_year  \\\n",
       "0  \\n\\n[Produced by T-Minus]\\n\\n[Intro]\\nPour up ...          2012   \n",
       "1  \\n\\n[Produced by DJ Dahi]\\n\\n[Verse 1: Kendric...          2012   \n",
       "2  \\n\\n[Intro: Bēkon & Kid Capri]\\nAmerica, God b...          2017   \n",
       "3  \\n\\n[Chorus: 2 Chainz, Drake & Both (A$AP Rock...          2012   \n",
       "4  \\n\\n[Verse 1]\\nI got, I got, I got, I got—\\nLo...          2017   \n",
       "\n",
       "                    title  primary_artist      views  \\\n",
       "0  Swimming Pools (Drank)  Kendrick-lamar  5589280.0   \n",
       "1             Money Trees  Kendrick-lamar  4592003.0   \n",
       "2                    XXX.  Kendrick-lamar  4651514.0   \n",
       "3        Fuckin’ Problems      A-ap-rocky  7378309.0   \n",
       "4                    DNA.  Kendrick-lamar  5113687.0   \n",
       "\n",
       "                                      cleaned_lyrics language  \\\n",
       "0   pour up drank head shot drank sit down drank ...       en   \n",
       "1   uh me and my niggas tryna get it ya bish ya b...       en   \n",
       "2   america god bless you if its good to you amer...       en   \n",
       "3   i love bad bitches thats my fuckin problem an...       en   \n",
       "4   i got i got i got i got loyalty got royalty i...       en   \n",
       "\n",
       "   log_scaled_views popular popularity_three_class  \n",
       "0         15.536361       1                      2  \n",
       "1         15.339827       1                      2  \n",
       "2         15.352703       1                      2  \n",
       "3         15.814055       1                      2  \n",
       "4         15.447431       1                      2  "
      ]
     },
     "execution_count": 43,
     "metadata": {},
     "output_type": "execute_result"
    }
   ],
   "source": [
    "english_songs_df.head()"
   ]
  },
  {
   "attachments": {},
   "cell_type": "markdown",
   "metadata": {},
   "source": [
    "Here we have the complete dataset that we will work with for the first iteration of modeling. "
   ]
  },
  {
   "cell_type": "code",
   "execution_count": 44,
   "metadata": {},
   "outputs": [],
   "source": [
    "# Export the Dataset.\n",
    "english_songs_df.to_csv(DATA_PATH / 'clean_lyrics_english.csv', index=False)"
   ]
  },
  {
   "attachments": {},
   "cell_type": "markdown",
   "metadata": {},
   "source": [
    "# Removing Stop Words and Stemming lyrics"
   ]
  },
  {
   "attachments": {},
   "cell_type": "markdown",
   "metadata": {},
   "source": [
    "One way to improve model performance is to utilize the removal of stop words and stemming the words. Specifically, we will use the english stop words found in `nltk` as well as the `SnowballStemmer` from the same package. This is a less aggressive stemmer that will hopefully perserve the words after stemming. "
   ]
  },
  {
   "cell_type": "code",
   "execution_count": 45,
   "metadata": {},
   "outputs": [],
   "source": [
    "english_songs_df = pd.read_csv(DATA_PATH / 'clean_lyrics_english.csv')"
   ]
  },
  {
   "attachments": {},
   "cell_type": "markdown",
   "metadata": {},
   "source": [
    "First we will remove all the stop words and stem every lyric. Further detail on the specfics of the function can be found in `utilities/utils.py`. "
   ]
  },
  {
   "cell_type": "code",
   "execution_count": 46,
   "metadata": {},
   "outputs": [],
   "source": [
    "# Initialize tqdm for pandas.\n",
    "tqdm.pandas()"
   ]
  },
  {
   "cell_type": "code",
   "execution_count": 47,
   "metadata": {},
   "outputs": [
    {
     "name": "stderr",
     "output_type": "stream",
     "text": [
      "100%|██████████| 33842/33842 [00:38<00:00, 867.86it/s] \n"
     ]
    }
   ],
   "source": [
    "english_songs_df['cleaned_lyrics_stem'] = english_songs_df['cleaned_lyrics'].progress_apply(utils.stop_word_removal_and_stem) "
   ]
  },
  {
   "cell_type": "code",
   "execution_count": 48,
   "metadata": {},
   "outputs": [
    {
     "data": {
      "text/plain": [
       "0.0"
      ]
     },
     "execution_count": 48,
     "metadata": {},
     "output_type": "execute_result"
    }
   ],
   "source": [
    "# Check to see if there are any errors in the stemming process. \n",
    "english_songs_df['cleaned_lyrics_stem'].isna().mean()"
   ]
  },
  {
   "attachments": {},
   "cell_type": "markdown",
   "metadata": {},
   "source": [
    "Now that we have successfully removed all the stop words and stemmed the lyrics we can export this dataset."
   ]
  },
  {
   "cell_type": "code",
   "execution_count": 49,
   "metadata": {},
   "outputs": [],
   "source": [
    "# Export\n",
    "english_songs_df.to_csv(DATA_PATH / 'clean_lyrics_english_stem.csv', index=False)"
   ]
  },
  {
   "attachments": {},
   "cell_type": "markdown",
   "metadata": {},
   "source": [
    "# Conclusion\n",
    "\n",
    "This is the end of the preliminary setup of the dataset. The next step involves exploratory data analysis and can be found in  `notebooks/1_eda.ipynb`. "
   ]
  }
 ],
 "metadata": {
  "kernelspec": {
   "display_name": "base",
   "language": "python",
   "name": "python3"
  },
  "language_info": {
   "codemirror_mode": {
    "name": "ipython",
    "version": 3
   },
   "file_extension": ".py",
   "mimetype": "text/x-python",
   "name": "python",
   "nbconvert_exporter": "python",
   "pygments_lexer": "ipython3",
   "version": "3.9.13"
  },
  "orig_nbformat": 4,
  "vscode": {
   "interpreter": {
    "hash": "b7b969017e21ea3fceb440bc3568f42d726fda0cedf260d07c9604e5a4a75144"
   }
  }
 },
 "nbformat": 4,
 "nbformat_minor": 2
}
