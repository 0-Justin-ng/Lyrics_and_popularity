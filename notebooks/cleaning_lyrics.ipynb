{
 "cells": [
  {
   "cell_type": "code",
   "execution_count": 1,
   "metadata": {},
   "outputs": [],
   "source": [
    "import pandas as pd\n",
    "import numpy as np\n",
    "import re\n",
    "\n",
    "import matplotlib.pyplot as plt\n",
    "\n",
    "import json\n",
    "from pathlib import Path"
   ]
  },
  {
   "cell_type": "code",
   "execution_count": 2,
   "metadata": {},
   "outputs": [],
   "source": [
    "import os\n",
    "import sys\n",
    "\n",
    "# Appends the entire brainstation_capstone project folder to the path.\n",
    "# This allows us to make a relative import of our scripts in brainstation_capstone/scripts\n",
    "module_path = os.path.abspath(os.path.join('..'))\n",
    "if module_path not in sys.path:\n",
    "    sys.path.append(module_path)"
   ]
  },
  {
   "cell_type": "code",
   "execution_count": 3,
   "metadata": {},
   "outputs": [],
   "source": [
    "from scripts import utils"
   ]
  },
  {
   "attachments": {},
   "cell_type": "markdown",
   "metadata": {},
   "source": [
    "# **Cleaning Lyrics**\n",
    "Author: Justin Ng"
   ]
  },
  {
   "attachments": {},
   "cell_type": "markdown",
   "metadata": {},
   "source": [
    "This notebook contains all the steps for converting lyrics into various representations.\n",
    "\n",
    "We first need to load the data and clean the lyrics."
   ]
  },
  {
   "attachments": {},
   "cell_type": "markdown",
   "metadata": {},
   "source": [
    "## Loading the Data"
   ]
  },
  {
   "cell_type": "code",
   "execution_count": 4,
   "metadata": {},
   "outputs": [],
   "source": [
    "# Set path for the raw data\n",
    "DATA_PATH = utils.get_datapath()"
   ]
  },
  {
   "cell_type": "code",
   "execution_count": 5,
   "metadata": {},
   "outputs": [],
   "source": [
    "# Load the lyrics.\n",
    "lyrics_df = utils.json_loader(DATA_PATH / 'genius-expertise' / 'lyrics.jl')"
   ]
  },
  {
   "cell_type": "code",
   "execution_count": 6,
   "metadata": {},
   "outputs": [
    {
     "name": "stdout",
     "output_type": "stream",
     "text": [
      "<class 'pandas.core.frame.DataFrame'>\n",
      "RangeIndex: 37993 entries, 0 to 37992\n",
      "Data columns (total 2 columns):\n",
      " #   Column  Non-Null Count  Dtype \n",
      "---  ------  --------------  ----- \n",
      " 0   song    37993 non-null  object\n",
      " 1   lyrics  37993 non-null  object\n",
      "dtypes: object(2)\n",
      "memory usage: 593.8+ KB\n"
     ]
    },
    {
     "data": {
      "text/plain": [
       "None"
      ]
     },
     "metadata": {},
     "output_type": "display_data"
    },
    {
     "data": {
      "text/plain": [
       "(37993, 2)"
      ]
     },
     "metadata": {},
     "output_type": "display_data"
    }
   ],
   "source": [
    "display(lyrics_df.info())\n",
    "display(lyrics_df.shape)"
   ]
  },
  {
   "cell_type": "code",
   "execution_count": 7,
   "metadata": {},
   "outputs": [],
   "source": [
    "# Load the song info.\n",
    "song_info_df = utils.json_loader(DATA_PATH / 'genius-expertise'/ 'song_info.json')"
   ]
  },
  {
   "cell_type": "code",
   "execution_count": 8,
   "metadata": {},
   "outputs": [
    {
     "name": "stdout",
     "output_type": "stream",
     "text": [
      "<class 'pandas.core.frame.DataFrame'>\n",
      "RangeIndex: 223257 entries, 0 to 223256\n",
      "Data columns (total 10 columns):\n",
      " #   Column          Non-Null Count   Dtype  \n",
      "---  ------          --------------   -----  \n",
      " 0   url_name        223257 non-null  object \n",
      " 1   title           223257 non-null  object \n",
      " 2   primary_artist  223257 non-null  object \n",
      " 3   release_date    176884 non-null  object \n",
      " 4   pyongs          223256 non-null  float64\n",
      " 5   contributors    223257 non-null  int64  \n",
      " 6   has_bio         223257 non-null  bool   \n",
      " 7   views           72065 non-null   float64\n",
      " 8   tags            223257 non-null  object \n",
      " 9   annotations     0 non-null       float64\n",
      "dtypes: bool(1), float64(3), int64(1), object(5)\n",
      "memory usage: 15.5+ MB\n"
     ]
    },
    {
     "data": {
      "text/plain": [
       "None"
      ]
     },
     "metadata": {},
     "output_type": "display_data"
    },
    {
     "data": {
      "text/plain": [
       "(223257, 10)"
      ]
     },
     "metadata": {},
     "output_type": "display_data"
    }
   ],
   "source": [
    "display(song_info_df.info())\n",
    "display(song_info_df.shape)"
   ]
  },
  {
   "cell_type": "code",
   "execution_count": 9,
   "metadata": {},
   "outputs": [],
   "source": [
    "# Rename song column to merge on.\n",
    "song_info_df.rename(\n",
    "    {'url_name': 'song'},\n",
    "    axis=1,\n",
    "    inplace= True\n",
    ")\n",
    "\n",
    "# Merge the song views with the lyrics. \n",
    "raw_combined_df = pd.merge(\n",
    "    lyrics_df, \n",
    "    song_info_df[['song', 'views']].dropna(axis=0),\n",
    "    on='song',\n",
    "\n",
    ")"
   ]
  },
  {
   "cell_type": "code",
   "execution_count": 10,
   "metadata": {},
   "outputs": [
    {
     "data": {
      "text/html": [
       "<div>\n",
       "<style scoped>\n",
       "    .dataframe tbody tr th:only-of-type {\n",
       "        vertical-align: middle;\n",
       "    }\n",
       "\n",
       "    .dataframe tbody tr th {\n",
       "        vertical-align: top;\n",
       "    }\n",
       "\n",
       "    .dataframe thead th {\n",
       "        text-align: right;\n",
       "    }\n",
       "</style>\n",
       "<table border=\"1\" class=\"dataframe\">\n",
       "  <thead>\n",
       "    <tr style=\"text-align: right;\">\n",
       "      <th></th>\n",
       "      <th>song</th>\n",
       "      <th>lyrics</th>\n",
       "      <th>views</th>\n",
       "    </tr>\n",
       "  </thead>\n",
       "  <tbody>\n",
       "    <tr>\n",
       "      <th>0</th>\n",
       "      <td>Kendrick-lamar-swimming-pools-drank-lyrics</td>\n",
       "      <td>\\n\\n[Produced by T-Minus]\\n\\n[Intro]\\nPour up ...</td>\n",
       "      <td>5589280.0</td>\n",
       "    </tr>\n",
       "    <tr>\n",
       "      <th>1</th>\n",
       "      <td>Kendrick-lamar-money-trees-lyrics</td>\n",
       "      <td>\\n\\n[Produced by DJ Dahi]\\n\\n[Verse 1: Kendric...</td>\n",
       "      <td>4592003.0</td>\n",
       "    </tr>\n",
       "    <tr>\n",
       "      <th>2</th>\n",
       "      <td>Kendrick-lamar-xxx-lyrics</td>\n",
       "      <td>\\n\\n[Intro: Bēkon &amp; Kid Capri]\\nAmerica, God b...</td>\n",
       "      <td>4651514.0</td>\n",
       "    </tr>\n",
       "    <tr>\n",
       "      <th>3</th>\n",
       "      <td>A-ap-rocky-fuckin-problems-lyrics</td>\n",
       "      <td>\\n\\n[Chorus: 2 Chainz, Drake &amp; Both (A$AP Rock...</td>\n",
       "      <td>7378309.0</td>\n",
       "    </tr>\n",
       "    <tr>\n",
       "      <th>4</th>\n",
       "      <td>Kendrick-lamar-dna-lyrics</td>\n",
       "      <td>\\n\\n[Verse 1]\\nI got, I got, I got, I got—\\nLo...</td>\n",
       "      <td>5113687.0</td>\n",
       "    </tr>\n",
       "    <tr>\n",
       "      <th>5</th>\n",
       "      <td>Kendrick-lamar-poetic-justice-lyrics</td>\n",
       "      <td>\\n\\n[Produced by Scoop DeVille &amp; Sounwave]\\n\\n...</td>\n",
       "      <td>4137688.0</td>\n",
       "    </tr>\n",
       "    <tr>\n",
       "      <th>6</th>\n",
       "      <td>Kendrick-lamar-bitch-dont-kill-my-vibe-lyrics</td>\n",
       "      <td>\\n\\n[Produced by Sounwave]\\n\\n[Chorus]\\nI am a...</td>\n",
       "      <td>4455762.0</td>\n",
       "    </tr>\n",
       "    <tr>\n",
       "      <th>7</th>\n",
       "      <td>Kendrick-lamar-king-kunta-lyrics</td>\n",
       "      <td>\\n\\n[Produced by Sounwave; Additional producti...</td>\n",
       "      <td>3976102.0</td>\n",
       "    </tr>\n",
       "    <tr>\n",
       "      <th>8</th>\n",
       "      <td>Kendrick-lamar-element-lyrics</td>\n",
       "      <td>\\n\\n[Intro: Kid Capri &amp; Kendrick Lamar]\\nNew K...</td>\n",
       "      <td>2506800.0</td>\n",
       "    </tr>\n",
       "    <tr>\n",
       "      <th>9</th>\n",
       "      <td>Kendrick-lamar-the-blacker-the-berry-lyrics</td>\n",
       "      <td>\\n\\n[Produced by Boi-1da &amp; Koz]\\n\\n[Intro: Ken...</td>\n",
       "      <td>2557473.0</td>\n",
       "    </tr>\n",
       "  </tbody>\n",
       "</table>\n",
       "</div>"
      ],
      "text/plain": [
       "                                            song  \\\n",
       "0     Kendrick-lamar-swimming-pools-drank-lyrics   \n",
       "1              Kendrick-lamar-money-trees-lyrics   \n",
       "2                      Kendrick-lamar-xxx-lyrics   \n",
       "3              A-ap-rocky-fuckin-problems-lyrics   \n",
       "4                      Kendrick-lamar-dna-lyrics   \n",
       "5           Kendrick-lamar-poetic-justice-lyrics   \n",
       "6  Kendrick-lamar-bitch-dont-kill-my-vibe-lyrics   \n",
       "7               Kendrick-lamar-king-kunta-lyrics   \n",
       "8                  Kendrick-lamar-element-lyrics   \n",
       "9    Kendrick-lamar-the-blacker-the-berry-lyrics   \n",
       "\n",
       "                                              lyrics      views  \n",
       "0  \\n\\n[Produced by T-Minus]\\n\\n[Intro]\\nPour up ...  5589280.0  \n",
       "1  \\n\\n[Produced by DJ Dahi]\\n\\n[Verse 1: Kendric...  4592003.0  \n",
       "2  \\n\\n[Intro: Bēkon & Kid Capri]\\nAmerica, God b...  4651514.0  \n",
       "3  \\n\\n[Chorus: 2 Chainz, Drake & Both (A$AP Rock...  7378309.0  \n",
       "4  \\n\\n[Verse 1]\\nI got, I got, I got, I got—\\nLo...  5113687.0  \n",
       "5  \\n\\n[Produced by Scoop DeVille & Sounwave]\\n\\n...  4137688.0  \n",
       "6  \\n\\n[Produced by Sounwave]\\n\\n[Chorus]\\nI am a...  4455762.0  \n",
       "7  \\n\\n[Produced by Sounwave; Additional producti...  3976102.0  \n",
       "8  \\n\\n[Intro: Kid Capri & Kendrick Lamar]\\nNew K...  2506800.0  \n",
       "9  \\n\\n[Produced by Boi-1da & Koz]\\n\\n[Intro: Ken...  2557473.0  "
      ]
     },
     "metadata": {},
     "output_type": "display_data"
    },
    {
     "data": {
      "text/plain": [
       "(37905, 3)"
      ]
     },
     "metadata": {},
     "output_type": "display_data"
    },
    {
     "name": "stdout",
     "output_type": "stream",
     "text": [
      "<class 'pandas.core.frame.DataFrame'>\n",
      "Int64Index: 37905 entries, 0 to 37904\n",
      "Data columns (total 3 columns):\n",
      " #   Column  Non-Null Count  Dtype  \n",
      "---  ------  --------------  -----  \n",
      " 0   song    37905 non-null  object \n",
      " 1   lyrics  37905 non-null  object \n",
      " 2   views   37905 non-null  float64\n",
      "dtypes: float64(1), object(2)\n",
      "memory usage: 1.2+ MB\n"
     ]
    },
    {
     "data": {
      "text/plain": [
       "None"
      ]
     },
     "metadata": {},
     "output_type": "display_data"
    }
   ],
   "source": [
    "# Raw uncleaned df.\n",
    "display(raw_combined_df.head(10))\n",
    "display(raw_combined_df.shape)\n",
    "display(raw_combined_df.info())"
   ]
  },
  {
   "attachments": {},
   "cell_type": "markdown",
   "metadata": {},
   "source": [
    "## Cleaning the Lyrics"
   ]
  },
  {
   "cell_type": "code",
   "execution_count": 11,
   "metadata": {},
   "outputs": [],
   "source": [
    "raw_combined_df['cleaned_lyrics'] = raw_combined_df['lyrics'].apply(utils.clean_lyrics)"
   ]
  },
  {
   "cell_type": "code",
   "execution_count": 12,
   "metadata": {},
   "outputs": [
    {
     "data": {
      "text/html": [
       "<div>\n",
       "<style scoped>\n",
       "    .dataframe tbody tr th:only-of-type {\n",
       "        vertical-align: middle;\n",
       "    }\n",
       "\n",
       "    .dataframe tbody tr th {\n",
       "        vertical-align: top;\n",
       "    }\n",
       "\n",
       "    .dataframe thead th {\n",
       "        text-align: right;\n",
       "    }\n",
       "</style>\n",
       "<table border=\"1\" class=\"dataframe\">\n",
       "  <thead>\n",
       "    <tr style=\"text-align: right;\">\n",
       "      <th></th>\n",
       "      <th>song</th>\n",
       "      <th>lyrics</th>\n",
       "      <th>views</th>\n",
       "      <th>cleaned_lyrics</th>\n",
       "    </tr>\n",
       "  </thead>\n",
       "  <tbody>\n",
       "    <tr>\n",
       "      <th>0</th>\n",
       "      <td>Kendrick-lamar-swimming-pools-drank-lyrics</td>\n",
       "      <td>\\n\\n[Produced by T-Minus]\\n\\n[Intro]\\nPour up ...</td>\n",
       "      <td>5589280.0</td>\n",
       "      <td>pour up drank head shot drank sit down drank ...</td>\n",
       "    </tr>\n",
       "    <tr>\n",
       "      <th>1</th>\n",
       "      <td>Kendrick-lamar-money-trees-lyrics</td>\n",
       "      <td>\\n\\n[Produced by DJ Dahi]\\n\\n[Verse 1: Kendric...</td>\n",
       "      <td>4592003.0</td>\n",
       "      <td>uh me and my niggas tryna get it ya bish ya b...</td>\n",
       "    </tr>\n",
       "    <tr>\n",
       "      <th>2</th>\n",
       "      <td>Kendrick-lamar-xxx-lyrics</td>\n",
       "      <td>\\n\\n[Intro: Bēkon &amp; Kid Capri]\\nAmerica, God b...</td>\n",
       "      <td>4651514.0</td>\n",
       "      <td>america god bless you if its good to you amer...</td>\n",
       "    </tr>\n",
       "    <tr>\n",
       "      <th>3</th>\n",
       "      <td>A-ap-rocky-fuckin-problems-lyrics</td>\n",
       "      <td>\\n\\n[Chorus: 2 Chainz, Drake &amp; Both (A$AP Rock...</td>\n",
       "      <td>7378309.0</td>\n",
       "      <td>i love bad bitches thats my fuckin problem an...</td>\n",
       "    </tr>\n",
       "    <tr>\n",
       "      <th>4</th>\n",
       "      <td>Kendrick-lamar-dna-lyrics</td>\n",
       "      <td>\\n\\n[Verse 1]\\nI got, I got, I got, I got—\\nLo...</td>\n",
       "      <td>5113687.0</td>\n",
       "      <td>i got i got i got i got loyalty got royalty i...</td>\n",
       "    </tr>\n",
       "  </tbody>\n",
       "</table>\n",
       "</div>"
      ],
      "text/plain": [
       "                                         song  \\\n",
       "0  Kendrick-lamar-swimming-pools-drank-lyrics   \n",
       "1           Kendrick-lamar-money-trees-lyrics   \n",
       "2                   Kendrick-lamar-xxx-lyrics   \n",
       "3           A-ap-rocky-fuckin-problems-lyrics   \n",
       "4                   Kendrick-lamar-dna-lyrics   \n",
       "\n",
       "                                              lyrics      views  \\\n",
       "0  \\n\\n[Produced by T-Minus]\\n\\n[Intro]\\nPour up ...  5589280.0   \n",
       "1  \\n\\n[Produced by DJ Dahi]\\n\\n[Verse 1: Kendric...  4592003.0   \n",
       "2  \\n\\n[Intro: Bēkon & Kid Capri]\\nAmerica, God b...  4651514.0   \n",
       "3  \\n\\n[Chorus: 2 Chainz, Drake & Both (A$AP Rock...  7378309.0   \n",
       "4  \\n\\n[Verse 1]\\nI got, I got, I got, I got—\\nLo...  5113687.0   \n",
       "\n",
       "                                      cleaned_lyrics  \n",
       "0   pour up drank head shot drank sit down drank ...  \n",
       "1   uh me and my niggas tryna get it ya bish ya b...  \n",
       "2   america god bless you if its good to you amer...  \n",
       "3   i love bad bitches thats my fuckin problem an...  \n",
       "4   i got i got i got i got loyalty got royalty i...  "
      ]
     },
     "metadata": {},
     "output_type": "display_data"
    },
    {
     "data": {
      "text/plain": [
       "(37905, 4)"
      ]
     },
     "execution_count": 12,
     "metadata": {},
     "output_type": "execute_result"
    }
   ],
   "source": [
    "display(raw_combined_df.head()),\n",
    "raw_combined_df.shape"
   ]
  },
  {
   "cell_type": "code",
   "execution_count": 13,
   "metadata": {},
   "outputs": [],
   "source": [
    "raw_combined_df.to_csv(DATA_PATH / 'clean_lyrics.csv')"
   ]
  }
 ],
 "metadata": {
  "kernelspec": {
   "display_name": "base",
   "language": "python",
   "name": "python3"
  },
  "language_info": {
   "codemirror_mode": {
    "name": "ipython",
    "version": 3
   },
   "file_extension": ".py",
   "mimetype": "text/x-python",
   "name": "python",
   "nbconvert_exporter": "python",
   "pygments_lexer": "ipython3",
   "version": "3.9.13"
  },
  "orig_nbformat": 4,
  "vscode": {
   "interpreter": {
    "hash": "b7b969017e21ea3fceb440bc3568f42d726fda0cedf260d07c9604e5a4a75144"
   }
  }
 },
 "nbformat": 4,
 "nbformat_minor": 2
}
