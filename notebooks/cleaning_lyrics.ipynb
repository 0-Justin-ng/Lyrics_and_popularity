{
 "cells": [
  {
   "cell_type": "code",
   "execution_count": 1,
   "metadata": {},
   "outputs": [],
   "source": [
    "import pandas as pd\n",
    "import numpy as np\n",
    "import re\n",
    "\n",
    "import matplotlib.pyplot as plt\n",
    "\n",
    "import json\n",
    "from pathlib import Path\n",
    "\n",
    "%load_ext autoreload\n",
    "%autoreload 2"
   ]
  },
  {
   "cell_type": "code",
   "execution_count": 2,
   "metadata": {},
   "outputs": [],
   "source": [
    "import os\n",
    "import sys\n",
    "\n",
    "# Appends the entire brainstation_capstone project folder to the path.\n",
    "# This allows us to make a relative import of our scripts in brainstation_capstone/scripts\n",
    "module_path = os.path.abspath(os.path.join('..'))\n",
    "if module_path not in sys.path:\n",
    "    sys.path.append(module_path)"
   ]
  },
  {
   "cell_type": "code",
   "execution_count": 3,
   "metadata": {},
   "outputs": [],
   "source": [
    "from utilities import utils"
   ]
  },
  {
   "attachments": {},
   "cell_type": "markdown",
   "metadata": {},
   "source": [
    "# **Cleaning Lyrics**\n",
    "Author: Justin Ng"
   ]
  },
  {
   "attachments": {},
   "cell_type": "markdown",
   "metadata": {},
   "source": [
    "This notebook contains all the steps for converting lyrics into various representations.\n",
    "\n",
    "We first need to load the data and clean the lyrics."
   ]
  },
  {
   "attachments": {},
   "cell_type": "markdown",
   "metadata": {},
   "source": [
    "## Loading the Data"
   ]
  },
  {
   "cell_type": "code",
   "execution_count": 4,
   "metadata": {},
   "outputs": [],
   "source": [
    "# Set path for the raw data\n",
    "DATA_PATH = utils.get_datapath('data')"
   ]
  },
  {
   "cell_type": "code",
   "execution_count": 5,
   "metadata": {},
   "outputs": [],
   "source": [
    "# Load the lyrics.\n",
    "lyrics_df = utils.json_loader(DATA_PATH / 'genius-expertise' / 'lyrics.jl')"
   ]
  },
  {
   "cell_type": "code",
   "execution_count": 6,
   "metadata": {},
   "outputs": [
    {
     "name": "stdout",
     "output_type": "stream",
     "text": [
      "<class 'pandas.core.frame.DataFrame'>\n",
      "RangeIndex: 37993 entries, 0 to 37992\n",
      "Data columns (total 2 columns):\n",
      " #   Column  Non-Null Count  Dtype \n",
      "---  ------  --------------  ----- \n",
      " 0   song    37993 non-null  object\n",
      " 1   lyrics  37993 non-null  object\n",
      "dtypes: object(2)\n",
      "memory usage: 593.8+ KB\n"
     ]
    },
    {
     "data": {
      "text/plain": [
       "None"
      ]
     },
     "metadata": {},
     "output_type": "display_data"
    },
    {
     "data": {
      "text/plain": [
       "(37993, 2)"
      ]
     },
     "metadata": {},
     "output_type": "display_data"
    }
   ],
   "source": [
    "display(lyrics_df.info())\n",
    "display(lyrics_df.shape)"
   ]
  },
  {
   "cell_type": "code",
   "execution_count": 7,
   "metadata": {},
   "outputs": [],
   "source": [
    "# Load the song info.\n",
    "song_info_df = utils.json_loader(DATA_PATH / 'genius-expertise'/ 'song_info.json')"
   ]
  },
  {
   "cell_type": "code",
   "execution_count": 8,
   "metadata": {},
   "outputs": [
    {
     "name": "stdout",
     "output_type": "stream",
     "text": [
      "<class 'pandas.core.frame.DataFrame'>\n",
      "RangeIndex: 223257 entries, 0 to 223256\n",
      "Data columns (total 10 columns):\n",
      " #   Column          Non-Null Count   Dtype  \n",
      "---  ------          --------------   -----  \n",
      " 0   url_name        223257 non-null  object \n",
      " 1   title           223257 non-null  object \n",
      " 2   primary_artist  223257 non-null  object \n",
      " 3   release_date    176884 non-null  object \n",
      " 4   pyongs          223256 non-null  float64\n",
      " 5   contributors    223257 non-null  int64  \n",
      " 6   has_bio         223257 non-null  bool   \n",
      " 7   views           72065 non-null   float64\n",
      " 8   tags            223257 non-null  object \n",
      " 9   annotations     0 non-null       float64\n",
      "dtypes: bool(1), float64(3), int64(1), object(5)\n",
      "memory usage: 15.5+ MB\n"
     ]
    },
    {
     "data": {
      "text/plain": [
       "None"
      ]
     },
     "metadata": {},
     "output_type": "display_data"
    },
    {
     "data": {
      "text/plain": [
       "(223257, 10)"
      ]
     },
     "metadata": {},
     "output_type": "display_data"
    }
   ],
   "source": [
    "display(song_info_df.info())\n",
    "display(song_info_df.shape)"
   ]
  },
  {
   "cell_type": "code",
   "execution_count": 9,
   "metadata": {},
   "outputs": [
    {
     "data": {
      "text/plain": [
       "url_name          0.000000\n",
       "title             0.000000\n",
       "primary_artist    0.000000\n",
       "release_date      0.207711\n",
       "pyongs            0.000004\n",
       "contributors      0.000000\n",
       "has_bio           0.000000\n",
       "views             0.677211\n",
       "tags              0.000000\n",
       "annotations       1.000000\n",
       "dtype: float64"
      ]
     },
     "execution_count": 9,
     "metadata": {},
     "output_type": "execute_result"
    }
   ],
   "source": [
    "song_info_df.isna().mean()"
   ]
  },
  {
   "cell_type": "code",
   "execution_count": 10,
   "metadata": {},
   "outputs": [],
   "source": [
    "song_info_df = song_info_df[\n",
    "    song_info_df.columns.difference(['annotations'])\n",
    "    ].dropna(axis=0)"
   ]
  },
  {
   "cell_type": "code",
   "execution_count": 149,
   "metadata": {},
   "outputs": [],
   "source": [
    "def date_converter(dates):\n",
    "    year = []\n",
    "\n",
    "    for date in dates:\n",
    "        try:\n",
    "            split_date = date.replace(',', '').split()\n",
    "            if len(split_date) > 1:\n",
    "                year.append(int(split_date[2]))\n",
    "            # If there is only the year. \n",
    "            elif len(split_date) == 1:\n",
    "                year.append(int(split_date[0]))\n",
    "        except:\n",
    "            year.append(np.nan)\n",
    "\n",
    "    return year"
   ]
  },
  {
   "cell_type": "code",
   "execution_count": 150,
   "metadata": {},
   "outputs": [],
   "source": [
    "year = date_converter(song_info_df.release_date)"
   ]
  },
  {
   "cell_type": "code",
   "execution_count": 151,
   "metadata": {},
   "outputs": [],
   "source": [
    "year = np.array(year)"
   ]
  },
  {
   "cell_type": "code",
   "execution_count": 152,
   "metadata": {},
   "outputs": [],
   "source": [
    "year = year[~np.isnan(year)]"
   ]
  },
  {
   "cell_type": "code",
   "execution_count": 153,
   "metadata": {},
   "outputs": [
    {
     "data": {
      "text/plain": [
       "971.0"
      ]
     },
     "execution_count": 153,
     "metadata": {},
     "output_type": "execute_result"
    }
   ],
   "source": [
    "year.min()"
   ]
  },
  {
   "attachments": {},
   "cell_type": "markdown",
   "metadata": {},
   "source": [
    "Seems like theres an error in the data for the release year of 1971.\n",
    "\n",
    "The following checks to see that all songs with 971 are from the year 1971."
   ]
  },
  {
   "cell_type": "code",
   "execution_count": 155,
   "metadata": {},
   "outputs": [
    {
     "name": "stdout",
     "output_type": "stream",
     "text": [
      "Never Can Say Goodbye\n",
      "Got to Be There\n",
      "Echoes\n",
      "Fearless\n",
      "One of These Days\n",
      "A Pillow of Winds\n",
      "San Tropez\n",
      "Seamus\n",
      "Life on Mars?\n",
      "Oh! You Pretty Things\n",
      "Quicksand\n",
      "Queen Bitch\n",
      "The Bewlay Brothers\n",
      "Andy Warhol\n",
      "Kooks\n",
      "Song for Bob Dylan\n",
      "Fill Your Heart\n",
      "Stairway to Heaven\n",
      "Black Dog\n",
      "Going to California\n",
      "When the Levee Breaks\n",
      "The Battle of Evermore\n",
      "Rock and Roll\n",
      "Misty Mountain Hop\n",
      "Four Sticks\n",
      "I Shall Be Released\n",
      "You Ain’t Goin’ Nowhere\n",
      "Tomorrow Is a Long Time\n",
      "Too Many People\n",
      "Uncle Albert/Admiral Halsey\n",
      "Another Day\n",
      "Monkberry Moon Delight\n",
      "Dear Friend\n",
      "Ram On\n",
      "Dear Boy\n",
      "Wild Horses\n",
      "Brown Sugar\n",
      "Dead Flowers\n",
      "Can’t You Hear Me Knocking\n",
      "Bitch\n",
      "Sway\n",
      "Moonlight Mile\n",
      "I Got the Blues\n",
      "Riders on the Storm\n",
      "L.A. Woman\n",
      "Love Her Madly\n",
      "The WASP (Texas Radio and the Big Beat)\n",
      "Been Down So Long\n",
      "Hyacinth House\n",
      "The Changeling\n",
      "Cars Hiss by My Window\n",
      "L’America\n",
      "Crawling King Snake\n",
      "Iron Man\n",
      "Sweet Leaf\n",
      "Children of the Grave\n",
      "Solitude\n",
      "Into the Void\n",
      "After Forever\n",
      "Lord of this World\n",
      "Day After Day\n",
      "It Don’t Come Easy\n",
      "The Mothering Blackness\n",
      "They Went Home\n"
     ]
    }
   ],
   "source": [
    "for _, row in song_info_df.iterrows():\n",
    "    if '971' in row['release_date']:\n",
    "        print(row['title'])\n",
    "    "
   ]
  },
  {
   "cell_type": "code",
   "execution_count": 154,
   "metadata": {},
   "outputs": [
    {
     "data": {
      "text/plain": [
       "2020.0"
      ]
     },
     "execution_count": 154,
     "metadata": {},
     "output_type": "execute_result"
    }
   ],
   "source": [
    "year.max()"
   ]
  },
  {
   "cell_type": "code",
   "execution_count": 176,
   "metadata": {},
   "outputs": [],
   "source": [
    "def date_converter(dates):\n",
    "    year = []\n",
    "\n",
    "    for date in dates:\n",
    "        split_date = date.replace(',', '').split()\n",
    "        if len(split_date) > 1:\n",
    "            if '971' in split_date[-1]:\n",
    "                year.append(1971)\n",
    "            else:\n",
    "                year.append(int(split_date[-1]))\n",
    "        # If there is only the year. \n",
    "        elif len(split_date) == 1:\n",
    "            if '971' in split_date[0]:\n",
    "                year.append(1971)\n",
    "            else:\n",
    "                year.append(int(split_date[0]))\n",
    "    \n",
    "\n",
    "    return year"
   ]
  },
  {
   "cell_type": "code",
   "execution_count": 177,
   "metadata": {},
   "outputs": [],
   "source": [
    "year = date_converter(song_info_df.release_date)"
   ]
  },
  {
   "cell_type": "code",
   "execution_count": 178,
   "metadata": {},
   "outputs": [
    {
     "data": {
      "text/plain": [
       "(1595, 2020)"
      ]
     },
     "execution_count": 178,
     "metadata": {},
     "output_type": "execute_result"
    }
   ],
   "source": [
    "np.array(year).min(), np.array(year).max()"
   ]
  },
  {
   "cell_type": "code",
   "execution_count": 179,
   "metadata": {},
   "outputs": [
    {
     "name": "stdout",
     "output_type": "stream",
     "text": [
      "Romeo and Juliet Act 2 Scene 4\n"
     ]
    }
   ],
   "source": [
    "for _, row in song_info_df.iterrows():\n",
    "    if '1595' in row['release_date']:\n",
    "        print(row['title'])"
   ]
  },
  {
   "cell_type": "code",
   "execution_count": 10,
   "metadata": {},
   "outputs": [],
   "source": [
    "# Rename song column to merge on.\n",
    "song_info_df.rename(\n",
    "    {'url_name': 'song'},\n",
    "    axis=1,\n",
    "    inplace= True\n",
    ")\n",
    "\n",
    "# Merge the song views with the lyrics. \n",
    "raw_combined_df = pd.merge(\n",
    "    lyrics_df, \n",
    "    song_info_df[['song', 'title', 'views']].dropna(axis=0),\n",
    "    on='song',\n",
    "\n",
    ")"
   ]
  },
  {
   "cell_type": "code",
   "execution_count": 11,
   "metadata": {},
   "outputs": [
    {
     "data": {
      "text/html": [
       "<div>\n",
       "<style scoped>\n",
       "    .dataframe tbody tr th:only-of-type {\n",
       "        vertical-align: middle;\n",
       "    }\n",
       "\n",
       "    .dataframe tbody tr th {\n",
       "        vertical-align: top;\n",
       "    }\n",
       "\n",
       "    .dataframe thead th {\n",
       "        text-align: right;\n",
       "    }\n",
       "</style>\n",
       "<table border=\"1\" class=\"dataframe\">\n",
       "  <thead>\n",
       "    <tr style=\"text-align: right;\">\n",
       "      <th></th>\n",
       "      <th>song</th>\n",
       "      <th>lyrics</th>\n",
       "      <th>title</th>\n",
       "      <th>views</th>\n",
       "    </tr>\n",
       "  </thead>\n",
       "  <tbody>\n",
       "    <tr>\n",
       "      <th>0</th>\n",
       "      <td>Kendrick-lamar-swimming-pools-drank-lyrics</td>\n",
       "      <td>\\n\\n[Produced by T-Minus]\\n\\n[Intro]\\nPour up ...</td>\n",
       "      <td>Swimming Pools (Drank)</td>\n",
       "      <td>5589280.0</td>\n",
       "    </tr>\n",
       "    <tr>\n",
       "      <th>1</th>\n",
       "      <td>Kendrick-lamar-money-trees-lyrics</td>\n",
       "      <td>\\n\\n[Produced by DJ Dahi]\\n\\n[Verse 1: Kendric...</td>\n",
       "      <td>Money Trees</td>\n",
       "      <td>4592003.0</td>\n",
       "    </tr>\n",
       "    <tr>\n",
       "      <th>2</th>\n",
       "      <td>Kendrick-lamar-xxx-lyrics</td>\n",
       "      <td>\\n\\n[Intro: Bēkon &amp; Kid Capri]\\nAmerica, God b...</td>\n",
       "      <td>XXX.</td>\n",
       "      <td>4651514.0</td>\n",
       "    </tr>\n",
       "    <tr>\n",
       "      <th>3</th>\n",
       "      <td>A-ap-rocky-fuckin-problems-lyrics</td>\n",
       "      <td>\\n\\n[Chorus: 2 Chainz, Drake &amp; Both (A$AP Rock...</td>\n",
       "      <td>Fuckin’ Problems</td>\n",
       "      <td>7378309.0</td>\n",
       "    </tr>\n",
       "    <tr>\n",
       "      <th>4</th>\n",
       "      <td>Kendrick-lamar-dna-lyrics</td>\n",
       "      <td>\\n\\n[Verse 1]\\nI got, I got, I got, I got—\\nLo...</td>\n",
       "      <td>DNA.</td>\n",
       "      <td>5113687.0</td>\n",
       "    </tr>\n",
       "    <tr>\n",
       "      <th>5</th>\n",
       "      <td>Kendrick-lamar-poetic-justice-lyrics</td>\n",
       "      <td>\\n\\n[Produced by Scoop DeVille &amp; Sounwave]\\n\\n...</td>\n",
       "      <td>Poetic Justice</td>\n",
       "      <td>4137688.0</td>\n",
       "    </tr>\n",
       "    <tr>\n",
       "      <th>6</th>\n",
       "      <td>Kendrick-lamar-bitch-dont-kill-my-vibe-lyrics</td>\n",
       "      <td>\\n\\n[Produced by Sounwave]\\n\\n[Chorus]\\nI am a...</td>\n",
       "      <td>Bitch, Don’t Kill My Vibe</td>\n",
       "      <td>4455762.0</td>\n",
       "    </tr>\n",
       "    <tr>\n",
       "      <th>7</th>\n",
       "      <td>Kendrick-lamar-king-kunta-lyrics</td>\n",
       "      <td>\\n\\n[Produced by Sounwave; Additional producti...</td>\n",
       "      <td>King Kunta</td>\n",
       "      <td>3976102.0</td>\n",
       "    </tr>\n",
       "    <tr>\n",
       "      <th>8</th>\n",
       "      <td>Kendrick-lamar-element-lyrics</td>\n",
       "      <td>\\n\\n[Intro: Kid Capri &amp; Kendrick Lamar]\\nNew K...</td>\n",
       "      <td>ELEMENT.</td>\n",
       "      <td>2506800.0</td>\n",
       "    </tr>\n",
       "    <tr>\n",
       "      <th>9</th>\n",
       "      <td>Kendrick-lamar-the-blacker-the-berry-lyrics</td>\n",
       "      <td>\\n\\n[Produced by Boi-1da &amp; Koz]\\n\\n[Intro: Ken...</td>\n",
       "      <td>The Blacker the Berry</td>\n",
       "      <td>2557473.0</td>\n",
       "    </tr>\n",
       "  </tbody>\n",
       "</table>\n",
       "</div>"
      ],
      "text/plain": [
       "                                            song  \\\n",
       "0     Kendrick-lamar-swimming-pools-drank-lyrics   \n",
       "1              Kendrick-lamar-money-trees-lyrics   \n",
       "2                      Kendrick-lamar-xxx-lyrics   \n",
       "3              A-ap-rocky-fuckin-problems-lyrics   \n",
       "4                      Kendrick-lamar-dna-lyrics   \n",
       "5           Kendrick-lamar-poetic-justice-lyrics   \n",
       "6  Kendrick-lamar-bitch-dont-kill-my-vibe-lyrics   \n",
       "7               Kendrick-lamar-king-kunta-lyrics   \n",
       "8                  Kendrick-lamar-element-lyrics   \n",
       "9    Kendrick-lamar-the-blacker-the-berry-lyrics   \n",
       "\n",
       "                                              lyrics  \\\n",
       "0  \\n\\n[Produced by T-Minus]\\n\\n[Intro]\\nPour up ...   \n",
       "1  \\n\\n[Produced by DJ Dahi]\\n\\n[Verse 1: Kendric...   \n",
       "2  \\n\\n[Intro: Bēkon & Kid Capri]\\nAmerica, God b...   \n",
       "3  \\n\\n[Chorus: 2 Chainz, Drake & Both (A$AP Rock...   \n",
       "4  \\n\\n[Verse 1]\\nI got, I got, I got, I got—\\nLo...   \n",
       "5  \\n\\n[Produced by Scoop DeVille & Sounwave]\\n\\n...   \n",
       "6  \\n\\n[Produced by Sounwave]\\n\\n[Chorus]\\nI am a...   \n",
       "7  \\n\\n[Produced by Sounwave; Additional producti...   \n",
       "8  \\n\\n[Intro: Kid Capri & Kendrick Lamar]\\nNew K...   \n",
       "9  \\n\\n[Produced by Boi-1da & Koz]\\n\\n[Intro: Ken...   \n",
       "\n",
       "                       title      views  \n",
       "0     Swimming Pools (Drank)  5589280.0  \n",
       "1                Money Trees  4592003.0  \n",
       "2                       XXX.  4651514.0  \n",
       "3           Fuckin’ Problems  7378309.0  \n",
       "4                       DNA.  5113687.0  \n",
       "5             Poetic Justice  4137688.0  \n",
       "6  Bitch, Don’t Kill My Vibe  4455762.0  \n",
       "7                 King Kunta  3976102.0  \n",
       "8                   ELEMENT.  2506800.0  \n",
       "9      The Blacker the Berry  2557473.0  "
      ]
     },
     "metadata": {},
     "output_type": "display_data"
    },
    {
     "data": {
      "text/plain": [
       "(37905, 4)"
      ]
     },
     "metadata": {},
     "output_type": "display_data"
    },
    {
     "name": "stdout",
     "output_type": "stream",
     "text": [
      "<class 'pandas.core.frame.DataFrame'>\n",
      "Int64Index: 37905 entries, 0 to 37904\n",
      "Data columns (total 4 columns):\n",
      " #   Column  Non-Null Count  Dtype  \n",
      "---  ------  --------------  -----  \n",
      " 0   song    37905 non-null  object \n",
      " 1   lyrics  37905 non-null  object \n",
      " 2   title   37905 non-null  object \n",
      " 3   views   37905 non-null  float64\n",
      "dtypes: float64(1), object(3)\n",
      "memory usage: 1.4+ MB\n"
     ]
    },
    {
     "data": {
      "text/plain": [
       "None"
      ]
     },
     "metadata": {},
     "output_type": "display_data"
    }
   ],
   "source": [
    "# Raw uncleaned df.\n",
    "display(raw_combined_df.head(10))\n",
    "display(raw_combined_df.shape)\n",
    "display(raw_combined_df.info())"
   ]
  },
  {
   "cell_type": "code",
   "execution_count": 12,
   "metadata": {},
   "outputs": [
    {
     "data": {
      "text/html": [
       "<div>\n",
       "<style scoped>\n",
       "    .dataframe tbody tr th:only-of-type {\n",
       "        vertical-align: middle;\n",
       "    }\n",
       "\n",
       "    .dataframe tbody tr th {\n",
       "        vertical-align: top;\n",
       "    }\n",
       "\n",
       "    .dataframe thead th {\n",
       "        text-align: right;\n",
       "    }\n",
       "</style>\n",
       "<table border=\"1\" class=\"dataframe\">\n",
       "  <thead>\n",
       "    <tr style=\"text-align: right;\">\n",
       "      <th></th>\n",
       "      <th>song</th>\n",
       "      <th>lyrics</th>\n",
       "      <th>title</th>\n",
       "      <th>views</th>\n",
       "    </tr>\n",
       "  </thead>\n",
       "  <tbody>\n",
       "    <tr>\n",
       "      <th>0</th>\n",
       "      <td>Kendrick-lamar-swimming-pools-drank-lyrics</td>\n",
       "      <td>\\n\\n[Produced by T-Minus]\\n\\n[Intro]\\nPour up ...</td>\n",
       "      <td>Swimming Pools (Drank)</td>\n",
       "      <td>5589280.0</td>\n",
       "    </tr>\n",
       "    <tr>\n",
       "      <th>1</th>\n",
       "      <td>Kendrick-lamar-money-trees-lyrics</td>\n",
       "      <td>\\n\\n[Produced by DJ Dahi]\\n\\n[Verse 1: Kendric...</td>\n",
       "      <td>Money Trees</td>\n",
       "      <td>4592003.0</td>\n",
       "    </tr>\n",
       "    <tr>\n",
       "      <th>2</th>\n",
       "      <td>Kendrick-lamar-xxx-lyrics</td>\n",
       "      <td>\\n\\n[Intro: Bēkon &amp; Kid Capri]\\nAmerica, God b...</td>\n",
       "      <td>XXX.</td>\n",
       "      <td>4651514.0</td>\n",
       "    </tr>\n",
       "    <tr>\n",
       "      <th>3</th>\n",
       "      <td>A-ap-rocky-fuckin-problems-lyrics</td>\n",
       "      <td>\\n\\n[Chorus: 2 Chainz, Drake &amp; Both (A$AP Rock...</td>\n",
       "      <td>Fuckin’ Problems</td>\n",
       "      <td>7378309.0</td>\n",
       "    </tr>\n",
       "    <tr>\n",
       "      <th>4</th>\n",
       "      <td>Kendrick-lamar-dna-lyrics</td>\n",
       "      <td>\\n\\n[Verse 1]\\nI got, I got, I got, I got—\\nLo...</td>\n",
       "      <td>DNA.</td>\n",
       "      <td>5113687.0</td>\n",
       "    </tr>\n",
       "  </tbody>\n",
       "</table>\n",
       "</div>"
      ],
      "text/plain": [
       "                                         song  \\\n",
       "0  Kendrick-lamar-swimming-pools-drank-lyrics   \n",
       "1           Kendrick-lamar-money-trees-lyrics   \n",
       "2                   Kendrick-lamar-xxx-lyrics   \n",
       "3           A-ap-rocky-fuckin-problems-lyrics   \n",
       "4                   Kendrick-lamar-dna-lyrics   \n",
       "\n",
       "                                              lyrics                   title  \\\n",
       "0  \\n\\n[Produced by T-Minus]\\n\\n[Intro]\\nPour up ...  Swimming Pools (Drank)   \n",
       "1  \\n\\n[Produced by DJ Dahi]\\n\\n[Verse 1: Kendric...             Money Trees   \n",
       "2  \\n\\n[Intro: Bēkon & Kid Capri]\\nAmerica, God b...                    XXX.   \n",
       "3  \\n\\n[Chorus: 2 Chainz, Drake & Both (A$AP Rock...        Fuckin’ Problems   \n",
       "4  \\n\\n[Verse 1]\\nI got, I got, I got, I got—\\nLo...                    DNA.   \n",
       "\n",
       "       views  \n",
       "0  5589280.0  \n",
       "1  4592003.0  \n",
       "2  4651514.0  \n",
       "3  7378309.0  \n",
       "4  5113687.0  "
      ]
     },
     "execution_count": 12,
     "metadata": {},
     "output_type": "execute_result"
    }
   ],
   "source": [
    "raw_combined_df.head()"
   ]
  },
  {
   "attachments": {},
   "cell_type": "markdown",
   "metadata": {},
   "source": [
    "## Cleaning the Lyrics"
   ]
  },
  {
   "cell_type": "code",
   "execution_count": 13,
   "metadata": {},
   "outputs": [],
   "source": [
    "raw_combined_df['cleaned_lyrics'] = raw_combined_df['lyrics'].apply(utils.clean_lyrics)"
   ]
  },
  {
   "cell_type": "code",
   "execution_count": 14,
   "metadata": {},
   "outputs": [
    {
     "data": {
      "text/html": [
       "<div>\n",
       "<style scoped>\n",
       "    .dataframe tbody tr th:only-of-type {\n",
       "        vertical-align: middle;\n",
       "    }\n",
       "\n",
       "    .dataframe tbody tr th {\n",
       "        vertical-align: top;\n",
       "    }\n",
       "\n",
       "    .dataframe thead th {\n",
       "        text-align: right;\n",
       "    }\n",
       "</style>\n",
       "<table border=\"1\" class=\"dataframe\">\n",
       "  <thead>\n",
       "    <tr style=\"text-align: right;\">\n",
       "      <th></th>\n",
       "      <th>song</th>\n",
       "      <th>lyrics</th>\n",
       "      <th>title</th>\n",
       "      <th>views</th>\n",
       "      <th>cleaned_lyrics</th>\n",
       "    </tr>\n",
       "  </thead>\n",
       "  <tbody>\n",
       "    <tr>\n",
       "      <th>0</th>\n",
       "      <td>Kendrick-lamar-swimming-pools-drank-lyrics</td>\n",
       "      <td>\\n\\n[Produced by T-Minus]\\n\\n[Intro]\\nPour up ...</td>\n",
       "      <td>Swimming Pools (Drank)</td>\n",
       "      <td>5589280.0</td>\n",
       "      <td>pour up drank head shot drank sit down drank ...</td>\n",
       "    </tr>\n",
       "    <tr>\n",
       "      <th>1</th>\n",
       "      <td>Kendrick-lamar-money-trees-lyrics</td>\n",
       "      <td>\\n\\n[Produced by DJ Dahi]\\n\\n[Verse 1: Kendric...</td>\n",
       "      <td>Money Trees</td>\n",
       "      <td>4592003.0</td>\n",
       "      <td>uh me and my niggas tryna get it ya bish ya b...</td>\n",
       "    </tr>\n",
       "    <tr>\n",
       "      <th>2</th>\n",
       "      <td>Kendrick-lamar-xxx-lyrics</td>\n",
       "      <td>\\n\\n[Intro: Bēkon &amp; Kid Capri]\\nAmerica, God b...</td>\n",
       "      <td>XXX.</td>\n",
       "      <td>4651514.0</td>\n",
       "      <td>america god bless you if its good to you amer...</td>\n",
       "    </tr>\n",
       "    <tr>\n",
       "      <th>3</th>\n",
       "      <td>A-ap-rocky-fuckin-problems-lyrics</td>\n",
       "      <td>\\n\\n[Chorus: 2 Chainz, Drake &amp; Both (A$AP Rock...</td>\n",
       "      <td>Fuckin’ Problems</td>\n",
       "      <td>7378309.0</td>\n",
       "      <td>i love bad bitches thats my fuckin problem an...</td>\n",
       "    </tr>\n",
       "    <tr>\n",
       "      <th>4</th>\n",
       "      <td>Kendrick-lamar-dna-lyrics</td>\n",
       "      <td>\\n\\n[Verse 1]\\nI got, I got, I got, I got—\\nLo...</td>\n",
       "      <td>DNA.</td>\n",
       "      <td>5113687.0</td>\n",
       "      <td>i got i got i got i got loyalty got royalty i...</td>\n",
       "    </tr>\n",
       "  </tbody>\n",
       "</table>\n",
       "</div>"
      ],
      "text/plain": [
       "                                         song  \\\n",
       "0  Kendrick-lamar-swimming-pools-drank-lyrics   \n",
       "1           Kendrick-lamar-money-trees-lyrics   \n",
       "2                   Kendrick-lamar-xxx-lyrics   \n",
       "3           A-ap-rocky-fuckin-problems-lyrics   \n",
       "4                   Kendrick-lamar-dna-lyrics   \n",
       "\n",
       "                                              lyrics                   title  \\\n",
       "0  \\n\\n[Produced by T-Minus]\\n\\n[Intro]\\nPour up ...  Swimming Pools (Drank)   \n",
       "1  \\n\\n[Produced by DJ Dahi]\\n\\n[Verse 1: Kendric...             Money Trees   \n",
       "2  \\n\\n[Intro: Bēkon & Kid Capri]\\nAmerica, God b...                    XXX.   \n",
       "3  \\n\\n[Chorus: 2 Chainz, Drake & Both (A$AP Rock...        Fuckin’ Problems   \n",
       "4  \\n\\n[Verse 1]\\nI got, I got, I got, I got—\\nLo...                    DNA.   \n",
       "\n",
       "       views                                     cleaned_lyrics  \n",
       "0  5589280.0   pour up drank head shot drank sit down drank ...  \n",
       "1  4592003.0   uh me and my niggas tryna get it ya bish ya b...  \n",
       "2  4651514.0   america god bless you if its good to you amer...  \n",
       "3  7378309.0   i love bad bitches thats my fuckin problem an...  \n",
       "4  5113687.0   i got i got i got i got loyalty got royalty i...  "
      ]
     },
     "metadata": {},
     "output_type": "display_data"
    },
    {
     "data": {
      "text/plain": [
       "(37905, 5)"
      ]
     },
     "execution_count": 14,
     "metadata": {},
     "output_type": "execute_result"
    }
   ],
   "source": [
    "display(raw_combined_df.head()),\n",
    "raw_combined_df.shape"
   ]
  },
  {
   "attachments": {},
   "cell_type": "markdown",
   "metadata": {},
   "source": [
    "# Detecting Language"
   ]
  },
  {
   "attachments": {},
   "cell_type": "markdown",
   "metadata": {},
   "source": [
    "Decided to use a pretrained Fasttext model trained for language detection. This is model performs faster than the Spacy language detection model. \n",
    "Fasttext Language detection model found [here](https://dl.fbaipublicfiles.com/fasttext/supervised-models/lid.176.bin)"
   ]
  },
  {
   "cell_type": "code",
   "execution_count": 25,
   "metadata": {},
   "outputs": [],
   "source": [
    "from tqdm import tqdm\n",
    "import fasttext\n",
    "\n",
    "language = []\n",
    "path_to_pretrained_model = utils.get_datapath('data') / 'language_detect' / 'lid.176.bin'\n"
   ]
  },
  {
   "cell_type": "code",
   "execution_count": 27,
   "metadata": {},
   "outputs": [
    {
     "name": "stderr",
     "output_type": "stream",
     "text": [
      "Warning : `load_model` does not return WordVectorModel or SupervisedModel any more, but a `FastText` object which is very similar.\n"
     ]
    }
   ],
   "source": [
    "# Model for language detection.\n",
    "fmodel = fasttext.load_model(str(path_to_pretrained_model))\n"
   ]
  },
  {
   "cell_type": "code",
   "execution_count": 34,
   "metadata": {},
   "outputs": [
    {
     "name": "stderr",
     "output_type": "stream",
     "text": [
      "100%|██████████| 37905/37905 [00:03<00:00, 9743.64it/s] \n"
     ]
    }
   ],
   "source": [
    "language = []\n",
    "\n",
    "for lyric in tqdm(raw_combined_df['cleaned_lyrics']):\n",
    "    # fasttext model.predict returns a tuple of the language label and a score. \n",
    "    # The language label is another tuple, where the 0 index is the actual language label itself.\n",
    "    # This label is in the format '__label__en'. So need to index the last two characters to get the actual language. \n",
    "    \n",
    "    language.append(fmodel.predict(lyric)[0][0][-2:])\n",
    "    \n"
   ]
  },
  {
   "cell_type": "code",
   "execution_count": 39,
   "metadata": {},
   "outputs": [
    {
     "data": {
      "text/plain": [
       "26"
      ]
     },
     "execution_count": 39,
     "metadata": {},
     "output_type": "execute_result"
    }
   ],
   "source": [
    "# Number of unique languages\n",
    "len(np.unique(np.array(language)))"
   ]
  },
  {
   "cell_type": "code",
   "execution_count": 40,
   "metadata": {},
   "outputs": [],
   "source": [
    "raw_combined_df['language'] = language"
   ]
  },
  {
   "attachments": {},
   "cell_type": "markdown",
   "metadata": {},
   "source": [
    "# Exploring Views and Splitting Views"
   ]
  },
  {
   "attachments": {},
   "cell_type": "markdown",
   "metadata": {},
   "source": [
    "We will split the views based on how the distribution of the views look like. "
   ]
  },
  {
   "cell_type": "code",
   "execution_count": 13,
   "metadata": {},
   "outputs": [
    {
     "data": {
      "image/png": "[encoded data removed]",
      "text/plain": [
       "<Figure size 640x480 with 1 Axes>"
      ]
     },
     "metadata": {},
     "output_type": "display_data"
    }
   ],
   "source": [
    "plt.hist(raw_combined_df['views'], bins=100);"
   ]
  },
  {
   "cell_type": "code",
   "execution_count": 14,
   "metadata": {},
   "outputs": [
    {
     "data": {
      "image/png": "[encoded data removed]",
      "text/plain": [
       "<Figure size 640x480 with 1 Axes>"
      ]
     },
     "metadata": {},
     "output_type": "display_data"
    }
   ],
   "source": [
    "plt.figure()\n",
    "plt.scatter(x=raw_combined_df.index, y=raw_combined_df['views'], s=1)\n",
    "plt.title('Song views for every song'.title())\n",
    "plt.show()"
   ]
  },
  {
   "cell_type": "code",
   "execution_count": 15,
   "metadata": {},
   "outputs": [
    {
     "data": {
      "image/png": "[encoded data removed]",
      "text/plain": [
       "<Figure size 640x480 with 1 Axes>"
      ]
     },
     "metadata": {},
     "output_type": "display_data"
    }
   ],
   "source": [
    "plt.figure()\n",
    "plt.hist(np.log(raw_combined_df['views']), bins=100)\n",
    "plt.title('Distribution of ln(views)'.title())\n",
    "plt.show()"
   ]
  },
  {
   "cell_type": "code",
   "execution_count": 45,
   "metadata": {},
   "outputs": [
    {
     "data": {
      "text/html": [
       "<div>\n",
       "<style scoped>\n",
       "    .dataframe tbody tr th:only-of-type {\n",
       "        vertical-align: middle;\n",
       "    }\n",
       "\n",
       "    .dataframe tbody tr th {\n",
       "        vertical-align: top;\n",
       "    }\n",
       "\n",
       "    .dataframe thead th {\n",
       "        text-align: right;\n",
       "    }\n",
       "</style>\n",
       "<table border=\"1\" class=\"dataframe\">\n",
       "  <thead>\n",
       "    <tr style=\"text-align: right;\">\n",
       "      <th></th>\n",
       "      <th>song</th>\n",
       "      <th>lyrics</th>\n",
       "      <th>title</th>\n",
       "      <th>views</th>\n",
       "      <th>cleaned_lyrics</th>\n",
       "      <th>language</th>\n",
       "      <th>log_scaled_views</th>\n",
       "    </tr>\n",
       "  </thead>\n",
       "  <tbody>\n",
       "    <tr>\n",
       "      <th>0</th>\n",
       "      <td>Kendrick-lamar-swimming-pools-drank-lyrics</td>\n",
       "      <td>\\n\\n[Produced by T-Minus]\\n\\n[Intro]\\nPour up ...</td>\n",
       "      <td>Swimming Pools (Drank)</td>\n",
       "      <td>5589280.0</td>\n",
       "      <td>pour up drank head shot drank sit down drank ...</td>\n",
       "      <td>en</td>\n",
       "      <td>15.536361</td>\n",
       "    </tr>\n",
       "    <tr>\n",
       "      <th>1</th>\n",
       "      <td>Kendrick-lamar-money-trees-lyrics</td>\n",
       "      <td>\\n\\n[Produced by DJ Dahi]\\n\\n[Verse 1: Kendric...</td>\n",
       "      <td>Money Trees</td>\n",
       "      <td>4592003.0</td>\n",
       "      <td>uh me and my niggas tryna get it ya bish ya b...</td>\n",
       "      <td>en</td>\n",
       "      <td>15.339827</td>\n",
       "    </tr>\n",
       "    <tr>\n",
       "      <th>2</th>\n",
       "      <td>Kendrick-lamar-xxx-lyrics</td>\n",
       "      <td>\\n\\n[Intro: Bēkon &amp; Kid Capri]\\nAmerica, God b...</td>\n",
       "      <td>XXX.</td>\n",
       "      <td>4651514.0</td>\n",
       "      <td>america god bless you if its good to you amer...</td>\n",
       "      <td>en</td>\n",
       "      <td>15.352703</td>\n",
       "    </tr>\n",
       "    <tr>\n",
       "      <th>3</th>\n",
       "      <td>A-ap-rocky-fuckin-problems-lyrics</td>\n",
       "      <td>\\n\\n[Chorus: 2 Chainz, Drake &amp; Both (A$AP Rock...</td>\n",
       "      <td>Fuckin’ Problems</td>\n",
       "      <td>7378309.0</td>\n",
       "      <td>i love bad bitches thats my fuckin problem an...</td>\n",
       "      <td>en</td>\n",
       "      <td>15.814055</td>\n",
       "    </tr>\n",
       "    <tr>\n",
       "      <th>4</th>\n",
       "      <td>Kendrick-lamar-dna-lyrics</td>\n",
       "      <td>\\n\\n[Verse 1]\\nI got, I got, I got, I got—\\nLo...</td>\n",
       "      <td>DNA.</td>\n",
       "      <td>5113687.0</td>\n",
       "      <td>i got i got i got i got loyalty got royalty i...</td>\n",
       "      <td>en</td>\n",
       "      <td>15.447431</td>\n",
       "    </tr>\n",
       "  </tbody>\n",
       "</table>\n",
       "</div>"
      ],
      "text/plain": [
       "                                         song  \\\n",
       "0  Kendrick-lamar-swimming-pools-drank-lyrics   \n",
       "1           Kendrick-lamar-money-trees-lyrics   \n",
       "2                   Kendrick-lamar-xxx-lyrics   \n",
       "3           A-ap-rocky-fuckin-problems-lyrics   \n",
       "4                   Kendrick-lamar-dna-lyrics   \n",
       "\n",
       "                                              lyrics                   title  \\\n",
       "0  \\n\\n[Produced by T-Minus]\\n\\n[Intro]\\nPour up ...  Swimming Pools (Drank)   \n",
       "1  \\n\\n[Produced by DJ Dahi]\\n\\n[Verse 1: Kendric...             Money Trees   \n",
       "2  \\n\\n[Intro: Bēkon & Kid Capri]\\nAmerica, God b...                    XXX.   \n",
       "3  \\n\\n[Chorus: 2 Chainz, Drake & Both (A$AP Rock...        Fuckin’ Problems   \n",
       "4  \\n\\n[Verse 1]\\nI got, I got, I got, I got—\\nLo...                    DNA.   \n",
       "\n",
       "       views                                     cleaned_lyrics language  \\\n",
       "0  5589280.0   pour up drank head shot drank sit down drank ...       en   \n",
       "1  4592003.0   uh me and my niggas tryna get it ya bish ya b...       en   \n",
       "2  4651514.0   america god bless you if its good to you amer...       en   \n",
       "3  7378309.0   i love bad bitches thats my fuckin problem an...       en   \n",
       "4  5113687.0   i got i got i got i got loyalty got royalty i...       en   \n",
       "\n",
       "   log_scaled_views  \n",
       "0         15.536361  \n",
       "1         15.339827  \n",
       "2         15.352703  \n",
       "3         15.814055  \n",
       "4         15.447431  "
      ]
     },
     "execution_count": 45,
     "metadata": {},
     "output_type": "execute_result"
    }
   ],
   "source": [
    "raw_combined_df['log_scaled_views'] = np.log(raw_combined_df['views'])\n",
    "raw_combined_df.head()"
   ]
  },
  {
   "cell_type": "code",
   "execution_count": 46,
   "metadata": {},
   "outputs": [],
   "source": [
    "raw_combined_df['popular'] = pd.cut(\n",
    "    raw_combined_df['log_scaled_views'], \n",
    "    bins = [0,raw_combined_df['log_scaled_views'].median(), raw_combined_df['log_scaled_views'].max()], \n",
    "    labels = [0,1]\n",
    "    )"
   ]
  },
  {
   "cell_type": "code",
   "execution_count": 47,
   "metadata": {},
   "outputs": [
    {
     "data": {
      "text/plain": [
       "0    18953\n",
       "1    18952\n",
       "Name: popular, dtype: int64"
      ]
     },
     "execution_count": 47,
     "metadata": {},
     "output_type": "execute_result"
    }
   ],
   "source": [
    "raw_combined_df['popular'].value_counts()"
   ]
  },
  {
   "cell_type": "code",
   "execution_count": 48,
   "metadata": {},
   "outputs": [],
   "source": [
    "raw_combined_df['popularity'] = pd.cut(\n",
    "    raw_combined_df['log_scaled_views'], \n",
    "    bins = [\n",
    "        0,\n",
    "        raw_combined_df['log_scaled_views'].quantile(q=0.33), \n",
    "        raw_combined_df['log_scaled_views'].quantile(q=0.66),\n",
    "        raw_combined_df['log_scaled_views'].max()\n",
    "    ],\n",
    "    labels=[0,1,2]\n",
    "    )"
   ]
  },
  {
   "cell_type": "code",
   "execution_count": 49,
   "metadata": {},
   "outputs": [
    {
     "data": {
      "text/plain": [
       "2    12887\n",
       "0    12509\n",
       "1    12509\n",
       "Name: popularity, dtype: int64"
      ]
     },
     "execution_count": 49,
     "metadata": {},
     "output_type": "execute_result"
    }
   ],
   "source": [
    "raw_combined_df['popularity'].value_counts()"
   ]
  },
  {
   "attachments": {},
   "cell_type": "markdown",
   "metadata": {},
   "source": [
    "Separating Popularity by Standard Deviation."
   ]
  },
  {
   "cell_type": "code",
   "execution_count": 50,
   "metadata": {},
   "outputs": [],
   "source": [
    "std = raw_combined_df.log_scaled_views.std()\n",
    "mean = raw_combined_df.log_scaled_views.mean()"
   ]
  },
  {
   "cell_type": "code",
   "execution_count": 51,
   "metadata": {},
   "outputs": [],
   "source": [
    "upper_range = mean + std"
   ]
  },
  {
   "cell_type": "code",
   "execution_count": 52,
   "metadata": {},
   "outputs": [],
   "source": [
    "lower_range = mean - std"
   ]
  },
  {
   "cell_type": "code",
   "execution_count": 53,
   "metadata": {},
   "outputs": [],
   "source": [
    "raw_combined_df['popularity_std'] = pd.cut(\n",
    "    raw_combined_df['log_scaled_views'], \n",
    "    bins = [\n",
    "        0,\n",
    "        lower_range, \n",
    "        upper_range,\n",
    "        raw_combined_df['log_scaled_views'].max()\n",
    "    ],\n",
    "    labels=[0,1,2]\n",
    ")"
   ]
  },
  {
   "cell_type": "code",
   "execution_count": 54,
   "metadata": {},
   "outputs": [],
   "source": [
    "english_songs_df = raw_combined_df[\n",
    "    raw_combined_df['language'] == 'en'\n",
    "]"
   ]
  },
  {
   "cell_type": "code",
   "execution_count": 57,
   "metadata": {},
   "outputs": [
    {
     "data": {
      "text/html": [
       "<div>\n",
       "<style scoped>\n",
       "    .dataframe tbody tr th:only-of-type {\n",
       "        vertical-align: middle;\n",
       "    }\n",
       "\n",
       "    .dataframe tbody tr th {\n",
       "        vertical-align: top;\n",
       "    }\n",
       "\n",
       "    .dataframe thead th {\n",
       "        text-align: right;\n",
       "    }\n",
       "</style>\n",
       "<table border=\"1\" class=\"dataframe\">\n",
       "  <thead>\n",
       "    <tr style=\"text-align: right;\">\n",
       "      <th></th>\n",
       "      <th>song</th>\n",
       "      <th>lyrics</th>\n",
       "      <th>title</th>\n",
       "      <th>views</th>\n",
       "      <th>cleaned_lyrics</th>\n",
       "      <th>language</th>\n",
       "      <th>log_scaled_views</th>\n",
       "      <th>popular</th>\n",
       "      <th>popularity</th>\n",
       "      <th>popularity_std</th>\n",
       "    </tr>\n",
       "  </thead>\n",
       "  <tbody>\n",
       "    <tr>\n",
       "      <th>0</th>\n",
       "      <td>Kendrick-lamar-swimming-pools-drank-lyrics</td>\n",
       "      <td>\\n\\n[Produced by T-Minus]\\n\\n[Intro]\\nPour up ...</td>\n",
       "      <td>Swimming Pools (Drank)</td>\n",
       "      <td>5589280.0</td>\n",
       "      <td>pour up drank head shot drank sit down drank ...</td>\n",
       "      <td>en</td>\n",
       "      <td>15.536361</td>\n",
       "      <td>1</td>\n",
       "      <td>2</td>\n",
       "      <td>2</td>\n",
       "    </tr>\n",
       "    <tr>\n",
       "      <th>1</th>\n",
       "      <td>Kendrick-lamar-money-trees-lyrics</td>\n",
       "      <td>\\n\\n[Produced by DJ Dahi]\\n\\n[Verse 1: Kendric...</td>\n",
       "      <td>Money Trees</td>\n",
       "      <td>4592003.0</td>\n",
       "      <td>uh me and my niggas tryna get it ya bish ya b...</td>\n",
       "      <td>en</td>\n",
       "      <td>15.339827</td>\n",
       "      <td>1</td>\n",
       "      <td>2</td>\n",
       "      <td>2</td>\n",
       "    </tr>\n",
       "    <tr>\n",
       "      <th>2</th>\n",
       "      <td>Kendrick-lamar-xxx-lyrics</td>\n",
       "      <td>\\n\\n[Intro: Bēkon &amp; Kid Capri]\\nAmerica, God b...</td>\n",
       "      <td>XXX.</td>\n",
       "      <td>4651514.0</td>\n",
       "      <td>america god bless you if its good to you amer...</td>\n",
       "      <td>en</td>\n",
       "      <td>15.352703</td>\n",
       "      <td>1</td>\n",
       "      <td>2</td>\n",
       "      <td>2</td>\n",
       "    </tr>\n",
       "    <tr>\n",
       "      <th>3</th>\n",
       "      <td>A-ap-rocky-fuckin-problems-lyrics</td>\n",
       "      <td>\\n\\n[Chorus: 2 Chainz, Drake &amp; Both (A$AP Rock...</td>\n",
       "      <td>Fuckin’ Problems</td>\n",
       "      <td>7378309.0</td>\n",
       "      <td>i love bad bitches thats my fuckin problem an...</td>\n",
       "      <td>en</td>\n",
       "      <td>15.814055</td>\n",
       "      <td>1</td>\n",
       "      <td>2</td>\n",
       "      <td>2</td>\n",
       "    </tr>\n",
       "    <tr>\n",
       "      <th>4</th>\n",
       "      <td>Kendrick-lamar-dna-lyrics</td>\n",
       "      <td>\\n\\n[Verse 1]\\nI got, I got, I got, I got—\\nLo...</td>\n",
       "      <td>DNA.</td>\n",
       "      <td>5113687.0</td>\n",
       "      <td>i got i got i got i got loyalty got royalty i...</td>\n",
       "      <td>en</td>\n",
       "      <td>15.447431</td>\n",
       "      <td>1</td>\n",
       "      <td>2</td>\n",
       "      <td>2</td>\n",
       "    </tr>\n",
       "  </tbody>\n",
       "</table>\n",
       "</div>"
      ],
      "text/plain": [
       "                                         song  \\\n",
       "0  Kendrick-lamar-swimming-pools-drank-lyrics   \n",
       "1           Kendrick-lamar-money-trees-lyrics   \n",
       "2                   Kendrick-lamar-xxx-lyrics   \n",
       "3           A-ap-rocky-fuckin-problems-lyrics   \n",
       "4                   Kendrick-lamar-dna-lyrics   \n",
       "\n",
       "                                              lyrics                   title  \\\n",
       "0  \\n\\n[Produced by T-Minus]\\n\\n[Intro]\\nPour up ...  Swimming Pools (Drank)   \n",
       "1  \\n\\n[Produced by DJ Dahi]\\n\\n[Verse 1: Kendric...             Money Trees   \n",
       "2  \\n\\n[Intro: Bēkon & Kid Capri]\\nAmerica, God b...                    XXX.   \n",
       "3  \\n\\n[Chorus: 2 Chainz, Drake & Both (A$AP Rock...        Fuckin’ Problems   \n",
       "4  \\n\\n[Verse 1]\\nI got, I got, I got, I got—\\nLo...                    DNA.   \n",
       "\n",
       "       views                                     cleaned_lyrics language  \\\n",
       "0  5589280.0   pour up drank head shot drank sit down drank ...       en   \n",
       "1  4592003.0   uh me and my niggas tryna get it ya bish ya b...       en   \n",
       "2  4651514.0   america god bless you if its good to you amer...       en   \n",
       "3  7378309.0   i love bad bitches thats my fuckin problem an...       en   \n",
       "4  5113687.0   i got i got i got i got loyalty got royalty i...       en   \n",
       "\n",
       "   log_scaled_views popular popularity popularity_std  \n",
       "0         15.536361       1          2              2  \n",
       "1         15.339827       1          2              2  \n",
       "2         15.352703       1          2              2  \n",
       "3         15.814055       1          2              2  \n",
       "4         15.447431       1          2              2  "
      ]
     },
     "execution_count": 57,
     "metadata": {},
     "output_type": "execute_result"
    }
   ],
   "source": [
    "english_songs_df.head()"
   ]
  },
  {
   "cell_type": "code",
   "execution_count": 56,
   "metadata": {},
   "outputs": [],
   "source": [
    "english_songs_df.to_csv(DATA_PATH / 'clean_lyrics.csv')"
   ]
  }
 ],
 "metadata": {
  "kernelspec": {
   "display_name": "base",
   "language": "python",
   "name": "python3"
  },
  "language_info": {
   "codemirror_mode": {
    "name": "ipython",
    "version": 3
   },
   "file_extension": ".py",
   "mimetype": "text/x-python",
   "name": "python",
   "nbconvert_exporter": "python",
   "pygments_lexer": "ipython3",
   "version": "3.9.13"
  },
  "orig_nbformat": 4,
  "vscode": {
   "interpreter": {
    "hash": "b7b969017e21ea3fceb440bc3568f42d726fda0cedf260d07c9604e5a4a75144"
   }
  }
 },
 "nbformat": 4,
 "nbformat_minor": 2
}
