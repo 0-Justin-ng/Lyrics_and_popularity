{
 "cells": [
  {
   "cell_type": "code",
   "execution_count": 9,
   "metadata": {},
   "outputs": [],
   "source": [
    "import os\n",
    "import sys\n",
    "\n",
    "import spotipy\n",
    "from spotipy.oauth2 import SpotifyClientCredentials\n",
    "import pandas as pd \n",
    "import numpy as np \n",
    "\n",
    "module_path = os.path.abspath(os.path.join('..'))\n",
    "if module_path not in sys.path:\n",
    "    sys.path.append(module_path)\n",
    "\n",
    "from utilities import utils\n",
    "DATA_PATH = utils.get_datapath('data')"
   ]
  },
  {
   "cell_type": "code",
   "execution_count": 7,
   "metadata": {},
   "outputs": [],
   "source": [
    "# Stores the api keys used to access info from spotify. \n",
    "# Save your keys in api-key.txt with client_id and client_secret on their own lines.\n",
    "with open(DATA_PATH/ 'api-key.txt') as f:\n",
    "    api_keys = {\n",
    "        key_type: key_value\n",
    "        for key_type, key_value in zip(['client_id', 'client_secret'], f.readlines())\n",
    "    }\n",
    "    \n",
    "       "
   ]
  },
  {
   "cell_type": "code",
   "execution_count": 10,
   "metadata": {},
   "outputs": [],
   "source": [
    "credential_manager = SpotifyClientCredentials(\n",
    "    client_id=api_keys['client_id'],\n",
    "    client_secret=api_keys['client_secret']\n",
    ")\n",
    "\n",
    "sp = spotipy.Spotify(client_credentials_manager=credential_manager)"
   ]
  },
  {
   "cell_type": "code",
   "execution_count": null,
   "metadata": {},
   "outputs": [],
   "source": []
  }
 ],
 "metadata": {
  "kernelspec": {
   "display_name": "base",
   "language": "python",
   "name": "python3"
  },
  "language_info": {
   "codemirror_mode": {
    "name": "ipython",
    "version": 3
   },
   "file_extension": ".py",
   "mimetype": "text/x-python",
   "name": "python",
   "nbconvert_exporter": "python",
   "pygments_lexer": "ipython3",
   "version": "3.9.13"
  },
  "orig_nbformat": 4
 },
 "nbformat": 4,
 "nbformat_minor": 2
}
